{
 "cells": [
  {
   "cell_type": "markdown",
   "id": "e129ede5",
   "metadata": {},
   "source": [
    "   # Hello FLARE API"
   ]
  },
  {
   "cell_type": "markdown",
   "id": "9bf7e391",
   "metadata": {},
   "source": [
    "In this notebook, we go through the different commands of the FLARE API to show the syntax and usage of each."
   ]
  },
  {
   "cell_type": "markdown",
   "id": "bbca0050",
   "metadata": {},
   "source": [
    "### 1. Install NVIDIA FLARE and Provision an FL System\n",
    "\n",
    "For this notebook, we will need a running NVFLARE project that we can connect to. Follow the [Installation](https://nvflare.readthedocs.io/en/main/getting_started.html#installation) instructions to set up an environment that has NVIDIA FLARE installed if you do not have one already.\n",
    "\n",
    "Feel free to use an existing provisioned NVFLARE project if you have that available.\n",
    "\n",
    "To try things out, you could set up and start a system in [POC mode](https://nvflare.readthedocs.io/en/main/getting_started.html#setting-up-the-application-environment-in-poc-mode), but note that you will need to use `new_insecure_session()` with the startup kit location as the only argument instead of `new_secure_session()`."
   ]
  },
  {
   "cell_type": "markdown",
   "id": "e5d7e675",
   "metadata": {},
   "source": [
    "### 2. Start the FL System\n",
    "\n",
    "Use the 'start.sh' scripts in the server and client startup kits to start the server and clients."
   ]
  },
  {
   "cell_type": "markdown",
   "id": "6fe3165d",
   "metadata": {},
   "source": [
    "### 3. Connect to the FL System with the FLARE API and Get System Info\n",
    "\n",
    "Use `new_secure_session()` to initiate a session connecting to the FL Server with the FLARE API. The necessary arguments are the username of the admin user you are using and the corresponding startup kit location (if you are using POC mode, you will need to use `new_insecure_session()` with the startup kit location as the only argument).\n",
    "\n",
    "In the code example below, we get the `admin_user_dir` by concatenating the workspace root with the default directories that are created if you provision a project with a given project name. The assumption is that 'nvflare provision' has been run in a workspace set to '/workspace' to set up a project named `hello-example` with a server and two clients. You can change the workspace location and the project name to what applies for your environment if needed.\n",
    "\n",
    "Note that if debug mode is not enabled, there is no output after initiating a session successfully, so instead we print the output of `get_system_info()`.\n",
    "\n",
    "The `get_system_info()` command does not take any arguments, and returns a SystemInfo object consisting of server_info (server status and start time), client_info (each connected client and the last connect time for that client), and job_info (the list of current jobs with the job_id and app_name).\n",
    "\n",
    "If you are unable to connect and initiate a session, make sure that your FL Server is running and that the configurations are correct with the right path to the admin startup kit directory."
   ]
  },
  {
   "cell_type": "code",
   "execution_count": 22,
   "id": "c3dbde69",
   "metadata": {},
   "outputs": [
    {
     "name": "stdout",
     "output_type": "stream",
     "text": [
      "SystemInfo\n",
      "server_info:\n",
      "status: stopped, start_time: Thu Jan 26 15:12:01 2023\n",
      "client_info:\n",
      "site_a(last_connect_time: Thu Jan 26 19:47:29 2023)\n",
      "site_b(last_connect_time: Thu Jan 26 19:47:30 2023)\n",
      "job_info:\n",
      "\n"
     ]
    }
   ],
   "source": [
    "import os\n",
    "from nvflare.fuel.flare_api.flare_api import new_secure_session\n",
    "\n",
    "project_name = \"hello-example\"\n",
    "username = \"admin@nvidia.com\"\n",
    "workspace_root = \"/workspace\"\n",
    "admin_user_dir = os.path.join(workspace_root, \"workspace\", project_name, \"prod_00\", username)\n",
    "\n",
    "sess = new_secure_session(\n",
    "    username=username,\n",
    "    startup_kit_location=admin_user_dir\n",
    ")\n",
    "print(sess.get_system_info())"
   ]
  },
  {
   "cell_type": "markdown",
   "id": "405edb37",
   "metadata": {},
   "source": [
    "### 4. Submit Job\n",
    "With a session successfully connected, you can use `submit_job()` to submit your job. You can change `path_to_example_job` to the location of the job you are submitting. Upon successful submission, the job_id is returned as a string."
   ]
  },
  {
   "cell_type": "code",
   "execution_count": 23,
   "id": "c8f08cef",
   "metadata": {},
   "outputs": [
    {
     "name": "stdout",
     "output_type": "stream",
     "text": [
      "81c48ff6-2b3a-46e8-a015-90f656a029c5 was submitted\n"
     ]
    }
   ],
   "source": [
    "path_to_example_job = \"/workspace/NVFlare/examples/hello-numpy-sag\"\n",
    "job_id = sess.submit_job(path_to_example_job)\n",
    "print(job_id + \" was submitted\")"
   ]
  },
  {
   "cell_type": "markdown",
   "id": "42317cf3",
   "metadata": {},
   "source": [
    "### 5. Monitor Job\n",
    "\n",
    "The command `monitor_job()` allows you to follow a job until the job is done.\n",
    "\n",
    "By default, `monitor_job()` only has one required arguement, the `job_id` of the job you are waiting for, and the default behavior is to wait until the job is complete before returning a Return Code of `JOB_FINISHED`.\n",
    "\n",
    "In order to follow along and see a more meaningful result and demonstrate some of the possibilities of using this function, the following cell contains a `sample_cb()` callback that keeps track of the number of times the callback is run and prints the `job_meta` the first three times and the final time before `monitor_job()` completes with every other call just printing a dot to save output space. This callback is just an example of what can be done with additional arguments and the `job_meta` information of the job that is being monitored. You can use logic to return a value other than True to conditionally stop `monitor_job()` and return `MonitorReturnCode.ENDED_BY_CB`."
   ]
  },
  {
   "cell_type": "code",
   "execution_count": 25,
   "id": "03fd93d0",
   "metadata": {},
   "outputs": [
    {
     "name": "stdout",
     "output_type": "stream",
     "text": [
      "{'name': 'hello-numpy-sag', 'job_folder_name': 'hello-numpy-sag', 'resource_spec': {}, 'deploy_map': {'hello-numpy-sag': ['@ALL']}, 'min_clients': 1, 'submitter_name': 'super@a.org', 'submitter_org': 'org_a', 'submitter_role': 'project_admin', 'job_id': '81c48ff6-2b3a-46e8-a015-90f656a029c5', 'submit_time': 1674780464.4234514, 'submit_time_iso': '2023-01-26T19:47:44.423451-05:00', 'start_time': '2023-01-26 19:47:46.114936', 'duration': 'N/A', 'status': 'RUNNING', 'job_deploy_detail': ['server: OK', 'site_a: OK', 'site_b: OK'], 'schedule_count': 1, 'last_schedule_time': 1674780465.0985308, 'schedule_history': ['2023-01-26 19:47:45: scheduled']}\n",
      "{'count': 0}\n",
      "{'name': 'hello-numpy-sag', 'job_folder_name': 'hello-numpy-sag', 'resource_spec': {}, 'deploy_map': {'hello-numpy-sag': ['@ALL']}, 'min_clients': 1, 'submitter_name': 'super@a.org', 'submitter_org': 'org_a', 'submitter_role': 'project_admin', 'job_id': '81c48ff6-2b3a-46e8-a015-90f656a029c5', 'submit_time': 1674780464.4234514, 'submit_time_iso': '2023-01-26T19:47:44.423451-05:00', 'start_time': '2023-01-26 19:47:46.114936', 'duration': 'N/A', 'status': 'RUNNING', 'job_deploy_detail': ['server: OK', 'site_a: OK', 'site_b: OK'], 'schedule_count': 1, 'last_schedule_time': 1674780465.0985308, 'schedule_history': ['2023-01-26 19:47:45: scheduled']}\n",
      "{'count': 1}\n",
      "{'name': 'hello-numpy-sag', 'job_folder_name': 'hello-numpy-sag', 'resource_spec': {}, 'deploy_map': {'hello-numpy-sag': ['@ALL']}, 'min_clients': 1, 'submitter_name': 'super@a.org', 'submitter_org': 'org_a', 'submitter_role': 'project_admin', 'job_id': '81c48ff6-2b3a-46e8-a015-90f656a029c5', 'submit_time': 1674780464.4234514, 'submit_time_iso': '2023-01-26T19:47:44.423451-05:00', 'start_time': '2023-01-26 19:47:46.114936', 'duration': 'N/A', 'status': 'RUNNING', 'job_deploy_detail': ['server: OK', 'site_a: OK', 'site_b: OK'], 'schedule_count': 1, 'last_schedule_time': 1674780465.0985308, 'schedule_history': ['2023-01-26 19:47:45: scheduled']}\n",
      "{'count': 2}\n",
      "................\n",
      "{'name': 'hello-numpy-sag', 'job_folder_name': 'hello-numpy-sag', 'resource_spec': {}, 'deploy_map': {'hello-numpy-sag': ['@ALL']}, 'min_clients': 1, 'submitter_name': 'super@a.org', 'submitter_org': 'org_a', 'submitter_role': 'project_admin', 'job_id': '81c48ff6-2b3a-46e8-a015-90f656a029c5', 'submit_time': 1674780464.4234514, 'submit_time_iso': '2023-01-26T19:47:44.423451-05:00', 'start_time': '2023-01-26 19:47:46.114936', 'duration': '0:00:47.791639', 'status': 'FINISHED:COMPLETED', 'job_deploy_detail': ['server: OK', 'site_a: OK', 'site_b: OK'], 'schedule_count': 1, 'last_schedule_time': 1674780465.0985308, 'schedule_history': ['2023-01-26 19:47:45: scheduled']}\n"
     ]
    },
    {
     "data": {
      "text/plain": [
       "<MonitorReturnCode.JOB_FINISHED: 0>"
      ]
     },
     "execution_count": 25,
     "metadata": {},
     "output_type": "execute_result"
    }
   ],
   "source": [
    "from nvflare.fuel.flare_api.flare_api import Session\n",
    "\n",
    "def sample_cb(\n",
    "        session: Session, job_id: str, job_meta, *cb_args, **cb_kwargs\n",
    "    ) -> bool:\n",
    "    if job_meta[\"status\"] == \"RUNNING\":\n",
    "        if cb_kwargs[\"cb_run_counter\"][\"count\"] < 3:\n",
    "            print(job_meta)\n",
    "            print(cb_kwargs[\"cb_run_counter\"])\n",
    "        else:\n",
    "            print(\".\", end=\"\")\n",
    "    else:\n",
    "        print(\"\\n\" + str(job_meta))\n",
    "    \n",
    "    cb_kwargs[\"cb_run_counter\"][\"count\"] += 1\n",
    "    return True\n",
    "\n",
    "sess.monitor_job(job_id, cb=sample_cb, cb_run_counter={\"count\":0})"
   ]
  },
  {
   "cell_type": "markdown",
   "id": "19a1fdfc",
   "metadata": {},
   "source": [
    "### 6. Get Job Meta\n",
    "\n",
    "To get the job meta information, you can use the `get_job_meta()` command. The only argument required for this command is the job id for the job you are getting the meta for. The job meta information will be returned as an object."
   ]
  },
  {
   "cell_type": "code",
   "execution_count": 26,
   "id": "0a9b0b73",
   "metadata": {},
   "outputs": [
    {
     "data": {
      "text/plain": [
       "{'name': 'hello-numpy-sag',\n",
       " 'job_folder_name': 'hello-numpy-sag',\n",
       " 'resource_spec': {},\n",
       " 'deploy_map': {'hello-numpy-sag': ['@ALL']},\n",
       " 'min_clients': 1,\n",
       " 'submitter_name': 'super@a.org',\n",
       " 'submitter_org': 'org_a',\n",
       " 'submitter_role': 'project_admin',\n",
       " 'job_id': '81c48ff6-2b3a-46e8-a015-90f656a029c5',\n",
       " 'submit_time': 1674780464.4234514,\n",
       " 'submit_time_iso': '2023-01-26T19:47:44.423451-05:00',\n",
       " 'start_time': '2023-01-26 19:47:46.114936',\n",
       " 'duration': '0:00:47.791639',\n",
       " 'status': 'FINISHED:COMPLETED',\n",
       " 'job_deploy_detail': ['server: OK', 'site_a: OK', 'site_b: OK'],\n",
       " 'schedule_count': 1,\n",
       " 'last_schedule_time': 1674780465.0985308,\n",
       " 'schedule_history': ['2023-01-26 19:47:45: scheduled']}"
      ]
     },
     "execution_count": 26,
     "metadata": {},
     "output_type": "execute_result"
    }
   ],
   "source": [
    "sess.get_job_meta(job_id)"
   ]
  },
  {
   "cell_type": "markdown",
   "id": "272bccab",
   "metadata": {},
   "source": [
    "### 7. List Jobs\n",
    "\n",
    "To get the information for what jobs have been submitted to the server, you can use the `list_jobs()` command. If no arguments are included, the defaults are False for both \"detailed\" and \"all\".\n",
    "\n",
    "Setting \"detailed\" to True will return more detailed information about each job.\n",
    "\n",
    "Setting \"all\" to True will return all the jobs that have been submitted to the server regardless of the submitting user. By default, only the jobs that have been submitted by the same user will show up for `list_jobs()`."
   ]
  },
  {
   "cell_type": "code",
   "execution_count": null,
   "id": "3fe50268",
   "metadata": {
    "tags": []
   },
   "outputs": [],
   "source": [
    "import json\n",
    "\n",
    "def format_json( data: dict): \n",
    "    print(json.dumps(data, sort_keys=True, indent=4,separators=(',', ': ')))\n",
    "\n",
    "list_jobs_output = sess.list_jobs()\n",
    "print(format_json(list_jobs_output))\n"
   ]
  },
  {
   "cell_type": "code",
   "execution_count": null,
   "id": "ae0f5c25",
   "metadata": {},
   "outputs": [],
   "source": [
    "\n",
    "list_jobs_output_detailed = sess.list_jobs(detailed=True)\n",
    "print(format_json(list_jobs_output_detailed))"
   ]
  },
  {
   "cell_type": "markdown",
   "id": "43ade87b",
   "metadata": {},
   "source": [
    "### 8. Download Job Result\n",
    "\n",
    "The `download_job_result()` command downloads the job result to the \"download_dir\" (this is usually set in fed_admin.json in the startup directory of the admin_user_dir used when launching the FLARE API Session, and this value is relative to the admin_user_dir). This command only has one required arguement, the `job_id` of the job result to download."
   ]
  },
  {
   "cell_type": "code",
   "execution_count": null,
   "id": "d43556bf",
   "metadata": {},
   "outputs": [],
   "source": [
    "sess.download_job_result(job_id)"
   ]
  },
  {
   "cell_type": "markdown",
   "id": "b7dced59",
   "metadata": {},
   "source": [
    "### 9. Clone Jobs\n",
    "\n",
    "To clone an existing job, you can use the `clone_job()` command. The `clone_job()` command only has one required arguement, the `job_id` of the job to clone."
   ]
  },
  {
   "cell_type": "code",
   "execution_count": null,
   "id": "512f7dc2",
   "metadata": {},
   "outputs": [],
   "source": [
    "sess.clone_job(job_id)"
   ]
  },
  {
   "cell_type": "markdown",
   "id": "4bfbcf71",
   "metadata": {},
   "source": [
    "### 10. Abort Job\n",
    "\n",
    "If training gets stuck or there is another reason to stop a running job, you can use the `abort_job()` command. The `abort_job()` command only has one required arguement, the `job_id` of the job to abort, and None is returned upon successfully issuing the command."
   ]
  },
  {
   "cell_type": "code",
   "execution_count": 40,
   "id": "187cb413",
   "metadata": {},
   "outputs": [
    {
     "name": "stdout",
     "output_type": "stream",
     "text": [
      "None\n"
     ]
    }
   ],
   "source": [
    "sess.abort_job(job_id)"
   ]
  },
  {
   "attachments": {},
   "cell_type": "markdown",
   "id": "4110775e",
   "metadata": {},
   "source": [
    "### 11. Delete Job\n",
    "\n",
    "You should be able to see the output in the terminals where you are running your FL Server and Clients when you submitted the job. You can also use `monitor_job()` to follow along and give you updates on the progress until the job is done.\n",
    "\n",
    "By default, `delete_job()` only has one required argument, the `job_id` of the job you are waiting for, and the default behavior is to return nothing if the command is successful. The command will raise a `JobNotDone` exception if the job is still running. "
   ]
  },
  {
   "cell_type": "code",
   "execution_count": 20,
   "id": "178a860b",
   "metadata": {},
   "outputs": [],
   "source": [
    "sess.delete_job(job_id)"
   ]
  },
  {
   "attachments": {},
   "cell_type": "markdown",
   "id": "f43f4831",
   "metadata": {},
   "source": [
    "### 12. All Other Commands\n",
    "\n",
    "For all other commands that do not have a specific FLARE API implementation, using ``api.do_command()`` should provide what the FLAdminAPI would have returned in the raw result."
   ]
  },
  {
   "cell_type": "code",
   "execution_count": 14,
   "id": "a84a4e89",
   "metadata": {},
   "outputs": [
    {
     "data": {
      "text/plain": [
       "{'status': <APIStatus.SUCCESS: 'SUCCESS'>,\n",
       " 'details': \"{'primary_sp': {'sp_end_point': 'server1:8002:8003', 'service_session_id': 'ebc6125d-0a56-4688-9b08-355fe9e4d61a', 'primary': True, 'state': 'online'}, 'sp_list': [{'sp_end_point': 'server1:8002:8003', 'service_session_id': 'ebc6125d-0a56-4688-9b08-355fe9e4d61a', 'primary': True, 'state': 'online'}], 'system': 'ready'}\",\n",
       " 'data': {'primary_sp': {'sp_end_point': 'server1:8002:8003',\n",
       "   'service_session_id': 'ebc6125d-0a56-4688-9b08-355fe9e4d61a',\n",
       "   'primary': True,\n",
       "   'state': 'online'},\n",
       "  'sp_list': [{'sp_end_point': 'server1:8002:8003',\n",
       "    'service_session_id': 'ebc6125d-0a56-4688-9b08-355fe9e4d61a',\n",
       "    'primary': True,\n",
       "    'state': 'online'}],\n",
       "  'system': 'ready'}}"
      ]
     },
     "execution_count": 14,
     "metadata": {},
     "output_type": "execute_result"
    }
   ],
   "source": [
    "sess.api.do_command(\"list_sp\")"
   ]
  }
 ],
 "metadata": {
  "kernelspec": {
   "display_name": "Python 3 (ipykernel)",
   "language": "python",
   "name": "python3"
  },
  "language_info": {
   "codemirror_mode": {
    "name": "ipython",
    "version": 3
   },
   "file_extension": ".py",
   "mimetype": "text/x-python",
   "name": "python",
   "nbconvert_exporter": "python",
   "pygments_lexer": "ipython3",
   "version": "3.8.16"
  },
  "vscode": {
   "interpreter": {
    "hash": "31f2aee4e71d21fbe5cf8b01ff0e069b9275f58929596ceb00d14d90e3e16cd6"
   }
  }
 },
 "nbformat": 4,
 "nbformat_minor": 5
}
