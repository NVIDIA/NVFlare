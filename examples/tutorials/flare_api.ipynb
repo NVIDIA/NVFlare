{
 "cells": [
  {
   "cell_type": "markdown",
   "id": "e129ede5",
   "metadata": {},
   "source": [
    "   # Hello FLARE API"
   ]
  },
  {
   "cell_type": "markdown",
   "id": "9bf7e391",
   "metadata": {},
   "source": [
    "In this notebook, we go through the different commands of the FLARE API to show the syntax and usage of each."
   ]
  },
  {
   "cell_type": "markdown",
   "id": "bbca0050",
   "metadata": {
    "tags": []
   },
   "source": [
    "### 1. Install NVIDIA FLARE and Provision an FL System\n",
    "\n",
    "For this notebook, we will need a running NVFLARE project that we can connect to. Follow the [Installation](https://nvflare.readthedocs.io/en/2.3/getting_started.html#installation) instructions to set up an environment that has NVIDIA FLARE installed if you do not have one already.\n",
    "\n",
    "Feel free to use an existing **provisioned** NVFLARE project if you have that available.\n",
    "\n"
   ]
  },
  {
   "cell_type": "markdown",
   "id": "e5d7e675",
   "metadata": {},
   "source": [
    "### 2. Provision the FL System\n",
    "\n",
    "Since we are using production system, we need to provision first. You can look at the [Provision in NVFLARE](https://nvflare.readthedocs.io/en/latest/programming_guide/provisioning_system.html)\n",
    "\n",
    "\n",
    "We are going to use ```/tmp/workspace``` as provision workspace\n",
    "\n",
    "We will just use the scripts to start/stop NVFLARE system from **terminal**\n",
    "\n",
    "* tu_pre_start.sh -- to provision and start FL system\n",
    "* tu_post_cleanup.sh -- to stop and cleanup FL system\n",
    " \n"
   ]
  },
  {
   "cell_type": "markdown",
   "id": "972e8b52-009a-49ea-884d-1cc031eb3fbb",
   "metadata": {},
   "source": [
    "\n",
    "### 3. Start the FL System\n",
    "\n",
    "Once you are in the **terminal**, make sure you are in the ```nvflare_example``` venv. you can setup this by \n",
    "\n",
    "```../set_env.sh```\n",
    "\n",
    "\n",
    "Use \n",
    "\n",
    "```./tu_pre_start.sh``` \n",
    "\n",
    "to start the FL system in local host for Non-HA, secure mode. If you running the scripts successfully, you should be able to see the output like below\n",
    "\n",
    "```\n",
    "  < ...skip output ...>\n",
    "  \n",
    "2023-03-31 18:54:57,887 - FederatedClient - INFO - Got engine after 0.5073049068450928 seconds\n",
    "2023-03-31 18:54:57,887 - FederatedClient - INFO - Got engine after 0.5075399875640869 seconds\n",
    "2023-03-31 18:54:57,887 - FederatedClient - INFO - Got the new primary SP: grpc://localhost:8002\n",
    "2023-03-31 18:54:57,887 - FederatedClient - INFO - Got the new primary SP: grpc://localhost:8002\n",
    "\n",
    "trying to connect to server\n",
    "Server info:\n",
    "status: stopped, start_time: Fri Mar 31 18:54:56 2023\n",
    "\n",
    "Client info\n",
    "site-1(last_connect_time: Fri Mar 31 18:55:07 2023)\n",
    "site-2(last_connect_time: Fri Mar 31 18:55:07 2023)\n",
    "ready to go\n",
    "\n",
    "```\n",
    "\n",
    "If you see this, **```ready to go```**, you are ready to go back to notebook and run the job. \n",
    "\n",
    "If the you getting errors, **avoid repeatedly run ./tu_pre_start.sh**, first you need to try to shutdown NVFLARE system, using\n",
    "\n",
    "```\n",
    "  ./tu_post_cleanup.sh \n",
    "```\n",
    "\n",
    "you can check if the nvflare system are shutdown cleanly. \n",
    "\n",
    "```\n",
    "     ps -eaf | grep nvflare\n",
    "     \n",
    "```\n",
    "If you seen the followings, then the nvflare systems are still running\n",
    "\n",
    "```\n",
    "\n",
    "510535    1932  1 18:54 pts/1    00:00:03 python3 -u -m nvflare.private.fed.app.client.client_train -m /tmp/workspace/example_project/prod_00/site-1/startup/.. -s fed_client.json --set secure_train=true uid=site-1 org=nvidia config_folder=config\n",
    "510539    1932  1 18:54 pts/1    00:00:03 python3 -u -m nvflare.private.fed.app.client.client_train -m /tmp/workspace/example_project/prod_00/site-2/startup/.. -s fed_client.json --set secure_train=true uid=site-2 org=nvidia config_folder=config\n",
    "510543    1932  1 18:54 pts/1    00:00:04 python3 -u -m nvflare.private.fed.app.server.server_train -m /tmp/workspace/example_project/prod_00/localhost/startup/.. -s fed_server.json --set secure_train=true org=nvidia config_folder=config\n",
    "\n",
    "```\n",
    "make sure they are cleared before you try to start the nvflare again.kill the process if needed. \n",
    "\n",
    "Once the NVFLARE system is up and running, then we are ready to check FL system status and runn jobs.\n",
    "\n"
   ]
  },
  {
   "cell_type": "markdown",
   "id": "6fe3165d",
   "metadata": {
    "tags": []
   },
   "source": [
    "### 4. Connect to the FL System with the FLARE API and Get System Info\n",
    "\n",
    "Use `new_secure_session()` to initiate a session connecting to the FL Server with the FLARE API. The necessary arguments are the username of the admin user you are using and the corresponding startup kit location (if you are using POC mode, you will need to use `new_insecure_session()` with the startup kit location as the only argument).\n",
    "\n",
    "In the code example below, we get the `admin_user_dir` by concatenating the workspace root with the default directories that are created if you provision a project with a given project name. The assumption is that 'nvflare provision' has been run in a workspace set to '/workspace' to set up a project named `hello-example` with a server and two clients. You can change the workspace location and the project name to what applies for your environment if needed.\n",
    "\n",
    "Note that if debug mode is not enabled, there is no output after initiating a session successfully, so instead we print the output of `get_system_info()`.\n",
    "\n",
    "The `get_system_info()` command does not take any arguments, and returns a SystemInfo object consisting of server_info (server status and start time), client_info (each connected client and the last connect time for that client), and job_info (the list of current jobs with the job_id and app_name).\n",
    "\n",
    "If you are unable to connect and initiate a session, make sure that your FL Server is running and that the configurations are correct with the right path to the admin startup kit directory.\n",
    "\n",
    "But first, we need to find out the startup kit parant directory, since we have \n",
    "prod_00, prod_01, etc. the following function will just do that and assign the directory to ```provision_dir``` "
   ]
  },
  {
   "cell_type": "code",
   "execution_count": null,
   "id": "4676b84a-b27b-460e-af86-de317b543ecf",
   "metadata": {
    "tags": []
   },
   "outputs": [],
   "source": [
    "import os\n",
    "def get_last_provision_dir(project_dir:str): \n",
    "    dir_path = project_dir  \n",
    "    dirs = [os.path.join(dir_path, d) for d in os.listdir(dir_path) if os.path.isdir(os.path.join(dir_path, d)) and d.startswith(\"prod_\")]\n",
    "    \n",
    "    dirs_sorted = sorted(dirs, key=os.path.getctime)\n",
    "    \n",
    "    return dirs_sorted[-1]\n",
    "\n",
    "provision_dir = get_last_provision_dir('/tmp/workspace/example_project')\n",
    "print(provision_dir)"
   ]
  },
  {
   "cell_type": "code",
   "execution_count": null,
   "id": "c3dbde69",
   "metadata": {
    "tags": []
   },
   "outputs": [],
   "source": [
    "import os\n",
    "from nvflare.fuel.flare_api.flare_api import new_secure_session\n",
    " \n",
    "username = \"admin@nvidia.com\"\n",
    "admin_user_dir = os.path.join(provision_dir,username)\n",
    "sess = new_secure_session(\n",
    "    username=username,\n",
    "    startup_kit_location=admin_user_dir\n",
    ")\n",
    "print(sess.get_system_info())"
   ]
  },
  {
   "cell_type": "markdown",
   "id": "79fd45a2-4bc9-4b2e-b501-dda1b43de557",
   "metadata": {
    "tags": []
   },
   "source": [
    "### 5. Prepare Examples\n",
    "\n",
    "We are going to use hello-numpy-sag examples. we need to copy the example to the place jobs are expected. \n",
    "\n"
   ]
  },
  {
   "cell_type": "code",
   "execution_count": null,
   "id": "4d3395a6-e902-4068-9c36-f858f3583ffa",
   "metadata": {
    "tags": []
   },
   "outputs": [],
   "source": [
    "! cp -r  ../hello-world/hello-numpy-sag {provision_dir}/{username}/transfer/."
   ]
  },
  {
   "cell_type": "code",
   "execution_count": null,
   "id": "b162ce0e-e219-475d-a014-9a7a23145239",
   "metadata": {
    "tags": []
   },
   "outputs": [],
   "source": [
    "! ls -al {provision_dir}/{username}/transfer/"
   ]
  },
  {
   "cell_type": "markdown",
   "id": "405edb37",
   "metadata": {
    "tags": []
   },
   "source": [
    "### 6. Submit Job\n",
    "With a session successfully connected, you can use `submit_job()` to submit your job. You can change `path_to_example_job` to the location of the job you are submitting. Upon successful submission, the job_id is returned as a string."
   ]
  },
  {
   "cell_type": "code",
   "execution_count": null,
   "id": "c8f08cef",
   "metadata": {
    "tags": []
   },
   "outputs": [],
   "source": [
    "path_to_example_job = \"hello-numpy-sag/jobs/hello-numpy-sag\"\n",
    "job_id = sess.submit_job(path_to_example_job)\n",
    "print(job_id + \" was submitted\")"
   ]
  },
  {
   "cell_type": "markdown",
   "id": "42317cf3",
   "metadata": {},
   "source": [
    "### 7. Monitor Job\n",
    "\n",
    "The command `monitor_job()` allows you to follow a job until the job is done.\n",
    "\n",
    "By default, `monitor_job()` only has one required arguement, the `job_id` of the job you are waiting for, and the default behavior is to wait until the job is complete before returning a Return Code of `JOB_FINISHED`.\n",
    "\n",
    "In order to follow along and see a more meaningful result and demonstrate some of the possibilities of using this function, the following cell contains a `sample_cb()` callback that keeps track of the number of times the callback is run and prints the `job_meta` the first three times and the final time before `monitor_job()` completes with every other call just printing a dot to save output space. This callback is just an example of what can be done with additional arguments and the `job_meta` information of the job that is being monitored. You can use logic to return a value other than True to conditionally stop `monitor_job()` and return `MonitorReturnCode.ENDED_BY_CB`."
   ]
  },
  {
   "cell_type": "code",
   "execution_count": null,
   "id": "03fd93d0",
   "metadata": {
    "tags": []
   },
   "outputs": [],
   "source": [
    "from nvflare.fuel.flare_api.flare_api import Session\n",
    "\n",
    "def sample_cb(\n",
    "        session: Session, job_id: str, job_meta, *cb_args, **cb_kwargs\n",
    "    ) -> bool:\n",
    "    if job_meta[\"status\"] == \"RUNNING\":\n",
    "        if cb_kwargs[\"cb_run_counter\"][\"count\"] < 3:\n",
    "            print(job_meta)\n",
    "            print(cb_kwargs[\"cb_run_counter\"])\n",
    "        else:\n",
    "            print(\".\", end=\"\")\n",
    "    else:\n",
    "        print(\"\\n\" + str(job_meta))\n",
    "    \n",
    "    cb_kwargs[\"cb_run_counter\"][\"count\"] += 1\n",
    "    return True\n",
    "\n",
    "sess.monitor_job(job_id, cb=sample_cb, cb_run_counter={\"count\":0})"
   ]
  },
  {
   "cell_type": "markdown",
   "id": "19a1fdfc",
   "metadata": {},
   "source": [
    "### 8. Get Job Meta\n",
    "\n",
    "To get the job meta information, you can use the `get_job_meta()` command. The only argument required for this command is the job id for the job you are getting the meta for. The job meta information will be returned as an object."
   ]
  },
  {
   "cell_type": "code",
   "execution_count": null,
   "id": "0a9b0b73",
   "metadata": {
    "tags": []
   },
   "outputs": [],
   "source": [
    "sess.get_job_meta(job_id)"
   ]
  },
  {
   "cell_type": "markdown",
   "id": "272bccab",
   "metadata": {
    "tags": []
   },
   "source": [
    "### 9. List Jobs\n",
    "\n",
    "To get the information for what jobs have been submitted to the server, you can use the `list_jobs()` command. If no arguments are included, the defaults are False for both \"detailed\" and \"reverse\".\n",
    "\n",
    "Setting \"detailed\" to True will return more detailed information about each job.\n",
    "\n",
    "Setting \"reverse\" to True will return the jobs in reverse order by submission time.\n",
    "\n",
    "The arg \"limit\" can be set to specify the maximum number of jobs to return, with 0 or None meaning return all jobs (the default is None to show all).\n",
    "\n",
    "The args \"id_prefix\" and \"name_prefix\" can be used to further filter the jobs returned to have an id or name beginning with the string set for the respective argument."
   ]
  },
  {
   "cell_type": "code",
   "execution_count": null,
   "id": "3fe50268",
   "metadata": {
    "tags": []
   },
   "outputs": [],
   "source": [
    "import json\n",
    "\n",
    "def format_json( data: dict): \n",
    "    print(json.dumps(data, sort_keys=True, indent=4,separators=(',', ': ')))\n",
    "\n",
    "list_jobs_output = sess.list_jobs()\n",
    "print(format_json(list_jobs_output))\n"
   ]
  },
  {
   "cell_type": "code",
   "execution_count": null,
   "id": "ae0f5c25",
   "metadata": {
    "tags": []
   },
   "outputs": [],
   "source": [
    "\n",
    "list_jobs_output_detailed = sess.list_jobs(detailed=True)\n",
    "print(format_json(list_jobs_output_detailed))"
   ]
  },
  {
   "cell_type": "markdown",
   "id": "43ade87b",
   "metadata": {},
   "source": [
    "### 10. Download Job Result\n",
    "\n",
    "The `download_job_result()` command downloads the job result to the \"download_dir\" (this is usually set in fed_admin.json in the startup directory of the admin_user_dir used when launching the FLARE API Session, and this value is relative to the admin_user_dir). This command only has one required arguement, the `job_id` of the job result to download."
   ]
  },
  {
   "cell_type": "code",
   "execution_count": null,
   "id": "d43556bf",
   "metadata": {
    "tags": []
   },
   "outputs": [],
   "source": [
    "sess.download_job_result(job_id)"
   ]
  },
  {
   "cell_type": "markdown",
   "id": "b7dced59",
   "metadata": {},
   "source": [
    "### 11. Clone Jobs\n",
    "\n",
    "To clone an existing job, you can use the `clone_job()` command. The `clone_job()` command only has one required arguement, the `job_id` of the job to clone."
   ]
  },
  {
   "cell_type": "code",
   "execution_count": null,
   "id": "512f7dc2",
   "metadata": {
    "tags": []
   },
   "outputs": [],
   "source": [
    "sess.clone_job(job_id)"
   ]
  },
  {
   "cell_type": "markdown",
   "id": "4bfbcf71",
   "metadata": {},
   "source": [
    "### 12. Abort Job\n",
    "\n",
    "If training gets stuck or there is another reason to stop a running job, you can use the `abort_job()` command. The `abort_job()` command only has one required arguement, the `job_id` of the job to abort, and None is returned upon successfully issuing the command."
   ]
  },
  {
   "cell_type": "code",
   "execution_count": null,
   "id": "187cb413",
   "metadata": {
    "tags": []
   },
   "outputs": [],
   "source": [
    "print(job_id)\n",
    "sess.abort_job(job_id)"
   ]
  },
  {
   "cell_type": "markdown",
   "id": "4110775e",
   "metadata": {},
   "source": [
    "### 13. Delete Job\n",
    "\n",
    "You should be able to see the output in the terminals where you are running your FL Server and Clients when you submitted the job. You can also use `monitor_job()` to follow along and give you updates on the progress until the job is done.\n",
    "\n",
    "By default, `delete_job()` only has one required argument, the `job_id` of the job you are waiting for, and the default behavior is to return nothing if the command is successful. The command will raise a `JobNotDone` exception if the job is still running. "
   ]
  },
  {
   "cell_type": "code",
   "execution_count": null,
   "id": "178a860b",
   "metadata": {
    "tags": []
   },
   "outputs": [],
   "source": [
    "sess.delete_job(job_id)"
   ]
  },
  {
   "cell_type": "markdown",
   "id": "f43f4831",
   "metadata": {},
   "source": [
    "### 14. All Other Commands\n",
    "\n",
    "For all other commands that do not have a specific FLARE API implementation, using ``api.do_command()`` should provide what the FLAdminAPI would have returned in the raw result."
   ]
  },
  {
   "cell_type": "code",
   "execution_count": null,
   "id": "a84a4e89",
   "metadata": {
    "tags": []
   },
   "outputs": [],
   "source": [
    "sess.api.do_command(\"list_sp\")"
   ]
  },
  {
   "cell_type": "markdown",
   "id": "a864ffaa-d4f7-4448-a3a2-e6775ff83c66",
   "metadata": {},
   "source": [
    "### 15. Stop and Clean up FL System\n",
    "One can use \n",
    "\n",
    "```tu_post_cleanup.sh``` \n",
    "\n",
    "script to stop FL system and cleanup\n"
   ]
  }
 ],
 "metadata": {
  "kernelspec": {
   "display_name": "nvflare_example",
   "language": "python",
   "name": "nvflare_example"
  },
  "language_info": {
   "codemirror_mode": {
    "name": "ipython",
    "version": 3
   },
   "file_extension": ".py",
   "mimetype": "text/x-python",
   "name": "python",
   "nbconvert_exporter": "python",
   "pygments_lexer": "ipython3",
   "version": "3.8.10"
  },
  "vscode": {
   "interpreter": {
    "hash": "31f2aee4e71d21fbe5cf8b01ff0e069b9275f58929596ceb00d14d90e3e16cd6"
   }
  }
 },
 "nbformat": 4,
 "nbformat_minor": 5
}
