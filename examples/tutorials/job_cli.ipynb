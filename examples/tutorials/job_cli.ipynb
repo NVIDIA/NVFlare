{
 "cells": [
  {
   "cell_type": "markdown",
   "id": "5933f2eb-463a-4d01-a806-b6fc0fe9b4de",
   "metadata": {},
   "source": [
    "# NVFLARE JOB CLI"
   ]
  },
  {
   "cell_type": "markdown",
   "id": "69ce4e61-da7f-4ba1-96f1-822c578e53a1",
   "metadata": {
    "tags": []
   },
   "source": [
    "In this notebook, we will go through the different commands of the Job CLI to show the syntax and usage of each.\n"
   ]
  },
  {
   "cell_type": "markdown",
   "id": "154531fd-2a94-4062-bbc6-76086b099093",
   "metadata": {
    "tags": []
   },
   "source": [
    "## Install NVIDIA FLARE\n",
    "\n",
    "For this notebook, we will need a running NVFLARE project that we can connect to.\n",
    "Follow the [Installation](https://nvflare.readthedocs.io/en/main/getting_started.html#installation) \n",
    "instructions to set up an environment that has NVIDIA FLARE installed if you do not have one already.\n",
    "\n",
    "If you use job CLI to submit job, you will need a running NVFLARE system with client and server. You can either run a local system via nvflare poc commands, or \n",
    "use the running production system. \n",
    "\n",
    "To see how to setup a local system, please refer to setup_poc tutorial. \n",
    "\n",
    "\n",
    "## Step-by-step Walk-Through: from creating a job to running a job. \n",
    "\n",
    "Assuming we like to run with CIFAR10 data, we have converted the CIFAR10 with pytorch training code to a 2-client federated learning [program](https://github.com/NVIDIA/NVFlare/tree/main/examples/hello-world/step-by-step/cifar10/code). To demonstrate the Job CLI, we would like to use the standard Scatter and Gatter (SAG) workflow pattern. \n",
    "\n",
    "Now, we would like to see what are the available pre-configured job templates the user can use and modify. \n",
    "\n",
    "\n",
    "### Checkout the availalble nvflare job templates\n",
    " "
   ]
  },
  {
   "cell_type": "markdown",
   "id": "6c635e02-7fe6-401c-82d2-e2cde1dc86c0",
   "metadata": {
    "tags": []
   },
   "source": [
    "#### List Job Templates\n",
    "\n",
    "NVFLARE 2.4.0 release introduces an job templates where the different type of job configurations are created as templates.  \n",
    "\n",
    "To list the available templates, you can use the ```nvflare job list_templates``` command\n"
   ]
  },
  {
   "cell_type": "code",
   "execution_count": null,
   "id": "447619d5-d917-4d93-b806-6c673e216b88",
   "metadata": {
    "tags": []
   },
   "outputs": [],
   "source": [
    "! nvflare job list_templates -d \"../../job_templates\""
   ]
  },
  {
   "cell_type": "markdown",
   "id": "9abba0f2-17c9-4e09-a34e-8543238e4039",
   "metadata": {},
   "source": [
    "Where the -d \"<job_templates_dir>\" or --job_template_dir \"<job_templates_dir>\" is the location of the job_templates. \n",
    "\n",
    "We can also simplify the command by simply \n",
    "```\n",
    "! nvflare job list_templates\n",
    "```\n",
    "\n",
    "without specify the  -d \"<job_templates_dir>\" location. When the job templates directory is not specified, the Job CLI will try to find the location in the following logics: \n",
    "\n",
    "* see if the NVFALRE_HOME env variable is set, if yes, we assume that you have clone the github repo and the job_templates is located at \n",
    " \n",
    " ```${NVFLARE_HOME}/job_templates```\n",
    " \n",
    "* If NVFLARE_HOME env. variable is not set, the CLI Job will look at the nvflare hidden config directory \n",
    "\n",
    "```\n",
    "cat ~/.nvflare/config.conf \n",
    "\n",
    "startup_kit {\n",
    "  path = \"/tmp/nvflare/poc1/example_project/prod_00\"\n",
    "}\n",
    "poc_workspace {\n",
    "  path = \"/tmp/nvflare/poc1\"\n",
    "}\n",
    "job_template {\n",
    "  path = \"../../job_templates\"\n",
    "}\n",
    "\n",
    "```\n",
    "and will use the job_templates path sepecified in the location.  \n",
    "\n",
    "once you used the -d <job_template_dir> once, the ~/.nvflare/config.conf will be updated. you don't need to specify -d again. \n",
    "\n",
    "You can also directly edit this file or simply use\n",
    "\n",
    "```\n",
    "nvflare config -jt ../../job_templates. \n",
    "\n",
    "```"
   ]
  },
  {
   "cell_type": "code",
   "execution_count": null,
   "id": "1bea478d-42fb-4223-8155-3c996699a052",
   "metadata": {
    "tags": []
   },
   "outputs": [],
   "source": [
    "! nvflare config -jt ../../job_templates "
   ]
  },
  {
   "cell_type": "markdown",
   "id": "b9a7b708-40e9-4f4f-beec-b83d0e893a0b",
   "metadata": {},
   "source": [
    "Now we can list again with job_templates directory argument"
   ]
  },
  {
   "cell_type": "code",
   "execution_count": null,
   "id": "49bab293-7fef-476f-8aa9-f2b2868a0fb3",
   "metadata": {
    "tags": []
   },
   "outputs": [],
   "source": [
    "! nvflare job list_templates"
   ]
  },
  {
   "cell_type": "markdown",
   "id": "10720b0b-af4c-4d71-a751-2d5c301eb05a",
   "metadata": {
    "tags": []
   },
   "source": [
    "once we found the job template that fits our needs, we can use the job template name to create a new job folder\n"
   ]
  },
  {
   "cell_type": "markdown",
   "id": "ecbd0cc7-f410-457e-a6bd-d4c999182850",
   "metadata": {},
   "source": [
    "### Create a job folder\n",
    "\n",
    "Since our code is written in pytorch and we would like to try FedAvg algorithm using Scatter & Gather (SAG) workflow, the job template **\"sag_pt\"** is what we are looking for. We will use this template to create our job folder. \n",
    "\n",
    "We create a job folder that contains the base job configuration from the template, and can then modify it as desired.  First, we create job folder and intend to be modified, without specify our code.\n",
    "\n",
    "\n",
    "#### First Try\n"
   ]
  },
  {
   "cell_type": "code",
   "execution_count": null,
   "id": "0b3c9750-070f-4655-9128-757ab136b30d",
   "metadata": {
    "tags": []
   },
   "outputs": [],
   "source": [
    "! nvflare job create -j /tmp/nvflare/my_job -w sag_pt -force\n"
   ]
  },
  {
   "cell_type": "markdown",
   "id": "8cf08b1e-ca7c-4902-b8d0-01968c3801be",
   "metadata": {
    "tags": []
   },
   "source": [
    "The above command create a job folder at ```/tmp/nvflare/my_job``` with job template ```sag_pt```. \n",
    "We can see few configuration files are created. And some of the configurations are open to overwrite. We can take a look at the job_folder structure first. \n",
    "\n",
    "If you have ```tree``` command installed ( ```python -m pip install``` on linux), you can use the ```tree``` command, otherwise, you can just \"ls -al\" "
   ]
  },
  {
   "cell_type": "code",
   "execution_count": null,
   "id": "e87410e3-c498-44ae-b7f7-2a51af237e41",
   "metadata": {
    "tags": []
   },
   "outputs": [],
   "source": [
    "! tree /tmp/nvflare/my_job"
   ]
  },
  {
   "cell_type": "code",
   "execution_count": null,
   "id": "393ae90b-640b-4dd7-a325-e2b026e7703b",
   "metadata": {
    "tags": []
   },
   "outputs": [],
   "source": [
    "! cat /tmp/nvflare/my_job/meta.conf"
   ]
  },
  {
   "cell_type": "code",
   "execution_count": null,
   "id": "142c0a0d-8c40-4fc3-a201-08764cde0c3c",
   "metadata": {
    "tags": []
   },
   "outputs": [],
   "source": [
    "! cat /tmp/nvflare/my_job/app/config/config_exchange.conf"
   ]
  },
  {
   "cell_type": "markdown",
   "id": "9ba16495-eaa3-431c-84da-432635ec8e29",
   "metadata": {
    "tags": []
   },
   "source": [
    "Notice the app_name is \"my_job\" and config_exchange is used for Client API where it specify the data exchange path, exchange format is for pytorch and the model diff will be transferred. Let's look at the server side configuration. \n"
   ]
  },
  {
   "cell_type": "code",
   "execution_count": null,
   "id": "66c4f50f-b715-42de-a217-f2feced182ba",
   "metadata": {
    "tags": []
   },
   "outputs": [],
   "source": [
    "! cat /tmp/nvflare/my_job/app/config/config_fed_server.conf"
   ]
  },
  {
   "cell_type": "code",
   "execution_count": null,
   "id": "24bebc20-5351-40a7-af7b-0a3c9bb271ff",
   "metadata": {
    "tags": []
   },
   "outputs": [],
   "source": [
    "! ! cat /tmp/nvflare/my_job/app/config/config_fed_client.conf"
   ]
  },
  {
   "cell_type": "markdown",
   "id": "11767829-65e5-47e1-bae1-6c587c315100",
   "metadata": {},
   "source": [
    "> Note both client and server configurations are nicely commented with explainations. \n",
    "> But if you create the job with customizations such as -f or configurations, the configurations files would be overwritten. As result, the comments in the configuration will be lost in the final files. Just a note. \n",
    "\n",
    "### Show variables\n",
    "\n",
    "Now, we can see the job folder is auto-created for me with pre-defined configurations. We need to make sure this template works for our code and the variables can be updated. Let's check the variables again with the following command"
   ]
  },
  {
   "cell_type": "code",
   "execution_count": null,
   "id": "74adcc28-9f52-4f2b-b4b2-1bd9b053dd80",
   "metadata": {
    "tags": []
   },
   "outputs": [],
   "source": [
    "! nvflare job show_variables -j /tmp/nvflare/my_job"
   ]
  },
  {
   "cell_type": "markdown",
   "id": "f8ede943-4c76-42b2-81ad-8d9364637cfb",
   "metadata": {},
   "source": [
    "You can see there are many variables we might awant to change.  \n",
    "\n",
    "* I want to change num_rounds to 1 to test out in simular first\n",
    "* I also to use my own cifar10 code which already written based on Flare 2.4.0 Client API.\n",
    "\n",
    "Let's do the second try, \n",
    "\n",
    "#### The second Try\n",
    "\n"
   ]
  },
  {
   "cell_type": "code",
   "execution_count": null,
   "id": "69d32eb0-1384-4d49-9b6e-a369c53e7163",
   "metadata": {
    "tags": []
   },
   "outputs": [],
   "source": [
    "! nvflare job create -j /tmp/nvflare/my_job -force -w sag_pt -f config_fed_server.conf num_rounds=1 -s ../hello-world/step-by-step/cifar10/code/fl/train.py -sd ../hello-world/step-by-step/cifar10/code/fl"
   ]
  },
  {
   "cell_type": "markdown",
   "id": "14aae893-0371-488e-9883-aa2d736a6807",
   "metadata": {},
   "source": [
    "Now, num_rounds is set to 1 and app_script is \"train.py\", the pyton script will invoked ```python custom/{app_script}```, this essentially do ```python custom/train.py```. Now, let's \n",
    "take a look the code structure again. "
   ]
  },
  {
   "cell_type": "code",
   "execution_count": null,
   "id": "e09239cb-39cb-4ccf-858e-619d2b1072a0",
   "metadata": {
    "tags": []
   },
   "outputs": [],
   "source": [
    "! tree /tmp/nvflare/my_job\n"
   ]
  },
  {
   "cell_type": "markdown",
   "id": "3103b02a-1ada-4201-b848-811d237be3fd",
   "metadata": {},
   "source": [
    "Notice that the code we had written is copied to the job directory. "
   ]
  },
  {
   "cell_type": "markdown",
   "id": "025fa61b-2c30-4421-a74c-75f0725a86f8",
   "metadata": {
    "tags": []
   },
   "source": [
    "Notice on config_fed_server.conf, we have ```PTFileModelPersistor``` is file-based persistor for pytorch. It requires net.Net class which used for model initialization and also for save the final model\n",
    "this file \"net.py\" is matching such configuration.  If your model file name and class Name is not matching to net.Net, we will need to update configuration to match this. \n",
    "\n",
    "We will rest of values as default. And try to run the job. \n"
   ]
  },
  {
   "cell_type": "markdown",
   "id": "fe97e7a0-38ae-4af7-b8be-73879a69a55f",
   "metadata": {},
   "source": [
    "### Download the data\n",
    "\n",
    "Let's download the data first to avoid repeated download. We can simply use the existing script to download in\n"
   ]
  },
  {
   "cell_type": "code",
   "execution_count": null,
   "id": "70c829fa-099c-4f40-9571-7e7ca8f026d8",
   "metadata": {
    "tags": []
   },
   "outputs": [],
   "source": [
    "! python ../../examples/hello-world/step-by-step/cifar10/data/download.py"
   ]
  },
  {
   "cell_type": "markdown",
   "id": "f9308ba5-ad4d-4f3f-9377-76fd6a253687",
   "metadata": {},
   "source": [
    "### Run the Job in simulator \n",
    "\n",
    "We can first run the job in simulator and see if we have any issues. \n",
    "\n",
    "\n"
   ]
  },
  {
   "cell_type": "code",
   "execution_count": null,
   "id": "2451ab27-68cf-4ab3-ae7f-f276f21185a2",
   "metadata": {
    "tags": []
   },
   "outputs": [],
   "source": [
    "! nvflare simulator /tmp/nvflare/my_job -w /tmp/my_job"
   ]
  },
  {
   "cell_type": "markdown",
   "id": "6041e784-d81e-4d7f-a497-4e3dbe050068",
   "metadata": {},
   "source": [
    "* If this doesn't work for you, let figure out what its complaining and change additional changes we need to make.  \n",
    "* If this works for you, we can move to next step. \n",
    "\n",
    "For now, assuming simulator works for you. And you would like to try out in real, but running locally with POC mode. to do this, let's first recreate the job configuration to set a larger number of rounds= 100\n",
    "\n"
   ]
  },
  {
   "cell_type": "code",
   "execution_count": null,
   "id": "3bbca437-a0be-45da-a438-c387266998a0",
   "metadata": {
    "tags": []
   },
   "outputs": [],
   "source": [
    "! nvflare job create -j /tmp/nvflare/my_job -force -w sag_pt -f config_fed_server.conf num_rounds=100 -s ../hello-world/step-by-step/cifar10/code/fl/train.py -sd ../hello-world/step-by-step/cifar10/code/fl"
   ]
  },
  {
   "cell_type": "markdown",
   "id": "be6a878d-5518-4e41-9c3c-2f5098e7d018",
   "metadata": {},
   "source": [
    "\n",
    "### Setup and Start POC mode\n",
    "\n",
    "from a terminal, run\n",
    "\n",
    "```\n",
    "   nvflare poc prepare -n 2\n",
    "   nvflare poc start -ex admin@nvflare.com\n",
    "```\n",
    "here we will prepare a workspace for POC with n = 2 clients. Then start the POC clients and server except for the FLARE Admin Console (user name = 'admin@nvidia.com'). Since we are going to CLI to submit job, so we don't need admin console. Once the system started, we are ready to move to the next step: submit job\n"
   ]
  },
  {
   "cell_type": "markdown",
   "id": "e839570e-7522-4732-8034-d05a520fa4eb",
   "metadata": {
    "tags": []
   },
   "source": [
    "### Submit Job from CLI\n",
    "\n",
    "We can use the following command to directly submit job from command line. \n",
    "\n",
    "even through the number_round = 100, I want to start with small number of round, but not changing the number_rounds = 100 value. \n",
    "\n",
    "Also, instead of relying on the default dataset_path, we are going to specify the dataset_path from the command line. \n",
    "\n",
    "lastly, I want to change the ```train_timeout``` to 300 seconds instead of 0, which means never timneout. "
   ]
  },
  {
   "cell_type": "code",
   "execution_count": null,
   "id": "a5012082-5904-4a24-9211-0e46bc75d6d2",
   "metadata": {
    "tags": []
   },
   "outputs": [],
   "source": [
    "! nvflare job submit -j /tmp/nvflare/my_job -f config_fed_server.conf num_rounds=1 train_timeout=300 -a dataset_path=\"/tmp/nvflare/data/cifar10\""
   ]
  },
  {
   "cell_type": "markdown",
   "id": "14e34ddc-7f4c-4c14-b287-bedad1b603b3",
   "metadata": {},
   "source": [
    "You go to terminal to monitor the output log. \n",
    "\n",
    "> Note: \n",
    "> -a or --app_config specify the arguments to the training scripts. \n",
    "\n",
    "> the CLI argument\n",
    "> ```\n",
    ">   -a dataset_path=\"/tmp/nvflare/data/cifar10\"\n",
    "> ```\n",
    "> will be translate into \n",
    "\n",
    "> ```\n",
    ">    python custom/train.py --dataset_path \"/tmp/nvflare/data/cifar10\"\n",
    "> ```\n",
    "> in our case, the train.py takes --dataset_path as argument. \n",
    "\n",
    "\n"
   ]
  },
  {
   "cell_type": "markdown",
   "id": "7b5522b5-38a8-4f95-98bf-0cd15c336f16",
   "metadata": {},
   "source": [
    "### Submit Job from CLI in Production\n",
    "\n",
    "Before you try to submit to production, the job CLI will need to know the location of the admin console startup kit directory. \n",
    "In the POC mode, we set this for user automatically, in prodcuction, user will need to tell the job CLI. \n",
    "\n",
    "First you can take a look at this file: \n"
   ]
  },
  {
   "cell_type": "code",
   "execution_count": null,
   "id": "52788f23-9e78-4396-ad84-c74ae9ef7937",
   "metadata": {
    "tags": []
   },
   "outputs": [],
   "source": [
    "! cat ~/.nvflare/config.conf\n",
    " "
   ]
  },
  {
   "cell_type": "markdown",
   "id": "9e0dcc33-ff07-4554-8d6f-34b327b4ef44",
   "metadata": {},
   "source": [
    "You can directly edit the path\n",
    "```\n",
    "    startup_kit {\n",
    "        path = /tmp/nvflare/poc/example_project/prod_00\n",
    "    }\n",
    "```\n",
    "or use the following command "
   ]
  },
  {
   "cell_type": "code",
   "execution_count": null,
   "id": "d1a57527-ee4e-4fc8-bfdf-e48fa6466527",
   "metadata": {
    "tags": []
   },
   "outputs": [],
   "source": [
    "! nvflare config --startup_kit_dir  /tmp/nvflare/poc/example_project/prod_00"
   ]
  },
  {
   "cell_type": "markdown",
   "id": "db24105a-a80c-4c4c-b98f-f354ae5baaa1",
   "metadata": {},
   "source": [
    "or shorter form"
   ]
  },
  {
   "cell_type": "code",
   "execution_count": null,
   "id": "01ca3eca-2779-440d-86bc-9a23e1420e99",
   "metadata": {
    "tags": []
   },
   "outputs": [],
   "source": [
    "! nvflare config -d  /tmp/nvflare/poc/example_project/prod_00"
   ]
  },
  {
   "cell_type": "markdown",
   "id": "6cf52c39-cea7-4764-91b3-e061356089cc",
   "metadata": {},
   "source": [
    "Once the startup kit directory path is set, we can do the job submit\n"
   ]
  },
  {
   "cell_type": "code",
   "execution_count": null,
   "id": "a106a7b0-371e-4504-aa26-a45a55a6347b",
   "metadata": {
    "tags": []
   },
   "outputs": [],
   "source": [
    "! nvflare job submit -j /tmp/nvflare/my_job -f config_fed_server.conf num_rounds=1 -a dataset_path=\"/tmp/nvflare/data/cifar10\""
   ]
  },
  {
   "cell_type": "markdown",
   "id": "1c668def-55e3-477e-8e0a-f76c003b5c31",
   "metadata": {},
   "source": [
    "## Trouble Shooting -debug flag\n",
    "\n",
    "The ```nvflare job submit``` command, since it should not overwrite the job folder configuration during submission, it has to use a temp job folder. \n",
    "If you want to check the final configs submited to the server or simply want to see the stack trace of the exception, you can use -debug flag. \n",
    "\n",
    "with -debug flag, the ``` nvflare job submit ``` command will not delete the temp job folder once its finished job submission, it will also prinit the exception stack trace in case of failure. \n",
    "\n"
   ]
  },
  {
   "cell_type": "code",
   "execution_count": null,
   "id": "c676d8ab-6d35-4713-b551-8f5a40927a6e",
   "metadata": {
    "tags": []
   },
   "outputs": [],
   "source": [
    "! nvflare job submit -j /tmp/nvflare/my_job -f config_fed_server.conf num_rounds=1 train_timeout=300 -a dataset_path=\"/tmp/nvflare/data/cifar10\" -debug"
   ]
  },
  {
   "cell_type": "markdown",
   "id": "e3640447-52d8-47f5-80f6-98702efc5b35",
   "metadata": {},
   "source": [
    "See the statement: \n",
    "\n",
    "```\n",
    "in debug mode, job configurations can be examined in temp job directory '/tmp/tmp7nteenxr'\n",
    "```\n",
    "\n",
    "we can check the job folder with ```tree`` or ```ls -al ```"
   ]
  },
  {
   "cell_type": "code",
   "execution_count": null,
   "id": "6a796f30-e99e-49e0-96ce-ad8809c27ce1",
   "metadata": {
    "tags": []
   },
   "outputs": [],
   "source": [
    "! tree '/tmp/tmpdnusoyzj'"
   ]
  },
  {
   "cell_type": "code",
   "execution_count": null,
   "id": "b446bcda-f77a-4c2e-a548-c16822d28796",
   "metadata": {
    "tags": []
   },
   "outputs": [],
   "source": [
    "!cat '/tmp/tmpdnusoyzj/app/config/config_fed_client.conf'"
   ]
  },
  {
   "cell_type": "code",
   "execution_count": null,
   "id": "703ed5d4-1cb2-426d-8efa-03ed2c3464e0",
   "metadata": {
    "tags": []
   },
   "outputs": [],
   "source": [
    "!cat '/tmp/tmpdnusoyzj/app/config/config_fed_server.conf'"
   ]
  },
  {
   "cell_type": "markdown",
   "id": "493538a7-fe6d-4fc2-a65e-873bf26a09ee",
   "metadata": {},
   "source": [
    "you can see the configs in server and clients are indeed the values we specified. "
   ]
  },
  {
   "cell_type": "markdown",
   "id": "ebaaa444-1f39-4832-ac1b-2d9b3710dbba",
   "metadata": {
    "tags": []
   },
   "source": [
    "## Trouble Shooting - Client API timeout\n",
    "\n",
    "If the client API has not received training in 60 seconds, the job will consider failed. \n",
    "```\n",
    "PTFilePipeLauncherExecutor - ERROR - [identity=site-1, run=simulate_job, peer=simulator_server, peer_run=simulate_job, task_name=train, task_id=db7940f1-d7b4-44e5-b509-dfed4adeb2ec]: received _PEER_GONE_ while waiting for result for train\n",
    "```\n",
    "\n",
    "you can change the timeout to a higher level: \n",
    "\n",
    "```\n",
    "heartbeat_timeout = 120\n",
    "``` "
   ]
  },
  {
   "cell_type": "markdown",
   "id": "0ed9103e-9f45-4987-be8c-907ab86dfa1d",
   "metadata": {
    "tags": []
   },
   "source": [
    "## Cleanup\n",
    "\n",
    "Make sure you shutdown the poc system once you are done"
   ]
  },
  {
   "cell_type": "code",
   "execution_count": null,
   "id": "80086770-7a84-42aa-b981-5b9eabb22b9e",
   "metadata": {},
   "outputs": [],
   "source": []
  }
 ],
 "metadata": {
  "kernelspec": {
   "display_name": "nvflare_example",
   "language": "python",
   "name": "nvflare_example"
  },
  "language_info": {
   "codemirror_mode": {
    "name": "ipython",
    "version": 3
   },
   "file_extension": ".py",
   "mimetype": "text/x-python",
   "name": "python",
   "nbconvert_exporter": "python",
   "pygments_lexer": "ipython3",
   "version": "3.8.16"
  }
 },
 "nbformat": 4,
 "nbformat_minor": 5
}
