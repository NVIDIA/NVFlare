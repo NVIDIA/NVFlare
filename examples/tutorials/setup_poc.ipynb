{
 "cells": [
  {
   "cell_type": "markdown",
   "id": "654a158f-42c6-4706-84c6-4bbbec79be26",
   "metadata": {},
   "source": [
    "# Set Up NVFLARE in POC Mode\n",
    "\n",
    "[POC mode](https://nvflare.readthedocs.io/en/2.3/user_guide/poc_command.html) allows users to test the features of a full FLARE deployment on a single machine, without the overhead of a true distributed deployment and the need to establish secure communication between server and client systems.\n",
    "\n",
    "Compared to the FL Simulator, where the job run is automated on a single system, POC mode allows you to establish and connect distinct server and client \"systems\" which can then be orchestrated using the FLARE Console.  This can be useful in preparation for a distributed deployment.\n",
    "\n",
    ">**Warning**\n",
    ">POC mode is not intended to be secure and should not be run in any type of production environment or any environment where the server’s ports are exposed. For actual deployment and even development, it is recommended to use a secure provisioned setup or the FL Simulator.\n",
    "\n",
    ">You need to start NVFLARE system POC mode from a **terminal**, not from notebook. terminal's virual env. must match the kernel's virtual env. In our case, 'nvflare_example'\n",
    "\n",
    "To get started, let's look at the NVFlare CLI usage for the poc subcommand:"
   ]
  },
  {
   "cell_type": "code",
   "execution_count": null,
   "id": "8d3c34b6-fa35-466e-b5bf-1b0be07d399f",
   "metadata": {
    "tags": []
   },
   "outputs": [],
   "source": [
    "\n",
    "! nvflare poc -h\n"
   ]
  },
  {
   "cell_type": "markdown",
   "id": "87989e99",
   "metadata": {},
   "source": [
    "### Preparing the POC environment\n",
    "Before running POC mode, there are a couple important environment variables that should be set.\n",
    "\n",
    "First, to simplify deploying the example apps in the NVFlare GitHub repo, you can set `NVFLARE_HOME` to the root of the GitHub clone.  "
   ]
  },
  {
   "cell_type": "code",
   "execution_count": null,
   "id": "ec8d6a6c-bb58-431a-afbf-cc722c4e6152",
   "metadata": {
    "tags": []
   },
   "outputs": [],
   "source": [
    "import os\n",
    "NVFLARE_HOME=os.path.abspath(os.path.join(os.getcwd(), \"../..\"))\n",
    "%env NVFLARE_HOME={NVFLARE_HOME}\n",
    "! echo $NVFLARE_HOME"
   ]
  },
  {
   "cell_type": "markdown",
   "id": "7f877f82",
   "metadata": {},
   "source": [
    "By default, POC mode uses a temporary workspace in /tmp/nvflare/poc.\n",
    "\n",
    "If you prefer to set a workspace in different location than the default, you can set the environment variable NVFLARE_POC_WORKSPACE \n",
    "\n",
    "```\n",
    "%env NVFLARE_POC_WORKSPACE=/you/new/location/path\n",
    "\n",
    "```"
   ]
  },
  {
   "cell_type": "code",
   "execution_count": null,
   "id": "d365c900",
   "metadata": {
    "tags": []
   },
   "outputs": [],
   "source": [
    "%env  NVFLARE_POC_WORKSPACE=/tmp/nvflare/poc\n",
    "!echo $NVFLARE_POC_WORKSPACE "
   ]
  },
  {
   "cell_type": "markdown",
   "id": "39e5192f-5f6d-4695-bc06-a04928b5f214",
   "metadata": {
    "tags": []
   },
   "source": [
    "If you use simply use the default poc workspace, ```/tmp/nvflare/poc```, you don't need set NVFLARE_POC_WORKSPACE env. "
   ]
  },
  {
   "cell_type": "markdown",
   "id": "4b5f79f8-4146-4222-a991-a2411dc72b79",
   "metadata": {},
   "source": [
    "### Preparing the POC workspace\n",
    "\n",
    "Now that we've configured out POC environment, we can prepare the POC workspace.  By default, the following command will generate POC packages for a server and two clients.\n",
    "\n",
    "```\n",
    "    nvflare poc --prepare \n",
    "```\n",
    "\n",
    "You can specify a different number of clients with the -n option:\n",
    "\n",
    "```\n",
    "   nvflare poc --prepare -n N\n",
    "```\n",
    "\n",
    "If you running the POC prepare command, there is a prompt for user to answer. We are going to pre-answer as Yes in the following:"
   ]
  },
  {
   "cell_type": "markdown",
   "id": "0efc93e2-fcc8-4789-822f-69e8d2d32116",
   "metadata": {},
   "source": [
    "### Start NVFlare system in POC mode\n",
    "\n",
    "When starting the POC deployment, it's necessary to use a separate terminal since the `nvflare poc --start` command will run  in the foreground emitting output from the server and any connected clients.\n",
    "\n",
    "Also note that `nvflare poc --start` starts all participants, including the admin console. We want to start the 2 clients and 1 server, but without the FLARE console (aka Admin Console), as we are going to interact with the system from a notebook.\n",
    "\n",
    "Create a terminal to execute the following command (in JupyterLab or host terminal), then\n",
    "\n",
    "```\n",
    "    nvflare poc --start -ex admin\n",
    "```\n",
    "**note**\n",
    "    use ```%%bash -bg``` to run above command in code cell not always work"
   ]
  },
  {
   "cell_type": "markdown",
   "id": "3aede5df-28c9-4391-90fb-eb69257fe7b0",
   "metadata": {},
   "source": [
    "### Check System information"
   ]
  },
  {
   "cell_type": "code",
   "execution_count": null,
   "id": "b668317e-db18-4a68-b226-fffba86b7041",
   "metadata": {
    "tags": []
   },
   "outputs": [],
   "source": [
    "\n",
    "import os\n",
    "from nvflare.fuel.flare_api.flare_api import new_insecure_session\n",
    "\n",
    "poc_workspace = os.getenv('NVFLARE_POC_WORKSPACE')\n",
    "\n",
    "workspace = \"/tmp/nvflare/poc\" if  poc_workspace is None else poc_workspace\n",
    "\n",
    "admin_dir = os.path.join(workspace, \"admin\")\n",
    "sess = new_insecure_session(admin_dir)\n",
    "sys_info = sess.get_system_info()\n",
    "\n",
    "print(f\"Server info:\\n{sys_info.server_info}\")\n",
    "print(\"\\nClient info\")\n",
    "for client in sys_info.client_info:\n",
    "    print(client)"
   ]
  },
  {
   "cell_type": "markdown",
   "id": "d4568b87-a711-4441-a2af-2008dbc9e278",
   "metadata": {
    "tags": []
   },
   "source": [
    "Once the system is up, we are now ready to go back to the notebook to work on your project."
   ]
  },
  {
   "cell_type": "markdown",
   "id": "275fbe95-faf3-468d-a96a-453310e90aee",
   "metadata": {},
   "source": [
    "### Stop FLARE system in POC\n",
    "\n",
    "Once you are done with the FLARE system, you can shutdown the poc system.\n",
    "From terminal, issue the following command stop poc in the terminal\n",
    "```\n",
    "   nvflare poc --stop\n",
    "```\n"
   ]
  },
  {
   "cell_type": "markdown",
   "id": "ea8f1878-7e9d-4e17-ba78-5812fc88b580",
   "metadata": {},
   "source": [
    "### Cleanup POC workspace"
   ]
  },
  {
   "cell_type": "code",
   "execution_count": null,
   "id": "66c787b6-e4af-473c-89af-71f7acf3fb17",
   "metadata": {
    "tags": []
   },
   "outputs": [],
   "source": [
    "! nvflare poc --clean"
   ]
  }
 ],
 "metadata": {
  "kernelspec": {
   "display_name": "nvflare_example",
   "language": "python",
   "name": "nvflare_example"
  },
  "language_info": {
   "codemirror_mode": {
    "name": "ipython",
    "version": 3
   },
   "file_extension": ".py",
   "mimetype": "text/x-python",
   "name": "python",
   "nbconvert_exporter": "python",
   "pygments_lexer": "ipython3",
   "version": "3.8.16"
  }
 },
 "nbformat": 4,
 "nbformat_minor": 5
}
