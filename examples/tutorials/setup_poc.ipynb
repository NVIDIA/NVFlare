{
 "cells": [
  {
   "cell_type": "markdown",
   "id": "654a158f-42c6-4706-84c6-4bbbec79be26",
   "metadata": {},
   "source": [
    "# Setup NVFLARE in POC Mode\n",
    "\n",
    "\n",
    "Setting Up the Application Environment in POC Mode¶\n",
    ">**Warning**\n",
    ">POC mode is not intended to be secure and should not be run in any type of production environment or any environment where the server’s ports are exposed. For actual deployment and even development, it is recommended to use a secure provisioned setup or The FL Simulator.\n",
    "\n",
    "To get started with a proof of concept (POC) setup after Installation, run this command to generate a poc folder with an overseer, server, two clients, and one admin client:\n"
   ]
  },
  {
   "cell_type": "code",
   "execution_count": null,
   "id": "8d3c34b6-fa35-466e-b5bf-1b0be07d399f",
   "metadata": {
    "tags": []
   },
   "outputs": [],
   "source": [
    "!nvflare poc -h"
   ]
  },
  {
   "cell_type": "markdown",
   "id": "4b5f79f8-4146-4222-a991-a2411dc72b79",
   "metadata": {},
   "source": [
    "First, we need to prepare a workspace. \n",
    "you can use\n",
    "``` \n",
    "   nvflare poc --prepare -n N\n",
    "```\n",
    "or\n",
    "\n",
    "```\n",
    "nvflare poc --prepare \n",
    "```\n",
    "for default number of client = 2\n",
    "\n",
    "The default workspace = /tmp/nvflare/poc\n",
    "If you prefer to set workspace in different location than the default, you set the environment variable \n",
    "\n",
    "```\n",
    "export NVFLARE_POC_WORKSPACE = /you/new/location/path\n",
    "\n",
    "```\n",
    "\n",
    "before running the nvflare poc command. If you running the POC prepare command, there is a promot for user answer. we are going to pre-answer as Yes in the following"
   ]
  },
  {
   "cell_type": "code",
   "execution_count": null,
   "id": "06567caa-9aa1-4da7-848f-8f83c4400508",
   "metadata": {
    "tags": []
   },
   "outputs": [],
   "source": [
    "! echo 'y' |  nvflare poc --prepare"
   ]
  },
  {
   "cell_type": "markdown",
   "id": "ed2f69c1-0e6c-4771-9fb9-80cdc51ed7e9",
   "metadata": {
    "tags": []
   },
   "source": [
    "Now we start the 2 clients and 1 server, but without FLARE console (aka Admin Console), as we are going to interact with the system from notebook\n"
   ]
  },
  {
   "cell_type": "markdown",
   "id": "0efc93e2-fcc8-4789-822f-69e8d2d32116",
   "metadata": {},
   "source": [
    "### Start Flare system in POC\n",
    "Next we need create a terminal to execute the following command\n",
    "create a terminal (in JupyterLab or host terminal), then\n",
    "\n",
    "```\n",
    "  nvflare poc --start -ex admin\n",
    "```\n"
   ]
  },
  {
   "cell_type": "markdown",
   "id": "2a6ed287-21b7-408e-bc30-c8eeaf303f25",
   "metadata": {},
   "source": [
    "Once the system is up. Now we are go back the notebook to work on your project. "
   ]
  },
  {
   "cell_type": "markdown",
   "id": "67d76d0e-74ad-461f-ac71-64531c14e4ba",
   "metadata": {},
   "source": [
    "We can stop the FLARE in POC with following commmand"
   ]
  },
  {
   "cell_type": "markdown",
   "id": "275fbe95-faf3-468d-a96a-453310e90aee",
   "metadata": {},
   "source": [
    "### Stop FLARE system in POC\n",
    "\n",
    "Once you are done with the Flare system, you can shutdown the poc system.\n",
    "From terminal, issue the following command stop poc in the terminal\n",
    "```\n",
    "   nvflare poc --stop\n",
    "```\n"
   ]
  },
  {
   "cell_type": "code",
   "execution_count": null,
   "id": "90699dc2-83f3-4094-a164-7d73586b79f1",
   "metadata": {},
   "outputs": [],
   "source": []
  }
 ],
 "metadata": {
  "kernelspec": {
   "display_name": "Python 3 (ipykernel)",
   "language": "python",
   "name": "python3"
  },
  "language_info": {
   "codemirror_mode": {
    "name": "ipython",
    "version": 3
   },
   "file_extension": ".py",
   "mimetype": "text/x-python",
   "name": "python",
   "nbconvert_exporter": "python",
   "pygments_lexer": "ipython3",
   "version": "3.8.16"
  }
 },
 "nbformat": 4,
 "nbformat_minor": 5
}
