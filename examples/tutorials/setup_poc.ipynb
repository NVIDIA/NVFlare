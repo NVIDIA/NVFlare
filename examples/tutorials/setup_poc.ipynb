{
 "cells": [
  {
   "cell_type": "markdown",
   "id": "654a158f-42c6-4706-84c6-4bbbec79be26",
   "metadata": {},
   "source": [
    "# Set Up NVFLARE in POC Mode\n",
    "\n",
    "[POC mode](https://nvflare.readthedocs.io/en/main/user_guide/poc_command.html) allows users to test the features of a full FLARE deployment on a single machine, without the overhead of a true distributed deployment.\n",
    "\n",
    "Compared to the FL Simulator, where the job run is automated on a single system, POC mode allows you to establish and connect distinct server and client \"systems\" which can then be orchestrated using the FLARE Console.  This can be useful in preparation for a distributed deployment.\n",
    "\n",
    "You can also experiment your deployment options (project.yml) using POC mode. \n",
    "\n",
    ">It is ideal to start your NVFLARE system in POC mode from a **terminal**, not from a notebook. The terminal's virual env. must match the kernel's virtual env. In our case, we are using 'nvflare_example'.\n",
    "\n",
    "To get started, let's look at the NVFlare CLI usage for the ``poc`` subcommand:"
   ]
  },
  {
   "cell_type": "code",
   "execution_count": null,
   "id": "8d3c34b6-fa35-466e-b5bf-1b0be07d399f",
   "metadata": {
    "tags": []
   },
   "outputs": [],
   "source": [
    "\n",
    "! nvflare poc -h\n"
   ]
  },
  {
   "cell_type": "markdown",
   "id": "87989e99",
   "metadata": {},
   "source": [
    "We can further look at the help description for each command\n",
    "\n",
    "> We will need ```tree``` command, so we will install ```tree``` in linux, if tree is not avaialble to you, you can replace it with 'ls -al`"
   ]
  },
  {
   "cell_type": "code",
   "execution_count": null,
   "id": "bb926188-020e-4699-9411-d9970521fe0f",
   "metadata": {
    "tags": []
   },
   "outputs": [],
   "source": [
    "! python -m pip install tree"
   ]
  },
  {
   "cell_type": "markdown",
   "id": "7f877f82",
   "metadata": {},
   "source": [
    "#### **POC Workspace**"
   ]
  },
  {
   "cell_type": "markdown",
   "id": "39e5192f-5f6d-4695-bc06-a04928b5f214",
   "metadata": {
    "tags": []
   },
   "source": [
    "if you want to change default POC workspace, you can do the followings"
   ]
  },
  {
   "cell_type": "markdown",
   "id": "d0eb71b3-331e-4caa-996b-bf9af5490c62",
   "metadata": {},
   "source": [
    "* Config command\n",
    "\n",
    "If you prefer not to use environment variable, you can do the followings: \n",
    "\n",
    "```\n",
    "! nvflare config -pw /tmp/nvflare/poc\n",
    "\n",
    "```\n",
    "or \n",
    "```\n",
    "! nvflare config -poc_workspace_dir /tmp/nvflare/poc\n",
    "```"
   ]
  },
  {
   "cell_type": "code",
   "execution_count": null,
   "id": "c668ce86-b4c9-4acb-8932-1653c8f12601",
   "metadata": {
    "tags": []
   },
   "outputs": [],
   "source": [
    "! nvflare config -pw /tmp/nvflare/poc"
   ]
  },
  {
   "cell_type": "markdown",
   "id": "fdfa4ec8-7fa6-4360-85d1-4b9f0448ca1a",
   "metadata": {},
   "source": [
    "Look at the nvflare config command"
   ]
  },
  {
   "cell_type": "code",
   "execution_count": null,
   "id": "23dc2b30-f334-4d28-9102-194cfd55eebc",
   "metadata": {
    "tags": []
   },
   "outputs": [],
   "source": [
    "! nvflare config -h"
   ]
  },
  {
   "cell_type": "markdown",
   "id": "53f523f9-0413-4949-93f4-34fb0112d89d",
   "metadata": {},
   "source": [
    "This should set the default variable to the following config file: ```~/.nvflare/config.conf```\n"
   ]
  },
  {
   "cell_type": "markdown",
   "id": "735beb3b-f4ac-498f-af14-7ab9918371c9",
   "metadata": {},
   "source": [
    "One can set the POC_WORKSPACE_DIR as well as other locations such as startup_kit_dir and job_templates_dir as well. "
   ]
  },
  {
   "cell_type": "markdown",
   "id": "17f368e9-6c66-4076-b12f-25330d4420c2",
   "metadata": {
    "tags": []
   },
   "source": [
    "* Hidden Config\n",
    "\n",
    "What config command does is to write the POC workspace directory to a hidden configuration file. \n",
    "\n",
    "```\n",
    "~/.nvflare/config.conf\n",
    "```\n",
    "\n",
    "You can also edit directly the config file without using the config command. "
   ]
  },
  {
   "cell_type": "code",
   "execution_count": null,
   "id": "a98e4fbe-43ce-4e30-8017-46d21fe81b31",
   "metadata": {
    "tags": []
   },
   "outputs": [],
   "source": [
    "!cat ~/.nvflare/config.conf"
   ]
  },
  {
   "cell_type": "markdown",
   "id": "524a9d03-cbca-467f-8cf3-46f9481f1dca",
   "metadata": {},
   "source": [
    "You can also env. variable, NVFLARE_POC_WORKSPACE, if you prefer. If both hidden config file and env. variable NVFLARE_POC_WORKSPACE are set, env. variable will take the precedence.\n",
    "```\n",
    "%env  NVFLARE_POC_WORKSPACE=/tmp/nvflare/poc\n",
    "!echo $NVFLARE_POC_WORKSPACE \n",
    "\n",
    "```\n",
    " \n"
   ]
  },
  {
   "cell_type": "markdown",
   "id": "4b5f79f8-4146-4222-a991-a2411dc72b79",
   "metadata": {},
   "source": [
    "### Preparing the POC workspace\n",
    "\n",
    "Now that we've configured our POC configuration, we can prepare the POC workspace.  By default, the following command will generate POC packages for a server and two clients.\n",
    "nvflare poc prepare\n",
    "```\n",
    "    nvflare poc prepare \n",
    "```\n",
    "\n",
    "You can specify a different number of clients with the -n option:\n",
    "\n",
    "```\n",
    "   nvflare poc prepare -n N\n",
    "```\n",
    "\n",
    "If you running the POC prepare command, there is a prompt for user to answer."
   ]
  },
  {
   "cell_type": "markdown",
   "id": "648d9e46-dce8-4b3d-b1be-bac290673907",
   "metadata": {},
   "source": [
    "#### Various Prepare Options"
   ]
  },
  {
   "cell_type": "code",
   "execution_count": null,
   "id": "0507ce83-ff64-4684-a97c-728d495158ad",
   "metadata": {
    "tags": []
   },
   "outputs": [],
   "source": [
    "!  nvflare poc prepare -h"
   ]
  },
  {
   "cell_type": "markdown",
   "id": "2c89112c-3b38-49cf-bbb5-101ba2e58641",
   "metadata": {},
   "source": [
    "We have many options to prepare the POC workspace. let's look at some of them\n",
    "\n",
    "* use client's site name (instead of use default site-1,2 etc.)\n",
    "\n",
    "```\n",
    "! nvflare poc prepare -c hospital-1 hospital-2\n",
    "```\n",
    "This will create two clients named **hospital-1** and **hospital-2**\n",
    "\n",
    "* -d docker_image\n",
    "\n",
    "This instruct the provision tool to create a docker.sh use the specified docker_image. The docker.sh will start in detached mode. \n",
    "\n",
    "* -i project.yml \n",
    "\n",
    "This optional allows you experiment the your project.yml locally, try local before used in production. \n",
    "\n",
    "* All specified options will resulting an project.yml file located at \n",
    "\n",
    "<poc_workspace>/project.yml \n",
    "\n",
    "for example, ```/tmp/nvflare/poc/project.yml```\n",
    "\n",
    "\n",
    "Let's try out some of options\n",
    "\n",
    "* **Named Clients**\n",
    "\n",
    "instead of using default  site-1, site-2 etc. user can specified the client names"
   ]
  },
  {
   "cell_type": "code",
   "execution_count": null,
   "id": "95749ed0-7e9d-4994-abe2-341fd299f801",
   "metadata": {
    "tags": []
   },
   "outputs": [],
   "source": [
    "! echo 'y' | nvflare poc prepare -c hospital-1 hospital-2\n"
   ]
  },
  {
   "cell_type": "markdown",
   "id": "e4e559b4-6fff-44a2-aeb1-6b96e63888f5",
   "metadata": {},
   "source": [
    "Now, let's look at the result, if you have ```tree``` command installed in linux (``` pip install tree```), you can use it. otherwise, use ```ls -al```. "
   ]
  },
  {
   "cell_type": "code",
   "execution_count": null,
   "id": "7cc85def-f768-4c49-883f-8bcfd13461da",
   "metadata": {
    "tags": []
   },
   "outputs": [],
   "source": [
    "! tree /tmp/nvflare/poc/example_project/prod_00"
   ]
  },
  {
   "cell_type": "markdown",
   "id": "89add7ef-346b-40c9-97be-aa49c624adbb",
   "metadata": {},
   "source": [
    "Now two clients are named \"hospital-1\" and \"hospital-2\". \n",
    "\n",
    "* **Setup NVFLARE in docker mode**\n",
    "\n",
    "Normally, when we using ```nvflare poc start```, the clients and server are started as process in the local host. \n",
    "What if you would like to experiment runing client and server in dockers ? You can do it now, \n",
    "\n",
    "```\n",
    "nvflare poc prepare -n 2 -d  <docker_image>\n",
    "\n",
    "```\n",
    "\n",
    "This will create docker.sh for each client and server which will run docker pull docker_image from docker hub, then running the docker in detached mode. The docker_image must use nvflare docker must have flare pre-installed. For example, we use the following docker image \"nvflare/nvflare\"\n",
    "> Note: you should build your own image if you want to include your dependencies such as pytorch etc.\n"
   ]
  },
  {
   "cell_type": "code",
   "execution_count": null,
   "id": "45f77369-a7c6-45d0-aff9-d0f5b23829b5",
   "metadata": {
    "tags": []
   },
   "outputs": [],
   "source": [
    "! echo 'y'| nvflare poc prepare -d 'nvflare/nvflare'"
   ]
  },
  {
   "cell_type": "code",
   "execution_count": null,
   "id": "4f154b6c-f353-48bb-8bed-aa1b6bc7c72f",
   "metadata": {
    "tags": []
   },
   "outputs": [],
   "source": [
    "! tree /tmp/nvflare/poc/example_project/prod_00"
   ]
  },
  {
   "cell_type": "markdown",
   "id": "6b2caf8a-36b9-4e56-b7be-836aec7f1c33",
   "metadata": {},
   "source": [
    "Notice the new \"docker.sh\", now each client will using docker run with we specified \"nvflare/nvflare\" docker image"
   ]
  },
  {
   "cell_type": "markdown",
   "id": "2715f4d2-dd02-4a57-bfc5-985e1589dd18",
   "metadata": {
    "tags": []
   },
   "source": [
    "* **simulate production deployment setup locally**\n",
    "\n",
    "Assuming we have a new custom project.yml, we like to test out the project.yml locally before we do the real provision. \n",
    "\n",
    "We can actually do it with POC !\n",
    "\n",
    "\n",
    "```\n",
    "nvflare poc prepare -i <your project.yml>\n",
    "```\n",
    "\n",
    "Let's try this out.  we have prepared an custom_project.yml file: \n"
   ]
  },
  {
   "cell_type": "code",
   "execution_count": null,
   "id": "23b38275-4d12-492d-8b3b-47217e12625a",
   "metadata": {
    "tags": []
   },
   "outputs": [],
   "source": [
    "!cat ./custom_project.yml"
   ]
  },
  {
   "cell_type": "markdown",
   "id": "b34b6723-b352-4e2b-b86e-77b9f03d26e1",
   "metadata": {},
   "source": [
    "Notice in this project file, we define three sites: \n",
    "\n",
    "* nonprofit-server, served as Server,belong to nonprofit organizaton \n",
    "* us_hospital, served as client, belong to us-hospital\n",
    "* europe-hospital, served as client, belong to eu-hospital\n",
    "\n",
    "We also define few users: \n",
    "* admin@nonprofit.org, from nonprofit.org, serves as project admin\n",
    "* admin@hospital.org.us, lead@hospital.org.us,  member@hospital.org.us from us_hospital, serves as org admin, lead and member for us_hospital respectively\n",
    "\n",
    "* admin@hospital.org.eu, lead@hospital.org.eu,  member@hospital.org.eu from eu_hospital, serves as org admin, lead and member for eu_hospital respectively\n"
   ]
  },
  {
   "cell_type": "code",
   "execution_count": null,
   "id": "1531cba4-5d46-4cd4-9a06-e9c7e1598a9a",
   "metadata": {
    "tags": []
   },
   "outputs": [],
   "source": [
    "! echo 'y' | nvflare poc prepare -i ./custom_project.yml"
   ]
  },
  {
   "cell_type": "code",
   "execution_count": null,
   "id": "35e52946-d307-45f3-ac52-e7190d556104",
   "metadata": {
    "tags": []
   },
   "outputs": [],
   "source": [
    "! tree /tmp/nvflare/poc/health_project/prod_00"
   ]
  },
  {
   "cell_type": "markdown",
   "id": "a71a7f61-31dd-442a-8f43-0b25af7e58b1",
   "metadata": {},
   "source": [
    "See we actually provisioned all participants"
   ]
  },
  {
   "cell_type": "markdown",
   "id": "07e8d0a6-a744-42d8-b614-879ba64256f2",
   "metadata": {
    "tags": []
   },
   "source": [
    "### Prepare job example directories \n",
    "\n",
    "By default, if you have cloned the NVFLARE Github directory and set the NVFLARE_HOME env. variable, the ```nvflare poc prepare``` command will setup symbolic to the <NVFlare>/examples directory, so you can experiment with jobs from examples directory. \n",
    "\n",
    "If you did not set the NVFLARE_HOME env. variable, or did not fork the NVFlare Github Repo, or you want to experiment jobs you defined. \n",
    "\n",
    "you can use the following command to setup jobs\n",
    "\n",
    "```\n",
    "nvflare poc prepare-jobs-dir -j <jobs directory>\n",
    "```\n",
    "for instance: \n",
    "    \n",
    "```    \n",
    "nvflare poc prepare-jobs-dir -j /path/to/examples\n",
    "```"
   ]
  },
  {
   "cell_type": "markdown",
   "id": "0efc93e2-fcc8-4789-822f-69e8d2d32116",
   "metadata": {},
   "source": [
    "### Start NVFlare system in POC mode\n",
    "\n",
    "When starting the POC deployment, it's necessary to use a separate terminal since the `nvflare poc start` command will run  in the foreground emitting output from the server and any connected clients.\n",
    "\n",
    "Also note that `nvflare poc start` starts all clients and server as well as project admin console. All other participants (org admin, lead and member) will not started. \n",
    "\n",
    "In many cases, we want to start the clients and server, but without the FLARE console for project admin, as we are going to interact with the system from a notebook or CLI. You first need to find out the user name for the project admin. By default, this is admin@nvidia.com\n",
    "\n",
    "Create a terminal to execute the following command (in JupyterLab or host terminal), then\n",
    "\n",
    "```\n",
    "    nvflare poc start -ex admin@nvidia.com\n",
    "```\n",
    ">**Note:**\n",
    "    Using ```%%bash -bg``` to run the above command in a code cell may not always work\n",
    "    \n",
    "#### A more complex example\n",
    "    \n",
    "In this example, lets see how to start the individual user participants defined in custom_project.yml. Note the project admin is \"admin@nonprofit.org\" instead of \"admin@nvidia.com\"\n",
    "\n",
    "Please use terminal to try these commands\n",
    "\n",
    "* We start start without project admin console\n",
    "\n",
    "```\n",
    "    nvflare poc start -ex admin@nonprofit.org\n",
    "```\n",
    "\n",
    "This will start two hospital clients and server. \n",
    "\n",
    "* Next we like to start US hospital's lead's FLARE console \n",
    "\n",
    "```\n",
    "\n",
    "nvflare poc start -p lead@hospital.org.us\n",
    "\n",
    "```\n",
    "\n",
    "You are acting as US hospital's lead \n",
    "\n",
    "\n",
    "\n",
    "\n"
   ]
  },
  {
   "cell_type": "markdown",
   "id": "d4568b87-a711-4441-a2af-2008dbc9e278",
   "metadata": {
    "tags": []
   },
   "source": [
    "Once the system is up, we are now ready to go back to the notebook to work on your project."
   ]
  },
  {
   "cell_type": "markdown",
   "id": "275fbe95-faf3-468d-a96a-453310e90aee",
   "metadata": {},
   "source": [
    "### Stop FLARE system in POC\n",
    "\n",
    "Once you are done with the FLARE system, you can shut down the poc system.\n",
    "From terminal, issue the following command stop poc in the terminal\n",
    "```\n",
    "   nvflare poc stop\n",
    "```\n",
    "\n",
    "This will shutdown all participants including server, clients, admin consoles\n",
    "\n",
    "If you like to shutdown invididual participant. You can use the following command\n",
    "\n",
    "```\n",
    "    nvflare poc stop -p <participant>\n",
    "```\n",
    "\n",
    "here are some examples depending on your prepared poc\n",
    "\n",
    "\n",
    "```\n",
    "    nvflare poc stop -p server\n",
    "\n",
    "    nvflare poc stop -p site-1\n",
    "    \n",
    "    nvflare poc stop -p admin@nvidia.com\n",
    "    \n",
    "    nvflare poc stop -p lead@hospital.org.us\n",
    "```\n",
    "\n"
   ]
  },
  {
   "cell_type": "markdown",
   "id": "721dcecf-c855-4e21-a623-830bfaaddd9b",
   "metadata": {
    "tags": []
   },
   "source": [
    "### Project Yaml File\n",
    "\n",
    "Once we experimented with different options, we are ready to move on to the production beyond local host. \n",
    "You don't need to manual edit the project.yml to do so. The resulting project.yml is auto-generated for you and located at \n",
    "\n",
    "```\n",
    "  <POC_Workspace>/project.yml\n",
    "```\n",
    "\n",
    "For example,\n"
   ]
  },
  {
   "cell_type": "code",
   "execution_count": null,
   "id": "02b0f998-2776-412f-b97d-a6e8a99ff583",
   "metadata": {
    "tags": []
   },
   "outputs": [],
   "source": [
    "! echo 'y' | nvflare poc prepare -c hospital_1 hospital_2 -d 'nvflare/nvflare' -he  "
   ]
  },
  {
   "cell_type": "code",
   "execution_count": null,
   "id": "5e32726e-f48e-4b73-ae0c-ccb5d71983bc",
   "metadata": {
    "tags": []
   },
   "outputs": [],
   "source": [
    "! tree /tmp/nvflare/poc/example_project/prod_00"
   ]
  },
  {
   "cell_type": "code",
   "execution_count": null,
   "id": "97fd1ff1-19f6-4e21-b353-684468a12456",
   "metadata": {
    "tags": []
   },
   "outputs": [],
   "source": [
    "! cat  /tmp/nvflare/poc/project.yml"
   ]
  },
  {
   "cell_type": "markdown",
   "id": "f74a5c2d-d7ad-4995-9940-9b98e9f9a4bf",
   "metadata": {},
   "source": [
    "Copy this file and you are ready to go !"
   ]
  },
  {
   "cell_type": "markdown",
   "id": "ea8f1878-7e9d-4e17-ba78-5812fc88b580",
   "metadata": {},
   "source": [
    "### Clean up POC workspace\n",
    "\n",
    "If you want to clean up the POC workspace and delete the poc workspace directory containing all packages you may have prepared, you can use the following command:"
   ]
  },
  {
   "cell_type": "code",
   "execution_count": null,
   "id": "66c787b6-e4af-473c-89af-71f7acf3fb17",
   "metadata": {
    "tags": []
   },
   "outputs": [],
   "source": [
    "! nvflare poc clean"
   ]
  },
  {
   "cell_type": "markdown",
   "id": "6b8e11d2",
   "metadata": {},
   "source": [
    "You can check if the nvflare system is shutdown cleanly with:\n",
    "\n",
    "```\n",
    "ps -eaf | grep nvflare\n",
    "```\n",
    "\n",
    "If you see output like the following, then nvflare systems are still running:\n",
    "\n",
    "```\n",
    "510535    1932  1 18:54 pts/1    00:00:03 python3 -u -m nvflare.private.fed.app.client.client_train -m /tmp/workspace/example_project/prod_00/site-1/startup/.. -s fed_client.json --set secure_train=true uid=site-1 org=nvidia config_folder=config\n",
    "510539    1932  1 18:54 pts/1    00:00:03 python3 -u -m nvflare.private.fed.app.client.client_train -m /tmp/workspace/example_project/prod_00/site-2/startup/.. -s fed_client.json --set secure_train=true uid=site-2 org=nvidia config_folder=config\n",
    "510543    1932  1 18:54 pts/1    00:00:04 python3 -u -m nvflare.private.fed.app.server.server_train -m /tmp/workspace/example_project/prod_00/localhost/startup/.. -s fed_server.json --set secure_train=true org=nvidia config_folder=config\n",
    "```\n",
    "\n",
    "If you have already used ``nvflare poc clean`` to delete the workspace, you may need to kill the processes manually.\n"
   ]
  }
 ],
 "metadata": {
  "kernelspec": {
   "display_name": "nvflare_example",
   "language": "python",
   "name": "nvflare_example"
  },
  "language_info": {
   "codemirror_mode": {
    "name": "ipython",
    "version": 3
   },
   "file_extension": ".py",
   "mimetype": "text/x-python",
   "name": "python",
   "nbconvert_exporter": "python",
   "pygments_lexer": "ipython3",
   "version": "3.8.18"
  }
 },
 "nbformat": 4,
 "nbformat_minor": 5
}
