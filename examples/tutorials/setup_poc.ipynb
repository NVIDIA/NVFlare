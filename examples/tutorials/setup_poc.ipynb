{
 "cells": [
  {
   "cell_type": "markdown",
   "id": "654a158f-42c6-4706-84c6-4bbbec79be26",
   "metadata": {},
   "source": [
    "# Set Up NVFLARE in POC Mode\n",
    "\n",
    "[POC mode](https://nvflare.readthedocs.io/en/main/user_guide/poc_command.html) allows users to test the features of a full FLARE deployment on a single machine, without the overhead of a true distributed deployment.\n",
    "\n",
    "Compared to the FL Simulator, where the job run is automated on a single system, POC mode allows you to establish and connect distinct server and client \"systems\" which can then be orchestrated using the FLARE Console.  This can be useful in preparation for a distributed deployment.\n",
    "\n",
    "With 2.4.0 upgrade, you can also experiment your deployment options (project.yml) using POC mode. \n",
    "\n",
    ">It is ideal to start your NVFLARE system in POC mode from a **terminal**, not from a notebook. The terminal's virual env. must match the kernel's virtual env. In our case, we are using 'nvflare_example'.\n",
    "\n",
    "To get started, let's look at the NVFlare CLI usage for the ``poc`` subcommand:"
   ]
  },
  {
   "cell_type": "code",
   "execution_count": 1,
   "id": "8d3c34b6-fa35-466e-b5bf-1b0be07d399f",
   "metadata": {
    "tags": []
   },
   "outputs": [
    {
     "name": "stdout",
     "output_type": "stream",
     "text": [
      "usage: nvflare poc [-h] [--prepare] [--start] [--stop] [--clean]\n",
      "                   {prepare,prepare-examples,start,stop,clean} ...\n",
      "\n",
      "optional arguments:\n",
      "  -h, --help            show this help message and exit\n",
      "  --prepare             deprecated, suggest use 'nvflare poc prepare'\n",
      "  --start               deprecated, suggest use 'nvflare poc start'\n",
      "  --stop                deprecated, suggest use 'nvflare poc stop'\n",
      "  --clean               deprecated, suggest use 'nvflare poc clean'\n",
      "\n",
      "poc:\n",
      "  {prepare,prepare-examples,start,stop,clean}\n",
      "                        poc subcommand\n",
      "    prepare             prepare poc environment by provisioning local project\n",
      "    prepare-examples    prepare examples\n",
      "    start               start services in poc mode\n",
      "    stop                stop services in poc mode\n",
      "    clean               clean up poc workspace\n"
     ]
    }
   ],
   "source": [
    "\n",
    "! nvflare poc -h\n"
   ]
  },
  {
   "cell_type": "markdown",
   "id": "87989e99",
   "metadata": {},
   "source": [
    "> If you are the NVFLARE user prior to 2.4.0, you might noticed two things\n",
    "> * poc command is now separate the sub-commands\n",
    "> * the sub-commands such as \"prepare\", \"start/stop\" etc. are different from previous version where \"--\" is removed for command, such as \n",
    ">   \"--prepare\" becomes \"prepare\" and \"--start\" becomes \"start\" etc. \n",
    "\n",
    "We can further look at the help description for each command\n",
    "\n",
    "> We will need ```tree``` command, so we will install ```tree`` in linux, if tree is not avaialble to you, you can replace it with 'ls -al`"
   ]
  },
  {
   "cell_type": "code",
   "execution_count": 42,
   "id": "bb926188-020e-4699-9411-d9970521fe0f",
   "metadata": {
    "tags": []
   },
   "outputs": [
    {
     "name": "stdout",
     "output_type": "stream",
     "text": [
      "Requirement already satisfied: tree in /home/chester/nvflare_example/lib/python3.8/site-packages (0.2.4)\n",
      "Requirement already satisfied: click in /home/chester/nvflare_example/lib/python3.8/site-packages (from tree) (8.1.3)\n",
      "Requirement already satisfied: setuptools in /home/chester/nvflare_example/lib/python3.8/site-packages (from tree) (56.0.0)\n",
      "Requirement already satisfied: Pillow in /home/chester/nvflare_example/lib/python3.8/site-packages (from tree) (9.4.0)\n",
      "Requirement already satisfied: svgwrite in /home/chester/nvflare_example/lib/python3.8/site-packages (from tree) (1.4.3)\n",
      "\n",
      "\u001b[1m[\u001b[0m\u001b[34;49mnotice\u001b[0m\u001b[1;39;49m]\u001b[0m\u001b[39;49m A new release of pip is available: \u001b[0m\u001b[31;49m23.0.1\u001b[0m\u001b[39;49m -> \u001b[0m\u001b[32;49m23.2.1\u001b[0m\n",
      "\u001b[1m[\u001b[0m\u001b[34;49mnotice\u001b[0m\u001b[1;39;49m]\u001b[0m\u001b[39;49m To update, run: \u001b[0m\u001b[32;49mpip install --upgrade pip\u001b[0m\n"
     ]
    }
   ],
   "source": [
    "! python -m pip install tree"
   ]
  },
  {
   "cell_type": "markdown",
   "id": "2b0cf1fe-6ed4-4fc6-8b42-e43f0b28443c",
   "metadata": {},
   "source": [
    "### Preparing the POC Configuration\n",
    "Before running POC mode, there are a few environment variables you might consider to set. These env. variables are consider nice to have but not required since 2.4.0. We have provided other options if you preference is not use env. variables. \n",
    "\n",
    "##### **NVFLARE_HOME**\n",
    "\n",
    "> Note: Set NVFLARE_HOME env. variables if only you want to use examples as jobs in POC mode.\n",
    "\n",
    "Prior 2.4.0 release, the NVFLARE_HOME env. variable is used to find the NVFlare/exampels location. In 2.4.0, we have added \n",
    "\n",
    "```\n",
    "nvflare poc prepare-examples <examples_location>\n",
    "\n",
    "```\n",
    "command to do so. If you decide to set it, you can set in the followings steps. set `NVFLARE_HOME` to the root of the GitHub clone.  \n"
   ]
  },
  {
   "cell_type": "code",
   "execution_count": 7,
   "id": "ec8d6a6c-bb58-431a-afbf-cc722c4e6152",
   "metadata": {
    "tags": []
   },
   "outputs": [
    {
     "name": "stdout",
     "output_type": "stream",
     "text": [
      "env: NVFLARE_HOME=/home/chester/projects/NVFlare\n",
      "/home/chester/projects/NVFlare\n"
     ]
    }
   ],
   "source": [
    "import os\n",
    "NVFLARE_HOME=os.path.abspath(os.path.join(os.getcwd(), \"../..\"))\n",
    "%env NVFLARE_HOME={NVFLARE_HOME}\n",
    "! echo $NVFLARE_HOME"
   ]
  },
  {
   "cell_type": "markdown",
   "id": "7f877f82",
   "metadata": {},
   "source": [
    "##### **POC Workspace**\n",
    "\n",
    "By default, POC mode uses a temporary workspace in /tmp/nvflare/poc. If you are going to use default workspace, you don't need to anything. \n",
    "\n",
    "\n",
    "If you prefer to set a workspace in different location than the default, you can change the default location with different ways.  \n",
    "\n",
    "We have provided few ways to change the location. Prior to 2.4.0 release, you have to use environment variable NVFLARE_POC_WORKSPACE. \n",
    "\n",
    "* NVFLARE_POC_WORKSPACE\n",
    "\n",
    "```\n",
    "%env NVFLARE_POC_WORKSPACE=/your/new/location/path\n",
    "\n",
    "```\n",
    "\n",
    "Starting in 2.4.0 release, we provided another option (detailed later). But NVFLARE_POC_WORKSPACE will take precedence if both approachs are used. To set the NVFLARE_POC_WORKSPACE: "
   ]
  },
  {
   "cell_type": "code",
   "execution_count": 14,
   "id": "d365c900",
   "metadata": {
    "tags": []
   },
   "outputs": [
    {
     "name": "stdout",
     "output_type": "stream",
     "text": [
      "env: NVFLARE_POC_WORKSPACE=/tmp/nvflare/poc\n",
      "/tmp/nvflare/poc\n"
     ]
    }
   ],
   "source": [
    "%env  NVFLARE_POC_WORKSPACE=/tmp/nvflare/poc\n",
    "!echo $NVFLARE_POC_WORKSPACE "
   ]
  },
  {
   "cell_type": "markdown",
   "id": "39e5192f-5f6d-4695-bc06-a04928b5f214",
   "metadata": {
    "tags": []
   },
   "source": [
    "If you want to use the default poc workspace, ``/tmp/nvflare/poc``, you don't need set ``NVFLARE_POC_WORKSPACE``. "
   ]
  },
  {
   "cell_type": "markdown",
   "id": "d0eb71b3-331e-4caa-996b-bf9af5490c62",
   "metadata": {},
   "source": [
    "* Config command\n",
    "\n",
    "If you prefer not to use environment variable, you can do the followings: \n",
    "\n",
    "```\n",
    "! nvflare config -pw /tmp/nvflare/poc\n",
    "\n",
    "```\n",
    "or \n",
    "```\n",
    "! nvflare config -poc_workspace_dir /tmp/nvflare/poc\n",
    "```"
   ]
  },
  {
   "cell_type": "code",
   "execution_count": null,
   "id": "c668ce86-b4c9-4acb-8932-1653c8f12601",
   "metadata": {
    "tags": []
   },
   "outputs": [],
   "source": [
    "! nvflare config -pw /tmp/nvflare/poc"
   ]
  },
  {
   "cell_type": "markdown",
   "id": "fdfa4ec8-7fa6-4360-85d1-4b9f0448ca1a",
   "metadata": {},
   "source": [
    "Look at the nvflare config command"
   ]
  },
  {
   "cell_type": "code",
   "execution_count": 16,
   "id": "23dc2b30-f334-4d28-9102-194cfd55eebc",
   "metadata": {
    "tags": []
   },
   "outputs": [
    {
     "name": "stdout",
     "output_type": "stream",
     "text": [
      "usage: nvflare config [-h] [-d [STARTUP_KIT_DIR]] [-pw [POC_WORKSPACE_DIR]]\n",
      "                      [-debug]\n",
      "\n",
      "optional arguments:\n",
      "  -h, --help            show this help message and exit\n",
      "  -d [STARTUP_KIT_DIR], --startup_kit_dir [STARTUP_KIT_DIR]\n",
      "                        startup kit location\n",
      "  -pw [POC_WORKSPACE_DIR], --poc_workspace_dir [POC_WORKSPACE_DIR]\n",
      "                        POC Workspace location\n",
      "  -debug, --debug       debug is on\n"
     ]
    }
   ],
   "source": [
    "! nvflare config -h"
   ]
  },
  {
   "cell_type": "markdown",
   "id": "53f523f9-0413-4949-93f4-34fb0112d89d",
   "metadata": {},
   "source": [
    "This should set the default variable to the following location: \n"
   ]
  },
  {
   "cell_type": "markdown",
   "id": "735beb3b-f4ac-498f-af14-7ab9918371c9",
   "metadata": {},
   "source": [
    "Once can set the POC_WORKSPACE_DIR as well as other location as well. "
   ]
  },
  {
   "cell_type": "markdown",
   "id": "17f368e9-6c66-4076-b12f-25330d4420c2",
   "metadata": {
    "tags": []
   },
   "source": [
    "* Hidden Config\n",
    "\n",
    "What config command does is to write the POC workspace directory to a hidden configuration file. \n",
    "\n",
    "```\n",
    "~/.nvflare/config.conf\n",
    "```\n",
    "\n",
    "You can also edit directly the config file without using the config command. "
   ]
  },
  {
   "cell_type": "code",
   "execution_count": 13,
   "id": "a98e4fbe-43ce-4e30-8017-46d21fe81b31",
   "metadata": {
    "tags": []
   },
   "outputs": [
    {
     "name": "stdout",
     "output_type": "stream",
     "text": [
      "startup_kit {\n",
      "  path = \"/tmp/nvflare/poc1/example_project/prod_00\"\n",
      "}\n",
      "poc_workspace {\n",
      "  path = \"/tmp/nvflare/poc1\"\n",
      "}\n",
      "job_template {\n",
      "  path = \"/home/chester/projects/NVFlare/job_templates\"\n",
      "}\n"
     ]
    }
   ],
   "source": [
    "!cat ~/.nvflare/config.conf"
   ]
  },
  {
   "cell_type": "markdown",
   "id": "4b5f79f8-4146-4222-a991-a2411dc72b79",
   "metadata": {},
   "source": [
    "### Preparing the POC workspace\n",
    "\n",
    "Now that we've configured out POC configuration, we can prepare the POC workspace.  By default, the following command will generate POC packages for a server and two clients.\n",
    "nvflare poc prepare\n",
    "```\n",
    "    nvflare poc prepare \n",
    "```\n",
    "\n",
    "You can specify a different number of clients with the -n option:\n",
    "\n",
    "```\n",
    "   nvflare poc prepare -n N\n",
    "```\n",
    "\n",
    "If you running the POC prepare command, there is a prompt for user to answer."
   ]
  },
  {
   "cell_type": "markdown",
   "id": "648d9e46-dce8-4b3d-b1be-bac290673907",
   "metadata": {},
   "source": [
    "#### Various Prepare Options"
   ]
  },
  {
   "cell_type": "code",
   "execution_count": 5,
   "id": "0507ce83-ff64-4684-a97c-728d495158ad",
   "metadata": {
    "tags": []
   },
   "outputs": [
    {
     "name": "stdout",
     "output_type": "stream",
     "text": [
      "usage: nvflare poc prepare [-h] [-n [NUMBER_OF_CLIENTS]]\n",
      "                           [-c [CLIENTS [CLIENTS ...]]] [-e [EXAMPLES]] [-he]\n",
      "                           [-i [PROJECT_INPUT]] [-d [DOCKER_IMAGE]] [-debug]\n",
      "\n",
      "optional arguments:\n",
      "  -h, --help            show this help message and exit\n",
      "  -n [NUMBER_OF_CLIENTS], --number_of_clients [NUMBER_OF_CLIENTS]\n",
      "                        number of sites or clients, default to 2\n",
      "  -c [CLIENTS [CLIENTS ...]], --clients [CLIENTS [CLIENTS ...]]\n",
      "                        Space separated client names. If specified,\n",
      "                        number_of_clients argument will be ignored.\n",
      "  -e [EXAMPLES], --examples [EXAMPLES]\n",
      "                        examples directory\n",
      "  -he, --he             enable homomorphic encryption.\n",
      "  -i [PROJECT_INPUT], --project_input [PROJECT_INPUT]\n",
      "                        project.yaml file path, If specified,\n",
      "                        'number_of_clients','clients' and 'docker' specific\n",
      "                        options will be ignored.\n",
      "  -d [DOCKER_IMAGE], --docker_image [DOCKER_IMAGE]\n",
      "                        generate docker.sh based on the docker_image, used in\n",
      "                        'prepare' command. and generate docker.sh\n",
      "                        'start/stop' commands will start with docker.sh\n",
      "  -debug, --debug       debug is on\n"
     ]
    }
   ],
   "source": [
    "!  nvflare poc prepare -h"
   ]
  },
  {
   "cell_type": "markdown",
   "id": "2c89112c-3b38-49cf-bbb5-101ba2e58641",
   "metadata": {},
   "source": [
    "We have many options to prepare the POC workspace. let's look at some of them\n",
    "\n",
    "* use client's site name (instead of use default site-1,2 etc.)\n",
    "\n",
    "```\n",
    "! nvflare poc prepare -c hospital-1 hospital-2\n",
    "```\n",
    "This will create two clients named **hospital-1** and **hospital-2**\n",
    "\n",
    "* -d docker_image\n",
    "\n",
    "This instruct the provision tool to create a docker.sh use the specified docker_image. The docker.sh will start in detached mode. \n",
    "\n",
    "* -i project.yml \n",
    "\n",
    "This optional allows you experiment the your project.yml locally, try local before used in production. \n",
    "\n",
    "* All specified options will resulting an project.yml file located at \n",
    "\n",
    "<poc_workspace>/project.yml \n",
    "\n",
    "for example, ```/tmp/nvflare/poc/project.yml```\n",
    "\n",
    "\n",
    "Let's try out some of options\n",
    "\n",
    "* **Named Clients**\n",
    "\n",
    "instead of using default  site-1, site-2 etc. user can specified the client names"
   ]
  },
  {
   "cell_type": "code",
   "execution_count": 18,
   "id": "95749ed0-7e9d-4994-abe2-341fd299f801",
   "metadata": {
    "tags": []
   },
   "outputs": [
    {
     "name": "stdout",
     "output_type": "stream",
     "text": [
      "prepare poc at /tmp/nvflare/poc for 2 clients\n",
      "provision at /tmp/nvflare/poc for 2 clients with /tmp/nvflare/poc/project.yml\n",
      "Generated results can be found under /tmp/nvflare/poc/example_project/prod_00. \n",
      "link examples from /home/chester/projects/NVFlare/examples to /tmp/nvflare/poc/example_project/prod_00/admin@nvidia.com/transfer\n"
     ]
    }
   ],
   "source": [
    "! nvflare poc prepare -c hospital-1 hospital-2\n"
   ]
  },
  {
   "cell_type": "markdown",
   "id": "e4e559b4-6fff-44a2-aeb1-6b96e63888f5",
   "metadata": {},
   "source": [
    "Now, let's look at the result, if you have ```tree`` command installed in linux (``` pip install tree```), you can use it. otherwise, use ```ls -al```. "
   ]
  },
  {
   "cell_type": "code",
   "execution_count": 19,
   "id": "7cc85def-f768-4c49-883f-8bcfd13461da",
   "metadata": {
    "tags": []
   },
   "outputs": [
    {
     "name": "stdout",
     "output_type": "stream",
     "text": [
      "\u001b[01;34m/tmp/nvflare/poc/example_project/prod_00\u001b[0m\n",
      "├── \u001b[01;34madmin@nvidia.com\u001b[0m\n",
      "│   ├── \u001b[01;34mlocal\u001b[0m\n",
      "│   ├── \u001b[01;34mstartup\u001b[0m\n",
      "│   │   ├── client.crt\n",
      "│   │   ├── client.key\n",
      "│   │   ├── client.pfx\n",
      "│   │   ├── fed_admin.json\n",
      "│   │   ├── \u001b[01;32mfl_admin.sh\u001b[0m\n",
      "│   │   ├── readme.txt\n",
      "│   │   └── rootCA.pem\n",
      "│   └── \u001b[01;36mtransfer\u001b[0m -> \u001b[01;34m/home/chester/projects/NVFlare/examples\u001b[0m\n",
      "├── \u001b[01;34mhospital-1\u001b[0m\n",
      "│   ├── \u001b[01;34mlocal\u001b[0m\n",
      "│   │   ├── authorization.json.default\n",
      "│   │   ├── log.config.default\n",
      "│   │   ├── privacy.json.sample\n",
      "│   │   └── resources.json.default\n",
      "│   ├── readme.txt\n",
      "│   ├── \u001b[01;34mstartup\u001b[0m\n",
      "│   │   ├── client.crt\n",
      "│   │   ├── client.key\n",
      "│   │   ├── client.pfx\n",
      "│   │   ├── fed_client.json\n",
      "│   │   ├── rootCA.pem\n",
      "│   │   ├── signature.json\n",
      "│   │   ├── \u001b[01;32mstart.sh\u001b[0m\n",
      "│   │   ├── \u001b[01;32mstop_fl.sh\u001b[0m\n",
      "│   │   └── \u001b[01;32msub_start.sh\u001b[0m\n",
      "│   └── \u001b[01;34mtransfer\u001b[0m\n",
      "├── \u001b[01;34mhospital-2\u001b[0m\n",
      "│   ├── \u001b[01;34mlocal\u001b[0m\n",
      "│   │   ├── authorization.json.default\n",
      "│   │   ├── log.config.default\n",
      "│   │   ├── privacy.json.sample\n",
      "│   │   └── resources.json.default\n",
      "│   ├── readme.txt\n",
      "│   ├── \u001b[01;34mstartup\u001b[0m\n",
      "│   │   ├── client.crt\n",
      "│   │   ├── client.key\n",
      "│   │   ├── client.pfx\n",
      "│   │   ├── fed_client.json\n",
      "│   │   ├── rootCA.pem\n",
      "│   │   ├── signature.json\n",
      "│   │   ├── \u001b[01;32mstart.sh\u001b[0m\n",
      "│   │   ├── \u001b[01;32mstop_fl.sh\u001b[0m\n",
      "│   │   └── \u001b[01;32msub_start.sh\u001b[0m\n",
      "│   └── \u001b[01;34mtransfer\u001b[0m\n",
      "└── \u001b[01;34mserver\u001b[0m\n",
      "    ├── \u001b[01;34mlocal\u001b[0m\n",
      "    │   ├── authorization.json.default\n",
      "    │   ├── log.config.default\n",
      "    │   ├── privacy.json.sample\n",
      "    │   └── resources.json.default\n",
      "    ├── readme.txt\n",
      "    ├── \u001b[01;34mstartup\u001b[0m\n",
      "    │   ├── fed_server.json\n",
      "    │   ├── rootCA.pem\n",
      "    │   ├── server.crt\n",
      "    │   ├── server.key\n",
      "    │   ├── server.pfx\n",
      "    │   ├── signature.json\n",
      "    │   ├── \u001b[01;32mstart.sh\u001b[0m\n",
      "    │   ├── \u001b[01;32mstop_fl.sh\u001b[0m\n",
      "    │   └── \u001b[01;32msub_start.sh\u001b[0m\n",
      "    └── \u001b[01;34mtransfer\u001b[0m\n",
      "\n",
      "16 directories, 49 files\n"
     ]
    }
   ],
   "source": [
    "! tree /tmp/nvflare/poc/example_project/prod_00"
   ]
  },
  {
   "cell_type": "markdown",
   "id": "89add7ef-346b-40c9-97be-aa49c624adbb",
   "metadata": {},
   "source": [
    "Now two clients are named \"hospital-1\" and \"hospital-2\". \n",
    "\n",
    "* **Setup NVFLARE in docker mode**\n",
    "\n",
    "Normally, when we using ```nvflare poc start```, the clients and server are started as process in the local host. \n",
    "What if you would like to experiment runing client and server in dockers ? You can do it now, \n",
    "\n",
    "```\n",
    "nvflare poc prepare -n 2 -d  <docker_image>\n",
    "\n",
    "```\n",
    "\n",
    "This will create docker.sh for each client and server which will run docker pull docker_image from docker hub, then running the docker in detached mode. The docker_image must use nvflare docker must have flare pre-installed. For example, we use the following docker image \"nvflare/nvflare\"\n",
    "> Note: you should build your own image if you want to include your dependencies such as pytorch etc.\n"
   ]
  },
  {
   "cell_type": "code",
   "execution_count": 28,
   "id": "45f77369-a7c6-45d0-aff9-d0f5b23829b5",
   "metadata": {
    "tags": []
   },
   "outputs": [
    {
     "name": "stdout",
     "output_type": "stream",
     "text": [
      "prepare poc at /tmp/nvflare/poc for 2 clients\n",
      "This will delete poc folder in /tmp/nvflare/poc directory and create a new one. Is it OK to proceed? (y/N) provision at /tmp/nvflare/poc for 2 clients with /tmp/nvflare/poc/project.yml\n",
      "Generated results can be found under /tmp/nvflare/poc/example_project/prod_00. \n",
      "link examples from /home/chester/projects/NVFlare/examples to /tmp/nvflare/poc/example_project/prod_00/admin@nvidia.com/transfer\n"
     ]
    }
   ],
   "source": [
    "! echo 'y'| nvflare poc prepare -d 'nvflare/nvflare'"
   ]
  },
  {
   "cell_type": "code",
   "execution_count": 29,
   "id": "4f154b6c-f353-48bb-8bed-aa1b6bc7c72f",
   "metadata": {
    "tags": []
   },
   "outputs": [
    {
     "name": "stdout",
     "output_type": "stream",
     "text": [
      "\u001b[01;34m/tmp/nvflare/poc/example_project/prod_00\u001b[0m\n",
      "├── \u001b[01;34madmin@nvidia.com\u001b[0m\n",
      "│   ├── \u001b[01;34mlocal\u001b[0m\n",
      "│   ├── \u001b[01;34mstartup\u001b[0m\n",
      "│   │   ├── client.crt\n",
      "│   │   ├── client.key\n",
      "│   │   ├── client.pfx\n",
      "│   │   ├── \u001b[01;32mdocker.sh\u001b[0m\n",
      "│   │   ├── fed_admin.json\n",
      "│   │   ├── \u001b[01;32mfl_admin.sh\u001b[0m\n",
      "│   │   ├── readme.txt\n",
      "│   │   └── rootCA.pem\n",
      "│   └── \u001b[01;36mtransfer\u001b[0m -> \u001b[01;34m/home/chester/projects/NVFlare/examples\u001b[0m\n",
      "├── \u001b[01;34mserver\u001b[0m\n",
      "│   ├── \u001b[01;34mlocal\u001b[0m\n",
      "│   │   ├── authorization.json.default\n",
      "│   │   ├── log.config.default\n",
      "│   │   ├── privacy.json.sample\n",
      "│   │   └── resources.json.default\n",
      "│   ├── readme.txt\n",
      "│   ├── \u001b[01;34mstartup\u001b[0m\n",
      "│   │   ├── \u001b[01;32mdocker.sh\u001b[0m\n",
      "│   │   ├── fed_server.json\n",
      "│   │   ├── rootCA.pem\n",
      "│   │   ├── server.crt\n",
      "│   │   ├── server.key\n",
      "│   │   ├── server.pfx\n",
      "│   │   ├── signature.json\n",
      "│   │   ├── \u001b[01;32mstart.sh\u001b[0m\n",
      "│   │   ├── \u001b[01;32mstop_fl.sh\u001b[0m\n",
      "│   │   └── \u001b[01;32msub_start.sh\u001b[0m\n",
      "│   └── \u001b[01;34mtransfer\u001b[0m\n",
      "├── \u001b[01;34msite-1\u001b[0m\n",
      "│   ├── \u001b[01;34mlocal\u001b[0m\n",
      "│   │   ├── authorization.json.default\n",
      "│   │   ├── log.config.default\n",
      "│   │   ├── privacy.json.sample\n",
      "│   │   └── resources.json.default\n",
      "│   ├── readme.txt\n",
      "│   ├── \u001b[01;34mstartup\u001b[0m\n",
      "│   │   ├── client.crt\n",
      "│   │   ├── client.key\n",
      "│   │   ├── client.pfx\n",
      "│   │   ├── \u001b[01;32mdocker.sh\u001b[0m\n",
      "│   │   ├── fed_client.json\n",
      "│   │   ├── rootCA.pem\n",
      "│   │   ├── signature.json\n",
      "│   │   ├── \u001b[01;32mstart.sh\u001b[0m\n",
      "│   │   ├── \u001b[01;32mstop_fl.sh\u001b[0m\n",
      "│   │   └── \u001b[01;32msub_start.sh\u001b[0m\n",
      "│   └── \u001b[01;34mtransfer\u001b[0m\n",
      "└── \u001b[01;34msite-2\u001b[0m\n",
      "    ├── \u001b[01;34mlocal\u001b[0m\n",
      "    │   ├── authorization.json.default\n",
      "    │   ├── log.config.default\n",
      "    │   ├── privacy.json.sample\n",
      "    │   └── resources.json.default\n",
      "    ├── readme.txt\n",
      "    ├── \u001b[01;34mstartup\u001b[0m\n",
      "    │   ├── client.crt\n",
      "    │   ├── client.key\n",
      "    │   ├── client.pfx\n",
      "    │   ├── \u001b[01;32mdocker.sh\u001b[0m\n",
      "    │   ├── fed_client.json\n",
      "    │   ├── rootCA.pem\n",
      "    │   ├── signature.json\n",
      "    │   ├── \u001b[01;32mstart.sh\u001b[0m\n",
      "    │   ├── \u001b[01;32mstop_fl.sh\u001b[0m\n",
      "    │   └── \u001b[01;32msub_start.sh\u001b[0m\n",
      "    └── \u001b[01;34mtransfer\u001b[0m\n",
      "\n",
      "16 directories, 53 files\n"
     ]
    }
   ],
   "source": [
    "! tree /tmp/nvflare/poc/example_project/prod_00"
   ]
  },
  {
   "cell_type": "markdown",
   "id": "6b2caf8a-36b9-4e56-b7be-836aec7f1c33",
   "metadata": {},
   "source": [
    "Notice the new \"docker.sh\", now each client will using docker run with we specified \"nvflare/nvflare\" docker image"
   ]
  },
  {
   "cell_type": "code",
   "execution_count": null,
   "id": "c6ce4118-0bf3-47f8-af9d-ea17e6b9ac29",
   "metadata": {},
   "outputs": [],
   "source": [
    "* **simulate production deployment setup locally**\n",
    "\n",
    "Assuming we have a new custom project.yml, we like to test out the project.yml locally before we do the real provision. \n",
    "\n",
    "We can actually do it with POC !\n",
    "\n",
    "\n",
    "```\n",
    "nvflare poc prepare -i <your project.yml>\n",
    "```\n",
    "\n",
    "Let's try this out.  we have prepared an custom_project.yml file: \n"
   ]
  },
  {
   "cell_type": "code",
   "execution_count": 37,
   "id": "23b38275-4d12-492d-8b3b-47217e12625a",
   "metadata": {
    "tags": []
   },
   "outputs": [
    {
     "name": "stdout",
     "output_type": "stream",
     "text": [
      "api_version: 3\n",
      "builders:\n",
      "- args:\n",
      "    template_file: master_template.yml\n",
      "  path: nvflare.lighter.impl.workspace.WorkspaceBuilder\n",
      "- path: nvflare.lighter.impl.template.TemplateBuilder\n",
      "- args:\n",
      "    config_folder: config\n",
      "    overseer_agent:\n",
      "      args:\n",
      "        sp_end_point: server:8002:8003\n",
      "      overseer_exists: false\n",
      "      path: nvflare.ha.dummy_overseer_agent.DummyOverseerAgent\n",
      "  path: nvflare.lighter.impl.static_file.StaticFileBuilder\n",
      "- path: nvflare.lighter.impl.cert.CertBuilder\n",
      "- path: nvflare.lighter.impl.signature.SignatureBuilder\n",
      "description: health_project project yaml file\n",
      "name: health_project\n",
      "participants:\n",
      "- admin_port: 8003\n",
      "  fed_learn_port: 8002\n",
      "  name: general-hospital-server\n",
      "  org: nonprofit_health\n",
      "  type: server\n",
      "- name: admin@nvidia.com\n",
      "  org: nonprofit_health\n",
      "  role: project_admin\n",
      "  type: admin\n",
      "- name: us-hospital\n",
      "  org: nonprofit_health\n",
      "  type: client\n",
      "- name: europe-hospital\n",
      "  org: nonprofit_health\n",
      "  type: client\n"
     ]
    }
   ],
   "source": [
    "!cat ./custom_project.yml"
   ]
  },
  {
   "cell_type": "code",
   "execution_count": 41,
   "id": "1531cba4-5d46-4cd4-9a06-e9c7e1598a9a",
   "metadata": {
    "tags": []
   },
   "outputs": [
    {
     "name": "stdout",
     "output_type": "stream",
     "text": [
      "prepare poc at /tmp/nvflare/poc with ./custom_project.yml\n",
      "This will delete poc folder in /tmp/nvflare/poc directory and create a new one. Is it OK to proceed? (y/N) provision at /tmp/nvflare/poc for 2 clients with ./custom_project.yml\n",
      "Generated results can be found under /tmp/nvflare/poc/health_project/prod_00. \n",
      "link examples from /home/chester/projects/NVFlare/examples to /tmp/nvflare/poc/health_project/prod_00/admin@nvidia.com/transfer\n"
     ]
    }
   ],
   "source": [
    "! echo 'y' | nvflare poc prepare -i ./custom_project.yml"
   ]
  },
  {
   "cell_type": "code",
   "execution_count": 43,
   "id": "35e52946-d307-45f3-ac52-e7190d556104",
   "metadata": {
    "tags": []
   },
   "outputs": [
    {
     "name": "stdout",
     "output_type": "stream",
     "text": [
      "\u001b[01;34m/tmp/nvflare/poc/health_project/prod_00\u001b[0m\n",
      "├── \u001b[01;34madmin@nvidia.com\u001b[0m\n",
      "│   ├── \u001b[01;34mlocal\u001b[0m\n",
      "│   ├── \u001b[01;34mstartup\u001b[0m\n",
      "│   │   ├── client.crt\n",
      "│   │   ├── client.key\n",
      "│   │   ├── client.pfx\n",
      "│   │   ├── fed_admin.json\n",
      "│   │   ├── \u001b[01;32mfl_admin.sh\u001b[0m\n",
      "│   │   ├── readme.txt\n",
      "│   │   └── rootCA.pem\n",
      "│   └── \u001b[01;36mtransfer\u001b[0m -> \u001b[01;34m/home/chester/projects/NVFlare/examples\u001b[0m\n",
      "├── \u001b[01;34meurope-hospital\u001b[0m\n",
      "│   ├── \u001b[01;34mlocal\u001b[0m\n",
      "│   │   ├── authorization.json.default\n",
      "│   │   ├── log.config.default\n",
      "│   │   ├── privacy.json.sample\n",
      "│   │   └── resources.json.default\n",
      "│   ├── readme.txt\n",
      "│   ├── \u001b[01;34mstartup\u001b[0m\n",
      "│   │   ├── client.crt\n",
      "│   │   ├── client.key\n",
      "│   │   ├── client.pfx\n",
      "│   │   ├── fed_client.json\n",
      "│   │   ├── rootCA.pem\n",
      "│   │   ├── signature.json\n",
      "│   │   ├── \u001b[01;32mstart.sh\u001b[0m\n",
      "│   │   ├── \u001b[01;32mstop_fl.sh\u001b[0m\n",
      "│   │   └── \u001b[01;32msub_start.sh\u001b[0m\n",
      "│   └── \u001b[01;34mtransfer\u001b[0m\n",
      "├── \u001b[01;34mgeneral-hospital-server\u001b[0m\n",
      "│   ├── \u001b[01;34mlocal\u001b[0m\n",
      "│   │   ├── authorization.json.default\n",
      "│   │   ├── log.config.default\n",
      "│   │   ├── privacy.json.sample\n",
      "│   │   └── resources.json.default\n",
      "│   ├── readme.txt\n",
      "│   ├── \u001b[01;34mstartup\u001b[0m\n",
      "│   │   ├── fed_server.json\n",
      "│   │   ├── rootCA.pem\n",
      "│   │   ├── server.crt\n",
      "│   │   ├── server.key\n",
      "│   │   ├── server.pfx\n",
      "│   │   ├── signature.json\n",
      "│   │   ├── \u001b[01;32mstart.sh\u001b[0m\n",
      "│   │   ├── \u001b[01;32mstop_fl.sh\u001b[0m\n",
      "│   │   └── \u001b[01;32msub_start.sh\u001b[0m\n",
      "│   └── \u001b[01;34mtransfer\u001b[0m\n",
      "└── \u001b[01;34mus-hospital\u001b[0m\n",
      "    ├── \u001b[01;34mlocal\u001b[0m\n",
      "    │   ├── authorization.json.default\n",
      "    │   ├── log.config.default\n",
      "    │   ├── privacy.json.sample\n",
      "    │   └── resources.json.default\n",
      "    ├── readme.txt\n",
      "    ├── \u001b[01;34mstartup\u001b[0m\n",
      "    │   ├── client.crt\n",
      "    │   ├── client.key\n",
      "    │   ├── client.pfx\n",
      "    │   ├── fed_client.json\n",
      "    │   ├── rootCA.pem\n",
      "    │   ├── signature.json\n",
      "    │   ├── \u001b[01;32mstart.sh\u001b[0m\n",
      "    │   ├── \u001b[01;32mstop_fl.sh\u001b[0m\n",
      "    │   └── \u001b[01;32msub_start.sh\u001b[0m\n",
      "    └── \u001b[01;34mtransfer\u001b[0m\n",
      "\n",
      "16 directories, 49 files\n"
     ]
    }
   ],
   "source": [
    "! tree /tmp/nvflare/poc/health_project/prod_00"
   ]
  },
  {
   "cell_type": "markdown",
   "id": "07e8d0a6-a744-42d8-b614-879ba64256f2",
   "metadata": {
    "tags": []
   },
   "source": [
    "### Prepare examples\n",
    "\n",
    "If you did not set the NVFLARE_HOME env. variable, or did not fork the NVFlare Github Repo, or you want to change the examples directory \n",
    "\n",
    "you can use the following command to setup examples\n",
    "\n",
    "```\n",
    "! nvflare poc prepare-examples <examples directory>\n",
    "```"
   ]
  },
  {
   "cell_type": "markdown",
   "id": "0efc93e2-fcc8-4789-822f-69e8d2d32116",
   "metadata": {},
   "source": [
    "### Start NVFlare system in POC mode\n",
    "\n",
    "When starting the POC deployment, it's necessary to use a separate terminal since the `nvflare poc start` command will run  in the foreground emitting output from the server and any connected clients.\n",
    "\n",
    "Also note that `nvflare poc start` starts all participants, including the admin console. We want to start the 2 clients and 1 server, but without the FLARE console (aka Admin Console), as we are going to interact with the system from a notebook.\n",
    "\n",
    "Create a terminal to execute the following command (in JupyterLab or host terminal), then\n",
    "\n",
    "```\n",
    "    nvflare poc start -ex admin@nvidia.com\n",
    "```\n",
    "**Note:**\n",
    "    Using ```%%bash -bg``` to run the above command in a code cell may not always work"
   ]
  },
  {
   "cell_type": "markdown",
   "id": "3aede5df-28c9-4391-90fb-eb69257fe7b0",
   "metadata": {},
   "source": [
    "### Check system information"
   ]
  },
  {
   "cell_type": "code",
   "execution_count": null,
   "id": "b668317e-db18-4a68-b226-fffba86b7041",
   "metadata": {
    "tags": []
   },
   "outputs": [],
   "source": [
    "\n",
    "import os\n",
    "from nvflare.fuel.flare_api.flare_api import new_secure_session\n",
    "\n",
    "poc_workspace = os.getenv('NVFLARE_POC_WORKSPACE')\n",
    "\n",
    "workspace = \"/tmp/nvflare/poc\" if  poc_workspace is None else poc_workspace\n",
    "\n",
    "default_poc_prepared_dir = os.path.join(workspace, \"example_project/prod_00\")\n",
    "admin_dir = os.path.join(default_poc_prepared_dir, \"admin@nvidia.com\")\n",
    "sess = new_secure_session(\"admin@nvidia.com\", admin_dir)\n",
    "sys_info = sess.get_system_info()\n",
    "\n",
    "print(f\"Server info:\\n{sys_info.server_info}\")\n",
    "print(\"\\nClient info\")\n",
    "for client in sys_info.client_info:\n",
    "    print(client)"
   ]
  },
  {
   "cell_type": "markdown",
   "id": "d4568b87-a711-4441-a2af-2008dbc9e278",
   "metadata": {
    "tags": []
   },
   "source": [
    "Once the system is up, we are now ready to go back to the notebook to work on your project."
   ]
  },
  {
   "cell_type": "markdown",
   "id": "275fbe95-faf3-468d-a96a-453310e90aee",
   "metadata": {},
   "source": [
    "### Stop FLARE system in POC\n",
    "\n",
    "Once you are done with the FLARE system, you can shut down the poc system.\n",
    "From terminal, issue the following command stop poc in the terminal\n",
    "```\n",
    "   nvflare poc stop\n",
    "```\n"
   ]
  },
  {
   "cell_type": "markdown",
   "id": "ea8f1878-7e9d-4e17-ba78-5812fc88b580",
   "metadata": {},
   "source": [
    "### Clean up POC workspace\n",
    "\n",
    "If you want to clean up the POC workspace and delete the poc workspace directory containing all packages you may have prepared, you can use the following command:"
   ]
  },
  {
   "cell_type": "code",
   "execution_count": null,
   "id": "66c787b6-e4af-473c-89af-71f7acf3fb17",
   "metadata": {
    "tags": []
   },
   "outputs": [],
   "source": [
    "! nvflare poc clean"
   ]
  },
  {
   "cell_type": "markdown",
   "id": "6b8e11d2",
   "metadata": {},
   "source": [
    "You can check if the nvflare system is shutdown cleanly with:\n",
    "\n",
    "```\n",
    "ps -eaf | grep nvflare\n",
    "```\n",
    "\n",
    "If you see output like the following, then nvflare systems are still running:\n",
    "\n",
    "```\n",
    "510535    1932  1 18:54 pts/1    00:00:03 python3 -u -m nvflare.private.fed.app.client.client_train -m /tmp/workspace/example_project/prod_00/site-1/startup/.. -s fed_client.json --set secure_train=true uid=site-1 org=nvidia config_folder=config\n",
    "510539    1932  1 18:54 pts/1    00:00:03 python3 -u -m nvflare.private.fed.app.client.client_train -m /tmp/workspace/example_project/prod_00/site-2/startup/.. -s fed_client.json --set secure_train=true uid=site-2 org=nvidia config_folder=config\n",
    "510543    1932  1 18:54 pts/1    00:00:04 python3 -u -m nvflare.private.fed.app.server.server_train -m /tmp/workspace/example_project/prod_00/localhost/startup/.. -s fed_server.json --set secure_train=true org=nvidia config_folder=config\n",
    "```\n",
    "\n",
    "If you have already used ``nvflare poc clean`` to delete the workspace, you may need to kill the processes manually.\n"
   ]
  },
  {
   "cell_type": "markdown",
   "id": "721dcecf-c855-4e21-a623-830bfaaddd9b",
   "metadata": {
    "tags": []
   },
   "source": [
    "### After POC\n",
    "\n",
    "Once we experimented with different options, we are ready to move on to the production beyond local host. \n",
    "You don't need to manual edit the project.yml to do so. The resulting project.yml is auto-generated for you and located at \n",
    "\n",
    "```\n",
    "  <POC_Workspace>/project.yml\n",
    "```\n",
    "\n",
    "For example,\n"
   ]
  },
  {
   "cell_type": "code",
   "execution_count": 48,
   "id": "02b0f998-2776-412f-b97d-a6e8a99ff583",
   "metadata": {
    "tags": []
   },
   "outputs": [
    {
     "name": "stdout",
     "output_type": "stream",
     "text": [
      "prepare poc at /tmp/nvflare/poc for 2 clients\n",
      "This will delete poc folder in /tmp/nvflare/poc directory and create a new one. Is it OK to proceed? (y/N) provision at /tmp/nvflare/poc for 2 clients with /tmp/nvflare/poc/project.yml\n",
      "Generated results can be found under /tmp/nvflare/poc/example_project/prod_00. \n",
      "link examples from /home/chester/projects/NVFlare/examples to /tmp/nvflare/poc/example_project/prod_00/admin@nvidia.com/transfer\n"
     ]
    }
   ],
   "source": [
    "! echo 'y' | nvflare poc prepare -c hospital_1 hospital_2 -d 'nvflare/nvflare' -he  "
   ]
  },
  {
   "cell_type": "code",
   "execution_count": 49,
   "id": "97fd1ff1-19f6-4e21-b353-684468a12456",
   "metadata": {
    "tags": []
   },
   "outputs": [
    {
     "name": "stdout",
     "output_type": "stream",
     "text": [
      "api_version: 3\n",
      "builders:\n",
      "- args:\n",
      "    template_file: master_template.yml\n",
      "  path: nvflare.lighter.impl.workspace.WorkspaceBuilder\n",
      "- path: nvflare.lighter.impl.template.TemplateBuilder\n",
      "- args:\n",
      "    config_folder: config\n",
      "    docker_image: nvflare/nvflare\n",
      "    overseer_agent:\n",
      "      args:\n",
      "        sp_end_point: server:8002:8003\n",
      "      overseer_exists: false\n",
      "      path: nvflare.ha.dummy_overseer_agent.DummyOverseerAgent\n",
      "  path: nvflare.lighter.impl.static_file.StaticFileBuilder\n",
      "- path: nvflare.lighter.impl.cert.CertBuilder\n",
      "- path: nvflare.lighter.impl.signature.SignatureBuilder\n",
      "- args: {}\n",
      "  path: nvflare.lighter.impl.he.HEBuilder\n",
      "description: NVIDIA FLARE sample project yaml file\n",
      "name: example_project\n",
      "participants:\n",
      "- admin_port: 8003\n",
      "  fed_learn_port: 8002\n",
      "  name: server\n",
      "  org: nvidia\n",
      "  type: server\n",
      "- name: admin@nvidia.com\n",
      "  org: nvidia\n",
      "  role: project_admin\n",
      "  type: admin\n",
      "- name: hospital_1\n",
      "  org: nvidia\n",
      "  type: client\n",
      "- name: hospital_2\n",
      "  org: nvidia\n",
      "  type: client\n"
     ]
    }
   ],
   "source": [
    "! cat  /tmp/nvflare/poc/project.yml"
   ]
  },
  {
   "cell_type": "code",
   "execution_count": null,
   "id": "ff2c5624-1468-46f5-8200-5627c1a07f4a",
   "metadata": {},
   "outputs": [],
   "source": []
  }
 ],
 "metadata": {
  "kernelspec": {
   "display_name": "nvflare_example",
   "language": "python",
   "name": "nvflare_example"
  },
  "language_info": {
   "codemirror_mode": {
    "name": "ipython",
    "version": 3
   },
   "file_extension": ".py",
   "mimetype": "text/x-python",
   "name": "python",
   "nbconvert_exporter": "python",
   "pygments_lexer": "ipython3",
   "version": "3.8.16"
  }
 },
 "nbformat": 4,
 "nbformat_minor": 5
}
