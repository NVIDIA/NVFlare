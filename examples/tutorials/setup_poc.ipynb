{
 "cells": [
  {
   "cell_type": "markdown",
   "id": "654a158f-42c6-4706-84c6-4bbbec79be26",
   "metadata": {},
   "source": [
    "# Set Up NVFLARE in POC Mode\n",
    "\n",
    "[POC mode](https://nvflare.readthedocs.io/en/main/user_guide/poc_command.html) allows users to test the features of a full FLARE deployment on a single machine, without the overhead of a true distributed deployment.\n",
    "\n",
    "Compared to the FL Simulator, where the job run is automated on a single system, POC mode allows you to establish and connect distinct server and client \"systems\" which can then be orchestrated using the FLARE Console.  This can be useful in preparation for a distributed deployment.\n",
    "\n",
    "You can also experiment your deployment options (project.yml) using POC mode. \n",
    "\n",
    ">It is ideal to start your NVFLARE system in POC mode from a **terminal**, not from a notebook. The terminal's virual env. must match the kernel's virtual env. In our case, we are using 'nvflare_example'.\n",
    "\n",
    "To get started, let's look at the NVFlare CLI usage for the ``poc`` subcommand:"
   ]
  },
  {
   "cell_type": "code",
   "execution_count": null,
   "id": "8d3c34b6-fa35-466e-b5bf-1b0be07d399f",
   "metadata": {
    "tags": []
   },
   "outputs": [],
   "source": [
    "\n",
    "! nvflare poc -h\n"
   ]
  },
  {
   "cell_type": "markdown",
   "id": "87989e99",
   "metadata": {},
   "source": [
    "We can further look at the help description for each command\n",
    "\n",
    "> We will need ```tree``` command, so we will install ```tree``` in linux, if tree is not avaialble to you, you can replace it with 'ls -al`"
   ]
  },
  {
   "cell_type": "code",
   "execution_count": null,
   "id": "bb926188-020e-4699-9411-d9970521fe0f",
   "metadata": {
    "tags": []
   },
   "outputs": [],
   "source": [
    "! python -m pip install tree"
   ]
  },
  {
   "cell_type": "markdown",
   "id": "7f877f82",
   "metadata": {},
   "source": [
    "#### **POC Workspace**"
   ]
  },
  {
   "cell_type": "markdown",
   "id": "39e5192f-5f6d-4695-bc06-a04928b5f214",
   "metadata": {
    "tags": []
   },
   "source": [
    "if you want to change default POC workspace, you can do the followings"
   ]
  },
  {
   "cell_type": "markdown",
   "id": "d0eb71b3-331e-4caa-996b-bf9af5490c62",
   "metadata": {},
   "source": [
    "* Config command\n",
    "\n",
    "If you prefer not to use environment variable, you can do the followings: \n",
    "\n",
    "```\n",
    "! nvflare config -pw /tmp/nvflare/poc\n",
    "\n",
    "```\n",
    "or \n",
    "```\n",
    "! nvflare config -poc_workspace_dir /tmp/nvflare/poc\n",
    "```"
   ]
  },
  {
   "cell_type": "code",
   "execution_count": null,
   "id": "c668ce86-b4c9-4acb-8932-1653c8f12601",
   "metadata": {
    "tags": []
   },
   "outputs": [],
   "source": [
    "! nvflare config -pw /tmp/nvflare/poc"
   ]
  },
  {
   "cell_type": "markdown",
   "id": "fdfa4ec8-7fa6-4360-85d1-4b9f0448ca1a",
   "metadata": {},
   "source": [
    "Look at the nvflare config command"
   ]
  },
  {
   "cell_type": "code",
   "execution_count": null,
   "id": "23dc2b30-f334-4d28-9102-194cfd55eebc",
   "metadata": {
    "tags": []
   },
   "outputs": [],
   "source": [
    "! nvflare config -h"
   ]
  },
  {
   "cell_type": "markdown",
   "id": "53f523f9-0413-4949-93f4-34fb0112d89d",
   "metadata": {},
   "source": [
    "This should set the default variable to the following config file: ```~/.nvflare/config.conf```\n"
   ]
  },
  {
   "cell_type": "markdown",
   "id": "735beb3b-f4ac-498f-af14-7ab9918371c9",
   "metadata": {},
   "source": [
    "One can set the POC_WORKSPACE_DIR as well as other locations such as startup_kit_dir and job_templates_dir as well. "
   ]
  },
  {
   "cell_type": "markdown",
   "id": "17f368e9-6c66-4076-b12f-25330d4420c2",
   "metadata": {
    "tags": []
   },
   "source": [
    "* Hidden Config\n",
    "\n",
    "What config command does is to write the POC workspace directory to a hidden configuration file. \n",
    "\n",
    "```\n",
    "~/.nvflare/config.conf\n",
    "```\n",
    "\n",
    "You can also edit directly the config file without using the config command. "
   ]
  },
  {
   "cell_type": "code",
   "execution_count": null,
   "id": "a98e4fbe-43ce-4e30-8017-46d21fe81b31",
   "metadata": {
    "tags": []
   },
   "outputs": [],
   "source": [
    "!cat ~/.nvflare/config.conf"
   ]
  },
  {
   "cell_type": "markdown",
   "id": "524a9d03-cbca-467f-8cf3-46f9481f1dca",
   "metadata": {},
   "source": [
    "You can also env. variable, NVFLARE_POC_WORKSPACE, if you prefer. If both hidden config file and env. variable NVFLARE_POC_WORKSPACE are set, env. variable will take the precedence.\n",
    "```\n",
    "%env  NVFLARE_POC_WORKSPACE=/tmp/nvflare/poc\n",
    "!echo $NVFLARE_POC_WORKSPACE \n",
    "\n",
    "```\n",
    " \n"
   ]
  },
   {
     "cell_type": "markdown",
     "id": "4b5f79f8-4146-4222-a991-a2411dc72b79",
     "metadata": {},
     "source": [
      "### Preparing the POC workspace\n",
      "\n",
      "Now that we've configured our POC configuration, we can prepare the POC workspace.  By default, the following command will generate POC packages for a server and two clients.\n",
      "nvflare poc prepare\n",
      "```\n",
      "    nvflare poc prepare \n",
      "```\n",
      "\n",
      "You can specify a different number of clients with the -n option:\n",
      "\n",
      "```\n",
      "   nvflare poc prepare -n N\n",
      "```\n",
      "\n",
      "If you running the POC prepare command, there is a prompt for user to answer."
     ]
    },
 ],
 "metadata": {
  "kernelspec": {
   "display_name": "nvflare_example",
   "language": "python",
   "name": "nvflare_example"
  },
  "language_info": {
   "codemirror_mode": {
    "name": "ipython",
    "version": 3
   },
   "file_extension": ".py",
   "mimetype": "text/x-python",
   "name": "python",
   "nbconvert_exporter": "python",
   "pygments_lexer": "ipython3",
   "version": "3.10.2"
  }
 },
 "nbformat": 4,
 "nbformat_minor": 5
}
