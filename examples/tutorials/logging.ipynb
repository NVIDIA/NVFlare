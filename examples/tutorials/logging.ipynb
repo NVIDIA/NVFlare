{
 "cells": [
  {
   "cell_type": "markdown",
   "id": "654a158f-42c6-4706-84c6-4bbbec79be26",
   "metadata": {},
   "source": [
    "# FLARE Logging\n",
    "\n",
    "This tutorial covers how to configure logging in FLARE for different use cases and modes.\n",
    "\n",
    "To learn more, see our [Logging Configuration Documentation](https://nvflare.readthedocs.io/en/main/user_guide/configurations/logging_configuration.html) for a more comprehensive description of the various features.\n",
    "\n",
    "## Setup\n",
    "\n",
    "The NVFlare [Getting Started Guide](https://nvflare.readthedocs.io/en/main/getting_started.html) provides instructions for setting up FLARE on a local system or in a Docker image.  We've also cloned the NVFlare GitHub in our top-level working directory."
   ]
  },
  {
   "cell_type": "markdown",
   "id": "e6f4f315",
   "metadata": {},
   "source": [
    "## Simulator Logging\n",
    "\n",
    "To get started, let's run the hello-numpy-sag job in the simulator and take a look at the default logging output:"
   ]
  },
  {
   "cell_type": "code",
   "execution_count": null,
   "id": "3d6a1942",
   "metadata": {},
   "outputs": [],
   "source": [
    "!mkdir -p hello-numpy-sag-workspace\n",
    "!nvflare simulator -w hello-numpy-sag-workspace -n 2 -t 2 ../hello-world/hello-numpy-sag/jobs/hello-numpy-sag"
   ]
  },
  {
   "cell_type": "markdown",
   "id": "80ee3335",
   "metadata": {},
   "source": [
    "Notice how the output contains lots of logs from both the FLARE system, as well as the training workflow.\n",
    "Additionally, the different level of logs (eg. INFO, WARNING, ERROR) have different console colors.\n",
    "\n",
    "We can view the default configuration used in this run and the generated log files in the workspace:"
   ]
  },
  {
   "cell_type": "code",
   "execution_count": null,
   "id": "f93cac84",
   "metadata": {},
   "outputs": [],
   "source": [
    "!tree hello-numpy-sag-workspace"
   ]
  },
  {
   "cell_type": "markdown",
   "id": "a28e85f2",
   "metadata": {},
   "source": [
    "### Default Log Config\n",
    "\n",
    "The log_config.json is the default logging configuration used. \n",
    "This configuration comes with pre-configured handlers for console level colors, logs, error logs, structured json logs, and fl training logs.\n",
    "\n",
    "- The three main sections (formatters, filters, handlers), take care of formatting the structure of the logs, filtering the logs, and sending logs to a destination respectively.\n",
    "- Under loggers, we configure the root logger and add the handlers\n",
    "\n",
    "Let's take a look at the configuration under the server (will be the same for all sites by default):"
   ]
  },
  {
   "cell_type": "code",
   "execution_count": null,
   "id": "befa1e2a",
   "metadata": {},
   "outputs": [],
   "source": [
    "!cat hello-numpy-sag-workspace/server/local/log_config.json"
   ]
  },
  {
   "cell_type": "markdown",
   "id": "8ba41cfb",
   "metadata": {},
   "source": [
    "### Default Log Files\n",
    "\n",
    "Next we can look at the various log files that are created by the FileHandlers:\n",
    "\n",
    "- logFileHandler with baseFormatter to write all logs to log.txt\n",
    "- jsonFileHandler with jsonFormatter to write json formatted logs to log.json\n",
    "- errorFileHandler with baseFormatter and level “ERROR” to write error level logs to log_error.txt\n",
    "- FLFileHandler with baseFormatter and FLFilter to write fl training and custom logs to log_fl.txt\n",
    "\n",
    "Feel free to also check out the site logs as well."
   ]
  },
  {
   "cell_type": "code",
   "execution_count": null,
   "id": "5fc69590",
   "metadata": {},
   "outputs": [],
   "source": [
    "!cat hello-numpy-sag-workspace/server/log.txt"
   ]
  },
  {
   "cell_type": "code",
   "execution_count": null,
   "id": "cf576cf0",
   "metadata": {},
   "outputs": [],
   "source": [
    "!cat hello-numpy-sag-workspace/server/log.json"
   ]
  },
  {
   "cell_type": "code",
   "execution_count": null,
   "id": "bb3436da",
   "metadata": {},
   "outputs": [],
   "source": [
    "!cat hello-numpy-sag-workspace/server/log_error.txt"
   ]
  },
  {
   "cell_type": "code",
   "execution_count": null,
   "id": "526434bf",
   "metadata": {},
   "outputs": [],
   "source": [
    "!cat hello-numpy-sag-workspace/server/log_fl.txt"
   ]
  },
  {
   "cell_type": "markdown",
   "id": "d30ee805",
   "metadata": {},
   "source": [
    "### Customization\n",
    "\n",
    "The log config file can easily be customized for different use cases.\n",
    "\n",
    "For this example, let's assume we are a federated learning researcher mainly interested in the algorithm parts of the log.\n",
    "By default, we provide the FLFileHandler which uses the FLFilter to generate the log_fl.txt However we would also like to have a cleaner output in the console, as well as remove/shorten some unnecessary log fields.\n",
    "\n",
    "### custom_log_config.json\n",
    "\n",
    "Let's change the consoleHandler accordingly to achieve our goal of a cleaner console output.\n",
    "\n",
    "Remove the fl_ctx field, and add the identity field for a cleaner log structure:\n",
    "\n",
    "`\"fmt\": \"%(asctime)s - %(identity)s - %(name)s - %(levelname)s - %(message)s\",`\n",
    "\n",
    "Configure the datefmt to only use seconds rather than milliseconds:\n",
    "\n",
    "``\"datefmt\": \"%Y-%m-%d %H:%M:%S\"``\n",
    "\n",
    "Add the FLFilter, which only allows logs related to FL training to pass through:\n",
    "\n",
    "``\"filters\": [\"FLFilter\"],``\n",
    "\n",
    "Say we want to highlight the NPModelPersistor, we can color it blue to make it stand out in the console:\n",
    "```\n",
    "\"logger_colors\": {\n",
    "    \"NPModelPersistor\": \"blue\"\n",
    "}\n",
    "```\n",
    "\n"
   ]
  },
  {
   "cell_type": "code",
   "execution_count": null,
   "id": "cea18ebc",
   "metadata": {},
   "outputs": [],
   "source": [
    "!cat custom_log_config.json"
   ]
  },
  {
   "cell_type": "code",
   "execution_count": null,
   "id": "b6caecd4",
   "metadata": {},
   "outputs": [],
   "source": [
    "!diff custom_log_config.json hello-numpy-sag-workspace/server/local/log_config.json"
   ]
  },
  {
   "cell_type": "markdown",
   "id": "2d563228",
   "metadata": {},
   "source": [
    "Now let's run the simulator with the custom_log_config.json using the ``-l`` option:"
   ]
  },
  {
   "cell_type": "code",
   "execution_count": null,
   "id": "4b6e2cd8",
   "metadata": {},
   "outputs": [],
   "source": [
    "!nvflare simulator -w hello-numpy-sag-workspace -n 2 -t 2 -l custom_log_config.json ../hello-world/hello-numpy-sag/jobs/hello-numpy-sag"
   ]
  },
  {
   "cell_type": "markdown",
   "id": "d3b43521",
   "metadata": {},
   "source": [
    "Compare this to the original output from the first command, and note the differences in the log output.\n",
    "\n",
    "In addition to the consoleHandler, the various formatters, filters, other handlers, and loggers can all also be customized.\n",
    "\n",
    "See the [Logging Configuration Documentation](https://nvflare.readthedocs.io/en/main/user_guide/configurations/logging_configuration.html) for more information on how to customize the different sections."
   ]
  },
  {
   "cell_type": "markdown",
   "id": "6460bdd9",
   "metadata": {},
   "source": [
    "## Provisioned System and Logging Configuration Commands\n",
    "\n",
    "For this part of the example, we will showcase how to use the [Dynamic Logging Configuration Commands](https://nvflare.readthedocs.io/en/main/user_guide/configurations/logging_configuration.html#dynamic-logging-configuration-commands) with a running FLARE system.\n",
    "\n",
    "To provision and start an FL system, you can use [POC mode](setup_poc.ipynb) to quickly get started. Feel free to use an existing **provisioned** FLARE project if you have that available. Remember that we recommend starting the system in a separate terminal. \n",
    "\n",
    "Once the system is running and you have logged into the admin console you are ready to try out the commands. We provide two admin commands to enable users to dynamically configure the site or job level logging:"
   ]
  },
  {
   "cell_type": "markdown",
   "id": "d4838020",
   "metadata": {},
   "source": [
    "### configure_site_log\n",
    "\n",
    "Configures the site level logs, but does not affect the job level logs.\n",
    "\n",
    "``configure_site_log target config``\n",
    "\n",
    "- **target**: server, client <clients>..., or all\n",
    "- **config**: log configuration\n",
    "    - path to a json log configuration file (/path/to/my_log_config.json)\n",
    "    - log level name/number (debug, INFO, 30)\n",
    "    - read the current log configuration file (reload)\n",
    "\n",
    "Try and experiment with the following commands in the admin console:"
   ]
  },
  {
   "cell_type": "markdown",
   "id": "3da8d9da",
   "metadata": {},
   "source": [
    "``configure_site_log server debug``\n",
    "\n",
    "``configure_site_log client site-1 debug``\n",
    "\n",
    "``configure_site_log all info``"
   ]
  },
  {
   "cell_type": "markdown",
   "id": "390a1f1b",
   "metadata": {},
   "source": [
    "### configure_job_log\n",
    "\n",
    "Configures the job logs, does not affect site logs.\n",
    "\n",
    "``configure_job_log job_id target config``\n",
    "\n",
    "- **job_id**: id of a running job\n",
    "- **target**: server, client <clients>..., or all\n",
    "- **config**: log configuration (see above)\n",
    "\n",
    "Submit a job with ``submit_job <path>/<to>/<job_folder>``,\n",
    "then try and experiment with the following commands in the admin console:\n"
   ]
  },
  {
   "cell_type": "markdown",
   "id": "5b4f284f",
   "metadata": {},
   "source": [
    "``configure_job_log <job_id> server debug``\n",
    "\n",
    "``configure_job_log <job_id> client site-1 debug``\n",
    "\n",
    "``configure_job_log <job_id> all info``\n",
    "\n",
    "``configure_job_log <job_id> all <path>/<to>/custom_log_config.json``"
   ]
  },
  {
   "cell_type": "markdown",
   "id": "cd631629",
   "metadata": {},
   "source": [
    "Lastly, take a look at the generated log files in the workspace, noting the difference between the site and job logs.\n",
    "For example if using POC mode:"
   ]
  },
  {
   "cell_type": "code",
   "execution_count": null,
   "id": "9ed5fe67",
   "metadata": {},
   "outputs": [],
   "source": [
    "!tree hello-numpy-sag-workspace"
   ]
  }
 ],
 "metadata": {
  "kernelspec": {
   "display_name": "venv3",
   "language": "python",
   "name": "python3"
  },
  "language_info": {
   "codemirror_mode": {
    "name": "ipython",
    "version": 3
   },
   "file_extension": ".py",
   "mimetype": "text/x-python",
   "name": "python",
   "nbconvert_exporter": "python",
   "pygments_lexer": "ipython3",
   "version": "3.10.14"
  }
 },
 "nbformat": 4,
 "nbformat_minor": 5
}
