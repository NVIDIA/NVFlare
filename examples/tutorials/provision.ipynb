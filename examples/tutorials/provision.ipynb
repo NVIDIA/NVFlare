{
 "cells": [
  {
   "cell_type": "markdown",
   "id": "c0b8b072-2a88-490f-8723-e4635020d20d",
   "metadata": {},
   "source": [
    "# Provision and Start NVFLARE\n",
    "\n",
    "Provisioning is the process of setting up a secure project with startup kits for the different participants including the FL Server, FL Clients, and Admin Users.\n",
    "you read the overview of provision in [Provision in NVFLARE](https://nvflare.readthedocs.io/en/latest/programming_guide/provisioning_system.html)\n",
    "\n",
    "There are several ways to provision NVFLARE. \n",
    "* One way is to use NVFLARE CLI, see [provision command line option](https://nvflare.readthedocs.io/en/main/programming_guide/provisioning_system.html#provision-commandline-options)\n",
    "* another way is to use [NVFLARE Dashboard UI](https://nvflare.readthedocs.io/en/latest/user_guide/dashboard_ui.html)\n",
    "  with NVFLARE dashboard, the project admin will setup the project and server information, once clients particiaptes provide the client site information, and project admin publish the project. Everyone can download their startup kits (server, clietns, flare console). \n",
    "  \n",
    "Here we are going to use nvflare CLI to provision. Follow the [Installation](https://nvflare.readthedocs.io/en/main/getting_started.html#installation) instructions to set up an environment that has NVIDIA FLARE installed if you do not have one already.\n",
    "\n",
    "Assumptions\n",
    "* we are going to provision nvflare for local use. We will set everything as default. \n",
    "* we only use non-HA mode \n",
    "\n",
    "We like to put the provision files under\n",
    "\n",
    "```/tmp/workspace```\n"
   ]
  },
  {
   "cell_type": "markdown",
   "id": "f84d9d54-c4cc-47da-bf80-30454b4f6dda",
   "metadata": {
    "tags": []
   },
   "source": [
    "## Provision"
   ]
  },
  {
   "cell_type": "code",
   "execution_count": null,
   "id": "91dff0c0-1f91-4bab-ba95-62ccc4f0fd3d",
   "metadata": {
    "tags": []
   },
   "outputs": [],
   "source": [
    "%%bash\n",
    "\n",
    "workspace=\"/tmp/workspace\"\n",
    "\n",
    "# create the workspace directory if not exists\n",
    "if [ ! -f \"${workspace}\" ]; then\n",
    "   mkdir -p ${workspace}\n",
    "fi\n",
    "\n",
    "# NVFLARE Provision\n",
    "\n",
    "# if project.yml file already there use it, otherwise,\n",
    "# first create project.yml file, then use it to provision\n",
    "\n",
    "if [ ! -f \"${workspace}/project.yml\" ]; then\n",
    "     echo \"2\" | nvflare provision\n",
    "     mv \"project.yml\" ${workspace}/.\n",
    "fi\n",
    "\n",
    "nvflare provision  -p \"${workspace}/project.yml\" -w ${workspace}\n"
   ]
  },
  {
   "cell_type": "markdown",
   "id": "64b69b82-f478-4c55-8504-a187d725bca6",
   "metadata": {},
   "source": [
    "You provisioned startup kits can be found at **/tmp/nvflare/projects/workspace/example_project/prod_xx**"
   ]
  },
  {
   "cell_type": "code",
   "execution_count": null,
   "id": "cfc81e61-b7f4-4d17-a6bc-35bebd5a0b33",
   "metadata": {
    "tags": []
   },
   "outputs": [],
   "source": [
    "ls -al /tmp/workspace/example_project/*"
   ]
  },
  {
   "cell_type": "markdown",
   "id": "a3896f0b-df64-460e-9e54-fb047b92b369",
   "metadata": {},
   "source": [
    "If we do not remove workspace, each time you run the provision command, it will generate new directory starts with prod_00, prod_01, etc. "
   ]
  },
  {
   "cell_type": "markdown",
   "id": "f731d08c-e848-48a6-971f-96e42f58dac1",
   "metadata": {},
   "source": [
    "## Start FL System"
   ]
  },
  {
   "cell_type": "code",
   "execution_count": null,
   "id": "b0c0454a-85a8-4cc8-9a4b-bc165431dd23",
   "metadata": {
    "tags": []
   },
   "outputs": [],
   "source": [
    "%cd /tmp/workspace/example_project/prod_00\n",
    "!ls -al  /tmp/workspace/example_project/prod_00"
   ]
  },
  {
   "cell_type": "markdown",
   "id": "cb8081b0-cb83-4700-9ae7-750d81a01848",
   "metadata": {
    "tags": []
   },
   "source": [
    "### Server\n",
    "First, we start FL Server"
   ]
  },
  {
   "cell_type": "markdown",
   "id": "e8e4c9a7-dd57-460d-9193-f1ecac52ad07",
   "metadata": {
    "tags": []
   },
   "source": [
    "```\n",
    "cd /tmp/workspace/example_project/prod_00/server1/\n",
    "./startup/start.sh\n",
    "```"
   ]
  },
  {
   "cell_type": "markdown",
   "id": "3cb4f3b8-2287-4e6c-9cf6-242a99bdf5c0",
   "metadata": {
    "tags": []
   },
   "source": [
    "you can check the log by looking at\n",
    "\n",
    "```tail -f /tmp/workspace/example_project/prod_00/server1/log.txt```"
   ]
  },
  {
   "cell_type": "markdown",
   "id": "53b792b9-282a-4fba-bf6a-64db771814d1",
   "metadata": {},
   "source": [
    "### Site-1"
   ]
  },
  {
   "cell_type": "markdown",
   "id": "515fedbd-6575-40f9-ad5d-344618f42359",
   "metadata": {},
   "source": [
    "```\n",
    "cd /tmp/workspace/example_project/prod_00/site-1/\n",
    "./startup/start.sh\n",
    "```"
   ]
  },
  {
   "cell_type": "markdown",
   "id": "1082ca07-75a3-4a12-bb34-47f0aa0737cf",
   "metadata": {
    "tags": []
   },
   "source": [
    "### Site-2"
   ]
  },
  {
   "cell_type": "markdown",
   "id": "0fd0e454-422c-418c-87a8-41eaa42ad403",
   "metadata": {},
   "source": [
    "```\n",
    "cd /tmp/workspace/example_project/prod_00/site-2/\n",
    "./startup/start.sh\n",
    "```"
   ]
  },
  {
   "cell_type": "markdown",
   "id": "3572e192-3c04-4444-b7e7-a5b3f6b19f34",
   "metadata": {},
   "source": [
    "check site-2 log\n",
    "\n",
    "```tail -f /tmp/workspace/example_project/prod_00/site-2/log.txt```"
   ]
  },
  {
   "cell_type": "markdown",
   "id": "03f09eff-6835-4d81-87f7-cb2f8b6fb648",
   "metadata": {},
   "source": [
    "## Shutdown FL System\n",
    "* The proper way to shutdown FL system is to use FLARE Console (aka Admin Console) to issue shutdown command or\n",
    "* Use FLARE API to shutdown system\n",
    "\n",
    "But you just want to kill the systems, you could use the following commands, \n",
    "* Shutdown clients first\n",
    "* then shutdown server"
   ]
  },
  {
   "cell_type": "markdown",
   "id": "88091df4-aca0-46cf-b5ef-914be2b931d6",
   "metadata": {
    "tags": []
   },
   "source": [
    "```\n",
    "# shutdown site-2\n",
    "\n",
    "cd /tmp/workspace/example_project/prod_00/site-2/\n",
    "echo 'y' | ./startup/stop_fl.sh\n",
    "\n",
    "# shutdown site-1\n",
    "cd /tmp/workspace/example_project/prod_00/site-1/\n",
    "echo 'y' | ./startup/stop_fl.sh\n",
    "\n",
    "sleep 30 \n",
    "# shutdown server\n",
    "cd /tmp/workspace/example_project/prod_00/server1/\n",
    "echo 'y' | ./startup/stop_fl.sh\n",
    "\n",
    "```"
   ]
  },
  {
   "cell_type": "markdown",
   "id": "3054498f-39f3-4dcb-b88f-5a13a4426125",
   "metadata": {},
   "source": [
    "## Cleanup\n",
    "\n",
    "Once we done experimentation, we might want to cleanup the artifacts generated\n",
    "mainly \n",
    " * project.yml file\n",
    " * prod_xx directories"
   ]
  },
  {
   "cell_type": "markdown",
   "id": "33158691-5aad-4779-b665-0dff230ca434",
   "metadata": {},
   "source": [
    "## Tutorial Local Provision/Start/Stop Scripts\n",
    "\n",
    "For this tutorial, we create a set of provision and start scripts to help above process.  \n",
    "\n",
    "The scripts are ```tu_pre_start.sh``` and ```tu_post_cleanup.sh```, they are used for provision & start system and shutdown & cleanup respectively. \n",
    "\n",
    "We made the following assumptions in the scripts\n",
    "\n",
    "* provision will be use non-HA production mode, only running in local machine. \n",
    "* the local server is named \"localhost\" ( not Server1)\n",
    "* some temp storages are set in workspace directory to make it easier to cleanup\n",
    "\n",
    "If you directly skip above instruction and just use these scripts. \n",
    "\n",
    "To start the NVFLARE system, from a terminal (not from notebook cell) \n",
    "\n",
    "```\n",
    "  ./tu_pre_start.sh\n",
    "  \n",
    "```\n",
    "Then you can run the notebook **flare_api.ipynb** \n",
    "\n",
    "Once you done with the notebook **flare_api.ipynb**, you can shutdown the system via \n",
    "\n",
    "```\n",
    "  ./tu_post_cleanup.sh\n",
    "  \n",
    "```\n",
    "\n",
    "\n",
    "\n",
    "\n",
    "\n",
    "\n",
    "\n"
   ]
  }
 ],
 "metadata": {
  "kernelspec": {
   "display_name": "nvflare_example",
   "language": "python",
   "name": "nvflare_example"
  },
  "language_info": {
   "codemirror_mode": {
    "name": "ipython",
    "version": 3
   },
   "file_extension": ".py",
   "mimetype": "text/x-python",
   "name": "python",
   "nbconvert_exporter": "python",
   "pygments_lexer": "ipython3",
   "version": "3.8.16"
  }
 },
 "nbformat": 4,
 "nbformat_minor": 5
}
