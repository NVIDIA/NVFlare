{
 "cells": [
  {
   "cell_type": "markdown",
   "id": "c0b8b072-2a88-490f-8723-e4635020d20d",
   "metadata": {},
   "source": [
    "# Provision and Start NVFLARE\n",
    "\n",
    "Provisioning is the process of setting up a secure project with startup kits for the different participants including the FL Server, FL Clients, and Admin Users.\n",
    "you read the overview of provision in [Provision in NVFLARE](https://nvflare.readthedocs.io/en/latest/programming_guide/provisioning_system.html)\n",
    "\n",
    "There are several ways to provision NVFLARE. \n",
    "* One way is to use NVFLARE CLI, see [provision command line option](https://nvflare.readthedocs.io/en/main/programming_guide/provisioning_system.html#provision-commandline-options)\n",
    "* another way is to use [NVFLARE Dashboard UI](https://nvflare.readthedocs.io/en/latest/user_guide/dashboard_ui.html)\n",
    "  with NVFLARE dashboard, the project admin will setup the project and server information, once clients particiaptes provide the client site information, and project admin publish the project. Everyone can download their startup kits (server, clietns, flare console). \n",
    "  \n",
    "Here we are going to use nvflare CLI to provision. Follow the [Installation](https://nvflare.readthedocs.io/en/main/getting_started.html#installation) instructions to set up an environment that has NVIDIA FLARE installed if you do not have one already.\n",
    "\n",
    "Assumptions\n",
    "* we are going to provision nvflare for local use. We will set everything as default. \n",
    "* we only use non-HA mode \n",
    "\n",
    "We like to put the provision files under\n",
    "\n",
    "```/tmp/nvflare/projects```\n"
   ]
  },
  {
   "cell_type": "markdown",
   "id": "f84d9d54-c4cc-47da-bf80-30454b4f6dda",
   "metadata": {
    "tags": []
   },
   "source": [
    "## Provision"
   ]
  },
  {
   "cell_type": "code",
   "execution_count": null,
   "id": "ef6dbe01-4c17-4404-8a86-5feb05d1499c",
   "metadata": {
    "tags": []
   },
   "outputs": [],
   "source": [
    "! mkdir -p /tmp/nvflare/projects\n"
   ]
  },
  {
   "cell_type": "code",
   "execution_count": null,
   "id": "91dff0c0-1f91-4bab-ba95-62ccc4f0fd3d",
   "metadata": {
    "tags": []
   },
   "outputs": [],
   "source": [
    "%%bash\n",
    "\n",
    "if [ ! -f \"/tmp/nvflare/projects/project.yml\" ]; then\n",
    "     cd /tmp/nvflare/projects\n",
    "     echo \"2\" | nvflare provision     \n",
    "fi\n",
    "\n",
    "ls -l /tmp/nvflare/projects/project.yml\n",
    "\n",
    "nvflare provision -p /tmp/nvflare/projects/project.yml\n",
    "\n"
   ]
  },
  {
   "cell_type": "markdown",
   "id": "64b69b82-f478-4c55-8504-a187d725bca6",
   "metadata": {},
   "source": [
    "You provisioned startup kits can be found at **/tmp/nvflare/projects/workspace/example_project/prod_xx**"
   ]
  },
  {
   "cell_type": "code",
   "execution_count": null,
   "id": "cfc81e61-b7f4-4d17-a6bc-35bebd5a0b33",
   "metadata": {
    "tags": []
   },
   "outputs": [],
   "source": [
    "ls -al /tmp/nvflare/projects/workspace/example_project/*"
   ]
  },
  {
   "cell_type": "markdown",
   "id": "a3896f0b-df64-460e-9e54-fb047b92b369",
   "metadata": {},
   "source": [
    "echo time you run the provision command, it will generate new directory starts with prod_00, prod_01, etc. "
   ]
  },
  {
   "cell_type": "markdown",
   "id": "f731d08c-e848-48a6-971f-96e42f58dac1",
   "metadata": {},
   "source": [
    "## Start FL System"
   ]
  },
  {
   "cell_type": "code",
   "execution_count": null,
   "id": "b0c0454a-85a8-4cc8-9a4b-bc165431dd23",
   "metadata": {
    "tags": []
   },
   "outputs": [],
   "source": [
    "%cd /tmp/nvflare/projects/workspace/example_project/prod_00\n",
    "!ls -al  /tmp/nvflare/projects/workspace/example_project/prod_00"
   ]
  },
  {
   "cell_type": "markdown",
   "id": "cb8081b0-cb83-4700-9ae7-750d81a01848",
   "metadata": {
    "tags": []
   },
   "source": [
    "### Server\n",
    "First we start FL Server"
   ]
  },
  {
   "cell_type": "code",
   "execution_count": null,
   "id": "40cb403e-3285-4044-a36d-e6ad6a519f40",
   "metadata": {
    "tags": []
   },
   "outputs": [],
   "source": [
    "%%bash --bg\n",
    "cd /tmp/nvflare/projects/workspace/example_project/prod_00/server1/\n",
    "./startup/start.sh"
   ]
  },
  {
   "cell_type": "code",
   "execution_count": null,
   "id": "fdfa973f-2e64-4ceb-9483-7b20a245c993",
   "metadata": {
    "tags": []
   },
   "outputs": [],
   "source": [
    "! tail -n 20 /tmp/nvflare/projects/workspace/example_project/prod_00/server1/log.txt"
   ]
  },
  {
   "cell_type": "markdown",
   "id": "53b792b9-282a-4fba-bf6a-64db771814d1",
   "metadata": {},
   "source": [
    "### Site-1"
   ]
  },
  {
   "cell_type": "code",
   "execution_count": null,
   "id": "42e80c23-86f1-4655-be5a-87cd13d8ff4e",
   "metadata": {},
   "outputs": [],
   "source": [
    "%%bash --bg\n",
    "cd /tmp/nvflare/projects/workspace/example_project/prod_00/site-1/\n",
    "./startup/start.sh"
   ]
  },
  {
   "cell_type": "markdown",
   "id": "1082ca07-75a3-4a12-bb34-47f0aa0737cf",
   "metadata": {
    "tags": []
   },
   "source": [
    "### Site-2"
   ]
  },
  {
   "cell_type": "code",
   "execution_count": null,
   "id": "842e8122-a7b0-4a25-bee9-51e81a01acb0",
   "metadata": {},
   "outputs": [],
   "source": [
    "%%bash --bg\n",
    "cd /tmp/nvflare/projects/workspace/example_project/prod_00/site-2/\n",
    "./startup/start.sh"
   ]
  },
  {
   "cell_type": "code",
   "execution_count": null,
   "id": "e89cc0bd-5111-4bab-8124-35679ed44d21",
   "metadata": {},
   "outputs": [],
   "source": [
    "! tail -n 20 /tmp/nvflare/projects/workspace/example_project/prod_00/site-2/log.txt"
   ]
  },
  {
   "cell_type": "markdown",
   "id": "03f09eff-6835-4d81-87f7-cb2f8b6fb648",
   "metadata": {},
   "source": [
    "## Shutdown FL System\n",
    "* The proper way to shutdown FL system is to use FLARE Console (aka Admin Console) to issue shutdown command or\n",
    "* Use FLARE API to shutdown system\n",
    "\n",
    "But you just want to kill the systems, you could use the following commands, \n",
    "* Shutdown clients first\n",
    "* then shutdown server"
   ]
  },
  {
   "cell_type": "code",
   "execution_count": null,
   "id": "76a739c2-4c4f-4ba5-9a67-2f1d4146f383",
   "metadata": {
    "tags": []
   },
   "outputs": [],
   "source": [
    "%%bash\n",
    "# shutdown site-2\n",
    "\n",
    "cd /tmp/nvflare/projects/workspace/example_project/prod_00/site-2/\n",
    "echo 'y' | ./startup/stop_fl.sh\n",
    "\n",
    "# shutdown site-1\n",
    "cd /tmp/nvflare/projects/workspace/example_project/prod_00/site-1/\n",
    "echo 'y' | ./startup/stop_fl.sh\n",
    "\n",
    "sleep 30 \n",
    "# shutdown server\n",
    "cd /tmp/nvflare/projects/workspace/example_project/prod_00/server1/\n",
    "echo 'y' | ./startup/stop_fl.sh"
   ]
  },
  {
   "cell_type": "markdown",
   "id": "3054498f-39f3-4dcb-b88f-5a13a4426125",
   "metadata": {},
   "source": [
    "## Cleanup\n",
    "\n",
    "Once we done experimentation, we might want to cleanup the artifacts generated\n",
    "mainly \n",
    " * project.yml file\n",
    " * prod_xx directories"
   ]
  },
  {
   "cell_type": "code",
   "execution_count": null,
   "id": "512b8d30-6199-4004-8d4f-e333b1ca7c98",
   "metadata": {},
   "outputs": [],
   "source": [
    "! ps -eaf | grep nvflare \n"
   ]
  },
  {
   "cell_type": "code",
   "execution_count": null,
   "id": "17f42b2a-80aa-4647-9487-2224c5fbd5f3",
   "metadata": {
    "tags": []
   },
   "outputs": [],
   "source": [
    "import os\n",
    "proj_file = \"/tmp/nvflare/projects/project.yml\"\n",
    "if os.path.isfile(proj_file): \n",
    "    os.remove(proj_file)\n",
    "    \n",
    "import shutil\n",
    "example_project = \"/tmp/nvflare/projects/workspace/example_project\"\n",
    "if os.path.isdir(example_project):\n",
    "    shutil.rmtree(example_project)"
   ]
  },
  {
   "cell_type": "code",
   "execution_count": null,
   "id": "3e50c0d8-0a03-436b-a4a3-8ab6e14e2b61",
   "metadata": {},
   "outputs": [],
   "source": []
  }
 ],
 "metadata": {
  "kernelspec": {
   "display_name": "nvflare_example",
   "language": "python",
   "name": "nvflare_example"
  },
  "language_info": {
   "codemirror_mode": {
    "name": "ipython",
    "version": 3
   },
   "file_extension": ".py",
   "mimetype": "text/x-python",
   "name": "python",
   "nbconvert_exporter": "python",
   "pygments_lexer": "ipython3",
   "version": "3.8.16"
  }
 },
 "nbformat": 4,
 "nbformat_minor": 5
}
