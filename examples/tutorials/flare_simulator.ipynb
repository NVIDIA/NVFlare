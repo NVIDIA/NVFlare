{
 "cells": [
  {
   "cell_type": "markdown",
   "id": "049fa681",
   "metadata": {},
   "source": [
    "## Intro to the FL Simulator\n",
    "\n",
    "The [FL Simulator](https://nvflare.readthedocs.io/en/2.3/user_guide/fl_simulator.html) runs a local simulation of a running NVFLARE FL deployment.  This allows researchers to test and debug an application without provisioning a real, distributed FL project. The FL Simulator runs a server and multiple clients in the same local process, with communication that mimics a real deployment.  This allows researchers to more quickly build out new components and jobs that can be directly used in a production deployment.\n",
    "\n",
    "### Setup\n",
    "The NVFlare [Getting Started Guide](https://nvflare.readthedocs.io/en/2.3/getting_started.html) provides instructions for setting up FLARE on a local system or in a Docker image.  We've also cloned the NVFlare GitHub in our top-level working directory."
   ]
  },
  {
   "cell_type": "markdown",
   "id": "beec4c66",
   "metadata": {},
   "source": [
    "### Running the FL Simulator\n",
    "\n",
    "FL Simulator usage can be displayed with the NVFlare CLI: `nvflare simulator -h`"
   ]
  },
  {
   "cell_type": "code",
   "execution_count": null,
   "id": "6419b1ec",
   "metadata": {},
   "outputs": [],
   "source": [
    "!nvflare simulator -h"
   ]
  },
  {
   "cell_type": "markdown",
   "id": "7f3a10c8",
   "metadata": {},
   "source": [
    "The two key arguments here are `-w WORKSPACE` and the `job_folder` argument.  For this example, we'll create a test workspace for the `hello-numpy-cross-val` app, and use the job from the `examples/hello-world/hello-numpy-cross-val` app folder.\n",
    "\n",
    "We also specify the number of clients with the `-n N_CLIENTS` argument, the number of threads `-t THREADS` over which to run the clients, and a GPU device to use.  Setting `-n 2 -t 2 -gpu 0`, we will run two clients in parallel, both using GPU device 0."
   ]
  },
  {
   "cell_type": "code",
   "execution_count": null,
   "id": "b0473f64",
   "metadata": {
    "scrolled": true
   },
   "outputs": [],
   "source": [
    "!mkdir -p hello-numpy-cross-val-workspace\n",
    "!nvflare simulator -w hello-numpy-cross-val-workspace -n 2 -t 2 -gpu 0 ../hello-world/hello-numpy-cross-val/jobs/hello-numpy-cross-val"
   ]
  },
  {
   "cell_type": "markdown",
   "id": "3e978776",
   "metadata": {},
   "source": [
    "Watch the output above for the server to signal the run has completed:\n",
    "```\n",
    "    SimulatorServer - INFO - shutting down server\n",
    "    SimulatorServer - INFO - canceling sync locks\n",
    "    SimulatorServer - INFO - server off\n",
    "```\n"
   ]
  },
  {
   "cell_type": "markdown",
   "id": "1d5a5758",
   "metadata": {},
   "source": [
    "We can then check the contents of the `hello-numpy-cross-val-workspace` directory to see the job output."
   ]
  },
  {
   "cell_type": "code",
   "execution_count": null,
   "id": "4250a4cb",
   "metadata": {},
   "outputs": [],
   "source": [
    "!ls -al hello-numpy-cross-val-workspace"
   ]
  },
  {
   "cell_type": "code",
   "execution_count": null,
   "id": "eaf97b0f",
   "metadata": {},
   "outputs": [],
   "source": [
    "import json\n",
    "cross_val_file = open(\"hello-numpy-cross-val-workspace/simulate_job/cross_site_val/cross_val_results.json\")\n",
    "cross_val_json = json.load(cross_val_file)\n",
    "print(json.dumps(cross_val_json, indent=2))"
   ]
  }
 ],
 "metadata": {
  "kernelspec": {
   "display_name": "nvflare_example",
   "language": "python",
   "name": "nvflare_example"
  },
  "language_info": {
   "codemirror_mode": {
    "name": "ipython",
    "version": 3
   },
   "file_extension": ".py",
   "mimetype": "text/x-python",
   "name": "python",
   "nbconvert_exporter": "python",
   "pygments_lexer": "ipython3",
   "version": "3.8.16"
  }
 },
 "nbformat": 4,
 "nbformat_minor": 5
}
