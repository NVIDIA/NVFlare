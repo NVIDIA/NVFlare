{
 "cells": [
  {
   "attachments": {},
   "cell_type": "markdown",
   "id": "049fa681",
   "metadata": {},
   "source": [
    "## Intro to the FL Simulator\n",
    "\n",
    "The [FL Simulator](https://nvflare.readthedocs.io/en/main/user_guide/fl_simulator.html) runs a local simulation of a running NVFLARE FL deployment.  This allows researchers to test and debug an application without provisioning a real, distributed FL project. The FL Simulator runs a server and multiple clients in the same local process, with communication that mimics a real deployment.  This allows researchers to more quickly build out new components and jobs that can be directly used in a production deployment.\n",
    "\n",
    "### Setup\n",
    "The NVFlare [Getting Started Guide](https://nvflare.readthedocs.io/en/main/getting_started.html) provides instructions for setting up FLARE on a local system or in a Docker image.  For this DLI, we're using the MONAI Toolkit NGC Container which includes NVFlare, MONAI, and all dependencies. We've also cloned the NVFlare GitHub in our top-level working directory.  This includes the examples and integrations that will be used throughout the DLI."
   ]
  },
  {
   "attachments": {},
   "cell_type": "markdown",
   "id": "98415d45",
   "metadata": {},
   "source": [
    "### Structure of a FLARE Application - hello-numpy-cross-val\n",
    "\n",
    "To introduce the FL Simulator, we'll run the `hello-numpy-cross-val` example located in the `NVFlare/examples/tutorial/hello-numpy-cross-val` directory."
   ]
  },
  {
   "cell_type": "markdown",
   "id": "e5ffe941",
   "metadata": {},
   "source": [
    "Here we can see the basic configuration of a FLARE application in the `hello-numpy-cross-val/app` directory.  This includes a `config/` directory with client and server configurations in [`config_fed_client.json`](example/hello-numpy-cross-val/app/config/config_fed_client.json) and [`config_fed_server.json`](examples/hello-numpy-cross-val/app/config/config_fed_server.json).\n",
    "\n",
    "Taking a look first at `config_fed_server.json` below, we can see the components that define the main FLARE workflow.  This includes built-in modules to manage the model, create the shareable data that's exchanged between server and clients, aggregate results of training, as well as the training workflow itself.\n",
    "\n",
    "The `workflows` section of the config defines the two main server controller workflows and the training task assigned to the clients.\n",
    "\n",
    "- the `scatter_and_gathe` workflow, implemented in [`nvflare.app_common.workflows.scatter_and_gather.ScatterAndGather`](../NVFlare/nvflare/app_common/workflows/scatter_and_gather.py)\n",
    "- the `cross_site_model_eval` workflow, implemented in [`nvflare.app_common.workflows.cross_site_model_eval.CrossSiteModelEval`](../NVFlare/nvflare/app_common/workflows/cross_site_model_eval.py)\n"
   ]
  },
  {
   "cell_type": "markdown",
   "id": "060cb97e",
   "metadata": {},
   "source": [
    "##### [`config_fed_server.json`](examples/hello-numpy-cross-val/app/config/config_fed_server.json):\n",
    "\n",
    "```json\n",
    "{\n",
    "  \"format_version\": 2,\n",
    "  \"server\": {\n",
    "    \"heart_beat_timeout\": 600\n",
    "  },\n",
    "  \"task_data_filters\": [],\n",
    "  \"task_result_filters\": [],\n",
    "  \"components\": [\n",
    "    {\n",
    "      \"id\": \"persistor\",\n",
    "      \"path\": \"nvflare.app_common.np.np_model_persistor.NPModelPersistor\",\n",
    "      \"args\": {}\n",
    "    },\n",
    "    {\n",
    "      \"id\": \"shareable_generator\",\n",
    "      \"path\": \"nvflare.app_common.shareablegenerators.full_model_shareable_generator.FullModelShareableGenerator\",\n",
    "      \"args\": {}\n",
    "    },\n",
    "    {\n",
    "      \"id\": \"aggregator\",\n",
    "      \"path\": \"nvflare.app_common.aggregators.intime_accumulate_model_aggregator.InTimeAccumulateWeightedAggregator\",\n",
    "      \"args\": {\n",
    "        \"expected_data_kind\": \"WEIGHTS\"\n",
    "      }\n",
    "    },\n",
    "    {\n",
    "      \"id\": \"model_locator\",\n",
    "      \"path\": \"nvflare.app_common.np.np_model_locator.NPModelLocator\",\n",
    "      \"args\": {}\n",
    "    },\n",
    "    {\n",
    "      \"id\": \"formatter\",\n",
    "      \"path\": \"nvflare.app_common.np.np_formatter.NPFormatter\",\n",
    "      \"args\": {}\n",
    "    },\n",
    "    {\n",
    "      \"id\": \"json_generator\",\n",
    "      \"path\": \"nvflare.app_common.widgets.validation_json_generator.ValidationJsonGenerator\",\n",
    "      \"args\": {}\n",
    "    }\n",
    "  ],\n",
    "  \"workflows\": [\n",
    "    {\n",
    "      \"id\": \"scatter_and_gather\",\n",
    "      \"path\": \"nvflare.app_common.workflows.scatter_and_gather.ScatterAndGather\",\n",
    "      \"args\": {\n",
    "        \"min_clients\": 2,\n",
    "        \"num_rounds\": 3,\n",
    "        \"start_round\": 0,\n",
    "        \"wait_time_after_min_received\": 10,\n",
    "        \"aggregator_id\": \"aggregator\",\n",
    "        \"persistor_id\": \"persistor\",\n",
    "        \"shareable_generator_id\": \"shareable_generator\",\n",
    "        \"train_task_name\": \"train\",\n",
    "        \"train_timeout\": 6000\n",
    "      }\n",
    "    },\n",
    "    {\n",
    "      \"id\": \"cross_site_model_eval\",\n",
    "      \"path\": \"nvflare.app_common.workflows.cross_site_model_eval.CrossSiteModelEval\",\n",
    "      \"args\": {\n",
    "        \"model_locator_id\": \"model_locator\",\n",
    "        \"submit_model_timeout\": 600,\n",
    "        \"validation_timeout\": 6000,\n",
    "        \"cleanup_models\": false\n",
    "      }\n",
    "    }\n",
    "  ]\n",
    "}\n",
    "```"
   ]
  },
  {
   "cell_type": "markdown",
   "id": "a42cfc03",
   "metadata": {},
   "source": [
    "\n",
    "In the client config in the `config_fed_client.json`, we define the task executors.  In this case, the `train` and `submit_model` tasks are implemented in the built-in [`nvflare.app_common.np.np_trainer.NPTrainer`](../NVFlare/nvflare/app_common/np/np_trainer.py).  Similarly, the `validate` task is implemted in [`nvflare.app_common.np.np_trainer.NPValidator`](../NVFlare/nvflare/app_common/np/np_validator.py)"
   ]
  },
  {
   "cell_type": "markdown",
   "id": "d96b09ef",
   "metadata": {},
   "source": [
    "##### [`config_fed_client.json`](example/hello-numpy-cross-val/app/config/config_fed_client.json):\n",
    "```json\n",
    "{\n",
    "  \"format_version\": 2,\n",
    "  \"executors\": [\n",
    "    {\n",
    "      \"tasks\": [\n",
    "        \"train\",\n",
    "        \"submit_model\"\n",
    "      ],\n",
    "      \"executor\": {\n",
    "        \"path\": \"nvflare.app_common.np.np_trainer.NPTrainer\",\n",
    "        \"args\": {}\n",
    "      }\n",
    "    },\n",
    "    {\n",
    "      \"tasks\": [\n",
    "        \"validate\"\n",
    "      ],\n",
    "      \"executor\": {\n",
    "        \"path\": \"nvflare.app_common.np.np_validator.NPValidator\"\n",
    "      }\n",
    "    }\n",
    "  ],\n",
    "  \"task_result_filters\": [],\n",
    "  \"task_data_filters\": [],\n",
    "  \"components\": []\n",
    "}\n",
    "```"
   ]
  },
  {
   "cell_type": "markdown",
   "id": "1383726a",
   "metadata": {},
   "source": [
    "The `NPTrainer` and `NPValidator` Executor classes implement a very simple example numpy workflow in which the server assigns an initial matrix:\n",
    "```\n",
    "    [ 1, 2, 3 ]\n",
    "    [ 4, 5, 6 ]\n",
    "    [ 7, 8, 9 ]\n",
    "```\n",
    "that is modified by the clients in each round by incrementing matrix elements by 1.\n",
    "\n",
    "This can be seen in the [`nvflare.app_common.np.np_trainer.NPTrainer`](../NVFlare/nvflare/app_common/np/np_trainer.py) train function starting at line 80, where the client receives the shareable object and the data exchange object (incoming_dxo), verifies the data type, and increments the client's `np_data` by `self._delta`:\n",
    "```python\n",
    "    # Ensure that data is of type weights. Extract model data.\n",
    "    if incoming_dxo.data_kind != DataKind.WEIGHTS:\n",
    "        self.system_panic(\"Model DXO should be of kind DataKind.WEIGHTS.\", fl_ctx)\n",
    "        return make_reply(ReturnCode.BAD_TASK_DATA)\n",
    "    np_data = incoming_dxo.data\n",
    "\n",
    "    # Display properties.\n",
    "    self.log_info(fl_ctx, f\"Incoming data kind: {incoming_dxo.data_kind}\")\n",
    "    self.log_info(fl_ctx, f\"Model: \\n{np_data}\")\n",
    "    self.log_info(fl_ctx, f\"Current Round: {current_round}\")\n",
    "    self.log_info(fl_ctx, f\"Total Rounds: {total_rounds}\")\n",
    "    self.log_info(fl_ctx, f\"Client identity: {fl_ctx.get_identity_name()}\")\n",
    "\n",
    "    # Check abort signal\n",
    "    if abort_signal.triggered:\n",
    "        return make_reply(ReturnCode.TASK_ABORTED)\n",
    "\n",
    "    # Doing some dummy training.\n",
    "    if np_data:\n",
    "        if NPConstants.NUMPY_KEY in np_data:\n",
    "            np_data[NPConstants.NUMPY_KEY] += self._delta\n",
    "        else:\n",
    "            self.log_error(fl_ctx, \"numpy_key not found in model.\")\n",
    "            return make_reply(ReturnCode.BAD_TASK_DATA)\n",
    "    else:\n",
    "        self.log_error(fl_ctx, \"No model weights found in shareable.\")\n",
    "        return make_reply(ReturnCode.BAD_TASK_DATA)\n",
    "```\n",
    "\n",
    "The [`nvflare.app_common.np.np_trainer.NPValidator`](../NVFlare/nvflare/app_common/np/np_validator.py) completes the workflow by performing a simple example \"validation\" that extracts the `np_data` matrix from the incoming shareable and dxo object, calculates np.sum(np_data / np.max(np_data), and adds a random epsilon.\n",
    "\n",
    "\n",
    "```python\n",
    "    # Do some dummy validation.\n",
    "    random_epsilon = np.random.random()\n",
    "    self.log_info(fl_ctx, f\"Adding random epsilon {random_epsilon} in validation.\")\n",
    "    val_results = {}\n",
    "    np_data = model[NPConstants.NUMPY_KEY]\n",
    "    np_data = np.sum(np_data / np.max(np_data))\n",
    "    val_results[\"accuracy\"] = np_data + random_epsilon\n",
    "```\n",
    "While this isn't a particularly useful workflow, it serves to illustrate the relationship between the server controllers and client executors that define the overall federated workflow."
   ]
  },
  {
   "cell_type": "markdown",
   "id": "beec4c66",
   "metadata": {},
   "source": [
    "### Running the FL Simulator\n",
    "\n",
    "FL Simulator usage can be displayed with the NVFlare CLI: `nvflare simulator -h`"
   ]
  },
  {
   "cell_type": "code",
   "execution_count": null,
   "id": "6419b1ec",
   "metadata": {},
   "outputs": [],
   "source": [
    "!nvflare simulator -h"
   ]
  },
  {
   "cell_type": "markdown",
   "id": "7f3a10c8",
   "metadata": {},
   "source": [
    "The two key arguments here are `-w WORKSPACE` and the `job_folder` argument.  For this example, we'll create a test workspace for the `hello-numpy-cross-val` app, and use the `examples/hello-numpy-cross-val` app folder.\n",
    "\n",
    "We also specify the number of clients with the `-n N_CLIENTS` argument, the number of threads `-t THREADS` over which to run the clients, and a GPU device to use.  Setting `-n 2 -t 2 -gpu 0`, we will run two clients in parallel, both using GPU device 0."
   ]
  },
  {
   "cell_type": "code",
   "execution_count": null,
   "id": "b0473f64",
   "metadata": {
    "scrolled": true
   },
   "outputs": [],
   "source": [
    "!mkdir hello-numpy-cross-val-workspace\n",
    "!nvflare simulator -w hello-numpy-cross-val-workspace -n 2 -t 2 -gpu 0 examples/hello-numpy-cross-val/jobs/hello-numpy-cross-val"
   ]
  },
  {
   "cell_type": "markdown",
   "id": "3e978776",
   "metadata": {},
   "source": [
    "Watch the output above for the server to signal the run has completed:\n",
    "```\n",
    "    SimulatorServer - INFO - shutting down server\n",
    "    SimulatorServer - INFO - canceling sync locks\n",
    "    SimulatorServer - INFO - server off\n",
    "```\n"
   ]
  },
  {
   "cell_type": "markdown",
   "id": "1d5a5758",
   "metadata": {},
   "source": [
    "We can then check the contents of the `hello-numpy-cross-val-workspace` directory to see the job output."
   ]
  },
  {
   "cell_type": "code",
   "execution_count": null,
   "id": "4250a4cb",
   "metadata": {},
   "outputs": [],
   "source": [
    "!tree hello-numpy-cross-val-workspace"
   ]
  },
  {
   "cell_type": "code",
   "execution_count": null,
   "id": "eaf97b0f",
   "metadata": {},
   "outputs": [],
   "source": [
    "import json\n",
    "cross_val_file = open(\"hello-numpy-cross-val-workspace/simulate_job/cross_site_val/cross_val_results.json\")\n",
    "cross_val_json = json.load(cross_val_file)\n",
    "print(json.dumps(cross_val_json, indent=2))"
   ]
  }
 ],
 "metadata": {
  "kernelspec": {
   "display_name": "Python 3 (ipykernel)",
   "language": "python",
   "name": "python3"
  },
  "language_info": {
   "codemirror_mode": {
    "name": "ipython",
    "version": 3
   },
   "file_extension": ".py",
   "mimetype": "text/x-python",
   "name": "python",
   "nbconvert_exporter": "python",
   "pygments_lexer": "ipython3",
   "version": "3.8.13"
  }
 },
 "nbformat": 4,
 "nbformat_minor": 5
}
