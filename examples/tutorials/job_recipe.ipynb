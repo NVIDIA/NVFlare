{
 "cells": [
  {
   "cell_type": "markdown",
   "id": "job-recipe-intro",
   "metadata": {},
   "source": [
    "# NVFLARE Job Recipe\n",
    "\n",
    "This tutorial covers how to use Job Recipes in NVFlare to simplify federated learning job creation and execution. Job Recipes provide a simplified abstraction that hides the complexity of low-level job configurations while exposing only the key arguments users should care about. \n",
    "\n",
    "<div class=\"alert alert-block alert-info\">\n",
    "<b> Note: this is a technical preview, not all algorithms are currently implemented with recipes.\n",
    "</div>\n",
    "    \n",
    "## Setup\n",
    "\n",
    "The NVFlare [Quickstart Guide](https://nvflare.readthedocs.io/en/main/quickstart.html#installation) provides instructions for setting up FLARE on a local system or in a Docker image. We've also cloned the NVFlare GitHub in our top-level working directory."
   ]
  },
  {
   "cell_type": "markdown",
   "id": "motivation-section",
   "metadata": {},
   "source": [
    "## Motivation for Using JobRecipe\n",
    "\n",
    "The **Job API** provides a powerful and flexible way to define FLARE FL workflow and configurations in python without manually edit configuration files. While the API made it simple compare to previous process, but it is not simple enough. For new users and / or data scientists working with standard pipeline, such learning curve is unnecessary in understanding detailed concepts such as controllers, executors, workflows, and how to wire them together. \n",
    "\n",
    "To address this, NVFlare introduces the concept of **Job Recipes**. A `JobRecipe` is a simplified abstraction designed to provide a high-level API with:\n",
    "\n",
    "* **Only the key arguments** a data scientist should care about, such as number of clients, number of rounds, training scripts, and model definition.\n",
    "* **Provide consistent entry points** for common federated learning patterns such as **FedAvg** and **Cyclic Training**.\n",
    "* **Provide execution environments** from simulation to production for a same job. \n",
    "\n",
    "This makes `JobRecipe` particularly useful as a **first touchpoint** for new users and data scientists working with standard pipelines:\n",
    "\n",
    "* Instead of learning the entire Job API, users can start with a recipe and focus only on high-level parameters (e.g., `min_clients`, `num_rounds`, etc).\n",
    "* Recipes encapsulate the necessary job structure and execution logic, ensuring correctness while reducing the chance of misconfiguration.\n",
    "* If necessary, users can later progress to customizing the full Job API once they are comfortable with the basics."
   ]
  },
  {
   "cell_type": "markdown",
   "id": "basic-example-section",
   "metadata": {},
   "source": [
    "## Basic Example\n",
    "\n",
    "Let's start with a simple example using the `FedAvgRecipe` for PyTorch. This recipe automatically handles all the complexity of setting up a federated averaging workflow."
   ]
  },
  {
   "cell_type": "markdown",
   "id": "41142f94-7de0-4915-a823-4d80fcd04790",
   "metadata": {},
   "source": [
    "We use our existing training network under `../hello-world/hello-pt/model.py` and script `client.py` to generate the recipe:"
   ]
  },
  {
   "cell_type": "code",
   "execution_count": null,
   "id": "basic-example-code",
   "metadata": {
    "tags": []
   },
   "outputs": [],
   "source": [
    "import os\n",
    "import sys\n",
    "sys.path.append(\"../hello-world/hello-pt\")\n",
    "\n",
    "from nvflare.app_opt.pt.recipes.fedavg import FedAvgRecipe\n",
    "from model import SimpleNetwork\n",
    "\n",
    "# Create a FedAvg recipe\n",
    "recipe = FedAvgRecipe(\n",
    "    name=\"hello-pt\",\n",
    "    min_clients=2,\n",
    "    num_rounds=3,\n",
    "    initial_model=SimpleNetwork(),\n",
    "    train_script=\"client.py\",\n",
    "    train_args=\"--batch_size 32\",\n",
    ")\n",
    "\n",
    "print(\"Recipe created successfully!\")\n",
    "print(f\"Recipe name: {recipe.name}\")\n",
    "print(f\"Min clients: {recipe.min_clients}\")\n",
    "print(f\"Number of rounds: {recipe.num_rounds}\")"
   ]
  },
  {
   "cell_type": "markdown",
   "id": "execution-environments-section",
   "metadata": {},
   "source": [
    "## Execution Environments\n",
    "\n",
    "A **Job Recipe** defines *what* to run in a federated learning setting, but it also needs to know *where* to run. NVFlare provides several **execution environments** that allow the same recipe to be executed in different contexts:\n",
    "\n",
    "* **Simulation (`SimEnv`)** – for local testing and experimentation on a single machine\n",
    "* **Proof-of-Concept (`PocEnv`)** – for small-scale, multi-process setups that mimic real-world deployment on a single machine\n",
    "* **Production (`ProdEnv`)** – for full-scale distributed deployments across multiple organizations and sites\n",
    "\n",
    "This separation enables users to **prototype once and deploy anywhere** without modifying the core job definition."
   ]
  },
  {
   "cell_type": "markdown",
   "id": "simenv-section",
   "metadata": {},
   "source": [
    "### SimEnv – Simulation Environment\n",
    "\n",
    "Runs all clients and the server as **threads** within a single process. This is lightweight and easy to set up; no networking required. Best suited for:\n",
    "\n",
    "* Quick experiments\n",
    "* Debugging scripts and models\n",
    "* Educational use cases\n",
    "\n",
    "**Arguments:**\n",
    "* `num_clients` (int): number of simulated clients\n",
    "* `clients`: a list of client names (length needs to match num_clients if both are provided)\n",
    "* `num_threads`: number of threads to use to run simulated clients\n",
    "* `gpu_config` (str): list of GPU Device Ids, comma separated\n",
    "* `log_config` (str): \"log config mode ('concise', 'full', 'verbose'), filepath, or level\"\n",
    "\n",
    "Now let's test the running of the prepared recipe with SimEnv:"
   ]
  },
  {
   "cell_type": "code",
   "execution_count": null,
   "id": "simenv-example",
   "metadata": {
    "tags": []
   },
   "outputs": [],
   "source": [
    "from nvflare.recipe.sim_env import SimEnv\n",
    "# Create a simulation environment\n",
    "env = SimEnv(\n",
    "    num_clients=2, \n",
    "    num_threads=2,\n",
    ")\n",
    "# Execute the recipe\n",
    "run = recipe.execute(env=env)\n",
    "run.get_status()\n",
    "run.get_result()"
   ]
  },
  {
   "cell_type": "markdown",
   "id": "30eef002-a960-4e6e-a8e0-18192ccedac8",
   "metadata": {},
   "source": [
    "The result are stored under `/tmp/nvflare/simulation/hello-pt`"
   ]
  },
  {
   "cell_type": "markdown",
   "id": "pocenv-section",
   "metadata": {},
   "source": [
    "### PocEnv – Proof-of-Concept Environment\n",
    "\n",
    "Runs server and clients as **separate processes** on the same machine. This simulates real-world deployment within a single node, with server and clients are running in different processes. More realistic than `SimEnv`, but still lightweight enough for a single node.\n",
    "\n",
    "Best suited for:\n",
    "* Demonstrations\n",
    "* Small-scale validation before production deployment\n",
    "* Debugging orchestration logic\n",
    "\n",
    "**Arguments:**\n",
    "* `num_clients` (int, optional): Number of clients to use in POC mode. Defaults to 2.\n",
    "* `clients` (List[str], optional): List of client names. If None, will generate site-1, site-2, etc.\n",
    "* `gpu_ids` (List[int], optional): List of GPU IDs to assign to clients. If None, uses CPU only.\n",
    "* `auto_stop` (bool, optional): Whether to automatically stop POC services after job completion.\n",
    "* `use_he` (bool, optional): Whether to use HE. Defaults to False.\n",
    "* `docker_image` (str, optional): Docker image to use for POC.\n",
    "* `project_conf_path` (str, optional): Path to the project configuration file."
   ]
  },
  {
   "cell_type": "markdown",
   "id": "7bba0a36-5e8f-4a07-ade9-d90f8b08fd9d",
   "metadata": {},
   "source": [
    "Let's first set the path to POC env"
   ]
  },
  {
   "cell_type": "code",
   "execution_count": null,
   "id": "619f6048-373c-4ae6-bbe2-1d6c1c62673e",
   "metadata": {},
   "outputs": [],
   "source": [
    "%env NVFLARE_POC_WORKSPACE=/tmp/nvflare/poc"
   ]
  },
  {
   "cell_type": "code",
   "execution_count": null,
   "id": "pocenv-example",
   "metadata": {
    "tags": []
   },
   "outputs": [],
   "source": [
    "from nvflare.recipe.poc_env import POCEnv\n",
    "\n",
    "# Create a POC environment\n",
    "env = POCEnv(\n",
    "    num_clients=2\n",
    ")\n",
    "# Execute the recipe\n",
    "run = recipe.execute(env=env)\n",
    "run.get_status()\n",
    "run.get_result()"
   ]
  },
  {
   "cell_type": "markdown",
   "id": "e8336793-fee0-46ff-84de-0456fa7fdab9",
   "metadata": {},
   "source": [
    "The result are stored under the directory `/tmp/nvflare/poc`."
   ]
  },
  {
   "cell_type": "markdown",
   "id": "prodenv-section",
   "metadata": {},
   "source": [
    "### ProdEnv – Production Environment\n",
    "\n",
    "We assume the system of a server and clients is up and running across **multiple machines and sites**. Uses secure communication channels and real-world NVFLARE deployment infrastructure. The ProdEnv will utilize the admin's startup package to communicate with an existing NVFlare system to execute and monitor that job execution.\n",
    "\n",
    "Best suited for:\n",
    "* Enterprise federated learning deployments\n",
    "* Multi-institution collaborations\n",
    "* Production-scale workloads\n",
    "\n",
    "**Arguments:**\n",
    "* `startup_kit_location` (str): the directory that contains the startup kit of the admin (generated by nvflare provisioning)\n",
    "* `login_timeout` (float): timeout value for the admin to login to the system\n",
    "* `monitor_job_duration` (int): duration to monitor the job execution, None means no monitoring at all"
   ]
  },
  {
   "cell_type": "markdown",
   "id": "023c6b25-ad86-4cea-be8d-04c03109aaba",
   "metadata": {},
   "source": [
    "Let's first provision a startup kit:"
   ]
  },
  {
   "cell_type": "code",
   "execution_count": null,
   "id": "d3451070-14ff-4fdd-bd79-e87413f5d30c",
   "metadata": {},
   "outputs": [],
   "source": [
    "!nvflare provision -p project.yml -w /tmp/nvflare/prod_workspaces"
   ]
  },
  {
   "cell_type": "markdown",
   "id": "a51da10f-1de7-4fea-b613-5ce90988d60f",
   "metadata": {},
   "source": [
    "Let's then start all parties (from terminal, rather than running the below script directly within notebook):"
   ]
  },
  {
   "cell_type": "markdown",
   "id": "caf5b819-8ce0-418a-917f-33d46a560db6",
   "metadata": {},
   "source": [
    "`bash /tmp/nvflare/prod_workspaces/example_project/prod_00/start_all.sh`"
   ]
  },
  {
   "cell_type": "markdown",
   "id": "558cd3a8-ddac-441e-913e-344358991ce3",
   "metadata": {},
   "source": [
    "Now let's go ahead with environment creation and recipe execution."
   ]
  },
  {
   "cell_type": "code",
   "execution_count": null,
   "id": "67c99d67",
   "metadata": {
    "tags": []
   },
   "outputs": [],
   "source": [
    "from nvflare.recipe.prod_env import ProdEnv\n",
    "import os\n",
    "import sys\n",
    "sys.path.append(\"../hello-world/hello-pt\")\n",
    "\n",
    "from nvflare.app_opt.pt.recipes.fedavg import FedAvgRecipe\n",
    "from model import SimpleNetwork\n",
    "\n",
    "# Create a FedAvg recipe\n",
    "recipe = FedAvgRecipe(\n",
    "    name=\"hello-pt\",\n",
    "    min_clients=2,\n",
    "    num_rounds=3,\n",
    "    initial_model=SimpleNetwork(),\n",
    "    train_script=\"client.py\",\n",
    "    train_args=\"--batch_size 32\",\n",
    ")\n",
    "# Create a Prod environment\n",
    "env = ProdEnv(\n",
    "    startup_kit_location=\"/tmp/nvflare/prod_workspaces/example_project/prod_00/admin@nvidia.com\"\n",
    ")\n",
    "# Execute the recipe\n",
    "run = recipe.execute(env=env)\n",
    "run.get_status()\n",
    "run.get_result()"
   ]
  },
  {
   "cell_type": "markdown",
   "id": "benefits-section",
   "metadata": {},
   "source": [
    "## Benefits of Environment Abstraction\n",
    "\n",
    "* **Consistency** – A recipe defined once can be reused across all environments without modification.\n",
    "* **Progressive workflow** – Start in `SimEnv` for prototyping, move to `PocEnv` for validation, and finally deploy with `ProdEnv`.\n",
    "* **Scalability** – The same training logic scales from a laptop experiment to a global production deployment."
   ]
  },
  {
   "cell_type": "markdown",
   "id": "7589683e-803b-4420-a32f-fc6a49ec97bf",
   "metadata": {},
   "source": [
    "## Special for Edge Application\n",
    "\n",
    "Edge applications run with the new hierachical system are not supported by simulator and at current version, they need to run with `ProdEnv`. Please see more detailed examples [here](https://github.com/NVIDIA/NVFlare/tree/main/examples/advanced/edge). In particular,  the edge recipe preparation and experimental run in [this example](https://github.com/NVIDIA/NVFlare/blob/main/examples/advanced/edge/jobs/pt_job_adv.py). \n"
   ]
  },
  {
   "cell_type": "markdown",
   "id": "best-practices-section",
   "metadata": {},
   "source": [
    "## Best Practices\n",
    "\n",
    "1. **Develop in `SimEnv`** to iterate quickly.\n",
    "2. **Validate in `PocEnv`** to test multi-process orchestration.\n",
    "3. **Deploy in `ProdEnv`** for real-world federated learning.\n",
    "4. **Start simple** with basic recipes before customizing.\n",
    "5. **Use consistent naming** for your recipes and experiments.\n",
    "6. **Monitor execution** to understand the federated learning process."
   ]
  },
  {
   "cell_type": "markdown",
   "id": "summary-section",
   "metadata": {},
   "source": [
    "## Summary\n",
    "\n",
    "Job Recipes, combined with execution environments, provide a **unified abstraction** for defining and running federated learning jobs:\n",
    "\n",
    "* **Recipes define how training should proceed** (e.g., FedAvg, FedOpt, Swarm Learning)\n",
    "* **Environments define where and how the job runs** (simulation, proof-of-concept, production)\n",
    "\n",
    "This separation ensures that the same recipe can seamlessly transition from **local testing** to **enterprise-scale production** without requiring code changes.\n",
    "\n",
    "The goal of Job Recipes is to create a simple point into NVFlare that is most intuitive for new users and data scientist running standard FL pipelines, while still allowing for growth into more complex and customizable workflows."
   ]
  },
  {
   "cell_type": "code",
   "execution_count": null,
   "id": "d92cc38c-fc9f-4dcc-9bf2-73f15bad0aba",
   "metadata": {},
   "outputs": [],
   "source": []
  }
 ],
 "metadata": {
  "kernelspec": {
   "display_name": "Python 3 (ipykernel)",
   "language": "python",
   "name": "python3"
  },
  "language_info": {
   "codemirror_mode": {
    "name": "ipython",
    "version": 3
   },
   "file_extension": ".py",
   "mimetype": "text/x-python",
   "name": "python",
   "nbconvert_exporter": "python",
   "pygments_lexer": "ipython3",
   "version": "3.12.11"
  },
  "vscode": {
   "interpreter": {
    "hash": "31f2aee4e71d21fbe5cf8b01ff0e069b9275f58929596ceb00d14d90e3e16cd6"
   }
  }
 },
 "nbformat": 4,
 "nbformat_minor": 5
}
