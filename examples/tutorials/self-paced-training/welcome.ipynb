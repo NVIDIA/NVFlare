{
 "cells": [
  {
   "cell_type": "markdown",
   "id": "6085d2d6",
   "metadata": {},
   "source": [
    "# Federated learning with NVIDIA FLARE\n"
   ]
  },
  {
   "cell_type": "markdown",
   "id": "e45fa311",
   "metadata": {},
   "source": [
    "Welcome to the sef-paced training Course **Federated Learning with NVIDIA FLARE**!"
   ]
  },
  {
   "cell_type": "markdown",
   "id": "cb83b62f-3552-497d-b282-660c30114d94",
   "metadata": {},
   "source": [
    "# Course Goals\n",
    "In this course, our primary goal is to **introduce the fundamentals of NVIDIA FLARE to researchers, scientists, and developers**.\n",
    "\n",
    "This five-part course on Federated Learning with NVIDIA FLARE covers various aspects of federated learning, including how to develop and run federated learning applications, set up and deploy federated learning systems, and understand the privacy and security aspects of federated learning. We will explore federated learning algorithms and workflows, compare federated traditional machine learning with federated deep learning, and delve into federated LLM fine-tuning. Additionally, we will discuss securing federated XGBoost and applying federated learning in different industries such as healthcare and financial services.\n",
    "\n",
    "We will continue to enhance the course materials by adding new algorithms, applications, and deeper dives into advanced system design and product features or API improvements in future releases.\n"
   ]
  },
  {
   "cell_type": "markdown",
   "id": "3c490dde-75cd-4ebf-b081-a434b54bc461",
   "metadata": {},
   "source": [
    "# Course Requirements\n",
    "\n",
    "Prerequisites of this course include:\n",
    "- Python programming skills\n",
    "- Basic understanding of machine learning & deep learning\n",
    "\n",
    "This course contains multiple examples that we will walkthrough and run together. It is helpful to have experiences in machine learning / deep learning libraries such as `numpy`, `pytorch`, but these are not mandatory, as we will only us basic APIs of these SDKs.\n",
    "\n",
    "Regarding hardware, most of the examples can be run on NVIDIA T4 or equivalent GPUs, or even in CPU-only environment. Having more powerful GPUs could help accelerate the compute for some of the examples in this course. In particular, Part 4 & 5 will require NVIDIA GPU, while part 1 to 3 would be ok with CPU but NVIDIA GPU will help to accelerate. \n"
   ]
  },
  {
   "cell_type": "markdown",
   "id": "3505b49a",
   "metadata": {},
   "source": [
    "# Course Structure\n",
    "\n",
    "This course is broken down into the following 5 parts. While each notebook can run independently, and you can skip certain chapters or sections, it is recommended to follow them one-by-one in order.\n",
    "\n",
    "### [Part 1: Introduction to Federated Learning](./part-1_federated_learning_introduction/part_1_introduction.ipynb)\n",
    "\n",
    "Running and developing federated learning applications using a simulator.\n",
    "\n",
    "### [Part 2: Federated Learning System](./part-2_federated_learning_system/part-2_introduction.ipynb)\n",
    "\n",
    "In this part, we dive into NVIDIA FLARE's federated learning/computing system, including system architecture, deployment process, deployment simulation, and interaction with the system.\n",
    "\n",
    "### [Part 3: Security and Privacy](./part-3_security_and_privacy/part-3_introduction.ipynb)\n",
    "\n",
    "Once we understand the basics of federated learning applications and federated computing systems, we will dive into other aspects of federated learning applications: privacy and security. We will discuss privacy and security concerns, different Privacy Enhancing Techniques (PETs), as well as enterprise security support.\n",
    "\n",
    "### [Part 4: Advanced Topics in Federated Learning](./part-4_advanced_federated_learning/part-4_introduction.ipynb)\n",
    "\n",
    "We will discuss federated learning with advanced topics:\n",
    "\n",
    "* Different federated learning algorithms such as FedOpt, FedProx, etc.\n",
    "* Different federated learning workflows: cyclic, split learning, swarm learning\n",
    "* How to train or fine-tune large language models\n",
    "* How to train secure federated XGBoost\n",
    "* FLARE high-level vs. low-level APIs: dive into low-level but powerful APIs\n",
    "\n",
    "### [Part 5: Federated Learning in Different Industries](./part-5_federated_learning_applications_in_industries/part-5_introduction.ipynb)\n",
    "\n",
    "We have covered quite a bit of federated learning techniques. How do we apply them to different training use cases for cancer studies or fraud detection? Part 5 will show you how to use these techniques in different applications."
   ]
  },
  {
   "cell_type": "markdown",
   "id": "c5b963d6",
   "metadata": {},
   "source": [
    "# Prerequists\n",
    "\n",
    "Although this is not a must requirement, we prefer you install \"tree\" command, which will help visualize the contents of the file directory\n",
    "\n",
    "#### Install ```tree``` on Debian/Ubuntu-based Linux distributions:\n",
    "\n",
    "```\n",
    "sudo apt update\n",
    "sudo apt install tree\n",
    "```\n",
    "\n",
    "Install tree on macOS:\n",
    "\n",
    "```\n",
    "brew install tree\n",
    "```\n"
   ]
  },
  {
   "cell_type": "markdown",
   "id": "932d6f73",
   "metadata": {},
   "source": [
    "# Log Configuration\n",
    "\n"
   ]
  },
  {
   "cell_type": "markdown",
   "id": "99636a22-ace2-4988-96bd-33466091b35a",
   "metadata": {},
   "source": [
    "# Start Learning Now!\n",
    "\n",
    "Wait no further, start learning now by jumping straight to [Part 1](./part-1_federated_learning_introduction/part_1_introduction.ipynb)!"
   ]
  },
  {
   "cell_type": "markdown",
   "id": "ba0c228b",
   "metadata": {},
   "source": []
  }
 ],
 "metadata": {
  "kernelspec": {
   "display_name": "Python 3",
   "language": "python",
   "name": "python3"
  },
  "language_info": {
   "codemirror_mode": {
    "name": "ipython",
    "version": 3
   },
   "file_extension": ".py",
   "mimetype": "text/x-python",
   "name": "python",
   "nbconvert_exporter": "python",
   "pygments_lexer": "ipython3",
   "version": "3.8.13"
  }
 },
 "nbformat": 4,
 "nbformat_minor": 5
}
