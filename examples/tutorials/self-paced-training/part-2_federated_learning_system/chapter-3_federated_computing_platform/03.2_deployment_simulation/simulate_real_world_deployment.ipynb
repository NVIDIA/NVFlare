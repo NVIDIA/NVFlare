{
 "cells": [
  {
   "cell_type": "markdown",
   "id": "b3aff23e",
   "metadata": {},
   "source": [
    "# Simulating Real-World Deployment with NVIDIA FLARE\n",
    "\n",
    "## Introduction\n",
    "\n",
    "In Part 1 of this course, we used the NVIDIA FLARE simulator to run federated learning experiments without worrying about system deployment. While the simulator is excellent for algorithm development and testing, real-world federated learning deployments involve multiple physical sites, each with its own infrastructure and security requirements.\n",
    "\n",
    "In this section, we'll bridge the gap between simulation and real-world deployment by using NVIDIA FLARE's Proof of Concept (POC) mode. This mode allows us to simulate a multi-site deployment on a single machine, providing a realistic preview of how federated learning works in production environments.\n",
    "\n",
    "### Learning Objectives\n",
    "By the end of this section, you will be able to:\n",
    "- Understand the difference between simulation and real-world deployment\n",
    "- Set up a Proof of Concept (POC) environment to simulate multi-site deployment\n",
    "- Configure a federated learning project with custom sites and users\n",
    "- Start and manage a federated learning system in POC mode\n",
    "\n",
    "## Real-World Deployment vs. Simulation\n",
    "\n",
    "Let's first understand the key differences between the simulator we used previously and a real-world deployment:\n",
    "\n",
    "| Aspect | Simulator | Real-World Deployment |\n",
    "|--------|-----------|----------------------|\n",
    "| Infrastructure | Single process with multiple threads | Multiple machines across different organizations |\n",
    "| Setup | Simple Python API or CLI command | Multi-step process including provisioning and distribution |\n",
    "| Security | Minimal (for development) | Comprehensive (certificates, encryption, authentication) |\n",
    "| Communication | In-memory | Network-based (gRPC, HTTP, etc.) |\n",
    "| Lifecycle | Starts and stops with your script | Long-running services waiting for jobs |\n",
    "\n",
    "## The Real-World Deployment Process\n",
    "\n",
    "In a production environment, deploying a federated learning system typically involves these steps:\n",
    "\n",
    "1. **Provisioning**: Creating secure software packages (startup kits) for each participant\n",
    "2. **Distribution**: Securely transferring these packages to each participating site\n",
    "3. **Startup**: Each site starts their FLARE client/server using the startup kit\n",
    "4. **Operation**: The system runs continuously, processing jobs as they're submitted\n",
    "\n",
    "The Proof of Concept (POC) mode allows us to simulate this entire process on a single machine, making it an excellent learning tool before moving to a distributed deployment.\n",
    "\n",
    "\n",
    "Let's compare the key differences between the POC simulated deployment and a real-world deployment:\n",
    "\n",
    "| Aspect | Simulator | Real-World Deployment |\n",
    "|--------|-----------|----------------------|\n",
    "| Infrastructure | Client and server run different process on the same machine (localhost) | Clients and servers on multiple machines across different organizations |\n",
    "| Setup | poc command uses provision to create startup kits, but make everything run on the same machine, no distribution | provision and distribution process |\n",
    "| Security | Minimal (for development) | Comprehensive (certificates, encryption, authentication) |\n",
    "| Communication | Network-based (gRPC, HTTP, etc.) | Network-based (gRPC, HTTP, etc.) |\n",
    "| Lifecycle | Long-running services waiting for jobs| Long-running services waiting for jobs |\n",
    "\n"
   ]
  },
  {
   "cell_type": "markdown",
   "id": "381aef31",
   "metadata": {},
   "source": [
    "## Understanding the POC Command\n",
    "\n",
    "NVIDIA FLARE provides a dedicated command-line interface for creating and managing POC deployments. The [`nvflare poc` command](https://nvflare.readthedocs.io/en/main/user_guide/nvflare_cli/poc_command.html) offers several subcommands for different aspects of POC management.\n",
    "\n",
    "> **Note**: While you can run these commands in a notebook, it's generally better to use a terminal for POC setup to avoid potential inconsistencies in process management.\n",
    "\n",
    "### Creating a Basic POC Environment\n",
    "\n",
    "Let's start by creating a simple POC environment with five client sites. This simulates a federated learning scenario with five participating organizations.\n",
    "\n",
    "The command to create this environment is:"
   ]
  },
  {
   "cell_type": "code",
   "execution_count": 2,
   "id": "14683437",
   "metadata": {},
   "outputs": [
    {
     "name": "stdout",
     "output_type": "stream",
     "text": [
      "prepare poc at /tmp/nvflare/poc for 5 clients\n",
      "provision at /tmp/nvflare/poc for 5 clients with /tmp/nvflare/poc/project.yml\n",
      "INFO: Generated results can be found under /tmp/nvflare/poc/example_project/prod_00. \n"
     ]
    }
   ],
   "source": [
    "! nvflare poc prepare -n 5"
   ]
  },
  {
   "cell_type": "markdown",
   "id": "f93686eb",
   "metadata": {},
   "source": [
    "### Understanding the Generated Structure\n",
    "\n",
    "The command above creates a directory structure that simulates a multi-site deployment. Let's examine what was created:\n",
    "\n",
    "```\n",
    "/tmp/nvflare/poc/example_project/prod_00/\n",
    "├── admin@nvidia.com/     # Admin user's startup kit\n",
    "├── server/               # FL server startup kit\n",
    "├── site-1/               # Client site 1 startup kit\n",
    "├── site-2/               # Client site 2 startup kit\n",
    "├── site-3/               # Client site 3 startup kit\n",
    "├── site-4/               # Client site 4 startup kit\n",
    "└── site-5/               # Client site 5 startup kit\n",
    "```\n",
    "\n",
    "Each directory contains a complete startup kit for that participant, including:\n",
    "\n",
    "- **startup/**: Scripts and configurations to start the FLARE client/server\n",
    "- **local/**: Directory for local data and outputs\n",
    "- **transfer/**: Directory for secure file transfer between participants\n",
    "- **Certificates and keys**: For secure communication (in a real deployment)\n",
    "\n",
    "### Key Components of the POC Environment\n",
    "\n",
    "The POC environment includes several key components:\n",
    "\n",
    "1. **Server**: The central coordinator for the federated learning system\n",
    "2. **Clients**: The participants (sites) that contribute data and computation\n",
    "3. **Admin**: The user who manages the system and submits jobs\n",
    "\n",
    "In a real-world deployment, these components would run on separate machines across different organizations. In POC mode, they all run on your local machine but in separate processes, simulating network communication."
   ]
  },
  {
   "cell_type": "markdown",
   "id": "534ca0c6",
   "metadata": {},
   "source": [
    "## Creating a Realistic POC Environment\n",
    "\n",
    "While the basic POC setup is useful, real-world federated learning projects often have custom site names, organizational structures, and user roles. NVIDIA FLARE allows you to define these using a project configuration file.\n",
    "\n",
    "### The Project Configuration File\n",
    "\n",
    "A project configuration file (typically `project.yml`) defines the structure of your federated learning project, including:\n",
    "\n",
    "- Names and roles of participating sites\n",
    "- User accounts and their permissions\n",
    "- Security settings\n",
    "- Other deployment parameters\n",
    "\n",
    "Let's examine a sample project configuration:"
   ]
  },
  {
   "cell_type": "code",
   "execution_count": null,
   "id": "f549f7dc",
   "metadata": {},
   "outputs": [],
   "source": [
    "! cat code/project.yml"
   ]
  },
  {
   "cell_type": "markdown",
   "id": "7badff3b",
   "metadata": {},
   "source": [
    "### Understanding the Project Configuration\n",
    "\n",
    "The project configuration above defines a healthcare-focused federated learning project with three main participants:\n",
    "\n",
    "1. **general-hospital-server**: The central server operated by a nonprofit organization\n",
    "2. **us_hospital**: A hospital in the United States participating as a client\n",
    "3. **europe-hospital**: A hospital in Europe participating as a client\n",
    "\n",
    "It also defines several user roles for each organization:\n",
    "\n",
    "- **Project Admin** (`admin@nonprofit.org`): Has full control over the project\n",
    "- **Site Admins** (`admin@hospital.org.us`, `admin@hospital.org.eu`): Manage their respective sites\n",
    "- **Lead Members** (`lead@hospital.org.us`, `lead@hospital.org.eu`): Have elevated permissions at their sites\n",
    "- **Regular Members** (`member@hospital.org.us`, `member@hospital.org.eu`): Have basic access to their sites\n",
    "\n",
    "This structure reflects a realistic scenario where multiple organizations collaborate while maintaining their own internal hierarchy.\n",
    "\n",
    "### Creating a Custom POC Environment\n",
    "\n",
    "Now, let's create a POC environment based on this project configuration:"
   ]
  },
  {
   "cell_type": "code",
   "execution_count": null,
   "id": "3dfea369",
   "metadata": {},
   "outputs": [],
   "source": [
    "! echo 'y' | nvflare poc prepare -i code/project.yml"
   ]
  },
  {
   "cell_type": "markdown",
   "id": "examine-structure",
   "metadata": {},
   "source": [
    "Let's examine the structure of our custom POC environment:"
   ]
  },
  {
   "cell_type": "code",
   "execution_count": null,
   "id": "cea409bf",
   "metadata": {},
   "outputs": [],
   "source": [
    "! tree /tmp/nvflare/poc/health_project/prod_00"
   ]
  },
  {
   "cell_type": "markdown",
   "id": "6c00e97e",
   "metadata": {},
   "source": [
    "Notice that the site names now match those defined in our project configuration file (`general-hospital-server`, `us_hospital`, `europe-hospital`) instead of the generic names (`server`, `site-1`, etc.).\n",
    "\n",
    "Each user defined in the project configuration also has their own startup kit, allowing them to connect to the system with their specific permissions."
   ]
  },
  {
   "cell_type": "markdown",
   "id": "c1a8f039",
   "metadata": {},
   "source": [
    "#### Simplified Custom Site Configuration\n",
    "\n",
    "If you want to customize site names without creating a full project configuration file, you can use the `-c` option with the `poc prepare` command:\n",
    "\n",
    "```bash\n",
    "nvflare poc prepare -c hospital1 hospital2 research_center\n",
    "```\n",
    "\n",
    "This creates a POC environment with three client sites named `hospital1`, `hospital2`, and `research_center`, plus the default server."
   ]
  },
  {
   "cell_type": "markdown",
   "id": "docker-section",
   "metadata": {},
   "source": [
    "#### Docker-Based Deployment\n",
    "\n",
    "For more realistic simulation or actual production deployment, NVIDIA FLARE supports Docker-based deployment. This approach provides better isolation between components and more closely resembles a real-world deployment scenario.\n",
    "\n",
    "To create a Docker-based POC environment, use the `-d` flag with the `poc prepare` command, followed by the docker image\n",
    "\n",
    "```bash\n",
    "nvflare poc prepare -d \"nvflare/nvflare\"\n",
    "```\n",
    "\n",
    "This generates a `docker.sh` for each client and server which will be used to pull the docker image and then start the container in detached mode."
   ]
  },
  {
   "cell_type": "code",
   "execution_count": null,
   "id": "6fc023bc",
   "metadata": {},
   "outputs": [],
   "source": [
    "! echo 'y'| nvflare poc prepare -d 'nvflare/nvflare'\n",
    "! tree /tmp/nvflare/poc/example_project/prod_00"
   ]
  },
  {
   "cell_type": "markdown",
   "id": "starting-poc",
   "metadata": {},
   "source": [
    "### Starting the POC Environment\n",
    "\n",
    "Once you've created your POC environment, you can start the federated learning system. In a real deployment, each site would start their own component. In POC mode, you can start all components with a single command:\n",
    "\n",
    "```bash\n",
    "nvflare poc start\n",
    "```\n",
    "\n",
    "This command starts the server and all client processes in the background. \n",
    "\n",
    "#### Starting Specific Components\n",
    "\n",
    "You can also start specific components using the `-p` (participant) option:\n",
    "\n",
    "```bash\n",
    "# Start only the server\n",
    "nvflare poc start -p server\n",
    "\n",
    "# Start specific clients\n",
    "nvflare poc start -p site-1 -p site-2\n",
    "```\n",
    "\n",
    "#### Excluding Components\n",
    "\n",
    "Alternatively, you can start all components except specific ones using the `-ex` (exclude) option:\n",
    "\n",
    "```bash\n",
    "# Start all components except the admin console\n",
    "nvflare poc start -ex admin@nvidia.com\n",
    "\n",
    "# Start all components except specific clients\n",
    "nvflare poc start -ex site-3 -ex site-4\n",
    "```\n",
    "\n",
    "This is particularly useful when you want to start most components but manage a few separately."
   ]
  },
  {
   "cell_type": "markdown",
   "id": "monitoring-section",
   "metadata": {},
   "source": [
    "### Monitoring and Managing the POC Environment\n",
    "\n",
    "You can monitor and manage your POC environment using several commands:\n",
    "\n",
    "#### Checking Status\n",
    "\n",
    "To check the status of all components:\n",
    "\n",
    "```bash\n",
    "nvflare poc status\n",
    "```\n",
    "\n",
    "This shows which components are running and their process IDs.\n",
    "\n",
    "#### Stopping Components\n",
    "\n",
    "To stop specific components:\n",
    "\n",
    "```bash\n",
    "# Stop a specific client\n",
    "nvflare poc stop -p site-1\n",
    "\n",
    "# Stop multiple components\n",
    "nvflare poc stop -p site-1 -p site-2\n",
    "```\n",
    "\n",
    "To stop all components:\n",
    "\n",
    "```bash\n",
    "nvflare poc stop\n",
    "```\n",
    "\n",
    "#### Cleaning Up\n",
    "\n",
    "To clean up the POC environment (removing all processes and temporary files):\n",
    "\n",
    "```bash\n",
    "nvflare poc clean\n",
    "```\n",
    "\n",
    "Let's stop and clean our environment now"
   ]
  },
  {
   "cell_type": "code",
   "execution_count": null,
   "id": "feabc3c2",
   "metadata": {},
   "outputs": [],
   "source": [
    "! nvflare poc stop"
   ]
  },
  {
   "cell_type": "code",
   "execution_count": null,
   "id": "cdcada25",
   "metadata": {},
   "outputs": [],
   "source": [
    "! nvflare poc clean"
   ]
  },
  {
   "cell_type": "markdown",
   "id": "production-section",
   "metadata": {},
   "source": [
    "## From POC to Production\n",
    "\n",
    "The POC mode is designed to be as close as possible to a real deployment, with a few simplifications for local testing. When you're ready to move to a production environment, the main differences will be:\n",
    "\n",
    "1. **Provisioning**: You'll use `nvflare provision` instead of `nvflare poc prepare`\n",
    "2. **Distribution**: You'll need to securely distribute startup kits to each participant\n",
    "3. **Network Configuration**: You'll need to configure firewalls and network settings for cross-organization communication\n",
    "4. **Security**: You'll need to implement additional security measures appropriate for your deployment\n",
    "5. **Resource Allocation**: You'll need to allocate appropriate computing resources for each component\n",
    "6. **Monitoring**: You'll need to set up more comprehensive monitoring and alerting\n",
    "\n",
    "We'll cover these topics in more detail in [Chapter 4](../../chapter-4_setup_federated_system/04.0_introduction/introduction.ipynb).\n",
    "\n",
    "## Summary\n",
    "\n",
    "In this section, we've learned how to:\n",
    "\n",
    "- Create a POC environment to simulate a multi-site federated learning deployment\n",
    "- Configure a custom project with specific sites and user roles\n",
    "- Deploy NVIDIA FLARE in Docker containers for better isolation\n",
    "- Start and manage the components of a federated learning system using various command options\n",
    "- Understand the relationship between POC mode and real-world deployment\n",
    "\n",
    "The POC mode provides a valuable bridge between simulation and production, allowing you to test your federated learning workflows in a realistic environment before deploying across multiple organizations.\n",
    "\n",
    "In the next section, we'll explore different ways to [interact with the federated computing system](../03.3_interact_with_federated_computing_system/ways_to_interact_with_fl_system.ipynb)."
   ]
  }
 ],
 "metadata": {
  "kernelspec": {
   "display_name": "nvflare_env",
   "language": "python",
   "name": "nvflare_env"
  },
  "language_info": {
   "codemirror_mode": {
    "name": "ipython",
    "version": 3
   },
   "file_extension": ".py",
   "mimetype": "text/x-python",
   "name": "python",
   "nbconvert_exporter": "python",
   "pygments_lexer": "ipython3",
   "version": "3.10.12"
  }
 },
 "nbformat": 4,
 "nbformat_minor": 5
}
