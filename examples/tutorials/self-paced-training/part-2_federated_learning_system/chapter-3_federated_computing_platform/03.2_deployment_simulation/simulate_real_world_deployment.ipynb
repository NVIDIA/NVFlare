{
 "cells": [
  {
   "cell_type": "markdown",
   "id": "b3aff23e",
   "metadata": {},
   "source": [
    "# Simulate Real-world Deployment: POC mode\n",
    "\n",
    "In the part-1, we have learnt the simulator, we are simulating the federated learning training without worry about the how the federated learning ssytem is setup and deployed. \n",
    "\n",
    "In the real world deployment, for cross-silo deployment, there are several institutions (Hospitals or banks) are participating the federated system. What we go through is setup/deployment process\n",
    "\n",
    "* Provision: create a set of packaged software: aka, NVIDIA FLARE startup-kit\n",
    "* distribution: transfer the software packages (startup-kit) to each site \n",
    "* start: start the software <startup-kit>/start/startsh  -- wait for job submission\n",
    "\n",
    "\n",
    "Before connect multiple machines,we can simulate this setup and deployment in local computer. In NVFLRAE, this is called Proof of Concept (POC) mode. \n",
    "\n",
    "In this section, we will explore the POC -based FL system. \n",
    "\n",
    "\n",
    "\n",
    "\n",
    "\n",
    "\n",
    "\n"
   ]
  },
  {
   "cell_type": "markdown",
   "id": "381aef31",
   "metadata": {},
   "source": [
    "## POC Command\n",
    "\n",
    "[POC command](https://nvflare.readthedocs.io/en/main/user_guide/nvflare_cli/poc_command.html) provides a set of command to create different software packages and simulate client and server.  You can also find the tutorials in [here](../../../../setup_poc.ipynb) on how to setup POC. \n",
    "\n",
    "\n",
    "\n",
    "\n",
    "\n",
    "\n",
    "\n"
   ]
  },
  {
   "cell_type": "markdown",
   "id": "534ca0c6",
   "metadata": {},
   "source": []
  }
 ],
 "metadata": {
  "kernelspec": {
   "display_name": "nvflare_example",
   "language": "python",
   "name": "nvflare_example"
  },
  "language_info": {
   "codemirror_mode": {
    "name": "ipython",
    "version": 3
   },
   "file_extension": ".py",
   "mimetype": "text/x-python",
   "name": "python",
   "nbconvert_exporter": "python",
   "pygments_lexer": "ipython3",
   "version": "3.10.2"
  }
 },
 "nbformat": 4,
 "nbformat_minor": 5
}
