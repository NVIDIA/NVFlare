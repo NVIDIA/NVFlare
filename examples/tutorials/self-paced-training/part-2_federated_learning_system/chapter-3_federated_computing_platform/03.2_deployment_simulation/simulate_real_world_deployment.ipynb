{
 "cells": [
  {
   "cell_type": "markdown",
   "id": "b3aff23e",
   "metadata": {},
   "source": [
    "# Simulate Real-world Deployment\n",
    "\n",
    "In part-1, we learned about the simulator, where we simulated federated learning training without worrying about how the federated learning system is set up and deployed.\n",
    "\n",
    "In a real-world deployment for cross-silo deployment, several institutions (hospitals or banks) participate in the federated system. What we go through is the setup/deployment process:\n",
    "\n",
    "* Provision: create a set of packaged software, also known as the NVIDIA FLARE startup-kit\n",
    "* Distribution: transfer the software packages (startup-kit) to each site\n",
    "* Start: start the software using `<startup-kit>/start/start.sh` and wait for job submission\n",
    "\n",
    "Before connecting multiple machines, we can simulate this setup and deployment on a local computer. In NVFLARE, this is called Proof of Concept (POC) mode.\n",
    "\n",
    "In this section, we will explore the POC-based FL system.\n"
   ]
  },
  {
   "cell_type": "markdown",
   "id": "381aef31",
   "metadata": {},
   "source": [
    "## Proof of Concept (POC) Command\n",
    "\n",
    "[POC command](https://nvflare.readthedocs.io/en/main/user_guide/nvflare_cli/poc_command.html) provides a set of command to create different software packages and simulate client and server.  You can also find the tutorials in [here](../../../../setup_poc.ipynb) on how to setup POC. \n",
    "\n",
    "> With POC mode, it is ideally use terminal instead of notebook to setup, as there are some non-consistent behavior when running scripts.\n",
    "\n",
    "### POC Prepare\n",
    "\n",
    "#### POC command first look\n",
    "\n",
    "First let's prepare for the POC setup. We like to use the same example we had before with five clients: which means we should have five sites, where each site has its own startup kit package.\n",
    "\n",
    "To simulate such setup, we use the following command\n",
    "\n",
    "\n",
    "```\n",
    "nvflare poc prepare -n 5\n",
    "\n",
    "```\n",
    "let run this from a separate terminal. here is the output \n",
    "\n",
    "```\n"
   ]
  },
  {
   "cell_type": "code",
   "execution_count": null,
   "id": "14683437",
   "metadata": {},
   "outputs": [],
   "source": [
    "! nvflare poc prepare -n 5"
   ]
  },
  {
   "cell_type": "markdown",
   "id": "f93686eb",
   "metadata": {},
   "source": [
    "\n",
    "Take a look at the generated folder structure: \n",
    "\n",
    "\n",
    "```\n",
    "$ tree /tmp/nvflare/poc/example_project/prod_00\n",
    "\n",
    "/tmp/nvflare/poc/example_project/prod_00\n",
    "├── admin@nvidia.com\n",
    "│   ├── local\n",
    "│   ├── startup\n",
    "│   └── ...\n",
    "| \n",
    "├── server\n",
    "│   ├── local\n",
    "│   ├── readme.txt\n",
    "│   ├── startup\n",
    "│   │   ├── ....\n",
    "│   └── ...\n",
    "\n",
    "├── site-1\n",
    "│   ├── local\n",
    "│   ├── readme.txt\n",
    "│   ├── startup\n",
    "│   │   └── ...\n",
    "│   └── ...\n",
    "├── site-2\n",
    "│   ├── local\n",
    "│   ├── readme.txt\n",
    "│   ├── startup\n",
    "│   │   ├── ...\n",
    "│   └── ...\n",
    "├── site-3\n",
    "│   ├── local\n",
    "│   ├── readme.txt\n",
    "│   ├── startup\n",
    "│   │   └── ...\n",
    "│   └── ...\n",
    "├── site-4\n",
    "│   ├── local\n",
    "│   ├── readme.txt\n",
    "│   ├── startup\n",
    "│   │   └── ...\n",
    "│   └── transfer\n",
    "└── site-5\n",
    "    ├── local\n",
    "    ├── readme.txt\n",
    "    ├── startup\n",
    "    │   └── ...\n",
    "    └── ...\n",
    "\n",
    "```\n",
    "\n",
    "\n",
    "Notice the command create a working directory at ```/tmp/nvflare/poc/example_project/prod_00```\n",
    "\n",
    "based on the default values: \n",
    "\n",
    "POC workspace = \"/tmp/nvflare/poc\"\n",
    "project_name = \"example_project\"\n",
    "and default folder \"prod_00\"\n",
    "\n",
    "All sites are with the default name with \"site-\". \n",
    "\n",
    "The actual process of generate such software package (startup kit) is called **\"provision\"**, the POC is special mode of provision, where both client and server are at localhost\n",
    "\n",
    "\n",
    "Each site ( site-N and server) representing one location in the federated learning site and running federated learning client. \n",
    "\n",
    "\n",
    "#### Simulating the real-world deployment\n",
    "\n",
    "\n",
    "\n",
    "\n",
    "\n"
   ]
  },
  {
   "cell_type": "markdown",
   "id": "534ca0c6",
   "metadata": {},
   "source": [
    "In NVFLARE, we define a project.yml to describe the type of setup we would like to have in the federated deployment, here is an example: \n"
   ]
  },
  {
   "cell_type": "code",
   "execution_count": null,
   "id": "f549f7dc",
   "metadata": {},
   "outputs": [],
   "source": [
    "! cat code/project.yml"
   ]
  },
  {
   "cell_type": "markdown",
   "id": "7badff3b",
   "metadata": {},
   "source": [
    "notice in this project file, we define **three** sites:\n",
    "\n",
    "**nonprofit-server** \n",
    "\n",
    "    served as Federated learning Server, it is belong to nonprofit organizaton\n",
    "    \n",
    "**us_hospital** \n",
    "\n",
    "    served as client, belong to us-hospital \n",
    "\n",
    "**europe-hospital**\n",
    "\n",
    "    served as client, belong to eu-hospital \n",
    "    \n",
    "We also define few users:\n",
    "\n",
    "* nonprofit.org team\n",
    "\n",
    "  **admin@nonprofit.org** -- project admin\n",
    "\n",
    "* us_hospital team\n",
    "\n",
    "    **admin@hospital.org.us** -- site admin  ( aka Org Admin)\n",
    "\n",
    "    **lead@hospital.org.us** -- lead member\n",
    "\n",
    "    **member@hospital.org.us**  -- member \n",
    "    \n",
    "* eu_hospital team\n",
    "\n",
    "    **admin@hospital.org.eu**  -- site admin \n",
    "\n",
    "    **lead@hospital.org.eu**   -- lead member\n",
    "\n",
    "    **member@hospital.org.eu** -- member \n",
    "\n",
    "\n",
    "Now let prepare the startup kit with POC command, see what we have\n",
    "\n"
   ]
  },
  {
   "cell_type": "code",
   "execution_count": null,
   "id": "3dfea369",
   "metadata": {},
   "outputs": [],
   "source": [
    "    \n",
    "! echo 'y' | nvflare poc prepare -i code/project.yml\n",
    "\n"
   ]
  },
  {
   "cell_type": "code",
   "execution_count": null,
   "id": "cea409bf",
   "metadata": {},
   "outputs": [],
   "source": [
    "! tree /tmp/nvflare/poc/health_project/prod_00"
   ]
  },
  {
   "cell_type": "markdown",
   "id": "6c00e97e",
   "metadata": {},
   "source": [
    "Now you see site names are now match the ones we defined in the project.yml file instead of \"server\",. \"site-1\", ... etc."
   ]
  },
  {
   "cell_type": "markdown",
   "id": "c1a8f039",
   "metadata": {},
   "source": [
    "#### Prepare with Named Clients\n",
    "\n",
    "If you just want to have default deployment, but specifiy the client site names ((instead of use default site-1,2 etc.) and not writing a project.yaml file, you do the following\n",
    "\n",
    "\n",
    "\n",
    "nvflare poc prepare -c [CLIENTS ...]"
   ]
  },
  {
   "cell_type": "code",
   "execution_count": null,
   "id": "8e2651a1",
   "metadata": {},
   "outputs": [],
   "source": [
    "! echo 'y' | nvflare poc prepare -c hospital-1 hospital-2\n",
    "! tree /tmp/nvflare/poc/example_project/prod_00"
   ]
  },
  {
   "cell_type": "markdown",
   "id": "7edb8732",
   "metadata": {},
   "source": [
    "#### POC with docker image\n",
    "\n",
    "The -d option instructs the provision tool to create a docker.sh use the specified docker_image. The docker.sh will start in detached mode.\n",
    "\n",
    "nvflare poc prepare -d [DOCKER_IMAGE]\n",
    "This will create docker.sh for each client and server which will run docker pull docker_image from docker hub, then running the docker in detached mode. The docker_image must use nvflare. For example, we use the following docker image \"nvflare/nvflare\" which has nvflare preinstalled.\n",
    "\n",
    ">Note: you should build your own image if you want to include your dependencies such as pytorch etc.\n",
    "\n"
   ]
  },
  {
   "cell_type": "markdown",
   "id": "bd01f71e",
   "metadata": {},
   "source": []
  },
  {
   "cell_type": "code",
   "execution_count": null,
   "id": "33fd4423",
   "metadata": {},
   "outputs": [],
   "source": [
    "! echo 'y'| nvflare poc prepare -d 'nvflare/nvflare'\n",
    "! tree /tmp/nvflare/poc/example_project/prod_00\n"
   ]
  },
  {
   "cell_type": "markdown",
   "id": "73daeb53",
   "metadata": {},
   "source": [
    "Notice the new \"docker.sh\", now each client will using docker run with we specified \"nvflare/nvflare\" docker image\n",
    "\n",
    "If you like to see how to specify Homomorphic encryptions you can check out our [POC tutorials](https://github.com/NVIDIA/NVFlare/blob/main/examples/tutorials/setup_poc.ipynb)"
   ]
  },
  {
   "cell_type": "markdown",
   "id": "e0443f30",
   "metadata": {},
   "source": [
    "### Start NVFlare system in POC mode"
   ]
  },
  {
   "cell_type": "markdown",
   "id": "2c426596",
   "metadata": {},
   "source": [
    "When starting the POC deployment, it's necessary to use a separate terminal since the nvflare poc start command will run in the foreground emitting output from the server and any connected clients.\n",
    "\n",
    "Also note that nvflare poc start starts all clients and server as well as project admin console. All other participants (org admin, lead and member) will not started.\n",
    "\n",
    "#### POC start clients and server without NVFLARE admin console\n",
    "\n",
    "In many cases, we want to start the clients and server, but without the FLARE console for project admin, as we are going to interact with the system from a notebook or CLI. You first need to find out the user name for the project admin. By default, this is admin@nvidia.com\n",
    "\n",
    "Create a terminal to execute the following command (in JupyterLab or host terminal):\n",
    "\n",
    "    nvflare poc start -ex admin@nvidia.com\n",
    "\n",
    "> Note: Using %%bash -bg to run the above command in a code cell may not always work\n",
    "\n",
    "**Homework**: run the nvflare poc start command with or without -ex option\n",
    "\n",
    "\n",
    "#### POC start individial site Only \n",
    " \n",
    "nvflare poc start -p \"site-name\"\n",
    "\n",
    "Now, let start the POC with default poc and run some jobs\n"
   ]
  },
  {
   "cell_type": "code",
   "execution_count": null,
   "id": "d95b76fd",
   "metadata": {},
   "outputs": [],
   "source": [
    "! echo y |  nvflare poc prepare -n 5\n",
    "! tree /tmp/nvflare/poc/example_project/prod_00"
   ]
  },
  {
   "cell_type": "markdown",
   "id": "6e5baf55",
   "metadata": {},
   "source": [
    "Once the FLARE system is started, you can learn how to interact with it at next section: [interact with federated computing system](../03.3_interact_with_federated_computing_system/%20ways_to_interact_with_fl_system.ipynb)\n",
    "\n",
    "\n",
    "After running with POC, you can shut it down. "
   ]
  },
  {
   "cell_type": "code",
   "execution_count": 40,
   "id": "8ecc7eaa",
   "metadata": {},
   "outputs": [
    {
     "name": "stdout",
     "output_type": "stream",
     "text": [
      "start shutdown NVFLARE\n",
      "connect to nvflare server\n",
      "checking running jobs\n",
      "shutdown NVFLARE\n",
      "waiting system to shutdown\n"
     ]
    }
   ],
   "source": [
    "! nvflare poc stop"
   ]
  },
  {
   "cell_type": "markdown",
   "id": "c223c758",
   "metadata": {},
   "source": [
    "After you are done with poc, you can clean it up"
   ]
  },
  {
   "cell_type": "code",
   "execution_count": 41,
   "id": "17a3c85e",
   "metadata": {},
   "outputs": [
    {
     "name": "stdout",
     "output_type": "stream",
     "text": [
      "/tmp/nvflare/poc is removed\n"
     ]
    }
   ],
   "source": [
    "! nvflare poc clean"
   ]
  },
  {
   "cell_type": "markdown",
   "id": "e866b984",
   "metadata": {},
   "source": []
  }
 ],
 "metadata": {
  "kernelspec": {
   "display_name": "nvflare_env",
   "language": "python",
   "name": "python3"
  },
  "language_info": {
   "codemirror_mode": {
    "name": "ipython",
    "version": 3
   },
   "file_extension": ".py",
   "mimetype": "text/x-python",
   "name": "python",
   "nbconvert_exporter": "python",
   "pygments_lexer": "ipython3",
   "version": "3.10.12"
  }
 },
 "nbformat": 4,
 "nbformat_minor": 5
}
