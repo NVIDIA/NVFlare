{
 "cells": [
  {
   "cell_type": "markdown",
   "id": "b3aff23e",
   "metadata": {},
   "source": [
    "# Simulate Real-world Deployment\n",
    "\n",
    "In part-1, we learned about the simulator, where we simulated federated learning training without worrying about how the federated learning system is set up and deployed.\n",
    "\n",
    "In a real-world deployment for cross-silo deployment, several institutions (hospitals or banks) participate in the federated system. What we go through is the setup/deployment process:\n",
    "\n",
    "* Provision: create a set of packaged software, also known as the NVIDIA FLARE startup-kit\n",
    "* Distribution: transfer the software packages (startup-kit) to each site\n",
    "* Start: start the software using `<startup-kit>/start/start.sh` and wait for job submission\n",
    "\n",
    "Before connecting multiple machines, we can simulate this setup and deployment on a local computer. In NVFLARE, this is called Proof of Concept (POC) mode.\n",
    "\n",
    "In this section, we will explore the POC-based FL system.\n"
   ]
  },
  {
   "cell_type": "markdown",
   "id": "381aef31",
   "metadata": {},
   "source": [
    "## Proof of Concept (POC) Command\n",
    "\n",
    "[POC command](https://nvflare.readthedocs.io/en/main/user_guide/nvflare_cli/poc_command.html) provides a set of command to create different software packages and simulate client and server.  You can also find the tutorials in [here](../../../../setup_poc.ipynb) on how to setup POC. \n",
    "\n",
    "> With POC mode, it is ideally use terminal instead of notebook to setup, as there are some non-consistent behavior when running scripts.\n",
    "\n",
    "### POC Prepare\n",
    "\n",
    "#### POC command first look\n",
    "\n",
    "First let's prepare for the POC setup. We like to use the same example we had before with five clients: which means we should have five sites, where each site has its own startup kit package.\n",
    "\n",
    "To simulate such setup, we use the following command\n",
    "\n",
    "\n",
    "```\n",
    "nvflare poc prepare -n 5\n",
    "\n",
    "```\n",
    "let run this from a separate terminal. here is the output \n",
    "\n",
    "```\n"
   ]
  },
  {
   "cell_type": "code",
   "execution_count": null,
   "id": "14683437",
   "metadata": {},
   "outputs": [],
   "source": [
    "! nvflare poc prepare -n 5"
   ]
  },
  {
   "cell_type": "markdown",
   "id": "f93686eb",
   "metadata": {},
   "source": [
    "\n",
    "Take a look at the generated folder structure: \n",
    "\n",
    "\n",
    "```\n",
    "$ tree /tmp/nvflare/poc/example_project/prod_00\n",
    "\n",
    "/tmp/nvflare/poc/example_project/prod_00\n",
    "├── admin@nvidia.com\n",
    "│   ├── local\n",
    "│   ├── startup\n",
    "│   └── ...\n",
    "| \n",
    "├── server\n",
    "│   ├── local\n",
    "│   ├── readme.txt\n",
    "│   ├── startup\n",
    "│   │   ├── ....\n",
    "│   └── ...\n",
    "\n",
    "├── site-1\n",
    "│   ├── local\n",
    "│   ├── readme.txt\n",
    "│   ├── startup\n",
    "│   │   └── ...\n",
    "│   └── ...\n",
    "├── site-2\n",
    "│   ├── local\n",
    "│   ├── readme.txt\n",
    "│   ├── startup\n",
    "│   │   ├── ...\n",
    "│   └── ...\n",
    "├── site-3\n",
    "│   ├── local\n",
    "│   ├── readme.txt\n",
    "│   ├── startup\n",
    "│   │   └── ...\n",
    "│   └── ...\n",
    "├── site-4\n",
    "│   ├── local\n",
    "│   ├── readme.txt\n",
    "│   ├── startup\n",
    "│   │   └── ...\n",
    "│   └── transfer\n",
    "└── site-5\n",
    "    ├── local\n",
    "    ├── readme.txt\n",
    "    ├── startup\n",
    "    │   └── ...\n",
    "    └── ...\n",
    "\n",
    "```\n",
    "\n",
    "\n",
    "Notice the command create a working directory at ```/tmp/nvflare/poc/example_project/prod_00```\n",
    "\n",
    "based on the default values: \n",
    "\n",
    "POC workspace = \"/tmp/nvflare/poc\"\n",
    "project_name = \"example_project\"\n",
    "and default folder \"prod_00\"\n",
    "\n",
    "All sites are with the default name with \"site-\". \n",
    "\n",
    "The actual process of generate such software package (startup kit) is called **\"provision\"**, the POC is special mode of provision, where both client and server are at localhost\n",
    "\n",
    "\n",
    "Each site ( site-N and server) representing one location in the federated learning site and running federated learning client. \n",
    "\n",
    "\n",
    "#### Simulating the real-world deployment\n",
    "\n",
    "\n",
    "\n",
    "\n",
    "\n"
   ]
  },
  {
   "cell_type": "markdown",
   "id": "534ca0c6",
   "metadata": {},
   "source": [
    "In NVFLARE, we define a project.yml to describe the type of setup we would like to have in the federated deployment, here is an example: \n"
   ]
  },
  {
   "cell_type": "code",
   "execution_count": null,
   "id": "f549f7dc",
   "metadata": {},
   "outputs": [],
   "source": [
    "! cat code/project.yml"
   ]
  },
  {
   "cell_type": "markdown",
   "id": "7badff3b",
   "metadata": {},
   "source": [
    "notice in this project file, we define **three** sites:\n",
    "\n",
    "**nonprofit-server** \n",
    "\n",
    "    served as Federated learning Server, it is belong to nonprofit organizaton\n",
    "    \n",
    "**us_hospital** \n",
    "\n",
    "    served as client, belong to us-hospital \n",
    "\n",
    "**europe-hospital**\n",
    "\n",
    "    served as client, belong to eu-hospital \n",
    "    \n",
    "We also define few users:\n",
    "\n",
    "* nonprofit.org team\n",
    "\n",
    "  **admin@nonprofit.org** -- project admin\n",
    "\n",
    "* us_hospital team\n",
    "\n",
    "    **admin@hospital.org.us** -- site admin  ( aka Org Admin)\n",
    "\n",
    "    **lead@hospital.org.us** -- lead member\n",
    "\n",
    "    **member@hospital.org.us**  -- member \n",
    "    \n",
    "* eu_hospital team\n",
    "\n",
    "    **admin@hospital.org.eu**  -- site admin \n",
    "\n",
    "    **lead@hospital.org.eu**   -- lead member\n",
    "\n",
    "    **member@hospital.org.eu** -- member \n",
    "\n",
    "\n",
    "Now let prepare the startup kit with POC command, see what we have\n",
    "\n"
   ]
  },
  {
   "cell_type": "code",
   "execution_count": null,
   "id": "3dfea369",
   "metadata": {},
   "outputs": [],
   "source": [
    "    \n",
    "! echo 'y' | nvflare poc prepare -i code/project.yml\n",
    "\n"
   ]
  },
  {
   "cell_type": "code",
   "execution_count": null,
   "id": "cea409bf",
   "metadata": {},
   "outputs": [],
   "source": [
    "! tree /tmp/nvflare/poc/health_project/prod_00"
   ]
  },
  {
   "cell_type": "markdown",
   "id": "6c00e97e",
   "metadata": {},
   "source": [
    "Now you see site names are now match the ones we defined in the project.yml file instead of \"server\",. \"site-1\", ... etc."
   ]
  },
  {
   "cell_type": "markdown",
   "id": "c1a8f039",
   "metadata": {},
   "source": [
    "#### Prepare with Named Clients\n",
    "\n",
    "If you just want to have default deployment, but specifiy the client site names ((instead of use default site-1,2 etc.) and not writing a project.yaml file, you do the following\n",
    "\n",
    "\n",
    "\n",
    "nvflare poc prepare -c [CLIENTS ...]"
   ]
  },
  {
   "cell_type": "code",
   "execution_count": null,
   "id": "8e2651a1",
   "metadata": {},
   "outputs": [],
   "source": [
    "! echo 'y' | nvflare poc prepare -c hospital-1 hospital-2\n",
    "! tree /tmp/nvflare/poc/example_project/prod_00"
   ]
  },
  {
   "cell_type": "code",
   "execution_count": null,
   "id": "b5f3cdf2",
   "metadata": {},
   "outputs": [],
   "source": []
  },
  {
   "cell_type": "markdown",
   "id": "7edb8732",
   "metadata": {},
   "source": [
    "#### Other POC options\n",
    "\n",
    "If you like to see how to specify Docker image and Homomorphic encryptions you can check out our [POC tutorials](https://github.com/NVIDIA/NVFlare/blob/main/examples/tutorials/setup_poc.ipynb)"
   ]
  },
  {
   "cell_type": "markdown",
   "id": "bd01f71e",
   "metadata": {},
   "source": []
  },
  {
   "cell_type": "markdown",
   "id": "e0443f30",
   "metadata": {},
   "source": [
    "### Start POC"
   ]
  },
  {
   "cell_type": "markdown",
   "id": "afd9f2c4",
   "metadata": {},
   "source": []
  }
 ],
 "metadata": {
  "kernelspec": {
   "display_name": "nvflare_env",
   "language": "python",
   "name": "python3"
  },
  "language_info": {
   "codemirror_mode": {
    "name": "ipython",
    "version": 3
   },
   "file_extension": ".py",
   "mimetype": "text/x-python",
   "name": "python",
   "nbconvert_exporter": "python",
   "pygments_lexer": "ipython3",
   "version": "3.10.12"
  }
 },
 "nbformat": 4,
 "nbformat_minor": 5
}
