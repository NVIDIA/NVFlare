{
 "cells": [
  {
   "cell_type": "markdown",
   "id": "7c3c89fa-6355-4d34-8d85-a9447152996f",
   "metadata": {},
   "source": [
    "# Recap Chapter 3: Federated Computing Platform\n",
    "\n",
    "In this chapter, we explored key components and features of FLARE's federated computing platform:\n",
    "\n",
    "1. System Architecture\n",
    "   * Core components and their interactions\n",
    "   * high level system architecture design\n",
    "\n",
    "2. POC (Proof of Concept) Mode\n",
    "   * Local deployment simulation\n",
    " \n",
    "3. System Interaction Methods\n",
    "   * Command-line interface (CLI)\n",
    "   * Python API\n",
    "   * FLARE Console\n",
    "\n",
    "4. System Monitoring and Observability\n",
    "   * System event metrics with StatsD, prometheus and Grafana dashboards\n",
    "   "
   ]
  },
  {
   "cell_type": "code",
   "execution_count": null,
   "id": "c64e6390",
   "metadata": {},
   "outputs": [],
   "source": []
  }
 ],
 "metadata": {
  "kernelspec": {
   "display_name": "nvflare_example",
   "language": "python",
   "name": "nvflare_example"
  },
  "language_info": {
   "codemirror_mode": {
    "name": "ipython",
    "version": 3
   },
   "file_extension": ".py",
   "mimetype": "text/x-python",
   "name": "python",
   "nbconvert_exporter": "python",
   "pygments_lexer": "ipython3",
   "version": "3.10.2"
  }
 },
 "nbformat": 4,
 "nbformat_minor": 5
}
