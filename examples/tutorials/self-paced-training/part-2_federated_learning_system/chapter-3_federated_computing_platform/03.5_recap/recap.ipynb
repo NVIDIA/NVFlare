{
 "cells": [
  {
   "cell_type": "markdown",
   "id": "7c3c89fa-6355-4d34-8d85-a9447152996f",
   "metadata": {},
   "source": [
    "# Chapter 3 Summary\n",
    "\n",
    "\n",
    "In this chapter, we explored:\n",
    "\n",
    "* FLARE's overall system architecture\n",
    "* POC mode to simulate deployment locally\n",
    "* Different ways to interact with the FLARE system\n",
    "* Monitoring the system with StatsD, Prometheus, and Grafana\n"
   ]
  },
  {
   "cell_type": "code",
   "execution_count": null,
   "id": "c64e6390",
   "metadata": {},
   "outputs": [],
   "source": []
  }
 ],
 "metadata": {
  "kernelspec": {
   "display_name": "nvflare_example",
   "language": "python",
   "name": "nvflare_example"
  },
  "language_info": {
   "codemirror_mode": {
    "name": "ipython",
    "version": 3
   },
   "file_extension": ".py",
   "mimetype": "text/x-python",
   "name": "python",
   "nbconvert_exporter": "python",
   "pygments_lexer": "ipython3",
   "version": "3.10.2"
  }
 },
 "nbformat": 4,
 "nbformat_minor": 5
}
