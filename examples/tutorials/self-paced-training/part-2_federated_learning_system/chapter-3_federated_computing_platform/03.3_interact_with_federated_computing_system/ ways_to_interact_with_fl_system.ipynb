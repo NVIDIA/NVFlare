{
 "cells": [
  {
   "cell_type": "markdown",
   "id": "0d4fa659",
   "metadata": {},
   "source": [
    "# Interact with NVIDIA FLARE System\n",
    "\n",
    "There are several ways of interacting with NVIDIA FLARE System\n",
    "\n",
    "* Interact via FLARE admin console\n",
    "* Interact via FLARE python API\n",
    "* Interact via FLARE Job CLI \n",
    "\n",
    "\n",
    "Before we dive into each interacted mode, lets prepare a job to submit. We can use the previous cifar 10 training job. \n",
    "\n",
    "* Install requirements\n",
    "* download data\n",
    "* generate job config"
   ]
  },
  {
   "cell_type": "code",
   "execution_count": null,
   "id": "191bba82",
   "metadata": {},
   "outputs": [],
   "source": [
    "! echo \"install requirements\"\n",
    "! pip install -r code/requirements.txt"
   ]
  },
  {
   "cell_type": "code",
   "execution_count": null,
   "id": "9f1e0a60",
   "metadata": {},
   "outputs": [
    {
     "name": "stdout",
     "output_type": "stream",
     "text": [
      "download data\n",
      "Files already downloaded and verified\n",
      "Files already downloaded and verified\n"
     ]
    }
   ],
   "source": [
    "! echo \"download data\"\n",
    "! python  code/data/download.py"
   ]
  },
  {
   "cell_type": "code",
   "execution_count": null,
   "id": "772fd25e",
   "metadata": {},
   "outputs": [],
   "source": [
    "\n",
    "! echo \"generate job config\"\n",
    "\n",
    "%cd code\n",
    "\n",
    "! python fl_job.py\n",
    "\n",
    "%cd ../.\n",
    "\n",
    "! echo \"show job directory\"\n",
    "\n",
    "! tree /tmp/nvflare/jobs/workdir/fedavg"
   ]
  },
  {
   "cell_type": "markdown",
   "id": "39371985",
   "metadata": {},
   "source": [
    "Now start a FLARE system in POC mode\n",
    "\n",
    "And use a terminal to start the POC withut admin console.\n",
    "\n",
    "```nvflare poc start -ex admin@nvidia.com```\n",
    "\n",
    "Then use a separate terminal \n",
    "\n",
    "```nvflare poc start -p admin@nvidia.com```\n",
    "\n",
    "\n",
    "At this point, we assume the system is already started, we can go through the different interaction methods\n"
   ]
  },
  {
   "cell_type": "markdown",
   "id": "e6e835f1",
   "metadata": {},
   "source": [
    "## FLARE Admin Console\n",
    "\n",
    "Now we need to use videos to show the interactive commands from Admin console. we can take a look what it looks like here \n",
    "\n",
    "![FLARE Admin Console](admin_console.png)\n"
   ]
  },
  {
   "cell_type": "markdown",
   "id": "975023a7",
   "metadata": {},
   "source": [
    "\n",
    "You can submit job, list jobs and check results, check status of sites, list jobs, abort jobs\n"
   ]
  },
  {
   "cell_type": "markdown",
   "id": "e5703c6f",
   "metadata": {},
   "source": [
    "## Interact via FLARE python API"
   ]
  },
  {
   "cell_type": "markdown",
   "id": "95bce19f",
   "metadata": {},
   "source": [
    "Another way to interact with FLARE system is using FLARE python APIs. These APIs have the equivallent functions of the Admin Commands. And they can be issued directly from notebooks. \n",
    "\n",
    "Let's take a look how this can be done. \n",
    "\n",
    "\n",
    "### create session"
   ]
  },
  {
   "cell_type": "code",
   "execution_count": null,
   "id": "bc0efcf1",
   "metadata": {},
   "outputs": [],
   "source": [
    "import os\n",
    "from nvflare.fuel.flare_api.flare_api import new_secure_session\n",
    " \n",
    "username = \"admin@nvidia.com\"\n",
    "workspace= \"/tmp/nvflare/poc/example_project/prod_00\"\n",
    "admin_user_dir = os.path.join(workspace, username)\n",
    "\n",
    "sess = new_secure_session(username=username, startup_kit_location=admin_user_dir)\n",
    "print(sess.get_system_info())"
   ]
  },
  {
   "cell_type": "markdown",
   "id": "d87f1b60",
   "metadata": {},
   "source": [
    "#### Submit a job"
   ]
  },
  {
   "cell_type": "code",
   "execution_count": null,
   "id": "aa0cc0bb",
   "metadata": {},
   "outputs": [],
   "source": [
    "job_dir = \"/tmp/nvflare/jobs/workdir/fedavg\"\n",
    "job_id = sess.submit_job(job_dir)\n",
    "print(job_id + \" was submitted\")"
   ]
  },
  {
   "cell_type": "markdown",
   "id": "22612078",
   "metadata": {},
   "source": [
    "In the terminal, you should see the training output, but here we like to use API to monitoring the job \n",
    "\n",
    "#### Monitor job\n",
    "The command ```monitor_job()``` allows you to follow a job until the job is done.\n",
    "\n",
    "By default, monitor_job() only has one required arguement, the job_id of the job you are waiting for, and the default behavior is to wait until the job is complete before returning a Return Code of JOB_FINISHED.\n",
    "\n",
    "In order to follow along and see a more meaningful result and demonstrate some of the possibilities of using this function, the following cell contains a sample_cb() callback that keeps track of the number of times the callback is run and prints the job_meta the first three times and the final time before monitor_job() completes with every other call just printing a dot to save output space. This callback is just an example of what can be done with additional arguments and the job_meta information of the job that is being monitored. You can use logic to return a value other than True to conditionally stop monitor_job() and return MonitorReturnCode.ENDED_BY_CB.\n",
    "\n"
   ]
  },
  {
   "cell_type": "markdown",
   "id": "99885b70",
   "metadata": {},
   "source": []
  },
  {
   "cell_type": "code",
   "execution_count": null,
   "id": "100b47e3",
   "metadata": {},
   "outputs": [],
   "source": [
    "from nvflare.fuel.flare_api.flare_api import Session\n",
    "\n",
    "def sample_cb(\n",
    "        session: Session, job_id: str, job_meta, *cb_args, **cb_kwargs\n",
    "    ) -> bool:\n",
    "    if job_meta[\"status\"] == \"RUNNING\":\n",
    "        if cb_kwargs[\"cb_run_counter\"][\"count\"] < 3:\n",
    "            print(job_meta)\n",
    "            print(cb_kwargs[\"cb_run_counter\"])\n",
    "        else:\n",
    "            print(\".\", end=\"\")\n",
    "    else:\n",
    "        print(\"\\n\" + str(job_meta))\n",
    "    \n",
    "    cb_kwargs[\"cb_run_counter\"][\"count\"] += 1\n",
    "    return True\n",
    "\n",
    "sess.monitor_job(job_id, cb=sample_cb, cb_run_counter={\"count\":0})"
   ]
  },
  {
   "cell_type": "markdown",
   "id": "bc2abf68",
   "metadata": {},
   "source": [
    "#### Get Job Meta\n",
    "To get the job meta information, you can use the get_job_meta() command. The only argument required for this command is the job id for the job you are getting the meta for. The job meta information will be returned as an object."
   ]
  },
  {
   "cell_type": "code",
   "execution_count": null,
   "id": "f40009d2",
   "metadata": {},
   "outputs": [],
   "source": [
    "\n",
    "sess.get_job_meta(job_id)"
   ]
  },
  {
   "cell_type": "markdown",
   "id": "c3a36d41",
   "metadata": {},
   "source": [
    "\n",
    "#### List Jobs\n",
    "To get the information for what jobs have been submitted to the server, you can use the list_jobs() command. If no arguments are included, the defaults are False for both \"detailed\" and \"reverse\".\n",
    "\n",
    "Setting \"detailed\" to True will return more detailed information about each job.\n",
    "\n",
    "Setting \"reverse\" to True will return the jobs in reverse order by submission time.\n",
    "\n",
    "The arg \"limit\" can be set to specify the maximum number of jobs to return, with 0 or None meaning return all jobs (the default is None to show all).\n",
    "\n",
    "The args \"id_prefix\" and \"name_prefix\" can be used to further filter the jobs returned to have an id or name beginning with the string set for the respective argument.\n"
   ]
  },
  {
   "cell_type": "code",
   "execution_count": null,
   "id": "63f2f8cc",
   "metadata": {},
   "outputs": [],
   "source": [
    "import json\n",
    "\n",
    "def format_json( data: dict): \n",
    "    print(json.dumps(data, sort_keys=True, indent=4,separators=(',', ': ')))\n",
    "\n",
    "list_jobs_output = sess.list_jobs()\n",
    "print(format_json(list_jobs_output))\n"
   ]
  },
  {
   "cell_type": "markdown",
   "id": "9d4f2731",
   "metadata": {},
   "source": []
  },
  {
   "cell_type": "code",
   "execution_count": null,
   "id": "9f3baf81",
   "metadata": {},
   "outputs": [],
   "source": [
    "list_jobs_output_detailed = sess.list_jobs(detailed=True)\n",
    "print(format_json(list_jobs_output_detailed))"
   ]
  },
  {
   "cell_type": "markdown",
   "id": "acfebd37",
   "metadata": {},
   "source": [
    "#### Download Job Result\n",
    "The download_job_result() command downloads the job result to the \"download_dir\" (this is usually set in fed_admin.json in the startup directory of the admin_user_dir used when launching the FLARE API Session, and this value is relative to the admin_user_dir). This command only has one required arguement, the job_id of the job result to download."
   ]
  },
  {
   "cell_type": "code",
   "execution_count": null,
   "id": "89b7ab69",
   "metadata": {},
   "outputs": [],
   "source": [
    "sess.download_job_result(job_id)"
   ]
  },
  {
   "cell_type": "markdown",
   "id": "4f6f7632",
   "metadata": {},
   "source": [
    "#### Abort Job\n",
    "If training gets stuck or there is another reason to stop a running job, you can use the abort_job() command. The abort_job() command only has one required arguement, the job_id of the job to abort, and None is returned upon successfully issuing the command."
   ]
  },
  {
   "cell_type": "code",
   "execution_count": null,
   "id": "218c75ed",
   "metadata": {},
   "outputs": [],
   "source": [
    "print(job_id)\n",
    "sess.abort_job(job_id)"
   ]
  },
  {
   "cell_type": "markdown",
   "id": "701ece7b",
   "metadata": {},
   "source": [
    "## Interact via FLARE Job CLI\n",
    "\n",
    "\n",
    "#### Show variables\n",
    "We can check the configuration variables with the following command\n",
    "\n",
    "job_dir = \"/tmp/nvflare/jobs/workdir/fedavg\""
   ]
  },
  {
   "cell_type": "code",
   "execution_count": null,
   "id": "bb1bd4af",
   "metadata": {},
   "outputs": [],
   "source": [
    "! nvflare job show_variables -j /tmp/nvflare/jobs/workdir/fedavg"
   ]
  },
  {
   "cell_type": "markdown",
   "id": "7677af03",
   "metadata": {},
   "source": [
    "#### Submit Job from CLI\n",
    "You can use the following command to directly submit job from the command line.\n",
    "\n"
   ]
  },
  {
   "cell_type": "code",
   "execution_count": null,
   "id": "44d22dcd",
   "metadata": {},
   "outputs": [],
   "source": [
    "! nvflare job submit -j /tmp/nvflare/jobs/workdir/fedavg"
   ]
  },
  {
   "cell_type": "markdown",
   "id": "a36fe927",
   "metadata": {},
   "source": [
    "You use the same FLARE python APIs to monitoring the job status or stop the job."
   ]
  },
  {
   "cell_type": "markdown",
   "id": "bff432db",
   "metadata": {},
   "source": [
    "## Summary \n"
   ]
  },
  {
   "cell_type": "markdown",
   "id": "a216ce5d",
   "metadata": {},
   "source": [
    "So far, we have learnt three different ways to interact with FLARE system. Although we used POC model to simulate the real deployment. In production, the same interaction commands can be used in production setup\n",
    "\n",
    "Next, lets see how do we [monitoring FLARE system](../03.4_system_monitoring/system_monitorinig.ipynb)\n",
    "\n"
   ]
  },
  {
   "cell_type": "markdown",
   "id": "786b4520",
   "metadata": {},
   "source": []
  }
 ],
 "metadata": {
  "kernelspec": {
   "display_name": "nvflare_example",
   "language": "python",
   "name": "nvflare_example"
  },
  "language_info": {
   "codemirror_mode": {
    "name": "ipython",
    "version": 3
   },
   "file_extension": ".py",
   "mimetype": "text/x-python",
   "name": "python",
   "nbconvert_exporter": "python",
   "pygments_lexer": "ipython3",
   "version": "3.10.2"
  }
 },
 "nbformat": 4,
 "nbformat_minor": 5
}
