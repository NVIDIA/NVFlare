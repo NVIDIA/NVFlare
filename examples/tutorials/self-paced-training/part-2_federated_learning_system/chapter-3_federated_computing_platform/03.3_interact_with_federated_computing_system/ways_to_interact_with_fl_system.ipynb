{
 "cells": [
  {
   "cell_type": "markdown",
   "id": "0d4fa659",
   "metadata": {},
   "source": [
    "# Interacting with the NVIDIA FLARE System\n",
    "\n",
    "\n",
    "## Introduction\n",
    "\n",
    "Once you have a federated learning system up and running, you need ways to interact with it—to submit jobs, monitor progress, retrieve results, and manage participants. NVIDIA FLARE provides three primary methods for system interaction, each suited to different use cases and preferences:\n",
    "\n",
    "1. **FLARE Admin Console**: An interactive command-line interface for system administrators\n",
    "2. **FLARE Python API**: Programmatic access for integration with applications and workflows\n",
    "3. **FLARE Job CLI**: Command-line tools for job management\n",
    "\n",
    "In this section, we'll explore each of these interaction methods, demonstrating how to perform common tasks with each approach. By understanding these options, you'll be able to choose the most appropriate method for your specific needs and integrate NVIDIA FLARE into your existing workflows.\n",
    "\n",
    "### Learning Objectives\n",
    "By the end of this section, you will be able to:\n",
    "- Identify the three main methods for interacting with NVIDIA FLARE\n",
    "- Use the FLARE Admin Console to manage federated learning jobs\n",
    "- Implement the FLARE Python API to programmatically control the system\n",
    "- Utilize the FLARE Job CLI for command-line job management\n",
    "- Monitor and manage jobs through different interfaces\n",
    "\n",
    "## Preparing a Sample Job\n",
    "\n",
    "Before we dive into the different interaction methods, let's prepare a sample job that we can use throughout this section. We'll use a CIFAR-10 image classification task similar to what we've seen in previous chapters.\n",
    "\n",
    "### Step 1: Install Requirements"
   ]
  },
  {
   "cell_type": "code",
   "execution_count": null,
   "id": "191bba82",
   "metadata": {},
   "outputs": [],
   "source": [
    "! echo \"Installing required packages...\"\n",
    "! pip install -r code/requirements.txt"
   ]
  },
  {
   "cell_type": "markdown",
   "id": "download-data",
   "metadata": {},
   "source": [
    "### Step 2: Download the CIFAR-10 Dataset\n",
    "\n",
    "We'll download the CIFAR-10 dataset, which will be used by our federated learning job:"
   ]
  },
  {
   "cell_type": "code",
   "execution_count": null,
   "id": "9f1e0a60",
   "metadata": {},
   "outputs": [],
   "source": [
    "! echo \"Downloading CIFAR-10 dataset...\"\n",
    "! python code/data/download.py"
   ]
  },
  {
   "cell_type": "markdown",
   "id": "generate-job",
   "metadata": {},
   "source": [
    "### Step 3: Generate the Job Configuration\n",
    "\n",
    "Now we'll generate the configuration for our federated learning job:"
   ]
  },
  {
   "cell_type": "code",
   "execution_count": null,
   "id": "772fd25e",
   "metadata": {},
   "outputs": [],
   "source": [
    "! echo \"Generating job configuration...\"\n",
    "\n",
    "%cd code\n",
    "! python fl_job.py\n",
    "%cd ../.\n",
    "\n",
    "! echo \"Job directory structure:\"\n",
    "! tree /tmp/nvflare/jobs/workdir/fedavg"
   ]
  },
  {
   "cell_type": "markdown",
   "id": "39371985",
   "metadata": {},
   "source": [
    "### Step 4: Start the FLARE System\n",
    "\n",
    "Before we can interact with the FLARE system, we need to have it running. In a production environment, the system would already be deployed across multiple sites. For our demonstration, we'll use the POC mode we learned about in the previous section.\n",
    "\n",
    "To start the FLARE system in POC mode, open a terminal and run:\n",
    "\n",
    "```bash\n",
    "# Start all components except the admin console\n",
    "nvflare poc start -ex admin@nvidia.com\n",
    "```\n",
    "\n",
    "Then, in a separate terminal, start the admin console:\n",
    "\n",
    "```bash\n",
    "# Start only the admin console\n",
    "nvflare poc start -p admin@nvidia.com\n",
    "```\n",
    "\n",
    "> **Note**: For this tutorial, we assume you have already started the FLARE system using the commands above. If you're following along, please execute these commands in separate terminals before proceeding."
   ]
  },
  {
   "cell_type": "markdown",
   "id": "e6e835f1",
   "metadata": {},
   "source": [
    "## Method 1: FLARE Admin Console\n",
    "\n",
    "The FLARE Admin Console is an interactive command-line interface that provides system administrators with direct control over the federated learning system. It's particularly useful for interactive management and troubleshooting.\n",
    "\n",
    "### Accessing the Admin Console\n",
    "\n",
    "In a production environment, you would access the admin console by running the `fl_admin.sh` script from your admin startup kit:\n",
    "\n",
    "```bash\n",
    "cd /path/to/admin/startup/kit\n",
    "./startup/fl_admin.sh\n",
    "```\n",
    "\n",
    "In our POC environment, the admin console is started with the `nvflare poc start -p admin@nvidia.com` command we ran earlier.\n",
    "\n",
    "### Admin Console Interface\n",
    "\n",
    "The admin console provides a command prompt where you can enter commands to manage the system:\n",
    "\n",
    "![FLARE Admin Console](admin_console.png)\n",
    "\n",
    "You can find the full list of commands [here](https://nvflare.readthedocs.io/en/main/real_world_fl/operation.html).\n",
    "\n",
    "### Example Workflow\n",
    "\n",
    "A typical workflow using the admin console might look like this:\n",
    "\n",
    "1. Check system status: `check_status`\n",
    "2. Submit a job: `submit_job /tmp/nvflare/jobs/workdir/fedavg`\n",
    "3. Download results when complete: `download_job job_id /path/to/save`"
   ]
  },
  {
   "cell_type": "markdown",
   "id": "e5703c6f",
   "metadata": {},
   "source": [
    "## Method 2: FLARE Python API\n",
    "\n",
    "The FLARE Python API provides programmatic access to the federated learning system, allowing you to integrate NVIDIA FLARE with your applications, workflows, and scripts. This is particularly useful for automation and integration with other systems.\n",
    "\n",
    "### Key Components of the FLARE API\n",
    "\n",
    "The main components of the FLARE Python API are:\n",
    "\n",
    "- **Session**: Represents a connection to the FLARE system\n",
    "- **Job Management**: Functions for submitting, monitoring, and managing jobs\n",
    "- **System Information**: Functions for querying system status and configuration\n",
    "\n",
    "Let's explore how to use these components to interact with the FLARE system."
   ]
  },
  {
   "cell_type": "markdown",
   "id": "95bce19f",
   "metadata": {},
   "source": [
    "### Creating a Session\n",
    "\n",
    "The first step in using the FLARE Python API is to create a session that connects to the FLARE system. This session will be used for all subsequent interactions."
   ]
  },
  {
   "cell_type": "code",
   "execution_count": null,
   "id": "bc0efcf1",
   "metadata": {},
   "outputs": [],
   "source": [
    "import os\n",
    "from nvflare.fuel.flare_api.flare_api import new_secure_session\n",
    " \n",
    "# Define the user and workspace location\n",
    "username = \"admin@nvidia.com\"\n",
    "workspace = \"/tmp/nvflare/poc/example_project/prod_00\"\n",
    "admin_user_dir = os.path.join(workspace, username)\n",
    "\n",
    "# Create a new session\n",
    "sess = new_secure_session(username=username, startup_kit_location=admin_user_dir)\n",
    "\n",
    "# Get and display system information\n",
    "print(sess.get_system_info())"
   ]
  },
  {
   "cell_type": "markdown",
   "id": "d87f1b60",
   "metadata": {},
   "source": [
    "### Submitting a Job\n",
    "\n",
    "Once you have a session, you can submit a job to the FLARE system. This is equivalent to the `submit_job` command in the admin console."
   ]
  },
  {
   "cell_type": "code",
   "execution_count": null,
   "id": "aa0cc0bb",
   "metadata": {},
   "outputs": [],
   "source": [
    "# Define the job directory\n",
    "job_dir = \"/tmp/nvflare/jobs/workdir/fedavg\"\n",
    "\n",
    "# Submit the job\n",
    "job_id = sess.submit_job(job_dir)\n",
    "print(f\"Job submitted successfully with ID: {job_id}\")"
   ]
  },
  {
   "cell_type": "markdown",
   "id": "22612078",
   "metadata": {},
   "source": [
    "### Monitoring Job Progress\n",
    "\n",
    "After submitting a job, you'll often want to monitor its progress. The FLARE API provides the `monitor_job()` function for this purpose.\n",
    "\n",
    "By default, `monitor_job()` waits until the job is complete before returning Return Code of JOB_FINISHED. However, you can customize its behavior by providing a callback function that receives job metadata and can perform custom actions.\n",
    "\n",
    "Here's an example that demonstrates a custom callback function:"
   ]
  },
  {
   "cell_type": "code",
   "execution_count": null,
   "id": "100b47e3",
   "metadata": {},
   "outputs": [],
   "source": [
    "from nvflare.fuel.flare_api.flare_api import Session\n",
    "\n",
    "def sample_cb(\n",
    "        session: Session, job_id: str, job_meta, *cb_args, **cb_kwargs\n",
    "    ) -> bool:\n",
    "    \"\"\"\n",
    "    Custom callback function for job monitoring.\n",
    "    \n",
    "    Args:\n",
    "        session: The FLARE session\n",
    "        job_id: The ID of the job being monitored\n",
    "        job_meta: Metadata about the job's current state\n",
    "        cb_args: Additional positional arguments\n",
    "        cb_kwargs: Additional keyword arguments\n",
    "        \n",
    "    Returns:\n",
    "        bool: True to continue monitoring, False to stop\n",
    "    \"\"\"\n",
    "    if job_meta[\"status\"] == \"RUNNING\":\n",
    "        if cb_kwargs[\"cb_run_counter\"][\"count\"] < 3:\n",
    "            print(job_meta)\n",
    "            print(cb_kwargs[\"cb_run_counter\"])\n",
    "        else:\n",
    "            print(\".\", end=\"\")\n",
    "    else:\n",
    "        print(\"\\n\" + str(job_meta))\n",
    "    \n",
    "    cb_kwargs[\"cb_run_counter\"][\"count\"] += 1\n",
    "    return True\n",
    "\n",
    "# Monitor the job with our custom callback\n",
    "print(f\"Monitoring job {job_id}...\")\n",
    "result = sess.monitor_job(job_id, cb=sample_cb, cb_run_counter={\"count\":0})\n",
    "print(f\"\\nMonitoring completed with result: {result}\")"
   ]
  },
  {
   "cell_type": "markdown",
   "id": "bc2abf68",
   "metadata": {},
   "source": [
    "### Getting Job Metadata\n",
    "\n",
    "You can retrieve detailed information about a job using the `get_job_meta()` function. This is useful for checking job status, progress, and results."
   ]
  },
  {
   "cell_type": "code",
   "execution_count": null,
   "id": "f40009d2",
   "metadata": {},
   "outputs": [],
   "source": [
    "# Get and display job metadata\n",
    "job_meta = sess.get_job_meta(job_id)\n",
    "print(f\"Metadata for job {job_id}:\")\n",
    "print(job_meta)"
   ]
  },
  {
   "cell_type": "markdown",
   "id": "d6e28370",
   "metadata": {},
   "source": [
    "### List Jobs\n",
    "\n",
    "The `list_jobs()` method allows you to retrieve information about jobs submitted to the NVFLARE server.\n",
    "\n",
    "```python\n",
    "jobs = sess.list_jobs(detailed=False, reverse=False, limit=None, id_prefix=None, name_prefix=None)\n",
    "```\n",
    "\n",
    "Key parameters:\n",
    "\n",
    "- `detailed`: When set to `True`, returns comprehensive metadata for each job including status, \n",
    "  timestamps, and configuration details. Default is `False`.\n",
    "\n",
    "- `reverse`: When set to `True`, returns jobs in reverse chronological order (newest first).\n",
    "  Default is `False` (oldest first).\n",
    "\n",
    "- `limit`: Specifies the maximum number of jobs to return. Set to `None` or `0` to return all jobs.\n",
    "\n",
    "- `id_prefix`: Filters jobs to only those with IDs starting with the specified prefix.\n",
    "\n",
    "- `name_prefix`: Filters jobs to only those with names starting with the specified prefix."
   ]
  },
  {
   "cell_type": "code",
   "execution_count": null,
   "id": "5f806cbb",
   "metadata": {},
   "outputs": [],
   "source": [
    "import json\n",
    "\n",
    "def format_json( data: dict): \n",
    "    print(json.dumps(data, sort_keys=True, indent=4,separators=(',', ': ')))\n",
    "\n",
    "list_jobs_output = sess.list_jobs()\n",
    "print(format_json(list_jobs_output))\n"
   ]
  },
  {
   "cell_type": "code",
   "execution_count": null,
   "id": "28a98c30",
   "metadata": {},
   "outputs": [],
   "source": [
    "list_jobs_output_detailed = sess.list_jobs(detailed=True)\n",
    "print(format_json(list_jobs_output_detailed))"
   ]
  },
  {
   "cell_type": "markdown",
   "id": "c2f723de",
   "metadata": {},
   "source": [
    "### Download Job Results\n",
    "The `download_job()` method allows you to download the results of a completed job to your local machine.\n",
    "\n",
    "- `job_id`: (Required) The ID of the job whose results you want to download.\n",
    "- `download_dir`: The directory where job results will be saved. This is usually specified in the `fed_admin.json` configuration file located in the admin user directory used when creating the FLARE API Session."
   ]
  },
  {
   "cell_type": "code",
   "execution_count": null,
   "id": "1a9982d6",
   "metadata": {},
   "outputs": [],
   "source": [
    "sess.download_job_result(job_id)"
   ]
  },
  {
   "cell_type": "markdown",
   "id": "0ea0cb65",
   "metadata": {},
   "source": [
    "### Aborting a Job\n",
    "The `abort_job()` method allows you to terminate a running job that may be stuck, experiencing issues, or no longer needed. This operation cannot be undone, so use it with caution.\n"
   ]
  },
  {
   "cell_type": "code",
   "execution_count": null,
   "id": "07394e4e",
   "metadata": {},
   "outputs": [],
   "source": [
    "print(job_id)\n",
    "sess.abort_job(job_id)"
   ]
  },
  {
   "cell_type": "markdown",
   "id": "job-cli-section",
   "metadata": {},
   "source": [
    "## Method 3: FLARE Job CLI\n",
    "\n",
    "The FLARE Job Command Line Interface (CLI) provides a set of commands for managing jobs from the command line. It's particularly useful for quick operations and integration with shell scripts. More details can be found [here](https://nvflare.readthedocs.io/en/2.5/user_guide/nvflare_cli/job_cli.html).\n",
    "\n",
    "### Key Job CLI Commands\n",
    "\n",
    "The FLARE Job CLI includes commands for:\n",
    "\n",
    "- **Creating jobs**: Generate job configurations from templates\n",
    "- **Listing templates**: View available job templates\n",
    "- **Submitting jobs**: Send jobs to the FLARE system\n",
    "- **Downloading results**: Retrieve job outputs\n",
    "\n",
    "### Example Usage\n",
    "\n",
    "Here are some examples of how to use the FLARE Job CLI:\n"
   ]
  },
  {
   "cell_type": "code",
   "execution_count": null,
   "id": "78a18915",
   "metadata": {},
   "outputs": [],
   "source": [
    "# Show variables\n",
    "! nvflare job show_variables -j /tmp/nvflare/jobs/workdir/fedavg\n",
    "\n",
    "# Submit a job\n",
    "! nvflare job submit -j /tmp/nvflare/jobs/workdir/fedavg"
   ]
  },
  {
   "cell_type": "markdown",
   "id": "comparison-section",
   "metadata": {},
   "source": [
    "## Summary\n",
    "\n",
    "In this section, we've explored the three main methods for interacting with the NVIDIA FLARE system:\n",
    "\n",
    "1. **FLARE Admin Console**: An interactive command-line interface for system administrators\n",
    "2. **FLARE Python API**: Programmatic access for integration with applications and workflows\n",
    "3. **FLARE Job CLI**: Command-line tools for job management\n",
    "\n",
    "Each method has its strengths and is suited to different scenarios. By understanding these options, you can choose the most appropriate method for your specific needs and integrate NVIDIA FLARE into your existing workflows.\n",
    "\n",
    "In the next section, we'll explore [system monitoring](../03.4_system_monitoring/system_monitorinig.ipynb) capabilities in NVIDIA FLARE."
   ]
  }
 ],
 "metadata": {
  "kernelspec": {
   "display_name": "Python 3",
   "language": "python",
   "name": "python3"
  },
  "language_info": {
   "codemirror_mode": {
    "name": "ipython",
    "version": 3
   },
   "file_extension": ".py",
   "mimetype": "text/x-python",
   "name": "python",
   "nbconvert_exporter": "python",
   "pygments_lexer": "ipython3",
   "version": "3.8.10"
  }
 },
 "nbformat": 4,
 "nbformat_minor": 5
}
