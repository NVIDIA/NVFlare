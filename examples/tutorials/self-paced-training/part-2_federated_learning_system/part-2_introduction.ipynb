{
 "cells": [
  {
   "cell_type": "markdown",
   "metadata": {},
   "source": [
    "# Part 2: Federated Computing System\n",
    "\n",
    "[Chapter 2.1 federated computing platform](chapter-2.1_federated_computing_platform/02.1.0_introduction.ipynb)\n",
    "\n",
    "[Chapter 2.2 setup federated computing system](./chapter-2.2_provision_and_running_federated_applications/02.2.0_introduction.ipynb)"
   ]
  },
  {
   "cell_type": "markdown",
   "metadata": {},
   "source": [
    "In Part 2, we will dive into the NVIDIA Federated Computing System. We will explore the system architecture, core concepts, and the process of setting up a Federated Computing System. Additionally, we will simulate the deployment of the federated computing system on a local host.\n",
    "\n",
    "We will further discuss different ways for users to interact with a Federated Learning System. These include admin console commands, Python API, and command-line commands.\n",
    "\n",
    "Finally, we will look at how to monitor system events using Prometheus and Grafana.\n",
    "> note: this monitoring feature requres FLARE 2.6.0 release or later"
   ]
  },
  {
   "cell_type": "markdown",
   "metadata": {},
   "source": []
  }
 ],
 "metadata": {
  "language_info": {
   "name": "python"
  }
 },
 "nbformat": 4,
 "nbformat_minor": 2
}
