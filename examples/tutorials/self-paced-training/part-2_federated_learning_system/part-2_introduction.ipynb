{
 "cells": [
  {
   "cell_type": "markdown",
   "id": "95b04c04",
   "metadata": {},
   "source": [
    "# Part 2: Federated Computing System with NVIDIA FLARE\n",
    "\n",
    "This section explores the architecture and deployment of federated computing systems using NVIDIA FLARE. You will gain practical knowledge on system setup, user interaction, and monitoring tools for federated learning environments.\n",
    "\n",
    "## What You'll Learn\n",
    "\n",
    "- NVIDIA FLARE system architecture and core concepts\n",
    "- How to set up and simulate a federated computing system (local deployment)\n",
    "- User interaction methods: admin console, Python API, and CLI\n",
    "- Monitoring system events with Prometheus and Grafana\n",
    "\n",
    "## Chapters Overview\n",
    "\n",
    "### Chapter 3: Federated Computing Platform [[View on GitHub](https://github.com/NVIDIA/NVFlare/blob/main/examples/tutorials/self-paced-training/part-2_federated_learning_system/chapter-3_federated_computing_platform/03.0_introduction/introduction.ipynb)]\n",
    "- Understand the NVIDIA FLARE federated computing platform and its components\n",
    "- Learn about system roles, communication, and workflow\n",
    "\n",
    "### Chapter 4: Setup Federated Computing System [[View on GitHub](https://github.com/NVIDIA/NVFlare/blob/main/examples/tutorials/self-paced-training/part-2_federated_learning_system/chapter-4_setup_federated_system/04.0_introduction/introduction.ipynb)]\n",
    "- Step-by-step guide to setting up a federated computing system with NVIDIA FLARE\n",
    "- Simulate deployments and interact with the system using various tools\n",
    "\n",
    "## Tips\n",
    "\n",
    "- Each notebook is self-contained; start with any topic of interest.\n",
    "- For a full understanding, follow the chapters sequentially.\n",
    "- Refer to the official NVIDIA FLARE documentation for more details and troubleshooting."
   ]
  }
 ],
 "metadata": {
  "language_info": {
   "name": "python"
  }
 },
 "nbformat": 4,
 "nbformat_minor": 2
}
