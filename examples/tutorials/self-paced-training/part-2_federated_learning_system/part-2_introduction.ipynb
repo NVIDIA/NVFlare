{
 "cells": [
  {
   "cell_type": "markdown",
   "metadata": {},
   "source": [
    "# Part 2: Federated Computing System\n",
    "\n",
    "[Chapter 3 federated computing platform](./chapter-3_federated_computing_platform/03.0_introduction/introduction.ipynb)\n",
    "\n",
    "[Chapter 4 setup federated computing system](./chapter-4_setup_federated_system/04.0_introduction/introduction.ipynb)"
   ]
  },
  {
   "cell_type": "markdown",
   "metadata": {},
   "source": [
    "In Part 2, we will dive into the NVIDIA Federated Computing System. We will explore the system architecture, core concepts, and the process of setting up a Federated Computing System. Additionally, we will simulate the deployment of the federated computing system on a local host.\n",
    "\n",
    "We will further discuss different ways for users to interact with a Federated Learning System. These include admin console commands, Python API, and command-line commands.\n",
    "\n",
    "Finally, we will look at how to monitor system events using Prometheus and Grafana.\n",
    "> note: this monitoring feature requres FLARE 2.6.0 release or later\n",
    "\n",
    "Let's dive in. "
   ]
  },
  {
   "cell_type": "markdown",
   "metadata": {},
   "source": []
  }
 ],
 "metadata": {
  "language_info": {
   "name": "python"
  }
 },
 "nbformat": 4,
 "nbformat_minor": 2
}
