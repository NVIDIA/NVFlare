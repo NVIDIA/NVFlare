{
 "cells": [
  {
   "cell_type": "markdown",
   "id": "82657ba5-5c8e-4f17-a12f-6b6a122677c7",
   "metadata": {},
   "source": [
    "# Recap\n",
    "\n",
    "Let's have a recap on what we covered in this chapter,\n",
    "- An introduction to project provisioning in NVIDIA FLARE\n",
    "- Two ways of provisioning a federated project in NVIDIA FLARE: the `nvflare provision` CLI or FLARE Dashboard\n",
    "- How to perform preflight check on participants packages before deployment\n",
    "- Containerized deployment of federated system using Docker\n",
    "- Cloud deployment on AWS\n",
    "- Cloud deployment on Azure\n",
    "- Deployment on Kubernetes\n",
    "\n",
    "Congratulations on completing this chapter! When you are ready, start the chapter on [security and privacy in Federated Learning](../../../part-3_security_and_privacy/part-3_introduction.ipynb)."
   ]
  }
 ],
 "metadata": {
  "kernelspec": {
   "display_name": "Python 3 (ipykernel)",
   "language": "python",
   "name": "python3"
  },
  "language_info": {
   "codemirror_mode": {
    "name": "ipython",
    "version": 3
   },
   "file_extension": ".py",
   "mimetype": "text/x-python",
   "name": "python",
   "nbconvert_exporter": "python",
   "pygments_lexer": "ipython3",
   "version": "3.10.12"
  }
 },
 "nbformat": 4,
 "nbformat_minor": 5
}
