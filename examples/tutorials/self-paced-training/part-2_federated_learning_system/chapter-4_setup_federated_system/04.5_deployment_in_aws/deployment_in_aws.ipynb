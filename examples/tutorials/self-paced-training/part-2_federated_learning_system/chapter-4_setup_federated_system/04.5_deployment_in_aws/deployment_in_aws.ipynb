{
 "cells": [
  {
   "cell_type": "markdown",
   "id": "131a553d-f0b4-445f-b2fb-28015173e2b9",
   "metadata": {},
   "source": [
    "# Deployment in AWS\n",
    "\n",
    "Cloud deployment in NVIDIA FLARE is extremely easy with only 1 command-line argument. In this notebook we will show you how to deploy FLARE Dashboard, server and clients in AWS. "
   ]
  },
  {
   "cell_type": "markdown",
   "id": "39860622-94d4-4547-a3e6-7cbe780bb0ab",
   "metadata": {},
   "source": [
    "# Deploy FLARE Dashboard in AWS\n",
    "\n",
    "As we have learned earlier, there are 2 ways to provision a federated project: using the `nvflare provision` CLI, or using the FLARE Dashboard. If you go with FLARE Dashboard, you can easily deploy your Dashboard in AWS. \n",
    "\n",
    "To do that, simply execute the following command in a terminal:\n",
    "\n",
    "```bash\n",
    "nvflare dashboard --cloud aws\n",
    "```"
   ]
  },
  {
   "cell_type": "markdown",
   "id": "2115145a-2e67-4ac1-ac32-8aa0fe0a0efe",
   "metadata": {},
   "source": [
    "Once the Dashboard is up and running, you can just follow the same steps described in [Provision via FLARE Dashboard](../04.2_provision_via_dashboard/provision_via_dashboard.ipynb) to set up and provision a federated project."
   ]
  },
  {
   "cell_type": "markdown",
   "id": "f6effb09-0350-417d-8130-9005bd9982dd",
   "metadata": {},
   "source": [
    "# Deploy Server and Clients in AWS\n",
    "\n",
    "Once you've obtain the startup kits for the server and the clients, either through FLARE Dashboard, or the `nvflare provision` CLI, you can easily deploy the server and clients in AWS, by just adding the `--cloud aws` argument when launching their corresponding `start.sh` script.\n",
    "\n",
    "Let's quickly provision an example project using the configuration file provided in [`code/project.yml`](code/project.yml):\n"
   ]
  },
  {
   "cell_type": "code",
   "execution_count": 2,
   "id": "ad2a3dd7-be6a-4710-9e63-dd386db05b13",
   "metadata": {},
   "outputs": [
    {
     "name": "stdout",
     "output_type": "stream",
     "text": [
      "Project yaml file: /home/zhijinl/github/NVFlare/examples/tutorials/self-paced-training/part-2_federated_learning_system/chapter-4_setup_federated_system/04.5_deployment_in_aws/code/project.yml.\n",
      "Generated results can be found under /home/zhijinl/github/NVFlare/examples/tutorials/self-paced-training/part-2_federated_learning_system/chapter-4_setup_federated_system/04.5_deployment_in_aws/workspace/example_project/prod_00. \n"
     ]
    }
   ],
   "source": [
    "!nvflare provision -p code/project.yml"
   ]
  },
  {
   "cell_type": "markdown",
   "id": "f4bb23ce-bb6a-4176-8d79-5e69bc5681da",
   "metadata": {},
   "source": [
    "### Deploying the Server\n",
    "\n",
    "To deploy the server in AWS, go ahead and execute the following command in a terminal:\n",
    "\n",
    "```bash\n",
    "./workspace/example_project/prod_00/server1/startup/start.sh --cloud aws\n",
    "```\n",
    "\n",
    "### Deploying a Client\n",
    "\n",
    "To deploy a client in AWS, for instance, the client site-1, go ahead and execute the following command in a terminal:\n",
    "\n",
    "```bash\n",
    "./workspace/example_project/prod_00/site-1/startup/start.sh --cloud aws\n",
    "```"
   ]
  }
 ],
 "metadata": {
  "kernelspec": {
   "display_name": "Python 3 (ipykernel)",
   "language": "python",
   "name": "python3"
  },
  "language_info": {
   "codemirror_mode": {
    "name": "ipython",
    "version": 3
   },
   "file_extension": ".py",
   "mimetype": "text/x-python",
   "name": "python",
   "nbconvert_exporter": "python",
   "pygments_lexer": "ipython3",
   "version": "3.10.12"
  }
 },
 "nbformat": 4,
 "nbformat_minor": 5
}
