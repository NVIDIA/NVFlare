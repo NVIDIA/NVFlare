{
 "cells": [
  {
   "cell_type": "markdown",
   "id": "131a553d-f0b4-445f-b2fb-28015173e2b9",
   "metadata": {},
   "source": [
    "# Deployment in AWS\n",
    "\n",
    "Cloud deployment in NVIDIA FLARE is extremely easy with only 1 command-line argument. In this notebook we will show you how to deploy FLARE Dashboard, server and clients in AWS. "
   ]
  },
  {
   "cell_type": "markdown",
   "id": "39860622-94d4-4547-a3e6-7cbe780bb0ab",
   "metadata": {},
   "source": [
    "# Deploy FLARE Dashboard in AWS\n",
    "\n",
    "You can easily deploy your Dashboard in AWS. To do that, simply execute the following command in a terminal:\n",
    "\n",
    "```bash\n",
    "nvflare dashboard --cloud aws\n",
    "```"
   ]
  },
  {
   "cell_type": "markdown",
   "id": "2115145a-2e67-4ac1-ac32-8aa0fe0a0efe",
   "metadata": {},
   "source": [
    "Once the Dashboard is up and running, you can just follow the same steps described in [Provision via FLARE Dashboard](../04.2_provision_via_dashboard/provision_via_dashboard.ipynb) to set up and provision a federated project. Let's go ahead and provision a test project with a server and 2 clients, and download their startup kits.\n"
   ]
  },
  {
   "cell_type": "markdown",
   "id": "f6effb09-0350-417d-8130-9005bd9982dd",
   "metadata": {},
   "source": [
    "# Deploy Server and Clients in AWS\n",
    "\n",
    "Once you've obtained the startup kits for the server and the clients from the FLARE Dashboard, you can easily deploy them in AWS, by just adding the `--cloud aws` argument when launching their corresponding `start.sh` script."
   ]
  },
  {
   "cell_type": "markdown",
   "id": "f4bb23ce-bb6a-4176-8d79-5e69bc5681da",
   "metadata": {},
   "source": [
    "### Deploying the Server\n",
    "\n",
    "To deploy the server in AWS, go ahead and execute the following command in a terminal:\n",
    "\n",
    "```bash\n",
    "PATH_TO_SERVER_STARTUP_KIT/startup/start.sh --cloud aws\n",
    "```\n",
    "\n",
    "### Deploying Clients\n",
    "\n",
    "To deploy the clients in AWS, go ahead and execute the following commands in a terminal:\n",
    "\n",
    "```bash\n",
    "PATH_TO_SITE_1_STARTUP_KIT/startup/start.sh --cloud aws\n",
    "PATH_TO_SITE_2_STARTUP_KIT/startup/start.sh --cloud aws\n",
    "```"
   ]
  },
  {
   "cell_type": "markdown",
   "id": "a241d81c-f742-451a-93d0-cb7b87fe6afe",
   "metadata": {},
   "source": [
    "**That's it, we have walked through how to deploy an FL system in AWS.**"
   ]
  },
  {
   "cell_type": "markdown",
   "id": "cc69fe67-dc92-4eab-b68e-a53d1262139a",
   "metadata": {},
   "source": [
    "# What's Next\n",
    "\n",
    "Next, let's learn how to [deploy an FL system in Azure](../04.6_deployment_in_azure/deployment_in_azure.ipynb)."
   ]
  }
 ],
 "metadata": {
  "kernelspec": {
   "display_name": "Python 3 (ipykernel)",
   "language": "python",
   "name": "python3"
  },
  "language_info": {
   "codemirror_mode": {
    "name": "ipython",
    "version": 3
   },
   "file_extension": ".py",
   "mimetype": "text/x-python",
   "name": "python",
   "nbconvert_exporter": "python",
   "pygments_lexer": "ipython3",
   "version": "3.10.12"
  }
 },
 "nbformat": 4,
 "nbformat_minor": 5
}
