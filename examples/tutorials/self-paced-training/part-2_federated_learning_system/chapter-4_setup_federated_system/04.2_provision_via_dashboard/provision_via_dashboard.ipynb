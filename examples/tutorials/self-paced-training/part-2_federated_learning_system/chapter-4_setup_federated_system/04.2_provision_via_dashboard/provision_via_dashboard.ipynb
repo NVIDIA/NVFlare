{
 "cells": [
  {
   "cell_type": "markdown",
   "id": "dc976125-7c34-4ec6-8b4f-018fe2c24ec5",
   "metadata": {},
   "source": [
    "# Provision via FLARE Dashboard\n",
    "\n",
    "As mentioned in the [introduction to NVIDIA FLARE provisioning](../04.0_introduction/provision.ipynb), one way of performing provisioning is to use the [FLARE Dashboard](https://nvflare.readthedocs.io/en/main/user_guide/dashboard_api.html).\n",
    "\n",
    "[FLARE Dashboard](https://nvflare.readthedocs.io/en/main/user_guide/dashboard_api.html) provides an intuitive webUI to collect information about clients and users from different organizations, and to provision a federated project by generating startup kits for users to download.\n",
    "\n",
    "FLARE Dashboard simplifies the process of data collection. Users can register to join the project and provide their own information, and then download their own startup kits once the project admin has approved the registration. All the project information can be managed online with provisioning done on the fly.\n",
    "\n",
    "![Dashboard](images/dashboard.png)\n"
   ]
  },
  {
   "cell_type": "markdown",
   "id": "f4d7cb45-bea4-48e7-bbbe-5363ed1635b0",
   "metadata": {},
   "source": [
    "# Start, Configure and Stop the FLARE Dashboard\n",
    "\n",
    "NVIDIA FLARE provides a CLI tool `nvflare dashboard` to start, stop and configure the Dashboard:\n",
    "\n",
    "> **Note:** Running Dashboard requires Docker. You have to ensure your system can pull and run Docker images. The initial docker pull may take some time depending on your network connection.\n",
    "> "
   ]
  },
  {
   "cell_type": "code",
   "execution_count": null,
   "id": "16427525-e088-46fd-9224-ae92d06d160a",
   "metadata": {},
   "outputs": [],
   "source": [
    "!nvflare dashboard -h"
   ]
  },
  {
   "cell_type": "markdown",
   "id": "316b7de2-f425-4069-b4ea-22b7f6270bf8",
   "metadata": {},
   "source": [
    "There are many options with this CLI tool, allowing you to customize the behavior of the Dashboard."
   ]
  },
  {
   "cell_type": "markdown",
   "id": "84dc1f67-0527-4a87-b0ce-96556b9476a7",
   "metadata": {},
   "source": [
    "### Starting the Dashboard\n",
    "\n",
    "To start Dashboard, run `nvflare dashboard --start`.\n",
    "\n",
    "The Dashboard Docker will detect if the database is initialized. If not, it will ask for the project_admin email address and will generate a random password. You would need to log in with this random password to finish setting up the project in Dashboard once the system is up and running. The project_admin can change his/her password in the Dashboard system after logging in.\n",
    "\n",
    "Note that for the first time, it may take a while to download the nvflare Docker image. After pulling the image, you should see output similar to the following:\n",
    "```\n",
    "Launching nvflare/nvflare\n",
    "Dashboard will listen to port 443\n",
    "/path_to_folder_for_db on host mounted to /var/tmp/nvflare/dashboard in container\n",
    "No additional environment variables set to the launched container.\n",
    "Dashboard container started\n",
    "Container name nvflare-dashboard\n",
    "id is 3108eb7be20b92ab3ec3dd7bfa86c2eb83bd441b4da0865d2ebb10bd60612345\n",
    "```\n",
    "\n",
    "FLARE Dashboard is hosted through port `443`, so that you can access it through `localhost:443` in a web browser, if you are on the same machine. You can also remotely access it after configuring proper port forwarding."
   ]
  },
  {
   "cell_type": "markdown",
   "id": "d534d5cd-ee72-41ef-a54b-0874a103af8e",
   "metadata": {},
   "source": [
    "### Configuring the Dashboard\n",
    "\n",
    "It is recommended to set a passphrase to protect the private key of the root CA by using the `--passphrase` option when starting a dashboard. Once it’s set, you have to provide the same passphrase everytime you restart Dashboard for the same project.\n",
    "\n",
    "You can use the `--folder` option to customize the working directory for the Dashboard. If you would like to start a new project, please remove the `db.sqlite` file in current working directory (or the directory set with the `--folder` option). Dashboard will start from scratch and you can provide a project admin email address and get a new password for the project_admin.\n",
    "\n",
    "The Dashboard will also check the certification folder inside current the working directory (or directory specified by the `--folder` option) to load `web.crt` and `web.key`. If those files exist, Dashboard will load them and run as an HTTPS server. If Dashboard does not find both of them, it runs as HTTP server. In both cases, the service listens to port `443`, unless the `--port` option is used to specify a different port. Dashboard will run on `0.0.0.0`, so by default it should be accessible on the same machine from `localhost:443`. To make it available to users outside the network, port forwarding and other configurations may be needed to securely direct traffic to the machine running the Dashboard.\n"
   ]
  },
  {
   "cell_type": "markdown",
   "id": "b6d822f0-274e-40d6-80bf-7c2ab4796caf",
   "metadata": {},
   "source": [
    "### Stopping the Dashboard\n",
    "\n",
    "To stop the running Dashboard, run `nvflare dashboard --stop`."
   ]
  },
  {
   "cell_type": "markdown",
   "id": "02b80c6e-0bf7-4015-af92-0e416d710ee4",
   "metadata": {},
   "source": [
    "# Example: Provision a Federated Project With Dashboard"
   ]
  },
  {
   "cell_type": "markdown",
   "id": "9bb47fd9-d7a8-45b4-b3a9-d3c9d16138de",
   "metadata": {},
   "source": [
    "## 1. Create & Start a Dashboard\n",
    "\n",
    "Let's first go ahead and start a Dashboard, by typing the following command in a terminal:\n",
    "\n",
    "```bash\n",
    "nvflare dashboard --start --port 567 --folder ./dashboard-wd --passphrase 12345 \n",
    "```\n",
    "\n",
    "Here we use the following options to configure the Dashboard start-up:\n",
    "- Use the `--port` option to explicitly set the port to `567`\n",
    "- Use the `--folder` option to specify a working directory for the Dashboard\n",
    "- Use the `--passphrase` option to specify a passphrase for encryption\n",
    "\n",
    "When you create a Dashboard for the first time, you will be prompt to enter an admin email, which will be the login for the admin user. Choose an email address for your own. In this example, I will be using `admin@nvidia.com`.\n",
    "\n",
    "When the Dashboard is successfully created and started, you will see console output similar to the following:\n",
    "```\n",
    "Please provide project admin email address.  This person will be the super user of the dashboard and this project.\n",
    "admin@nvidia.com\n",
    "generating random password\n",
    "Project admin credential is admin@nvidia.com and the password is **wGNrI56s**\n",
    "Current dashboard container image is nvflare/nvflare:2.5.0+161.ge9c5749e.dirty, but requesting to use nvflare/nvflare:latest.  Use it at your own risk.\n",
    "Pulling nvflare/nvflare:latest, may take some time to finish.\n",
    "Launching nvflare/nvflare:latest\n",
    "Dashboard will listen to port 443\n",
    "/home/zhijinl/github/NVFlare/examples/tutorials/self-paced-training/part-2_federated_learning_system/chapter-4_setup_federated_system/04.2_provision_via_dashboard/./dashboard-wd on host mounted to /var/tmp/nvflare/dashboard in container\n",
    "environment vars set to {'NVFL_DASHBOARD_PP': '12345', 'NVFL_CREDENTIAL': 'admin@nvidia.com:wGNrI56s'}\n",
    "Dashboard container started\n",
    "Container name nvflare-dashboard\n",
    "id is 7f15a879fc75d6cd797591cd840840ebafd6b194bb86dda56efcbc36d719e773\n",
    "```\n",
    "\n",
    "Notice the highlighted password for the admin user. Note it down somewhere, you will need it when logging into the Dashboard as admin. You will have the option to change the admin password once logged in.\n",
    "\n",
    "Open a web browser and navigate to `localhost:443`, you will see a landing page with empty project information, similar to the following:\n",
    "\n",
    "![Landing Page](images/landing-page.png)"
   ]
  },
  {
   "cell_type": "markdown",
   "id": "85442266-1cd1-4a7f-823c-e43ca1141c26",
   "metadata": {},
   "source": [
    "## 2. Users and Roles\n",
    "\n",
    "Before moving on, it is necessary to understand FLARE Dashboard's distinct definitions of different users and their roles.\n",
    "\n",
    "- **Project Admin**: project administrator is responsible for overall site management from setting up the project to approving the users and client sites after inviting users to sign up. The Project Admin can also download startup kits for the server(s) and overseer (if HA mode is enabled).\n",
    "\n",
    "- **Org Admin**: Users of the role org admin have the ability to specify the name and resource specifications for client sites and then download startup kits for each client site after it is approved.\n",
    "\n",
    "- **Member and Lead**: users with role member or lead can register a user account and then download their startup kit to connect to the FLARE console, once their account is approved.\n",
    "\n",
    "In this example, we will demonstrate the following:\n",
    "- Setting up a project with project admin\n",
    "- Org admin user sign-up\n",
    "- Configuring client sites with org admin\n",
    "- Downloading startup kits for different participants in Dashboard\n",
    "\n",
    "For a more detailed walkthrough of the Dashboard UI and usage, please refer to the [documentation](https://nvflare.readthedocs.io/en/main/user_guide/dashboard_ui.html#member-and-lead-user-experience).\n"
   ]
  },
  {
   "cell_type": "markdown",
   "id": "ead10248-5c5e-46ad-92ca-717bb65f9de2",
   "metadata": {},
   "source": [
    "## 3. Set Up the Project\n",
    "\n",
    "Now, log in the Dashboard with your admin email and password, and let's start setting up the project. \n",
    "\n",
    "As the project administrator, you will have the most priviledged right to manage the whole federated project, including for instance:\n",
    "- Setting up the project information\n",
    "- Configuring server information\n",
    "- Making the project public for users to sign up\n",
    "- Approving user sign-up\n",
    "- etc.\n",
    "\n",
    "Let's first set up the project information, by going to the \"Project Configuration\" tab, and entering the project's short name, title and description. When you are ready, you can click on \"Make Project Public\" button. After the project becomes public, new users can sign up and join the project.\n",
    "\n",
    "![Project Setup](images/project-setup.png)\n",
    "\n",
    "Next, let's set up the server information, by going to the \"Server Configuration\" tab, and enter the DNS information for the server. You can optionally set up a back-up server and overseer to enable high-availability mode.\n",
    "\n",
    "![Server Setup](images/server-setup.png)\n",
    "\n",
    "After the project and server information is set up, we can freeze the project, by going to the \"Project Home\" tab, and click on the \"Freeze Project\" button. Note that once the project is freezed, you can no longer modify its information.\n",
    "\n",
    "![Freeze](images/freeze-project.png)\n"
   ]
  },
  {
   "cell_type": "markdown",
   "id": "13ffce33-06e4-4ce7-a368-42a6ee658a5c",
   "metadata": {},
   "source": [
    "## 4. User Sign-up\n",
    "\n",
    "Once a federated project is made public, new users can sign up and join the project. On the landing page, you will see a new \"Signup\" button. \n",
    "\n",
    "![Signup](images/signup.png)\n",
    "\n",
    "Click on it, and you will be brought to the new user sign-up page. Let's create a org admin user with email address \"org_admin@nvidia.com\":\n",
    "\n",
    "![New User](images/new-user.png)\n",
    "\n",
    "![Org Admin](images/org-admin.png)\n",
    "\n",
    "After sign-up, the project admin would need to approve the sign-up before the org admin can log into the project. Let's go ahead and log in as the project admin again and approve the org admin user sign-up.\n",
    "\n",
    "![Approve User](images/approve-user.png)"
   ]
  },
  {
   "cell_type": "markdown",
   "id": "fc03ce75-2e8d-44f4-b59b-fd280161eed3",
   "metadata": {},
   "source": [
    "## 5. Set Up Client Sites\n",
    "\n",
    "Log into the project as the org admin. As an org admin, you are able to add client sites to the federated project.\n",
    "\n",
    "![Add Site](images/add-site.png)\n",
    "\n",
    "Let's go ahead and add two clients: `site-1` and `site-2` to the project. You can specify the GPU resources for each site. After adding the clients, log in as the project admin again and approve client sites.\n",
    "\n",
    "![Approve Clients](images/approve-clients.png)\n",
    "\n",
    "After the client sites are approved, you will see them appear as properly set up in the org admin's view.\n",
    "\n",
    "![Clients Approved](images/clients-approved.png)"
   ]
  },
  {
   "cell_type": "markdown",
   "id": "19a638d2-3d82-4e36-a4ba-34de1f5f836f",
   "metadata": {},
   "source": [
    "### 6. Download Startup Kits\n",
    "\n",
    "Once the project, the server and the clients are all set up, we can proceed to download the startup kits. Besides downloading their own startup kits to connect to the FLARE Console, the project admin can download the server startup kit:\n",
    "\n",
    "![Project Startup Kit](images/admin-startup-kit.png)\n",
    "\n",
    "And the org admin can download & distribute the startup kits for clients:\n",
    "\n",
    "![Org Startup Kits](images/org-startup-kits.png)\n"
   ]
  },
  {
   "cell_type": "markdown",
   "id": "5b1be8d5-a6dc-4db9-bcbb-f6609da26a9a",
   "metadata": {},
   "source": [
    "**That's it, we have created a Dashboard, and walked through how to propoerly provision & set up a project with it!**"
   ]
  },
  {
   "cell_type": "markdown",
   "id": "129532b4-6a76-4d2d-837b-85f8fd1ce326",
   "metadata": {},
   "source": [
    "# What's Next\n",
    "\n",
    "Next, we will learn how to perform preliminary checks beforing starting a live federated system with [preflight check](../04.3_preflight_check/preflight_check.ipynb)."
   ]
  }
 ],
 "metadata": {
  "kernelspec": {
   "display_name": "Python 3 (ipykernel)",
   "language": "python",
   "name": "python3"
  },
  "language_info": {
   "codemirror_mode": {
    "name": "ipython",
    "version": 3
   },
   "file_extension": ".py",
   "mimetype": "text/x-python",
   "name": "python",
   "nbconvert_exporter": "python",
   "pygments_lexer": "ipython3",
   "version": "3.10.12"
  }
 },
 "nbformat": 4,
 "nbformat_minor": 5
}
