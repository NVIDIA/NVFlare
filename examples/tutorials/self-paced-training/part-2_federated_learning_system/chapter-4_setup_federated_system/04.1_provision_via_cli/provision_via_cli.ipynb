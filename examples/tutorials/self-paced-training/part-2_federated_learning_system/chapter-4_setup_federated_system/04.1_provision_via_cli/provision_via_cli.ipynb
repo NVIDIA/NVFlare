{
 "cells": [
  {
   "cell_type": "markdown",
   "id": "3dac4bd7-fdae-4db0-b0f0-89dc97017bbb",
   "metadata": {},
   "source": [
    "# Provision Using `nvflare provision` CLI\n",
    "\n",
    "As mentioned in the [introduction to NVIDIA FLARE provisioning](../04.0_introduction/provision.ipynb), one way of performing provisioning is to use the `nvflare provision` CLI.\n",
    "\n",
    "Execute the following command to see the documentation for the `nvflare provision` command."
   ]
  },
  {
   "cell_type": "code",
   "execution_count": null,
   "id": "11df76d8-27c4-4556-b8c8-5bb9358752de",
   "metadata": {},
   "outputs": [],
   "source": [
    "! nvflare provision -h"
   ]
  },
  {
   "cell_type": "markdown",
   "id": "0a57f158-d98b-45df-baca-529324fc46f1",
   "metadata": {},
   "source": [
    "Now, let's look at an example of how to provision a project using the `nvflare provision` CLI tool in 3 steps."
   ]
  },
  {
   "cell_type": "markdown",
   "id": "821d13fc-ffdf-4622-b433-1a1b85b9f21a",
   "metadata": {},
   "source": [
    "# Example: Provision a Federated Project\n",
    "\n",
    "### 1. Configure the project\n",
    "\n",
    "The input to the povisioning process is a project configuration file (typically a `yaml` file). This configuration is used to set up the FL project, and generally includes definitions for:\n",
    "- Project meta-data\n",
    "- Participants of the project\n",
    "- Builders to build project workspace\n",
    "\n",
    "An example project configuration file is provided in [`code/project.yml`](code/project.yml). This file was generated using the `nvflare provision` CLI tool without any arguments. You can also find master templates for more complete project configurations [here](https://nvflare.readthedocs.io/en/main/programming_guide/provisioning_system.html#default-project-yml-file).\n",
    "\n",
    "> **NOTE**:\n",
    "> when running this CLI tool without arguments, you will be prompted to select whether the generated configuration file should include [*high-availability*](https://nvflare.readthedocs.io/en/main/programming_guide/high_availability.html) features. We will not cover *high-availability* in this course, and the example file was generated without high-availability features. \n",
    "\n",
    "Let us look at the main content of [`code/project.yaml`](code/project.yml) together (some of the details and comments are removed to faciliate explanation):\n",
    "```yaml\n",
    "api_version: 3\n",
    "name: example_project\n",
    "description: NVIDIA FLARE sample project yaml file\n",
    "\n",
    "participants:\n",
    "  - name: server1\n",
    "    type: server\n",
    "    org: nvidia\n",
    "    fed_learn_port: 8002\n",
    "    admin_port: 8003\n",
    "\n",
    "  - name: site-1\n",
    "    type: client\n",
    "    org: nvidia\n",
    "\n",
    "  - name: site-2\n",
    "    type: client\n",
    "    org: nvidia\n",
    "    \n",
    "  - name: admin@nvidia.com\n",
    "    type: admin\n",
    "    org: nvidia\n",
    "    role: project_admin\n",
    "\n",
    "builders:\n",
    "  - path: nvflare.lighter.impl.workspace.WorkspaceBuilder\n",
    "      ...\n",
    "  - path: nvflare.lighter.impl.static_file.StaticFileBuilder\n",
    "      ...\n",
    "  - path: nvflare.lighter.impl.cert.CertBuilder\n",
    "      ...\n",
    "  - path: nvflare.lighter.impl.signature.SignatureBuilder\n",
    "```\n",
    "\n",
    "The configuration file is organized into the following 3 sections:\n",
    "\n",
    "**Project meta-data**\n",
    "  - The `api_version`: for current release of NVIDIA FLARE, the `api_version` is set to 3\n",
    "  - The `name` of the FL project, in this case, `example_project`\n",
    "  - And a short `description` of the FL project\n",
    "\n",
    "**Participants**\n",
    "\n",
    "This section is a crucial part that defines all the [participants](https://nvflare.readthedocs.io/en/main/programming_guide/provisioning_system.html#participant) involved in the project. There are multiple types of participants defined in FLARE, most common types include `server`, `client` and `admin`. Some participants are referred to as [sites](https://nvflare.readthedocs.io/en/main/user_guide/security/terminologies_and_roles.html#site), which represent computing systems that run FLARE applications, for instance, the `server` and `client`. While some participants are referred to as [users](https://nvflare.readthedocs.io/en/main/user_guide/security/terminologies_and_roles.html#user), who are human participants, with different access priviledges to query, monitor or manage the project, for instance, the `admin`. Developers can also include other types, like the `overseer` for high-availability mode, or add custom types - we will not cover the details of these advanced features in this course.\n",
    "\n",
    "As we can see, in the `project.yml` file, the following participants are defined:\n",
    "- 1 `server`: the name of the server should in general be a [fully qualified domain name](https://en.wikipedia.org/wiki/Fully_qualified_domain_name) (FQDN) to make sure that other participants can establish network connections to the server from any location. The server name can also be a system-wide known hostname.\n",
    "- 2 `client`s with names `site-1` and `site-2`.\n",
    "- 1 `admin`: here we defined 1 `project_admin` with name `admin@nvidia.com`, who has the most elevated access priviledges in the whole project. There can only 1 project admin for each project.\n",
    "\n",
    "**Builders**\n",
    "\n",
    "In NVIDIA FLARE provisioning, [builders](https://nvflare.readthedocs.io/en/main/programming_guide/provisioning_system.html#builder) are a series of Python classes that work together to generate startup kits for all participants, based on the configurations defined in the project configuration file. Builders create various aspects of the startup kits for all participants, such as workspace structure, configuration files, and security credentials. Builders specified in a configuration file will be invoked in the same order as listed in the `builders` section. This example `project.yml` file shows the usage of common builders:\n",
    "- `WorkspaceBuilder`: Creates the basic workspace structure\n",
    "- `StaticFileBuilder`: Copies static files into the workspace\n",
    "- `CertBuilder`: Generates certificates and keys for secure communication\n",
    "- `SignatureBuilder`: Creates signatures for tamper-proofing\n",
    "\n",
    "Developers can also create custom builders to construct more specific and customized provisioning output. We will not deep dive into how builders work and how they can be customized. For now, the most important thing to know about builders is that they execute in specific order to build the startup kits as results of a provisioning process."
   ]
  },
  {
   "cell_type": "markdown",
   "id": "2530f415-38a1-4aef-aa95-637065a0b315",
   "metadata": {},
   "source": [
    "## 2. Generate startup kits\n",
    "\n",
    "Let's run the provisioning process with the example configuration file [`code/project.yml`](code/project.yml/):"
   ]
  },
  {
   "cell_type": "code",
   "execution_count": null,
   "id": "7979d0af-804a-4781-8714-1bfa8760075b",
   "metadata": {},
   "outputs": [],
   "source": [
    "!rm -rf ./workspace\n",
    "!nvflare provision -p code/project.yml -w ./workspace"
   ]
  },
  {
   "cell_type": "markdown",
   "id": "160f541c-bbbf-4593-8a40-304ad2630d97",
   "metadata": {},
   "source": [
    "Now let's check the structure of the output generated by the `nvflare provision` command:"
   ]
  },
  {
   "cell_type": "code",
   "execution_count": null,
   "id": "b130d00f-4a0e-4370-87fe-fe869cfbd640",
   "metadata": {},
   "outputs": [],
   "source": [
    "!tree ./workspace -L 4"
   ]
  },
  {
   "cell_type": "markdown",
   "id": "3f5d1703-d1ac-4ded-a168-b1f23b69036e",
   "metadata": {},
   "source": [
    "We can see that provisioning generates a well-defined directory hierarchy.\n",
    "\n",
    "At the top level, we have a root folder with the FL project's name, in this case, `example_project`. Under `example_project`, we can see multiple subfolders:\n",
    "- `resources`: this directory may contain shared resources or additional files needed for the project.\n",
    "- `state`: this is a directory to maintain state information about the provisioning process or current status of participants.\n",
    "- `prod_NN`: this folder contains the **startup kits** generated from a successful provisioning command for all participants. The number `NN` increases with each successful provision run, indicating different provisioning sessions. In this example case, since we are running the provisioning command for the first time, the folder name is `prod_00`.\n",
    "\n",
    "**A startup kit is a folder with a set of files, scripts and credentials generated by provisioning for each participant in the FL project**. A startup kit is local to a specific participant and typically includes:\n",
    "- Authentication credentials\n",
    "- Authorization policies\n",
    "- Signatures for tamper-proof mechanisms\n",
    "- Convenient shell scripts for launching the participant\n",
    "\n",
    "We can see that in this example, there are 4 startup kits generated, one for each participants, i.e., 1 server, 2 clients and 1 admin. Each folder is named after its corresponding participant's name as indicated in the configuration file. \n",
    "\n",
    "Let's look into the content of the generated startup kits for the server, clients and admin. \n",
    "\n",
    "Server and clients have similar startup kit content structure, so let's just display the server startup kit files with the following command:\n"
   ]
  },
  {
   "cell_type": "code",
   "execution_count": null,
   "id": "58784b9a-1501-495a-8d30-f9b38bca32ae",
   "metadata": {},
   "outputs": [],
   "source": [
    "!tree ./workspace/example_project/prod_00/server1/"
   ]
  },
  {
   "cell_type": "markdown",
   "id": "ac634c25-4505-4103-9825-8df788ed7ee6",
   "metadata": {},
   "source": [
    "Different subfolders are organized as follows: \n",
    "- The `local` subfolder: this folder contains configuration files for site-specific local policies for authorization, logging, privacy and resource access. Each site can modify these configuration files to set up their local policies. We will see more details on local site policy management in the next chapter.\n",
    "- The `startup` subfolder: this folder contains shell script for a participant to start / join (`start.sh`) or leave the FL project (`stop_fl.sh`). It also contains certificates, signature and key files, which are essential to maintain secure connections between different participants. Note that the signatures and certificates files are integral to ensuring the security and authenticity of a participant. Manual modification of these files after provisioning may prevent a participant to connect to the FL system. \n",
    "- The `transfer` subfolder is used to store artifacts such as custom application, scripts or files during project runtime.\n",
    "\n",
    "Now let's look at the content of `admin`'s startup kit:"
   ]
  },
  {
   "cell_type": "code",
   "execution_count": null,
   "id": "5edb6cf1-27f3-4a72-991f-514d90e66242",
   "metadata": {},
   "outputs": [],
   "source": [
    "!tree ./workspace/example_project/prod_00/admin@nvidia.com/"
   ]
  },
  {
   "cell_type": "markdown",
   "id": "8165e56f-f82e-4a39-aa98-274ba2921e5b",
   "metadata": {},
   "source": [
    "The `admin`'s startup kit has similar structure. \n",
    "- The `local` subfolder is empty, since local policies are not needed for `admin`, a human participant who manages the project.\n",
    "- In the `startup` subfolder, apart from certificates and keys, the `fl_admin.sh` shell script allows the `admin` user to login to [**FLARE Console**](https://nvflare.readthedocs.io/en/main/real_world_fl/operation.html#operating-nvflare) to perform management tasks from anywhere with secure network connection. We will look at the **FLARE Console** later.\n",
    "- The `transfer` folder in `admin`'s startup kit is the default location to hold various runtime data, for instance, downloads of federated jobs from the server workspace when they finish. It can also be used to link or hold federated applications developed using FLARE, so that the `admin` user can easily submit the application to the server for running. We will see how this works in details later."
   ]
  },
  {
   "cell_type": "markdown",
   "id": "addef00d-3614-4017-be8c-3db1d328ae5c",
   "metadata": {},
   "source": [
    "### 3. Distribute the startup kits to participants\n",
    "\n",
    "Now with startup kits generated, the last step is to distribute these kits to the corresponding participants. You can use email, sftp etc. to do so, as long as you can ensure that it is secure. In general, each site should have an organization admin to receive or download the startup kits. The organization admin can then install their own packages, start the services, map the data location, and instrument the authorization policies and organization level site privacy policies. Another way to distribute startup kits is to use the [FLARE Dashboard](https://nvflare.readthedocs.io/en/main/user_guide/dashboard_ui.html) with a convenient webUI. We will briefly cover the FLARE Dashboard in the next chapter.\n"
   ]
  },
  {
   "cell_type": "markdown",
   "id": "940d33fc-0e2a-4cc0-b245-8ec861f99aa2",
   "metadata": {},
   "source": [
    "**That's it! We have learned how to provision a federated project and generate startup kits for all participants using the `nvflare provision` CLI tool!**"
   ]
  },
  {
   "cell_type": "markdown",
   "id": "62e35470-e680-4458-a0fe-05a4a83cd5cc",
   "metadata": {},
   "source": [
    "# What's Next\n",
    "\n",
    "Next, let's learn the other option for provisioning: [FLARE Dashboard](../04.2_provision_via_dashboard/provision_via_dashboard.ipynb)."
   ]
  }
 ],
 "metadata": {
  "kernelspec": {
   "display_name": "Python 3 (ipykernel)",
   "language": "python",
   "name": "python3"
  },
  "language_info": {
   "codemirror_mode": {
    "name": "ipython",
    "version": 3
   },
   "file_extension": ".py",
   "mimetype": "text/x-python",
   "name": "python",
   "nbconvert_exporter": "python",
   "pygments_lexer": "ipython3",
   "version": "3.10.12"
  }
 },
 "nbformat": 4,
 "nbformat_minor": 5
}
