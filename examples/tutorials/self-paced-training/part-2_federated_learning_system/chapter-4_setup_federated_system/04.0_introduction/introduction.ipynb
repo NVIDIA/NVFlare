{
 "cells": [
  {
   "cell_type": "markdown",
   "id": "25dd4150-8ed8-4506-875b-9f6b17c905c5",
   "metadata": {},
   "source": [
    "# Set Up a Federated System\n",
    "\n",
    "In this chapter, we will learn the process of setting up a federated system for simulated or real-world deployment. We will cover the following topics:\n",
    "\n",
    "1. **Provisioning in NVIDIA FLARE**\n",
    "   - [Introduction to provisioning in NVIDIA FLARE](provision.ipynb)\n",
    "   - [Provision via `nvflare provision` CLI](../04.1_provision_via_cli/provision_via_cli.ipynb)\n",
    "   - [Provision via FLARE Dashboard](../04.2_provision_via_dashboard/provision_via_dashboard.ipynb)\n",
    "\n",
    "2. **Preflight check**\n",
    "   - [Preflight check](../04.3_preflight_check/preflight_check.ipynb)\n",
    "\n",
    "4. **Containerized deployment**\n",
    "   - [Provision and run with Docker](../04.4_provision_and_run_with_docker/provision_and_run_with_dockers.ipynb)\n",
    "\n",
    "4. **Cloud deployment**\n",
    "   - [Cloud deployment in AWS](../04.5_deployment_in_aws/deployment_in_aws.ipynb)\n",
    "   - [Cloud deployment in Azure](../04.6_deployment_in_azure/deployment_in_azure.ipynb)\n",
    "\n",
    "5. **Kubernetes deployment**\n",
    "   - [Provision and run with Kubernetes (k8s)](../04.7_provision_and_run_with_k8s/provision_and_run_with_k8s.ipynb)\n",
    "\n",
    "6. **Recap**\n",
    "   - [A recap of what we have learned in this chapter](../04.8_recap/recap.ipynb)\n",
    "\n",
    "# Let's Get Started!\n",
    "  \n",
    "Let's first start with an [introduction to provisioning in NVIDIA FLARE](provision.ipynb)."
   ]
  }
 ],
 "metadata": {
  "kernelspec": {
   "display_name": "Python 3 (ipykernel)",
   "language": "python",
   "name": "python3"
  },
  "language_info": {
   "codemirror_mode": {
    "name": "ipython",
    "version": 3
   },
   "file_extension": ".py",
   "mimetype": "text/x-python",
   "name": "python",
   "nbconvert_exporter": "python",
   "pygments_lexer": "ipython3",
   "version": "3.10.12"
  }
 },
 "nbformat": 4,
 "nbformat_minor": 5
}
