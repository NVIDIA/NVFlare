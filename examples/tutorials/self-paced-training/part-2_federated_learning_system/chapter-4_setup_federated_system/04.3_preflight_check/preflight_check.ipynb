{
 "cells": [
  {
   "cell_type": "markdown",
   "id": "56fbe9f8-7b10-40dd-a790-74986549ad1f",
   "metadata": {},
   "source": [
    "# Preflight Check\n",
    "\n",
    "The [preflight check](https://nvflare.readthedocs.io/en/main/user_guide/nvflare_cli/preflight_check.html) feature was added in version 2.2 to help perform preliminary checks before users start an NVFlare subsystem on their machine to catch errors early and mitigate the pain of setting up and running jobs in NVIDIA FLARE.\n"
   ]
  },
  {
   "cell_type": "code",
   "execution_count": 2,
   "id": "fb6ec6d2-7edb-4445-8f19-1ea965f1a15f",
   "metadata": {},
   "outputs": [
    {
     "name": "stdout",
     "output_type": "stream",
     "text": [
      "usage: nvflare preflight_check [-h] -p PACKAGE_PATH\n",
      "\n",
      "options:\n",
      "  -h, --help            show this help message and exit\n",
      "  -p PACKAGE_PATH, --package_path PACKAGE_PATH\n",
      "                        path to specific package\n"
     ]
    }
   ],
   "source": [
    "!nvflare preflight_check -h"
   ]
  },
  {
   "cell_type": "markdown",
   "id": "952edef6-5bb2-48db-a030-28550b052d02",
   "metadata": {},
   "source": [
    "This preflight check script should be run on each participant’s machine. The `PACKAGE_PATH` is the path to the folder that contains the startup kit to be checked.\n",
    "\n",
    "After running the script, for the checks that pass, users will see “PASSED”. The problem and how to fix it is reported for checks that fail."
   ]
  },
  {
   "cell_type": "markdown",
   "id": "7be0fa34-db6c-434b-bad7-4f2c0efedcf2",
   "metadata": {},
   "source": [
    "# Preflight Check for Server\n",
    "\n",
    "Let's run preflight check for the server startup kit that we previously generated during section [Provision Using `nvflare provision` CLI](../04.1_provision_via_cli/provision_via_cli.ipynb):"
   ]
  },
  {
   "cell_type": "code",
   "execution_count": 4,
   "id": "9406228f-9e63-4e35-8395-c441d808f538",
   "metadata": {},
   "outputs": [
    {
     "name": "stdout",
     "output_type": "stream",
     "text": [
      "Checking Package: /home/zhijinl/github/NVFlare/examples/tutorials/self-paced-training/part-2_federated_learning_system/chapter-4_setup_federated_system/04.1_provision_via_cli/workspace/example_project/prod_00/localhost\n",
      "-----------------------------------------------------------------------------------------------------------------------------------\n",
      "| Checks                          | Problems                                                                         | How to fix |\n",
      "|---------------------------------------------------------------------------------------------------------------------------------|\n",
      "| Check overseer running          | PASSED                                                                           | N/A        |\n",
      "|---------------------------------------------------------------------------------------------------------------------------------|\n",
      "| Check grpc port binding         | PASSED                                                                           | N/A        |\n",
      "|---------------------------------------------------------------------------------------------------------------------------------|\n",
      "| Check admin port binding        | PASSED                                                                           | N/A        |\n",
      "|---------------------------------------------------------------------------------------------------------------------------------|\n",
      "| Check snapshot storage writable | PASSED                                                                           | N/A        |\n",
      "|---------------------------------------------------------------------------------------------------------------------------------|\n",
      "| Check job storage writable      | PASSED                                                                           | N/A        |\n",
      "|---------------------------------------------------------------------------------------------------------------------------------|\n",
      "| Check dry run                   | PASSED                                                                           | N/A        |\n",
      "-----------------------------------------------------------------------------------------------------------------------------------\n",
      "\n",
      "killing dry run process\n",
      "killed dry run process output: \n",
      "killed dry run process err: None\n"
     ]
    }
   ],
   "source": [
    "!nvflare preflight_check -p ../04.1_provision_via_cli/workspace/example_project/prod_00/localhost"
   ]
  },
  {
   "cell_type": "markdown",
   "id": "c89afba1-f095-47c6-903f-25de4df5fd87",
   "metadata": {},
   "source": [
    "# Preflight Check for Clients\n",
    "\n",
    "Let's run preflight check for the client startup kits that we previously generated during section [Provision Using `nvflare provision` CLI](../04.1_provision_via_cli/provision_via_cli.ipynb):"
   ]
  },
  {
   "cell_type": "code",
   "execution_count": 5,
   "id": "6e3650a1-582e-4e1c-8ead-1921d137c891",
   "metadata": {},
   "outputs": [
    {
     "name": "stdout",
     "output_type": "stream",
     "text": [
      "[Errno 111] Connection refused\n",
      "Checking Package: /home/zhijinl/github/NVFlare/examples/tutorials/self-paced-training/part-2_federated_learning_system/chapter-4_setup_federated_system/04.1_provision_via_cli/workspace/example_project/prod_00/site-1\n",
      "------------------------------------------------------------------------------------------------------------------------------------------------------------------------------------------------------------------------------------------------------------------------------------------------------------------------------------------------------------------------------------------------------------------------\n",
      "| Checks                                     | Problems                                                                         | How to fix                                                                                                                                                                                                                                                                           |\n",
      "|----------------------------------------------------------------------------------------------------------------------------------------------------------------------------------------------------------------------------------------------------------------------------------------------------------------------------------------------------------------------------------------------------------------------|\n",
      "| Check overseer running                     | PASSED                                                                           | N/A                                                                                                                                                                                                                                                                                  |\n",
      "|----------------------------------------------------------------------------------------------------------------------------------------------------------------------------------------------------------------------------------------------------------------------------------------------------------------------------------------------------------------------------------------------------------------------|\n",
      "| Check service provider list available      | PASSED                                                                           | N/A                                                                                                                                                                                                                                                                                  |\n",
      "|----------------------------------------------------------------------------------------------------------------------------------------------------------------------------------------------------------------------------------------------------------------------------------------------------------------------------------------------------------------------------------------------------------------------|\n",
      "| Check primary SP's socket server available | Can't connect to (localhost:8003) / DNS can't resolve                            |  1) If (localhost:8003) is public, check internet connection, try ping (localhost:8003). 2) If (localhost:8003) is private, then you need to add its ip to the etc/hosts. 3) If network is good, Please contact NVFLARE system admin and make sure the primary FL server is running. |\n",
      "------------------------------------------------------------------------------------------------------------------------------------------------------------------------------------------------------------------------------------------------------------------------------------------------------------------------------------------------------------------------------------------------------------------------\n",
      "\n"
     ]
    }
   ],
   "source": [
    "!nvflare preflight_check -p ../04.1_provision_via_cli/workspace/example_project/prod_00/site-1"
   ]
  },
  {
   "cell_type": "markdown",
   "id": "918bdd66-dadc-4fdc-9231-6948fe756b92",
   "metadata": {},
   "source": [
    "# Preflight Check for Admin\n",
    "\n",
    "Let's run preflight check for the admin startup kit that we previously generated during section [Provision Using `nvflare provision` CLI](../04.1_provision_via_cli/provision_via_cli.ipynb):"
   ]
  },
  {
   "cell_type": "code",
   "execution_count": 6,
   "id": "0625e2e9-f4fe-4d12-816a-3acb57d71a3f",
   "metadata": {},
   "outputs": [
    {
     "name": "stdout",
     "output_type": "stream",
     "text": [
      "[Errno 111] Connection refused\n",
      "Checking Package: /home/zhijinl/github/NVFlare/examples/tutorials/self-paced-training/part-2_federated_learning_system/chapter-4_setup_federated_system/04.1_provision_via_cli/workspace/example_project/prod_00/admin@nvidia.com\n",
      "------------------------------------------------------------------------------------------------------------------------------------------------------------------------------------------------------------------------------------------------------------------------------------------------------------------------------------------------------------------------------------------------------------------------\n",
      "| Checks                                     | Problems                                                                         | How to fix                                                                                                                                                                                                                                                                           |\n",
      "|----------------------------------------------------------------------------------------------------------------------------------------------------------------------------------------------------------------------------------------------------------------------------------------------------------------------------------------------------------------------------------------------------------------------|\n",
      "| Check overseer running                     | PASSED                                                                           | N/A                                                                                                                                                                                                                                                                                  |\n",
      "|----------------------------------------------------------------------------------------------------------------------------------------------------------------------------------------------------------------------------------------------------------------------------------------------------------------------------------------------------------------------------------------------------------------------|\n",
      "| Check service provider list available      | PASSED                                                                           | N/A                                                                                                                                                                                                                                                                                  |\n",
      "|----------------------------------------------------------------------------------------------------------------------------------------------------------------------------------------------------------------------------------------------------------------------------------------------------------------------------------------------------------------------------------------------------------------------|\n",
      "| Check primary SP's socket server available | Can't connect to (localhost:8003) / DNS can't resolve                            |  1) If (localhost:8003) is public, check internet connection, try ping (localhost:8003). 2) If (localhost:8003) is private, then you need to add its ip to the etc/hosts. 3) If network is good, Please contact NVFLARE system admin and make sure the primary FL server is running. |\n",
      "------------------------------------------------------------------------------------------------------------------------------------------------------------------------------------------------------------------------------------------------------------------------------------------------------------------------------------------------------------------------------------------------------------------------\n",
      "\n"
     ]
    }
   ],
   "source": [
    "!nvflare preflight_check -p ../04.1_provision_via_cli/workspace/example_project/prod_00/admin@nvidia.com"
   ]
  },
  {
   "cell_type": "markdown",
   "id": "bbebcb02-aa47-494a-a264-7a8550c8a119",
   "metadata": {},
   "source": [
    "**That's it, we've learned how to perform the preflight check.**"
   ]
  },
  {
   "cell_type": "markdown",
   "id": "c961d87a-2c2a-45b6-912c-3299119eb289",
   "metadata": {},
   "source": [
    "# What's Next\n",
    "\n",
    "Next, we will learn how to [provision and run with docker](../04.4_provision_and_run_with_docker/provision_and_run_with_dockers.ipynb)."
   ]
  }
 ],
 "metadata": {
  "kernelspec": {
   "display_name": "Python 3 (ipykernel)",
   "language": "python",
   "name": "python3"
  },
  "language_info": {
   "codemirror_mode": {
    "name": "ipython",
    "version": 3
   },
   "file_extension": ".py",
   "mimetype": "text/x-python",
   "name": "python",
   "nbconvert_exporter": "python",
   "pygments_lexer": "ipython3",
   "version": "3.10.12"
  }
 },
 "nbformat": 4,
 "nbformat_minor": 5
}
