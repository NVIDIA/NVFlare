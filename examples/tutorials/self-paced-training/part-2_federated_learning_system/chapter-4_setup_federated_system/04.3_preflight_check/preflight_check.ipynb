{
 "cells": [
  {
   "cell_type": "markdown",
   "id": "56fbe9f8-7b10-40dd-a790-74986549ad1f",
   "metadata": {},
   "source": [
    "# Preflight Check\n",
    "\n",
    "The [preflight check](https://nvflare.readthedocs.io/en/main/user_guide/nvflare_cli/preflight_check.html) feature was added in version 2.2 to help perform preliminary checks before users start an NVFlare subsystem on their machine to catch errors early and mitigate the pain of setting up and running jobs in NVIDIA FLARE.\n"
   ]
  },
  {
   "cell_type": "code",
   "execution_count": null,
   "id": "fb6ec6d2-7edb-4445-8f19-1ea965f1a15f",
   "metadata": {},
   "outputs": [],
   "source": [
    "!nvflare preflight_check -h"
   ]
  },
  {
   "cell_type": "markdown",
   "id": "952edef6-5bb2-48db-a030-28550b052d02",
   "metadata": {},
   "source": [
    "This preflight check script should be run on each participant’s machine. The `PACKAGE_PATH` is the path to the folder that contains the startup kit to be checked.\n",
    "\n",
    "After running the script, for the checks that pass, users will see “PASSED”. The problem and how to fix it is reported for checks that fail."
   ]
  },
  {
   "cell_type": "markdown",
   "id": "7be0fa34-db6c-434b-bad7-4f2c0efedcf2",
   "metadata": {},
   "source": [
    "# Preflight Check for Server\n",
    "\n",
    "Let's run preflight check for the server startup kit that we previously generated during section [Provision Using `nvflare provision` CLI](../04.1_provision_via_cli/provision_via_cli.ipynb):"
   ]
  },
  {
   "cell_type": "code",
   "execution_count": null,
   "id": "9406228f-9e63-4e35-8395-c441d808f538",
   "metadata": {},
   "outputs": [],
   "source": [
    "!nvflare preflight_check -p ../04.1_provision_via_cli/workspace/example_project/prod_00/server1"
   ]
  },
  {
   "cell_type": "markdown",
   "id": "d6299c54-f06d-4929-8938-ddfc4f903a86",
   "metadata": {},
   "source": [
    "Upon a successful preflight check, you should see a table like below:\n",
    "\n",
    "| Checks                          | Problems | How to fix |\n",
    "|---------------------------------|----------|------------|\n",
    "| Check overseer running          | PASSED   | N/A        |\n",
    "| Check grpc port binding         | PASSED   | N/A        |\n",
    "| Check admin port binding        | PASSED   | N/A        |\n",
    "| Check snapshot storage writable | PASSED   | N/A        |\n",
    "| Check job storage writable      | PASSED   | N/A        |\n",
    "| Check dry run                   | PASSED   | N/A        |"
   ]
  },
  {
   "cell_type": "markdown",
   "id": "c89afba1-f095-47c6-903f-25de4df5fd87",
   "metadata": {},
   "source": [
    "# Preflight Check for Clients\n",
    "\n",
    "Let's run preflight check for the client startup kits that we previously generated during section [Provision Using `nvflare provision` CLI](../04.1_provision_via_cli/provision_via_cli.ipynb):\n",
    "\n",
    "> **Note** Please make sure that the server is running before running checks for clients."
   ]
  },
  {
   "cell_type": "code",
   "execution_count": null,
   "id": "6e3650a1-582e-4e1c-8ead-1921d137c891",
   "metadata": {},
   "outputs": [],
   "source": [
    "!nvflare preflight_check -p ../04.1_provision_via_cli/workspace/example_project/prod_00/site-1"
   ]
  },
  {
   "cell_type": "markdown",
   "id": "d13178e3-a09c-4f79-a7e6-7f3f3c086e4f",
   "metadata": {},
   "source": [
    "Upon a successful preflight check, you should see a table like below:\n",
    "\n",
    "| Checks                          | Problems | How to fix |\n",
    "|---------------------------------|----------|------------|\n",
    "| Check overseer running          | PASSED   | N/A        |\n",
    "| Check service provider list available         | PASSED   | N/A        |\n",
    "| Check primary SP's socket server available        | PASSED   | N/A        |\n",
    "| Check primary SP's socket GRPC server available | PASSED   | N/A        |\n",
    "| Check dry run                  | PASSED   | N/A        |"
   ]
  },
  {
   "cell_type": "markdown",
   "id": "918bdd66-dadc-4fdc-9231-6948fe756b92",
   "metadata": {},
   "source": [
    "# Preflight Check for Admin\n",
    "\n",
    "Let's run preflight check for the admin startup kit that we previously generated during section [Provision Using `nvflare provision` CLI](../04.1_provision_via_cli/provision_via_cli.ipynb):\n",
    "\n",
    "> **Note** Please make sure that the server is running before running checks for admin."
   ]
  },
  {
   "cell_type": "code",
   "execution_count": null,
   "id": "0625e2e9-f4fe-4d12-816a-3acb57d71a3f",
   "metadata": {},
   "outputs": [],
   "source": [
    "!nvflare preflight_check -p ../04.1_provision_via_cli/workspace/example_project/prod_00/admin@nvidia.com"
   ]
  },
  {
   "cell_type": "markdown",
   "id": "946a080a-146a-4f19-bee2-43179c601444",
   "metadata": {},
   "source": [
    "Upon a successful preflight check, you should see a table like below:\n",
    "\n",
    "| Checks                          | Problems | How to fix |\n",
    "|---------------------------------|----------|------------|\n",
    "| Check overseer running          | PASSED   | N/A        |\n",
    "| Check service provider list available         | PASSED   | N/A        |\n",
    "| Check primary SP's socket server available        | PASSED   | N/A        |\n",
    "| Check primary SP's socket GRPC server available | PASSED   | N/A        |\n",
    "| Check dry run                  | PASSED   | N/A        |"
   ]
  },
  {
   "cell_type": "markdown",
   "id": "bbebcb02-aa47-494a-a264-7a8550c8a119",
   "metadata": {},
   "source": [
    "**That's it, we've learned how to perform the preflight check.**"
   ]
  },
  {
   "cell_type": "markdown",
   "id": "c961d87a-2c2a-45b6-912c-3299119eb289",
   "metadata": {},
   "source": [
    "# What's Next\n",
    "\n",
    "Next, we will learn how to [provision and run with docker](../04.4_provision_and_run_with_docker/provision_and_run_with_dockers.ipynb)."
   ]
  }
 ],
 "metadata": {
  "kernelspec": {
   "display_name": "Python 3 (ipykernel)",
   "language": "python",
   "name": "python3"
  },
  "language_info": {
   "codemirror_mode": {
    "name": "ipython",
    "version": 3
   },
   "file_extension": ".py",
   "mimetype": "text/x-python",
   "name": "python",
   "nbconvert_exporter": "python",
   "pygments_lexer": "ipython3",
   "version": "3.10.12"
  }
 },
 "nbformat": 4,
 "nbformat_minor": 5
}
