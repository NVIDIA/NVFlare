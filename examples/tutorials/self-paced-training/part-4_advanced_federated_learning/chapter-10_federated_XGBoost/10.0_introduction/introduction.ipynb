{
 "cells": [
  {
   "cell_type": "markdown",
   "id": "cae3fb2d-8949-4e6d-a2af-0282ee973285",
   "metadata": {},
   "source": [
    "# Federated Learning for XGBoost \n",
    "This chapter demonstrates how to use NVFlare to train an XGBoost model in a federated learning setting. \n",
    "Several potential variations of federated XGBoost are illustrated, including:\n",
    "- non-secure horizontal collaboration with histogram-based and tree-based mechanisms.\n",
    "- non-secure vertical collaboration with histogram-based mechanism.\n",
    "- secure horizontal and vertical collaboration with histogram-based mechanism and homomorphic encryption.\n",
    "\n",
    "Let's first visit the basics of XGBoost and the collaboration modes."
   ]
  },
  {
   "cell_type": "markdown",
   "id": "6da8f899-2804-4d6e-ab03-a02ce115d32f",
   "metadata": {},
   "source": [
    "## XGBoost \n",
    "XGBoost is a machine learning algorithm that uses decision/regression trees to perform classification and regression tasks, \n",
    "mapping a vector of feature values to its label prediction. It is especially powerful for tabular data, so even in the age of LLM, \n",
    "it is still widely used for many tabular data use cases. It is also preferred for its explainability and efficiency.\n",
    "\n",
    "In these examples, we use [DMLC XGBoost](https://github.com/dmlc/xgboost), which is an optimized distributed gradient boosting library. \n",
    "It offers advanced features like GPU accelerated capabilities, and distributed/federated learning support.\n",
    "\n",
    "## Collaboration Modes and Data Split\n",
    "Essentially there are two collaboration modes: horizontal and vertical:\n",
    "![hori_vert](./hori_vert.png)"
   ]
  },
  {
   "cell_type": "markdown",
   "id": "64466b4a-6f69-4663-b6f8-14a050a21634",
   "metadata": {},
   "source": [
    "- In horizontal case, each participant has access to the same features (columns - \"x_1 x_2\") and label (\"y\") of different data samples (rows - 1/2/3 for Client A v.s. 4/5/6 for Client B). \n",
    "In this case, everyone holds equal status as \"label owner\"\n",
    "- In vertical case, each client has access to different features (columns - \"x_1 x_2 x_3\" for Client A v.s. \"x_4 x_5\" for Client B) of the same data samples (rows - 1/2/3).\n",
    "We assume that only one is the \"label owner\" (or we call it as the \"active party\") - Client B owns label \"y\" \n",
    "\n",
    "To simulate the above two collaboration modes, we split the dataset both horizontally and vertically, and \n",
    "we give site-1 the label column for simplicity.\n",
    "\n",
    "## Federated Training of XGBoost\n",
    "Continue with this chapter for two scenarios:\n",
    "### [Federated XGBoost without Encryption](../10.1_fed_xgboost/fed_xgboost.ipynb)\n",
    "This section provides instructions for running federated XGBoost without homomorphic encryption, covering both histogram-based and tree-based horizontal collaboration, as well as histogram-based vertical collaboration.\n",
    "\n",
    "### [Secure Federated XGBoost with Homomorphic Encryption](../10.2_secure_fed_xgboost/secure_fed_xgboost.ipynb)\n",
    "This section includes instructions on running secure federated XGBoost with homomorphic encryption under \n",
    "histogram-based horizontal and vertical collaboration. Note that as tree-based methods exchange the local trained models (trees), rather than intermediate gradients / histograms, considering that the final model will be made available to all parties at the end of the federated learning, they do not have the same security concerns as histogram-based methods. Therefore under our current setting, we do not consider Homomorphic Encryption for tree-based methods.\n",
    "\n",
    "We will then finish this chapter with a [recap](../10.3_recap/recap.ipynb)"
   ]
  },
  {
   "cell_type": "code",
   "execution_count": null,
   "id": "58cd3833-4dc5-4a53-b188-3db7104b356b",
   "metadata": {},
   "outputs": [],
   "source": []
  }
 ],
 "metadata": {
  "kernelspec": {
   "display_name": "Python 3 (ipykernel)",
   "language": "python",
   "name": "python3"
  },
  "language_info": {
   "codemirror_mode": {
    "name": "ipython",
    "version": 3
   },
   "file_extension": ".py",
   "mimetype": "text/x-python",
   "name": "python",
   "nbconvert_exporter": "python",
   "pygments_lexer": "ipython3",
   "version": "3.11.5"
  }
 },
 "nbformat": 4,
 "nbformat_minor": 5
}
