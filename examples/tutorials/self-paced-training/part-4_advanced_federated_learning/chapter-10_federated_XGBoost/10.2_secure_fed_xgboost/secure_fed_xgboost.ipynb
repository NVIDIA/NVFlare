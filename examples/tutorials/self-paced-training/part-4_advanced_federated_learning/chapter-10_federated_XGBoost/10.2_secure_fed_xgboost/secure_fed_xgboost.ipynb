{
 "cells": [
  {
   "cell_type": "markdown",
   "id": "d8a97688-34ef-4425-9b25-d4c9fb086ad5",
   "metadata": {},
   "source": [
    "# Secure Federated XGBoost with Homomorphic Encryption\n",
    "This section illustrates the use of [NVIDIA FLARE](https://nvflare.readthedocs.io/en/main/index.html) enabling secure federated [XGBoost](https://github.com/dmlc/xgboost) under both horizontal and vertical collaborations.\n",
    "The examples are based on a [finance dataset](https://www.kaggle.com/datasets/mlg-ulb/creditcardfraud) to perform fraud detection.\n",
    "\n",
    "## Secure Federated Training of XGBoost\n",
    "In last section, we visited several mechanisms for training an XGBoost model in a federated learning setting, including histogram-based vertical, histogram-based horizontal, and tree-based horizontal methods. \n",
    "\n",
    "In this example, we further extend the existing histogram-based horizontal and vertical federated learning approaches to support secure federated learning using homomorphic encryption. Depending on the characteristics of the data to be encrypted, we can choose between [CKKS](https://github.com/OpenMined/TenSEAL) and [Paillier](https://github.com/intel/pailliercryptolib_python).\n",
    "\n",
    "In the following, we illustrate both *histogram-based* *horizontal* and *vertical* federated XGBoost, *with* homomorphic encryption. \n",
    "\n",
    "## Installation\n",
    "To be able to run all the examples, please install the requirements first."
   ]
  },
  {
   "cell_type": "code",
   "execution_count": null,
   "id": "360512ae-bf5b-4868-893f-1e8df392bc47",
   "metadata": {},
   "outputs": [],
   "source": [
    "! pip install -r requirements.txt"
   ]
  },
  {
   "cell_type": "markdown",
   "id": "c66f4223-63a2-438c-97cd-c0bfbdd6c442",
   "metadata": {},
   "source": [
    "## Encryption Plugins\n",
    "The secure XGBoost requires encryption plugins to work. The plugins are distributed with NVFlare package. If you build NVFlare from source, you need\n",
    "to build the plugins following the instructions in this [README](https://github.com/NVIDIA/NVFlare/blob/main/integration/xgboost/encryption_plugins/README.md)\n",
    "\n",
    "The build process will generate 2 .so files: libcuda_paillier.so and libnvflare.so. Configure the path accordingly following the instructions in \n",
    "[XGBoost User Guide](https://nvflare.readthedocs.io/en/main/user_guide/federated_xgboost/secure_xgboost_user_guide.html)\n",
    "\n",
    "## Data Preparation\n",
    "### Download and Store Data\n",
    "To run the examples, we first download the dataset from this [link](https://www.kaggle.com/datasets/mlg-ulb/creditcardfraud), which is a single `.csv` file.\n",
    "By default, we assume the dataset is downloaded, uncompressed, and stored in `/tmp/nvflare/dataset/creditcard.csv`.\n",
    "Alternatively, the following can be used to download the data"
   ]
  },
  {
   "cell_type": "code",
   "execution_count": null,
   "id": "51e4ed08-fcf2-4774-a802-260ffc74870d",
   "metadata": {},
   "outputs": [],
   "source": [
    "import kagglehub\n",
    "\n",
    "# Download latest version\n",
    "path = kagglehub.dataset_download(\"mlg-ulb/creditcardfraud\")\n",
    "\n",
    "print(\"Path to dataset files:\", path)"
   ]
  },
  {
   "cell_type": "markdown",
   "id": "37c92744-b97b-4745-9efb-d61230c6cacb",
   "metadata": {},
   "source": [
    "### Data Split\n",
    "To prepare data for further experiments, we perform the following steps:\n",
    "1. Split the dataset into training/validation and testing sets. \n",
    "2. Split the training/validation set: \n",
    "    * Into \"train\" and \"valid\" for baseline centralized training.\n",
    "    * Into \"train\" and \"valid\" for each client under horizontal setting. \n",
    "    * Into \"train\" and \"valid\" for each client under vertical setting.\n",
    "\n",
    "Data splits used in this example can be generated with"
   ]
  },
  {
   "cell_type": "code",
   "execution_count": null,
   "id": "62c65eb5-aa3f-4d6f-bb63-97a9653115cd",
   "metadata": {},
   "outputs": [],
   "source": [
    "%%sh \n",
    "prepare_data.sh"
   ]
  },
  {
   "cell_type": "markdown",
   "id": "39e955ae-d064-4e69-b8fd-c3e685fd83f8",
   "metadata": {},
   "source": [
    "This will generate data splits for 3 clients under all experimental settings.\n",
    "\n",
    "> **_NOTE:_** In this section, we have divided the dataset into separate columns for each site,\n",
    "> assuming that the datasets from different sites have already been joined using Private Set\n",
    "> Intersection (PSI). However, in practice, each site initially has its own separate dataset. To\n",
    "> combine these datasets accurately, you need to use PSI to match records with the same ID across\n",
    "> different sites. \n",
    "\n",
    "> **_NOTE:_** The generated data files will be stored in the folder `/tmp/nvflare/dataset/xgb_dataset/`,\n",
    "> and will be used by jobs by specifying the path within `config_fed_client`"
   ]
  },
  {
   "cell_type": "markdown",
   "id": "45a8e32b-22e2-44d0-ae02-e1611eea0c0c",
   "metadata": {},
   "source": [
    "## Run Baseline and Standalone Experiments\n",
    "First, we run the baseline centralized training and standalone federated XGBoost training for comparison.\n",
    "In this case, we utilized the `mock` plugin to simulate the homomorphic encryption process. \n",
    "For more details regarding federated XGBoost and the interface-plugin design,\n",
    "please refer to our [documentation](https://nvflare.readthedocs.io/en/main/user_guide/federated_xgboost/secure_xgboost_user_guide.html).\n",
    "\n",
    "To run all experiments, we provide a script for all settings."
   ]
  },
  {
   "cell_type": "code",
   "execution_count": null,
   "id": "be18fcc9-73fc-4c9d-8083-20bb2ea94fbd",
   "metadata": {},
   "outputs": [],
   "source": [
    "%%sh\n",
    "run_training_standalone.sh"
   ]
  },
  {
   "cell_type": "markdown",
   "id": "2be6ddce-bf4b-499e-b135-5592c5328967",
   "metadata": {},
   "source": [
    "This will cover baseline centralized training, federated xgboost run in the same machine\n",
    "(server and clients are running in different processes) with and without secure feature."
   ]
  },
  {
   "cell_type": "markdown",
   "id": "feb613fa-045a-4fc5-aa6b-f7a2779619f7",
   "metadata": {},
   "source": [
    "## Run Federated Experiments with NVFlare\n",
    "Next, we run the federated XGBoost training with homomorphic encryption using NVFlare. \n",
    "We run the NVFlare jobs using simulator with: "
   ]
  },
  {
   "cell_type": "code",
   "execution_count": null,
   "id": "297293bf-bf99-4a93-ab91-1757c96e61bb",
   "metadata": {},
   "outputs": [],
   "source": [
    "%%sh\n",
    "run_training_flare.sh"
   ]
  },
  {
   "cell_type": "markdown",
   "id": "ead8cbd7-58da-49d6-ae94-9ad013521829",
   "metadata": {},
   "source": [
    "The running time of each job depends mainly on the encryption workload. \n",
    "\n",
    "## Results\n",
    "Comparing the AUC results with centralized baseline, we have four observations:\n",
    "1. The performance of the model trained with homomorphic encryption is identical to its counterpart without encryption.\n",
    "2. Vertical federated learning (both secure and non-secure) have identical performance as the centralized baseline.\n",
    "3. Horizontal federated learning (both secure and non-secure) have performance slightly different from the centralized baseline. This is because under horizontal FL, the local histogram quantiles are based on the local data distribution, which may not be the same as the global distribution.\n",
    "4. GPU leads to different results compared to CPU, which is expected as the GPU involves some data conversions.\n",
    "\n",
    "Below are sample results for CPU training:\n",
    "\n",
    "The AUC of vertical learning (both secure and non-secure):\n",
    "```\n",
    "[0]\teval-auc:0.90515\ttrain-auc:0.92747\n",
    "[1]\teval-auc:0.90516\ttrain-auc:0.92748\n",
    "[2]\teval-auc:0.90518\ttrain-auc:0.92749\n",
    "```\n",
    "The AUC of horizontal learning (both secure and non-secure):\n",
    "```\n",
    "[0]\teval-auc:0.89789\ttrain-auc:0.92732\n",
    "[1]\teval-auc:0.89791\ttrain-auc:0.92733\n",
    "[2]\teval-auc:0.89791\ttrain-auc:0.92733\n",
    "```\n",
    "\n",
    "Comparing the tree models with centralized baseline, we have the following observations:\n",
    "1. Vertical federated learning (non-secure) has exactly the same tree model as the centralized baseline.\n",
    "2. Vertical federated learning (secure) has the same tree structures as the centralized baseline, however, it produces different tree records at different parties - because each party holds different feature subsets, as illustrated below.\n",
    "3. Horizontal federated learning (both secure and non-secure) have different tree models from the centralized baseline.\n",
    "\n",
    "|     ![Tree Structures](./figs/tree.base.png)      |\n",
    "|:-------------------------------------------------:|\n",
    "|                 *Baseline Model*                  |\n",
    "| ![Tree Structures](./figs/tree.vert.secure.0.png) |\n",
    "|        *Secure Vertical Model at Party 0*         |\n",
    "| ![Tree Structures](./figs/tree.vert.secure.1.png) |\n",
    "|        *Secure Vertical Model at Party 1*         |\n",
    "| ![Tree Structures](./figs/tree.vert.secure.2.png) |\n",
    "|        *Secure Vertical Model at Party 2*         |\n",
    "\n",
    "In this case we can notice that Party 0 holds Feature 7 and 10, Party 1 holds Feature 14, 17, and 12, and Party 2 holds none of the effective features for this tree - parties who do not hold the feature will and should not know the split value if it.\n",
    "\n",
    "By combining the feature splits at all parties, the tree structures will be identical to the centralized baseline model.\n",
    "\n",
    "When comparing the training and validation accuracy as well as the model outputs,\n",
    "experiments conducted with NVFlare produce results that are identical\n",
    "to those obtained from standalone scripts.\n",
    "\n",
    "For more information on the secure xgboost user guide please refer to\n",
    "https://nvflare.readthedocs.io/en/main/user_guide/federated_xgboost/secure_xgboost_user_guide.html"
   ]
  },
  {
   "cell_type": "code",
   "execution_count": null,
   "id": "0a1b461a-f56c-4c46-8bb1-38c2f7a48f71",
   "metadata": {},
   "outputs": [],
   "source": []
  }
 ],
 "metadata": {
  "kernelspec": {
   "display_name": "Python 3 (ipykernel)",
   "language": "python",
   "name": "python3"
  },
  "language_info": {
   "codemirror_mode": {
    "name": "ipython",
    "version": 3
   },
   "file_extension": ".py",
   "mimetype": "text/x-python",
   "name": "python",
   "nbconvert_exporter": "python",
   "pygments_lexer": "ipython3",
   "version": "3.13.2"
  }
 },
 "nbformat": 4,
 "nbformat_minor": 5
}
