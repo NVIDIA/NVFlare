{
 "cells": [
  {
   "cell_type": "markdown",
   "id": "d9df414c-f4d6-4527-b201-a978ed73a3b7",
   "metadata": {},
   "source": [
    "# Summary of Chapter 10"
   ]
  },
  {
   "cell_type": "markdown",
   "id": "47959d8f-e03c-4a46-a469-213dfe1909b6",
   "metadata": {},
   "source": [
    "In this chapter, we visited Federated XGBoost enabled by functionalities from both XGBoost and NVFlare.\n",
    "\n",
    "Specifically, the following items have been covered:\n",
    "\n",
    "1. **[Federated XGBoost](../10.1_fed_xgboost/fed_xgboost.ipynb)**: histogram-based and tree-based horizontal collaborations, and histogram-based vertical collaboration, are covered\n",
    "2. **[Secure Federated XGBoost](../10.2_secure_fed_xgboost/secure_fed_xgboost.ipynb)**: secure federated XGBoost with homomorphic encryption under \n",
    "histogram-based horizontal and vertical collaboration.\n",
    "\n",
    "Key takeaways of this section are:\n",
    "\n",
    "1. NVFlare enables federated training of XGBoost models, under both horizontal and vertical collaboration modes.\n",
    "2. For horizontal collaboration, federated XGBoost can be performed with tree-based and histogram-based methods, while for vertical collaboration, federated XGBoost relies on histogram-based method.\n",
    "3. To protect key information, homomorphic encryption can be added to histogram-based pipelines to ensure data confidentiality under different configurations and needs.\n",
    "\n",
    "With NVFlare providing full support of federated XGBoost with secure features, users can benefit from efficient and safe federated pipelines of tree-based machine learning algorithms for their applications.\n"
   ]
  },
  {
   "cell_type": "code",
   "execution_count": null,
   "id": "b3b7bd34-89df-486b-9ee3-34ae4427e2a3",
   "metadata": {},
   "outputs": [],
   "source": []
  }
 ],
 "metadata": {
  "kernelspec": {
   "display_name": "Python 3 (ipykernel)",
   "language": "python",
   "name": "python3"
  },
  "language_info": {
   "codemirror_mode": {
    "name": "ipython",
    "version": 3
   },
   "file_extension": ".py",
   "mimetype": "text/x-python",
   "name": "python",
   "nbconvert_exporter": "python",
   "pygments_lexer": "ipython3",
   "version": "3.13.2"
  }
 },
 "nbformat": 4,
 "nbformat_minor": 5
}
