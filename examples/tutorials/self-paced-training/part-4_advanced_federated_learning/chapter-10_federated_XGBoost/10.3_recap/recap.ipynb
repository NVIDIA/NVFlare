{
 "cells": [
  {
   "cell_type": "markdown",
   "id": "d9df414c-f4d6-4527-b201-a978ed73a3b7",
   "metadata": {},
   "source": [
    "# Summary of Chapter 10"
   ]
  },
  {
   "cell_type": "markdown",
   "id": "47959d8f-e03c-4a46-a469-213dfe1909b6",
   "metadata": {},
   "source": [
    "In this chapter, we visited Federated XGBoost enabled by functionalities from both XGBoost and NVFlare.\n",
    "\n",
    "Specifically, the following items have been covered:\n",
    "\n",
    "1. **Federated XGBoost without Encryption**\n",
    "\n",
    "Histogram-based and tree-based horizontal collaborations, and histogram-based vertical collaboration, are covered\n",
    "* [Federated XGBoost](../10.1_fed_xgboost/fed_xgboost.ipynb)\n",
    "\n",
    "2. **Secure Federated XGBoost with Homomorphic Encryption**\n",
    "\n",
    "Secure federated XGBoost with homomorphic encryption under \n",
    "histogram-based horizontal and vertical collaboration.\n",
    "* [Secure Federated XGBoost](../10.2_secure_fed_xgboost/secure_fed_xgboost.ipynb)"
   ]
  },
  {
   "cell_type": "code",
   "execution_count": null,
   "id": "b3b7bd34-89df-486b-9ee3-34ae4427e2a3",
   "metadata": {},
   "outputs": [],
   "source": []
  }
 ],
 "metadata": {
  "kernelspec": {
   "display_name": "Python 3 (ipykernel)",
   "language": "python",
   "name": "python3"
  },
  "language_info": {
   "codemirror_mode": {
    "name": "ipython",
    "version": 3
   },
   "file_extension": ".py",
   "mimetype": "text/x-python",
   "name": "python",
   "nbconvert_exporter": "python",
   "pygments_lexer": "ipython3",
   "version": "3.13.2"
  }
 },
 "nbformat": 4,
 "nbformat_minor": 5
}
