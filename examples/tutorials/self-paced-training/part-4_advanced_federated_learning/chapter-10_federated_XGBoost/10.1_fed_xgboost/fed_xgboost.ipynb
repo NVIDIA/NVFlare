{
 "cells": [
  {
   "cell_type": "markdown",
   "id": "d14f9dec-9990-46a8-b4ce-2ff81275454e",
   "metadata": {},
   "source": [
    "# Federated XGBoost\n",
    "Several mechanisms have been proposed for training an XGBoost model in a federated learning setting.\n",
    "In this section, we illustrate the use of NVFlare to carry out *horizontal* federated learning using two approaches: histogram-based collaboration and tree-based collaboration.\n",
    "And *vertical* federated learning using histogram-based collaboration."
   ]
  },
  {
   "cell_type": "markdown",
   "id": "2fce92a0-79a3-4cf2-adee-bb9c4125613c",
   "metadata": {},
   "source": [
    "## Horizontal Federated XGBoost\n",
    "Under horizontal setting, each participant joining the federated learning will have part of \n",
    "the whole data samples / instances / records, while each sample has all the features.\n",
    "\n",
    "### Histogram-based Collaboration\n",
    "The histogram-based collaboration federated XGBoost approach leverages NVFlare integration of [federated learning support](https://github.com/dmlc/xgboost/issues/7778) in the XGBoost open-source library,\n",
    "which allows the existing *distributed* XGBoost training algorithm to operate in a federated manner,\n",
    "with the federated clients acting as the distinct workers in the distributed XGBoost algorithm.\n",
    "\n",
    "In distributed XGBoost, individual workers share and aggregate gradient information about their respective portions of the training data,\n",
    "as required to optimize tree node splitting when building the successive boosted trees.\n",
    "\n",
    "![hori_hist](./figs/hori_hist.png)\n",
    "\n",
    "The shared information is in the form of quantile sketches of feature values as well as corresponding sample gradient and sample Hessian histograms (\"Local G/H\") , based on which the global information can be computed (\"Global G/H\").\n",
    "\n",
    "Under federated histogram-based collaboration, information of precisely the same structure is exchanged among the clients.\n",
    "The main differences are that the data is partitioned across the workers according to client data ownership, rather than being arbitrarily partionable, and all communication is via an aggregating federated [gRPC](https://grpc.io) server instead of direct client-to-client communication.\n",
    "Histograms from different clients, in particular, are aggregated in the server and then communicated back to the clients.\n",
    "\n",
    "### Tree-based Collaboration\n",
    "Under tree-based collaboration, individual trees are independently trained on each client's local data without aggregating the global sample gradient histogram information. \n",
    "Trained trees are collected and passed to the server / other clients for aggregation and / or further boosting rounds.\n",
    "\n",
    "Comparing with histogram-based collaboration, the major difference is that the histogram-based methods exchange the intermediate results for tree-boosting, while tree-based methods exchange the final tree model.\n",
    "\n",
    "Under this setting, we can further distinguish between two types of tree-based collaboration: cyclic and bagging.\n",
    "\n",
    "#### Cyclic Training\n",
    "\"Cyclic XGBoost\" is one way of performing tree-based federated boosting with \n",
    "multiple sites: \n",
    "\n",
    "![hori_cyclic](./figs/cyclic.png)\n",
    "\n",
    "At each round of tree boosting, instead of relying on the whole \n",
    "data statistics collected from all clients, the boosting relies on only one client's \n",
    "local data. The resulting tree sequence is then forwarded to the next client for \n",
    "next round's boosting. One full \"cycle\" will be complete when all clients have been covered.\n",
    "\n",
    "#### Bagging Aggregation\n",
    "\n",
    "\"Bagging XGBoost\" is another way of performing tree-based federated boosting with multiple sites: \n",
    "\n",
    "![hori_cyclic](./figs/tree.png)\n",
    "\n",
    "At each round of tree boosting, all sites start from the same \"global model\", and boost a number of trees (in current example, 1 tree) based on their local data. The resulting trees are then send to server. A bagging aggregation scheme is applied to all the submitted trees to update the global model, which is further distributed to all clients for next round's boosting. \n",
    "\n",
    "This scheme bears certain similarity to the [Random Forest mode](https://xgboost.readthedocs.io/en/stable/tutorials/rf.html) of XGBoost, where a `num_parallel_tree` is boosted based on random row/col splits, rather than a single tree. Under federated learning setting, such split is fixed to clients rather than random and without column subsampling. \n",
    "\n",
    "In addition to basic uniform shrinkage setting where all clients have the same learning rate, based on our research, we enabled scaled shrinkage across clients for weighted aggregation according to each client's data size, which is shown to significantly improve the model's performance on non-uniform quantity splits.\n",
    "\n",
    "Specifically, the global model is updated by aggregating the trees from all clients as a forest, and the global model is then broadcasted back to all clients for local prediction and further training.\n",
    "\n",
    "The XGBoost Booster API is leveraged to create in-memory Booster objects that persist across rounds to cache predictions from trees added in previous rounds and retain other data structures needed for training."
   ]
  },
  {
   "cell_type": "markdown",
   "id": "851e4197-db50-4054-84da-4faf4129e22c",
   "metadata": {},
   "source": [
    "## Vertical Federated XGBoost\n",
    "Under vertical setting, each participant joining the federated learning will \n",
    "have part of the whole features, while each site has all the overlapping instances.\n",
    "\n",
    "### Private Set Intersection (PSI)\n",
    "In this tutorial, we assume that all parties hold the same population but different features. \n",
    "\n",
    "In reality, however, not every site will have the same set of data samples (rows), ad we shall use PSI to first compare encrypted versions of the sites' datasets in order to jointly compute the intersection based on common IDs. To learn more about our PSI protocol implementation, see our [psi example](https://github.com/NVIDIA/NVFlare/tree/main/examples/advanced/psi/README.md).\n",
    "\n",
    "### Histogram-based Collaboration\n",
    "Similar to its horizontal counterpart, under vertical collaboration, the gradients for each sample will be first computed with label information by the active party; then the gradients will be broadcasted to all passive parties, where they will be used to compute local feature histograms, and find the local best splits with their corresponding gain values; at the last stage, all local best splits will be synced to find the global best split, with which the next split of the tree can be determined. \n",
    "\n",
    "By exchanging gradient and split information among all sites and update the global model accordingly, vertical histogram-based method can result in the exact same model as the centralized training. \n",
    "\n",
    "![vert_hist](./figs/vert_hist.png)\n",
    "\n",
    "We leverage the [vertical federated learning support](https://github.com/dmlc/xgboost/issues/8424) in the XGBoost open-source library. This allows for the distributed XGBoost algorithm to operate in a federated manner on vertically split data."
   ]
  },
  {
   "cell_type": "markdown",
   "id": "f942f5b9-bd00-4536-8c9c-ae566e303001",
   "metadata": {},
   "source": [
    "## Setup\n",
    "Install required packages for data download and training"
   ]
  },
  {
   "cell_type": "code",
   "execution_count": null,
   "id": "85d420de-1a0d-4964-bb1d-a79531c660ac",
   "metadata": {},
   "outputs": [],
   "source": [
    "%pip install -r requirements.txt"
   ]
  },
  {
   "cell_type": "markdown",
   "id": "a8718f40-04e8-42e9-85f1-e256d00f4a5c",
   "metadata": {},
   "source": [
    "## Data Preparation\n",
    "Download and Store Data\n",
    "To run the examples, we first download the dataset and stored in /tmp/nvflare/dataset/creditcard.csv with the following:"
   ]
  },
  {
   "cell_type": "code",
   "execution_count": null,
   "id": "c0e134c6-26b0-4535-bdc0-0be1801efd4e",
   "metadata": {},
   "outputs": [],
   "source": [
    "import kagglehub\n",
    "path = kagglehub.dataset_download(\"mlg-ulb/creditcardfraud\")\n",
    "! mkdir -p /tmp/nvflare/dataset/\n",
    "! cp {path}/creditcard.csv /tmp/nvflare/dataset/"
   ]
  },
  {
   "cell_type": "markdown",
   "id": "14be5301-ba4c-4139-9749-01064b45fd0d",
   "metadata": {},
   "source": [
    "### Data Split\n",
    "To prepare data for further experiments, we perform the following steps:\n",
    "1. Split the dataset into training/validation and testing sets. \n",
    "2. Split the training/validation set: \n",
    "    * Into \"train\" and \"valid\" for baseline centralized training.\n",
    "    * Into \"train\" and \"valid\" for each client under horizontal setting. \n",
    "    * Into \"train\" and \"valid\" for each client under vertical setting.\n",
    "\n",
    "Data splits used in this example can be generated with"
   ]
  },
  {
   "cell_type": "code",
   "execution_count": null,
   "id": "10141e9b-b060-4ae6-9c43-303ea3f5ef3f",
   "metadata": {},
   "outputs": [],
   "source": [
    "! bash prepare_data.sh"
   ]
  },
  {
   "cell_type": "markdown",
   "id": "317fab1c-f229-4ad3-a263-5ca0974d9245",
   "metadata": {},
   "source": [
    "This will generate data splits for 3 clients under all experimental settings.\n",
    "\n",
    "From the prints, we can see we have in total `182276` rows (data samples) for training, each with `31` columns (30 features + 1 label) \n",
    "\n",
    "For vertical splits, site-wise column assignments are: \n",
    "- site-1 split cols [0:12]\n",
    "- site-2 split cols [12:21]\n",
    "- site-3 split cols [21:31]\n",
    "\n",
    "For horizontal splits, site-wise row assignments are:\n",
    "- site-1 split rows [0:60758]\n",
    "- site-2 split rows [60758:121516]\n",
    "- site-3 split rows [121516:182276]\n",
    "\n",
    "> **_NOTE:_** In this section, we have divided the dataset into separate columns for each site,\n",
    "> assuming that the datasets from different sites have already been joined using Private Set\n",
    "> Intersection (PSI). In practice, each site initially has its own separate dataset. To\n",
    "> combine these datasets accurately, PSI is needed to match records with the same ID across\n",
    "> different sites. \n",
    "\n",
    "> **_NOTE:_** The generated data files will be stored in the folder `/tmp/nvflare/dataset/xgb_dataset/`"
   ]
  },
  {
   "cell_type": "markdown",
   "id": "7fd0b0d8-2e38-498a-becc-d34ce4b57229",
   "metadata": {},
   "source": [
    "## Experiments\n",
    "We first run the centralized trainings to get the baseline performance, then run the federated XGBoost training using NVFlare Simulator via [JobAPI](https://nvflare.readthedocs.io/en/main/programming_guide/fed_job_api.html).\n",
    "\n",
    "### Centralized Baseline\n",
    "For centralize training, we train the XGBoost model on the whole dataset.\n",
    "\n",
    "Let's first examining the data used for centralized baseline:"
   ]
  },
  {
   "cell_type": "code",
   "execution_count": null,
   "id": "2a56fee6-1659-4cb8-8273-4b1e63dcf491",
   "metadata": {},
   "outputs": [],
   "source": [
    "!tree /tmp/nvflare/dataset/xgb_dataset/base_xgb_data"
   ]
  },
  {
   "cell_type": "code",
   "execution_count": null,
   "id": "c21892e7-b481-41ba-9470-001c86f0b4ab",
   "metadata": {},
   "outputs": [],
   "source": [
    "import csv\n",
    "\n",
    "def print_first_rows_csv(file_path, num_rows=1):\n",
    "    with open(file_path, 'r') as file:\n",
    "        csv_reader = csv.reader(file)\n",
    "        for i, row in enumerate(csv_reader):\n",
    "            if i >= num_rows:\n",
    "                break\n",
    "            print(','.join(row))\n",
    "\n",
    "file_path = '/tmp/nvflare/dataset/xgb_dataset/base_xgb_data/train.csv'\n",
    "print_first_rows_csv(file_path)"
   ]
  },
  {
   "cell_type": "code",
   "execution_count": null,
   "id": "9b64a449-45f2-45af-8f7f-161a767a2152",
   "metadata": {},
   "outputs": [],
   "source": [
    "! python train_base.py "
   ]
  },
  {
   "cell_type": "markdown",
   "id": "2ffb6344-3bed-4089-a546-1818588f5751",
   "metadata": {},
   "source": [
    "The results by default will be stored in the folder `/tmp/nvflare/workspace/fedxgb/train_base/`."
   ]
  },
  {
   "cell_type": "markdown",
   "id": "6a0c9c8a-c90f-4fcb-b3ed-601e79f7f1f9",
   "metadata": {},
   "source": [
    "### Horizontal Experiments\n",
    "Let's take a look at the dataset for horizontal experiments."
   ]
  },
  {
   "cell_type": "code",
   "execution_count": null,
   "id": "5645c9d6-5711-4a3c-bf1b-f777b0460831",
   "metadata": {},
   "outputs": [],
   "source": [
    "!tree /tmp/nvflare/dataset/xgb_dataset/horizontal_xgb_data/"
   ]
  },
  {
   "cell_type": "markdown",
   "id": "739b0cb0-2760-4d3f-85e9-382470ffa04c",
   "metadata": {},
   "source": [
    "First row of site-1 data, should be identical to the first row of baseline data:"
   ]
  },
  {
   "cell_type": "code",
   "execution_count": null,
   "id": "1c07cdf1-fda6-47c3-aa31-e963a20a9a72",
   "metadata": {},
   "outputs": [],
   "source": [
    "file_path = '/tmp/nvflare/dataset/xgb_dataset/horizontal_xgb_data/site-1/train.csv'\n",
    "print_first_rows_csv(file_path)"
   ]
  },
  {
   "cell_type": "markdown",
   "id": "7400fd5e-c094-4ae3-9f00-7c10aee71d78",
   "metadata": {},
   "source": [
    "The following cases will be covered:\n",
    "- Histogram-based collaboration\n",
    "- Tree-based collaboration with cyclic training \n",
    "- Tree-based collaboration with bagging training \n",
    "\n",
    "The experiments can be run with:"
   ]
  },
  {
   "cell_type": "code",
   "execution_count": null,
   "id": "1a6189d1-285d-4473-9f9f-71b40c794c19",
   "metadata": {},
   "outputs": [],
   "source": [
    "%%capture\n",
    "! python xgb_fl_job.py --training_algo histogram --data_split_mode horizontal\n",
    "! python xgb_fl_job.py --training_algo cyclic --data_split_mode horizontal\n",
    "! python xgb_fl_job.py --training_algo bagging --data_split_mode horizontal"
   ]
  },
  {
   "cell_type": "markdown",
   "id": "e13d0737-80fd-4a7e-8349-223fcd7badf8",
   "metadata": {},
   "source": [
    "### Vertical Experiment\n",
    "Let's take a look at the dataset for vertical experiments:"
   ]
  },
  {
   "cell_type": "code",
   "execution_count": null,
   "id": "400c3500-98e1-44f1-9d17-72daeb213499",
   "metadata": {},
   "outputs": [],
   "source": [
    "!tree /tmp/nvflare/dataset/xgb_dataset/vertical_xgb_data/"
   ]
  },
  {
   "cell_type": "markdown",
   "id": "f5243e40-6fe1-483b-b6dd-3104bd03ba2d",
   "metadata": {},
   "source": [
    "First row of site-1/2/3 data combined together, should be identical to the first row of baseline data:"
   ]
  },
  {
   "cell_type": "code",
   "execution_count": null,
   "id": "6553a564-4fe9-413b-b8e9-07f15dc806e7",
   "metadata": {},
   "outputs": [],
   "source": [
    "file_path = '/tmp/nvflare/dataset/xgb_dataset/vertical_xgb_data/site-1/train.csv'\n",
    "print_first_rows_csv(file_path)\n",
    "file_path = '/tmp/nvflare/dataset/xgb_dataset/vertical_xgb_data/site-2/train.csv'\n",
    "print_first_rows_csv(file_path)\n",
    "file_path = '/tmp/nvflare/dataset/xgb_dataset/vertical_xgb_data/site-3/train.csv'\n",
    "print_first_rows_csv(file_path)"
   ]
  },
  {
   "cell_type": "markdown",
   "id": "818d9f5d-e0f1-4d6c-881a-ea44d9712f14",
   "metadata": {},
   "source": [
    "Histogram-based collaboration will be performed for vertical setting:"
   ]
  },
  {
   "cell_type": "code",
   "execution_count": null,
   "id": "c38ad75c-dccf-44c9-889b-758225a26d08",
   "metadata": {},
   "outputs": [],
   "source": [
    "%%capture\n",
    "! python xgb_fl_job.py --training_algo histogram --data_split_mode vertical"
   ]
  },
  {
   "cell_type": "markdown",
   "id": "8017a2c8-5e4b-4d3b-995d-4226b6845f59",
   "metadata": {},
   "source": [
    "## Results\n",
    "We can visualize the results via tensorboard records:"
   ]
  },
  {
   "cell_type": "code",
   "execution_count": null,
   "id": "d6611189-245c-4a1a-b182-0d080b8e094a",
   "metadata": {},
   "outputs": [],
   "source": [
    "%load_ext tensorboard\n",
    "%tensorboard --logdir /tmp/nvflare/workspace/fedxgb/works"
   ]
  },
  {
   "cell_type": "markdown",
   "id": "45684795-ce6c-466f-ad2a-86146f8247ea",
   "metadata": {},
   "source": [
    "For reference, the training curves for the four settings are below:\n",
    "\n",
    "![training_curves](./figs/training_curves.png)\n",
    "\n",
    "As shown, for this task, histogram-based methods, both vertical and horizontal, result in almost identical curves, and achieve better results as compared with bagging / cyclic.\n",
    "Bagging and cyclic also converge to same training accuracy at the end of training. \n",
    "\n",
    "Also as expected, vertical histogram-based method achieves identical performance as baseline training."
   ]
  },
  {
   "cell_type": "markdown",
   "id": "8f38ab06-2fdc-4dfe-947c-83397b6db8e2",
   "metadata": {},
   "source": [
    "Now let's move on to next section [Secure Federated XGBoost with Homomorphic Encryption](../10.2_secure_fed_xgboost/secure_fed_xgboost.ipynb) to see how to protect data privacy during histogram-based collaborations with federated learning and encryption"
   ]
  },
  {
   "cell_type": "code",
   "execution_count": null,
   "id": "a8e5d474-c4be-4d99-8881-3fac805ae82c",
   "metadata": {},
   "outputs": [],
   "source": []
  }
 ],
 "metadata": {
  "kernelspec": {
   "display_name": "Python 3 (ipykernel)",
   "language": "python",
   "name": "python3"
  },
  "language_info": {
   "codemirror_mode": {
    "name": "ipython",
    "version": 3
   },
   "file_extension": ".py",
   "mimetype": "text/x-python",
   "name": "python",
   "nbconvert_exporter": "python",
   "pygments_lexer": "ipython3",
   "version": "3.13.2"
  }
 },
 "nbformat": 4,
 "nbformat_minor": 5
}
