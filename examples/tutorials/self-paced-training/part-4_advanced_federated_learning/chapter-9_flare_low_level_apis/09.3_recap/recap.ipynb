{
 "cells": [
  {
   "cell_type": "markdown",
   "metadata": {},
   "source": [
    "# Recap\n",
    "\n",
    "In this chapter, we've delved into the low-level APIs of NVFlare to build custom components and algorithms, using peer-to-peer (P2P) distributed optimization as our guiding example and basically walking through the basic implementation fo the `nvflare.app_opt.p2p` module.\n",
    "\n",
    "We began by exploring how P2P algorithms require clients to communicate directly with each other without relying on a central server. NVFlare's architecture natively supports such communication patterns, making it an excellent framework for implementing decentralized algorithms.\n",
    "\n",
    "In [Section 1](../09.1_controllers/building_a_custom_controller.ipynb), we focused on building a custom `Controller` named `DistOptController`. This server-side component is responsible for:\n",
    "\n",
    "- Loading and broadcasting the network configuration to clients, ensuring each client knows its neighbors and communication parameters.\n",
    "- Initiating and terminating the execution of the P2P algorithm across the clients.\n",
    "\n",
    "We delved into key components like `FLContext`, `Signal`, `Task`, `DXO`, and `Shareable`, explaining their roles in the NVFlare ecosystem and how they facilitate communication and orchestration.\n",
    "\n",
    "In [Section 2](../09.2_executors/building_custom_executors.ipynb), we built a custom `Executor` called `SyncAlgorithmExecutor`. This client-side component handles:\n",
    "\n",
    "- Receiving configurations from the controller.\n",
    "- Communicating with neighboring clients using auxiliary channels (`send_aux_request` and `register_aux_message_handler`), enabling direct client-to-client messages.\n",
    "- Synchronizing execution using threading primitives like `threading.Event` and `threading.Lock`.\n",
    "- Running the algorithm, where each client performs computations and coordinates with others in a synchronized manner.\n",
    "\n",
    "As a concrete example, we implemented the consensus algorithm in the `ConsensusExecutor`. This demonstrated how clients iteratively update their local values by incorporating information from their neighbors, eventually reaching a consensus.\n",
    "\n",
    "Throughout the tutorial, we've shown how NVFlare's flexibility and powerful low-level APIs allow developers to:\n",
    "\n",
    "- Customize communication patterns beyond the traditional centralized federated learning models.\n",
    "- Implement complex algorithms that require intricate client coordination and synchronization.\n",
    "- Leverage built-in components like `Controller` and `Executor` to manage the flow of distributed tasks efficiently.\n",
    "\n",
    "The full implementation of the novel components we built is natively available in NVFlare's `nvflare.app_opt.p2p` module.\n",
    "\n",
    "By understanding these concepts and building blocks, you can extend NVFlare to suit advanced distributed learning scenarios, tailor-made for the specific needs of your applications. We encourage you to explore further, experiment with different algorithms, and contribute to the evolving landscape of federated learning using NVFlare."
   ]
  }
 ],
 "metadata": {
  "language_info": {
   "name": "python"
  }
 },
 "nbformat": 4,
 "nbformat_minor": 2
}
