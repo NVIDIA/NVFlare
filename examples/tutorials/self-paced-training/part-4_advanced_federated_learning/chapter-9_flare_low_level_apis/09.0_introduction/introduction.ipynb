{
 "cells": [
  {
   "cell_type": "markdown",
   "metadata": {},
   "source": [
    "# NVFlare low-level APIs\n",
    "\n",
    "In this chapter, we will explore some of the low-level APIs available in NVFlare to build fully custom components and algorithms.\n",
    "\n",
    "We'll explore the following topics:\n",
    "\n",
    "- [Building custom components](../09.1_building_custom_components/building_custom_components.ipynb) - we'll discuss how to implement custom `Controller`s and `Executor`s and instantiate them\n",
    "- [Sending and receiving tasks and data](../09.2_tasks_and_data_share/tasks_and_data_share.ipynb) - we'll see how to send and receive tasks and data between the `Controller` and `Executor`s\n",
    "- [Peer-to-peer communincation](../09.3_p2p_communication/p2p_communication.ipynb) - we'll see how to implement peer-to-peer communication between `Executor`s\n",
    "- [Implementing custom P2P algorithms](../09.4_implementing_p2p_algorithms/) - we'll put together what we learned in the previous sections to implement custom peer-to-peer algorithms. As a guiding example, we will walk through how to implement from scratch the `nvflare.app_opt.p2p` module, which implements peer-to-peer (P2P) distributed optimization algorithms.\n"
   ]
  }
 ],
 "metadata": {
  "kernelspec": {
   "display_name": "Python 3 (ipykernel)",
   "language": "python",
   "name": "python3"
  },
  "language_info": {
   "codemirror_mode": {
    "name": "ipython",
    "version": 3
   },
   "file_extension": ".py",
   "mimetype": "text/x-python",
   "name": "python",
   "nbconvert_exporter": "python",
   "pygments_lexer": "ipython3",
   "version": "3.12.7"
  }
 },
 "nbformat": 4,
 "nbformat_minor": 4
}
