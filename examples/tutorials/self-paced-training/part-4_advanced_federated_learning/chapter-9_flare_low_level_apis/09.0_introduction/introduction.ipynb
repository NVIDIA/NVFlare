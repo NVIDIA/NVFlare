{
 "cells": [
  {
   "cell_type": "markdown",
   "metadata": {},
   "source": [
    "# Building on top of low-level NVFlare APIs\n",
    "\n",
    "In this chapter, we will explore some of the low-level APIs available in NVFlare to build fully custom components and algorithms.\n",
    "\n",
    "### P2P distributed optimization as a guiding example\n",
    "\n",
    "As a guiding example, we will walk through how to implement from scratch the `nvflare.app_opt.p2p` module, which implements peer-to-peer (P2P) distributed optimization algorithms.\n",
    "\n",
    "In peer-to-peer (P2P) algorithms, being distributed optimization or decentralized federated learning algorithms, clients communicate directly with each other without relying on a central server to aggregate updates. Implementing P2P algorithms usually requires careful orchestration to handle communication, synchronization, and data exchange among clients.\n",
    "\n",
    "Thankfully, NVFlare natively provides the primitives to easily build such a system. In fact, it natively supports various communication and orchestration patterns, including peer-to-peer interactions, which are crucial for decentralized algorithms.\n",
    "\n",
    "### What to expect\n",
    "\n",
    "- In [section 1](../09.1_controllers/building_a_custom_controller.ipynb) we will look at [Controllers](https://nvflare.readthedocs.io/en/2.5/apidocs/nvflare.apis.impl.controller.html#module-nvflare.apis.impl.controller), components that manage job execution and orchestrate [tasks](https://nvflare.readthedocs.io/en/2.5/apidocs/nvflare.apis.controller_spec.html#nvflare.apis.controller_spec.Task). We will show how to build a custom server-side controller, able to configure multiple clients and orchestrate their execution of P2P algorithms, via some of its methods, like `broadcast_and_wait` or `send_and_wait`.\n",
    "- In [section 2](../09.2_executors/building_custom_executors.ipynb) we will look at [Executors](https://nvflare.readthedocs.io/en/2.5/apidocs/nvflare.apis.executor.html#module-nvflare.apis.executor), components that perform computations and handle tasks received from the controller. We will show how to build a custom client-side executor, able to perform P2P communication and orchestration. To implement P2P interactions, we will exploit sending [messages via aux channes](https://nvflare.readthedocs.io/en/2.5/apidocs/nvflare.private.aux_runner.html#nvflare.private.aux_runner.AuxRunner.send_aux_request), a Flare feature that enables direct communication between clients.\n"
   ]
  }
 ],
 "metadata": {
  "language_info": {
   "name": "python"
  }
 },
 "nbformat": 4,
 "nbformat_minor": 2
}
