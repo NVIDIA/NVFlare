{
 "cells": [
  {
   "cell_type": "markdown",
   "metadata": {},
   "source": [
    "# Recap\n",
    "\n",
    "In this chapter, we delved into the low-level APIs of NVFlare to build fully custom components and algorithms.\n",
    "\n",
    "- In [Building custom components](../09.1_building_custom_components/building_custom_components.ipynb) we discussed Flare components and how to implement custom `Controller`s and `Executor`s\n",
    "- In [Sending and receiving tasks and data](../09.2_tasks_and_data_share/tasks_and_data_share.ipynb) we discovered how to send and receive tasks and data between the `Controller` and `Executor`s\n",
    "- In [Peer-to-peer communincation](../09.3_p2p_communication/p2p_communication.ipynb) we explored aux channels for peer-to-peer communication between `Executor`s\n",
    "- Finally, in [Implementing custom P2P algorithms](../09.4_implementing_p2p_algorithms/) we put together all our learnings to implement custom peer-to-peer algorithms for distributed optimization."
   ]
  }
 ],
 "metadata": {
  "language_info": {
   "name": "python"
  }
 },
 "nbformat": 4,
 "nbformat_minor": 2
}
