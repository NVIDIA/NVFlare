{
 "cells": [
  {
   "cell_type": "markdown",
   "id": "1e333915-6759-4d82-9f83-2bccc42ca047",
   "metadata": {},
   "source": [
    "Federated Language Models - from NLP to LLM"
   ]
  },
  {
   "cell_type": "markdown",
   "id": "c96f5007-8c62-4d61-bd97-6b31a3f5b0db",
   "metadata": {},
   "source": [
    "In this chapter, we will explore the federated learning applications on language models. "
   ]
  }
 ],
 "metadata": {
  "kernelspec": {
   "display_name": "Python 3 (ipykernel)",
   "language": "python",
   "name": "python3"
  },
  "language_info": {
   "codemirror_mode": {
    "name": "ipython",
    "version": 3
   },
   "file_extension": ".py",
   "mimetype": "text/x-python",
   "name": "python",
   "nbconvert_exporter": "python",
   "pygments_lexer": "ipython3",
   "version": "3.13.2"
  }
 },
 "nbformat": 4,
 "nbformat_minor": 5
}
