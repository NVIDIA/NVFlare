{
 "cells": [
  {
   "cell_type": "markdown",
   "id": "bd6a19ac-0975-4dcc-b952-37654ae8ecb9",
   "metadata": {},
   "source": [
    "# Workflows and Controllers in NVIDIA FLARE"
   ]
  },
  {
   "cell_type": "markdown",
   "id": "0ffc7a47",
   "metadata": {},
   "source": [
    "In NVFlare, a workflow consists of one or more controllers, each implementing a specific coordination strategy. For example, the **ScatterAndGather (SAG)** controller follows a widely used approach akin to federated averaging, while the **CrossSiteValidation** controller enables each client site to evaluate models from every other site. You can design workflows using any number and combination of controllers.\n",
    "\n",
    "To support controller development, we provide the **FLModel**-based [ModelController API](https://nvflare.readthedocs.io/en/main/programming_guide/controllers/model_controller.html#model-controller), a user-friendly interface for writing custom controllers. For advanced use cases, the low-level [Controller API](https://nvflare.readthedocs.io/en/main/programming_guide/controllers/controllers.html#controllers) offers more FLARE-specific functionalities and is the foundation for many existing workflows.\n",
    "\n",
    "We’ve implemented several server-controlled federated learning workflows—such as FedAvg, cyclic coordination, and cross-site evaluation—using server-side controllers. In these workflows, FL clients receive tasks from the controller, perform them, and return the results to the server.\n",
    "\n",
    "However, when the server cannot be trusted with sensitive information, [Client Controlled Workflows (CCWF)](https://nvflare.readthedocs.io/en/main/programming_guide/controllers/client_controlled_workflows.html), e.g., used for implementing [Swarm Learning](https://www.nature.com/articles/s41586-021-03583-3), allow clients to communicate directly in a peer-to-peer fashion, ensuring greater privacy and decentralization.\n"
   ]
  },
  {
   "cell_type": "markdown",
   "id": "b84ce88e",
   "metadata": {},
   "source": [
    "Controllers can be configured in `config_fed_server.json` in the workflows section or by using the [Job API](https://nvflare.readthedocs.io/en/main/programming_guide/fed_job_api.html)."
   ]
  },
  {
   "cell_type": "code",
   "execution_count": null,
   "id": "12dc8deb",
   "metadata": {
    "vscode": {
     "languageId": "json"
    }
   },
   "outputs": [],
   "source": [
    "workflows = [\n",
    "    {\n",
    "        id = \"fedavg_ctl\",\n",
    "        name = \"FedAvg\",\n",
    "        args {\n",
    "            min_clients = 2,\n",
    "            num_rounds = 3,\n",
    "            persistor_id = \"persistor\"\n",
    "        }\n",
    "    }\n",
    "]"
   ]
  },
  {
   "cell_type": "markdown",
   "id": "992a0902",
   "metadata": {},
   "source": [
    "To configure controllers using the **JobAPI**, define the controller and send it to the server. This code will automatically generate the server configuration for the controller:"
   ]
  },
  {
   "cell_type": "code",
   "execution_count": null,
   "id": "999aa8e7",
   "metadata": {
    "vscode": {
     "languageId": "json"
    }
   },
   "outputs": [],
   "source": [
    "controller = FedAvg(\n",
    "    num_clients=2,\n",
    "    num_rounds=3,\n",
    "    persistor_id = \"persistor\"\n",
    ")\n",
    "job.to(controller, \"server\")"
   ]
  },
  {
   "cell_type": "markdown",
   "id": "05a4e8ed",
   "metadata": {},
   "source": [
    "### Examples of Workflows\n",
    "\n",
    "A good starting point, it the ModelController-based FedAvg implmentation. Controller for FedAvg Workflow. Note: This class is based on the ModelController. Implements [FederatedAveraging](https://arxiv.org/abs/1602.05629).\n",
    "\n",
    "- [FedAvg](https://nvflare.readthedocs.io/en/main/apidocs/nvflare.app_common.workflows.fedavg.html#module-nvflare.app_common.workflows.fedavg)\n",
    "\n",
    "You can find several examples of controllers using the low-level API can be found in our documentation\n",
    "\n",
    "- [Scatter and Gather Workflow](https://nvflare.readthedocs.io/en/main/programming_guide/controllers/scatter_and_gather_workflow.html)\n",
    "- [Cross Site Model Evaluation / Federated Evaluation](https://nvflare.readthedocs.io/en/main/programming_guide/controllers/cross_site_model_evaluation.html)\n",
    "- [Cyclic Workflow](https://nvflare.readthedocs.io/en/main/programming_guide/controllers/cyclic_workflow.html)\n",
    "- [Initialize Global Weights Workflow for Client-Side Global Model Initialization](https://nvflare.readthedocs.io/en/main/programming_guide/controllers/initialize_global_weights.html)\n",
    "\n",
    "### Client-Controlled Workflows\n",
    "For details on how to develop, client-controlled workflows, please see the documentation [here](https://nvflare.readthedocs.io/en/main/programming_guide/controllers/client_controlled_workflows.html#client-controlled-workflow-development-framework), detailing the implementation of \"cyclic learing\", \"swarm learning\", and \"cross-site evaluation\".\n"
   ]
  },
  {
   "cell_type": "markdown",
   "id": "e03eeb49",
   "metadata": {},
   "source": [
    "Next, we will run some advanced FL algorithms, such as FedProx and FedOpt, some of which require modifying the client code only, while others require additional modification on the server-side controller implementation."
   ]
  }
 ],
 "metadata": {
  "kernelspec": {
   "display_name": "nvflare_example",
   "language": "python",
   "name": "nvflare_example"
  },
  "language_info": {
   "codemirror_mode": {
    "name": "ipython",
    "version": 3
   },
   "file_extension": ".py",
   "mimetype": "text/x-python",
   "name": "python",
   "nbconvert_exporter": "python",
   "pygments_lexer": "ipython3",
   "version": "3.10.2"
  }
 },
 "nbformat": 4,
 "nbformat_minor": 5
}
