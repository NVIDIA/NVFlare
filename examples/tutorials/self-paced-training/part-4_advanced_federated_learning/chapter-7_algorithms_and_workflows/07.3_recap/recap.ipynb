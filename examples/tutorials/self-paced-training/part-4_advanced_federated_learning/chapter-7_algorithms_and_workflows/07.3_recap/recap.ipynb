{
 "cells": [
  {
   "cell_type": "markdown",
   "id": "28ae919c-43a6-4108-9db8-ec1991911fd3",
   "metadata": {},
   "source": [
    "# Summary of Chapter 7\n",
    "\n",
    "## Overview\n",
    "Chapter 7 explored advanced federated learning algorithms and workflows that extend beyond basic federated averaging (FedAvg). The chapter covered several key sections:\n",
    "\n",
    "### 1. Workflow Patterns\n",
    "- Introduced NVFlare's workflow and controller concepts\n",
    "- Explored different patterns for organizing federated learning processes\n",
    "- Demonstrated how to implement and customize workflow patterns\n",
    "\n",
    "### 2. Advanced Algorithms\n",
    "The chapter covered two advanced federated learning algorithms:\n",
    "\n",
    "#### Advanced FL Algorithms\n",
    "- FedOpt: An optimization-based approach to the global model update in federated learning\n",
    "- SCAFFOLD: A variance reduction technique for improving convergenge on non-IID datasets in federated learning\n",
    "\n",
    "#### Cyclic Workflow\n",
    "- Demonstrated cyclic weight transfer techniques\n",
    "- Showed how to implement cyclic training patterns\n",
    "- Explored use cases for cyclic workflows\n",
    "\n",
    "#### Swarm Learning\n",
    "- Introduced decentralized training approaches\n",
    "- Covered peer-to-peer learning patterns\n",
    "- Demonstrated our swarm learning implementation\n",
    "\n",
    "#### Split Learning\n",
    "- Explored vertical federated learning setups\n",
    "- Covered split learning architectures\n",
    "- Demonstrated how to implement split learning with NVFlare\n",
    "\n",
    "## Key Takeaways\n",
    "- Understanding of different federated learning workflow patterns\n",
    "- Ability to implement various advanced federated learning algorithms\n",
    "- Knowledge of when to apply different approaches based on use cases\n",
    "- Practical experience with implementing advanced federated learning solutions\n",
    "\n",
    "Now let's move on to [Chapter 8](../../chapter-8_federated_LLM_training/08.0_introduction/introduction.ipynb).\n"
   ]
  }
 ],
 "metadata": {
  "kernelspec": {
   "display_name": "nvflare_example",
   "language": "python",
   "name": "nvflare_example"
  },
  "language_info": {
   "codemirror_mode": {
    "name": "ipython",
    "version": 3
   },
   "file_extension": ".py",
   "mimetype": "text/x-python",
   "name": "python",
   "nbconvert_exporter": "python",
   "pygments_lexer": "ipython3",
   "version": "3.10.2"
  }
 },
 "nbformat": 4,
 "nbformat_minor": 5
}
