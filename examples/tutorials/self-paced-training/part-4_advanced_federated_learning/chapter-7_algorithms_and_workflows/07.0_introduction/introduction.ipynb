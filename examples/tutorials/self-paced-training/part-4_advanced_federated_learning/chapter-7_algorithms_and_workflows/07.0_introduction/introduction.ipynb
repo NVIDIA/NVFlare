{
 "cells": [
  {
   "cell_type": "markdown",
   "id": "a52e1481",
   "metadata": {},
   "source": [
    "# Advanced Federated Learning Algorithms and Workflows\n",
    "\n",
    "This chapter explores sophisticated approaches to federated learning that go beyond the basic federated averaging (FedAvg) algorithm. We'll dive into various workflow patterns and specialized algorithms that address different challenges in federated learning scenarios."
   ]
  },
  {
   "cell_type": "markdown",
   "id": "49cd551e",
   "metadata": {},
   "source": [
    "## Overview\n",
    "\n",
    "In this chapter, we'll cover several advanced federated learning approaches:\n",
    "\n",
    "1. **Different Workflow Patterns**\n",
    "   First, we'll introduce NVFlare's workflow and controller concepts.\n",
    "   * [Different Workflow Patterns](../07.1_workflows/different_workflow_patterns.ipynb)\n",
    "\n",
    "2. **Algorithms**\n",
    "   We will explore several different federated learning algorithms.\n",
    "   * [Advanced Algorithms](../07.2_algorithms/07.2.1_advanced_algos/advanced_fl_algorithms.ipynb) (FedOpt & SCAFFOLD)\n",
    "   * [Cyclic Workflow](../07.2_algorithms/07.2.2_cyclic/cyclic_weight_transfer_example.ipynb)\n",
    "   * [Split Learning](../07.2_algorithms/07.2.3_split_learning/vertical_federated_learning_introduction.ipynb)\n",
    "   * [Swarm Learning](../07.2_algorithms/07.2.4_swarm_learning/swarm_learning.ipynb)\n"
   ]
  },
  {
   "cell_type": "markdown",
   "id": "12286527",
   "metadata": {},
   "source": [
    "## Learning Objectives\n",
    "\n",
    "By the end of this tutorial, you will be able to:\n",
    "\n",
    "- Understand and implement different federated learning workflow patterns\n",
    "- Apply cyclic weight transfer techniques in federated learning scenarios\n",
    "- Implement split learning and vertical federated learning solutions\n",
    "- Deploy swarm learning approaches for decentralized training\n",
    "- Choose appropriate algorithms and workflows for specific use cases"
   ]
  },
  {
   "cell_type": "markdown",
   "id": "3273fc20",
   "metadata": {},
   "source": [
    "## Getting Started\n",
    "\n",
    "Each section of this tutorial includes practical examples and code implementations. We recommend following the sections in order, as they build upon each other. Let's begin by exploring different workflow patterns in federated learning!"
   ]
  }
 ],
 "metadata": {
  "kernelspec": {
   "display_name": "nvflare_example",
   "language": "python",
   "name": "nvflare_example"
  },
  "language_info": {
   "codemirror_mode": {
    "name": "ipython",
    "version": 3
   },
   "file_extension": ".py",
   "mimetype": "text/x-python",
   "name": "python",
   "nbconvert_exporter": "python",
   "pygments_lexer": "ipython3",
   "version": "3.10.2"
  }
 },
 "nbformat": 4,
 "nbformat_minor": 5
}
