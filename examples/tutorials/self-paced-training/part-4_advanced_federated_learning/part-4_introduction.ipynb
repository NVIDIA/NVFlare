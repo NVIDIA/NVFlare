{
 "cells": [
  {
   "cell_type": "markdown",
   "metadata": {},
   "source": [
    "# Part 4: Advanced Federated Learning"
   ]
  },
  {
   "cell_type": "markdown",
   "metadata": {},
   "source": [
    "[Chapter 7 Federated Learning Algorithms and Workflows](./chapter-7_algorithms_and_workflows/07.0_introduction/introduction.ipynb)\n",
    "\n",
    "[Chapter 8 Federated LLM training](./chapter-8_federated_LLM_training/08.0_introduction/introduction.ipynb)\n",
    "\n",
    "[Chapter 9 FLARE Low-level APIs](./chapter-9_flare_low_level_apis/09.0_introduction/introduction.ipynb)\n",
    "\n",
    "[Chapter 10 Federated XGBoost](./chapter-10_federated_XGBoost/10.0_introduction/introduction.ipynb)\n"
   ]
  },
  {
   "cell_type": "markdown",
   "metadata": {},
   "source": [
    "In previous parts, we have discussed basics of federated learning, introduced the federated computing platform, simulation, deployment, and interactions, dive into privacy and security. Now we are coming back to dive into further into federated learning with advanced topics: \n",
    "\n",
    "* Different federated learning algorithms such as FedOpt, FedProx etc.\n",
    "* Different federated learning workflows: cyclic, split learning, swarm learning\n",
    "* how to train or fine-tune large language models\n",
    "* how to train secure federated XGBoost\n",
    "* FLARE high-Level vs. low-level APIs: dive into low-level but powerful APIs\n"
   ]
  },
  {
   "cell_type": "markdown",
   "metadata": {},
   "source": []
  },
  {
   "cell_type": "markdown",
   "metadata": {},
   "source": []
  }
 ],
 "metadata": {
  "language_info": {
   "name": "python"
  }
 },
 "nbformat": 4,
 "nbformat_minor": 2
}
