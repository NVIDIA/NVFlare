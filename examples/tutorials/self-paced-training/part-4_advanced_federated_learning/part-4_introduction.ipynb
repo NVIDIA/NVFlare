{
 "cells": [
  {
   "cell_type": "markdown",
   "metadata": {},
   "source": [
    "# Part 4: Advanced Federated Learning"
   ]
  },
  {
   "cell_type": "markdown",
   "metadata": {},
   "source": [
    "[Chapter 4.1 Federated Learning Algorithms and Workflows](chapter-4.1_algorithms_and_workflows/04.1.0_introduction.ipynb)\n",
    "\n",
    "[Chapter 4.2 Federated LLM training](chapter-4.2_federated_LLM_training/04.2.0_introduction.ipynb)\n",
    "\n",
    "[Chapter 4.3 Federated XGBoost](chapter-4.3_federated_XGBoost/04.3.0_introduction.ipynb)\n",
    "\n",
    "[Chapter 4.4 FLARE low-level APIs](./chapter-4.4_flare_low_level_apis.ipynb/04.4.0_introduction.ipynb)\n"
   ]
  },
  {
   "cell_type": "markdown",
   "metadata": {},
   "source": [
    "In previous parts, we have discussed basics of federated learning, introduced the federated computing platform, simulation, deployment, and interactions, dive into privacy and security. Now we are coming back to dive into further into federated learning with advanced topics: \n",
    "\n",
    "* Different federated learning algorithms such as FedOpt, FedProx etc.\n",
    "* Different federated learning workflows: cyclic, split learning, swarm learning\n",
    "* how to train or fine-tune large language models\n",
    "* how to train secure federated XGBoost\n",
    "* FLARE high-Level vs. low-level APIs: dive into low-level but powerful APIs\n"
   ]
  },
  {
   "cell_type": "markdown",
   "metadata": {},
   "source": []
  }
 ],
 "metadata": {
  "language_info": {
   "name": "python"
  }
 },
 "nbformat": 4,
 "nbformat_minor": 2
}
