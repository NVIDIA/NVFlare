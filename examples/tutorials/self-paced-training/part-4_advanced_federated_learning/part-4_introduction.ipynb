{
 "cells": [
  {
   "cell_type": "markdown",
   "id": "612e3f28",
   "metadata": {},
   "source": [
    "# Part 4: Advanced Federated Learning with NVIDIA FLARE\n",
    "\n",
    "This section explores advanced topics and techniques in federated learning using NVIDIA FLARE. You will learn about cutting-edge algorithms, workflows, large language model (LLM) training, secure XGBoost, and the distinction between high-level and low-level APIs.\n",
    "\n",
    "## What You'll Learn\n",
    "\n",
    "- Advanced federated learning algorithms: FedOpt, FedProx, and more\n",
    "- Workflows: cyclic, split learning, swarm learning\n",
    "- Training and fine-tuning large language models (LLMs) with NVIDIA FLARE\n",
    "- Secure federated XGBoost\n",
    "- High-level vs. low-level APIs in NVIDIA FLARE\n",
    "\n",
    "## Chapters Overview\n",
    "\n",
    "### Chapter 7: Federated Learning Algorithms and Workflows [[View on GitHub](https://github.com/NVIDIA/NVFlare/blob/main/examples/tutorials/self-paced-training/part-4_advanced_federated_learning/chapter-7_algorithms_and_workflows/07.0_introduction/introduction.ipynb)]\n",
    "- Explore various federated learning algorithms and workflow strategies with NVIDIA FLARE\n",
    "\n",
    "### Chapter 8: Federated LLM Training [[View on GitHub](https://github.com/NVIDIA/NVFlare/blob/main/examples/tutorials/self-paced-training/part-4_advanced_federated_learning/chapter-8_federated_LLM_training/08.0_introduction/introduction.ipynb)]\n",
    "- Learn how to train and fine-tune large language models in a federated setting with NVIDIA FLARE\n",
    "\n",
    "### Chapter 9: NVIDIA FLARE Low-level APIs [[View on GitHub](https://github.com/NVIDIA/NVFlare/blob/main/examples/tutorials/self-paced-training/part-4_advanced_federated_learning/chapter-9_flare_low_level_apis/09.0_introduction/introduction.ipynb)]\n",
    "- Discover the power and flexibility of NVIDIA FLARE's low-level APIs\n",
    "\n",
    "### Chapter 10: Federated XGBoost [[View on GitHub](https://github.com/NVIDIA/NVFlare/blob/main/examples/tutorials/self-paced-training/part-4_advanced_federated_learning/chapter-10_federated_XGBoost/10.0_introduction/introduction.ipynb)]\n",
    "- Step-by-step guide to secure federated XGBoost with NVIDIA FLARE\n",
    "\n",
    "## Tips\n",
    "\n",
    "- Each notebook is self-contained; start with any topic of interest.\n",
    "- For a comprehensive understanding, follow the chapters sequentially.\n",
    "- Refer to the official NVIDIA FLARE documentation for more details and troubleshooting."
   ]
  }
 ],
 "metadata": {
  "language_info": {
   "name": "python"
  }
 },
 "nbformat": 4,
 "nbformat_minor": 2
}
