{
 "cells": [
  {
   "cell_type": "markdown",
   "metadata": {},
   "source": [
    "# Simple ML/DL to FL transition with NVFlare\n",
    "\n",
    "Converting Deep Learning (DL) models to Federated Learning (FL) entails several key steps:\n",
    "\n",
    "Formulating the algorithm: This involves determining how to adapt a DL model into an FL framework, including specifying the information exchange protocol between the Client and Server.\n",
    "\n",
    "Code conversion: Adapting existing standalone DL code into FL-compatible code. This typically involves minimal changes, often just a few lines of code, thanks to tools like NVFlare.\n",
    "\n",
    "Workflow configuration: Once the code is modified, configuring the workflow to integrate the newly adapted FL code seamlessly.\n",
    "\n",
    "NVFlare simplifies the process of transitioning from traditional Machine Learning (ML) or DL algorithms to FL. With NVFlare, the conversion process requires only minor code adjustments.\n",
    "\n",
    "In our examples, we assume that algorithm formulation follows NVFlare's predefined workflow algorithms (such as FedAvg). Detailed tutorials on converting traditional ML to FL, particularly with tabular datasets, are available in our step-by-step guides.\n",
    "\n",
    "We offer various techniques tailored to different code structures and user preferences. Configuration guidance and documentation are provided to facilitate workflow setup.\n",
    "\n",
    "Our coverage includes:\n",
    "\n",
    "Configurations for NVFlare Client API: [np](./np/README.md)\n",
    "Integration with PyTorch and PyTorch Lightning frameworks:[pt](./pt/README.md)\n",
    "Support for TensorFlow implementations: [tf](./tf/README.md)\n",
    "\n",
    "For detailed instructions on configuring the workflow, refer to our provided examples and documentation.\n",
    "If you're solely interested in converting DL to FL code, feel free to skip ahead to the examples without delving further into this readme.\n",
    "\n",
    "For those eager to explore various implementations and use cases, read on."
   ]
  },
  {
   "cell_type": "markdown",
   "metadata": {},
   "source": [
    "## Advanced User Options: Client API with Different Implementations\n",
    "\n",
    "Within the Client API, we offer multiple implementations tailored to diverse requirements:\n",
    "\n",
    "* In-process Client API: In this setup, the client training script operates within the same process as the NVFlare Client job.\n",
    "This configuration, utilizing the ```InProcessClientAPIExecutor```, offers shared the memory usage, is efficient and with simple configuration. \n",
    "Use this configuration for development or single GPU\n",
    "\n",
    "* Sub-process Client API: Here, the client training script runs in a separate subprocess.\n",
    "Utilizing the ```ClientAPILauncherExecutor```, this option offers flexibility in communication mechanisms:\n",
    "  * Communication via CellPipe (default)\n",
    "  * Communication via FilePipe ( no capability to stream experiment track log metrics) \n",
    "This configuration is ideal for scenarios requiring multi-GPU or distributed PyTorch training.\n",
    "\n",
    "Choose the option best suited to your specific requirements and workflow preferences.\n",
    "\n",
    "These implementations can be easily configured using the JobAPI's ScriptRunner.\n",
    "By default, the ```InProcessClientAPIExecutor``` is used, however setting `launch_external_process=True` uses the ```ClientAPILauncherExecutor```\n",
    "with pre-configured CellPipes for communication and metrics streaming.\n",
    "\n",
    "Note: Avoid install TensorFlow and PyTorch on the same virtual environment due to library conflicts.\n"
   ]
  }
 ],
 "metadata": {
  "language_info": {
   "name": "python"
  }
 },
 "nbformat": 4,
 "nbformat_minor": 2
}
