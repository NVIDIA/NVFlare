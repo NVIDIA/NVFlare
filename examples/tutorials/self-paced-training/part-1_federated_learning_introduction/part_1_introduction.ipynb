{
 "cells": [
  {
   "cell_type": "markdown",
   "id": "9d15c17d",
   "metadata": {},
   "source": [
    "# Part 1: Introduction to Federated Learning with NVIDIA FLARE\n",
    "\n",
    "This section provides a hands-on introduction to federated learning using NVIDIA FLARE. You will learn how to run and develop federated learning applications, with practical examples and clear guidance for both beginners and experienced practitioners.\n",
    "\n",
    "## What You'll Learn\n",
    "\n",
    "- The basics of federated learning and its advantages\n",
    "- How to use NVIDIA FLARE to train and deploy federated learning models\n",
    "- Transitioning from standard ML code to federated learning workflows\n",
    "- Customizing client and server logic in NVIDIA FLARE\n",
    "- Understanding job structure, configuration, and statistics\n",
    "\n",
    "## Chapters Overview\n",
    "\n",
    "### Chapter 1: Running Federated Learning Applications [[View on GitHub](https://github.com/NVIDIA/NVFlare/blob/main/examples/tutorials/self-paced-training/part-1_federated_learning_introduction/chapter-1_running_federated_learning_applications/01.0_introduction/introduction.ipynb)]\n",
    "- Train an image classification model with PyTorch using NVIDIA FLARE\n",
    "- Convert standard PyTorch training code to federated learning code\n",
    "- Customize client and server logic in NVIDIA FLARE\n",
    "- Explore job structure and configuration for federated learning\n",
    "\n",
    "### Chapter 2: Developing Federated Learning Applications [[View on GitHub](https://github.com/NVIDIA/NVFlare/blob/main/examples/tutorials/self-paced-training/part-1_federated_learning_introduction/chapter-2_develop_federated_learning_applications/02.0_introduction/introduction.ipynb)]\n",
    "- Perform federated statistics for both image and tabular data\n",
    "- Convert PyTorch Lightning and traditional ML code to federated learning workflows with NVIDIA FLARE\n",
    "- Use the NVIDIA FLARE Client API for advanced customization\n",
    "\n",
    "## Tips\n",
    "\n",
    "- Each notebook is self-contained; you can start with any topic of interest.\n",
    "- For best results, follow the chapters sequentially to build a strong foundation in federated learning with NVIDIA FLARE.\n",
    "- Refer to the official NVIDIA FLARE documentation and tutorials for deeper dives and troubleshooting."
   ]
  }
 ],
 "metadata": {
  "kernelspec": {
   "display_name": "Python 3",
   "language": "python",
   "name": "python3"
  },
  "language_info": {
   "codemirror_mode": {
    "name": "ipython",
    "version": 3
   },
   "file_extension": ".py",
   "mimetype": "text/x-python",
   "name": "python",
   "nbconvert_exporter": "python",
   "pygments_lexer": "ipython3",
   "version": "3.8.13"
  }
 },
 "nbformat": 4,
 "nbformat_minor": 2
}
