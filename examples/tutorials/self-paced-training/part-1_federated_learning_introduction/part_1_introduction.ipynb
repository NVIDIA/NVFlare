{
 "cells": [
  {
   "cell_type": "markdown",
   "metadata": {},
   "source": [
    "Part 1: Introduction to Federated Learning"
   ]
  },
  {
   "cell_type": "markdown",
   "metadata": {},
   "source": [
    "In part 1, we will use two chapters illustate how to run and develop federated learning applications.  "
   ]
  },
  {
   "cell_type": "markdown",
   "metadata": {},
   "source": [
    "[Chapter 1.1: Running federated learning applications](Chapter-1.1_running_federated_learning_applications/01.1.0_introduction/introduction.ipynb)\n",
    "\n",
    "[Chapter 1.2: Develop federated learning applications](Chapter-1.2_develop_federated_learning_applications/01.2.0_introduction/introduction.ipynb)\n"
   ]
  },
  {
   "cell_type": "markdown",
   "metadata": {},
   "source": [
    "In Part 1, we explored the fundamentals of federated learning. We covered:\n",
    "\n",
    "#### Chapter 1.1: \n",
    "* How to train an image classification model with PyTorch\n",
    "* Understanding the federated job structure\n",
    "* How to convert a standard PyTorch training code to federated learning code\n",
    "* How to customize client and server side logics\n",
    "\n",
    "#### Chapter 1.2: \n",
    "We delved into \n",
    "* federated statistics for both image and tabular data.\n",
    "* how to convert traditional ML training code to federated learning code,"
   ]
  },
  {
   "cell_type": "markdown",
   "metadata": {},
   "source": []
  }
 ],
 "metadata": {
  "kernelspec": {
   "display_name": "Python 3",
   "language": "python",
   "name": "python3"
  },
  "language_info": {
   "codemirror_mode": {
    "name": "ipython",
    "version": 3
   },
   "file_extension": ".py",
   "mimetype": "text/x-python",
   "name": "python",
   "nbconvert_exporter": "python",
   "pygments_lexer": "ipython3",
   "version": "3.8.13"
  }
 },
 "nbformat": 4,
 "nbformat_minor": 2
}
