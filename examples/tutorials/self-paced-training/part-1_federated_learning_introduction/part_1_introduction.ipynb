{
 "cells": [
  {
   "cell_type": "markdown",
   "metadata": {},
   "source": [
    "Part 1: Introduction to Federated Learning"
   ]
  },
  {
   "cell_type": "markdown",
   "metadata": {},
   "source": [
    "In part 1, we will use two chapters illustate how to run and develop federated learning applications.  "
   ]
  },
  {
   "cell_type": "markdown",
   "metadata": {},
   "source": [
    "[Chapter 1.1: Running federated learning applications](./Chapter-1_running_federated_learning_applications/01.0_introduction/introduction.ipynb)\n",
    "\n",
    "[Chapter 1.2: Develop federated learning applications](./Chapter-2_develop_federated_learning_applications/02.0_introduction/introduction.ipynb)\n"
   ]
  },
  {
   "cell_type": "markdown",
   "metadata": {},
   "source": [
    "In Part 1, we explored the fundamentals of federated learning. We will cover:\n",
    "\n",
    "#### Chapter 1: \n",
    "* How to train an image classification model with PyTorch\n",
    "* How to convert a standard PyTorch training code to federated learning code\n",
    "* How to customize client and server side logics\n",
    "* Understanding the federated job structure and configurations\n",
    "\n",
    "#### Chapter 2: \n",
    "* federated statistics for both image and tabular data.\n",
    "* convert porch lightning to federated learning\n",
    "* convert traditional ML training code to federated learning code,\n",
    "* FLARE Client API"
   ]
  },
  {
   "cell_type": "markdown",
   "metadata": {},
   "source": []
  }
 ],
 "metadata": {
  "kernelspec": {
   "display_name": "Python 3",
   "language": "python",
   "name": "python3"
  },
  "language_info": {
   "codemirror_mode": {
    "name": "ipython",
    "version": 3
   },
   "file_extension": ".py",
   "mimetype": "text/x-python",
   "name": "python",
   "nbconvert_exporter": "python",
   "pygments_lexer": "ipython3",
   "version": "3.8.13"
  }
 },
 "nbformat": 4,
 "nbformat_minor": 2
}
