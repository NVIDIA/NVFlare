{
 "cells": [
  {
   "cell_type": "markdown",
   "id": "3f020f8b",
   "metadata": {},
   "source": [
    "# Customize Client Training for Different Sites\n",
    "\n",
    "The client training script, so far, assumes all sites have the same training parameters. In real-world applications, each site's data will be different, therefore the training parameters such as batch size and learning rate could be different.\n",
    "\n",
    "Let's learn how to set different training hyper-parameters for different clients.\n",
    "\n",
    "The client-side training script [client.py](code/src/client.py) that we previously developed can take multiple hyper-parameters as input:\n",
    "\n",
    "```python\n",
    "    parser.add_argument(\"--dataset_path\", type=str, default=CIFAR10_ROOT, nargs=\"?\")\n",
    "    parser.add_argument(\"--batch_size\", type=int, default=4, nargs=\"?\")\n",
    "    parser.add_argument(\"--learning_rate\", type=float, default=0.001, nargs=\"?\")\n",
    "    parser.add_argument(\"--num_workers\", type=int, default=1, nargs=\"?\")\n",
    "    parser.add_argument(\"--local_epochs\", type=int, default=2, nargs=\"?\")\n",
    "    parser.add_argument(\"--model_path\", type=str, default=f\"{CIFAR10_ROOT}/cifar_net.pth\", nargs=\"?\")\n",
    "```\n",
    "\n",
    "This allows us to easily set different parameters for different sites in [fl_job.py](code/fl_job.py):\n",
    "\n",
    "```python\n",
    "\n",
    "    # Add clients\n",
    "\n",
    "    executor_1 = ScriptRunner(script=train_script, script_args=\"--learning_rate 0.01 --batch_size 12\")\n",
    "    job.to(executor_1, \"site-1\")\n",
    "\n",
    "    executor_2 = ScriptRunner(script=train_script, script_args=\"--learning_rate 0.01 --batch_size 10\")\n",
    "    job.to(executor_2, \"site-2\")\n",
    "    \n",
    "    executor_3 = ScriptRunner(script=train_script, script_args=\"--learning_rate 0.001 --batch_size 8\")\n",
    "    job.to(executor_3, \"site-3\")\n",
    "\n",
    "    executor_4 = ScriptRunner(script=train_script, script_args=\"--learning_rate 0.001 --batch_size 6\")\n",
    "    job.to(executor_4, \"site-4\")\n",
    "    \n",
    "    executor_5 = ScriptRunner(script=train_script, script_args=\"--learning_rate 0.0001 --batch_size 4\")\n",
    "    job.to(executor_5, \"site-5\")\n",
    "\n",
    "```"
   ]
  },
  {
   "cell_type": "markdown",
   "id": "933b0778",
   "metadata": {},
   "source": [
    "Let's see what effect this has on the training accuracy"
   ]
  },
  {
   "cell_type": "code",
   "execution_count": null,
   "id": "bcc39a52",
   "metadata": {},
   "outputs": [],
   "source": [
    "! pip install nvflare"
   ]
  },
  {
   "cell_type": "code",
   "execution_count": null,
   "id": "7c736877",
   "metadata": {},
   "outputs": [],
   "source": [
    "! pip install -r code/requirements.txt"
   ]
  },
  {
   "cell_type": "code",
   "execution_count": null,
   "id": "b15f176b",
   "metadata": {},
   "outputs": [],
   "source": [
    "! python3 code/data/download.py"
   ]
  },
  {
   "cell_type": "code",
   "execution_count": null,
   "id": "318ad272",
   "metadata": {
    "scrolled": true
   },
   "outputs": [],
   "source": [
    "! cd code && python3 fl_job.py"
   ]
  },
  {
   "cell_type": "markdown",
   "id": "dbd5d996",
   "metadata": {},
   "source": [
    "Next step, we are going to see how to do federated exeperiment tracking with different experiment tracking systems: [experiment_tracking](../01.5_experiment_tracking/experiment_tracking.ipynb)"
   ]
  }
 ],
 "metadata": {
  "kernelspec": {
   "display_name": "Python 3 (ipykernel)",
   "language": "python",
   "name": "python3"
  },
  "language_info": {
   "codemirror_mode": {
    "name": "ipython",
    "version": 3
   },
   "file_extension": ".py",
   "mimetype": "text/x-python",
   "name": "python",
   "nbconvert_exporter": "python",
   "pygments_lexer": "ipython3",
   "version": "3.10.12"
  }
 },
 "nbformat": 4,
 "nbformat_minor": 5
}
