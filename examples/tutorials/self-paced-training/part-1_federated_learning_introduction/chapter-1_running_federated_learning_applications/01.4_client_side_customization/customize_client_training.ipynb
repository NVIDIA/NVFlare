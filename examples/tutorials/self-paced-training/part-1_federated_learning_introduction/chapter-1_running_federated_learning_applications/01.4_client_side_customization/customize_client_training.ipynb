{
 "cells": [
  {
   "cell_type": "markdown",
   "id": "3f020f8b",
   "metadata": {},
   "source": [
    "# Customize client training scripts for different sites\n",
    "\n",
    "The client training script, so far, assumes all sites have the same training parameters. In real-world applications, each site's data will be different, therefore the training parameters such as batch size and learning rate will be different.\n",
    "\n",
    "In this section, we will show how to set different parameters.\n",
    "\n",
    "\n",
    "```python\n",
    "\n",
    "    # Add clients\n",
    "\n",
    "    executor_1 = ScriptRunner(script=train_script, script_args=\"--learning_rate 0.01 --batch_size 12\")\n",
    "    job.to(executor_1, \"site-1\")\n",
    "\n",
    "    executor_2 = ScriptRunner(script=train_script, script_args=\"--learning_rate 0.01 --batch_size 10\")\n",
    "    job.to(executor_2, \"site-2\")\n",
    "    \n",
    "    executor_3 = ScriptRunner(script=train_script, script_args=\"--learning_rate 0.001 --batch_size 8\")\n",
    "    job.to(executor_3, \"site-3\")\n",
    "\n",
    "    executor_4 = ScriptRunner(script=train_script, script_args=\"--learning_rate 0.001 --batch_size 6\")\n",
    "    job.to(executor_4, \"site-4\")\n",
    "    \n",
    "    executor_5 = ScriptRunner(script=train_script, script_args=\"--learning_rate 0.0001 --batch_size 4\")\n",
    "    job.to(executor_5, \"site-5\")\n",
    "\n",
    "```\n",
    "\n",
    "Let's see what effect this has on the training accuracy\n"
   ]
  },
  {
   "cell_type": "markdown",
   "id": "933b0778",
   "metadata": {},
   "source": []
  },
  {
   "cell_type": "code",
   "execution_count": null,
   "metadata": {},
   "outputs": [],
   "source": [
    "! pip install nvflare"
   ]
  },
  {
   "cell_type": "code",
   "execution_count": null,
   "metadata": {},
   "outputs": [],
   "source": [
    "! pip install -r code/requirements.txt"
   ]
  },
  {
   "cell_type": "code",
   "execution_count": null,
   "metadata": {},
   "outputs": [],
   "source": [
    "!python3 code/data/download.py"
   ]
  },
  {
   "cell_type": "code",
   "execution_count": null,
   "metadata": {},
   "outputs": [],
   "source": [
    "%cd code"
   ]
  },
  {
   "cell_type": "code",
   "execution_count": null,
   "metadata": {},
   "outputs": [],
   "source": [
    "! python3 fl_job.py"
   ]
  },
  {
   "cell_type": "markdown",
   "id": "dbd5d996",
   "metadata": {},
   "source": [
    "Next step, we are going to see how to do federated exeperiment trackinig with different experiment tracking systems: [experiment_tracking](../01.5_experiment_tracking/experiment_tracking.ipynb)"
   ]
  },
  {
   "cell_type": "markdown",
   "id": "6d7fb83b",
   "metadata": {},
   "source": []
  }
 ],
 "metadata": {
  "kernelspec": {
   "display_name": "Python 3",
   "language": "python",
   "name": "python3"
  },
  "language_info": {
   "codemirror_mode": {
    "name": "ipython",
    "version": 3
   },
   "file_extension": ".py",
   "mimetype": "text/x-python",
   "name": "python",
   "nbconvert_exporter": "python",
   "pygments_lexer": "ipython3",
   "version": "3.10.12"
  }
 },
 "nbformat": 4,
 "nbformat_minor": 5
}
