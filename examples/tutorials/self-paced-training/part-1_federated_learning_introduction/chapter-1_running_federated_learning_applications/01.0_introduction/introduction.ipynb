{
 "cells": [
  {
   "cell_type": "markdown",
   "metadata": {},
   "source": [
    "# Running Federated Learning Applications\n",
    "\n",
    "In this chapter, we will explore the process of running federated learning applications. We will start by setting up the environment and preparing the data, followed by training a classifier using PyTorch. We will then convert deep learning models to federated learning, customize server and client logic, and set up experiment tracking. Finally, we will delve into the job structure and configurations, including running a simulator, and conclude with a recap of the covered topics.\n",
    "\n",
    "1. **Running federated learning job**\n",
    "   * [Installation, prepare data](../01.1_running_federated_learning_job/setup.ipynb)\n",
    "   * [Training classifier with PyTorch](../01.1_running_federated_learning_job/running_pytorch_fl_job.ipynb)\n",
    "\n",
    "2. **From stand-alone deep learning to Federated Learning**\n",
    "    * [Convert deep learning with PyTorch to federated learning](../01.2_convert_deep_learning_to_federated_learning/convert_dl_to_fl.ipynb)\n",
    "\n",
    "3. **Sever Side Customization**\n",
    "   * [customize server logics](../01.3_server_side_customization/customize_server_logics.ipynb)\n",
    "\n",
    "4. **Client Side Customization** \n",
    "   * [customize client training](../01.4_client_side_customization/customize_client_training.ipynb)\n",
    "\n",
    "5. **Tracking the training metrics** \n",
    "   * [Experiment tracking](../01.5_experiment_tracking/experiment_tracking.ipynb)\n",
    "\n",
    "6. **Job structure and configurations**\n",
    "   * [Job structure & configuration](../01.6_job_structure_and_configuration/understanding_fl_job.ipynb)\n",
    "\n",
    "7. **Logging configurations**\n",
    "   * [Logging](../01.7_logging/logging.ipynb)\n",
    "\n",
    "Let's get started with [Installation & data preparation](../01.1_running_federated_learning_job/setup.ipynb)"
   ]
  },
  {
   "cell_type": "markdown",
   "metadata": {},
   "source": []
  }
 ],
 "metadata": {
  "kernelspec": {
   "display_name": "nvflare-env",
   "language": "python",
   "name": "python3"
  },
  "language_info": {
   "name": "python",
   "version": "3.8.13"
  }
 },
 "nbformat": 4,
 "nbformat_minor": 2
}
