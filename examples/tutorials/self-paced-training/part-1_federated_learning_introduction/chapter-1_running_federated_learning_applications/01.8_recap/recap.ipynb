{
 "cells": [
  {
   "cell_type": "markdown",
   "id": "7b152728-3366-4432-adb1-29aa3051dc22",
   "metadata": {},
   "source": [
    "# Summary of Chapter 1\n",
    "\n",
    "We cover a lot of materials in Chapter 1. We guide you through the process of running federated learning applications. Here is an overview of the key contents:\n",
    "\n",
    "1. **Running Federated Learning Job**\n",
    "    - **Installation and Data Preparation**: Instructions for setting up the environment and preparing the data.\n",
    "        - [setup.ipynb](../01.1_running_federated_learning_job/setup.ipynb)\n",
    "    - **Training Classifier with PyTorch**: Steps to train a classifier using PyTorch in a federated learning setup.\n",
    "        - [runing_pytorch_fl_job.ipynb](../01.1_running_federated_learning_job/runing_pytorch_fl_job.ipynb)\n",
    "\n",
    "2. **From Stand-Alone Deep Learning to Federated Learning**\n",
    "    - **Conversion to Federated Learning**: Guide on converting deep learning models with PyTorch to federated learning.\n",
    "        - [convert_dl_to_fl.ipynb](../01.2_convert_deep_learning_to_federated_learning/convert_dl_to_fl.ipynb)\n",
    "\n",
    "3. **Customizing the Federated Algorithms**\n",
    "    - **Server Logic Customization**: Techniques to customize server logic for specific federated learning needs, we built an our own fed avg algorithms with best model seleciton, model saving and loading, as well as early stopping. \n",
    "        - [customize_server_logics.ipynb](../01.3_customize_server_logics/customize_server_logics.ipynb)\n",
    "\n",
    "4. **Adjusting Training Parameters**\n",
    "    - **Client Logic Customization**: Methods to customize client logic to optimize training parameters. Here we show how to customize the training for each site. \n",
    "        - [customize_client_training.ipynb](../01.4_customize_client_training/customize_client_training.ipynb)\n",
    "\n",
    "5. **Tracking Training Metrics**\n",
    "    - **Experiment Tracking**: Tools and methods to track experiments and monitor training metrics effectively.\n",
    "        - [experiment_tracking.ipynb](../01.5_experiment_tracking/experiment_tracking.ipynb)\n",
    "\n",
    "6. **Job Structure and Configurations**\n",
    "    - **Understanding Job Structure and Configuration**: Detailed explanation of the job structure and configurations necessary for running federated learning jobs.\n",
    "        - [01.1.6.1_understanding_fl_job.ipynb](../01.6_job_structure_and_configuration/01.1.6.1_understanding_fl_job.ipynb)\n",
    "\n",
    "7. **Recap of Covered Topics**\n",
    "    - **Summary and Recap**: A recap of the topics covered in the previous sections.\n",
    "        - [recap.ipynb](../01.7_recap/recap.ipynb)\n",
    "\n",
    "Each section is designed to provide comprehensive guidance and practical examples to help you implement and customize federated learning in your applications. For detailed instructions and examples, refer to the respective notebooks linked in each section.\n",
    "\n",
    "\n",
    "Now let's move on to the [Chapter 2](../../chapter-2_develop_federated_learning_applications/02.0_introduction/introduction.ipynb\n",
    ")"
   ]
  },
  {
   "cell_type": "markdown",
   "id": "4f2e3cb3-e61f-45e9-8dad-ad55ebb3641a",
   "metadata": {},
   "source": [
    " \n",
    "\n",
    "\n",
    "\n"
   ]
  }
 ],
 "metadata": {
  "kernelspec": {
   "display_name": "nvflare_example",
   "language": "python",
   "name": "nvflare_example"
  },
  "language_info": {
   "codemirror_mode": {
    "name": "ipython",
    "version": 3
   },
   "file_extension": ".py",
   "mimetype": "text/x-python",
   "name": "python",
   "nbconvert_exporter": "python",
   "pygments_lexer": "ipython3",
   "version": "3.10.2"
  }
 },
 "nbformat": 4,
 "nbformat_minor": 5
}
