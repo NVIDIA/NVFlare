{
 "cells": [
  {
   "cell_type": "markdown",
   "id": "7a5c3d67-a6ea-4f59-84d2-effc3ef016e1",
   "metadata": {},
   "source": [
    " # Running Federated Learning Job with PyTorch\n",
    "\n",
    "We have installed NVIDIA FLARE and its dependencies, downloaded the data, and looked at the data split in the [previous step](01.1.1_setup.ipynb). Now we are going to look at the training.\n"
   ]
  },
  {
   "cell_type": "markdown",
   "id": "eb3f04b0",
   "metadata": {},
   "source": [
    " ## Run Federated Learning Training Code\n",
    "\n",
    "The training code essentially consists of three files:\n",
    "- `fl_job.py`: the main job flow\n",
    "- `client.py`: the client-side training code\n",
    "- `network.py`: the network model definition\n",
    "\n",
    "We use the `FedAvg` algorithm and workflow.\n",
    "\n",
    "\n",
    "## Run Federated Learning Training\n",
    "\n",
    "The training code consists of three main scripts: `fl_job.py` for the overall job flow, `client.py` for the client-side training, and `network.py` for the network model. We use the built-in `FedAvg` algorithm for the server-side workflow.\n",
    "\n",
    "\n",
    "To run the training in the simulator, we can simply execute `fl_job.py`.\n"
   ]
  },
  {
   "cell_type": "markdown",
   "id": "bd815b80",
   "metadata": {},
   "source": [
    "change to \"code\" directory and run the scripts"
   ]
  },
  {
   "cell_type": "code",
   "execution_count": null,
   "id": "951d0fe6",
   "metadata": {},
   "outputs": [],
   "source": [
    "%cd code "
   ]
  },
  {
   "cell_type": "code",
   "execution_count": null,
   "id": "ecc3a0cc",
   "metadata": {},
   "outputs": [],
   "source": [
    "! python3 fl_job.py"
   ]
  },
  {
   "cell_type": "markdown",
   "id": "e823b5d4",
   "metadata": {},
   "source": [
    " ## 3. Access the Logs and Results\n",
    "\n",
    "You can find the running logs and results inside the simulator's workspace.\n",
    "\n",
    "Notice that in `fl_job.py`, we used the code:\n",
    "\n",
    "```python\n",
    "job.simulator_run(\"/tmp/nvflare/jobs/workdir\")\n",
    "```\n",
    "\n",
    "The \"/tmp/nvflare/jobs/workdir\" is the workspace directory of the simulator.\n",
    "\n"
   ]
  },
  {
   "cell_type": "code",
   "execution_count": null,
   "id": "1e708f24",
   "metadata": {},
   "outputs": [],
   "source": [
    "\n",
    "! ls -al /tmp/nvflare/jobs/workdir/server/simulate_job/app_server/FL_global_model.pt\n"
   ]
  },
  {
   "cell_type": "markdown",
   "id": "d4b62108",
   "metadata": {},
   "source": [
    "We have successfully trained a federated image classification model with PyTorch. Next, we need to take a closer look at the training code and job structure. Let's go to [converting deep learning to federated learning](../01.2_convert_deep_learning_to_federated_learning/convert_dl_to_fl.ipynb)."
   ]
  },
  {
   "cell_type": "markdown",
   "id": "4406a33e",
   "metadata": {},
   "source": []
  }
 ],
 "metadata": {
  "kernelspec": {
   "display_name": "nvflare_env",
   "language": "python",
   "name": "nvflare_env"
  },
  "language_info": {
   "codemirror_mode": {
    "name": "ipython",
    "version": 3
   },
   "file_extension": ".py",
   "mimetype": "text/x-python",
   "name": "python",
   "nbconvert_exporter": "python",
   "pygments_lexer": "ipython3",
   "version": "3.10.12"
  }
 },
 "nbformat": 4,
 "nbformat_minor": 5
}
