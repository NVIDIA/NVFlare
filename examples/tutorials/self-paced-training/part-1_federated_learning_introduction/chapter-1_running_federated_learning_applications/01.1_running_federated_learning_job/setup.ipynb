{
 "cells": [
  {
   "cell_type": "markdown",
   "id": "7a5c3d67-a6ea-4f59-84d2-effc3ef016e1",
   "metadata": {},
   "source": [
    "# Setup and Prepare Data\n",
    "\n",
    "This example of using [NVIDIA FLARE](https://nvflare.readthedocs.io/en/main/index.html) to train an image classifier using federated averaging ([FedAvg](https://arxiv.org/abs/1602.05629))\n",
    "and [PyTorch](https://pytorch.org/) as the deep learning training framework.\n",
    "\n",
    "We will use the train script [cifar10_fl.py](src/cifar10_fl.py) and network [net.py](src/net.py) from the src directory.\n",
    "\n",
    "The dataset will be [CIFAR-10](https://www.cs.toronto.edu/~kriz/cifar.html) dataset and will load its data within the client train code."
   ]
  },
  {
   "cell_type": "markdown",
   "id": "eb3f04b0",
   "metadata": {},
   "source": []
  },
  {
   "cell_type": "markdown",
   "id": "540e6719",
   "metadata": {},
   "source": [
    "## Install NVIDIA FLARE and dependencies\n",
    "\n",
    "Install nvflare and requirements\n"
   ]
  },
  {
   "cell_type": "code",
   "execution_count": null,
   "id": "827bc8aa",
   "metadata": {},
   "outputs": [],
   "source": [
    "! pip install nvflare"
   ]
  },
  {
   "cell_type": "code",
   "execution_count": 1,
   "id": "185b0b63",
   "metadata": {},
   "outputs": [
    {
     "name": "stdout",
     "output_type": "stream",
     "text": [
      "Defaulting to user installation because normal site-packages is not writeable\n",
      "Requirement already satisfied: torch in /home/chester/.local/lib/python3.10/site-packages (from -r code/requirements.txt (line 1)) (2.5.1)\n",
      "Requirement already satisfied: torchvision in /home/chester/.local/lib/python3.10/site-packages (from -r code/requirements.txt (line 2)) (0.20.1)\n",
      "Requirement already satisfied: tensorboard in /home/chester/.local/lib/python3.10/site-packages (from -r code/requirements.txt (line 3)) (2.18.0)\n",
      "Requirement already satisfied: nvidia-nvtx-cu12==12.4.127 in /home/chester/.local/lib/python3.10/site-packages (from torch->-r code/requirements.txt (line 1)) (12.4.127)\n",
      "Requirement already satisfied: networkx in /home/chester/.local/lib/python3.10/site-packages (from torch->-r code/requirements.txt (line 1)) (3.4.2)\n",
      "Requirement already satisfied: nvidia-nvjitlink-cu12==12.4.127 in /home/chester/.local/lib/python3.10/site-packages (from torch->-r code/requirements.txt (line 1)) (12.4.127)\n",
      "Requirement already satisfied: nvidia-cufft-cu12==11.2.1.3 in /home/chester/.local/lib/python3.10/site-packages (from torch->-r code/requirements.txt (line 1)) (11.2.1.3)\n",
      "Requirement already satisfied: nvidia-cuda-runtime-cu12==12.4.127 in /home/chester/.local/lib/python3.10/site-packages (from torch->-r code/requirements.txt (line 1)) (12.4.127)\n",
      "Requirement already satisfied: typing-extensions>=4.8.0 in /home/chester/.local/lib/python3.10/site-packages (from torch->-r code/requirements.txt (line 1)) (4.12.2)\n",
      "Requirement already satisfied: triton==3.1.0 in /home/chester/.local/lib/python3.10/site-packages (from torch->-r code/requirements.txt (line 1)) (3.1.0)\n",
      "Requirement already satisfied: fsspec in /home/chester/.local/lib/python3.10/site-packages (from torch->-r code/requirements.txt (line 1)) (2024.12.0)\n",
      "Requirement already satisfied: nvidia-cuda-cupti-cu12==12.4.127 in /home/chester/.local/lib/python3.10/site-packages (from torch->-r code/requirements.txt (line 1)) (12.4.127)\n",
      "Requirement already satisfied: nvidia-cusparse-cu12==12.3.1.170 in /home/chester/.local/lib/python3.10/site-packages (from torch->-r code/requirements.txt (line 1)) (12.3.1.170)\n",
      "Requirement already satisfied: nvidia-cudnn-cu12==9.1.0.70 in /home/chester/.local/lib/python3.10/site-packages (from torch->-r code/requirements.txt (line 1)) (9.1.0.70)\n",
      "Requirement already satisfied: nvidia-nccl-cu12==2.21.5 in /home/chester/.local/lib/python3.10/site-packages (from torch->-r code/requirements.txt (line 1)) (2.21.5)\n",
      "Requirement already satisfied: nvidia-curand-cu12==10.3.5.147 in /home/chester/.local/lib/python3.10/site-packages (from torch->-r code/requirements.txt (line 1)) (10.3.5.147)\n",
      "Requirement already satisfied: sympy==1.13.1 in /home/chester/.local/lib/python3.10/site-packages (from torch->-r code/requirements.txt (line 1)) (1.13.1)\n",
      "Requirement already satisfied: jinja2 in /home/chester/.local/lib/python3.10/site-packages (from torch->-r code/requirements.txt (line 1)) (3.1.5)\n",
      "Requirement already satisfied: nvidia-cublas-cu12==12.4.5.8 in /home/chester/.local/lib/python3.10/site-packages (from torch->-r code/requirements.txt (line 1)) (12.4.5.8)\n",
      "Requirement already satisfied: nvidia-cuda-nvrtc-cu12==12.4.127 in /home/chester/.local/lib/python3.10/site-packages (from torch->-r code/requirements.txt (line 1)) (12.4.127)\n",
      "Requirement already satisfied: filelock in /home/chester/.local/lib/python3.10/site-packages (from torch->-r code/requirements.txt (line 1)) (3.16.1)\n",
      "Requirement already satisfied: nvidia-cusolver-cu12==11.6.1.9 in /home/chester/.local/lib/python3.10/site-packages (from torch->-r code/requirements.txt (line 1)) (11.6.1.9)\n",
      "Requirement already satisfied: mpmath<1.4,>=1.1.0 in /home/chester/.local/lib/python3.10/site-packages (from sympy==1.13.1->torch->-r code/requirements.txt (line 1)) (1.3.0)\n",
      "Requirement already satisfied: pillow!=8.3.*,>=5.3.0 in /usr/lib/python3/dist-packages (from torchvision->-r code/requirements.txt (line 2)) (9.0.1)\n",
      "Requirement already satisfied: numpy in /home/chester/.local/lib/python3.10/site-packages (from torchvision->-r code/requirements.txt (line 2)) (1.26.4)\n",
      "Requirement already satisfied: absl-py>=0.4 in /home/chester/.local/lib/python3.10/site-packages (from tensorboard->-r code/requirements.txt (line 3)) (2.1.0)\n",
      "Requirement already satisfied: grpcio>=1.48.2 in /home/chester/.local/lib/python3.10/site-packages (from tensorboard->-r code/requirements.txt (line 3)) (1.69.0)\n",
      "Requirement already satisfied: tensorboard-data-server<0.8.0,>=0.7.0 in /home/chester/.local/lib/python3.10/site-packages (from tensorboard->-r code/requirements.txt (line 3)) (0.7.2)\n",
      "Requirement already satisfied: werkzeug>=1.0.1 in /home/chester/.local/lib/python3.10/site-packages (from tensorboard->-r code/requirements.txt (line 3)) (3.0.3)\n",
      "Requirement already satisfied: setuptools>=41.0.0 in /usr/lib/python3/dist-packages (from tensorboard->-r code/requirements.txt (line 3)) (59.6.0)\n",
      "Requirement already satisfied: packaging in /home/chester/.local/lib/python3.10/site-packages (from tensorboard->-r code/requirements.txt (line 3)) (24.2)\n",
      "Requirement already satisfied: six>1.9 in /usr/lib/python3/dist-packages (from tensorboard->-r code/requirements.txt (line 3)) (1.16.0)\n",
      "Requirement already satisfied: protobuf!=4.24.0,>=3.19.6 in /home/chester/.local/lib/python3.10/site-packages (from tensorboard->-r code/requirements.txt (line 3)) (5.29.3)\n",
      "Requirement already satisfied: markdown>=2.6.8 in /home/chester/.local/lib/python3.10/site-packages (from tensorboard->-r code/requirements.txt (line 3)) (3.7)\n",
      "Requirement already satisfied: MarkupSafe>=2.1.1 in /home/chester/.local/lib/python3.10/site-packages (from werkzeug>=1.0.1->tensorboard->-r code/requirements.txt (line 3)) (3.0.2)\n"
     ]
    }
   ],
   "source": [
    "! pip install -r code/requirements.txt"
   ]
  },
  {
   "cell_type": "markdown",
   "id": "a1795c6d",
   "metadata": {},
   "source": [
    "## Prepare Data\n",
    "\n",
    "The CIFAR10 dataset has the following classes: ‘airplane’, ‘automobile’, ‘bird’, ‘cat’, ‘deer’, ‘dog’, ‘frog’, ‘horse’, ‘ship’, ‘truck’.\n",
    "The images in CIFAR-10 are of size 3x32x32, i.e. 3-channel color images of 32x32 pixels in size.\n",
    "\n",
    "![image](code/img/cifar10.png)\n",
    "\n",
    "\n",
    "Before we start the training, we will first need to prepare the data. \n",
    "\n",
    "### download the data\n",
    "\n",
    "To avoid each job having to download and split the data, we add a step to prepare the data for all the cifar10 jobs. \n",
    "\n",
    "The CIFAR10 data will be downloaded to the common location. To make this process easiler, we wrote an simple download program like the followings\n",
    "\n",
    "```\n",
    "\n",
    "import argparse\n",
    "import torchvision.datasets as datasets\n",
    "\n",
    "# default dataset path\n",
    "CIFAR10_ROOT = \"/tmp/nvflare/data/cifar10\"\n",
    "\n",
    "def define_parser():\n",
    "    parser = argparse.ArgumentParser()\n",
    "    parser.add_argument(\"--dataset_path\", type=str, default=CIFAR10_ROOT, nargs=\"?\")\n",
    "    args = parser.parse_args()\n",
    "    return args\n",
    "\n",
    "def main(args):\n",
    "    datasets.CIFAR10(root=args.dataset_path, train=True, download=True)\n",
    "    datasets.CIFAR10(root=args.dataset_path, train=False, download=True)\n",
    "\n",
    "\n",
    "```\n"
   ]
  },
  {
   "cell_type": "markdown",
   "id": "bcba6293",
   "metadata": {},
   "source": [
    "The program just take a root dataset_path and download the training and test dataset to the given root directory from torchvision dataset. Let run the code. "
   ]
  },
  {
   "cell_type": "code",
   "execution_count": 2,
   "id": "87a13909",
   "metadata": {},
   "outputs": [
    {
     "name": "stdout",
     "output_type": "stream",
     "text": [
      "Downloading https://www.cs.toronto.edu/~kriz/cifar-10-python.tar.gz to /tmp/nvflare/data/cifar10/cifar-10-python.tar.gz\n",
      "100.0%\n",
      "Extracting /tmp/nvflare/data/cifar10/cifar-10-python.tar.gz to /tmp/nvflare/data/cifar10\n",
      "Files already downloaded and verified\n"
     ]
    }
   ],
   "source": [
    "!python3 code/data/download.py"
   ]
  },
  {
   "cell_type": "markdown",
   "id": "997fafbe",
   "metadata": {},
   "source": [
    "We can examine the downloaded data"
   ]
  },
  {
   "cell_type": "code",
   "execution_count": 4,
   "id": "08bbe572",
   "metadata": {},
   "outputs": [
    {
     "name": "stdout",
     "output_type": "stream",
     "text": [
      "\u001b[01;34m/tmp/nvflare/data/cifar10/cifar-10-batches-py/\u001b[0m\n",
      "├── \u001b[00mbatches.meta\u001b[0m\n",
      "├── \u001b[00mdata_batch_1\u001b[0m\n",
      "├── \u001b[00mdata_batch_2\u001b[0m\n",
      "├── \u001b[00mdata_batch_3\u001b[0m\n",
      "├── \u001b[00mdata_batch_4\u001b[0m\n",
      "├── \u001b[00mdata_batch_5\u001b[0m\n",
      "├── \u001b[00mreadme.html\u001b[0m\n",
      "└── \u001b[00mtest_batch\u001b[0m\n",
      "\n",
      "0 directories, 8 files\n"
     ]
    }
   ],
   "source": [
    "!tree /tmp/nvflare/data/cifar10/cifar-10-batches-py/"
   ]
  },
  {
   "cell_type": "markdown",
   "id": "ce815072",
   "metadata": {},
   "source": [
    "### Split the data\n",
    "\n",
    "In real-world scenarios, the data will be distributed among different clients/sides. Since we are simulating the real-world data, we need to split the data into different clients/sites. How to split the data, \n",
    "depending on the type of problem or type of data. For simplicity, in this example we assume all clients will have the same data for horizontal federated learning cases.\n",
    "Thus we do not do a data split, but rather point all clients to the same data location.\n",
    "\n",
    "\n",
    "\n",
    "\n",
    "\n",
    "\n",
    "\n",
    "\n",
    "\n"
   ]
  },
  {
   "cell_type": "markdown",
   "id": "316bae55",
   "metadata": {},
   "source": [
    "Next Step, we will start to run training using simulation: [run pytorch federated learning job](../01.1_running_federated_learning_job/runing_pytorch_fl_job.ipynb)\n"
   ]
  },
  {
   "cell_type": "markdown",
   "id": "821a19f6",
   "metadata": {},
   "source": []
  }
 ],
 "metadata": {
  "kernelspec": {
   "display_name": "Python 3",
   "language": "python",
   "name": "python3"
  },
  "language_info": {
   "codemirror_mode": {
    "name": "ipython",
    "version": 3
   },
   "file_extension": ".py",
   "mimetype": "text/x-python",
   "name": "python",
   "nbconvert_exporter": "python",
   "pygments_lexer": "ipython3",
   "version": "3.10.12"
  }
 },
 "nbformat": 4,
 "nbformat_minor": 5
}
