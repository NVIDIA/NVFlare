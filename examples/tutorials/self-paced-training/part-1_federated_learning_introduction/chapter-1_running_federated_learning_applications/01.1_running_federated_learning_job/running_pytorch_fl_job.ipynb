{
 "cells": [
  {
   "cell_type": "markdown",
   "id": "7a5c3d67-a6ea-4f59-84d2-effc3ef016e1",
   "metadata": {},
   "source": [
    " # Running a Federated Learning Job with PyTorch\n",
    "\n",
    "We have installed NVIDIA FLARE and its dependencies, downloaded the data, and looked at the data split in the [previous step](setup.ipynb). \n",
    "\n",
    "Now we are ready to run our first federated training!"
   ]
  },
  {
   "cell_type": "markdown",
   "id": "eb3f04b0",
   "metadata": {},
   "source": [
    " ## Run Federated Learning Training Code\n",
    "\n",
    "This example uses the Federated Averaging ([FedAvg](https://arxiv.org/abs/1602.05629)) algorithm, to train a Pytorch-based CIFAR-10 image classifier.\n",
    "\n",
    "The training code essentially consists of three files:\n",
    "- [`fl_job.py`](code/fl_job.py): the main job and server workflow\n",
    "- [`client.py`](code/src/client.py): the client-side training code\n",
    "- [`network.py`](code/src/network.py): the neural network model definition\n",
    "\n",
    "## Run Federated Learning Training\n",
    "\n",
    "To run the federated training, we can simply execute `fl_job.py`. This will run the federated training in [FL Simulator](https://nvflare.readthedocs.io/en/main/user_guide/nvflare_cli/fl_simulator.html).\n"
   ]
  },
  {
   "cell_type": "code",
   "execution_count": null,
   "id": "ecc3a0cc",
   "metadata": {
    "scrolled": true
   },
   "outputs": [],
   "source": [
    "! cd code && python3 fl_job.py"
   ]
  },
  {
   "cell_type": "markdown",
   "id": "e823b5d4",
   "metadata": {},
   "source": [
    " ## 3. Access the Logs and Results\n",
    "\n",
    "You can find the running logs and results inside the simulator's workspace.\n",
    "\n",
    "Notice that in [`fl_job.py`](code/fl_job.py), we used the code:\n",
    "\n",
    "```python\n",
    "job.simulator_run(\"/tmp/nvflare/jobs/workdir\")\n",
    "```\n",
    "\n",
    "The \"/tmp/nvflare/jobs/workdir\" is the workspace directory of the simulator.\n",
    "\n"
   ]
  },
  {
   "cell_type": "markdown",
   "id": "855a7b64-3d35-49d6-8d9c-7d9ef9928563",
   "metadata": {},
   "source": [
    "You can access various logs from the server and clients, as well as the global model under this directory:"
   ]
  },
  {
   "cell_type": "code",
   "execution_count": null,
   "id": "ed15c7e1-427a-4cb0-9524-3aaa407658f1",
   "metadata": {},
   "outputs": [],
   "source": [
    "! ls -al /tmp/nvflare/jobs/workdir/"
   ]
  },
  {
   "cell_type": "code",
   "execution_count": null,
   "id": "1e708f24",
   "metadata": {},
   "outputs": [],
   "source": [
    "! ls -al /tmp/nvflare/jobs/workdir/server/simulate_job/app_server/FL_global_model.pt"
   ]
  },
  {
   "cell_type": "markdown",
   "id": "d4b62108",
   "metadata": {},
   "source": [
    "You have successfully trained a federated image classification model with PyTorch. Congratulations!\n",
    "\n",
    "Next, we need to take a closer look at the training code and job structure. Let's go to [converting deep learning to federated learning](../01.2_convert_deep_learning_to_federated_learning/convert_dl_to_fl.ipynb)."
   ]
  }
 ],
 "metadata": {
  "kernelspec": {
   "display_name": "Python 3 (ipykernel)",
   "language": "python",
   "name": "python3"
  },
  "language_info": {
   "codemirror_mode": {
    "name": "ipython",
    "version": 3
   },
   "file_extension": ".py",
   "mimetype": "text/x-python",
   "name": "python",
   "nbconvert_exporter": "python",
   "pygments_lexer": "ipython3",
   "version": "3.10.12"
  }
 },
 "nbformat": 4,
 "nbformat_minor": 5
}
