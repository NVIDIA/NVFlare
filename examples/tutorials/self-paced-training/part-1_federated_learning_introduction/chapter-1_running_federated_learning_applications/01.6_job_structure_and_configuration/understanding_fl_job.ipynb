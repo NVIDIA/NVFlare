{
 "cells": [
  {
   "cell_type": "markdown",
   "id": "1bfdb3f6-3fec-48bd-a745-c9ffae04682d",
   "metadata": {},
   "source": [
    "# Understanding FLARE Federated Job Structure\n"
   ]
  },
  {
   "cell_type": "markdown",
   "id": "ab47f2c5",
   "metadata": {},
   "source": [
    " ## What is an NVFlare Job?\n",
    "\n",
    "In NVIDIA FLARE, a job is a unit of work that defines the specific tasks to be executed during a federated learning process. It encapsulates all necessary configurations, scripts, and resources needed to run an FL task, such as training, validation, or evaluation, across multiple participants in a federated system.\n",
    "\n",
    "A job may have many apps. Each app consists of code specific for the site (client site or server site) as well as configurations.\n",
    "\n",
    "In this section, we will take a look at the Job structure as well as the Job API (aka job construction API).\n",
    "\n",
    "\n",
    "## Job creation API\n",
    "\n",
    "NVIDIA FLARE introduces a python API, [Job API](https://nvflare.readthedocs.io/en/main/programming_guide/fed_job_api.html), making it easy to create and configure a job. \n",
    "\n",
    "Let's take a closer look at Job API.\n",
    "\n",
    "The overall job creation pattern consists of the following steps:\n",
    "\n",
    "1. **Create a Fed Job**\n",
    "\n",
    "```python\n",
    "from nvflare.job_config.api import FedJob\n",
    "\n",
    "class MyJob(FedJob):\n",
    "    ...\n",
    "\n",
    "job = MyJob()\n",
    "```\n",
    "You can use the base [`FedJob`](https://github.com/NVIDIA/NVFlare/blob/main/nvflare/job_config/api.py#L162) class, or override to create your custom job class.\n",
    "\n",
    "\n",
    "2. **Server-side configuration**\n",
    "\n",
    "We then create a server-side algorithm / workflow (called a Controller, for instance the FedAvg Controller) and add to the server of the Fed Job. \n",
    "\n",
    "```python\n",
    "server_side_algorithm =  FedAvg( ...)  # create server controller\n",
    "job.to_server(server_side_algorithm)\n",
    "```\n",
    "\n",
    "3. **Client-side configuration**\n",
    "\n",
    "On the client side, we a can leverage the [`ScriptRunner` class](https://github.com/NVIDIA/NVFlare/blob/main/nvflare/job_config/script_runner.py#L313), which can run a client-side training script directly. We assign the client code to each site, using the `job.to()` function.\n",
    "\n",
    "```python\n",
    "client_side_algorithm = ScriptRunner( script=train_script, script_args=\"\") \n",
    "\n",
    "# assign it to each client site\n",
    "job.to(client_side_algorithm, site_name)\n",
    "...\n",
    "```\n",
    "\n",
    "Notice that you can use `job.to()` function to send any components to the server or clients, if needed.\n",
    "\n",
    "4. **Export the job**\n",
    "\n",
    "We can use `job.export_job` to export the job to a local folder, for instance:\n",
    "```python\n",
    "job.export_job(\"/tmp/nvflare/jobs/job_config\")\n",
    "```\n",
    "The exported job can later be run using FLARE's runtime, such as the [FL Simulator](https://nvflare.readthedocs.io/en/main/user_guide/nvflare_cli/fl_simulator.html).\n",
    "\n",
    "We can also run the job using FL Simulator directly:\n",
    "\n",
    "```python\n",
    "job.simulator_run(\"/tmp/nvflare/jobs/workdir\") \n",
    "```\n",
    "This will actually create a job, then use simulator to run the job. "
   ]
  },
  {
   "cell_type": "markdown",
   "id": "df73bcf3-85eb-4be7-ab0e-b0d9dc1b9a40",
   "metadata": {},
   "source": [
    "Let's run the example script provide in [code/fl_job_config.py](code/fl_job_config.py) to export a job:"
   ]
  },
  {
   "cell_type": "code",
   "execution_count": null,
   "id": "20852a33",
   "metadata": {},
   "outputs": [],
   "source": [
    "! cd code && python3 fl_job_config.py"
   ]
  },
  {
   "cell_type": "markdown",
   "id": "e47686f7",
   "metadata": {},
   "source": [
    "Now we have create job configuration, let's take a closer look. "
   ]
  },
  {
   "cell_type": "markdown",
   "id": "85ae0bde",
   "metadata": {},
   "source": [
    "## Job structure"
   ]
  },
  {
   "cell_type": "code",
   "execution_count": null,
   "id": "2b53b6ea",
   "metadata": {},
   "outputs": [],
   "source": [
    "! tree /tmp/nvflare/jobs/workdir/fedavg -L 2"
   ]
  },
  {
   "cell_type": "markdown",
   "id": "f475fa49",
   "metadata": {},
   "source": [
    "The job name `fedavg` is a folder structure, with each folder representing one app at one site.\n",
    "\n",
    "* **`meta.json`** is a file that gives meta information related to the applications deployed to each site (server and clients). \n",
    "\n",
    "```json\n",
    "{\n",
    "    \"name\": \"fedavg\",\n",
    "    \"resource_spec\": {},\n",
    "    \"min_clients\": 1,\n",
    "    \"deploy_map\": {\n",
    "        \"app_server\": [\n",
    "            \"server\"\n",
    "        ],\n",
    "        \"app_site-1\": [\n",
    "            \"site-1\"\n",
    "        ],\n",
    "        \"app_site-2\": [\n",
    "            \"site-2\"\n",
    "        ],\n",
    "        \"app_site-3\": [\n",
    "            \"site-3\"\n",
    "        ],\n",
    "        \"app_site-4\": [\n",
    "            \"site-4\"\n",
    "        ],\n",
    "        \"app_site-5\": [\n",
    "            \"site-5\"\n",
    "        ]\n",
    "    }\n",
    "}\n",
    "```\n",
    "\n",
    "* **\"app_server\"**:  is the name for the server app\n",
    "\n",
    "* **\"app_site-n\"**:  is the name for the client app\n",
    "\n",
    "* for each site: it consits of \n",
    "   * **config**:  directory which contains side specific configuration\n",
    "\n",
    "   * **custom**:  store the custom code for the specifc site\n",
    "\n",
    "These names can be modified using custom configurations. By default Job API uses above conventions. "
   ]
  },
  {
   "cell_type": "markdown",
   "id": "18bea8f7",
   "metadata": {},
   "source": [
    "A simplifed format of job structure can also be used when the code and configuration are the same for all clients:\n",
    "\n",
    "```shell\n",
    "/tmp/nvflare/jobs/job_config/fedavg\n",
    "├── app_server\n",
    "│   ├── config\n",
    "│   │   └── config_fed_server.json\n",
    "│   └── custom\n",
    "│       └── src\n",
    "│           └── network.py\n",
    "├── app_client\n",
    "│   ├── config\n",
    "│   │   └── config_fed_client.json\n",
    "│   └── custom\n",
    "│       ├── network.py\n",
    "│       └── src\n",
    "│           └── client.py\n",
    "└── meta.json\n",
    "```\n",
    "\n",
    "In this case, `meta.json` needs to be \n",
    "\n",
    "```json\n",
    "{\n",
    "    \"name\": \"fedavg\",\n",
    "    \"resource_spec\": {},\n",
    "    \"min_clients\": 1,\n",
    "    \"deploy_map\": {\n",
    "        \"app_server\": [\n",
    "            \"server\"\n",
    "        ],\n",
    "        \"app_client\": [\n",
    "            \"site-1\", \"site-2\", \"site-3\", \"site-4\", \"site-5\" \n",
    "        ]\n",
    "    }\n",
    "}\n",
    "```\n",
    "\n",
    "\n",
    "If the code and configuration are the same for all sites (server and clients), and if we don't mind deploy all code to all sites, we further simplify the job structure into the followings:\n",
    "```bash\n",
    "/tmp/nvflare/jobs/job_config/fedavg\n",
    "├── app\n",
    "│   ├── config\n",
    "    |   └── config_fed_client.json\n",
    "│   │   └── config_fed_server.json\n",
    "│   └── custom\n",
    "│       └── src\n",
    "│           └── network.py\n",
    "|           └── client.py\n",
    "└── meta.json\n",
    "```\n",
    "\n",
    "In this case, `meta.json` needs to be: \n",
    "\n",
    "```json\n",
    "{\n",
    "    \"name\": \"fedavg\",\n",
    "    \"resource_spec\": {},\n",
    "    \"min_clients\": 1,\n",
    "    \"deploy_map\": {\n",
    "         app = [\"@ALL\"]\n",
    "    }\n",
    "}\n",
    "```"
   ]
  },
  {
   "cell_type": "markdown",
   "id": "b0d07393",
   "metadata": {},
   "source": [
    "## Job configuration in-depth\n",
    "\n",
    "We have covered a lot of ground so far. You could stop here and move to the next chapter of the training materials.\n",
    "\n",
    "But if you would like to further understand how NVIDIA FLARE works, you might want to go through this section: Job Configuration.\n"
   ]
  },
  {
   "cell_type": "code",
   "execution_count": null,
   "id": "0892c07e",
   "metadata": {},
   "outputs": [],
   "source": [
    "! tree /tmp/nvflare/jobs/workdir/fedavg/*/config"
   ]
  },
  {
   "cell_type": "markdown",
   "id": "6edc997b",
   "metadata": {},
   "source": [
    "At each site, there is job configuration file: \n",
    "\n",
    "\n",
    "* ```config_fed_client.json``` Or\n",
    "* ```config_fed_server.json```"
   ]
  },
  {
   "cell_type": "markdown",
   "id": "885aeb7a",
   "metadata": {},
   "source": [
    "### Server configuration"
   ]
  },
  {
   "cell_type": "code",
   "execution_count": null,
   "id": "ed26c66b",
   "metadata": {},
   "outputs": [],
   "source": [
    "! cat /tmp/nvflare/jobs/workdir/fedavg/app_server/config/config_fed_server.json"
   ]
  },
  {
   "cell_type": "markdown",
   "id": "a75c80c4",
   "metadata": {},
   "source": [
    "The server configuration is a JSON file describing the workflows. In our case, we defined one workflow, which has a controller using our defined FedAvg class.\n",
    "\n",
    "\n",
    ">Note:  The configuration pattern is like the followings\n",
    "```\n",
    "    id: <unquie id>,\n",
    "    path: <class_path>,\n",
    "    args: {\n",
    "        class contructor arguments\n",
    "    }\n",
    "```\n"
   ]
  },
  {
   "cell_type": "markdown",
   "id": "c56170bf",
   "metadata": {},
   "source": [
    "### Client configurations\n",
    "\n",
    "We look at the site-1 client's configuration "
   ]
  },
  {
   "cell_type": "code",
   "execution_count": null,
   "id": "64f5fd1a",
   "metadata": {},
   "outputs": [],
   "source": [
    "! cat /tmp/nvflare/jobs/workdir/fedavg/app_site-1//config/config_fed_client.json"
   ]
  },
  {
   "cell_type": "markdown",
   "id": "d9753aeb",
   "metadata": {},
   "source": [
    "The configuration is similar; it defines an array of \"executors\". A built-in `PTInProcessClientAPIExecutor` is used, which takes the training script client.py and its corresponding arguments as input. \n",
    "\n",
    "\n",
    "```\n",
    "  \"executor\": {\n",
    "                \"path\": \"nvflare.app_opt.pt.in_process_client_api_executor.PTInProcessClientAPIExecutor\",\n",
    "                \"args\": {\n",
    "                    \"task_script_path\": \"src/client.py\",\n",
    "                    \"task_script_args\": \"--learning_rate 0.01 --batch_size 12\"\n",
    "                }\n",
    "            }\n",
    "\n",
    "```\n",
    "\n",
    "\n",
    "The default Job configuration is json, but one can also use pyhocon or YAML, please refer to [config file documentation](https://nvflare.readthedocs.io/en/2.4/user_guide/configurations.html) for details\n"
   ]
  },
  {
   "cell_type": "markdown",
   "id": "3dc17db6",
   "metadata": {},
   "source": [
    "## Simulator CLI\n",
    "\n",
    "With these job configuration, one can directly run simulator from command line. Here is the syntax and we will use it to run our previous job \n",
    "\n"
   ]
  },
  {
   "cell_type": "code",
   "execution_count": null,
   "id": "24055f32",
   "metadata": {},
   "outputs": [],
   "source": [
    "! nvflare simulator --help"
   ]
  },
  {
   "cell_type": "code",
   "execution_count": null,
   "id": "a99ebc6c",
   "metadata": {
    "scrolled": true
   },
   "outputs": [],
   "source": [
    "!nvflare simulator  /tmp/nvflare/jobs/workdir/fedavg/  -w /tmp/nvflare/jobs/workdir/fedavg/workspace -n 5 -t 5 "
   ]
  },
  {
   "cell_type": "markdown",
   "id": "e8914e76",
   "metadata": {},
   "source": [
    "Hope you now have a good understanding of NVIDIA FLARE's jobs. \n",
    "\n",
    "Next, let's learn about FLARE's logging configuration: [Logging Configuration](../01.7_logging/logging.ipynb)."
   ]
  }
 ],
 "metadata": {
  "kernelspec": {
   "display_name": "nvflare_env",
   "language": "python",
   "name": "nvflare_env"
  },
  "language_info": {
   "codemirror_mode": {
    "name": "ipython",
    "version": 3
   },
   "file_extension": ".py",
   "mimetype": "text/x-python",
   "name": "python",
   "nbconvert_exporter": "python",
   "pygments_lexer": "ipython3",
   "version": "3.10.12"
  }
 },
 "nbformat": 4,
 "nbformat_minor": 5
}
