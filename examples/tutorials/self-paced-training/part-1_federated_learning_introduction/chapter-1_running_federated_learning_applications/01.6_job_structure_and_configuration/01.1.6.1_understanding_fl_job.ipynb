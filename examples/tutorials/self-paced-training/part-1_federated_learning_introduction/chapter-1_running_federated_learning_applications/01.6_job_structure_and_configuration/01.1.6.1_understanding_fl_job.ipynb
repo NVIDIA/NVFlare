{
 "cells": [
  {
   "cell_type": "markdown",
   "id": "1bfdb3f6-3fec-48bd-a745-c9ffae04682d",
   "metadata": {},
   "source": [
    "# Understanding FLARE federated learning Job structure\n"
   ]
  },
  {
   "cell_type": "markdown",
   "id": "ab47f2c5",
   "metadata": {},
   "source": [
    "## What is NVFlare Job ? \n",
    "\n",
    "\n",
    "NVFlare Job refers to a job configuration used within the NVIDIA FLARE framework.  \n",
    "\n",
    "In NVFlare, a job is a unit of work that defines the specific tasks to be executed during a federated learning process. It encapsulates all necessary configurations, scripts, and resources needed to run an FL task, such as training, validation, or evaluation, across multiple participants in a federated system.\n",
    "\n",
    "A job may have many apps. Each app consists code specific for the site (client site or server site) as well as configurations.  \n",
    "\n",
    "\n",
    "In this section, we will take a look at the Job structure as well as Job API ( akak job construction API). \n",
    "\n",
    "## Job creation API\n",
    "\n",
    "NVFlare defined a python API to make it easier to create job. Let's take a closer look at Job API\n",
    "\n",
    "\n",
    "```python\n",
    "\n",
    "from src.network import SimpleNetwork\n",
    "\n",
    "from nvflare.app_opt.pt.job_config.fed_avg import FedAvgJob\n",
    "from nvflare.job_config.script_runner import ScriptRunner\n",
    "\n",
    "if __name__ == \"__main__\":\n",
    "    n_clients = 5\n",
    "    num_rounds = 2\n",
    "   \n",
    "    train_script = \"src/client.py\"\n",
    "\n",
    "\n",
    "    job = FedJob(name=job_name, min_clients=num_clients)\n",
    "\n",
    "    controller = FedAvg(\n",
    "        stop_cond=\"accuracy > 25\",\n",
    "        save_filename=\"global_model.pt\",\n",
    "        initial_model=SimpleNetwork(),\n",
    "        num_clients=num_clients,\n",
    "        num_rounds=num_rounds,\n",
    "    )\n",
    "\n",
    "    job.to_server(controller)\n",
    "\n",
    "    # Add clients\n",
    "    for i in range(n_clients):\n",
    "        executor = ScriptRunner(\n",
    "            script=train_script, script_args=\"\" \n",
    "        )\n",
    "        job.to(executor, f\"site-{i + 1}\")\n",
    "\n",
    "    job.simulator_run(\"/tmp/nvflare/jobs/workdir\")\n",
    "\n",
    "\n",
    "```\n",
    "\n",
    "### Server\n",
    "\n",
    "We create FedJob, we create a FedAvg Algorithm ( called Controller, details later) and add to the server of the Fed Job. \n",
    "\n",
    "\n",
    "#### Client Side\n",
    "\n",
    "On the client side, we are using `client.py`, leveraging a `ScriptRunner` class which can run `client.py` directly. We assign the client code to each site, all running the same code and training parameters.\n",
    "\n",
    "executor = ScriptRunner(script=train_script, script_args=\"\")\n",
    "job.to(executor, f\"site-{i + 1}\")\n",
    "\n",
    "Finally, we run the simulator with this:\n",
    "\n",
    "```\n",
    "    job.simulator_run(\"/tmp/nvflare/jobs/workdir\")\n",
    "```\n",
    "\n",
    "\n",
    "The overall Job creation pattern is like this:\n",
    "\n",
    "* Create a Fed Job:\n",
    " \n",
    "The overall Job creation pattern is like this\n",
    "\n",
    "* Create a Fed Job: \n",
    "\n",
    "   ```\n",
    "        class MyJob(BaseFedJob):\n",
    "            pass\n",
    "\n",
    "    job = MyJob()\n",
    "\n",
    "    server_side_algorithm =  FedAvg( ...)  # which we call controller\n",
    "    job.to_server(server_side_algorithm)\n",
    "\n",
    "\n",
    "    client_side_algorithm = ScriptRunner( script=train_script, script_args=\"\") \n",
    "    # assign it to client site\n",
    "    job.to(client_side_algorithm, site_name)\n",
    "\n",
    "   ```\n",
    "\n",
    "\n",
    "\n",
    "The job API will create the job for you. The  \n",
    "\n",
    "```\n",
    "job.simulator_run(\"/tmp/nvflare/jobs/workdir\") \n",
    "\n",
    "```\n",
    "\n",
    "is actually create a job, then use simulator run the job. \n",
    "\n",
    "Let's use \n",
    "\n",
    "```\n",
    "   job.export_job(\"/tmp/nvflare/jobs/job_config\")\n",
    "```\n",
    "to generate job configuration without running the job. This code will be located at [fl_job_config.py](code/fl_job_config.py)\n",
    "\n"
   ]
  },
  {
   "cell_type": "code",
   "execution_count": null,
   "id": "2d60f696",
   "metadata": {},
   "outputs": [],
   "source": [
    "%cd code"
   ]
  },
  {
   "cell_type": "code",
   "execution_count": null,
   "id": "20852a33",
   "metadata": {},
   "outputs": [],
   "source": [
    "! python3 fl_job_config.py\n"
   ]
  },
  {
   "cell_type": "markdown",
   "id": "e47686f7",
   "metadata": {},
   "source": [
    "Now we have create job configuration, let's take a closer look. "
   ]
  },
  {
   "cell_type": "markdown",
   "id": "85ae0bde",
   "metadata": {},
   "source": [
    "## Job structure"
   ]
  },
  {
   "cell_type": "code",
   "execution_count": null,
   "id": "2b53b6ea",
   "metadata": {},
   "outputs": [],
   "source": [
    "\n",
    "! tree /tmp/nvflare/jobs/job_config/fedavg"
   ]
  },
  {
   "cell_type": "markdown",
   "id": "f475fa49",
   "metadata": {},
   "source": [
    "The job name \"FedAvg\" is folder structure, with each folder representing one app at one site. \n",
    "\n",
    "* **\"app_server\"**:  is the name for the server app\n",
    "\n",
    "* **\"app_site-n\"**:  is the name for the client app\n",
    "\n",
    "* for each site: it consits of \n",
    "   * **config**:  directory which contains side specific configuration\n",
    "\n",
    "   * **custom**:  store the custom code for the specifc site\n",
    "\n",
    "These names can be changed if you manually edit these configurations. By default Job API uses above conventions. \n",
    "\n",
    "\n",
    "* meta.json gives additional information related to the each app's deployment. \n",
    "\n",
    "```\n",
    "{\n",
    "    \"name\": \"fedavg\",\n",
    "    \"resource_spec\": {},\n",
    "    \"min_clients\": 1,\n",
    "    \"deploy_map\": {\n",
    "        \"app_server\": [\n",
    "            \"server\"\n",
    "        ],\n",
    "        \"app_site-1\": [\n",
    "            \"site-1\"\n",
    "        ],\n",
    "        \"app_site-2\": [\n",
    "            \"site-2\"\n",
    "        ],\n",
    "        \"app_site-3\": [\n",
    "            \"site-3\"\n",
    "        ],\n",
    "        \"app_site-4\": [\n",
    "            \"site-4\"\n",
    "        ],\n",
    "        \"app_site-5\": [\n",
    "            \"site-5\"\n",
    "        ]\n",
    "    }\n",
    "}\n",
    "```"
   ]
  },
  {
   "cell_type": "markdown",
   "id": "18bea8f7",
   "metadata": {},
   "source": [
    "A simplifed format of job structure can also be used when the client code and configuration is the same for all sites\n",
    "\n",
    "```\n",
    "/tmp/nvflare/jobs/job_config/fedavg\n",
    "├── app_server\n",
    "│   ├── config\n",
    "│   │   └── config_fed_server.json\n",
    "│   └── custom\n",
    "│       └── src\n",
    "│           └── network.py\n",
    "├── app_client\n",
    "│   ├── config\n",
    "│   │   └── config_fed_client.json\n",
    "│   └── custom\n",
    "│       ├── network.py\n",
    "│       └── src\n",
    "│           └── client.py\n",
    "└── meta.json\n",
    "\n",
    "\n",
    "```\n",
    "\n",
    "meta.json needs to be \n",
    "\n",
    "\n",
    "```\n",
    "{\n",
    "    \"name\": \"fedavg\",\n",
    "    \"resource_spec\": {},\n",
    "    \"min_clients\": 1,\n",
    "    \"deploy_map\": {\n",
    "        \"app_server\": [\n",
    "            \"server\"\n",
    "        ],\n",
    "        \"app_client\": [\n",
    "            \"site-1\", \"site-2\", \"site-3\", \"site-4\", \"site-5\" \n",
    "        ]\n",
    "    }\n",
    "}\n",
    "```\n",
    "\n",
    "\n",
    "If we don't mind deploy all code to all sites, we can change the job config into the followings\n",
    "\n",
    "A simplifed format of job structure can also be used when the client code and configuration is the same for all sites\n",
    "\n",
    "```\n",
    "/tmp/nvflare/jobs/job_config/fedavg\n",
    "├── app\n",
    "│   ├── config\n",
    "    |   └── config_fed_client.json\n",
    "│   │   └── config_fed_server.json\n",
    "│   └── custom\n",
    "│       └── src\n",
    "│           └── network.py\n",
    "|           └── client.py\n",
    "└── meta.json\n",
    "\n",
    "\n",
    "```\n",
    "\n",
    "meta.json needs to be \n",
    "\n",
    "\n",
    "```\n",
    "{\n",
    "    \"name\": \"fedavg\",\n",
    "    \"resource_spec\": {},\n",
    "    \"min_clients\": 1,\n",
    "    \"deploy_map\": {\n",
    "         app = [\"@ALL\"]\n",
    "    }\n",
    "}\n",
    "```\n",
    "\n"
   ]
  },
  {
   "cell_type": "markdown",
   "id": "b0d07393",
   "metadata": {},
   "source": [
    "## Job Configuration\n",
    "\n",
    "We have convered a lot of ground so far. You could stop here, and move to the next chapter of the training materials. \n",
    "\n",
    "But if you like to futher understand how NVIDIA FLARE works, you might want to go through this section: Job Configuration. \n"
   ]
  },
  {
   "cell_type": "code",
   "execution_count": null,
   "id": "0b61e8ac",
   "metadata": {},
   "outputs": [],
   "source": [
    "%cd code"
   ]
  },
  {
   "cell_type": "code",
   "execution_count": null,
   "id": "0892c07e",
   "metadata": {},
   "outputs": [],
   "source": [
    "! tree /tmp/nvflare/jobs/workdir/fedavg/\n"
   ]
  },
  {
   "cell_type": "markdown",
   "id": "6edc997b",
   "metadata": {},
   "source": [
    "At each site, there is job configuration file: \n",
    "\n",
    "\n",
    "* ```config_fed_client.json``` Or\n",
    "* ```config_fed_server.json```\n",
    "\n",
    "These are the job configuration,"
   ]
  },
  {
   "cell_type": "markdown",
   "id": "885aeb7a",
   "metadata": {},
   "source": [
    "### Server Configuration"
   ]
  },
  {
   "cell_type": "code",
   "execution_count": null,
   "id": "ed26c66b",
   "metadata": {},
   "outputs": [],
   "source": [
    "! cat /tmp/nvflare/jobs/workdir/fedavg/app_server/config/config_fed_server.json"
   ]
  },
  {
   "cell_type": "markdown",
   "id": "a75c80c4",
   "metadata": {},
   "source": [
    "The server configuration is a json file descripe the workflows. In our case, we defined one workflow, whci has a controller using our defined FedAvg class. \n",
    "\n",
    "\n",
    ">Note:  The configuration pattern is like the followings\n",
    "```\n",
    "    id: <unquie id>,\n",
    "    path: <class_path>,\n",
    "    args: {\n",
    "        class contructor arguments\n",
    "    }\n",
    "```\n"
   ]
  },
  {
   "cell_type": "markdown",
   "id": "c56170bf",
   "metadata": {},
   "source": [
    "### Client Configurations\n",
    "\n",
    "We look at the site-1 client's configuration "
   ]
  },
  {
   "cell_type": "code",
   "execution_count": null,
   "id": "64f5fd1a",
   "metadata": {},
   "outputs": [],
   "source": [
    "! cat /tmp/nvflare/jobs/workdir/fedavg/app_site-1//config/config_fed_client.json"
   ]
  },
  {
   "cell_type": "markdown",
   "id": "d9753aeb",
   "metadata": {},
   "source": [
    "the configuration is simular, it defines an array of \"executors\", a builtin ```PTInProcessClientAPIExecutor``` is used, \n",
    "which takes the training script client.py and its corresponding arguments as input. \n",
    "\n",
    "\n",
    "```\n",
    "  \"executor\": {\n",
    "                \"path\": \"nvflare.app_opt.pt.in_process_client_api_executor.PTInProcessClientAPIExecutor\",\n",
    "                \"args\": {\n",
    "                    \"task_script_path\": \"src/client.py\",\n",
    "                    \"task_script_args\": \"--learning_rate 0.01 --batch_size 12\"\n",
    "                }\n",
    "            }\n",
    "\n",
    "```\n",
    "\n",
    "\n",
    "The default Job configuration is json, but one can also use pyhocon or YAML, please refer to [config file documentation](https://nvflare.readthedocs.io/en/2.4/user_guide/configurations.html) for details\n"
   ]
  },
  {
   "cell_type": "markdown",
   "id": "3dc17db6",
   "metadata": {},
   "source": [
    "## Simulator CLI\n",
    "\n",
    "With these job configuration, one can directly run simulator from command line. Here is the syntax and we will use it to run our previous job \n",
    "\n"
   ]
  },
  {
   "cell_type": "code",
   "execution_count": null,
   "id": "24055f32",
   "metadata": {},
   "outputs": [],
   "source": [
    "! nvflare simulator --help"
   ]
  },
  {
   "cell_type": "code",
   "execution_count": null,
   "id": "a99ebc6c",
   "metadata": {},
   "outputs": [],
   "source": [
    "!nvflare simulator  /tmp/nvflare/jobs/workdir/fedavg/  -w /tmp/nvflare/jobs/workdir/fedavg/workspace -n 5 -t 5 "
   ]
  },
  {
   "cell_type": "markdown",
   "id": "e8914e76",
   "metadata": {},
   "source": [
    "Hope you have a good standing of working with NVIDIA FLARE job so far. Let's move on to other chapters. "
   ]
  }
 ],
 "metadata": {
  "kernelspec": {
   "display_name": "Python 3",
   "language": "python",
   "name": "python3"
  },
  "language_info": {
   "codemirror_mode": {
    "name": "ipython",
    "version": 3
   },
   "file_extension": ".py",
   "mimetype": "text/x-python",
   "name": "python",
   "nbconvert_exporter": "python",
   "pygments_lexer": "ipython3",
   "version": "3.10.12"
  }
 },
 "nbformat": 4,
 "nbformat_minor": 5
}
