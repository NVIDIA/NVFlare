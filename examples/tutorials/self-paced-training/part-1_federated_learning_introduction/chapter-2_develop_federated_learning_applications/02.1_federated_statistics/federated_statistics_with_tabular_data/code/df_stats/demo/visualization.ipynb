{
 "cells": [
  {
   "cell_type": "markdown",
   "id": "7c4be7b0",
   "metadata": {},
   "source": [
    "# NVFlare Federated Statistics Visualization"
   ]
  },
  {
   "cell_type": "markdown",
   "id": "665dc17e",
   "metadata": {},
   "source": [
    "## Tabular Data Statistics Visualization\n",
    "In this example, we demonstate how to visualize the results from the statistics of tabular data. The visualization requires json, pandas, matplotlib modules as well as nvflare visualization utlities. "
   ]
  },
  {
   "cell_type": "code",
   "execution_count": 2,
   "id": "c44a0217",
   "metadata": {
    "tags": []
   },
   "outputs": [],
   "source": [
    "import json\n",
    "import pandas as pd\n",
    "\n",
    "from nvflare.app_opt.statistics.visualization.statistics_visualization import Visualization"
   ]
  },
  {
   "cell_type": "markdown",
   "id": "30c79d1a",
   "metadata": {},
   "source": [
    "First, copy the resulting json file to demo directory. In this example, the resulting file is called `adults_stats.json`. Then load json file:"
   ]
  },
  {
   "cell_type": "code",
   "execution_count": 4,
   "id": "44f6bed2",
   "metadata": {
    "tags": []
   },
   "outputs": [
    {
     "ename": "FileNotFoundError",
     "evalue": "[Errno 2] No such file or directory: 'adults_stats.json'",
     "output_type": "error",
     "traceback": [
      "\u001b[0;31m---------------------------------------------------------------------------\u001b[0m",
      "\u001b[0;31mFileNotFoundError\u001b[0m                         Traceback (most recent call last)",
      "Cell \u001b[0;32mIn[4], line 1\u001b[0m\n\u001b[0;32m----> 1\u001b[0m \u001b[38;5;28;01mwith\u001b[39;00m \u001b[38;5;28;43mopen\u001b[39;49m\u001b[43m(\u001b[49m\u001b[38;5;124;43m'\u001b[39;49m\u001b[38;5;124;43madults_stats.json\u001b[39;49m\u001b[38;5;124;43m'\u001b[39;49m\u001b[43m,\u001b[49m\u001b[43m \u001b[49m\u001b[38;5;124;43m'\u001b[39;49m\u001b[38;5;124;43mr\u001b[39;49m\u001b[38;5;124;43m'\u001b[39;49m\u001b[43m)\u001b[49m \u001b[38;5;28;01mas\u001b[39;00m f:\n\u001b[1;32m      2\u001b[0m     data \u001b[38;5;241m=\u001b[39m json\u001b[38;5;241m.\u001b[39mload(f)\n",
      "File \u001b[0;32m~/nvflare_env/lib/python3.10/site-packages/IPython/core/interactiveshell.py:324\u001b[0m, in \u001b[0;36m_modified_open\u001b[0;34m(file, *args, **kwargs)\u001b[0m\n\u001b[1;32m    317\u001b[0m \u001b[38;5;28;01mif\u001b[39;00m file \u001b[38;5;129;01min\u001b[39;00m {\u001b[38;5;241m0\u001b[39m, \u001b[38;5;241m1\u001b[39m, \u001b[38;5;241m2\u001b[39m}:\n\u001b[1;32m    318\u001b[0m     \u001b[38;5;28;01mraise\u001b[39;00m \u001b[38;5;167;01mValueError\u001b[39;00m(\n\u001b[1;32m    319\u001b[0m         \u001b[38;5;124mf\u001b[39m\u001b[38;5;124m\"\u001b[39m\u001b[38;5;124mIPython won\u001b[39m\u001b[38;5;124m'\u001b[39m\u001b[38;5;124mt let you open fd=\u001b[39m\u001b[38;5;132;01m{\u001b[39;00mfile\u001b[38;5;132;01m}\u001b[39;00m\u001b[38;5;124m by default \u001b[39m\u001b[38;5;124m\"\u001b[39m\n\u001b[1;32m    320\u001b[0m         \u001b[38;5;124m\"\u001b[39m\u001b[38;5;124mas it is likely to crash IPython. If you know what you are doing, \u001b[39m\u001b[38;5;124m\"\u001b[39m\n\u001b[1;32m    321\u001b[0m         \u001b[38;5;124m\"\u001b[39m\u001b[38;5;124myou can use builtins\u001b[39m\u001b[38;5;124m'\u001b[39m\u001b[38;5;124m open.\u001b[39m\u001b[38;5;124m\"\u001b[39m\n\u001b[1;32m    322\u001b[0m     )\n\u001b[0;32m--> 324\u001b[0m \u001b[38;5;28;01mreturn\u001b[39;00m \u001b[43mio_open\u001b[49m\u001b[43m(\u001b[49m\u001b[43mfile\u001b[49m\u001b[43m,\u001b[49m\u001b[43m \u001b[49m\u001b[38;5;241;43m*\u001b[39;49m\u001b[43margs\u001b[49m\u001b[43m,\u001b[49m\u001b[43m \u001b[49m\u001b[38;5;241;43m*\u001b[39;49m\u001b[38;5;241;43m*\u001b[39;49m\u001b[43mkwargs\u001b[49m\u001b[43m)\u001b[49m\n",
      "\u001b[0;31mFileNotFoundError\u001b[0m: [Errno 2] No such file or directory: 'adults_stats.json'"
     ]
    }
   ],
   "source": [
    "with open('adults_stats.json', 'r') as f:\n",
    "    data = json.load(f)"
   ]
  },
  {
   "cell_type": "markdown",
   "id": "c5cdbcc0",
   "metadata": {},
   "source": [
    "Initialize the Visualization utilities:"
   ]
  },
  {
   "cell_type": "code",
   "execution_count": 3,
   "id": "93c62d5e",
   "metadata": {
    "tags": []
   },
   "outputs": [],
   "source": [
    "vis = Visualization()"
   ]
  },
  {
   "cell_type": "markdown",
   "id": "1b0f21fd",
   "metadata": {},
   "source": [
    "### Overall Statistics"
   ]
  },
  {
   "cell_type": "markdown",
   "id": "b49588c2",
   "metadata": {},
   "source": [
    "vis.show_statis() will show the statistics for each features, at each site for each dataset:"
   ]
  },
  {
   "cell_type": "code",
   "execution_count": null,
   "id": "ab771712",
   "metadata": {
    "tags": []
   },
   "outputs": [],
   "source": [
    "\n",
    "vis.show_stats(data = data)"
   ]
  },
  {
   "cell_type": "markdown",
   "id": "4986dd14",
   "metadata": {},
   "source": [
    "### Select features statistics using white_list_features \n",
    "You can optionally select to show only specified features via the white_list_features argument. In the following, only three features are selected instead of all the features:"
   ]
  },
  {
   "cell_type": "code",
   "execution_count": null,
   "id": "563a8bb7",
   "metadata": {
    "tags": []
   },
   "outputs": [],
   "source": [
    "vis.show_stats(data = data, white_list_features= ['Age', 'fnlwgt', 'Hours per week'])"
   ]
  },
  {
   "cell_type": "markdown",
   "id": "95e42829",
   "metadata": {},
   "source": [
    "### Histogram Visualization\n",
    "You can use `vis.show_histograms()` to visualize the histogram. Before doing that, you can set some iPython display settings to make the graph display in a full cell. "
   ]
  },
  {
   "cell_type": "code",
   "execution_count": null,
   "id": "fcdfb197",
   "metadata": {
    "tags": []
   },
   "outputs": [],
   "source": [
    "from IPython.display import display, HTML\n",
    "display(HTML(\"<style>.container { width:100%  depth:100% !important; }</style>\"))"
   ]
  },
  {
   "cell_type": "markdown",
   "id": "3e86860e",
   "metadata": {},
   "source": [
    "The following command displays histograms for numeric features. The result shows both the main plot and sub-plots:"
   ]
  },
  {
   "cell_type": "code",
   "execution_count": null,
   "id": "f3dd3821",
   "metadata": {
    "tags": []
   },
   "outputs": [],
   "source": [
    "vis.show_histograms(data = data)"
   ]
  },
  {
   "cell_type": "markdown",
   "id": "49b74579",
   "metadata": {},
   "source": [
    "# Display Options\n",
    "Similar to other statistics, you can use white_list_features to select features to display on histograms. you can also use display_format=\"percent\" to allow all dataset and sites to be displayed in the same scale. You can set \n",
    "\n",
    "* display_format: \"percent\" or \"sample_count\"\n",
    "* white_list_features: feature names\n",
    "* plot_type : \"both\" or \"main\" or \"subplot\"\n",
    "\n",
    "#### Show percent display format with selected features\n",
    "In the following, only the feature \"Age\" is displayed, in \"percent\" display_format, with \"both\" as the plot_type (since that is the default setting)."
   ]
  },
  {
   "cell_type": "code",
   "execution_count": null,
   "id": "e07b9266",
   "metadata": {},
   "outputs": [],
   "source": [
    "vis.show_histograms(data = data, display_format = \"percent\", white_list_features= ['Age'])"
   ]
  },
  {
   "cell_type": "markdown",
   "id": "cddf21af",
   "metadata": {},
   "source": [
    "#### Display main plot_type with selected features\n",
    "In this example, two features are displayed in \"sample_counts\" display_format, with \"main\" plot_type"
   ]
  },
  {
   "cell_type": "code",
   "execution_count": null,
   "id": "038e238e",
   "metadata": {},
   "outputs": [],
   "source": [
    "vis.show_histograms(data, \"sample_counts\", ['Age', 'Hours per week' ], plot_type=\"main\")"
   ]
  },
  {
   "cell_type": "markdown",
   "id": "b06195ac",
   "metadata": {},
   "source": [
    "#### Selected features with subplot plot_type\n",
    "In next example, one feature is displayed in \"sample_counts\" display_format, with \"subplot\" plot_type"
   ]
  },
  {
   "cell_type": "code",
   "execution_count": null,
   "id": "8958e124",
   "metadata": {},
   "outputs": [],
   "source": [
    "vis.show_histograms(data, \"sample_counts\", ['Age', 'Hours per week' ], plot_type=\"subplot\")"
   ]
  },
  {
   "cell_type": "markdown",
   "id": "ffa1da20",
   "metadata": {},
   "source": [
    "Now, Let's back to [federated_statistics_with_tabular_data](../../../federated_statistics_with_tabular_data.ipynb)"
   ]
  },
  {
   "cell_type": "markdown",
   "id": "d3f12a4a",
   "metadata": {},
   "source": []
  }
 ],
 "metadata": {
  "kernelspec": {
   "display_name": "nvflare_env",
   "language": "python",
   "name": "nvflare_env"
  },
  "language_info": {
   "codemirror_mode": {
    "name": "ipython",
    "version": 3
   },
   "file_extension": ".py",
   "mimetype": "text/x-python",
   "name": "python",
   "nbconvert_exporter": "python",
   "pygments_lexer": "ipython3",
   "version": "3.10.12"
  }
 },
 "nbformat": 4,
 "nbformat_minor": 5
}
