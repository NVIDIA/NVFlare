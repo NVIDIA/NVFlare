{
 "cells": [
  {
   "cell_type": "markdown",
   "id": "7d7767c9",
   "metadata": {},
   "source": [
    "# Federated K-Means Clustering with Scikit-learn on Iris Dataset"
   ]
  },
  {
   "cell_type": "markdown",
   "id": "f635ea04",
   "metadata": {},
   "source": [
    "## Introduction to Scikit-learn, tabular data, and federated k-Means\n",
    "### Scikit-learn\n",
    "This example shows how to use [NVIDIA FLARE](https://nvflare.readthedocs.io/en/main/index.html) on tabular data.\n",
    "It uses [Scikit-learn](https://scikit-learn.org/),\n",
    "a widely used open-source machine learning library that supports supervised \n",
    "and unsupervised learning.\n",
    "### Tabular data\n",
    "The data used in this example is tabular in a format that can be handled by [pandas](https://pandas.pydata.org/), such that:\n",
    "- rows correspond to data samples\n",
    "- the first column represents the label \n",
    "- the other columns cover the features.    \n",
    "\n",
    "Each client is expected to have one local data file containing both training \n",
    "and validation samples. To load the data for each client, the following \n",
    "parameters are expected by the local learner:\n",
    "- data_file_path: string, the full path to the client's data file \n",
    "- train_start: int, start row index for the training set\n",
    "- train_end: int, end row index for the training set\n",
    "- valid_start: int, start row index for the validation set\n",
    "- valid_end: int, end row index for the validation set\n",
    "\n",
    "### Federated k-Means clustering\n",
    "The machine learning algorithm in this example is [k-Means clustering](https://scikit-learn.org/stable/modules/generated/sklearn.cluster.KMeans.html).\n",
    "\n",
    "The aggregation follows the scheme defined in [Mini-batch k-Means](https://scikit-learn.org/stable/modules/generated/sklearn.cluster.MiniBatchKMeans.html). \n",
    "\n",
    "Under this setting, each round of federated learning can be formulated as follows:\n",
    "- local training: starting from global centers, each client trains a local MiniBatchKMeans model with their own data\n",
    "- global aggregation: server collects the cluster center, \n",
    "  counts information from all clients, aggregates them by considering \n",
    "  each client's results as a mini-batch, and updates the global center and per-center counts.\n",
    "\n",
    "For center initialization, at the first round, each client generates its initial centers with the k-means++ method. Then, the server collects all initial centers and performs one round of k-means to generate the initial global center.\n",
    "\n",
    "Below we listed steps to run this example."
   ]
  },
  {
   "cell_type": "markdown",
   "id": "ce92018e",
   "metadata": {},
   "source": [
    "## Install requirements\n",
    "First, install the required packages:"
   ]
  },
  {
   "cell_type": "code",
   "execution_count": null,
   "id": "e08b25db",
   "metadata": {},
   "outputs": [],
   "source": [
    "% pip install -r code/requirements.txt"
   ]
  },
  {
   "cell_type": "markdown",
   "id": "31c22f7d",
   "metadata": {},
   "source": [
    "## Download and prepare data\n",
    "This example uses the Iris dataset available from Scikit-learn's dataset API.  "
   ]
  },
  {
   "cell_type": "code",
   "execution_count": null,
   "id": "e6c3b765",
   "metadata": {},
   "outputs": [],
   "source": [
    "%env DATASET_PATH=/tmp/nvflare/dataset/sklearn_iris.csv\n",
    "! python3 ./code/utils/prepare_data.py --dataset_name iris --randomize 1 --out_path ${DATASET_PATH}"
   ]
  },
  {
   "cell_type": "markdown",
   "id": "6a1fefd8",
   "metadata": {},
   "source": [
    "This will load the data, format it properly by removing the header, order \n",
    "the label and feature columns, randomize the dataset, and save it to a CSV file with comma separation. \n",
    "The default path is `/tmp/nvflare/dataset/sklearn_iris.csv`. \n",
    "\n",
    "Note that the dataset contains a label for each sample, which will not be \n",
    "used for training since k-Means clustering is an unsupervised method. \n",
    "The entire dataset with labels will be used for performance evaluation \n",
    "based on [homogeneity_score](https://scikit-learn.org/stable/modules/generated/sklearn.metrics.homogeneity_score.html)."
   ]
  },
  {
   "cell_type": "markdown",
   "id": "c980231e",
   "metadata": {},
   "source": [
    "## Prepare clients' configs with proper data information \n",
    "For real-world FL applications, the config JSON files are expected to be \n",
    "specified by each client individually, according to their own local data path and splits for training and validation.\n",
    "\n",
    "In this simulated study, to efficiently generate the config files for a \n",
    "study under a particular setting, we provide a script to automate the process.\n",
    "\n",
    "Note that manual copying and content modification can achieve the same.\n",
    "\n",
    "For an experiment with `K` clients, we split one dataset into `K+1` parts in a non-overlapping fashion: \n",
    "`K` clients' training data and `1` common validation data.\n",
    "\n",
    "To simulate data imbalance among clients, we provided several options for client data splits by specifying how a client's data amount correlates with its ID number (from `1` to `K`):\n",
    "- Uniform\n",
    "- Linear\n",
    "- Square\n",
    "- Exponential\n",
    "\n",
    "These options can be used to simulate no data imbalance (uniform), moderate \n",
    "data imbalance (linear), and high data imbalance (square for larger client \n",
    "number, e.g. `K=20`, exponential for smaller client number, e.g. `K=5` as \n",
    "it will be too aggressive for a larger number of clients)\n",
    "\n",
    "This step is performed by "
   ]
  },
  {
   "cell_type": "code",
   "execution_count": null,
   "id": "79496f10",
   "metadata": {},
   "outputs": [],
   "source": [
    "%env DATASET_PATH=/tmp/nvflare/dataset/sklearn_iris.csv\n",
    "! python3 ./utils/prepare_job_config.py --task_name \"sklearn_kmeans\" --data_path \"${DATASET_PATH}\" --site_num 3 --valid_frac 1 --split_method \"uniform\""
   ]
  },
  {
   "cell_type": "markdown",
   "id": "b86d1d0a",
   "metadata": {},
   "source": [
    "In this example, we experiment with 3 clients under a uniform data split."
   ]
  },
  {
   "cell_type": "markdown",
   "id": "cf161c43",
   "metadata": {},
   "source": [
    "## Run simulated kmeans experiment\n",
    "Now that we have the job configs ready, we run the experiment using the FL Simulator."
   ]
  },
  {
   "cell_type": "code",
   "execution_count": null,
   "id": "a2a8f0ee",
   "metadata": {},
   "outputs": [],
   "source": [
    "! nvflare simulator ./code/jobs/sklearn_kmeans_3_uniform -w /tmp/nvflare/sklearn_kmeans_iris -n 3 -t 3"
   ]
  },
  {
   "cell_type": "markdown",
   "id": "fb48af70",
   "metadata": {},
   "source": [
    "## Result visualization\n",
    "Model accuracy is computed as the homogeneity score between the cluster formed and the ground truth label, which can be visualized in tensorboard."
   ]
  },
  {
   "cell_type": "code",
   "execution_count": null,
   "id": "88d9f366",
   "metadata": {},
   "outputs": [],
   "source": [
    "%load_ext tensorboard\n",
    "%tensorboard --logdir /tmp/nvflare/sklearn_kmeans_iris"
   ]
  }
 ],
 "metadata": {
  "kernelspec": {
   "display_name": ".venv",
   "language": "python",
   "name": "python3"
  },
  "language_info": {
   "codemirror_mode": {
    "name": "ipython",
    "version": 3
   },
   "file_extension": ".py",
   "mimetype": "text/x-python",
   "name": "python",
   "nbconvert_exporter": "python",
   "pygments_lexer": "ipython3",
   "version": "3.10.2"
  }
 },
 "nbformat": 4,
 "nbformat_minor": 5
}
