{
 "cells": [
  {
   "cell_type": "markdown",
   "id": "ed32af6f",
   "metadata": {},
   "source": [
    "# Develop Federated Learning Applications\n",
    "\n",
    "In this chapter, we will explore the process of developing federated learning applications. \n",
    "\n",
    "We will cover the following topics:\n",
    "\n",
    "2.1. **Federated Statistics**\n",
    "   \n",
    "   We first start with federated data statistical analysis, as this is often a preliminary phase of a data science project. We show case how you easily analyze and visualize federated statistics with examples on both tabular and image data:\n",
    "   \n",
    "* [Federated Statistics with tabular data](../02.1_federated_statistics/federated_statistics_with_tabular_data/federated_statistics_with_tabular_data.ipynb)\n",
    "* [Federated Statistics with image data](../02.1_federated_statistics/federated_statistics_with_image_data/federated_statistics_with_image_data.ipynb)\n",
    "\n",
    "2.2. **Client API In-Depth** \n",
    "\n",
    "We have already learned what CLient API is and have seen some basic example applications developed using Client API. In this chapter, we will have an in-depth learning of Client API.\n",
    "\n",
    "* [Client API In-Depth](../02.2_client_api_in_depth/client_api_in_depth.ipynb)\n",
    "\n",
    "After an in-depth learning of FLARE's Client API, we will walkthrough more examples using Client API, to develop various types of Deep Learning and Machine Learning applications.\n",
    "\n",
    "2.3. **Client API Example: Convert PyTorch Lightning to Federated Learning**\n",
    "\n",
    "   * [Convert PyTorch Lightning to Federated Learning](../02.3_convert_torch_lightning_to_federated_learning/convert_torch_lightning_to_fl.ipynb)\n",
    "\n",
    "2.4. **Client API Example: Convert Machine Learning to Federated Learning**\n",
    "\n",
    "   * [Convert Logistic Regression to Federated Learning](../02.4_convert_machine_learning_to_federated_learning/02.4.1_convert_logistic_regression_to_federated_learning/convert_logistic_regression_to_fl.ipynb)\n",
    "\n",
    "   * [Convert K-means to Federated Learning](../02.4_convert_machine_learning_to_federated_learning/02.4.2_convert_kmeans_to_federated_learning/convert_kmeans_to_fl.ipynb)\n",
    "\n",
    "   * [Convert Survival Analysis to Federated Learning](../02.4_convert_machine_learning_to_federated_learning/02.4.3_convert_survival_analysis_to_federated_learning/convert_survival_analysis_to_fl.ipynb)\n",
    "\n",
    "2.5. [**Recap**](../02.5_recap/recap.ipynb)\n",
    "\n",
    "Let's get started with [Federated Statistics](../02.1_federated_statistics/federated_statistics_introduction.ipynb)."
   ]
  }
 ],
 "metadata": {
  "kernelspec": {
   "display_name": "Python 3 (ipykernel)",
   "language": "python",
   "name": "python3"
  },
  "language_info": {
   "codemirror_mode": {
    "name": "ipython",
    "version": 3
   },
   "file_extension": ".py",
   "mimetype": "text/x-python",
   "name": "python",
   "nbconvert_exporter": "python",
   "pygments_lexer": "ipython3",
   "version": "3.10.12"
  }
 },
 "nbformat": 4,
 "nbformat_minor": 5
}
