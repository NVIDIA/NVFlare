{
 "cells": [
  {
   "cell_type": "markdown",
   "id": "ed32af6f",
   "metadata": {},
   "source": [
    "# Introduction: Develop Federated Learning Applications\n",
    "\n",
    "In this chapter, we will explore the process of developing federated learning applications. \n",
    "We will essentially cover the following topics:\n",
    "\n",
    "* Federated Analytics\n",
    "   * discover the federated statistics of local and global data\n",
    "   * visualize the federated statistics\n",
    "\n",
    "* Convert deep learning code to Federated Learning code\n",
    "\n",
    "   we already covered converting the PyTorch code to Federated Learning code in the previous chapter, now we will cover: \n",
    "   * convert PyTorch Lightning code to Federated Learning code\n",
    "   * convert TensorFlow code to Federated Learning code\n",
    "   \n",
    "\n",
    "* Convert machine learning code to Federated Learning code\n",
    "   * convert logistics regression to Federated Learning code\n",
    "   * convert kmeans to Federated Learning code\n",
    "   * convert survival analysis to Federated Learning code\n",
    "\n",
    "* Client API\n",
    "   Converting the ML/DL to federated learning leverage the client API to interact with the federated learning system. We will explore the client API in detail in this chapter\n",
    "        \n",
    "\n",
    "2.1. **Federated Statistics**\n",
    "\n",
    "   * [Federated Statistics with tabular data](../02.1_federated_statistics/federated_statistics_with_tabular_data/federated_statistics_with_tabular_data.ipynb)\n",
    "\n",
    "   * [Federated Statistics with image data](../02.1_federated_statistics/federated_statistics_with_image_data/federated_statistics_with_image_data.ipynb)\n",
    "\n",
    "2.2. **Introduction to Client API** \n",
    "\n",
    "   * [Client API](../02.2_client_api/client_api.ipynb)\n",
    "\n",
    "2.3. **Convert PyTorch Lightning to Federated Learning**\n",
    "\n",
    "   * [Convert PyTorch Lightning to Federated Learning](../02.3_convert_torch_lightning_to_federated_learning/convert_torch_lightning_to_fl.ipynb)\n",
    "\n",
    "\n",
    "\n",
    "2.4. **Convert Machine Learning to Federated Learning**\n",
    "\n",
    "   * [Convert Logistics Regression to federated learning](../02.4_convert_machine_learning_to_federated_learning/02.3.1_convert_logistic_regression_to_federated_learning/convert_logistic_regression_to_fl.ipynb)\n",
    "\n",
    "   * [Convert KMeans to federated learning](../02.4_convert_machine_learning_to_federated_learning/02.3.2_convert_kmeans_to_federated_learning/convert_kmeans_to_fl.ipynb)\n",
    "\n",
    "   * [Convert Survival Analysis to federated learning](../02.4_convert_machine_learning_to_federated_learning/02.3.3_convert_survival_analysis_to_federated_learning/convert_survival_analysis_to_fl.ipynb)\n",
    "\n",
    "\n",
    "\n",
    "\n",
    "2.5. [Recap of the covered topics](../02.5_recap/recap.ipynb)\n",
    "\n",
    "\n",
    "Let's get started with [Federated Statistics](../02.1_federated_statistics/federated_statistics_introduction.ipynb)\n"
   ]
  },
  {
   "cell_type": "markdown",
   "id": "abde95b6",
   "metadata": {},
   "source": []
  }
 ],
 "metadata": {
  "kernelspec": {
   "display_name": "Python 3",
   "language": "python",
   "name": "python3"
  },
  "language_info": {
   "codemirror_mode": {
    "name": "ipython",
    "version": 3
   },
   "file_extension": ".py",
   "mimetype": "text/x-python",
   "name": "python",
   "nbconvert_exporter": "python",
   "pygments_lexer": "ipython3",
   "version": "3.10.12"
  }
 },
 "nbformat": 4,
 "nbformat_minor": 5
}
