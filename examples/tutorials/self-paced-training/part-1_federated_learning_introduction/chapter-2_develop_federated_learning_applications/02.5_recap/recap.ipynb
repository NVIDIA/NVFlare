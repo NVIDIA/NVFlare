{
 "cells": [
  {
   "cell_type": "markdown",
   "id": "7b152728-3366-4432-adb1-29aa3051dc22",
   "metadata": {},
   "source": [
    "# Recap: Chapter 2 Summary\n",
    "\n",
    "\n",
    "We covered a lot of ground in developing federated learning applications in this Chapter. We focused on how to compute federated statistics and how to leverage the NVFLARE Client API to convert machine learning models to federated learning.\n",
    "\n",
    "1. **Federated Statistics**\n",
    "    Users can leverage NVFLARE's statistics feature to aggregate and visualize global statistics as well as site-specific statistics.\n",
    "\n",
    "    This process is fairly straightforward.\n",
    "    \n",
    "2. **Client API**\n",
    "    We discussed the Client API in detail, including the types of implementations and how to configure it to run within the same process or in a separate subprocess.\n",
    "\n",
    "    Then we moved on to PyTorch Lightning and several traditional machine learning models and how to convert them to federated learning with the Client API.\n",
    "    \n",
    "    We hope that by now, you should be very confident in converting most deep learning and traditional machine learning models to federated learning with NVIDIA FLARE.\n",
    "\n",
    "\n",
    "Now let's explore the [Federated Computing Platform](../../../part-2_federated_learning_system/chapter-3_federated_computing_platform/03.0_introduction/introduction.ipynb)."
   ]
  },
  {
   "cell_type": "markdown",
   "id": "bbcd8e9d",
   "metadata": {},
   "source": []
  }
 ],
 "metadata": {
  "kernelspec": {
   "display_name": "Python 3",
   "language": "python",
   "name": "python3"
  },
  "language_info": {
   "codemirror_mode": {
    "name": "ipython",
    "version": 3
   },
   "file_extension": ".py",
   "mimetype": "text/x-python",
   "name": "python",
   "nbconvert_exporter": "python",
   "pygments_lexer": "ipython3",
   "version": "3.10.12"
  }
 },
 "nbformat": 4,
 "nbformat_minor": 5
}
