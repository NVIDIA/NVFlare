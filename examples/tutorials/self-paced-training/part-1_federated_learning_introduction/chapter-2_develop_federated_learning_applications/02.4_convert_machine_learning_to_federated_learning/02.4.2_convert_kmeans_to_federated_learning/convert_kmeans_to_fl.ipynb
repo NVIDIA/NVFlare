{
 "cells": [
  {
   "cell_type": "markdown",
   "id": "7d7767c9",
   "metadata": {},
   "source": [
    "# Federated K-Means Clustering with Scikit-learn on Iris Dataset"
   ]
  },
  {
   "cell_type": "markdown",
   "id": "f635ea04",
   "metadata": {},
   "source": [
    "## Introduction to Scikit-learn, tabular data, and federated k-Means\n",
    "\n",
    "### Scikit-learn\n",
    "This example shows how to use [NVIDIA FLARE](https://nvflare.readthedocs.io/en/main/index.html) on tabular data.\n",
    "It uses [Scikit-learn](https://scikit-learn.org/),\n",
    "a widely used open-source machine learning library that supports supervised \n",
    "and unsupervised learning.\n",
    "### Tabular data\n",
    "The data used in this example is tabular in a format that can be handled by [pandas](https://pandas.pydata.org/), such that:\n",
    "- rows correspond to data samples\n",
    "- the first column represents the label \n",
    "- the other columns cover the features.    \n",
    "\n",
    "Each client is expected to have one local data file containing both training \n",
    "and validation samples. To load the data for each client, the following \n",
    "parameters are expected by the local learner:\n",
    "- data_file_path: string, the full path to the client's data file \n",
    "- train_start: int, start row index for the training set\n",
    "- train_end: int, end row index for the training set\n",
    "- valid_start: int, start row index for the validation set\n",
    "- valid_end: int, end row index for the validation set\n",
    "\n",
    "### Federated k-Means clustering\n",
    "The machine learning algorithm in this example is [k-Means clustering](https://scikit-learn.org/stable/modules/generated/sklearn.cluster.KMeans.html).\n",
    "\n",
    "The aggregation follows the scheme defined in [Mini-batch k-Means](https://scikit-learn.org/stable/modules/generated/sklearn.cluster.MiniBatchKMeans.html). \n",
    "\n",
    "Under this setting, each round of federated learning can be formulated as follows:\n",
    "- local training: starting from global centers, each client trains a local MiniBatchKMeans model with their own data\n",
    "- global aggregation: server collects the cluster center, \n",
    "  counts information from all clients, aggregates them by considering \n",
    "  each client's results as a mini-batch, and updates the global center and per-center counts.\n",
    "\n",
    "For center initialization, at the first round, each client generates its initial centers with the k-means++ method. Then, the server collects all initial centers and performs one round of k-means to generate the initial global center.\n",
    "\n",
    "Below we listed steps to run this example."
   ]
  },
  {
   "cell_type": "markdown",
   "id": "ce92018e",
   "metadata": {},
   "source": [
    "## Install requirements\n",
    "First, install the required packages:"
   ]
  },
  {
   "cell_type": "code",
   "execution_count": null,
   "id": "e08b25db",
   "metadata": {},
   "outputs": [],
   "source": [
    "% pip install -r code/requirements.txt"
   ]
  },
  {
   "cell_type": "markdown",
   "id": "31c22f7d",
   "metadata": {},
   "source": [
    "## Download and prepare data\n",
    "This example uses the Iris dataset available from Scikit-learn's dataset API.  "
   ]
  },
  {
   "cell_type": "code",
   "execution_count": null,
   "id": "e6c3b765",
   "metadata": {},
   "outputs": [],
   "source": [
    "%env DATASET_PATH=/tmp/nvflare/dataset/sklearn_iris.csv\n",
    "! python3 ./code/utils/prepare_data.py --dataset_name iris --out_path ${DATASET_PATH}"
   ]
  },
  {
   "cell_type": "markdown",
   "id": "6a1fefd8",
   "metadata": {},
   "source": [
    "This will load the data, format it properly by removing the header, order \n",
    "the label and feature columns, randomize the dataset, and save it to a CSV file with comma separation. \n",
    "The default path is `/tmp/nvflare/dataset/sklearn_iris.csv`. \n",
    "\n",
    "Note that the dataset contains a label for each sample, which will not be \n",
    "used for training since k-Means clustering is an unsupervised method. \n",
    "The entire dataset with labels will be used for performance evaluation \n",
    "based on [homogeneity_score](https://scikit-learn.org/stable/modules/generated/sklearn.metrics.homogeneity_score.html)."
   ]
  },
  {
   "cell_type": "markdown",
   "id": "cf161c43",
   "metadata": {},
   "source": [
    "## Run simulated kmeans experiment\n",
    "We can run the federated training using the NVFlare Simulator with the JobAPI:"
   ]
  },
  {
   "cell_type": "code",
   "execution_count": null,
   "id": "a2a8f0ee",
   "metadata": {},
   "outputs": [],
   "source": [
    "%cd code\n",
    "! python kmeans_job.py --num_clients 3 --split_mode uniform"
   ]
  },
  {
   "cell_type": "markdown",
   "id": "7b9fdb72",
   "metadata": {},
   "source": [
    "With the default arguments, [kmeans_job.py](code/kmeans_job.py) will export the job to `/tmp/nvflare/workspace/jobs/kmeans` and then the job will be run with a workspace directory of `/tmp/nvflare/workspace/works/kmeans`."
   ]
  },
  {
   "cell_type": "markdown",
   "id": "fb48af70",
   "metadata": {},
   "source": [
    "## Result visualization\n",
    "Model accuracy is computed as the homogeneity score between the cluster formed and the ground truth label, which can be visualized in tensorboard."
   ]
  },
  {
   "cell_type": "code",
   "execution_count": null,
   "id": "88d9f366",
   "metadata": {},
   "outputs": [],
   "source": [
    "%load_ext tensorboard\n",
    "%tensorboard --logdir /tmp/nvflare/workspace/works/kmeans/sklearn_kmeans_uniform_3_clients"
   ]
  },
  {
   "cell_type": "code",
   "execution_count": null,
   "id": "88a470ec-c411-4f4f-b5d4-9bb66377583d",
   "metadata": {},
   "outputs": [],
   "source": []
  }
 ],
 "metadata": {
  "kernelspec": {
   "display_name": "Python 3 (ipykernel)",
   "language": "python",
   "name": "python3"
  },
  "language_info": {
   "codemirror_mode": {
    "name": "ipython",
    "version": 3
   },
   "file_extension": ".py",
   "mimetype": "text/x-python",
   "name": "python",
   "nbconvert_exporter": "python",
   "pygments_lexer": "ipython3",
   "version": "3.10.0"
  }
 },
 "nbformat": 4,
 "nbformat_minor": 5
}
