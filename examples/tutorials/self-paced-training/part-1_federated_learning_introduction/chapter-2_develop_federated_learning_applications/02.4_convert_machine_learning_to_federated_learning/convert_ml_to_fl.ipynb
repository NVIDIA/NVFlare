{
 "cells": [
  {
   "cell_type": "markdown",
   "metadata": {},
   "source": [
    "# How to Convert Centralized Machine Learning to Federated Learning\n",
    "\n",
    "Converting different deep learning algorithms to federated learning is very similar, but for traditional machine learning, we have to deal with them case by case. However, they all essentially still follow the same process using the Client API:\n",
    "\n",
    "* Formulating the algorithm: see how to structure the model exchange to be represented by `FLModel`\n",
    "* Receive model from global\n",
    "* Update and train local model \n",
    "* Send the global model back to aggregator\n",
    " \n",
    "In this section, we will study three different commonly used machine learning algorithms:\n",
    "\n",
    "* [Convert Logistic Regression to federated learning](./02.4.1_convert_logistic_regression_to_federated_learning/convert_logistic_regression_to_fl.ipynb)\n",
    "* [Convert KMeans to federated learning](./02.4.2_convert_kmeans_to_federated_learning/convert_kmeans_to_fl.ipynb)\n",
    "* [Convert Survival Analysis to federated learning](./02.4.3_convert_survival_analysis_to_federated_learning/convert_survival_analysis_to_fl.ipynb)"
   ]
  }
 ],
 "metadata": {
  "kernelspec": {
   "display_name": "Python 3 (ipykernel)",
   "language": "python",
   "name": "python3"
  },
  "language_info": {
   "codemirror_mode": {
    "name": "ipython",
    "version": 3
   },
   "file_extension": ".py",
   "mimetype": "text/x-python",
   "name": "python",
   "nbconvert_exporter": "python",
   "pygments_lexer": "ipython3",
   "version": "3.10.12"
  }
 },
 "nbformat": 4,
 "nbformat_minor": 4
}
