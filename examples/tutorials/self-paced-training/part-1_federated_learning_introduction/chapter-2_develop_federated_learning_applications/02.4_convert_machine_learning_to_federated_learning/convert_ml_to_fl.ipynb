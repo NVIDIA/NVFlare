{
 "cells": [
  {
   "cell_type": "markdown",
   "metadata": {},
   "source": [
    "# How to Convert Centrialized Machine Learning to Federated Learning\n",
    "\n",
    "Converting different deep learning algorithms to federated learning are very similar, but for traditional machine learning, we have to deal with them case by case. But all essentially still follow the the same process using Client API. \n",
    "\n",
    " * Formulating the algorithm: see how to structure the model exchange to be presented by ```FLModel```. \n",
    " * Recevie model from global\n",
    " * update and train local model \n",
    " * send the global model back to aggregator\n",
    " \n",
    "In this section, we still study three different coommonly used machine learning algortithms:\n",
    "\n",
    "   * [Convert Logistics Regression to federated learning](./02.3.1_convert_logistic_regression_to_federated_learning/convert_logistic_regression_to_fl.ipynb)\n",
    "   * [Convert KMeans to federated learning](./02.3.2_convert_kmeans_to_federated_learning/convert_kmeans_to_fl.ipynb)\n",
    "   * [Convert Survival Analysis to federated learning](./02.3.3_convert_survival_analysis_to_federated_learning/convert_survival_analysis_to_fl.ipynb)"
   ]
  },
  {
   "cell_type": "markdown",
   "metadata": {},
   "source": []
  }
 ],
 "metadata": {
  "language_info": {
   "name": "python"
  }
 },
 "nbformat": 4,
 "nbformat_minor": 2
}
