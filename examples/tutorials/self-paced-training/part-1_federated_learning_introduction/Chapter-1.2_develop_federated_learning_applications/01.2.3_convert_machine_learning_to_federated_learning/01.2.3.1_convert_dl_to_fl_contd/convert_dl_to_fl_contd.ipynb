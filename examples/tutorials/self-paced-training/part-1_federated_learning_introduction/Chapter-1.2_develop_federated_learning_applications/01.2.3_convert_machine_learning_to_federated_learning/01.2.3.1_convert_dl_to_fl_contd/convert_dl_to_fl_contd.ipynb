{
 "cells": [
  {
   "cell_type": "markdown",
   "id": "53d2d18a-38bb-40a2-b5ba-8476970faad2",
   "metadata": {},
   "source": []
  }
 ],
 "metadata": {
  "kernelspec": {
   "display_name": "nvflare_example",
   "language": "python",
   "name": "nvflare_example"
  },
  "language_info": {
   "codemirror_mode": {
    "name": "ipython",
    "version": 3
   },
   "file_extension": ".py",
   "mimetype": "text/x-python",
   "name": "python",
   "nbconvert_exporter": "python",
   "pygments_lexer": "ipython3",
   "version": "3.10.2"
  }
 },
 "nbformat": 4,
 "nbformat_minor": 5
}
