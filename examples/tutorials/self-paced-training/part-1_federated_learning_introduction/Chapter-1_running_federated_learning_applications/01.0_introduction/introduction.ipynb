{
 "cells": [
  {
   "cell_type": "markdown",
   "metadata": {},
   "source": [
    "# Recap: Runing Federated Learning Applications\n",
    "\n",
    "\n",
    "In this chapter, we will explore the process of running federated learning applications. We will start by setting up the environment and preparing the data, followed by training a classifier using PyTorch. We will then convert deep learning models to federated learning, customize server and client logic, and setup track experiments. Finally, we will delve into the job structure and configurations, including running a simulator, and conclude with a recap of the covered topics.\n",
    "\n",
    "\n",
    "1. **Running federated learning job**\n",
    "   * [Installation, prepare data](../01.1_running_federated_learning_job/setup.ipynb)\n",
    "   * [traing classifier with pytorch](../01.1_running_federated_learning_job/runing_pytorch_fl_job.ipynb)\n",
    "\n",
    "2. **From stand-alone-deep learning to Federated Learning**\n",
    "\n",
    "    * [Convert deep learning with pytorch to federated leraning](../01.2_convert_deep_learning_to_federated_learning/convert_dl_to_fl.ipynb)\n",
    "\n",
    "\n",
    "2. **How to Customize the Federated Algorithms**\n",
    "\n",
    "   * [customize server logics](../01.3_customize_server_logics/customize_server_logics.ipynb)\n",
    "\n",
    "4. **How to make adjustments to different traing parameters** \n",
    "\n",
    "   * [customize client logics](../01.4_customize_client_training/customize_client_training.ipynb)\n",
    "\n",
    "5. **Tracking the trainig metrics** \n",
    "\n",
    "   * [experiment tracking](../01.5_experiment_tracking/experiment_tracking.ipynb )\n",
    "\n",
    "6. **Job structure and configurations**\n",
    "\n",
    "   * [job structure & configuration ](../01.6_job_structure_and_configuration/01.1.6.1_understanding_fl_job.ipynb)\n",
    "\n",
    " \n",
    "7. [Recap of the covered topics](../01.7_recap/recap.ipynb)\n",
    "\n",
    "\n",
    "\n",
    "Let's get started with [Installation & data preparation](.././01.1_running_federated_learning_job/setup.ipynb)\n"
   ]
  },
  {
   "cell_type": "markdown",
   "metadata": {},
   "source": []
  }
 ],
 "metadata": {
  "language_info": {
   "name": "python"
  }
 },
 "nbformat": 4,
 "nbformat_minor": 2
}
