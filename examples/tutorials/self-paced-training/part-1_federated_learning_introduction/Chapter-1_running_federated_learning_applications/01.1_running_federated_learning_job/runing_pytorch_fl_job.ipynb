{
 "cells": [
  {
   "cell_type": "markdown",
   "id": "7a5c3d67-a6ea-4f59-84d2-effc3ef016e1",
   "metadata": {},
   "source": [
    "# Runing Federated Learning Job with PyTorch\n",
    "\n",
    "We have installed the NVIDIA FLARE, dependencies, download the data, look at the data split in [previous step](01.1.1_setup.ipynb), now we are going to look at the training. "
   ]
  },
  {
   "cell_type": "markdown",
   "id": "eb3f04b0",
   "metadata": {},
   "source": [
    "## Run Federated Learning Training code\n",
    "\n",
    "\n",
    "The training code essentially consists of `fl_job.py` code, `client.py` the client-side training code, and `nn.py` network model. We use the `FedAvg` algorithm and workflow.\n",
    "\n",
    "```markdown\n",
    "## Run Federated Learning Training\n",
    "\n",
    "The training code consists of three main scripts: `fl_job.py` for the overall job flow, `client.py` for the client-side training, and `network.py` for the network model. We use the built-in `FedAvg` algorithm for the server side worklow.\n",
    "```\n",
    "\n",
    "to run the training in simulator we can simply execute the fl_job.py"
   ]
  },
  {
   "cell_type": "markdown",
   "id": "bd815b80",
   "metadata": {},
   "source": [
    "change to \"code\" directory and run the scripts"
   ]
  },
  {
   "cell_type": "code",
   "execution_count": 1,
   "id": "951d0fe6",
   "metadata": {},
   "outputs": [
    {
     "name": "stdout",
     "output_type": "stream",
     "text": [
      "/home/chester/projects/NVFlare/examples/tutorials/self-paced-training/part-1_federated_learning_introduction/Chapter-1_running_federated_learning_applications/01.1_running_federated_learning_job/code\n"
     ]
    },
    {
     "name": "stderr",
     "output_type": "stream",
     "text": [
      "/home/chester/.local/lib/python3.10/site-packages/IPython/core/magics/osm.py:417: UserWarning: This is now an optional IPython functionality, setting dhist requires you to install the `pickleshare` library.\n",
      "  self.shell.db['dhist'] = compress_dhist(dhist)[-100:]\n"
     ]
    }
   ],
   "source": [
    "%cd code "
   ]
  },
  {
   "cell_type": "code",
   "execution_count": 3,
   "id": "ecc3a0cc",
   "metadata": {},
   "outputs": [
    {
     "name": "stdout",
     "output_type": "stream",
     "text": [
      "Traceback (most recent call last):\n",
      "  File \"/home/chester/projects/NVFlare/examples/tutorials/self-paced-training/part-1_federated_learning_introduction/Chapter-1_running_federated_learning_applications/01.1_running_federated_learning_job/code/fl_job.py\", line 17, in <module>\n",
      "    from nvflare.app_opt.pt.job_config.fed_avg import FedAvgJob\n",
      "ModuleNotFoundError: No module named 'nvflare'\n"
     ]
    }
   ],
   "source": [
    "! python3 fl_job.py"
   ]
  },
  {
   "cell_type": "markdown",
   "id": "e823b5d4",
   "metadata": {},
   "source": [
    "## 3. Access the logs and results\n",
    "\n",
    "You can find the running logs and results inside the simulator's workspace:\n",
    "\n",
    "noticed the \"fl_job.py\", we used the code \n",
    "\n",
    "```\n",
    "job.simulator_run(\"/tmp/nvflare/jobs/workdir\")\n",
    "\n",
    "```\n",
    "\n",
    "The \"/tmp/nvflare/jobs/workdir\" is the workspace directory of simulator\n"
   ]
  },
  {
   "cell_type": "code",
   "execution_count": null,
   "id": "1e708f24",
   "metadata": {},
   "outputs": [],
   "source": [
    "\n",
    "! ls -al /tmp/nvflare/jobs/workdir/server/simulate_job/app_server/FL_global_model.pt\n"
   ]
  },
  {
   "cell_type": "markdown",
   "id": "d4b62108",
   "metadata": {},
   "source": [
    "We have successfully train a federated image classification model with pytorch. Next we need to take closer look the training codes and job structure. Let's go to [converting deep learning to federated learning](../01.1.2_convert_deep_learning_to_federated_learning/convert_dl_to_fl.ipynb)\n"
   ]
  }
 ],
 "metadata": {
  "kernelspec": {
   "display_name": "Python 3",
   "language": "python",
   "name": "python3"
  },
  "language_info": {
   "codemirror_mode": {
    "name": "ipython",
    "version": 3
   },
   "file_extension": ".py",
   "mimetype": "text/x-python",
   "name": "python",
   "nbconvert_exporter": "python",
   "pygments_lexer": "ipython3",
   "version": "3.10.12"
  }
 },
 "nbformat": 4,
 "nbformat_minor": 5
}
