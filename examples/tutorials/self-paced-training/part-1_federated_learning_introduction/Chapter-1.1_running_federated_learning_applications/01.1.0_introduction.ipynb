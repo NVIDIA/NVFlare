{
 "cells": [
  {
   "cell_type": "markdown",
   "metadata": {},
   "source": [
    "In this chatper, we will cover the following topics:\n",
    "\n",
    "1. [setup, data preparation](01.1.1_setup.ipynb)\n",
    "2. [Running a PyTorch job](01.1.2_runing_pytorch_lightining_fl_job.ipynb)\n",
    "3. [Understanding the federated learning job structure](01.1.4_understanding_fl_job_structure.ipynb)\n",
    "4. [Understanding job concepts](./01.1.4_understanding_job_ceoncepts.ipynb)\n",
    "5. [Converting PyTorch Lightning training code to federated learning](01.1.5_convert_pytorch_lightning_training_to_fl.ipynb)\n",
    "6. [Customizing server logics](01.1.6_customize_server_logics.ipynb)\n",
    "7. [Customizing client training parameters](01.1.7_customize_client_training.ipynb)\n",
    "8. [Recap of the covered topics](./01.1.8_recap.ipynb)\n"
   ]
  }
 ],
 "metadata": {
  "language_info": {
   "name": "python"
  }
 },
 "nbformat": 4,
 "nbformat_minor": 2
}
