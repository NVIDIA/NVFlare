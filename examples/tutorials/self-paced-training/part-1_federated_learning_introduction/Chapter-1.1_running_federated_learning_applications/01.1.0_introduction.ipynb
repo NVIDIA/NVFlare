{
 "cells": [
  {
   "cell_type": "markdown",
   "metadata": {},
   "source": [
    "In this chatper, we will cover the following topics:\n",
    "\n",
    "1. [Running a PyTorch job](01.1.1_runing_pytorch_lightining_fl_job.ipynb)\n",
    "2. [Understanding the federated learning job structure](01.1.2_understanding_fl_job_structure.ipynb)\n",
    "3. [Understanding job concepts](./01.1.3_understanding_job_ceoncepts.ipynb)\n",
    "4. [Converting PyTorch Lightning training code to federated learning](01.1.4_convert_pytorch_lightning_training_to_fl.ipynb)\n",
    "5. [Customizing server logics](01.1.5_customize_server_logics.ipynb)\n",
    "6. [Customizing client training parameters](01.1.6_customize_client_training.ipynb)\n",
    "7. [Recap of the covered topics](./01.1.7_recap.ipynb)\n"
   ]
  },
  {
   "cell_type": "markdown",
   "metadata": {},
   "source": []
  },
  {
   "cell_type": "markdown",
   "metadata": {},
   "source": []
  }
 ],
 "metadata": {
  "language_info": {
   "name": "python"
  }
 },
 "nbformat": 4,
 "nbformat_minor": 2
}
