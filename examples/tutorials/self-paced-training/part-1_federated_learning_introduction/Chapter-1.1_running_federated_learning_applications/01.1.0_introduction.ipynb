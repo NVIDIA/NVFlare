{
 "cells": [
  {
   "cell_type": "markdown",
   "metadata": {},
   "source": [
    "\n",
    "[01.1.1 running pytorch job](./01.1.1_running_pytorch_job.ipynb)\n",
    "\n",
    "[01.1.2 understanding federated learning job structure](./01.1.2_understanding_fl_job_structure.ipynb)\n",
    "\n",
    "[01.1.3 understanding job ceoncepts](01.1.3_understanding_job_ceoncepts.ipynb)\n",
    "\n",
    "[01.1.4 convert pytorch lightning training code to federated learning](./01.1.4_convert_pytorch_lightning_training_to_fl.ipynb)\n",
    "\n",
    "[01.1.5 customize server logics](./01.1.5_customize_server_logics.ipynb)\n",
    "\n",
    "[01.1.6 customize client training parameters](./01.1.6_customize_client_training.ipynb)\n",
    "\n",
    "[01.1.7 recap](./01.1.7_recap.ipynb)\n"
   ]
  },
  {
   "cell_type": "markdown",
   "metadata": {},
   "source": []
  },
  {
   "cell_type": "markdown",
   "metadata": {},
   "source": []
  }
 ],
 "metadata": {
  "language_info": {
   "name": "python"
  }
 },
 "nbformat": 4,
 "nbformat_minor": 2
}
