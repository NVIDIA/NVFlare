{
 "cells": [
  {
   "cell_type": "markdown",
   "id": "7a5c3d67-a6ea-4f59-84d2-effc3ef016e1",
   "metadata": {},
   "source": [
    "# Runing Federated Learning Job with PyTorch\n",
    "\n",
    "We have installed the NVIDIA FLARE, dependencies, download the data, look at the data split in [previous step](01.1.1_setup.ipynb), now we are going to look at the training. "
   ]
  },
  {
   "cell_type": "markdown",
   "id": "eb3f04b0",
   "metadata": {},
   "source": [
    "## Run Federated Learning Training\n",
    "\n",
    "\n",
    "The training code essentially consists of `fl_job.py` code, `client.py` the client-side training code, and `nn.py` network model. We use the `FedAvg` algorithm and workflow.\n",
    "\n",
    "```markdown\n",
    "## Run Federated Learning Training\n",
    "\n",
    "The training code consists of three main scripts: `fl_job.py` for the overall job flow, `client.py` for the client-side training, and `network.py` for the network model. We use the built-in `FedAvg` algorithm for the server side worklow.\n",
    "```\n",
    "\n",
    "to run the training in simulator we can simply execute the fl_job.py"
   ]
  },
  {
   "cell_type": "markdown",
   "id": "bd815b80",
   "metadata": {},
   "source": [
    "change to \"code\" directory and run the scripts"
   ]
  },
  {
   "cell_type": "code",
   "execution_count": null,
   "id": "951d0fe6",
   "metadata": {},
   "outputs": [],
   "source": [
    "%cd code "
   ]
  },
  {
   "cell_type": "code",
   "execution_count": null,
   "id": "ecc3a0cc",
   "metadata": {},
   "outputs": [],
   "source": [
    "! python3 fl_job.py"
   ]
  },
  {
   "cell_type": "code",
   "execution_count": null,
   "id": "e823b5d4",
   "metadata": {},
   "outputs": [],
   "source": []
  }
 ],
 "metadata": {
  "kernelspec": {
   "display_name": "Python 3",
   "language": "python",
   "name": "python3"
  },
  "language_info": {
   "codemirror_mode": {
    "name": "ipython",
    "version": 3
   },
   "file_extension": ".py",
   "mimetype": "text/x-python",
   "name": "python",
   "nbconvert_exporter": "python",
   "pygments_lexer": "ipython3",
   "version": "3.8.13"
  }
 },
 "nbformat": 4,
 "nbformat_minor": 5
}
