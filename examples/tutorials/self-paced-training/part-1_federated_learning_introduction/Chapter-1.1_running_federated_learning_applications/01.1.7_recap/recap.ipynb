{
 "cells": [
  {
   "cell_type": "markdown",
   "id": "7b152728-3366-4432-adb1-29aa3051dc22",
   "metadata": {},
   "source": [
    "# Recap\n",
    "\n",
    "What we have learnt in Chapter-1"
   ]
  },
  {
   "cell_type": "markdown",
   "id": "4f2e3cb3-e61f-45e9-8dad-ad55ebb3641a",
   "metadata": {},
   "source": [
    "## Chapter 1  Federated Learning Introduction\n",
    "\n",
    "### Running Federated Learning Applications\n",
    "\n",
    "* Running federated hello-pytorch-lightning with simulator\n",
    "\n",
    "* Understanding FL Job structure: client, server and Job\n",
    "\n",
    "* Understanding FL Job Concepts: controller, executor and configuration\n",
    "\n",
    "* How to convert deep learning pytorch-lighting to federated learning\n",
    "\n",
    "* Customize server aggregation logic\n",
    "\n",
    "* Custom client apps at different sites with different training parameters\n",
    "\n",
    "\n",
    "\n"
   ]
  },
  {
   "cell_type": "code",
   "execution_count": null,
   "id": "53cbc090-833e-4be1-9f3e-a2e977026281",
   "metadata": {},
   "outputs": [],
   "source": []
  }
 ],
 "metadata": {
  "kernelspec": {
   "display_name": "nvflare_example",
   "language": "python",
   "name": "nvflare_example"
  },
  "language_info": {
   "codemirror_mode": {
    "name": "ipython",
    "version": 3
   },
   "file_extension": ".py",
   "mimetype": "text/x-python",
   "name": "python",
   "nbconvert_exporter": "python",
   "pygments_lexer": "ipython3",
   "version": "3.10.2"
  }
 },
 "nbformat": 4,
 "nbformat_minor": 5
}
