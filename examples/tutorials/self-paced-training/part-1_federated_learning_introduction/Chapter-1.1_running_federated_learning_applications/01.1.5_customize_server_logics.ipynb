{
 "cells": [
  {
   "cell_type": "markdown",
   "id": "f64188d2",
   "metadata": {},
   "source": [
    "\n",
    "### Example Reference\n",
    "\n",
    "#### [FedAvg with early stopping](https://github.com/NVIDIA/NVFlare/blob/main/examples/hello-world/hello-fedavg/hello-fedavg.ipynb)\n",
    "\n",
    " \n"
   ]
  },
  {
   "cell_type": "markdown",
   "id": "9beac00b",
   "metadata": {},
   "source": []
  },
  {
   "cell_type": "markdown",
   "id": "437f0d14",
   "metadata": {},
   "source": []
  },
  {
   "cell_type": "markdown",
   "id": "84b319c6",
   "metadata": {},
   "source": []
  }
 ],
 "metadata": {
  "kernelspec": {
   "display_name": "nvflare_example",
   "language": "python",
   "name": "nvflare_example"
  },
  "language_info": {
   "codemirror_mode": {
    "name": "ipython",
    "version": 3
   },
   "file_extension": ".py",
   "mimetype": "text/x-python",
   "name": "python",
   "nbconvert_exporter": "python",
   "pygments_lexer": "ipython3",
   "version": "3.10.2"
  }
 },
 "nbformat": 4,
 "nbformat_minor": 5
}
