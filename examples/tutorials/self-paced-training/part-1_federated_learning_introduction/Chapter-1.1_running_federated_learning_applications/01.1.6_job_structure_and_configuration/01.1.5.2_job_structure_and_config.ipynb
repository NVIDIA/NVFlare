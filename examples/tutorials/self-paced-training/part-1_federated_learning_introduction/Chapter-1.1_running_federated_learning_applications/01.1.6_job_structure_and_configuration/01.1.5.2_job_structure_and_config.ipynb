{
 "cells": [
  {
   "cell_type": "markdown",
   "id": "b22a78a5-5175-4778-a676-d548d3f5f443",
   "metadata": {},
   "source": [
    "\n",
    "The job API will create the job for you. The  \n",
    "\n",
    "```\n",
    "job.simulator_run(\"/tmp/nvflare/jobs/workdir\") \n",
    "\n",
    "```\n",
    "\n",
    "is actually create a job, then use simulator run the job. \n",
    "\n",
    "Let's use \n",
    "\n",
    "```\n",
    "   job.export_job(\"/tmp/nvflare/jobs/job_config\")\n",
    "```\n",
    "to generate job configuration without running the job. This code will be located at [fl_job_config.py](code/fl_job_config.py)\n",
    "\n"
   ]
  },
  {
   "cell_type": "code",
   "execution_count": null,
   "id": "30bd9037",
   "metadata": {},
   "outputs": [],
   "source": [
    "%cd code"
   ]
  },
  {
   "cell_type": "code",
   "execution_count": null,
   "id": "56b7a0f9",
   "metadata": {},
   "outputs": [],
   "source": [
    "! python3 fl_job_config.py\n"
   ]
  },
  {
   "cell_type": "markdown",
   "id": "813c5a70",
   "metadata": {},
   "source": [
    "Now we have create job configuration, let's take a closer look. "
   ]
  },
  {
   "cell_type": "markdown",
   "id": "0d77bb78",
   "metadata": {},
   "source": [
    "## Job structure"
   ]
  },
  {
   "cell_type": "code",
   "execution_count": null,
   "id": "63dc5ddf",
   "metadata": {},
   "outputs": [],
   "source": [
    "\n",
    "! tree /tmp/nvflare/jobs/job_config/fedavg"
   ]
  },
  {
   "cell_type": "markdown",
   "id": "3e01e0c3",
   "metadata": {},
   "source": [
    "The job name \"FedAvg\" is folder structure, with each folder representing one app at one site. \n",
    "\n",
    "* **\"app_server\"**:  is the name for the server app\n",
    "\n",
    "* **\"app_site-n\"**:  is the name for the client app\n",
    "\n",
    "* for each site: it consits of \n",
    "   * **config**:  directory which contains side specific configuration\n",
    "\n",
    "   * **custom**:  store the custom code for the specifc site\n",
    "\n",
    "These names can be changed if you manually edit these configurations. By default Job API uses above conventions. \n",
    "\n",
    "\n",
    "* meta.json gives additional information related to the each app's deployment. \n",
    "\n",
    "```\n",
    "{\n",
    "    \"name\": \"fedavg\",\n",
    "    \"resource_spec\": {},\n",
    "    \"min_clients\": 1,\n",
    "    \"deploy_map\": {\n",
    "        \"app_server\": [\n",
    "            \"server\"\n",
    "        ],\n",
    "        \"app_site-1\": [\n",
    "            \"site-1\"\n",
    "        ],\n",
    "        \"app_site-2\": [\n",
    "            \"site-2\"\n",
    "        ],\n",
    "        \"app_site-3\": [\n",
    "            \"site-3\"\n",
    "        ],\n",
    "        \"app_site-4\": [\n",
    "            \"site-4\"\n",
    "        ],\n",
    "        \"app_site-5\": [\n",
    "            \"site-5\"\n",
    "        ]\n",
    "    }\n",
    "}\n",
    "```"
   ]
  },
  {
   "cell_type": "markdown",
   "id": "98a7a126",
   "metadata": {},
   "source": [
    "A simplifed format of job structure can also be used when the client code and configuration is the same for all sites\n",
    "\n",
    "```\n",
    "/tmp/nvflare/jobs/job_config/fedavg\n",
    "├── app_server\n",
    "│   ├── config\n",
    "│   │   └── config_fed_server.json\n",
    "│   └── custom\n",
    "│       └── src\n",
    "│           └── network.py\n",
    "├── app_client\n",
    "│   ├── config\n",
    "│   │   └── config_fed_client.json\n",
    "│   └── custom\n",
    "│       ├── network.py\n",
    "│       └── src\n",
    "│           └── client.py\n",
    "└── meta.json\n",
    "\n",
    "\n",
    "```\n",
    "\n",
    "meta.json needs to be \n",
    "\n",
    "\n",
    "```\n",
    "{\n",
    "    \"name\": \"fedavg\",\n",
    "    \"resource_spec\": {},\n",
    "    \"min_clients\": 1,\n",
    "    \"deploy_map\": {\n",
    "        \"app_server\": [\n",
    "            \"server\"\n",
    "        ],\n",
    "        \"app_client\": [\n",
    "            \"site-1\", \"site-2\", \"site-3\", \"site-4\", \"site-5\" \n",
    "        ]\n",
    "    }\n",
    "}\n",
    "```\n",
    "\n",
    "\n",
    "If we don't mind deploy all code to all sites, we can change the job config into the followings\n",
    "\n",
    "A simplifed format of job structure can also be used when the client code and configuration is the same for all sites\n",
    "\n",
    "```\n",
    "/tmp/nvflare/jobs/job_config/fedavg\n",
    "├── app\n",
    "│   ├── config\n",
    "    |   └── config_fed_client.json\n",
    "│   │   └── config_fed_server.json\n",
    "│   └── custom\n",
    "│       └── src\n",
    "│           └── network.py\n",
    "|           └── client.py\n",
    "└── meta.json\n",
    "\n",
    "\n",
    "```\n",
    "\n",
    "meta.json needs to be \n",
    "\n",
    "\n",
    "```\n",
    "{\n",
    "    \"name\": \"fedavg\",\n",
    "    \"resource_spec\": {},\n",
    "    \"min_clients\": 1,\n",
    "    \"deploy_map\": {\n",
    "         app = [\"@ALL\"]\n",
    "    }\n",
    "}\n",
    "```\n",
    "\n",
    "The default Job configuration is json, but one can also use pyhocon or YAML, please refer to [config file documentation](https://nvflare.readthedocs.io/en/2.4/user_guide/configurations.html) for details\n"
   ]
  }
 ],
 "metadata": {
  "kernelspec": {
   "display_name": "nvflare_example",
   "language": "python",
   "name": "nvflare_example"
  },
  "language_info": {
   "codemirror_mode": {
    "name": "ipython",
    "version": 3
   },
   "file_extension": ".py",
   "mimetype": "text/x-python",
   "name": "python",
   "nbconvert_exporter": "python",
   "pygments_lexer": "ipython3",
   "version": "3.10.2"
  }
 },
 "nbformat": 4,
 "nbformat_minor": 5
}
