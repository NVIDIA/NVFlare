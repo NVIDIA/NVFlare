{
 "cells": [
  {
   "cell_type": "markdown",
   "id": "7a5c3d67-a6ea-4f59-84d2-effc3ef016e1",
   "metadata": {},
   "source": [
    "# Setup and Prepare Data\n",
    "\n",
    "This example of using [NVIDIA FLARE](https://nvflare.readthedocs.io/en/main/index.html) to train an image classifier using federated averaging ([FedAvg](https://arxiv.org/abs/1602.05629))\n",
    "and [PyTorch](https://pytorch.org/) as the deep learning training framework.\n",
    "\n",
    "We will use the train script [cifar10_fl.py](src/cifar10_fl.py) and network [net.py](src/net.py) from the src directory.\n",
    "\n",
    "The dataset will be [CIFAR-10](https://www.cs.toronto.edu/~kriz/cifar.html) dataset and will load its data within the client train code."
   ]
  },
  {
   "cell_type": "markdown",
   "id": "eb3f04b0",
   "metadata": {},
   "source": []
  },
  {
   "cell_type": "markdown",
   "id": "540e6719",
   "metadata": {},
   "source": [
    "## Install NVIDIA FLARE and dependencies\n",
    "\n",
    "Install nvflare and requirements\n"
   ]
  },
  {
   "cell_type": "code",
   "execution_count": 5,
   "id": "827bc8aa",
   "metadata": {},
   "outputs": [
    {
     "name": "stdout",
     "output_type": "stream",
     "text": [
      "Collecting nvflare\n",
      "  Obtaining dependency information for nvflare from https://files.pythonhosted.org/packages/7e/35/f2f837ca151dccad5b611f26bd77fffb7981912c2a43eb8d367fc1aaca14/nvflare-2.5.2-py3-none-any.whl.metadata\n",
      "  Downloading nvflare-2.5.2-py3-none-any.whl.metadata (11 kB)\n",
      "Collecting cryptography>=36.0.0 (from nvflare)\n",
      "  Obtaining dependency information for cryptography>=36.0.0 from https://files.pythonhosted.org/packages/ef/82/72403624f197af0db6bac4e58153bc9ac0e6020e57234115db9596eee85d/cryptography-44.0.0-cp39-abi3-manylinux_2_28_x86_64.whl.metadata\n",
      "  Downloading cryptography-44.0.0-cp39-abi3-manylinux_2_28_x86_64.whl.metadata (5.7 kB)\n",
      "Collecting Flask==3.0.2 (from nvflare)\n",
      "  Obtaining dependency information for Flask==3.0.2 from https://files.pythonhosted.org/packages/93/a6/aa98bfe0eb9b8b15d36cdfd03c8ca86a03968a87f27ce224fb4f766acb23/flask-3.0.2-py3-none-any.whl.metadata\n",
      "  Downloading flask-3.0.2-py3-none-any.whl.metadata (3.6 kB)\n",
      "Collecting Werkzeug==3.0.3 (from nvflare)\n",
      "  Obtaining dependency information for Werkzeug==3.0.3 from https://files.pythonhosted.org/packages/9d/6e/e792999e816d19d7fcbfa94c730936750036d65656a76a5a688b57a656c4/werkzeug-3.0.3-py3-none-any.whl.metadata\n",
      "  Downloading werkzeug-3.0.3-py3-none-any.whl.metadata (3.7 kB)\n",
      "Collecting Flask-JWT-Extended==4.6.0 (from nvflare)\n",
      "  Obtaining dependency information for Flask-JWT-Extended==4.6.0 from https://files.pythonhosted.org/packages/be/f7/b5415a5ec78666408cd9af9e8163e2953374808d222625cff33f64adfd2a/Flask_JWT_Extended-4.6.0-py2.py3-none-any.whl.metadata\n",
      "  Downloading Flask_JWT_Extended-4.6.0-py2.py3-none-any.whl.metadata (3.9 kB)\n",
      "Collecting Flask-SQLAlchemy==3.1.1 (from nvflare)\n",
      "  Obtaining dependency information for Flask-SQLAlchemy==3.1.1 from https://files.pythonhosted.org/packages/1d/6a/89963a5c6ecf166e8be29e0d1bf6806051ee8fe6c82e232842e3aeac9204/flask_sqlalchemy-3.1.1-py3-none-any.whl.metadata\n",
      "  Downloading flask_sqlalchemy-3.1.1-py3-none-any.whl.metadata (3.4 kB)\n",
      "Collecting SQLAlchemy==2.0.16 (from nvflare)\n",
      "  Obtaining dependency information for SQLAlchemy==2.0.16 from https://files.pythonhosted.org/packages/ce/d2/e116bd5849a97275bbfdb3a1acd2524199c7ed26fcc34fcdac4d549c1157/SQLAlchemy-2.0.16-cp310-cp310-manylinux_2_17_x86_64.manylinux2014_x86_64.whl.metadata\n",
      "  Downloading SQLAlchemy-2.0.16-cp310-cp310-manylinux_2_17_x86_64.manylinux2014_x86_64.whl.metadata (9.4 kB)\n",
      "Collecting grpcio>=1.62.1 (from nvflare)\n",
      "  Obtaining dependency information for grpcio>=1.62.1 from https://files.pythonhosted.org/packages/cc/f6/2017da2a1b64e896af710253e5bfbb4188605cdc18bce3930dae5cdbf502/grpcio-1.69.0-cp310-cp310-manylinux_2_17_x86_64.manylinux2014_x86_64.whl.metadata\n",
      "  Downloading grpcio-1.69.0-cp310-cp310-manylinux_2_17_x86_64.manylinux2014_x86_64.whl.metadata (3.9 kB)\n",
      "Collecting gunicorn>=22.0.0 (from nvflare)\n",
      "  Obtaining dependency information for gunicorn>=22.0.0 from https://files.pythonhosted.org/packages/cb/7d/6dac2a6e1eba33ee43f318edbed4ff29151a49b5d37f080aad1e6469bca4/gunicorn-23.0.0-py3-none-any.whl.metadata\n",
      "  Downloading gunicorn-23.0.0-py3-none-any.whl.metadata (4.4 kB)\n",
      "Collecting numpy<2.0.0 (from nvflare)\n",
      "  Obtaining dependency information for numpy<2.0.0 from https://files.pythonhosted.org/packages/4b/d7/ecf66c1cd12dc28b4040b15ab4d17b773b87fa9d29ca16125de01adb36cd/numpy-1.26.4-cp310-cp310-manylinux_2_17_x86_64.manylinux2014_x86_64.whl.metadata\n",
      "  Downloading numpy-1.26.4-cp310-cp310-manylinux_2_17_x86_64.manylinux2014_x86_64.whl.metadata (61 kB)\n",
      "\u001b[2K     \u001b[90m━━━━━━━━━━━━━━━━━━━━━━━━━━━━━━━━━━━━━━━━\u001b[0m \u001b[32m61.0/61.0 kB\u001b[0m \u001b[31m1.9 MB/s\u001b[0m eta \u001b[36m0:00:00\u001b[0m\n",
      "\u001b[?25hCollecting protobuf>=4.24.4 (from nvflare)\n",
      "  Obtaining dependency information for protobuf>=4.24.4 from https://files.pythonhosted.org/packages/a8/45/2ebbde52ad2be18d3675b6bee50e68cd73c9e0654de77d595540b5129df8/protobuf-5.29.3-cp38-abi3-manylinux2014_x86_64.whl.metadata\n",
      "  Downloading protobuf-5.29.3-cp38-abi3-manylinux2014_x86_64.whl.metadata (592 bytes)\n",
      "Requirement already satisfied: psutil>=5.9.1 in /home/chester/projects/NVFlare/.venv/lib/python3.10/site-packages (from nvflare) (6.1.1)\n",
      "Collecting PyYAML>=6.0 (from nvflare)\n",
      "  Obtaining dependency information for PyYAML>=6.0 from https://files.pythonhosted.org/packages/6b/4e/1523cb902fd98355e2e9ea5e5eb237cbc5f3ad5f3075fa65087aa0ecb669/PyYAML-6.0.2-cp310-cp310-manylinux_2_17_x86_64.manylinux2014_x86_64.whl.metadata\n",
      "  Downloading PyYAML-6.0.2-cp310-cp310-manylinux_2_17_x86_64.manylinux2014_x86_64.whl.metadata (2.1 kB)\n",
      "Collecting requests>=2.28.0 (from nvflare)\n",
      "  Obtaining dependency information for requests>=2.28.0 from https://files.pythonhosted.org/packages/f9/9b/335f9764261e915ed497fcdeb11df5dfd6f7bf257d4a6a2a686d80da4d54/requests-2.32.3-py3-none-any.whl.metadata\n",
      "  Downloading requests-2.32.3-py3-none-any.whl.metadata (4.6 kB)\n",
      "Requirement already satisfied: six>=1.15.0 in /home/chester/projects/NVFlare/.venv/lib/python3.10/site-packages (from nvflare) (1.17.0)\n",
      "Collecting msgpack>=1.0.3 (from nvflare)\n",
      "  Obtaining dependency information for msgpack>=1.0.3 from https://files.pythonhosted.org/packages/ff/75/09081792db60470bef19d9c2be89f024d366b1e1973c197bb59e6aabc647/msgpack-1.1.0-cp310-cp310-manylinux_2_17_x86_64.manylinux2014_x86_64.whl.metadata\n",
      "  Downloading msgpack-1.1.0-cp310-cp310-manylinux_2_17_x86_64.manylinux2014_x86_64.whl.metadata (8.4 kB)\n",
      "Collecting docker>=6.0 (from nvflare)\n",
      "  Obtaining dependency information for docker>=6.0 from https://files.pythonhosted.org/packages/e3/26/57c6fb270950d476074c087527a558ccb6f4436657314bfb6cdf484114c4/docker-7.1.0-py3-none-any.whl.metadata\n",
      "  Downloading docker-7.1.0-py3-none-any.whl.metadata (3.8 kB)\n",
      "Collecting websockets>=10.4 (from nvflare)\n",
      "  Obtaining dependency information for websockets>=10.4 from https://files.pythonhosted.org/packages/7e/db/f556a1d06635c680ef376be626c632e3f2bbdb1a0189d1d1bffb061c3b70/websockets-14.1-cp310-cp310-manylinux_2_5_x86_64.manylinux1_x86_64.manylinux_2_17_x86_64.manylinux2014_x86_64.whl.metadata\n",
      "  Downloading websockets-14.1-cp310-cp310-manylinux_2_5_x86_64.manylinux1_x86_64.manylinux_2_17_x86_64.manylinux2014_x86_64.whl.metadata (6.7 kB)\n",
      "Collecting pyhocon (from nvflare)\n",
      "  Obtaining dependency information for pyhocon from https://files.pythonhosted.org/packages/39/2d/cd65dc4fa8c901e6d02b4074771ced04828d71af18b97da24ed1e55507d7/pyhocon-0.3.61-py3-none-any.whl.metadata\n",
      "  Downloading pyhocon-0.3.61-py3-none-any.whl.metadata (1.2 kB)\n",
      "Requirement already satisfied: Jinja2>=3.1.2 in /home/chester/projects/NVFlare/.venv/lib/python3.10/site-packages (from Flask==3.0.2->nvflare) (3.1.5)\n",
      "Collecting itsdangerous>=2.1.2 (from Flask==3.0.2->nvflare)\n",
      "  Obtaining dependency information for itsdangerous>=2.1.2 from https://files.pythonhosted.org/packages/04/96/92447566d16df59b2a776c0fb82dbc4d9e07cd95062562af01e408583fc4/itsdangerous-2.2.0-py3-none-any.whl.metadata\n",
      "  Downloading itsdangerous-2.2.0-py3-none-any.whl.metadata (1.9 kB)\n",
      "Collecting click>=8.1.3 (from Flask==3.0.2->nvflare)\n",
      "  Obtaining dependency information for click>=8.1.3 from https://files.pythonhosted.org/packages/7e/d4/7ebdbd03970677812aac39c869717059dbb71a4cfc033ca6e5221787892c/click-8.1.8-py3-none-any.whl.metadata\n",
      "  Downloading click-8.1.8-py3-none-any.whl.metadata (2.3 kB)\n",
      "Collecting blinker>=1.6.2 (from Flask==3.0.2->nvflare)\n",
      "  Obtaining dependency information for blinker>=1.6.2 from https://files.pythonhosted.org/packages/10/cb/f2ad4230dc2eb1a74edf38f1a38b9b52277f75bef262d8908e60d957e13c/blinker-1.9.0-py3-none-any.whl.metadata\n",
      "  Downloading blinker-1.9.0-py3-none-any.whl.metadata (1.6 kB)\n",
      "Collecting PyJWT<3.0,>=2.0 (from Flask-JWT-Extended==4.6.0->nvflare)\n",
      "  Obtaining dependency information for PyJWT<3.0,>=2.0 from https://files.pythonhosted.org/packages/61/ad/689f02752eeec26aed679477e80e632ef1b682313be70793d798c1d5fc8f/PyJWT-2.10.1-py3-none-any.whl.metadata\n",
      "  Downloading PyJWT-2.10.1-py3-none-any.whl.metadata (4.0 kB)\n",
      "Requirement already satisfied: typing-extensions>=4.2.0 in /home/chester/projects/NVFlare/.venv/lib/python3.10/site-packages (from SQLAlchemy==2.0.16->nvflare) (4.12.2)\n",
      "Collecting greenlet!=0.4.17 (from SQLAlchemy==2.0.16->nvflare)\n",
      "  Obtaining dependency information for greenlet!=0.4.17 from https://files.pythonhosted.org/packages/cf/69/79e4d63b9387b48939096e25115b8af7cd8a90397a304f92436bcb21f5b2/greenlet-3.1.1-cp310-cp310-manylinux_2_24_x86_64.manylinux_2_28_x86_64.whl.metadata\n",
      "  Downloading greenlet-3.1.1-cp310-cp310-manylinux_2_24_x86_64.manylinux_2_28_x86_64.whl.metadata (3.8 kB)\n",
      "Requirement already satisfied: MarkupSafe>=2.1.1 in /home/chester/projects/NVFlare/.venv/lib/python3.10/site-packages (from Werkzeug==3.0.3->nvflare) (3.0.2)\n",
      "Collecting cffi>=1.12 (from cryptography>=36.0.0->nvflare)\n",
      "  Obtaining dependency information for cffi>=1.12 from https://files.pythonhosted.org/packages/8d/fb/4da72871d177d63649ac449aec2e8a29efe0274035880c7af59101ca2232/cffi-1.17.1-cp310-cp310-manylinux_2_17_x86_64.manylinux2014_x86_64.whl.metadata\n",
      "  Downloading cffi-1.17.1-cp310-cp310-manylinux_2_17_x86_64.manylinux2014_x86_64.whl.metadata (1.5 kB)\n",
      "Collecting urllib3>=1.26.0 (from docker>=6.0->nvflare)\n",
      "  Obtaining dependency information for urllib3>=1.26.0 from https://files.pythonhosted.org/packages/c8/19/4ec628951a74043532ca2cf5d97b7b14863931476d117c471e8e2b1eb39f/urllib3-2.3.0-py3-none-any.whl.metadata\n",
      "  Downloading urllib3-2.3.0-py3-none-any.whl.metadata (6.5 kB)\n",
      "Requirement already satisfied: packaging in /home/chester/projects/NVFlare/.venv/lib/python3.10/site-packages (from gunicorn>=22.0.0->nvflare) (24.2)\n",
      "Collecting charset-normalizer<4,>=2 (from requests>=2.28.0->nvflare)\n",
      "  Obtaining dependency information for charset-normalizer<4,>=2 from https://files.pythonhosted.org/packages/93/62/5e89cdfe04584cb7f4d36003ffa2936681b03ecc0754f8e969c2becb7e24/charset_normalizer-3.4.1-cp310-cp310-manylinux_2_17_x86_64.manylinux2014_x86_64.whl.metadata\n",
      "  Downloading charset_normalizer-3.4.1-cp310-cp310-manylinux_2_17_x86_64.manylinux2014_x86_64.whl.metadata (35 kB)\n",
      "Collecting idna<4,>=2.5 (from requests>=2.28.0->nvflare)\n",
      "  Obtaining dependency information for idna<4,>=2.5 from https://files.pythonhosted.org/packages/76/c6/c88e154df9c4e1a2a66ccf0005a88dfb2650c1dffb6f5ce603dfbd452ce3/idna-3.10-py3-none-any.whl.metadata\n",
      "  Downloading idna-3.10-py3-none-any.whl.metadata (10 kB)\n",
      "Collecting certifi>=2017.4.17 (from requests>=2.28.0->nvflare)\n",
      "  Obtaining dependency information for certifi>=2017.4.17 from https://files.pythonhosted.org/packages/a5/32/8f6669fc4798494966bf446c8c4a162e0b5d893dff088afddf76414f70e1/certifi-2024.12.14-py3-none-any.whl.metadata\n",
      "  Downloading certifi-2024.12.14-py3-none-any.whl.metadata (2.3 kB)\n",
      "Collecting pyparsing<4,>=2 (from pyhocon->nvflare)\n",
      "  Obtaining dependency information for pyparsing<4,>=2 from https://files.pythonhosted.org/packages/1c/a7/c8a2d361bf89c0d9577c934ebb7421b25dc84bf3a8e3ac0a40aed9acc547/pyparsing-3.2.1-py3-none-any.whl.metadata\n",
      "  Downloading pyparsing-3.2.1-py3-none-any.whl.metadata (5.0 kB)\n",
      "Collecting pycparser (from cffi>=1.12->cryptography>=36.0.0->nvflare)\n",
      "  Obtaining dependency information for pycparser from https://files.pythonhosted.org/packages/13/a3/a812df4e2dd5696d1f351d58b8fe16a405b234ad2886a0dab9183fb78109/pycparser-2.22-py3-none-any.whl.metadata\n",
      "  Downloading pycparser-2.22-py3-none-any.whl.metadata (943 bytes)\n",
      "Downloading nvflare-2.5.2-py3-none-any.whl (3.7 MB)\n",
      "\u001b[2K   \u001b[90m━━━━━━━━━━━━━━━━━━━━━━━━━━━━━━━━━━━━━━━━\u001b[0m \u001b[32m3.7/3.7 MB\u001b[0m \u001b[31m20.8 MB/s\u001b[0m eta \u001b[36m0:00:00\u001b[0m00:01\u001b[0m00:01\u001b[0m\n",
      "\u001b[?25hUsing cached flask-3.0.2-py3-none-any.whl (101 kB)\n",
      "Using cached Flask_JWT_Extended-4.6.0-py2.py3-none-any.whl (22 kB)\n",
      "Using cached flask_sqlalchemy-3.1.1-py3-none-any.whl (25 kB)\n",
      "Using cached SQLAlchemy-2.0.16-cp310-cp310-manylinux_2_17_x86_64.manylinux2014_x86_64.whl (2.7 MB)\n",
      "Using cached werkzeug-3.0.3-py3-none-any.whl (227 kB)\n",
      "Using cached cryptography-44.0.0-cp39-abi3-manylinux_2_28_x86_64.whl (4.2 MB)\n",
      "Using cached docker-7.1.0-py3-none-any.whl (147 kB)\n",
      "Downloading grpcio-1.69.0-cp310-cp310-manylinux_2_17_x86_64.manylinux2014_x86_64.whl (6.0 MB)\n",
      "\u001b[2K   \u001b[90m━━━━━━━━━━━━━━━━━━━━━━━━━━━━━━━━━━━━━━━━\u001b[0m \u001b[32m6.0/6.0 MB\u001b[0m \u001b[31m22.9 MB/s\u001b[0m eta \u001b[36m0:00:00\u001b[0m00:01\u001b[0m00:01\u001b[0m\n",
      "\u001b[?25hUsing cached gunicorn-23.0.0-py3-none-any.whl (85 kB)\n",
      "Using cached msgpack-1.1.0-cp310-cp310-manylinux_2_17_x86_64.manylinux2014_x86_64.whl (378 kB)\n",
      "Downloading numpy-1.26.4-cp310-cp310-manylinux_2_17_x86_64.manylinux2014_x86_64.whl (18.2 MB)\n",
      "\u001b[2K   \u001b[90m━━━━━━━━━━━━━━━━━━━━━━━━━━━━━━━━━━━━━━━━\u001b[0m \u001b[32m18.2/18.2 MB\u001b[0m \u001b[31m22.8 MB/s\u001b[0m eta \u001b[36m0:00:00\u001b[0m00:01\u001b[0m00:01\u001b[0m\n",
      "\u001b[?25hDownloading protobuf-5.29.3-cp38-abi3-manylinux2014_x86_64.whl (319 kB)\n",
      "\u001b[2K   \u001b[90m━━━━━━━━━━━━━━━━━━━━━━━━━━━━━━━━━━━━━━━━\u001b[0m \u001b[32m319.7/319.7 kB\u001b[0m \u001b[31m15.9 MB/s\u001b[0m eta \u001b[36m0:00:00\u001b[0m\n",
      "\u001b[?25hUsing cached PyYAML-6.0.2-cp310-cp310-manylinux_2_17_x86_64.manylinux2014_x86_64.whl (751 kB)\n",
      "Using cached requests-2.32.3-py3-none-any.whl (64 kB)\n",
      "Using cached websockets-14.1-cp310-cp310-manylinux_2_5_x86_64.manylinux1_x86_64.manylinux_2_17_x86_64.manylinux2014_x86_64.whl (168 kB)\n",
      "Using cached pyhocon-0.3.61-py3-none-any.whl (25 kB)\n",
      "Using cached blinker-1.9.0-py3-none-any.whl (8.5 kB)\n",
      "Using cached certifi-2024.12.14-py3-none-any.whl (164 kB)\n",
      "Using cached cffi-1.17.1-cp310-cp310-manylinux_2_17_x86_64.manylinux2014_x86_64.whl (446 kB)\n",
      "Using cached charset_normalizer-3.4.1-cp310-cp310-manylinux_2_17_x86_64.manylinux2014_x86_64.whl (146 kB)\n",
      "Downloading click-8.1.8-py3-none-any.whl (98 kB)\n",
      "\u001b[2K   \u001b[90m━━━━━━━━━━━━━━━━━━━━━━━━━━━━━━━━━━━━━━━━\u001b[0m \u001b[32m98.2/98.2 kB\u001b[0m \u001b[31m9.7 MB/s\u001b[0m eta \u001b[36m0:00:00\u001b[0m\n",
      "\u001b[?25hUsing cached greenlet-3.1.1-cp310-cp310-manylinux_2_24_x86_64.manylinux_2_28_x86_64.whl (599 kB)\n",
      "Using cached idna-3.10-py3-none-any.whl (70 kB)\n",
      "Using cached itsdangerous-2.2.0-py3-none-any.whl (16 kB)\n",
      "Using cached PyJWT-2.10.1-py3-none-any.whl (22 kB)\n",
      "Using cached pyparsing-3.2.1-py3-none-any.whl (107 kB)\n",
      "Using cached urllib3-2.3.0-py3-none-any.whl (128 kB)\n",
      "Using cached pycparser-2.22-py3-none-any.whl (117 kB)\n",
      "Installing collected packages: Werkzeug, websockets, urllib3, PyYAML, pyparsing, PyJWT, pycparser, protobuf, numpy, msgpack, itsdangerous, idna, gunicorn, grpcio, greenlet, click, charset-normalizer, certifi, blinker, SQLAlchemy, requests, pyhocon, Flask, cffi, Flask-SQLAlchemy, Flask-JWT-Extended, docker, cryptography, nvflare\n",
      "  Attempting uninstall: numpy\n",
      "    Found existing installation: numpy 2.2.1\n",
      "    Uninstalling numpy-2.2.1:\n",
      "      Successfully uninstalled numpy-2.2.1\n",
      "Successfully installed Flask-3.0.2 Flask-JWT-Extended-4.6.0 Flask-SQLAlchemy-3.1.1 PyJWT-2.10.1 PyYAML-6.0.2 SQLAlchemy-2.0.16 Werkzeug-3.0.3 blinker-1.9.0 certifi-2024.12.14 cffi-1.17.1 charset-normalizer-3.4.1 click-8.1.8 cryptography-44.0.0 docker-7.1.0 greenlet-3.1.1 grpcio-1.69.0 gunicorn-23.0.0 idna-3.10 itsdangerous-2.2.0 msgpack-1.1.0 numpy-1.26.4 nvflare-2.5.2 protobuf-5.29.3 pycparser-2.22 pyhocon-0.3.61 pyparsing-3.2.1 requests-2.32.3 urllib3-2.3.0 websockets-14.1\n",
      "\n",
      "\u001b[1m[\u001b[0m\u001b[34;49mnotice\u001b[0m\u001b[1;39;49m]\u001b[0m\u001b[39;49m A new release of pip is available: \u001b[0m\u001b[31;49m23.2.1\u001b[0m\u001b[39;49m -> \u001b[0m\u001b[32;49m24.3.1\u001b[0m\n",
      "\u001b[1m[\u001b[0m\u001b[34;49mnotice\u001b[0m\u001b[1;39;49m]\u001b[0m\u001b[39;49m To update, run: \u001b[0m\u001b[32;49mpip install --upgrade pip\u001b[0m\n"
     ]
    }
   ],
   "source": [
    "! pip install nvflare"
   ]
  },
  {
   "cell_type": "code",
   "execution_count": null,
   "id": "185b0b63",
   "metadata": {},
   "outputs": [],
   "source": [
    "! pip install -r code/requirements.txt"
   ]
  },
  {
   "cell_type": "markdown",
   "id": "a1795c6d",
   "metadata": {},
   "source": [
    "## Prepare Data\n",
    "\n",
    "The CIFAR10 dataset has the following classes: ‘airplane’, ‘automobile’, ‘bird’, ‘cat’, ‘deer’, ‘dog’, ‘frog’, ‘horse’, ‘ship’, ‘truck’.\n",
    "The images in CIFAR-10 are of size 3x32x32, i.e. 3-channel color images of 32x32 pixels in size.\n",
    "\n",
    "![image](code/img/cifar10.png)\n",
    "\n",
    "\n",
    "Before we start the training, we will first need to prepare the data. \n",
    "\n",
    "### download the data\n",
    "\n",
    "To avoid each job having to download and split the data, we add a step to prepare the data for all the cifar10 jobs. \n",
    "\n",
    "The CIFAR10 data will be downloaded to the common location. To make this process easiler, we wrote an simple download program like the followings\n",
    "\n",
    "```\n",
    "\n",
    "import argparse\n",
    "import torchvision.datasets as datasets\n",
    "\n",
    "# default dataset path\n",
    "CIFAR10_ROOT = \"/tmp/nvflare/data/cifar10\"\n",
    "\n",
    "def define_parser():\n",
    "    parser = argparse.ArgumentParser()\n",
    "    parser.add_argument(\"--dataset_path\", type=str, default=CIFAR10_ROOT, nargs=\"?\")\n",
    "    args = parser.parse_args()\n",
    "    return args\n",
    "\n",
    "def main(args):\n",
    "    datasets.CIFAR10(root=args.dataset_path, train=True, download=True)\n",
    "    datasets.CIFAR10(root=args.dataset_path, train=False, download=True)\n",
    "\n",
    "\n",
    "```\n"
   ]
  },
  {
   "cell_type": "markdown",
   "id": "bcba6293",
   "metadata": {},
   "source": [
    "The program just take a root dataset_path and download the training and test dataset to the given root directory from torchvision dataset. Let run the code. "
   ]
  },
  {
   "cell_type": "code",
   "execution_count": 3,
   "id": "87a13909",
   "metadata": {},
   "outputs": [
    {
     "name": "stdout",
     "output_type": "stream",
     "text": [
      "Downloading https://www.cs.toronto.edu/~kriz/cifar-10-python.tar.gz to /tmp/nvflare/data/cifar10/cifar-10-python.tar.gz\n",
      "100.0%\n",
      "Extracting /tmp/nvflare/data/cifar10/cifar-10-python.tar.gz to /tmp/nvflare/data/cifar10\n",
      "Files already downloaded and verified\n"
     ]
    }
   ],
   "source": [
    "!python3 code/data/download.py"
   ]
  },
  {
   "cell_type": "markdown",
   "id": "997fafbe",
   "metadata": {},
   "source": [
    "We can examine the downloaded data"
   ]
  },
  {
   "cell_type": "code",
   "execution_count": 4,
   "id": "08bbe572",
   "metadata": {},
   "outputs": [
    {
     "name": "stdout",
     "output_type": "stream",
     "text": [
      "\u001b[01;34m/tmp/nvflare/data/cifar10/cifar-10-batches-py/\u001b[0m\n",
      "├── \u001b[00mbatches.meta\u001b[0m\n",
      "├── \u001b[00mdata_batch_1\u001b[0m\n",
      "├── \u001b[00mdata_batch_2\u001b[0m\n",
      "├── \u001b[00mdata_batch_3\u001b[0m\n",
      "├── \u001b[00mdata_batch_4\u001b[0m\n",
      "├── \u001b[00mdata_batch_5\u001b[0m\n",
      "├── \u001b[00mreadme.html\u001b[0m\n",
      "└── \u001b[00mtest_batch\u001b[0m\n",
      "\n",
      "0 directories, 8 files\n"
     ]
    }
   ],
   "source": [
    "!tree /tmp/nvflare/data/cifar10/cifar-10-batches-py/"
   ]
  },
  {
   "cell_type": "markdown",
   "id": "ce815072",
   "metadata": {},
   "source": [
    "### Split the data\n",
    "\n",
    "In real-world scenarios, the data will be distributed among different clients/sides. Since we are simulating the real-world data, we need to split the data into different clients/sites. How to split the data, \n",
    "depending on the type of problem or type of data. For simplicity, in this example we assume all clients will have the same data for horizontal federated learning cases.\n",
    "Thus we do not do a data split, but rather point all clients to the same data location.\n",
    "\n",
    "\n",
    "\n",
    "\n",
    "\n",
    "\n",
    "\n",
    "\n",
    "\n"
   ]
  },
  {
   "cell_type": "markdown",
   "id": "316bae55",
   "metadata": {},
   "source": [
    "Next Step, we will start to run training using simulation: [run pytorch federated learning job](01.1.2_runing_pytorch_fl_job.ipynb)"
   ]
  },
  {
   "cell_type": "markdown",
   "id": "821a19f6",
   "metadata": {},
   "source": []
  }
 ],
 "metadata": {
  "kernelspec": {
   "display_name": ".venv",
   "language": "python",
   "name": "python3"
  },
  "language_info": {
   "codemirror_mode": {
    "name": "ipython",
    "version": 3
   },
   "file_extension": ".py",
   "mimetype": "text/x-python",
   "name": "python",
   "nbconvert_exporter": "python",
   "pygments_lexer": "ipython3",
   "version": "3.10.12"
  }
 },
 "nbformat": 4,
 "nbformat_minor": 5
}
