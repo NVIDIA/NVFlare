{
 "cells": [
  {
   "cell_type": "markdown",
   "id": "f64188d2",
   "metadata": {},
   "source": [
    "\n",
    "# Customizing Federated Learning Server logics\n",
    "\n",
    "\n",
    "In previous notebooks, we are able to run federated pytorch image classification code with NVIDIA FLARE builtin FedAvg algorithm. \n",
    "What if we want to build my own algorithms or modify the existing algorithm ? \n",
    "\n",
    "In the following, using FedAvg as starting point, we like to make a few changes to FedAvg to fit our needs: \n",
    "\n",
    "* Instead of rely on the internal best model selection approach, we want to provide our own best model selection\n",
    "* Add early stopping mechanism so that the training could stop instead of waiting to the total numbers of rounds if the criteria is statisfied\n",
    "* Instead of using building persiste component PTFileModelPersistor, we like to have our own save and loading functions\n",
    "\n",
    "\n",
    "In this section, we will go over these changes step-by-step. You can find these also in [FedAvg with early stopping](https://github.com/NVIDIA/NVFlare/blob/main/examples/hello-world/hello-fedavg/hello-fedavg.ipynb) example\n",
    "\n",
    "\n",
    "First, let's look at the FedAvg Job, which includes the FedAvg algorithm. \n",
    "\n",
    "## Customized FedAvg v1\n",
    "\n",
    "Lets starts with BaseFedAvg class and 1st modify the early stopping logics\n",
    "\n",
    "\n",
    "```class BaseFedAvg``` provided a core based class for the customize FedAvg, it define a run() methods that capture all the running logs\n",
    "as well as some utiliies. \n",
    "\n",
    "\n",
    "\n",
    "\n",
    "\n",
    "\n",
    "### Early Stoping FedAvg\n",
    "\n",
    "```\n",
    "class FedAvg(BaseFedAvg):\n",
    "    \"\"\"FedAvg with Early Stopping\n",
    "\n",
    "    Args:\n",
    "        num_clients (int, optional): The number of clients. Defaults to 3.\n",
    "        num_rounds (int, optional): The total number of training rounds. Defaults to 5.\n",
    "        stop_cond (str, optional): early stopping condition based on metric.\n",
    "            string literal in the format of \"<key> <op> <value>\" (e.g. \"accuracy >= 80\")\n",
    "    \"\"\"\n",
    "\n",
    "    def __init__(\n",
    "        self,\n",
    "        *args,\n",
    "        stop_cond: str = None,\n",
    "        initial_model=None,\n",
    "        **kwargs,\n",
    "    ):\n",
    "        super().__init__(*args, **kwargs)\n",
    "\n",
    "        self.stop_cond = stop_cond\n",
    "        if stop_cond:\n",
    "            self.stop_condition = parse_compare_criteria(stop_cond)\n",
    "        else:\n",
    "            self.stop_condition = None\n",
    "        \n",
    "        self.initial_model = initial_model\n",
    "        \n",
    "\n",
    "\n",
    "\n",
    "```\n",
    " \n"
   ]
  },
  {
   "cell_type": "code",
   "execution_count": null,
   "id": "c7871717",
   "metadata": {
    "vscode": {
     "languageId": "plaintext"
    }
   },
   "outputs": [],
   "source": []
  },
  {
   "cell_type": "code",
   "execution_count": null,
   "id": "aa6d4de5",
   "metadata": {
    "vscode": {
     "languageId": "plaintext"
    }
   },
   "outputs": [],
   "source": []
  },
  {
   "cell_type": "markdown",
   "id": "9beac00b",
   "metadata": {},
   "source": []
  },
  {
   "cell_type": "markdown",
   "id": "437f0d14",
   "metadata": {},
   "source": []
  },
  {
   "cell_type": "markdown",
   "id": "84b319c6",
   "metadata": {},
   "source": []
  }
 ],
 "metadata": {
  "kernelspec": {
   "display_name": "nvflare_example",
   "language": "python",
   "name": "nvflare_example"
  },
  "language_info": {
   "codemirror_mode": {
    "name": "ipython",
    "version": 3
   },
   "file_extension": ".py",
   "mimetype": "text/x-python",
   "name": "python",
   "nbconvert_exporter": "python",
   "pygments_lexer": "ipython3",
   "version": "3.10.2"
  }
 },
 "nbformat": 4,
 "nbformat_minor": 5
}
