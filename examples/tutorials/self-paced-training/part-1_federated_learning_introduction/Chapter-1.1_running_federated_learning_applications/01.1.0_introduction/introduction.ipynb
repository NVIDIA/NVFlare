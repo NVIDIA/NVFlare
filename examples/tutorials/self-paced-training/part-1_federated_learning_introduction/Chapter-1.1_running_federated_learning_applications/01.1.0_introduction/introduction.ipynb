{
 "cells": [
  {
   "cell_type": "markdown",
   "metadata": {},
   "source": [
    "# Runing Federated Learning Applications\n",
    "\n",
    "\n",
    "In this chapter, we will explore the process of running federated learning applications. We will start by setting up the environment and preparing the data, followed by training a classifier using PyTorch. We will then convert deep learning models to federated learning, customize server and client logic, and setup track experiments. Finally, we will delve into the job structure and configurations, including running a simulator, and conclude with a recap of the covered topics.\n",
    "\n",
    "\n",
    "1. **Running federated learning job**\n",
    "   * [Installation, prepare data](../01.1.1_running_federated_learning_job/setup.ipynb)\n",
    "   * [traing classifier with pytorch](../01.1.1_running_federated_learning_job/runing_pytorch_fl_job.ipynb)\n",
    "\n",
    "2. [Convert deep learning with pytorch to federated leraning](../01.1.2_convert_deep_learning_to_federated_learning/convert_dl_to_fl.ipynb)\n",
    "\n",
    "2. [customize server logics](../01.1.3_customize_server_logics/)\n",
    "\n",
    "4. [customize client logics](../01.1.4_customize_client_training/customize_client_training.ipynb)\n",
    "\n",
    "5. [experiment tracking](../01.1.5_experiment_tracking/experiment_tracking.ipynb)\n",
    "\n",
    "6. **Job structure and configurations**\n",
    "\n",
    "   * [Federated job ](../01.1.6_job_structure_and_configuration/01.1.5.1_understanding_fl_job.ipynb)\n",
    "\n",
    "   * [job structure & configuration](../01.1.6_job_structure_and_configuration/01.1.5.2_job_structure_and_config.ipynb)\n",
    "\n",
    "   * [running simulator](../01.1.6_job_structure_and_configuration/01.1.5.3_running_simulator.ipynb)\n",
    "\n",
    "7. [Recap of the covered topics](./01.1.8_recap.ipynb)\n",
    "\n",
    "\n",
    "\n",
    "Let's get started with [Installation & data preparation](../01.1.1_running_federated_learning_job/setup.ipynb)\n"
   ]
  }
 ],
 "metadata": {
  "language_info": {
   "name": "python"
  }
 },
 "nbformat": 4,
 "nbformat_minor": 2
}
