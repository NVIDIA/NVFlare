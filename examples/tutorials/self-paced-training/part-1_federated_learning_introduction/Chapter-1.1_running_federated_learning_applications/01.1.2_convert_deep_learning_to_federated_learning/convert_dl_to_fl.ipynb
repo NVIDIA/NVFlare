{
 "cells": [
  {
   "cell_type": "markdown",
   "id": "b75b2253-cba8-4579-907b-09311e0da587",
   "metadata": {},
   "source": [
    "# PyTorch Deep Learning to Federated Learning Conversion\n",
    "\n",
    "One common question frequently heard from data scientists is how do I wrote a federated learning ? If I already have training code already for deep learning? how do I write an federated learning training code for the same problem?\n",
    "\n",
    "In this section, we will look at the classification training code we ran earlier and see how to convert the existing the pytorch training script to federated Learning client training code\n",
    "\n",
    "\n",
    "#### Orginal Deep learning Training Script"
   ]
  },
  {
   "cell_type": "code",
   "execution_count": null,
   "id": "78422d7e",
   "metadata": {},
   "outputs": [],
   "source": [
    "%cd 01.1.3.code"
   ]
  },
  {
   "cell_type": "code",
   "execution_count": null,
   "id": "0d86225e",
   "metadata": {},
   "outputs": [],
   "source": [
    "! python3 src/client_origin.py"
   ]
  },
  {
   "cell_type": "markdown",
   "id": "4d9db032",
   "metadata": {},
   "source": [
    "#### Convert the Deep learning Training Script\n",
    "\n",
    "Now let's convert it to federated learning training code with NVIDIA FLARE's Client API\n"
   ]
  },
  {
   "cell_type": "markdown",
   "id": "62a0ce53",
   "metadata": {},
   "source": [
    "**Step-1** import\n",
    "\n",
    "```\n",
    "import nvflare.client as flare\n",
    "\n",
    "```\n",
    "\n",
    "**Step-2** init\n",
    "\n",
    "we call \n",
    "\n",
    "```\n",
    "flare.init()\n",
    "```\n",
    "\n",
    "Once the flare is initialized, we will recieve some system metadata for example\n",
    "```\n",
    "  sys_info = flare.system_info()\n",
    "  client_name = sys_info[\"site_name\"]\n",
    "\n",
    "```\n",
    "We can get current client's \"identity\". \n",
    "\n",
    "Next we need to extends the trainig beyond local iterations.  Image the Federated Learning is like the following for-loop: \n",
    "\n",
    "```\n",
    "rounds = 5\n",
    "for current_round in ranage (rounds):\n",
    "     \n",
    "    <at each site local_training()>\n",
    "\n",
    "```\n",
    "\n",
    "Therefore we need to additional loop for the Federated Learning training. This can be expressed \n",
    "\n",
    "**Step 3** global round loop \n",
    "\n",
    "    while flare.is_running():\n",
    "        <local training>\n",
    "\n",
    "\n",
    "For each round: we need to receive and evaluate the global model. \n",
    "\n",
    "\n",
    "**Step-4** Recive global model \n",
    "\n",
    "```\n",
    "        input_model = flare.receive()\n",
    "        round=input_model.current_round\n",
    "\n",
    "        # update model based on global model\n",
    "        model.load_state_dict(input_model.params)\n",
    "```\n",
    "\n",
    "**Step-5** Eveluate Global Model\n",
    "\n",
    "    Since the local model is being updated with global model, the training procedue caclate the loss which evaluate the model \n",
    "\n",
    "**Step-6** Send the local trained model back to aggregator\n",
    "\n",
    "    we take the newly trained local model parameters as well as metadata, sned it back to aggregator. \n",
    "\n",
    "```\n",
    "\n",
    "        output_model = flare.FLModel( params=model.cpu().state_dict(), meta={\"NUM_STEPS_CURRENT_ROUND\": steps},)\n",
    "\n",
    "        flare.send(output_model)\n",
    "```\n",
    "\n",
    "\n",
    "With above steps, just a few lines of code changes, no code structural changes, we converted the pytorch deep learning code to federated learning with NVIDIA FLARE\n",
    "\n",
    "The complete code can be found at client.py"
   ]
  },
  {
   "cell_type": "code",
   "execution_count": null,
   "id": "7249afc0",
   "metadata": {},
   "outputs": [],
   "source": [
    "!cat src/client.py"
   ]
  },
  {
   "cell_type": "markdown",
   "id": "7f1824bf",
   "metadata": {},
   "source": [
    "Now, we converted the client pytorch training script to federated learning code, lets explore further and see how can we customize the server and client training logics. \n",
    "\n",
    "Go to [customize server logics](../01.1.3_customize_server_logics/customize_server_logics.ipynb)\n",
    "\n"
   ]
  },
  {
   "cell_type": "markdown",
   "id": "7b024c86",
   "metadata": {},
   "source": []
  }
 ],
 "metadata": {
  "kernelspec": {
   "display_name": "Python 3",
   "language": "python",
   "name": "python3"
  },
  "language_info": {
   "codemirror_mode": {
    "name": "ipython",
    "version": 3
   },
   "file_extension": ".py",
   "mimetype": "text/x-python",
   "name": "python",
   "nbconvert_exporter": "python",
   "pygments_lexer": "ipython3",
   "version": "3.8.13"
  }
 },
 "nbformat": 4,
 "nbformat_minor": 5
}
