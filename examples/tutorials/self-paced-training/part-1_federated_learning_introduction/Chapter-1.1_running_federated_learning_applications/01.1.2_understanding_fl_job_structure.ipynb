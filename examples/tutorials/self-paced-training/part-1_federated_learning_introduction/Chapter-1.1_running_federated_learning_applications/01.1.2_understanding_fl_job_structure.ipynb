{
 "cells": [
  {
   "cell_type": "markdown",
   "id": "1bfdb3f6-3fec-48bd-a745-c9ffae04682d",
   "metadata": {},
   "source": [
    "# Understanding FLARE federated learning Job structure\n"
   ]
  },
  {
   "cell_type": "code",
   "execution_count": null,
   "id": "ab47f2c5",
   "metadata": {},
   "outputs": [],
   "source": []
  }
 ],
 "metadata": {
  "kernelspec": {
   "display_name": "Python 3",
   "language": "python",
   "name": "python3"
  },
  "language_info": {
   "codemirror_mode": {
    "name": "ipython",
    "version": 3
   },
   "file_extension": ".py",
   "mimetype": "text/x-python",
   "name": "python",
   "nbconvert_exporter": "python",
   "pygments_lexer": "ipython3",
   "version": "3.10.12"
  }
 },
 "nbformat": 4,
 "nbformat_minor": 5
}
