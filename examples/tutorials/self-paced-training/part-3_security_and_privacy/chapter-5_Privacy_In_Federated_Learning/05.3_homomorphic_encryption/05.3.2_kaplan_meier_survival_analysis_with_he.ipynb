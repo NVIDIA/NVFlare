{
 "cells": [
  {
   "cell_type": "markdown",
   "id": "ddbd5670-7f04-4f54-bacb-cb1df77e4ae3",
   "metadata": {},
   "source": [
    "# Secure Federated Kaplan-Meier Analysis via Time-Binning and Homomorphic Encryption\n",
    "\n",
    "Please make sure you set up a virtual environment and follow [example root readme](../../README.md) before starting this notebook.\n",
    "Then, install the requirements.\n",
    "\n",
    "<div class=\"alert alert-block alert-info\"> <b>NOTE</b> Some of the cells below generate long text output.  We're using <pre>%%capture --no-display --no-stderr cell_output</pre> to suppress this output.  Comment or delete this line in the cells below to restore full output.</div>"
   ]
  },
  {
   "cell_type": "code",
   "execution_count": null,
   "id": "f4466ffb-8c32-4245-ba92-2985fb0fb45d",
   "metadata": {},
   "outputs": [],
   "source": [
    "%%capture --no-display --no-stderr cell_output\n",
    "import sys\n",
    "!{sys.executable} -m pip install -r requirements.txt"
   ]
  },
  {
   "cell_type": "markdown",
   "id": "eddc6150-8327-4fc7-a2e0-6d14bc2f3c10",
   "metadata": {},
   "source": [
    "This example illustrates two features:\n",
    "* How to perform Kaplan-Meier survival analysis in federated setting without and with secure features via time-binning and Homomorphic Encryption (HE).\n",
    "* How to use the Flare ModelController API to contract a workflow to facilitate HE under simulator mode.\n"
   ]
  },
  {
   "cell_type": "markdown",
   "id": "98039959-f3e0-42af-9228-55262e70613d",
   "metadata": {},
   "source": [
    "## Basics of Kaplan-Meier Analysis\n",
    "Kaplan-Meier survival analysis is a non-parametric statistic used to estimate the survival function from lifetime data. It is used to analyze the time it takes for an event of interest to occur. For example, during a clinical trial, the Kaplan-Meier estimator can be used to estimate the proportion of patients who survive a certain amount of time after treatment. \n",
    "\n",
    "The Kaplan-Meier estimator takes into account the time of the event (e.g. \"Survival Days\") and whether the event was observed or censored. An event is observed if the event of interest (e.g. \"death\") occurred at the end of the observation process. An event is censored if the event of interest did not occur (i.e. patient is still alive) at the end of the observation process.\n",
    "\n",
    "One example dataset used here for Kaplan-Meier analysis is the `veterans_lung_cancer` dataset. This dataset contains information about the survival time of veterans with advanced lung cancer. Below we provide some samples of the dataset:\n",
    "\n",
    "| ID | Age | Celltype   | Karnofsky  | Diagtime | Prior | Treat     | Status | Survival Days |\n",
    "|----|-----|------------|------------|----------|-------|-----------|--------|---------------|\n",
    "| 1  | 64  | squamous   | 70         | 5        | yes   | standard  | TRUE   | 411           |\n",
    "| 20 | 55  | smallcell  | 40         | 3        | no    | standard  | FALSE  | 123           |\n",
    "| 45 | 61  | adeno      | 20         | 19       | yes   | standard  | TRUE   | 8             |\n",
    "| 63 | 62  | large      | 90         | 2        | no    | standard  | FALSE  | 182           |\n",
    "\n",
    "To perform the analysis, in this data, we have:\n",
    "- Time `Survival Days`: days passed from the beginning of the observation till the end\n",
    "- Event `Status`: whether event (i.e. death) happened at the end of the observation, or not\n",
    "Based on the above understanding, we can interpret the data as follows:\n",
    "- Patient #1 goes through an observation period of 411 days, and passes away at Day 411\n",
    "- Patient #20 goes through an observation period of 123 days, and is still alive when the observation stops at Day 123 \n",
    "\n",
    "The purpose of Kaplan-Meier analysis is to estimate the survival function, which is the probability that a patient survives beyond a certain time. Naturally, it will be a monotonic decreasing function, since the probability of surviving will decrease as time goes by."
   ]
  },
  {
   "cell_type": "markdown",
   "id": "20decf52-eb03-4697-ac5e-33df3d281834",
   "metadata": {},
   "source": [
    "## Secure Multi-party Kaplan-Meier Analysis\n",
    "As described above, Kaplan-Meier survival analysis is a one-shot (non-iterative) analysis performed on a list of events (`Status`) and their corresponding time (`Survival Days`). In this example, we use [lifelines](https://zenodo.org/records/10456828) to perform this analysis. \n",
    "\n",
    "Essentially, the estimator needs to get access to this event list, and under the setting of federated analysis, the aggregated event list from all participants.\n",
    "\n",
    "However, this poses a data security concern - the event list is equivalent to the raw data. If it gets exposed to external parties, it essentially breaks the core value of federated analysis.\n",
    "\n",
    "Therefore, we would like to design a secure mechanism to enable collaborative Kaplan-Meier analysis without the risk of exposing the raw information from a participant, the targeted protection includes:\n",
    "- Prevent clients from getting RAW data from each other;\n",
    "- Prevent the aggregation server to access ANY information from participants' submissions.\n",
    "\n",
    "This is achieved by two techniques:\n",
    "- Condense the raw event list to two histograms (one for observed events and the other for censored event) using binning at certain interval (e.g. a week)\n",
    "- Perform the aggregation of the histograms using Homomorphic Encryption (HE)\n",
    "\n",
    "With time-binning, the above event list will be converted to histograms: if using a week as interval:\n",
    "- Patient #1 will contribute 1 to the 411/7 = 58th bin of the observed event histogram\n",
    "- Patient #20 will contribute 1 to the 123/7 = 17th bin of the censored event histogram\n",
    "\n",
    "In this way, events happened within the same bin from different participants can be aggregated and will not be distinguishable for the final aggregated histograms. Note that coarser binning will lead to higher protection, but also lower resolution of the final Kaplan-Meier curve.\n",
    "\n",
    "Local histograms will then be encrypted as one single vector before sending to server, and the global aggregation operation at server side will be performed entirely within encryption space with HE. This will not cause any information loss, while the server will not be able to access any plain-text information.\n",
    "\n",
    "With these two settings, the server will have no access to any knowledge regarding local submissions, and participants will only receive global aggregated histograms that will not contain distinguishable information regarding any individual participants (client number >= 3 - if only two participants, one can infer the other party's info by subtracting its own histograms).\n",
    "\n",
    "The final Kaplan-Meier survival analysis will be performed locally on the global aggregated event list, recovered from decrypted global histograms.\n"
   ]
  },
  {
   "cell_type": "markdown",
   "id": "fc5fecdf-66ab-4ab3-ace1-384868efe36f",
   "metadata": {},
   "source": [
    "## Baseline Kaplan-Meier Analysis\n",
    "We first illustrate the baseline centralized Kaplan-Meier analysis without any secure features. We used veterans_lung_cancer dataset by\n",
    "`from sksurv.datasets import load_veterans_lung_cancer`, and used `Status` as the event type and `Survival_in_days` as the event time to construct the event list.\n",
    "\n",
    "To run the baseline script, simply execute:"
   ]
  },
  {
   "cell_type": "code",
   "execution_count": null,
   "id": "8b07ed4b-2a87-4d79-8d84-731ac1537e14",
   "metadata": {},
   "outputs": [],
   "source": [
    "! python utils/baseline_kaplan_meier.py "
   ]
  },
  {
   "cell_type": "markdown",
   "id": "f0fff0ce-c09c-4d8b-a95d-eabd492b3fa1",
   "metadata": {},
   "source": [
    "By default, this will generate a KM curve image `km_curve_baseline.png` under `/tmp` directory. The resulting KM curve is shown below:\n",
    "\n",
    "![KM survival baseline](figs/km_curve_baseline.png)\n",
    "\n",
    "Here, we show the survival curve for both daily (without binning) and weekly binning. The two curves aligns well with each other, while the weekly-binned curve has lower resolution."
   ]
  },
  {
   "cell_type": "markdown",
   "id": "fd5db333-8a55-4be9-ab27-2e8b394baf2c",
   "metadata": {},
   "source": [
    "## Federated Kaplan-Meier Analysis w/o and w/ HE \n",
    "We make use of FLARE ModelController API to implement the federated Kaplan-Meier analysis, both without and with HE.\n",
    "\n",
    "The Flare ModelController API (`ModelController`) provides the functionality of flexible FLModel payloads for each round of federated analysis. This gives us the flexibility of transmitting various information needed by our scheme at different stages of federated learning.\n",
    "\n",
    "Our [existing HE examples](https://github.com/NVIDIA/NVFlare/tree/main/examples/advanced/cifar10/cifar10-real-world) uses data filter mechanism for HE, provisioning the HE context information (specs and keys) for both client and server of the federated job under [CKKS](https://github.com/NVIDIA/NVFlare/blob/main/nvflare/app_opt/he/model_encryptor.py) scheme. In this example, we would like to illustrate ModelController's capability in supporting customized needs beyond the existing HE functionalities (designed mainly for encrypting deep learning models).\n",
    "- different HE schemes (BFV) rather than CKKS\n",
    "- different content at different rounds of federated learning, and only specific payload needs to be encrypted\n",
    "\n",
    "With the ModelController API, such \"proof of concept\" experiment becomes easy. In this example, the federated analysis pipeline includes 2 rounds without HE, or 3 rounds with HE.\n",
    "\n",
    "For the federated analysis without HE, the detailed steps are as follows:\n",
    "1. Server sends the simple start message without any payload.\n",
    "2. Clients submit the local event histograms to server. Server aggregates the histograms with varying lengths by adding event counts of the same slot together, and sends the aggregated histograms back to clients.\n",
    "\n",
    "For the federated analysis with HE, we need to ensure proper HE aggregation using BFV, and the detailed steps are as follows:\n",
    "1. Server send the simple start message without any payload. \n",
    "2. Clients collect the information of the local maximum bin number (for event time) and send to server, where server aggregates the information by selecting the maximum among all clients. The global maximum number is then distributed back to clients. This step is necessary because we would like to standardize the histograms generated by all clients, such that they will have the exact same length and can be encrypted as vectors of same size, which will be addable.\n",
    "3. Clients condense their local raw event lists into two histograms with the global length received, encrypt the histrogram value vectors, and send to server. Server aggregated the received histograms by adding the encrypted vectors together, and sends the aggregated histograms back to clients.\n",
    "\n",
    "After these rounds, the federated work is completed. Then at each client, the aggregated histograms will be decrypted and converted back to an event list, and Kaplan-Meier analysis can be performed on the global information."
   ]
  },
  {
   "cell_type": "markdown",
   "id": "a36acc98-b940-4460-8e93-a3fb1f8af09e",
   "metadata": {},
   "source": [
    "## Run the job\n",
    "First, we prepared data for a 5-client federated job. We split and generate the data files for each client with binning interval of 7 days. "
   ]
  },
  {
   "cell_type": "code",
   "execution_count": null,
   "id": "1aaba916-4830-4fe1-a9e3-8eb08c2d7c6e",
   "metadata": {},
   "outputs": [],
   "source": [
    "! python utils/prepare_data.py --site_num 5 --bin_days 7 --out_path \"/tmp/nvflare/dataset/km_data\""
   ]
  },
  {
   "cell_type": "markdown",
   "id": "8ec92ea1-fba4-48df-8709-a90064713b96",
   "metadata": {},
   "source": [
    "Then we prepare HE context for clients and server, note that this step is done by secure provisioning for real-life applications, but in this study experimenting with BFV scheme, we use this step to distribute the HE context. "
   ]
  },
  {
   "cell_type": "code",
   "execution_count": null,
   "id": "66f1d3e2-d58e-4c87-8d2e-c55f52044361",
   "metadata": {},
   "outputs": [],
   "source": [
    "! python utils/prepare_he_context.py --out_path \"/tmp/nvflare/he_context\""
   ]
  },
  {
   "cell_type": "markdown",
   "id": "1e282175-9567-42be-9cb3-21735801b9e0",
   "metadata": {},
   "source": [
    "Next, we run the federated training using NVFlare Simulator via [JobAPI](https://nvflare.readthedocs.io/en/main/programming_guide/fed_job_api.html), both without and with HE:"
   ]
  },
  {
   "cell_type": "code",
   "execution_count": null,
   "id": "631fa941-9620-4191-b2b5-b7f740a4ce47",
   "metadata": {
    "scrolled": true
   },
   "outputs": [],
   "source": [
    "! python km_job.py \n",
    "! python km_job.py --encryption"
   ]
  },
  {
   "cell_type": "markdown",
   "id": "ad1e7b4e-3a6b-4f09-9695-0e6b21fad80d",
   "metadata": {},
   "source": [
    "By default, this will generate a KM curve image `km_curve_fl.png` and `km_curve_fl_he.png` under each client's directory in `/tmp/nvflare/jobs/km/workdir`."
   ]
  },
  {
   "cell_type": "markdown",
   "id": "d030a1c7-bb3b-464a-898a-0f293402a86b",
   "metadata": {},
   "source": [
    "## Display Result\n",
    "\n",
    "By comparing the two curves, we can observe that all curves are identical:\n",
    "\n",
    "![KM survival fl](figs/km_curve_fl.png)\n",
    "\n",
    "![KM survival fl_he](figs/km_curve_fl_he.png)"
   ]
  },
  {
   "cell_type": "markdown",
   "id": "0e3bfeed-18d2-479b-aab5-822c2e81ba4a",
   "metadata": {},
   "source": [
    "Let's recap what we learned in this [chapter](../05.4_recap/recap.ipynb)."
   ]
  }
 ],
 "metadata": {
  "kernelspec": {
   "display_name": "Python 3 (ipykernel)",
   "language": "python",
   "name": "python3"
  },
  "language_info": {
   "codemirror_mode": {
    "name": "ipython",
    "version": 3
   },
   "file_extension": ".py",
   "mimetype": "text/x-python",
   "name": "python",
   "nbconvert_exporter": "python",
   "pygments_lexer": "ipython3",
   "version": "3.12.9"
  }
 },
 "nbformat": 4,
 "nbformat_minor": 5
}
