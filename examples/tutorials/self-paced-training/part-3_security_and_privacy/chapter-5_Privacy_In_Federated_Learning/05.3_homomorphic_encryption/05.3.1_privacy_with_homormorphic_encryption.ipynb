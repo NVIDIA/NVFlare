{
 "cells": [
  {
   "cell_type": "markdown",
   "id": "5c0688f9-ae01-48e9-9411-3b1143c98962",
   "metadata": {},
   "source": [
    "# Federated Learning with Homomorphic Encryption for Secure Aggregation\n",
    "\n",
    "Please make sure you set up a virtual environment and follow [example root readme](../../README.md) before starting this notebook.\n",
    "Then, install the requirements.\n",
    "\n",
    "<div class=\"alert alert-block alert-info\"> <b>NOTE</b> Some of the cells below generate long text output.  We're using <pre>%%capture --no-display --no-stderr cell_output</pre> to suppress this output.  Comment or delete this line in the cells below to restore full output.</div>"
   ]
  },
  {
   "cell_type": "code",
   "execution_count": null,
   "id": "3f877106-9455-45ed-ad81-6f556f24303b",
   "metadata": {
    "jupyter": {
     "source_hidden": true
    }
   },
   "outputs": [],
   "source": [
    "%%capture --no-display --no-stderr cell_output\n",
    "import sys\n",
    "!{sys.executable} -m pip install -r requirements.txt"
   ]
  },
  {
   "cell_type": "markdown",
   "id": "fdf0d7a9-a693-447d-9390-7cdec51a5936",
   "metadata": {},
   "source": [
    "### Homomorphic Encryption in NVFlare\n",
    "This example includes instructions on running [FedAvg](https://arxiv.org/abs/1602.05629) with [homomorphic encryption](https://developer.nvidia.com/blog/federated-learning-with-homomorphic-encryption/) (originally developed for Clara Train's FL feature, the predecessor of NVFlare).\n",
    "\n",
    "It uses the provisioning and the admin API to submit jobs, similar to how one would set up experiments in real-world deployment.\n",
    "For more information on real-world FL see [here](https://nvflare.readthedocs.io/en/latest/real_world_fl.html).\n",
    "\n",
    "HE encryption and decryption are added as filters using the [FedJob API](https://nvflare.readthedocs.io/en/main/programming_guide/fed_job_api.html#fedjob-api) you should have seen in prior chapters.\n",
    "\n",
    "The communication channels in NVFlare are TLS-encrypted using the certificates provided by the provisioning tool. However, each client can receive additional keys to homomorphically encrypt their model updates before sending them to the server. The server doesn’t own a key and only sees the encrypted model updates.\n",
    "\n",
    "HE allows the server to aggregate these encrypted weights and then send the updated model back to the client. The clients can decrypt the model weights because they have the keys and can continue with the next round of training.\n",
    "\n",
    "![Homomorphic Encryption](he.png)"
   ]
  },
  {
   "cell_type": "markdown",
   "id": "98e282c2-3d8c-4a21-9ba5-89700fd3f049",
   "metadata": {},
   "source": [
    "# SAG workflow with Homomorphic Encryption\n",
    "\n",
    "In this example, we will demonstrate how to use homomorphic encryption (HE)\n",
    "by building on the previous [FedAvg with SAG workflow](../sag/sag.ipynb#title) example using the CIFAR10 dataset.\n",
    "\n",
    "## Homomorphic Encryption\n",
    "\n",
    "Homomorphic encryption is a form of encryption that allows computations to be performed on encrypted data, which is especially useful for preserving privacy in a federated learning setting.\n",
    "FLARE uses the [TenSEAL](https://github.com/OpenMined/TenSEAL) library to enable homomorphic encryption operations on tensors in the provided FLARE [HE implementation](https://github.com/NVIDIA/NVFlare/tree/main/nvflare/app_opt/he).\n",
    "\n",
    "## Job Configuration\n",
    "\n",
    "On the client side, to configure homomorphic encryption we must add the following HE filters in config_fed_client.conf:\n",
    "\n",
    "- `HEModelDecryptor`: Data filter to decrypt incoming Shareable objects using HE.\n",
    "- `HEModelEncryptor`: Result filter to encrypt outgoing Shareable objects using HE.\n",
    "\n",
    "On the server side, we configure components with HE support in config_fed_server.conf:\n",
    "\n",
    "- `HEModelShareableGenerator`: This ShareableGenerator converts between Shareable and Learnable objects using HE.\n",
    "- `HEInTimeAccumulateWeightedAggregator`: Filter to encrypt Shareable object using HE.\n",
    "- `HEModelSerializeFilter`: Used to serialize TenSEAL encrypted server models for use with HE support.\n",
    "\n",
    "Let's use the Job CLI to create the job from the sag_pt_he template:"
   ]
  },
  {
   "cell_type": "code",
   "execution_count": null,
   "id": "5ffde9c2-a964-4a5b-8dc0-e167beb8f534",
   "metadata": {},
   "outputs": [],
   "source": [
    "! nvflare config -jt ../../../../../job_templates"
   ]
  },
  {
   "cell_type": "code",
   "execution_count": null,
   "id": "bf12d402-dc33-4a23-a554-1344e04ec662",
   "metadata": {},
   "outputs": [],
   "source": [
    "! nvflare job create -j /tmp/nvflare/jobs/cifar10_sag_pt_he -w sag_pt_he -sd ../code/fl -force"
   ]
  },
  {
   "cell_type": "markdown",
   "id": "dde1def0-12aa-41bb-a11c-965171cdf7f4",
   "metadata": {},
   "source": [
    "We can take a look at the client and server configurations and make any changes as desired:"
   ]
  },
  {
   "cell_type": "code",
   "execution_count": null,
   "id": "15feff0e-ffe9-413a-885f-2beb3d0066a1",
   "metadata": {},
   "outputs": [],
   "source": [
    "! cat /tmp/nvflare/jobs/cifar10_sag_pt_he/app/config/config_fed_client.conf"
   ]
  },
  {
   "cell_type": "code",
   "execution_count": null,
   "id": "88df4666-d943-4d57-947b-ce8091b99028",
   "metadata": {},
   "outputs": [],
   "source": [
    "! cat /tmp/nvflare/jobs/cifar10_sag_pt_he/app/config/config_fed_server.conf"
   ]
  },
  {
   "cell_type": "markdown",
   "id": "fe30f6f9-7f15-48d1-a14e-e766eb91659a",
   "metadata": {},
   "source": [
    "## Prepare Data"
   ]
  },
  {
   "cell_type": "markdown",
   "id": "8e8fe313-1a5b-4a49-8df2-b14ab4decfdb",
   "metadata": {},
   "source": [
    "Make sure the CIFAR10 dataset is downloaded with the following script:"
   ]
  },
  {
   "cell_type": "code",
   "execution_count": null,
   "id": "5ee08297-a449-4091-84ab-16aa60eec274",
   "metadata": {},
   "outputs": [],
   "source": [
    "! python ../data/download.py --dataset_path /tmp/nvflare/data/cifar10"
   ]
  },
  {
   "cell_type": "markdown",
   "id": "2a39d6d3-30e7-4ffa-9de9-fb62cd3e3248",
   "metadata": {},
   "source": [
    "## Run the Job using POC mode\n",
    "\n",
    "As the use of HE is intended for real-world deployment, we cannot directly use the FL simulator, but we can use the POC (proof-of-concept) mode for local deployment."
   ]
  },
  {
   "cell_type": "markdown",
   "id": "a7cc3efb-a74e-4810-a64c-eb887f673b65",
   "metadata": {},
   "source": [
    "To support HE, we need the provisioning process to generate and write the TenSEAL homomorphic encryption contexts for the server and client.\n",
    "Currently the simulator does not support HE for secure aggregation, however we can use the POC command `-he` option to prepare the HE supported POC workspace with the `HEBuilder`:"
   ]
  },
  {
   "cell_type": "code",
   "execution_count": null,
   "id": "67a64153-49a3-4a91-b3df-597eeabab9a0",
   "metadata": {},
   "outputs": [],
   "source": [
    "! nvflare poc prepare -he"
   ]
  },
  {
   "cell_type": "markdown",
   "id": "74d65e2f-b502-458a-add4-81ad1a38eda3",
   "metadata": {},
   "source": [
    "Start the FLARE system in POC mode in another terminal with ```nvflare poc start -ex admin@nvidia.com```\n",
    "\n",
    "Finally we can submit our HE configured job:"
   ]
  },
  {
   "cell_type": "code",
   "execution_count": null,
   "id": "8a7891af-845b-4360-aeee-93a17f9f25c1",
   "metadata": {},
   "outputs": [],
   "source": [
    "! nvflare job submit -j /tmp/nvflare/jobs/cifar10_sag_pt_he"
   ]
  },
  {
   "cell_type": "markdown",
   "id": "4458967f-6381-4b31-b7f9-a578ee134fca",
   "metadata": {},
   "source": [
    "Once you are finished with the example, you can shutdown and clean the POC system:"
   ]
  },
  {
   "cell_type": "code",
   "execution_count": null,
   "id": "c9e6ae07-4682-4e61-aa10-54b79d59034a",
   "metadata": {},
   "outputs": [],
   "source": [
    "! nvflare poc stop"
   ]
  },
  {
   "cell_type": "code",
   "execution_count": null,
   "id": "7575266e-501a-4e15-be6b-5aec4de93e80",
   "metadata": {},
   "outputs": [],
   "source": [
    "! nvflare poc clean"
   ]
  },
  {
   "cell_type": "markdown",
   "id": "67e09fb5-e98b-484c-8cdb-0b41bbcd02e4",
   "metadata": {},
   "source": [
    "As an additional resource, see the [CIFAR10 Real World Example](https://github.com/NVIDIA/NVFlare/tree/main/examples/advanced/cifar10/cifar10-real-world) for creating a secure workspace for HE using provisioning instead of POC mode."
   ]
  },
  {
   "cell_type": "markdown",
   "id": "81730b6c-454b-41a8-bbf8-9c7261212a53",
   "metadata": {},
   "source": [
    "Next, we will learn about secure Kaplan Meier survival analysis also utilizing [homomorphic encryption](05.3.2_kaplan_meier_survival_analysis_with_he.ipynb)."
   ]
  }
 ],
 "metadata": {
  "kernelspec": {
   "display_name": "Python 3 (ipykernel)",
   "language": "python",
   "name": "python3"
  },
  "language_info": {
   "codemirror_mode": {
    "name": "ipython",
    "version": 3
   },
   "file_extension": ".py",
   "mimetype": "text/x-python",
   "name": "python",
   "nbconvert_exporter": "python",
   "pygments_lexer": "ipython3",
   "version": "3.12.9"
  }
 },
 "nbformat": 4,
 "nbformat_minor": 5
}
