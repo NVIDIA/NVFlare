{
 "cells": [
  {
   "cell_type": "markdown",
   "id": "1398ef0a-f189-4d04-a8a9-276a17ab0f8b",
   "metadata": {},
   "source": [
    "# Federated Learning with Differential Privacy\n",
    "\n",
    "Please make sure you set up a virtual environment and follow [example root readme](../../README.md) before starting this notebook.\n",
    "Then, install the requirements.\n",
    "\n",
    "<div class=\"alert alert-block alert-info\"> <b>NOTE</b> Some of the cells below generate long text output.  We're using <pre>%%capture --no-display --no-stderr cell_output</pre> to suppress this output.  Comment or delete this line in the cells below to restore full output.</div>"
   ]
  },
  {
   "cell_type": "code",
   "execution_count": 2,
   "id": "5002e45c-f58e-4f68-bb5a-9626e084947f",
   "metadata": {},
   "outputs": [],
   "source": [
    "%%capture --no-display --no-stderr cell_output\n",
    "!pip install -r requirements.txt"
   ]
  },
  {
   "cell_type": "markdown",
   "id": "bddd90a1-fe96-4f24-b360-bbe73b24e34a",
   "metadata": {},
   "source": [
    "### Differential Privacy (DP)\n",
    "[Differential Privacy (DP)](https://arxiv.org/abs/1910.00962) [7] is a method for ensuring that Federated Learning (FL) preserves privacy by obfuscating the model updates sent from clients to the central server. \n",
    "This example shows the usage of a CIFAR-10 training code with NVFlare, as well as the usage of DP filters in your FL training. DP is added as a filter in `config_fed_client.json`. Here, we use the \"Sparse Vector Technique\", i.e. the [SVTPrivacy](https://nvflare.readthedocs.io/en/main/apidocs/nvflare.app_common.filters.svt_privacy.html) protocol, as utilized in [Li et al. 2019](https://arxiv.org/abs/1910.00962) [7] (see [Lyu et al. 2016](https://arxiv.org/abs/1603.01699) [8] for more information)."
   ]
  },
  {
   "cell_type": "markdown",
   "id": "9b0c692a-16dc-4ef9-a432-4b7375a2a7d6",
   "metadata": {},
   "source": [
    "## Run experiments with FL simulator\n",
    "### Training with FL simulator\n",
    "FL simulator is used to simulate FL experiments or debug codes, not for real FL deployment.\n",
    "\n",
    "First, train a model using the FedAvg algorithm with four clients without DP."
   ]
  },
  {
   "cell_type": "code",
   "execution_count": null,
   "id": "fce5fd7e-f911-4a04-81a6-312e43c832c3",
   "metadata": {},
   "outputs": [],
   "source": [
    "!nvflare simulator './configs/brats_fedavg' -w './workspace_brats/brats_fedavg' -n 4 -t 4"
   ]
  },
  {
   "cell_type": "markdown",
   "id": "c82a3be9-9e58-44ca-9d3f-e85456de7f12",
   "metadata": {},
   "source": [
    "Run the FL simulator with 4 clients for federated learning with differential privacy by running"
   ]
  },
  {
   "cell_type": "code",
   "execution_count": null,
   "id": "4f1f9065-129f-4e62-ac3d-a1504a3b30bf",
   "metadata": {},
   "outputs": [],
   "source": [
    "!nvflare simulator './configs/brats_fedavg_dp' -w './workspace_brats/brats_fedavg_dp' -n 4 -t 4"
   ]
  },
  {
   "cell_type": "markdown",
   "id": "7118e9a1-85fc-4e5a-8b29-fb5f50a4f941",
   "metadata": {},
   "source": [
    "### Testing with FL simulator\n",
    "The best global models are stored at\n",
    "```\n",
    "workspace_brats/[job]/simulated_job/app_server/best_FL_global_model.pt\n",
    "```\n",
    "\n",
    "Please then add the correct paths to the testing script, and run"
   ]
  },
  {
   "cell_type": "code",
   "execution_count": null,
   "id": "e926d179-4063-4f27-9815-b9e3f9569067",
   "metadata": {},
   "outputs": [],
   "source": [
    "!cd ./result_stat\n",
    "!bash testing_models_3d.sh"
   ]
  }
 ],
 "metadata": {
  "kernelspec": {
   "display_name": "Python 3 (ipykernel)",
   "language": "python",
   "name": "python3"
  },
  "language_info": {
   "codemirror_mode": {
    "name": "ipython",
    "version": 3
   },
   "file_extension": ".py",
   "mimetype": "text/x-python",
   "name": "python",
   "nbconvert_exporter": "python",
   "pygments_lexer": "ipython3",
   "version": "3.11.7"
  }
 },
 "nbformat": 4,
 "nbformat_minor": 5
}
