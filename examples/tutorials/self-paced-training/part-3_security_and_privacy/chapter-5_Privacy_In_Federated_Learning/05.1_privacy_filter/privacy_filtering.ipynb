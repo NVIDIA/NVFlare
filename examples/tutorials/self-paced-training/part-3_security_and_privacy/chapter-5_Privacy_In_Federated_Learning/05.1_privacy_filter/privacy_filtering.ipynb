{
 "cells": [
  {
   "cell_type": "markdown",
   "id": "1398ef0a-f189-4d04-a8a9-276a17ab0f8b",
   "metadata": {},
   "source": [
    "# Privacy Preservation using NVFlare's Filters\n",
    "\n",
    "[Filters](https://nvflare.readthedocs.io/en/main/programming_guide/filters.html) in NVIDIA FLARE are a type of FLComponent that has a process method to transform the Shareable object between the communicating parties. A Filter can be used to provide additional processing to shareable data before sending or after receiving from the peer.\n",
    "\n",
    "The `FLContext` is available for the `Filter` to use. Filters can be added to your NVFlare job using the [FedJob API](https://nvflare.readthedocs.io/en/main/programming_guide/fed_job_api.html#fedjob-api) you should be familiar with from previous chapters."
   ]
  },
  {
   "cell_type": "markdown",
   "id": "bddd90a1-fe96-4f24-b360-bbe73b24e34a",
   "metadata": {},
   "source": [
    "#### Filters\n",
    "In NVFlare, filters are used for the pre- and post-processing of a task's data.\n",
    "\n",
    "Before sending a task to the `Executor`, the `Controller` applies any available “task data filters” to the task data, ensuring only the filtered data is transmitted. Likewise, when receiving the task result from the `Executor`, “task result filters” are applied before passing it to the `Controller`. On the `Executor` side, similar filtering occurs—“task data filters” process incoming task data before execution, and “task result filters” refine the computed result before sending it back to the `Controller`.\n",
    "\n",
    "![NVFlare's Filter Concept](https://nvflare.readthedocs.io/en/main/_images/Filters.png)\n"
   ]
  },
  {
   "cell_type": "markdown",
   "id": "7d299352-28c6-4be6-9297-42a1c8184191",
   "metadata": {},
   "source": [
    "#### Examples of Filters\n",
    "Filters are the primary technique for data privacy protection.\n",
    "\n",
    "Filters can convert data formats and a lot more. You can apply any type of massaging to the data for the purpose of security. In fact, privacy and homomorphic encryption techniques are all implemented as filters:\n",
    "\n",
    "ExcludeVars to exclude variables from shareable (`nvflare.app_common.filters.exclude_vars`)\n",
    "\n",
    "PercentilePrivacy for truncation of weights by percentile (`nvflare.app_common.filters.percentile_privacy`)\n",
    "\n",
    "SVTPrivacy for differential privacy through sparse vector techniques (`nvflare.app_common.filters.svt_privacy`)\n",
    "\n",
    "Homomorphic encryption filters to encrypt data before sharing (`nvflare.app_common.homomorphic_encryption.he_model_encryptor` and `nvflare.app_common.homomorphic_encryption.he_model_decryptor`)"
   ]
  },
  {
   "cell_type": "markdown",
   "id": "9b0c692a-16dc-4ef9-a432-4b7375a2a7d6",
   "metadata": {},
   "source": [
    "#### Adding a Filter with the JobAPI\n",
    "You can add `Filters` to an NVFlare job using the `job.to()` method by specifying which tasks the filter applies to and when to apply it, **before** or **after** the task.\n",
    "\n",
    "The behavior can be selected by using the [FilterType](https://nvflare.readthedocs.io/en/main/apidocs/nvflare.job_config.defs.html#nvflare.job_config.defs.FilterType). Users must specify the filter type as either `FilterType.TASK_RESULT` (flow from executor to controller) or `FilterType.TASK_DATA` (flow from controller to executor).\n",
    "\n",
    "The filter will be added \"task_data_filters\" and task_result_filters accordingly and be applied to the specified tasks (defaults to “[*]” for all tasks).\n",
    "\n",
    "For example, you can add a privacy filter as such.\n",
    "```python\n",
    "pp_filter = PercentilePrivacy(percentile=10, gamma=0.01)\n",
    "job.to(pp_filter, \"site-1\", tasks=[\"train\"], filter_type=FilterType.TASK_RESULT)\n",
    "```"
   ]
  },
  {
   "cell_type": "markdown",
   "id": "11e4f07a-2f0c-4de6-83f6-15c13f693b0a",
   "metadata": {},
   "source": [
    "#### Enforcing of Filters\n",
    "Data owners can enforce filters to be applied to any job they execute. Enforcing filters on all executed jobs ensures that data owners maintain control over privacy and compliance. This can be useful for several reasons:  \n",
    "\n",
    "- **Consistent Privacy Protection:** Ensures that every model update follows predefined privacy policies, reducing the risk of accidental data leakage.  \n",
    "- **Regulatory Compliance:** Helps meet legal and ethical standards (e.g., HIPAA, GDPR) by enforcing data anonymization or masking sensitive information.  \n",
    "- **Defense Against Emerging Threats:** Provides a safeguard against evolving attack techniques, such as model inversion, membership inference, or detection of malicious model weights.  \n",
    "- **Customization for Sensitive Data:** Allows data owners to tailor privacy mechanisms to their specific data types, ensuring that only necessary information is shared.  \n",
    "- **Trust and Collaboration:** Encourages participation in Federated Learning by reassuring institutions that their data remains secure throughout the process.  \n",
    "\n",
    "By enforcing privacy filters in NVFlare, data owners can ensure a reliable and secure FL environment without relying solely on external safeguards. For more details, see the [documentation](https://nvflare.readthedocs.io/en/main/user_guide/security/site_policy_management.html#privacy-management)."
   ]
  },
  {
   "cell_type": "markdown",
   "id": "351e067f-495a-45d9-bcfd-d8031584cffb",
   "metadata": {},
   "source": [
    "#### Writing Your Own Filter\n",
    "For writing your own filter, you can utilize the [DXOFilter](https://nvflare.readthedocs.io/en/main/apidocs/nvflare.apis.dxo_filter.html#nvflare.apis.dxo_filter.DXOFilter) base class. For details see the [documentation](https://nvflare.readthedocs.io/en/main/programming_guide/filters.html). "
   ]
  },
  {
   "cell_type": "markdown",
   "id": "31b1fdca-d7b6-496f-a298-06c6871f084c",
   "metadata": {},
   "source": [
    "Next, we'll learn how to use `Filters` and other technqiues to introduce [Differential Privacy (DP)](../05.2_differential_privacy/privacy_with_differential_privacy.ipynb) into your model training with NVFlare."
   ]
  }
 ],
 "metadata": {
  "kernelspec": {
   "display_name": "Python 3 (ipykernel)",
   "language": "python",
   "name": "python3"
  },
  "language_info": {
   "codemirror_mode": {
    "name": "ipython",
    "version": 3
   },
   "file_extension": ".py",
   "mimetype": "text/x-python",
   "name": "python",
   "nbconvert_exporter": "python",
   "pygments_lexer": "ipython3",
   "version": "3.12.9"
  }
 },
 "nbformat": 4,
 "nbformat_minor": 5
}
