{
 "cells": [
  {
   "cell_type": "markdown",
   "id": "1398ef0a-f189-4d04-a8a9-276a17ab0f8b",
   "metadata": {},
   "source": [
    "# Privacy Preservation using NVFlare's Filters\n",
    "\n",
    "[Filters](https://nvflare.readthedocs.io/en/main/programming_guide/filters.html) in NVIDIA FLARE are a type of FLComponent that has a process method to transform the Shareable object between the communicating parties. A Filter can be used to provide additional processing to shareable data before sending or after receiving from the peer.\n",
    "\n",
    "The `FLContext` is available for the `Filter` to use. Filters can be added to your NVFlare job using the [FedJob API](https://nvflare.readthedocs.io/en/main/programming_guide/fed_job_api.html#fedjob-api) you should be familiar with from previous chapters."
   ]
  },
  {
   "cell_type": "markdown",
   "id": "bddd90a1-fe96-4f24-b360-bbe73b24e34a",
   "metadata": {},
   "source": [
    "#### Filters\n",
    "In NVFlare, filters are used for the pre- and post-processing of a task's data.\n",
    "\n",
    "Before sending a task to the `Executor`, the `Controller` applies any available “task data filters” to the task data, ensuring only the filtered data is transmitted. Likewise, when receiving the task result from the `Executor`, “task result filters” are applied before passing it to the `Controller`. On the `Executor` side, similar filtering occurs—“task data filters” process incoming task data before execution, and “task result filters” refine the computed result before sending it back to the `Controller`.\n",
    "\n",
    "![NVFlare's Filter Concept](https://nvflare.readthedocs.io/en/main/_images/Filters.png)\n"
   ]
  },
  {
   "cell_type": "markdown",
   "id": "7d299352-28c6-4be6-9297-42a1c8184191",
   "metadata": {},
   "source": [
    "#### Examples of Filters\n",
    "Filters are the primary technique for data privacy protection.\n",
    "\n",
    "Filters can convert data formats and a lot more. You can apply any type of massaging to the data for the purpose of security. In fact, privacy and homomorphic encryption techniques are all implemented as filters:\n",
    "\n",
    "ExcludeVars to exclude variables from shareable (`nvflare.app_common.filters.exclude_vars`)\n",
    "\n",
    "PercentilePrivacy for truncation of weights by percentile (`nvflare.app_common.filters.percentile_privacy`)\n",
    "\n",
    "SVTPrivacy for differential privacy through sparse vector techniques (`nvflare.app_common.filters.svt_privacy`)\n",
    "\n",
    "Homomorphic encryption filters to encrypt data before sharing (`nvflare.app_common.homomorphic_encryption.he_model_encryptor` and `nvflare.app_common.homomorphic_encryption.he_model_decryptor`)"
   ]
  },
  {
   "cell_type": "markdown",
   "id": "9b0c692a-16dc-4ef9-a432-4b7375a2a7d6",
   "metadata": {},
   "source": [
    "#### Adding a Filter with the JobAPI\n",
    "You can add `Filters` to an NVFlare job using the `job.to()` method by specifying which tasks the filter applies to and when to apply it, **before** or **after** the task.\n",
    "\n",
    "The behavior can be selected by using the [FilterType](https://nvflare.readthedocs.io/en/main/apidocs/nvflare.job_config.defs.html#nvflare.job_config.defs.FilterType). Users must specify the filter type as either `FilterType.TASK_RESULT` (flow from executor to controller) or `FilterType.TASK_DATA` (flow from controller to executor).\n",
    "\n",
    "The filter will be added \"task_data_filters\" and task_result_filters accordingly and be applied to the specified tasks (defaults to “[*]” for all tasks).\n",
    "\n",
    "For example, you can add a privacy filter as such.\n",
    "```python\n",
    "pp_filter = PercentilePrivacy(percentile=10, gamma=0.01)\n",
    "job.to(pp_filter, \"site-1\", tasks=[\"train\"], filter_type=FilterType.TASK_RESULT)\n",
    "```"
   ]
  },
  {
   "cell_type": "markdown",
   "id": "11e4f07a-2f0c-4de6-83f6-15c13f693b0a",
   "metadata": {},
   "source": [
    "#### Enforcing of Filters\n",
    "Data owners can enforce filters to be applied to any job they execute. Enforcing filters on all executed jobs ensures that data owners maintain control over privacy and compliance. This can be useful for several reasons:  \n",
    "\n",
    "- **Consistent Privacy Protection:** Ensures that every model update follows predefined privacy policies, reducing the risk of accidental data leakage.  \n",
    "- **Regulatory Compliance:** Helps meet legal and ethical standards (e.g., HIPAA, GDPR) by enforcing data anonymization or masking sensitive information.  \n",
    "- **Defense Against Emerging Threats:** Provides a safeguard against evolving attack techniques, such as model inversion, membership inference, or detection of malicious model weights.  \n",
    "- **Customization for Sensitive Data:** Allows data owners to tailor privacy mechanisms to their specific data types, ensuring that only necessary information is shared.  \n",
    "- **Trust and Collaboration:** Encourages participation in Federated Learning by reassuring institutions that their data remains secure throughout the process.  \n",
    "\n",
    "By enforcing privacy filters in NVFlare, data owners can ensure a reliable and secure FL environment without relying solely on external safeguards. For more details, see the [documentation](https://nvflare.readthedocs.io/en/main/user_guide/security/site_policy_management.html#privacy-management)."
   ]
  },
  {
   "cell_type": "markdown",
   "id": "351e067f-495a-45d9-bcfd-d8031584cffb",
   "metadata": {},
   "source": [
    "#### Writing Your Own Filter\n",
    "For writing your own filter, you can utilize the [DXOFilter](https://nvflare.readthedocs.io/en/main/apidocs/nvflare.apis.dxo_filter.html#nvflare.apis.dxo_filter.DXOFilter) base class. For details see the [documentation](https://nvflare.readthedocs.io/en/main/programming_guide/filters.html). "
   ]
  },
  {
   "cell_type": "markdown",
   "id": "5d75e9de-0a5c-4a48-b4f4-86186c7fc5a5",
   "metadata": {},
   "source": [
    "First, we define a simple `Filter`, that prints the message content without modifying it. All that's needed it to write a `process_dxo()` method. In this case, the filter can process both `WEIGHTS` and `WEIGHT_DIFF`, specifying the type of data kind the filter should be applied to."
   ]
  },
  {
   "cell_type": "markdown",
   "id": "50ac9b66-f263-468b-aad8-40695ddb9489",
   "metadata": {},
   "source": [
    "```\n",
    "from nvflare.apis.dxo import DXO, DataKind\n",
    "from nvflare.apis.dxo_filter import DXOFilter\n",
    "from nvflare.apis.fl_context import FLContext\n",
    "from nvflare.apis.shareable import Shareable\n",
    "\n",
    "\n",
    "class DummyFilter(DXOFilter):\n",
    "    def __init__(self):\n",
    "        data_kinds = [DataKind.WEIGHTS, DataKind.WEIGHT_DIFF]\n",
    "        super().__init__(supported_data_kinds=data_kinds, data_kinds_to_filter=data_kinds)\n",
    "\n",
    "    def process_dxo(self, dxo: DXO, shareable: Shareable, fl_ctx: FLContext):\n",
    "        self.log_info(fl_ctx, f\"Filtering DXO: {dxo}\")\n",
    "\n",
    "        return dxo\n",
    "```\n",
    "To package this code as part of the NVFlare job, we include this class as a custom file [dummy_filter.py](src/dummy_filter.py)."
   ]
  },
  {
   "cell_type": "markdown",
   "id": "5513683e-0d75-40cf-b5bb-46c1b9383b8f",
   "metadata": {},
   "source": [
    "Now, you can test this filter, using a simple NVFlare Job script. For this, we use a numpy controller and executors."
   ]
  },
  {
   "cell_type": "code",
   "execution_count": null,
   "id": "4e322f3b-9fcc-4290-9233-06a4e33a0fba",
   "metadata": {},
   "outputs": [],
   "source": [
    "from nvflare.app_common.workflows.fedavg import FedAvg\n",
    "from nvflare.app_opt.pt.job_config.base_fed_job import BaseFedJob\n",
    "from nvflare.job_config.script_runner import ScriptRunner\n",
    "from nvflare import FilterType\n",
    "\n",
    "job = BaseFedJob(\n",
    "    name=\"dummy_filter\",\n",
    ")"
   ]
  },
  {
   "cell_type": "markdown",
   "id": "f051a24d-2e6d-48f3-b7c2-f75b9f3f777e",
   "metadata": {},
   "source": [
    "We can now add a filter to each client that is applied before the message is sent back to the server\n",
    "using the `job.to()` method.\n",
    "\n",
    "> **Note:** Use `filter_type=FilterType.TASK_RESULT` as we add the filter on top of the model after the `Executor` (in this case `ScriptRunner`) has completed the task."
   ]
  },
  {
   "cell_type": "code",
   "execution_count": null,
   "id": "90bc3cc6-d1df-4f1b-8830-0c36308ff763",
   "metadata": {},
   "outputs": [],
   "source": [
    "n_clients = 1\n",
    "\n",
    "controller = FedAvg(\n",
    "    num_clients=n_clients,\n",
    "    num_rounds=1,\n",
    ")\n",
    "job.to(controller, \"server\")\n",
    "\n",
    "from src.dummy_filter import DummyFilter\n",
    "\n",
    "for i in range(n_clients):\n",
    "    runner = ScriptRunner(script=\"src/dummy_script.py\")\n",
    "    job.to(runner, f\"site-{i+1}\")\n",
    "\n",
    "    # add dummy filter.\n",
    "    job.to(DummyFilter(), f\"site-{i+1}\", tasks=[\"train\"], filter_type=FilterType.TASK_RESULT)\n",
    "    "
   ]
  },
  {
   "cell_type": "markdown",
   "id": "7c55f9f7-589d-4bd0-b177-7d16b756c610",
   "metadata": {},
   "source": [
    "Now, we can simply run the job with the simulator."
   ]
  },
  {
   "cell_type": "code",
   "execution_count": null,
   "id": "51786f22-d276-45a9-8412-1e37a4623cff",
   "metadata": {},
   "outputs": [],
   "source": [
    "job.simulator_run(\"/tmp/nvflare/dummy_output\")"
   ]
  },
  {
   "cell_type": "markdown",
   "id": "31b1fdca-d7b6-496f-a298-06c6871f084c",
   "metadata": {},
   "source": [
    "Next, we'll learn how to use `Filters` and other technqiues to introduce [Differential Privacy (DP)](../05.2_differential_privacy/privacy_with_differential_privacy.ipynb) into your model training with NVFlare."
   ]
  }
 ],
 "metadata": {
  "kernelspec": {
   "display_name": "Python 3 (ipykernel)",
   "language": "python",
   "name": "python3"
  },
  "language_info": {
   "codemirror_mode": {
    "name": "ipython",
    "version": 3
   },
   "file_extension": ".py",
   "mimetype": "text/x-python",
   "name": "python",
   "nbconvert_exporter": "python",
   "pygments_lexer": "ipython3",
   "version": "3.12.9"
  }
 },
 "nbformat": 4,
 "nbformat_minor": 5
}
