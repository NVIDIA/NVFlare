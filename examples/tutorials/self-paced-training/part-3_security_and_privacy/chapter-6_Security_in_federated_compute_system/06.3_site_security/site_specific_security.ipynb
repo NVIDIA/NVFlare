{
 "cells": [
  {
   "cell_type": "markdown",
   "id": "0e725a2d-af59-43ae-8ef8-aeabe5581d4b",
   "metadata": {},
   "source": [
    "# Site-specific Authentication and Federated Job-level Authorization\n",
    "\n",
    "Site-specific authentication and authorization allows users to inject their own authentication and authorization methods into the NVFlare system. This includes the FL server / clients registration, authentication, and the job deployment and run authorization.\n",
    "\n",
    "NVFlare provides a general purpose event based pluggable authentication and authorization framework to allow for expanding functionality such as:\n",
    "\n",
    "* exposing the app through a WAF (Web Application Firewall) or any other network element enforcing Mutual Transport Layer Security(mTLS)\n",
    "\n",
    "* using a confidential certification authority to ensure the identity of each participating site and to ensure that they meet the computing requirements for confidential computing\n",
    "\n",
    "* defining additional roles to manage who can submit which kind of jobs to execute within NVFlare, identify who submits jobs and which dataset can be accessed\n",
    "\n",
    "Users can write their own FLComponents, listening to the NVFlare system events at different points of their workflow, then easily plug in their authentication and authorization logic as needed.\n",
    "\n",
    "### Assumptions and Risks\n",
    "By enabling the customized site-specific authentication and authorization, NVFlare will make several security related data available to the external FL components, e.g. IDENTITY_NAME, PUBLIC_KEY, CERTIFICATE, etc. In order to protect them from being compromised, that data needs to be made read-only.\n",
    "\n",
    "Because of the external pluginable authentication and authorization processes, the results of the processes could potentially cause the jobs to not be able to be deployed or run. When configuring and using these functions, the users need to be aware of the impact and know where to plug in the authentication and authorization check.\n",
    "\n",
    "### Event based pluginable authentication and authorization\n",
    "The NVFlare event based solution supports site-specific authentication and federated job-level authorization. Users can provide and implement any sort of additional security checks by building and plugging in FLcomponents which listen to the appropriate events and provide custom authentication and authorization functions.\n",
    "\n",
    "\n",
    "To use the site-specific security functions, write a custom Security implementation in the local/custom/security_handler.py, then configure it as a component in the site resources.json.\n",
    "\n",
    "```\n",
    "from typing import Tuple\n",
    "\n",
    "from nvflare.apis.event_type import EventType\n",
    "from nvflare.apis.fl_component import FLComponent\n",
    "from nvflare.apis.fl_constant import FLContextKey\n",
    "from nvflare.apis.fl_context import FLContext\n",
    "from nvflare.apis.job_def import JobMetaKey\n",
    "\n",
    "\n",
    "class CustomSecurityHandler(FLComponent):\n",
    "\n",
    "    def handle_event(self, event_type: str, fl_ctx: FLContext):\n",
    "        if event_type == EventType.AUTHORIZE_COMMAND_CHECK:\n",
    "            result, reason = self.authorize(fl_ctx=fl_ctx)\n",
    "            if not result:\n",
    "                fl_ctx.set_prop(FLContextKey.AUTHORIZATION_RESULT, False, sticky=False)\n",
    "                fl_ctx.set_prop(FLContextKey.AUTHORIZATION_REASON, reason, sticky=False)\n",
    "\n",
    "    def authorize(self, fl_ctx: FLContext) -> Tuple[bool, str]:\n",
    "        command = fl_ctx.get_prop(FLContextKey.COMMAND_NAME)\n",
    "        if command in [\"check_resources\"]:\n",
    "            security_items = fl_ctx.get_prop(FLContextKey.SECURITY_ITEMS)\n",
    "            job_meta = security_items.get(FLContextKey.JOB_META)\n",
    "            if job_meta.get(JobMetaKey.JOB_NAME) == \"FL Demo Job1\":\n",
    "                return False, f\"Not authorized to execute: {command}\"\n",
    "            else:\n",
    "                return True, \"\"\n",
    "        else:\n",
    "            return True, \"\"\n",
    "\n",
    "```"
   ]
  },
  {
   "cell_type": "markdown",
   "id": "928772df",
   "metadata": {},
   "source": [
    "# Site-specific Authentication & Authorization\n",
    "\n",
    "Lets look these mechanism via examples"
   ]
  },
  {
   "cell_type": "markdown",
   "id": "c1f37174",
   "metadata": {},
   "source": [
    "## Server Side Customized Authenticaton\n",
    "\n",
    "In this example, we will see how do we designed a custom plugin with additional authentication check, \n",
    "As result for two sites in POC, site-2 is NOT able to start and register to the server. It's blocked by the ServerCustomSecurityHandler logic during the client registration.\n",
    "\n",
    "### Define a server side security handler\n",
    "\n",
    "Notice the we the customized the handler raise NotAuthenticated(\"site_2 not allowed to register\")"
   ]
  },
  {
   "cell_type": "code",
   "execution_count": null,
   "id": "235ed0fa",
   "metadata": {},
   "outputs": [],
   "source": [
    "!cat examples/custom_server_side_authentication/security/server/custom/security_handler.py"
   ]
  },
  {
   "cell_type": "markdown",
   "id": "58c8f45a",
   "metadata": {},
   "source": [
    "To register this plugin handler, we need to add this component to the server site's local configuration\n",
    "\n",
    "by adding it to the components array \n",
    "\n",
    "```\n",
    "    components: [\n",
    "    ...\n",
    "            {\n",
    "                \"id\": \"security_handler\",\n",
    "                \"path\": \"security_handler.ServerCustomSecurityHandler\"\n",
    "            }\n",
    "    ]  \n",
    "```  \n",
    "\n",
    "In this example, we have made a edit resources.json file and will copy both \"custom\" folder and \"resources.json\" to the local directory\n",
    "\n"
   ]
  },
  {
   "cell_type": "code",
   "execution_count": null,
   "id": "4c63cb5a",
   "metadata": {},
   "outputs": [],
   "source": [
    "! echo y | nvflare poc prepare\n",
    "\n",
    "!cp -r examples/custom_server_side_authentication/security/server/* /tmp/nvflare/poc/example_project/prod_00/server/local/.\n",
    "\n"
   ]
  },
  {
   "cell_type": "markdown",
   "id": "eb6e964e",
   "metadata": {},
   "source": [
    "Now, go to a terminal and try to start FL system with \n",
    "\n",
    "```\n",
    "\n",
    "nvflare poc start -ex admin@nvidia.com\n",
    "```\n",
    "\n",
    "See what happens"
   ]
  },
  {
   "cell_type": "markdown",
   "id": "f33e482c",
   "metadata": {},
   "source": [
    "You should see something like this: \n",
    "\n",
    "\n",
    "```\n",
    "2025-02-02 16:35:40,059 - Communicator - INFO - Trying to register with server ...\n",
    "2025-02-02 16:35:40,060 - ServerCustomSecurityHandler - ERROR - [identity=server, run=?, peer=site-2, peer_run=?] - Exception when handling event \"_client_register_received\": NotAuthenticated: site-2 not allowed to register\n",
    "\n",
    "\n",
    "```"
   ]
  },
  {
   "cell_type": "code",
   "execution_count": null,
   "id": "84ab1ecd",
   "metadata": {},
   "outputs": [],
   "source": [
    "# Clean up\n",
    "\n",
    "! nvflare poc clean"
   ]
  },
  {
   "cell_type": "markdown",
   "id": "e0053b6f",
   "metadata": {},
   "source": [
    "## Client Side: Customized Job-level Auhtorization\n",
    "\n",
    "Next, let's take look authorization on the client side\n",
    "\n",
    "**Setup**\n",
    "\n",
    "* `server`: NVFlare server\n",
    "* `site-1`: Site-1 has a CustomSecurityHandler set up which does not allow the job \"secret-job\" to run. All other jobs will be able to deploy and run on site-1.\n",
    "* `site-2`: Site-2 allows any job to be deployed and run.\n",
    "\n",
    "**Expectation**\n",
    "* \"secret-job\" will be deployed and run on site-2 but not on site-1\n",
    "\n",
    "\n",
    "What we will do: \n",
    "\n",
    "* install dependencies\n",
    "* download data\n",
    "* generate two job configs. We can use fl_jobs.py\n"
   ]
  },
  {
   "cell_type": "code",
   "execution_count": null,
   "id": "2a9cd2a1",
   "metadata": {},
   "outputs": [],
   "source": [
    "# install dependencies\n",
    "\n",
    "! pip install -r examples/custom_client_side_job_level_authorization/code/requirements.txt\n",
    "\n",
    "# download data\n",
    "\n",
    "! python examples/custom_client_side_job_level_authorization/code/data/download.py"
   ]
  },
  {
   "cell_type": "code",
   "execution_count": null,
   "id": "c49a6ea6",
   "metadata": {},
   "outputs": [],
   "source": [
    "%cd examples/custom_client_side_job_level_authorization/code\n",
    "\n",
    "! python fl_jobs.py\n",
    "\n",
    "# change back\n",
    "%cd - \n"
   ]
  },
  {
   "cell_type": "code",
   "execution_count": null,
   "id": "e78eda0f",
   "metadata": {},
   "outputs": [],
   "source": [
    "!cat   /tmp/nvflare/jobs/workdir/fedavg/app_site-1/config/config_fed_client.json "
   ]
  },
  {
   "cell_type": "markdown",
   "id": "b06fce58",
   "metadata": {},
   "source": [
    "Next we \n",
    "* create a POC workspace and\n",
    "* then install the customized securitry handler to site-1,\n",
    "* edit site-1/local/resources.json to add security handler component \n",
    "> note: \n",
    "  to simplify, we just copy the pre-edit resources.json to that location\n",
    "\n",
    "\n"
   ]
  },
  {
   "cell_type": "code",
   "execution_count": null,
   "id": "15ec4aee",
   "metadata": {},
   "outputs": [],
   "source": [
    "# prepare poc\n",
    "! echo y | nvflare poc prepare\n"
   ]
  },
  {
   "cell_type": "code",
   "execution_count": 45,
   "id": "c1856aff",
   "metadata": {},
   "outputs": [],
   "source": [
    "# cp security handler and component config\n",
    "!cp -r examples/custom_client_side_job_level_authorization/security/site-1/* /tmp/nvflare/poc/example_project/prod_00/site-1/local/.\n"
   ]
  },
  {
   "cell_type": "markdown",
   "id": "b1699805",
   "metadata": {},
   "source": [
    "Now we are ready to run the job. \n",
    "\n",
    "\n",
    "* start poc\n",
    "\n",
    "    Use a terminal ( note notebook cell) start the poc with the following command\n",
    "\n",
    "    ```\n",
    "    nvflare poc start -ex admin@nvidia.com \n",
    "\n",
    "    ```\n",
    "\n",
    "    this bring up the FL system \n",
    "\n"
   ]
  },
  {
   "cell_type": "code",
   "execution_count": null,
   "id": "79e8d608",
   "metadata": {},
   "outputs": [],
   "source": [
    "#  Submit jobs\n",
    "#  Assuming at this point FL system is already running via poc start command\n",
    "\n",
    "!  nvflare job submit -j /tmp/nvflare/jobs/workdir/fedavg\n",
    "\n",
    "# The job should finish as expected"
   ]
  },
  {
   "cell_type": "code",
   "execution_count": null,
   "id": "e1872ca6",
   "metadata": {},
   "outputs": [],
   "source": [
    "#  Submit jobs\n",
    "#  Assuming at this point FL system is already running via poc start command\n",
    "\n",
    "!  nvflare job submit -j /tmp/nvflare/jobs/workdir/secret-job"
   ]
  },
  {
   "cell_type": "markdown",
   "id": "97480fa8",
   "metadata": {},
   "source": [
    "you should get something like\n",
    "\n",
    "```\n",
    "2025-02-02 20:31:03,494 - site_security - ERROR - Authorization failed. Reason: Not authorized to execute: check_resources\n",
    "2025-02-02 20:31:03,496 - ServerEngine - ERROR - Client reply error: Not authorized to execute: check_resources\n",
    "\n",
    "```\n",
    "\n",
    "* Cleanup "
   ]
  },
  {
   "cell_type": "code",
   "execution_count": null,
   "id": "9b0a4532",
   "metadata": {},
   "outputs": [],
   "source": [
    "\n",
    "! nvflare poc stop"
   ]
  },
  {
   "cell_type": "code",
   "execution_count": null,
   "id": "878b737d",
   "metadata": {},
   "outputs": [],
   "source": []
  },
  {
   "cell_type": "code",
   "execution_count": null,
   "id": "8cf83674",
   "metadata": {},
   "outputs": [],
   "source": [
    "! nvflare poc clean"
   ]
  },
  {
   "cell_type": "markdown",
   "id": "c8393461",
   "metadata": {},
   "source": [
    "## Client Side: Integration with authentication system\n",
    "\n",
    "#### Overview\n",
    "\n",
    "In Federated Computing systems, many participating institutions already have their own in-house authentication systems. Instead of introducing a new authentication mechanism, we need to integrate with them. Note that this integration can be site-specific; in other words, each site may be different. Site-1 can be using OLAP, site-2 can use OAuth, and a third site can use something else.\n",
    "\n",
    "In this example, we demonstrate NVIDIA FLARE's event-based plugin-component that can be used to integrate any type of authentication/authorization mechanism, using open-source KeyCloak integration as an example.\n",
    "\n",
    "### Setup KeyCloak\n",
    "<!-- \n",
    "Download and install the KeyCloak following the instruction guide from https://www.keycloak.org/getting-started/getting-started-zip. Key steps for the installation:\n",
    "\n",
    "<!-- markdown-link-check-disable -->\n",
    "\n",
    "* Start the KeyCLoak by running \"bin/kc.sh start-dev\"\n",
    "* Set up the realm called \"myrealm\"\n",
    "* Setup the user \"myuser@example.com\"\n",
    "* Add the client \"myclient\"\n",
    "* The KeyCLoak will be running at http://localhost:8080/\n",
    "\n",
    " -->\n",
    "\n",
    "> pre-requisits\n",
    "* need to install JDK first\n",
    "* skip this step if you already have JDK installed \n",
    "\n",
    "#### JDK Installatioon \n",
    "\n",
    "``` \n",
    "sudo apt install -y openjdk-21-jdk\n",
    "\n",
    "java -version\n",
    "javac -version\n",
    "\n",
    "```\n",
    "\n"
   ]
  },
  {
   "cell_type": "code",
   "execution_count": 10,
   "id": "8dbd0c77",
   "metadata": {},
   "outputs": [],
   "source": [
    "VERSION = \"26.1.0\"\n",
    "INSTALL_DIR = \"/tmp/keycloak\"\n",
    "DOWNLOAD_URL = f\"https://github.com/keycloak/keycloak/releases/download/{VERSION}/keycloak-{VERSION}.zip\"\n",
    "ZIP_PATH = f\"/tmp/keycloak-{VERSION}.zip\""
   ]
  },
  {
   "cell_type": "code",
   "execution_count": null,
   "id": "bc6ccaa0",
   "metadata": {},
   "outputs": [],
   "source": [
    "# Download Keycloak\n",
    "\n",
    "!curl -Lo {ZIP_PATH} {DOWNLOAD_URL}\n",
    "! ls -al /tmp/keycloak-*\n"
   ]
  },
  {
   "cell_type": "code",
   "execution_count": null,
   "id": "fd65e072",
   "metadata": {},
   "outputs": [],
   "source": [
    "! echo A | unzip {ZIP_PATH} -d /tmp"
   ]
  },
  {
   "cell_type": "code",
   "execution_count": 13,
   "id": "23187fd4",
   "metadata": {},
   "outputs": [],
   "source": [
    "! mv /tmp/keycloak-{VERSION} {INSTALL_DIR}"
   ]
  },
  {
   "cell_type": "code",
   "execution_count": null,
   "id": "60a09dca",
   "metadata": {},
   "outputs": [],
   "source": [
    "# setup admin user\n",
    "\n",
    "!cd {INSTALL_DIR} && ./bin/kc.sh create-admin --user admin --password admin123\n"
   ]
  },
  {
   "cell_type": "code",
   "execution_count": null,
   "id": "7d0da496",
   "metadata": {},
   "outputs": [],
   "source": []
  }
 ],
 "metadata": {
  "kernelspec": {
   "display_name": "nvflare_env",
   "language": "python",
   "name": "python3"
  },
  "language_info": {
   "codemirror_mode": {
    "name": "ipython",
    "version": 3
   },
   "file_extension": ".py",
   "mimetype": "text/x-python",
   "name": "python",
   "nbconvert_exporter": "python",
   "pygments_lexer": "ipython3",
   "version": "3.10.12"
  }
 },
 "nbformat": 4,
 "nbformat_minor": 5
}
