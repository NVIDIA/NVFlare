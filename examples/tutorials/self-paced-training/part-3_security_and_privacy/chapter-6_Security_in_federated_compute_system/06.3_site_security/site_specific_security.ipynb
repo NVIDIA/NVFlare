{
 "cells": [
  {
   "cell_type": "markdown",
   "id": "0e725a2d-af59-43ae-8ef8-aeabe5581d4b",
   "metadata": {},
   "source": [
    "# Site-specific Authentication and Federated Job-level Authorization\n",
    "\n",
    "Site-specific authentication and authorization allows users to inject their own authentication and authorization methods into the NVFlare system. This includes the FL server / clients registration, authentication, and the job deployment and run authorization.\n",
    "\n",
    "NVFlare provides a general purpose event based pluggable authentication and authorization framework to allow for expanding functionality such as:\n",
    "\n",
    "* exposing the app through a WAF (Web Application Firewall) or any other network element enforcing Mutual Transport Layer Security(mTLS)\n",
    "\n",
    "* using a confidential certification authority to ensure the identity of each participating site and to ensure that they meet the computing requirements for confidential computing\n",
    "\n",
    "* defining additional roles to manage who can submit which kind of jobs to execute within NVFlare, identify who submits jobs and which dataset can be accessed\n",
    "\n",
    "Users can write their own FLComponents, listening to the NVFlare system events at different points of their workflow, then easily plug in their authentication and authorization logic as needed.\n",
    "\n",
    "### Assumptions and Risks\n",
    "By enabling the customized site-specific authentication and authorization, NVFlare will make several security related data available to the external FL components, e.g. IDENTITY_NAME, PUBLIC_KEY, CERTIFICATE, etc. In order to protect them from being compromised, that data needs to be made read-only.\n",
    "\n",
    "Because of the external pluginable authentication and authorization processes, the results of the processes could potentially cause the jobs to not be able to be deployed or run. When configuring and using these functions, the users need to be aware of the impact and know where to plug in the authentication and authorization check.\n",
    "\n",
    "### Event based pluginable authentication and authorization\n",
    "The NVFlare event based solution supports site-specific authentication and federated job-level authorization. Users can provide and implement any sort of additional security checks by building and plugging in FLcomponents which listen to the appropriate events and provide custom authentication and authorization functions.\n",
    "\n",
    "\n",
    "To use the site-specific security functions, write a custom Security implementation in the local/custom/security_handler.py, then configure it as a component in the site resources.json.\n",
    "\n",
    "```\n",
    "from typing import Tuple\n",
    "\n",
    "from nvflare.apis.event_type import EventType\n",
    "from nvflare.apis.fl_component import FLComponent\n",
    "from nvflare.apis.fl_constant import FLContextKey\n",
    "from nvflare.apis.fl_context import FLContext\n",
    "from nvflare.apis.job_def import JobMetaKey\n",
    "\n",
    "\n",
    "class CustomSecurityHandler(FLComponent):\n",
    "\n",
    "    def handle_event(self, event_type: str, fl_ctx: FLContext):\n",
    "        if event_type == EventType.AUTHORIZE_COMMAND_CHECK:\n",
    "            result, reason = self.authorize(fl_ctx=fl_ctx)\n",
    "            if not result:\n",
    "                fl_ctx.set_prop(FLContextKey.AUTHORIZATION_RESULT, False, sticky=False)\n",
    "                fl_ctx.set_prop(FLContextKey.AUTHORIZATION_REASON, reason, sticky=False)\n",
    "\n",
    "    def authorize(self, fl_ctx: FLContext) -> Tuple[bool, str]:\n",
    "        command = fl_ctx.get_prop(FLContextKey.COMMAND_NAME)\n",
    "        if command in [\"check_resources\"]:\n",
    "            security_items = fl_ctx.get_prop(FLContextKey.SECURITY_ITEMS)\n",
    "            job_meta = security_items.get(FLContextKey.JOB_META)\n",
    "            if job_meta.get(JobMetaKey.JOB_NAME) == \"FL Demo Job1\":\n",
    "                return False, f\"Not authorized to execute: {command}\"\n",
    "            else:\n",
    "                return True, \"\"\n",
    "        else:\n",
    "            return True, \"\"\n",
    "\n",
    "```"
   ]
  },
  {
   "cell_type": "markdown",
   "id": "928772df",
   "metadata": {},
   "source": [
    "# Site-specific Authentication & Authorization\n",
    "\n",
    "Lets look these mechanism via examples"
   ]
  },
  {
   "cell_type": "markdown",
   "id": "c1f37174",
   "metadata": {},
   "source": [
    "## Server Side Customized Authenticaton\n",
    "\n",
    "In this example, we will see how do we designed a custom plugin with additional authentication check, \n",
    "As result for two sites in POC, site-2 is NOT able to start and register to the server. It's blocked by the ServerCustomSecurityHandler logic during the client registration.\n",
    "\n",
    "### Define a server side security handler\n",
    "\n",
    "Notice the we the customized the handler raise NotAuthenticated(\"site_2 not allowed to register\")"
   ]
  },
  {
   "cell_type": "code",
   "execution_count": null,
   "id": "235ed0fa",
   "metadata": {},
   "outputs": [],
   "source": [
    "!cat code/custom_server_side_authentication/security/server/custom/security_handler.py"
   ]
  },
  {
   "cell_type": "markdown",
   "id": "58c8f45a",
   "metadata": {},
   "source": [
    "To register this plugin handler, we need to add this component to the server site's local configuration\n",
    "\n",
    "by adding it to the components array \n",
    "\n",
    "```\n",
    "    components: [\n",
    "    ...\n",
    "            {\n",
    "                \"id\": \"security_handler\",\n",
    "                \"path\": \"security_handler.ServerCustomSecurityHandler\"\n",
    "            }\n",
    "    ]  \n",
    "```  \n",
    "\n",
    "In this example, we have made a edit resources.json file and will copy both \"custom\" folder and \"resources.json\" to the local directory\n",
    "\n"
   ]
  },
  {
   "cell_type": "code",
   "execution_count": null,
   "id": "4c63cb5a",
   "metadata": {},
   "outputs": [],
   "source": [
    "! echo y | nvflare poc prepare\n",
    "\n",
    "!cp -r code/custom_server_side_authentication/security/server/* /tmp/nvflare/poc/example_project/prod_00/server/local/.\n",
    "\n",
    "! cat /tmp/nvflare/poc/example_project/prod_00/server/local/resources.json\n",
    "\n"
   ]
  },
  {
   "cell_type": "markdown",
   "id": "eb6e964e",
   "metadata": {},
   "source": [
    "Now, go to a terminal and try to start FL system with \n",
    "\n",
    "```\n",
    "\n",
    "nvflare poc start -ex admin@nvidia.com\n",
    "```\n",
    "\n",
    "See what happens"
   ]
  },
  {
   "cell_type": "markdown",
   "id": "f33e482c",
   "metadata": {},
   "source": [
    "You should see something like this: \n",
    "\n",
    "\n",
    "```\n",
    "2025-02-02 16:35:40,059 - Communicator - INFO - Trying to register with server ...\n",
    "2025-02-02 16:35:40,060 - ServerCustomSecurityHandler - ERROR - [identity=server, run=?, peer=site-2, peer_run=?] - Exception when handling event \"_client_register_received\": NotAuthenticated: site-2 not allowed to register\n",
    "\n",
    "\n",
    "```"
   ]
  },
  {
   "cell_type": "markdown",
   "id": "e0053b6f",
   "metadata": {},
   "source": [
    "## Client Side: Customized Job-level Auhtorization\n",
    "\n",
    "Next, let's take look authorization on the client side\n",
    "\n",
    "**Setup**\n",
    "\n",
    "* `server`: NVFlare server\n",
    "* `site-1`: Site-1 has a CustomSecurityHandler set up which does not allow the job \"Secret-Job\" to run. All other jobs will be able to deploy and run on site-1.\n",
    "* `site-2`: Site-2 allows any job to be deployed and run.\n",
    "\n",
    "**Expectation**\n",
    "* \"Secret-Job\" will be deployed and run on site-2 but not on site-1\n",
    "\n",
    "\n",
    "\n"
   ]
  },
  {
   "cell_type": "markdown",
   "id": "b06fce58",
   "metadata": {},
   "source": []
  },
  {
   "cell_type": "markdown",
   "id": "8f7c5a89",
   "metadata": {},
   "source": []
  },
  {
   "cell_type": "code",
   "execution_count": null,
   "id": "79e8d608",
   "metadata": {},
   "outputs": [],
   "source": []
  }
 ],
 "metadata": {
  "kernelspec": {
   "display_name": "nvflare_env",
   "language": "python",
   "name": "python3"
  },
  "language_info": {
   "codemirror_mode": {
    "name": "ipython",
    "version": 3
   },
   "file_extension": ".py",
   "mimetype": "text/x-python",
   "name": "python",
   "nbconvert_exporter": "python",
   "pygments_lexer": "ipython3",
   "version": "3.10.12"
  }
 },
 "nbformat": 4,
 "nbformat_minor": 5
}
