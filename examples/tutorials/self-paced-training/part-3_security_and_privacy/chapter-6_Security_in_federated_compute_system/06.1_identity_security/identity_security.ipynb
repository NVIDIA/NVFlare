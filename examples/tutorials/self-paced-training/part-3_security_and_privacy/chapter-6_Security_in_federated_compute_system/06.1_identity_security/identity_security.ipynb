{
 "cells": [
  {
   "cell_type": "markdown",
   "metadata": {},
   "source": [
    "# **Indentity Security**  \n",
    "\n",
    "\n",
    "## Authentication\n",
    "\n",
    "NVFLARE’s authentication model is based on Public Key Infrastructure (PKI) technology\n",
    "\n",
    "For the FL project, the Project Admin uses the Provisioning Tool to create a Root CA with a self-signed root certificate. This Root CA will be used to issue all other certs needed by communicating parties.\n",
    "\n",
    "Identities involved in the project (Server, Clients, participants) are provisioned with the [Provisioning Tool](https://nvflare.readthedocs.io/en/main/real_world_fl/overview.html#provision). Each identity is defined with a unique common name. For each identity, the Provisioning Tool generates a separate password-protected Startup Kit, which includes security credentials for mutual TLS authentication:\n",
    "\n",
    "* The certificate of the Root CA\n",
    "* The cert of the identity\n",
    "* The private key of the identity\n",
    "\n",
    "Startup Kits are distributed to the intended identities:\n",
    "* The FL Server’s kit is sent to the Project Admin\n",
    "* The kit for each FL Client is sent to the Org Admin responsible for the site\n",
    "* FLARE Console (previously called Admin Client) kits are sent to the user(s)\n",
    "\n",
    "To ensure the integrity of the Startup Kit, each file in the kit is signed by the Root CA.\n",
    "\n",
    "Each Startup Kit also contains a “start.sh” file, which can be used to properly start the NVFLARE application.\n",
    "\n",
    "Once started, the FL client attempts to establish a mutual TLS or standard TLS connection with the FL server, using the PKI credentials in its Startup Kit. This is possible only if both the FL client and the FL server have the correct Startup Kits. \n",
    "\n",
    "Similarly, when a user tries to operate the NVFLARE system using the Flare Console app, the Flare Console tries to establish a mutual TLS or standard TLS connection with the Server, using the PKI credentials in its Startup Kits. This is possible only if both the Flare Console and the FL server have the correct Startup Kits. The user must also enter his/her assigned user name correctly.\n",
    "\n",
    "We supports both normal TLS and mutal TLS. \n",
    "\n",
    "\n",
    "The security of the system comes from the PKI credentials in the Startup Kits. As you can see, this mechanism involves manual processing and human interactions for Startup Kit distribution, and hence the identity security of the system depends on the trust of the involved people. To minimize security risk, we recommend that people involved follow these best practice guidelines:\n",
    "\n",
    "The Project Admin, who is responsible for the provisioning process of the study, should protect the study’s configuration files and store created Startup Kits securely.\n",
    "\n",
    "When distributing Startup Kits, the Project Admin should use trusted communication methods, and never send passwords of the Startup Kits in the same communication. It is preferred to send the Kits and passwords with different communication methods.\n",
    "\n",
    "Org Admin and users must protect their Startup Kits and only use them for intended purposes.\n",
    "\n",
    ">  Note\n",
    "The provisioning tool tries to use the strongest cryptography suites possible when generating the PKI credentials. All of the certificates are compliant with the X.509 standard. All private keys are generated with a size of 2048-bits. The backend is openssl 1.1.1f, released on March 31, 2020, with no known CVE. All certificates expire within 360 days.\n",
    "\n",
    "> NVFlare Dashboard is a website that supports user and site registration. Users will be able to download their Startup Kits (and other artifacts) from the website.\n",
    "\n",
    "Let's see above in action\n"
   ]
  },
  {
   "cell_type": "code",
   "execution_count": null,
   "metadata": {},
   "outputs": [],
   "source": []
  },
  {
   "cell_type": "markdown",
   "metadata": {},
   "source": [
    "First, let's generate a default startup kits using the POC (Proof-Of-Concept) command. The POC command internally calls the provision tool to generate the default startup kits"
   ]
  },
  {
   "cell_type": "markdown",
   "metadata": {},
   "source": []
  },
  {
   "cell_type": "code",
   "execution_count": null,
   "metadata": {},
   "outputs": [],
   "source": [
    "! echo y | nvflare poc prepare\n"
   ]
  },
  {
   "cell_type": "code",
   "execution_count": null,
   "metadata": {},
   "outputs": [],
   "source": [
    "! tree /tmp/nvflare/poc/example_project/prod_00"
   ]
  },
  {
   "cell_type": "markdown",
   "metadata": {},
   "source": [
    "Look at the each site's start up kit. We see\n",
    "\n",
    "```\n",
    "startup\n",
    "│   │   ├── client.crt  <-- certificate\n",
    "│   │   ├── client.key  <-- private key\n",
    "│   │   ├── fed_client.json\n",
    "│   │   ├── rootCA.pem  <-- root certificate\n",
    "│   │   ├── signature.json\n",
    "│   │   ├── start.sh\n",
    "│   │   ├── stop_fl.sh\n",
    "│   │   └── sub_start.sh\n",
    "\n",
    "```\n",
    "\n"
   ]
  },
  {
   "cell_type": "markdown",
   "metadata": {},
   "source": [
    "## Authorization\n",
    "\n",
    "Federated learning is conducted over computing resources owned by different organizations. Naturally these organizations have concerns about their computing resources being misused or abused. Even if an NVFLARE docker is trusted by participating orgs, researchers can still bring their own custom code to be part of a study, which could be a big concern to many organizations. In addition, organizations may also have IP (intellectual property) requirements on the studies performed by their own researchers.\n",
    "\n",
    "Some frameworks disable the BYOC (bring your own code) feature and only allow pre-installed packages during production. However, during research and development, researchers need to modify code constantly during experiments.\n",
    "\n",
    "\n",
    "\n",
    "NVFLARE comes with an authorization system that can help address these security concerns and IP requirements. With this system, an organization can define strict policy to control access to their computing resources and/or FL jobs.\n",
    "\n",
    "Here are some examples that an org can do:\n",
    "\n",
    "* Restrict BYOC to only the org’s own researchers;\n",
    "\n",
    "* Allow jobs only from its own researchers, or from specified other orgs, or even from specified trusted other researchers;\n",
    "\n",
    "* Totally disable remote shell commands on its sites\n",
    "\n",
    "* Allow the “ls” shell command but disable all other remote shell commands\n",
    "\n",
    "\n",
    "### Centralized vs. Federated Authorization\n",
    "\n",
    "Instead of relying on a centralized (FL Server) to authorizate and authenticate users, NVFLARE now uses federated authorization where each organization defines and enforces its own authorization policy.\n",
    "\n",
    "Each organization defines its policy in its own authorization.json (in the local folder of the workspace). This locally defined policy is loaded by FL Clients owned by the organization, The policy is also enforced by these FL Clients.\n",
    "\n",
    "This decentralized authorization has an added benefit: since each organization takes care of its own authorization, there will be no need to update the policy of any other participants (FL Server or Clients) when new orgs or clients are added.\n",
    "\n",
    "### Simplified Authorization Policy Configuration\n",
    "Since each organization defines its own policy, there will be no need to centrally define all orgs and users. The policy configuration for an org is simply a matrix of role/right permissions. Each role/right combination in the permission matrix answers this question: what kind of users in this role can have this right?\n",
    "\n",
    "To answer this question, the role/right combination defines one or more conditions, and the user must meet one of these conditions to have the right. The set of conditions is called a control.\n",
    "\n",
    "### Roles\n",
    "Users are classified into roles. NVFLARE defines four roles:\n",
    "\n",
    "* **Project Admin** - this role is responsible for the whole FL project;\n",
    "\n",
    "* **Org Admin** - this role is responsible for the administration of all sites in its org. Each org must have one Org Admin;\n",
    "\n",
    "* **Lead (researcher)** - this role conducts FL studies\n",
    "\n",
    "* **Member (researcher)** - this role observes the FL study but cannot submit jobs\n",
    "\n",
    "### Rights\n",
    "\n",
    "* Admin commands are grouped into categories. For example, commands like abort_job, delete_job, start_app are in manage_job category; all shell commands are put into the shell_commands category. Each category is also a right.\n",
    "\n",
    "* BYOC is defined as a right so that some users are allowed to submit jobs with BYOC whereas some are not.\n",
    "\n",
    "This right system makes it easy to write simple policies that only use command categories. It also makes it possible to write policies to control individual commands. When both categories and commands are used, command-based control takes precedence over category-based control.\n",
    "\n",
    "\n",
    "## Controls and Conditions\n",
    "\n",
    "\n",
    "| Notation       | Condition                                           | Examples           |\n",
    "|----------------|-----------------------------------------------------|--------------------|\n",
    "| o:site         | The user belongs to the site’s organization         |                    |\n",
    "| n:submitter    | The user is the job submitter                       |                    |\n",
    "| o:submitter    | The user and the job submitter belong to the same org|                    |\n",
    "| n:<person_name>| The user is a specified person                      | n:john@nvidia.com  |\n",
    "| o:<org_name>   | The user is in a specified org                      | o:nvidia           |\n",
    "\n",
    "The words “site” and “submitter” are reserved.\n",
    "\n",
    "For more details please refer [documentation](https://nvflare.readthedocs.io/en/main/user_guide/security/identity_security.html)\n",
    "\n",
    "Now, lets move on to [site_security](../06.2_site_security_privacy_policy/site_policy.ipynb)\n"
   ]
  },
  {
   "cell_type": "markdown",
   "metadata": {},
   "source": []
  }
 ],
 "metadata": {
  "kernelspec": {
   "display_name": "nvflare_env",
   "language": "python",
   "name": "python3"
  },
  "language_info": {
   "codemirror_mode": {
    "name": "ipython",
    "version": 3
   },
   "file_extension": ".py",
   "mimetype": "text/x-python",
   "name": "python",
   "nbconvert_exporter": "python",
   "pygments_lexer": "ipython3",
   "version": "3.10.12"
  }
 },
 "nbformat": 4,
 "nbformat_minor": 2
}
