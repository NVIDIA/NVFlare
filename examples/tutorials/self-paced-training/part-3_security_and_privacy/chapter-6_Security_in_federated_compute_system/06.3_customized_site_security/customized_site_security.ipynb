{
 "cells": [
  {
   "cell_type": "markdown",
   "id": "0e725a2d-af59-43ae-8ef8-aeabe5581d4b",
   "metadata": {},
   "source": [
    "# Site-specific Authentication and Federated Job-level Authorization\n",
    "\n",
    "Site-specific authentication and authorization allows users to inject their own authentication and authorization methods into the NVFlare system. This includes the FL server / clients registration, authentication, and the job deployment and run authorization.\n",
    "\n",
    "NVFlare provides a general purpose event based pluggable authentication and authorization framework to allow for expanding functionality such as:\n",
    "\n",
    "* exposing the app through a WAF (Web Application Firewall) or any other network element enforcing Mutual Transport Layer Security(mTLS)\n",
    "\n",
    "* using a confidential certification authority to ensure the identity of each participating site and to ensure that they meet the computing requirements for confidential computing\n",
    "\n",
    "* defining additional roles to manage who can submit which kind of jobs to execute within NVFlare, identify who submits jobs and which dataset can be accessed\n",
    "\n",
    "Users can write their own FLComponents, listening to the NVFlare system events at different points of their workflow, then easily plug in their authentication and authorization logic as needed.\n",
    "\n",
    "### Assumptions and Risks\n",
    "By enabling the customized site-specific authentication and authorization, NVFlare will make several security related data available to the external FL components, e.g. IDENTITY_NAME, PUBLIC_KEY, CERTIFICATE, etc. In order to protect them from being compromised, that data needs to be made read-only.\n",
    "\n",
    "Because of the external pluginable authentication and authorization processes, the results of the processes could potentially cause the jobs to not be able to be deployed or run. When configuring and using these functions, the users need to be aware of the impact and know where to plug in the authentication and authorization check.\n",
    "\n",
    "### Event based pluginable authentication and authorization\n",
    "The NVFlare event based solution supports site-specific authentication and federated job-level authorization. Users can provide and implement any sort of additional security checks by building and plugging in FLcomponents which listen to the appropriate events and provide custom authentication and authorization functions.\n"
   ]
  },
  {
   "cell_type": "markdown",
   "id": "928772df",
   "metadata": {},
   "source": [
    "Lets look these mechanism via \n",
    "\n",
    "* [Customized Server Side Security Check](./custom_server_side_authentication/server_side_security_plugin.ipynb)\n",
    "* [Customized Client side job-level check](./custom_client_side_job_level_authorization/client_side_security_check.ipynb)\n",
    "* [client side 3rd party authentication integration](./custom_client_side_auth_system_integration/keycloak_integration.ipynb)\n"
   ]
  },
  {
   "cell_type": "code",
   "execution_count": null,
   "id": "fa94cace",
   "metadata": {},
   "outputs": [],
   "source": []
  }
 ],
 "metadata": {
  "kernelspec": {
   "display_name": "Python 3",
   "language": "python",
   "name": "python3"
  },
  "language_info": {
   "codemirror_mode": {
    "name": "ipython",
    "version": 3
   },
   "file_extension": ".py",
   "mimetype": "text/x-python",
   "name": "python",
   "nbconvert_exporter": "python",
   "pygments_lexer": "ipython3",
   "version": "3.10.12"
  }
 },
 "nbformat": 4,
 "nbformat_minor": 5
}
