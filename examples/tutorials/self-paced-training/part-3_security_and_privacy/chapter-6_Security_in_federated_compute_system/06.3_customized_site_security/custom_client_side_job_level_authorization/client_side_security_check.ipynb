{
 "cells": [
  {
   "cell_type": "markdown",
   "id": "e0053b6f",
   "metadata": {},
   "source": [
    "## Client Side: Customized Job-level Auhtorization\n",
    "\n",
    "Let's take a look at authorization on the client side.\n",
    "\n",
    "**Setup**\n",
    "\n",
    "* `server`: NVFlare server\n",
    "* `site-1`: Site-1 has a CustomSecurityHandler set up which does not allow the job \"secret-job\" to run. All other jobs will be able to deploy and run on site-1.\n",
    "* `site-2`: Site-2 allows any job to be deployed and run.\n",
    "\n",
    "**Expectation**\n",
    "* \"secret-job\" will be deployed and run on site-2 but not on site-1\n",
    "\n",
    "\n",
    "What we will do: \n",
    "\n",
    "* Install dependencies\n",
    "* Download data\n",
    "* Generate two job configs using fl_jobs.py\n",
    "\n"
   ]
  },
  {
   "cell_type": "code",
   "execution_count": null,
   "id": "2a9cd2a1",
   "metadata": {},
   "outputs": [],
   "source": [
    "# install dependencies\n",
    "\n",
    "! pip install -r code/requirements.txt\n",
    "\n",
    "# download data\n",
    "\n",
    "! python code/data/download.py"
   ]
  },
  {
   "cell_type": "code",
   "execution_count": null,
   "id": "c49a6ea6",
   "metadata": {},
   "outputs": [],
   "source": [
    "%cd code\n",
    "! python fl_jobs.py\n",
    "# change back\n",
    "%cd - "
   ]
  },
  {
   "cell_type": "markdown",
   "id": "b06fce58",
   "metadata": {},
   "source": [
    "Next, we will:\n",
    "* Create a POC workspace\n",
    "* Install the customized security handler to site-1\n",
    "* Edit site-1/local/resources.json to add security handler component \n",
    "> Note: \n",
    "  To simplify, we just copy the pre-edited resources.json to that location"
   ]
  },
  {
   "cell_type": "code",
   "execution_count": null,
   "id": "15ec4aee",
   "metadata": {},
   "outputs": [],
   "source": [
    "# prepare poc\n",
    "! echo y | nvflare poc prepare -n 2"
   ]
  },
  {
   "cell_type": "code",
   "execution_count": null,
   "id": "c1856aff",
   "metadata": {},
   "outputs": [],
   "source": [
    "# cp security handler and component config\n",
    "!cp -r security/site-1/* /tmp/nvflare/poc/example_project/prod_00/site-1/local/."
   ]
  },
  {
   "cell_type": "markdown",
   "id": "b1699805",
   "metadata": {},
   "source": [
    "Now we are ready to run the job.\n",
    "\n",
    "* Start POC\n",
    "\n",
    "    Use a terminal (not notebook cell) to start the POC with the following command:\n",
    "\n",
    "```\n",
    "    nvflare poc start -ex admin@nvidia.com \n",
    "\n",
    "```\n",
    "\n",
    "    This will bring up the FL system.\n"
   ]
  },
  {
   "cell_type": "code",
   "execution_count": null,
   "id": "79e8d608",
   "metadata": {},
   "outputs": [],
   "source": [
    "#  Submit jobs\n",
    "#  Assuming at this point FL system is already running via poc start command\n",
    "\n",
    "!  nvflare job submit -j /tmp/nvflare/jobs/workdir/fedavg\n",
    "\n",
    "# The job should finish as expected"
   ]
  },
  {
   "cell_type": "markdown",
   "id": "c82c3ba6",
   "metadata": {},
   "source": [
    "The FedAvg job completed successfully. Now let's submit the \"secret-job\". In this step, we’ll use the FLARE Python API instead of the CLI Job command to showcase a different type of API.\n"
   ]
  },
  {
   "cell_type": "code",
   "execution_count": null,
   "id": "85476591-1919-43ae-a4e1-2346281bfd25",
   "metadata": {
    "tags": []
   },
   "outputs": [],
   "source": [
    "import os\n",
    "from nvflare.fuel.flare_api.flare_api import new_secure_session\n",
    " \n",
    "username = \"admin@nvidia.com\"\n",
    "admin_user_dir = os.path.join(\"/tmp/nvflare/poc/example_project/prod_00/\", username)\n",
    "\n",
    "sess = new_secure_session(username=username, startup_kit_location=admin_user_dir)\n",
    "print(sess.get_system_info())"
   ]
  },
  {
   "cell_type": "code",
   "execution_count": null,
   "id": "e1872ca6",
   "metadata": {},
   "outputs": [],
   "source": [
    "# !  nvflare job submit -j /tmp/nvflare/jobs/workdir/secret-job\n",
    "\n",
    "\n",
    "job_path = \"/tmp/nvflare/jobs/workdir/secret-job\"\n",
    "job_id = sess.submit_job(job_path)\n",
    "print(job_id + \" was submitted\")"
   ]
  },
  {
   "cell_type": "markdown",
   "id": "e3e07aab-8722-4203-95d4-8592b4871b42",
   "metadata": {},
   "source": [
    "Job will fail to schedule, you should see some of the following in terminal (not on notebook)\n",
    "\n",
    "```\n",
    "2025-10-12 13:14:31,496 - site_security - ERROR - Authorization failed. Reason: Not authorized to execute: check_resources\n",
    "2025-10-12 13:14:31,499 - ServerEngine - ERROR - Client reply error: Not authorized to execute: check_resources\n",
    "2025-10-12 13:14:31,502 - DefaultJobScheduler - INFO - [identity=server, run=?] - Try to schedule job a877c175-35f4-4376-ae3e-663e269ec84e, get result: (not enough sites have enough resources (ok sites 1 < min sites 2)).\n",
    "2025-10-12 13:14:31,504 - site_security - ERROR - Authorization failed. Reason: Not authorized to execute: check_resources\n",
    "2025-10-12 13:14:31,505 - ServerEngine - ERROR - Client reply error: Not authorized to execute: check_resources\n",
    "2025-10-12 13:14:31,508 - DefaultJobScheduler - INFO - [identity=server, run=?] - Try to schedule job d404b9ec-453d-4184-8c84-2dfe0816979a, get result: (not enough sites have enough resources (ok sites 1 < min sites 2)).\n",
    "\n",
    "```\n",
    "Since it will not terminate, we will just aborf the job. \n"
   ]
  },
  {
   "cell_type": "code",
   "execution_count": null,
   "id": "5f7d785f-bf21-4846-8523-4b0993c3ad78",
   "metadata": {},
   "outputs": [],
   "source": [
    "sess.abort_job(job_id)"
   ]
  },
  {
   "cell_type": "markdown",
   "id": "97480fa8",
   "metadata": {},
   "source": [
    "**Cleanup**"
   ]
  },
  {
   "cell_type": "code",
   "execution_count": null,
   "id": "9b0a4532",
   "metadata": {},
   "outputs": [],
   "source": [
    "! nvflare poc stop"
   ]
  },
  {
   "cell_type": "code",
   "execution_count": null,
   "id": "8cf83674",
   "metadata": {},
   "outputs": [],
   "source": [
    "! nvflare poc clean"
   ]
  },
  {
   "cell_type": "code",
   "execution_count": null,
   "id": "0a1a27bf-b257-4aa9-89ec-819ae1a427f9",
   "metadata": {},
   "outputs": [],
   "source": []
  }
 ],
 "metadata": {
  "kernelspec": {
   "display_name": "nvflare_env",
   "language": "python",
   "name": "nvflare_env"
  },
  "language_info": {
   "codemirror_mode": {
    "name": "ipython",
    "version": 3
   },
   "file_extension": ".py",
   "mimetype": "text/x-python",
   "name": "python",
   "nbconvert_exporter": "python",
   "pygments_lexer": "ipython3",
   "version": "3.10.12"
  }
 },
 "nbformat": 4,
 "nbformat_minor": 5
}
