{
 "cells": [
  {
   "cell_type": "markdown",
   "id": "e0053b6f",
   "metadata": {},
   "source": [
    "## Client Side: Customized Job-level Auhtorization\n",
    "\n",
    "Let's take a look at authorization on the client side.\n",
    "\n",
    "**Setup**\n",
    "\n",
    "* `server`: NVFlare server\n",
    "* `site-1`: Site-1 has a CustomSecurityHandler set up which does not allow the job \"secret-job\" to run. All other jobs will be able to deploy and run on site-1.\n",
    "* `site-2`: Site-2 allows any job to be deployed and run.\n",
    "\n",
    "**Expectation**\n",
    "* \"secret-job\" will be deployed and run on site-2 but not on site-1\n",
    "\n",
    "\n",
    "What we will do: \n",
    "\n",
    "* Install dependencies\n",
    "* Download data\n",
    "* Generate two job configs using fl_jobs.py\n",
    "\n"
   ]
  },
  {
   "cell_type": "code",
   "execution_count": null,
   "id": "2a9cd2a1",
   "metadata": {},
   "outputs": [],
   "source": [
    "# install dependencies\n",
    "\n",
    "! pip install -r code/requirements.txt\n",
    "\n",
    "# download data\n",
    "\n",
    "! python code/data/download.py"
   ]
  },
  {
   "cell_type": "code",
   "execution_count": null,
   "id": "c49a6ea6",
   "metadata": {},
   "outputs": [],
   "source": [
    "%cd code\n",
    "\n",
    "! python fl_jobs.py\n",
    "\n",
    "# change back\n",
    "%cd - \n"
   ]
  },
  {
   "cell_type": "markdown",
   "id": "b06fce58",
   "metadata": {},
   "source": [
    "Next, we will:\n",
    "* Create a POC workspace\n",
    "* Install the customized security handler to site-1\n",
    "* Edit site-1/local/resources.json to add security handler component \n",
    "> Note: \n",
    "  To simplify, we just copy the pre-edited resources.json to that location\n",
    "\n",
    "\n"
   ]
  },
  {
   "cell_type": "code",
   "execution_count": null,
   "id": "15ec4aee",
   "metadata": {},
   "outputs": [],
   "source": [
    "# prepare poc\n",
    "! echo y | nvflare poc prepare -n 2\n"
   ]
  },
  {
   "cell_type": "code",
   "execution_count": 15,
   "id": "c1856aff",
   "metadata": {},
   "outputs": [],
   "source": [
    "# cp security handler and component config\n",
    "!cp -r security/site-1/* /tmp/nvflare/poc/example_project/prod_00/site-1/local/.\n"
   ]
  },
  {
   "cell_type": "markdown",
   "id": "b1699805",
   "metadata": {},
   "source": [
    "Now we are ready to run the job.\n",
    "\n",
    "* Start POC\n",
    "\n",
    "    Use a terminal (not notebook cell) to start the POC with the following command:\n",
    "\n",
    "    ```\n",
    "    nvflare poc start -ex admin@nvidia.com \n",
    "    ```\n",
    "\n",
    "    This will bring up the FL system.\n"
   ]
  },
  {
   "cell_type": "code",
   "execution_count": null,
   "id": "79e8d608",
   "metadata": {},
   "outputs": [],
   "source": [
    "#  Submit jobs\n",
    "#  Assuming at this point FL system is already running via poc start command\n",
    "\n",
    "!  nvflare job submit -j /tmp/nvflare/jobs/workdir/fedavg\n",
    "\n",
    "# The job should finish as expected"
   ]
  },
  {
   "cell_type": "markdown",
   "id": "c82c3ba6",
   "metadata": {},
   "source": [
    "The fedavg job completed successfully. Now let's submit \"secret-job\""
   ]
  },
  {
   "cell_type": "code",
   "execution_count": null,
   "id": "e1872ca6",
   "metadata": {},
   "outputs": [],
   "source": [
    "#  Submit jobs\n",
    "#  Assuming at this point FL system is already running via poc start command\n",
    "\n",
    "!  nvflare job submit -j /tmp/nvflare/jobs/workdir/secret-job"
   ]
  },
  {
   "cell_type": "markdown",
   "id": "97480fa8",
   "metadata": {},
   "source": [
    "you should get something like\n",
    "\n",
    "```\n",
    "2025-02-02 20:31:03,494 - site_security - ERROR - Authorization failed. Reason: Not authorized to execute: check_resources\n",
    "2025-02-02 20:31:03,496 - ServerEngine - ERROR - Client reply error: Not authorized to execute: check_resources\n",
    "\n",
    "```\n",
    "\n",
    "* Cleanup "
   ]
  },
  {
   "cell_type": "code",
   "execution_count": null,
   "id": "9b0a4532",
   "metadata": {},
   "outputs": [],
   "source": [
    "\n",
    "! nvflare poc stop"
   ]
  },
  {
   "cell_type": "code",
   "execution_count": null,
   "id": "8cf83674",
   "metadata": {},
   "outputs": [],
   "source": [
    "! nvflare poc clean"
   ]
  }
 ],
 "metadata": {
  "kernelspec": {
   "display_name": "Python 3",
   "language": "python",
   "name": "python3"
  },
  "language_info": {
   "codemirror_mode": {
    "name": "ipython",
    "version": 3
   },
   "file_extension": ".py",
   "mimetype": "text/x-python",
   "name": "python",
   "nbconvert_exporter": "python",
   "pygments_lexer": "ipython3",
   "version": "3.10.12"
  }
 },
 "nbformat": 4,
 "nbformat_minor": 5
}
