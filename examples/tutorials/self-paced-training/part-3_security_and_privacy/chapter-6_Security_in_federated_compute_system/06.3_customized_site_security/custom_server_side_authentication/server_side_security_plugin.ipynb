{
 "cells": [
  {
   "cell_type": "markdown",
   "id": "c1f37174",
   "metadata": {},
   "source": [
    "# Server Side Customized Authentication\n",
    "\n",
    "In this example, we will demonstrate how to design a custom plugin with additional authentication checks.\n",
    "As a result, in this POC with two sites, site-2 will NOT be able to start and register with the server. It will be blocked by the ServerCustomSecurityHandler logic during client registration.\n",
    "\n",
    "## Define a server side security handler\n",
    "\n",
    "Note that the customized handler raises NotAuthenticated(\"site_2 not allowed to register\")"
   ]
  },
  {
   "cell_type": "code",
   "execution_count": null,
   "id": "235ed0fa",
   "metadata": {},
   "outputs": [],
   "source": [
    "!cat security/server/custom/security_handler.py"
   ]
  },
  {
   "cell_type": "markdown",
   "id": "58c8f45a",
   "metadata": {},
   "source": [
    "\n",
    "To register this plugin handler, we need to add this component to the server site's local configuration\n",
    "by adding it to the components array:\n",
    "\n",
    "```\n",
    "    components: [\n",
    "    ...\n",
    "            {\n",
    "                \"id\": \"security_handler\",\n",
    "                \"path\": \"security_handler.ServerCustomSecurityHandler\"\n",
    "            }\n",
    "    ]  \n",
    "```  \n",
    "\n",
    "In this example, we will copy the \"custom\" folder and use the Python script `edit_site_local_resources.py` to create \"resources.json\" in the site local directory.\n",
    "\n",
    "> Note: \n",
    "You don't need to use the Python code to generate this resources.json. You can manually create resources.json by copying from or renaming \"resources.json.default\", then adding the above component element.\n"
   ]
  },
  {
   "cell_type": "code",
   "execution_count": null,
   "id": "d5bfe22f",
   "metadata": {},
   "outputs": [],
   "source": [
    "\n",
    "! echo y | nvflare poc prepare"
   ]
  },
  {
   "cell_type": "code",
   "execution_count": null,
   "id": "4c63cb5a",
   "metadata": {},
   "outputs": [],
   "source": [
    "\n",
    "\n",
    "!cp -r security/server/* /tmp/nvflare/poc/example_project/prod_00/server/local/.\n",
    "!python edit_site_local_resources.py server /tmp/nvflare/poc/example_project/prod_00"
   ]
  },
  {
   "cell_type": "code",
   "execution_count": null,
   "id": "7d425be8",
   "metadata": {},
   "outputs": [],
   "source": [
    "# double check\n",
    "! tree /tmp/nvflare/poc/example_project/prod_00/server/local/ "
   ]
  },
  {
   "cell_type": "code",
   "execution_count": null,
   "id": "8a3eeae9",
   "metadata": {},
   "outputs": [],
   "source": [
    "!cat /tmp/nvflare/poc/example_project/prod_00/server/local/resources.json"
   ]
  },
  {
   "cell_type": "markdown",
   "id": "eb6e964e",
   "metadata": {},
   "source": [
    "Now, go to a terminal and try to start FL system with \n",
    "\n",
    "```\n",
    "\n",
    "nvflare poc start -ex admin@nvidia.com\n",
    "```\n",
    "\n",
    "See what happens"
   ]
  },
  {
   "cell_type": "markdown",
   "id": "f33e482c",
   "metadata": {},
   "source": [
    "You should see something like this: \n",
    "\n",
    "\n",
    "```\n",
    "2025-02-02 16:35:40,059 - Communicator - INFO - Trying to register with server ...\n",
    "2025-02-02 16:35:40,060 - ServerCustomSecurityHandler - ERROR - [identity=server, run=?, peer=site-2, peer_run=?] - Exception when handling event \"_client_register_received\": NotAuthenticated: site-2 not allowed to register\n",
    "\n",
    "\n",
    "```"
   ]
  },
  {
   "cell_type": "code",
   "execution_count": null,
   "id": "84ab1ecd",
   "metadata": {},
   "outputs": [],
   "source": [
    "# Clean up\n",
    "! nvflare poc stop\n",
    "! nvflare poc clean"
   ]
  }
 ],
 "metadata": {
  "kernelspec": {
   "display_name": "Python 3",
   "language": "python",
   "name": "python3"
  },
  "language_info": {
   "codemirror_mode": {
    "name": "ipython",
    "version": 3
   },
   "file_extension": ".py",
   "mimetype": "text/x-python",
   "name": "python",
   "nbconvert_exporter": "python",
   "pygments_lexer": "ipython3",
   "version": "3.10.12"
  }
 },
 "nbformat": 4,
 "nbformat_minor": 5
}
