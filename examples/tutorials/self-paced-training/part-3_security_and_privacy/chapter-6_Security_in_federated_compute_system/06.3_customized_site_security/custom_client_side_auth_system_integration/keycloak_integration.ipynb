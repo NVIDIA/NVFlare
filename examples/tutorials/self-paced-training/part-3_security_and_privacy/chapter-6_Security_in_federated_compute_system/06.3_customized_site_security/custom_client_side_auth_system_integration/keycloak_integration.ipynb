{
 "cells": [
  {
   "cell_type": "markdown",
   "id": "c8393461",
   "metadata": {},
   "source": [
    "## Integration with external authentication system\n",
    "\n",
    "#### Overview\n",
    "\n",
    "In Federated Computing systems, many participating institutions already have their own in-house authentication systems. Instead of introducing a new authentication mechanism, we need to integrate with them. Note that this integration can be site-specific; in other words, each site may be different. Site-1 can be using OLAP, site-2 can use OAuth, and a third site can use something else.\n",
    "\n",
    "In this example, we demonstrate NVIDIA FLARE's event-based plugin-component that can be used to integrate any type of authentication/authorization mechanism, using open-source KeyCloak integration as an example.\n",
    "\n",
    "### Setup KeyCloak\n",
    "\n",
    "Before we start, we need to download and start the KeyCloak service. To do that, we create a [dockerfile](./examples/custom_client_side_auth_system_integration/keycloak-setup/dockerfile) and [docker-compose](./examples/custom_client_side_auth_system_integration/keycloak-setup/docker-compose.yml) file\n",
    "\n",
    "to start cd to ```custom_client_side_auth_system_integration/keycloak-setup``` directory and run the following command\n"
   ]
  },
  {
   "cell_type": "code",
   "execution_count": null,
   "id": "8dbd0c77",
   "metadata": {},
   "outputs": [],
   "source": [
    "%cd keycloak-setup\n",
    "! docker compose up -d --build\n",
    "%cd -\n"
   ]
  },
  {
   "cell_type": "markdown",
   "id": "bc6ccaa0",
   "metadata": {},
   "source": [
    "#* check if the keycloak is ready \n",
    "```\n",
    "!docker ps\n",
    "!docker logs keycloak \n",
    "```\n",
    "you should see something like \n",
    "\n",
    "```\n",
    "    Keycloak is ready!\n",
    "    ...\n",
    "\n",
    "    Setup completed!\n",
    "```\n",
    "\n",
    "\n"
   ]
  },
  {
   "cell_type": "markdown",
   "id": "dd304d80",
   "metadata": {},
   "source": [
    "You can also check if the website and login with credential\n",
    "```\n",
    "user = admin\n",
    "password = admin123\n",
    "```"
   ]
  },
  {
   "cell_type": "code",
   "execution_count": null,
   "id": "fd65e072",
   "metadata": {},
   "outputs": [],
   "source": [
    "http://localhost:8080\n"
   ]
  },
  {
   "cell_type": "markdown",
   "id": "be7f97c7",
   "metadata": {},
   "source": [
    "### Setup KeyCloak Authentication Plugin\n",
    "\n",
    "This integration involves two plugins: \n",
    "\n",
    "* At admin client during job submision, we will require the login for the given site (site-1). We also need to get the access token to pass to the job context\n",
    "* one at site local, we need to plugin for job authorization\n",
    "\n",
    "\n",
    "#### Set up FL Client Job Authorization Configuration\n",
    "\n",
    "First, we need to overwrite the default local resources.json.default with resources.json to add the custom security check component\n",
    "\n",
    " {\n",
    "      \"id\": \"security_handler\",\n",
    "      \"path\": \"keycloak_security_handler.CustomSecurityHandler\"\n",
    " }\n",
    "\n",
    "The \"keycloak_security_handler.CustomSecurityHandler\" is defined as "
   ]
  },
  {
   "cell_type": "code",
   "execution_count": null,
   "id": "7d0da496",
   "metadata": {},
   "outputs": [],
   "source": [
    "!cat security/custom/keycloak_security_handler.py"
   ]
  },
  {
   "cell_type": "markdown",
   "id": "8cf35e71",
   "metadata": {},
   "source": [
    "We need to save the Keycloak public key in the following file:\n",
    "`/tmp/nvflare/poc/example_project/prod_00/site-1/local/site-1/local/public_key.pem` \n",
    "\n",
    "Use this format:\n",
    "\n",
    "```\n",
    "-----BEGIN PUBLIC KEY-----\n",
    "MIIBIjANBgkqhkiG9w0BAQEFAAOCAQ8AMIIBCgKCAQEAre3kQxqOfTJ7LLRwlpotw47goqSsuyFOg9Ihx5IXDMbO8HTGuGQcdDVJaYJQYphfhp2qdw+1o6qVN2yPBxwiBWju/XZQMPbCXRBu2bVDffWJVMoelLDbr3uY9hCgYgmB7qYpDdNOmxb2+xIlg/x0q+vrRRMtdd8SGicvjg0mQSEEF4a7QOSwuDnwBX8+bMOXfyB5qQJlakNVND1Bc+MjDENkHLtImVowX9XZcz8M6Ap9Eq1z2agl6lmFxTLtZroTE6IQS/dFYPVy4rZ1Zuy5cvs/3j+SYzlplH/iP3qZs8UiKrTJMmfIuLmDbP3hEAOsEmQ/M3lRxnE4wuGxvel5rwIDAQAB\n",
    "-----END PUBLIC KEY-----\n",
    "```\n",
    "\n",
    "In the local/custom/resources.json config file, it contains the following additional security handler:\n",
    "\n",
    "```\n",
    "    {\n",
    "      \"id\": \"security_handler\",\n",
    "      \"path\": \"keycloak_security_handler.CustomSecurityHandler\"\n",
    "    }\n",
    "```\n",
    "\n",
    "The CustomSecurityHandler in the custom/keycloak_security_handler.py contains the logic to validate the admin user's KeyCloak access token when the admin user submits a job, or scheduler picks up an already submitted job from the admin user. If the access token is invalid, the job will not be authorized to run.\n",
    "\n",
    "We can do this in the following code. "
   ]
  },
  {
   "cell_type": "code",
   "execution_count": null,
   "id": "8551b25b",
   "metadata": {},
   "outputs": [],
   "source": [
    "# prepare poc\n",
    "! echo y | nvflare poc prepare -n 2\n"
   ]
  },
  {
   "cell_type": "code",
   "execution_count": null,
   "id": "636b2727",
   "metadata": {},
   "outputs": [],
   "source": [
    "\n",
    "!python get_keycloak_access_token.py /tmp/nvflare/poc/example_project/prod_00/site-1/local/site-1/local/public_key.pem\n"
   ]
  },
  {
   "cell_type": "code",
   "execution_count": null,
   "id": "1e8644a9",
   "metadata": {},
   "outputs": [],
   "source": [
    "\n",
    "!python edit_site_local_resources.py site-1 /tmp/nvflare/poc/example_project/prod_00\n"
   ]
  },
  {
   "cell_type": "markdown",
   "id": "93dcf155",
   "metadata": {},
   "source": [
    "\n",
    "####  Set up Admin user authentication\n",
    "\n",
    "\n",
    "In the local/custom/resources.json config file, it contains the following admin event handler. the \"orgs\" arg provides a list of site names, and it's corresponding KeyCloak access_token URLs:\n",
    "\n",
    "```\n",
    "      {\n",
    "        \"id\": \"auth\",\n",
    "        \"path\": \"admin_auth.AdminAuth\",\n",
    "        \"args\": {\n",
    "          \"orgs\": {\n",
    "            \"site-a\": \"http://localhost:8080/realms/myrealm/protocol/openid-connect/token\"\n",
    "          }\n",
    "        }\n",
    "      }\n",
    "```\n",
    "\n",
    "The AdminAuth event handler in the custom/admin_auth.py has the logic to acquire the KeyCloak access tokens to each individual site. When the admin user submits a job, it will set the tokens in the FLContext.\n"
   ]
  },
  {
   "cell_type": "code",
   "execution_count": null,
   "id": "89ca8b71",
   "metadata": {},
   "outputs": [],
   "source": [
    "! mkdir -p /tmp/nvflare/poc/example_project/prod_00/admin@nvidia.com/local/\n",
    "! cp -r admin/local/* /tmp/nvflare/poc/example_project/prod_00/admin@nvidia.com/local/"
   ]
  },
  {
   "cell_type": "code",
   "execution_count": 18,
   "id": "2044c070",
   "metadata": {},
   "outputs": [],
   "source": [
    "! cp -r site/local/* /tmp/nvflare/poc/example_project/prod_00/site-1/local/"
   ]
  },
  {
   "cell_type": "code",
   "execution_count": null,
   "id": "c48462ee",
   "metadata": {},
   "outputs": [],
   "source": [
    "! tree /tmp/nvflare/poc/example_project/prod_00/admin@nvidia.com/local/"
   ]
  },
  {
   "cell_type": "markdown",
   "id": "e6b36385",
   "metadata": {},
   "source": [
    "### Testing the setup \n",
    "\n",
    "start poc\n",
    "\n",
    "\n",
    "#### Admin Console Login\n",
    "\n",
    "When prompted, enter the email address `admin@nvidia.com`, then provide the password for the `site-1` Keycloak instance.\n",
    "\n",
    "#### Authentication Requirements for Job Execution\n",
    "\n",
    "With this system configured, `site-1` will only allow authenticated admin users to submit and run jobs. `site-2` does not have this additional security requirement - any admin user can submit and run jobs there.\n",
    "\n",
    "##### Authenticated Admin Users\n",
    "An admin user (`admin@nvidia.com`) who successfully authenticates with the `site-1` Keycloak system can submit and run jobs on both `site-1` and `site-2`.\n",
    "\n",
    "##### Unauthenticated Admin Users\n",
    "If any of these occur:\n",
    "- Wrong password is provided\n",
    "- Keycloak system is unavailable when starting the admin tool\n",
    "- Authentication fails during job submission\n",
    "\n",
    "Then:\n",
    "- Jobs won't run on `site-1`\n",
    "- `site-1` will display \"ERROR - Authorization failed\"\n",
    "- Jobs can still run successfully on `site-2`\n",
    "- Use `list_jobs -d JOB_ID` to view detailed job deployment information\n",
    "<!-- markdown-link-check-enable -->"
   ]
  },
  {
   "cell_type": "markdown",
   "id": "40073347",
   "metadata": {},
   "source": [
    "Let's try this out"
   ]
  },
  {
   "cell_type": "code",
   "execution_count": null,
   "id": "eadd3f5c",
   "metadata": {},
   "outputs": [],
   "source": [
    "# Prepare the data\n",
    "\n",
    "! python code/data/download.py"
   ]
  },
  {
   "cell_type": "code",
   "execution_count": 20,
   "id": "58688bcd",
   "metadata": {},
   "outputs": [
    {
     "name": "stdout",
     "output_type": "stream",
     "text": [
      "/home/chester/projects/NVFlare/examples/tutorials/self-paced-training/part-3_security_and_privacy/chapter-6_Security_in_federated_compute_system/06.3_site_security/custom_client_side_auth_system_integration/code\n",
      "job-config for fedavg is at  /tmp/nvflare/jobs/workdir/fedavg\n",
      "/home/chester/projects/NVFlare/examples/tutorials/self-paced-training/part-3_security_and_privacy/chapter-6_Security_in_federated_compute_system/06.3_site_security/custom_client_side_auth_system_integration\n"
     ]
    }
   ],
   "source": [
    "# create job config\n",
    "%cd code/\n",
    "\n",
    "! python ./fl_jobs.py\n",
    "\n",
    "%cd -"
   ]
  },
  {
   "cell_type": "code",
   "execution_count": null,
   "id": "355c3624",
   "metadata": {},
   "outputs": [],
   "source": [
    "! nvflare simulator /tmp/nvflare/jobs/workdir/fedavg -w /tmp/nvflare/workspace/tmp"
   ]
  },
  {
   "cell_type": "markdown",
   "id": "5f3de6a0",
   "metadata": {},
   "source": [
    "* Start POC without admin console\n",
    "\n",
    "    ``` nvflare poc start -ex admin@nvidia.com```"
   ]
  },
  {
   "cell_type": "markdown",
   "id": "4228c715",
   "metadata": {},
   "source": [
    "* Start POC admin console in separate terminal\n",
    "\n",
    "    ``` nvflare poc start -p admin@nvidia.com```"
   ]
  },
  {
   "cell_type": "markdown",
   "id": "f7f2dbc4",
   "metadata": {},
   "source": []
  }
 ],
 "metadata": {
  "kernelspec": {
   "display_name": "Python 3",
   "language": "python",
   "name": "python3"
  },
  "language_info": {
   "codemirror_mode": {
    "name": "ipython",
    "version": 3
   },
   "file_extension": ".py",
   "mimetype": "text/x-python",
   "name": "python",
   "nbconvert_exporter": "python",
   "pygments_lexer": "ipython3",
   "version": "3.10.12"
  }
 },
 "nbformat": 4,
 "nbformat_minor": 5
}
