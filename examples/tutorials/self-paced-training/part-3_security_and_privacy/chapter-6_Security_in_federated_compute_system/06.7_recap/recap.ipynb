{
 "cells": [
  {
   "cell_type": "markdown",
   "id": "b41fb737",
   "metadata": {},
   "source": [
    "# Recap: Security in federated compute systems\n",
    "\n",
    "In this chapter, we took a deep dive into FLARE's security features in federated computing systems, including:\n",
    "\n",
    "* Authentication & Authorization\n",
    "* Customized server and client site policies\n",
    "* Communication Security\n",
    "* Message serialization \n",
    "* Trust-based security: Confidential Federated AI use cases"
   ]
  },
  {
   "cell_type": "markdown",
   "id": "e649a974",
   "metadata": {},
   "source": []
  }
 ],
 "metadata": {
  "kernelspec": {
   "display_name": "nvflare_example",
   "language": "python",
   "name": "nvflare_example"
  },
  "language_info": {
   "codemirror_mode": {
    "name": "ipython",
    "version": 3
   },
   "file_extension": ".py",
   "mimetype": "text/x-python",
   "name": "python",
   "nbconvert_exporter": "python",
   "pygments_lexer": "ipython3",
   "version": "3.10.2"
  }
 },
 "nbformat": 4,
 "nbformat_minor": 5
}
