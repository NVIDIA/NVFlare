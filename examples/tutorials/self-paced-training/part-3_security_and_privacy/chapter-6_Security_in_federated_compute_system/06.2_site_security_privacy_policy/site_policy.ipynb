{
 "cells": [
  {
   "cell_type": "markdown",
   "id": "ef224801-e14b-4b8e-92bb-1643364fbef9",
   "metadata": {},
   "source": [
    "# Site-specific security and privacy policies\n",
    "\n",
    "NVIDIA FLARE offers a set of security mechanisms to control user access for different operations based on their roles. These controls are not limited to centralized server control, but also exist at each site. Such site-specific level of security is done via security policies which we call federated policies. \n",
    "\n",
    "[FLARE's Security documentation](https://nvflare.readthedocs.io/en/main/user_guide/security/identity_security.html) has details regarding\n",
    "* Centralized vs. Federated Authorization \n",
    "* Policy Configuration \n",
    "* Roles and Rights\n",
    "* Controls and Conditions\n",
    "* Command Categories\n",
    "* Policy Evaluation\n",
    "* Command Authorization Process\n",
    "* Job Submission authorization process\n",
    "* Job Management Commands authorization \n",
    "\n",
    "This section we are going dive into the usage of these policies via few examples, but first a refresher of terminology used in the examples. \n",
    "\n",
    "n the privacy policy, we notice that different scopes can be defined. The scope-specified policy is enforced by the FLARE's filter mechanism. For each non-public scope, one can define different filters to enforce the desired behavior. For example, the organization administrator can implement filters to prevent certain types of data leakage from being accidentally exposed by data scientists.\n",
    "_____________\n",
    "\n",
    "\n",
    "Refresher: Command Category and Control Notations\n",
    "----------\n",
    "Before we go to the Test Cases, let's refresh some concepts and notatations\n",
    "\n",
    "**Command Category**\n",
    "\n",
    "| permission       | command         |\n",
    "|------------------|-----------------|\n",
    "| MANAGE_JOB       | ABORT           |\n",
    "| MANAGE_JOB       | ABORT_JOB       |\n",
    "| MANAGE_JOB       | START_APP       |\n",
    "| MANAGE_JOB       | DELETE_JOB      |\n",
    "| MANAGE_JOB       | DELETE_WORKSPACE|\n",
    "| VIEW             | CHECK_STATUS    |\n",
    "| VIEW             | SHOW_STATS      |\n",
    "| VIEW             | RESET_ERRORS    |\n",
    "| VIEW             | SHOW_ERRORS     |\n",
    "| VIEW             | LIST_JOBS       |\n",
    "| OPERATE          | SYS_INFO        |\n",
    "| OPERATE          | RESTART         |\n",
    "| OPERATE          | SHUTDOWN        |\n",
    "| OPERATE          | REMOVE_CLIENT   |\n",
    "| OPERATE          | SET_TIMEOUT     |\n",
    "| OPERATE          | CALL            |\n",
    "| SHELL_COMMANDS   | SHELL_CAT       |\n",
    "| SHELL_COMMANDS   | SHELL_GREP      |\n",
    "| SHELL_COMMANDS   | SHELL_HEAD      |\n",
    "| SHELL_COMMANDS   | SHELL_LS        |\n",
    "| SHELL_COMMANDS   | SHELL_PWD       |\n",
    "| SHELL_COMMANDS   | SHELL_TAIL      |\n",
    "\n",
    "\n",
    "\n",
    "**Notation and Condition**\n",
    "\n",
    "| Notation       | Condition                                      | Examples            |\n",
    "|----------------|------------------------------------------------|---------------------|\n",
    "| o:site         | The user belongs to the site’s organization    |                     |\n",
    "| n:submitter    | The user is the job submitter                  |                     |\n",
    "| o:submitter    | The user and the job submitter belong to the same org |             |\n",
    "| n:<person_name>| The user is a specified person                 | n:john@nvidia.com   |\n",
    "| o:<org_name>   | The user is in a specified org                 | o:nvidia            |\n",
    "\n",
    "The words “site” and “submitter” are reserved.\n",
    "\n",
    "In addition, two words are used for extreme conditions:\n",
    "\n",
    "* Any user is allowed: any\n",
    "* No user is allowed: none\n",
    "\n",
    "control is a set of one or more conditions that is specified in the permission matrix. Conditions specify relationships among the subject user, the site, and the job submitter. The following are supported relationships:\n",
    "\n",
    "* The user belongs to the site’s organization (user org = site org)\n",
    "* The user is the job submitter (user name = submitter name)\n",
    "* The user and the job submitter are in the same org (user org = submitter org)\n",
    "* The user is a specified person (user name = specified name)\n",
    "* The user is in a specified org (user org = specified org)\n",
    "* Keep in mind that the relationship is always relative to the subject user - we check to see whether the user’s name or org has the right relationship with the site or job submitter.\n",
    "\n",
    "\n",
    "\n",
    "\n",
    "---- \n",
    "## Overview\n",
    "\n",
    "\n",
    "## Overview\n",
    "\n",
    "Now we are ready to discuss examples for federated site policy. The purpose of these examples is to demonstrate the following features of NVIDIA FLARE:\n",
    "\n",
    "1. Show secure FLARE console and authentication\n",
    "2. Demonstrate local authorization policy \n",
    "3. Demonstrate local privacy policy\n",
    "\n",
    "## Participants\n",
    "\n",
    "Site\n",
    "____\n",
    "* `server`: NVIDIA FLARE server owned by org a\n",
    "* `site_a`: Client owned by a.org with a customized authorization policy, which only allows users from the same org to submit jobs\n",
    "* `site_b`: Client owned by b.org with a customized privacy policy. The policy defines two scopes: `public` and `private`. A custom filter is applied to `private`\n",
    "\n",
    "Users\n",
    "_____\n",
    "*```super@a.org```: Super user with role `project_admin` who can do everything\n",
    "*```admin@a.org```: Admin for a.org with role `org_admin`\n",
    "*```trainer@a.org```: Lead trainer for a.org with role `lead`\n",
    "*```trainer@b.org```: Lead trainer for b.org with role `lead`\n",
    "*```user@b.org```: Regular user for b.org with role `member`\n",
    "\n",
    "Jobs\n",
    "____\n",
    "All the jobs run the same app but have different scopes defined in `meta.json`.\n",
    "\n",
    "* job1: Scope is `public`. No filters.\n",
    "* job2: Scope is `test`. Test filters are applied to data and result.\n",
    "* job3: Scope is `private`. PercentilePrivacy filter is applied to result.\n",
    "* job4: It has no scope defined.\n",
    "* job5: It defines an non-existent scope `foo`\n",
    "\n",
    "\n",
    "\n",
    "### Test Cases\n",
    "----------\n",
    "\n",
    "\n",
    "\n",
    "\n",
    "Test Cases\n",
    "----------\n",
    "\n",
    "Authorization\n",
    "_____________\n",
    "We will demo some authorization behaviors.\n",
    "\n",
    "Since authorization decision is determined using each site's authorization.json and each admin user's role,\n",
    "we just use `job1` in all the following tests.\n",
    "\n",
    "| User           | Command                                      | Expected behavior                                                                 |\n",
    "|----------------|----------------------------------------------|-----------------------------------------------------------------------------------|\n",
    "| trainer@a.org  | submit_job  /tmp/nvflare/jobs/workdir/job_1                        | Job deployed and started on all sites                                             |\n",
    "| trainer@a.org  | clone_job [the job ID that we previous submitted] | Job deployed and started on all sites                                             |\n",
    "| trainer@b.org  | clone_job [the job ID that we previous submitted] | Rejected because submitter is in a different org                                  |\n",
    "| admin@a.org    | submit_job /tmp/nvflare/jobs/workdir/job_1                      | Rejected because role \"org_admin\" is not allowed to submit jobs                   |\n",
    "| trainer@b.org  | submit_job /tmp/nvflare/jobs/workdir/job_1                        | site_a rejected the job because the submitter is in a different org, while site_b accepted the job so the job will still run since in meta.json we specify min_clients as 1 |\n",
    "\n",
    "Privacy\n",
    "_______\n",
    "site_a has no privacy policy defined.\n",
    "So we will test the following cases on site_b.\n",
    "\n",
    "In each job's meta.json we specified their \"scope\" and in site's privacy.json file each site will define its own\n",
    "privacy filters to apply for that scope.\n",
    "\n",
    "Note that default jobs are treated in \"public\" scope.\n",
    "\n",
    "Let's just use user trainer@b.org for the following tests.\n",
    "\n",
    "| Job  | Expected behavior |\n",
    "|------|--------------------|\n",
    "| job1 | Job deployed with no filters |\n",
    "| job2 | Job deployed with TestFilter applied |\n",
    "| job3 | Job deployed with PercentilePrivacy filter applied to the result |\n",
    "| job4 | Job deployed using default scope `public` |\n",
    "| job5 | Job rejected by site_b because `foo` doesn't exist |\n"
   ]
  },
  {
   "cell_type": "markdown",
   "id": "8674b81f",
   "metadata": {},
   "source": [
    "Setup FL System, Site Policies\n",
    "----------"
   ]
  },
  {
   "cell_type": "markdown",
   "id": "5d44b2c4",
   "metadata": {},
   "source": [
    "* Prepare POC with given project.yml file"
   ]
  },
  {
   "cell_type": "code",
   "execution_count": 3,
   "id": "97c7bfa1",
   "metadata": {},
   "outputs": [
    {
     "name": "stdout",
     "output_type": "stream",
     "text": [
      "prepare poc at /tmp/nvflare/poc with code/federated-policies/project.yml\n",
      "This will delete poc workspace directory: '/tmp/nvflare/poc' and create a new one. Is it OK to proceed? (y/N) provision at /tmp/nvflare/poc for 2 clients with code/federated-policies/project.yml\n",
      "Generated results can be found under /tmp/nvflare/poc/fed_policy/prod_00. \n"
     ]
    }
   ],
   "source": [
    "! echo y | nvflare poc prepare -i code/federated-policies/project.yml"
   ]
  },
  {
   "cell_type": "markdown",
   "id": "37a97825",
   "metadata": {},
   "source": [
    "* Setup polices for different sites "
   ]
  },
  {
   "cell_type": "code",
   "execution_count": 7,
   "id": "50540db7",
   "metadata": {},
   "outputs": [],
   "source": [
    "Workspace =  \"/tmp/nvflare/poc/fed_policy/prod_00\""
   ]
  },
  {
   "cell_type": "code",
   "execution_count": null,
   "id": "f9c89760",
   "metadata": {},
   "outputs": [],
   "source": [
    "\n",
    "! cp -r code/federated-policies/policies/site_a/* {Workspace}/site_a/local\n",
    "! cp -r code/federated-policies/policies/site_b/* {Workspace}/site_b/local"
   ]
  },
  {
   "cell_type": "markdown",
   "id": "366b9749",
   "metadata": {},
   "source": [
    "We can take a look at the policies for site_a\n"
   ]
  },
  {
   "cell_type": "code",
   "execution_count": null,
   "id": "091c22fe",
   "metadata": {},
   "outputs": [],
   "source": [
    "!cat {Workspace}/site_a/local/authorization.json"
   ]
  },
  {
   "cell_type": "markdown",
   "id": "521b3607",
   "metadata": {},
   "source": [
    "##### Site-a Security Policy\n",
    "\n",
    "the user \"org_admin\"\n",
    "\n",
    "| Capability       | Permission Scope |\n",
    "|------------------|------------------|\n",
    "| submit_job       | none             |\n",
    "| clone_job        | none             |\n",
    "| manage_job       | o:submitter      |\n",
    "| download_job     | o:submitter      |\n",
    "| view             | any              |\n",
    "| operate          | o:site           |\n",
    "| shell_commands   | o:site           |\n",
    "| byoc             | none             |\n",
    "\n",
    "\n",
    "These table essentially set the policy for the Organization Admin \"org_admin\" \n",
    "* can not submit job \n",
    "* can not clone job\n",
    "* can manage job (such as abort job) for the jobs that submitted by the \"job sbumitter\" from the same organization. The \"job submitter\" is the user who has the submit_job permission \n",
    "* can download the jobs submitted by the same organziation \n",
    "* can view any jobs\n",
    "* can perform shell commands ( see job category for details) from the site of the same organization \n",
    "* can not have byoc (bring your own code): customized code in the \"custom\" directory. \n",
    "\n",
    "Similarly we have other user role policies\n",
    "\n",
    "\n",
    "For the **lead** user\n",
    "\n",
    "| Capability       | Permission Scope |\n",
    "|------------------|------------------|\n",
    "| submit_job       | o:site           |\n",
    "| clone_job        | n:submitter      |\n",
    "| manage_job       | n:submitter      |\n",
    "| download_job     | n:submitter      |\n",
    "| view             | any              |\n",
    "| operate          | o:site           |\n",
    "| shell_commands   | o:site           |\n",
    "| byoc             | any              |\n",
    "\n",
    "The user \"lead\" is a \"submitter\" that can but only can submit to its organizational own site (considering one organization has many sites)\n",
    "\n",
    "\n",
    "\n",
    "For the **member** user\n",
    "\n",
    "| Capability | Permission Scope |\n",
    "|------------|------------------|\n",
    "| view       | any              |\n",
    "\n",
    "    "
   ]
  },
  {
   "cell_type": "markdown",
   "id": "deb08e63",
   "metadata": {},
   "source": [
    "We can take a look at the policies for \n",
    "\n",
    "##### Site_b privacy policy"
   ]
  },
  {
   "cell_type": "code",
   "execution_count": null,
   "id": "08461d9a",
   "metadata": {},
   "outputs": [],
   "source": [
    "!cat {Workspace}/site_b/local/privacy.json"
   ]
  },
  {
   "cell_type": "markdown",
   "id": "319eb7a5",
   "metadata": {},
   "source": [
    "| scope   | default_scope | task_data_filters                       | task_result_filters                                                |\n",
    "|---------|----------------|-----------------------------------------|--------------------------------------------------------------------|\n",
    "| public  | public         |                                         |                                                                    |\n",
    "| test    | public         | test_filter.TestFilter                  | test_filter.TestFilter                                             |\n",
    "| private | public         | test_filter.TestFilter                  | nvflare.app_common.filters.percentile_privacy.PercentilePrivacy    |\n"
   ]
  },
  {
   "cell_type": "markdown",
   "id": "7c84b47b",
   "metadata": {},
   "source": [
    "In the privacy policy, we noticed that there are different scopes can be defined. The scope-specified policy is enforced the the FLARE's filter mechanism. For each non-public scope, one can define the different filters to enforce the desired behavior.  For example, the organization administrator can instrument filter to prevent certain type of data leakage accidentally exposed by data sicentists\n",
    "\n",
    "The filters are look like this: \n"
   ]
  },
  {
   "cell_type": "code",
   "execution_count": null,
   "id": "ff5ac5f1",
   "metadata": {},
   "outputs": [],
   "source": [
    "!tree {Workspace}/site_b/local"
   ]
  },
  {
   "cell_type": "markdown",
   "id": "519dc42f",
   "metadata": {},
   "source": [
    "Let's prepare the jobs. we have five different jobs each have different groups. \n",
    "\n",
    "##### Create Job Configs"
   ]
  },
  {
   "cell_type": "code",
   "execution_count": 4,
   "id": "26f9cf38",
   "metadata": {},
   "outputs": [
    {
     "name": "stdout",
     "output_type": "stream",
     "text": [
      "/home/chester/projects/NVFlare/examples/tutorials/self-paced-training/part-3_security_and_privacy/chapter-6_Security_in_federated_compute_system/06.3_site_security_privacy_policy/code/federated-policies/jobs\n"
     ]
    },
    {
     "name": "stderr",
     "output_type": "stream",
     "text": [
      "/home/chester/.local/lib/python3.10/site-packages/IPython/core/magics/osm.py:417: UserWarning: This is now an optional IPython functionality, setting dhist requires you to install the `pickleshare` library.\n",
      "  self.shell.db['dhist'] = compress_dhist(dhist)[-100:]\n"
     ]
    },
    {
     "name": "stdout",
     "output_type": "stream",
     "text": [
      "job-config is at  /tmp/nvflare/jobs/workdir/job_1\n",
      "job-config is at  /tmp/nvflare/jobs/workdir/job_2\n",
      "job-config is at  /tmp/nvflare/jobs/workdir/job_3\n",
      "job-config is at  /tmp/nvflare/jobs/workdir/job_4\n",
      "job-config is at  /tmp/nvflare/jobs/workdir/job_5\n",
      "/home/chester/projects/NVFlare/examples/tutorials/self-paced-training/part-3_security_and_privacy/chapter-6_Security_in_federated_compute_system/06.3_site_security_privacy_policy\n"
     ]
    }
   ],
   "source": [
    "%cd code/federated-policies/jobs\n",
    "\n",
    "! python fl_job.py\n",
    "\n",
    "%cd -"
   ]
  },
  {
   "cell_type": "code",
   "execution_count": null,
   "id": "c9cef14a",
   "metadata": {},
   "outputs": [],
   "source": [
    "!cat   /tmp/nvflare/jobs/workdir/job_3/meta.json"
   ]
  },
  {
   "cell_type": "markdown",
   "id": "8cc01a6e",
   "metadata": {},
   "source": [
    "### Start FL System and Run Jobs\n",
    "\n",
    "Start POC with \n",
    "\n",
    "```nvflare poc start \n"
   ]
  },
  {
   "cell_type": "code",
   "execution_count": null,
   "id": "89b58024",
   "metadata": {},
   "outputs": [],
   "source": []
  }
 ],
 "metadata": {
  "kernelspec": {
   "display_name": "Python 3",
   "language": "python",
   "name": "python3"
  },
  "language_info": {
   "codemirror_mode": {
    "name": "ipython",
    "version": 3
   },
   "file_extension": ".py",
   "mimetype": "text/x-python",
   "name": "python",
   "nbconvert_exporter": "python",
   "pygments_lexer": "ipython3",
   "version": "3.10.12"
  }
 },
 "nbformat": 4,
 "nbformat_minor": 5
}
