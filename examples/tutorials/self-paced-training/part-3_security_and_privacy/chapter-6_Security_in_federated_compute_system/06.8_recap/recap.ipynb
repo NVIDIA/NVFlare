{
 "cells": [
  {
   "cell_type": "markdown",
   "id": "b41fb737",
   "metadata": {},
   "source": [
    "# Recap: Secirity in federated compute system\n",
    "\n",
    "In this chapter, we had a deep dive into the FLARE's security features in federated computing system including\n",
    "\n",
    "* Authentication & Authorization\n",
    "* customized server, client site polices. \n",
    "* Communication Security\n",
    "* message serialization \n",
    "* trust-based security: Confidential Federated AI use cases\n",
    "\n"
   ]
  },
  {
   "cell_type": "markdown",
   "id": "e649a974",
   "metadata": {},
   "source": []
  }
 ],
 "metadata": {
  "kernelspec": {
   "display_name": "nvflare_example",
   "language": "python",
   "name": "nvflare_example"
  },
  "language_info": {
   "codemirror_mode": {
    "name": "ipython",
    "version": 3
   },
   "file_extension": ".py",
   "mimetype": "text/x-python",
   "name": "python",
   "nbconvert_exporter": "python",
   "pygments_lexer": "ipython3",
   "version": "3.10.2"
  }
 },
 "nbformat": 4,
 "nbformat_minor": 5
}
