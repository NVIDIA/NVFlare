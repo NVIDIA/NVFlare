{
 "cells": [
  {
   "cell_type": "markdown",
   "id": "ceca45d8-437c-44ae-8ed9-7a784983731f",
   "metadata": {},
   "source": [
    "\n",
    "## **Security in NVIDIA FLARE Federated Computing Systems**  \n",
    "\n",
    "Federated Computing System requires robust security mechanisms to ensure that only legitimate and trusted participants contribute, while also protecting communication channels and enforcing authorization policies. Below are the critical security components of an FL system: \n",
    "\n",
    "* **Authentication**\n",
    "\n",
    "Ensures communicating parties have enough confidence about each other’s identities: everyone is who they claim to be.\n",
    "\n",
    "* **Authorization** \n",
    "\n",
    "Ensures that the user can only do what he/she is authorized to do.\n",
    "\n",
    "Due to the distributed nature of federated computing system, additional authentications and authorization are needed for each participate organizations. \n",
    "\n",
    "You can find out how NVIDIA FLARE instrumented these via event-based Federated Authentication and authorization\n",
    "\n",
    "* **Privacy Protection**: \n",
    "\n",
    "Another aspect of security is privacy protection.Privacy protection in Federated Learning (FL) refers to techniques and mechanisms that ensure sensitive user data remains private while enabling collaborative model training across decentralized devices or servers. Since FL involves training models without sharing raw data, privacy protection is crucial to prevent information leakage from model updates.\n",
    "\n",
    "We have introduced different privacy enhancement technologies (PETs) in [Chapter 5](../../chapter-5_Privacy_In_Federated_Learning/05.0_introduction/introduction.ipynb), here we are going to explore what's privacy protection mechanism at the organization level. \n",
    "\n",
    "* **Trust-based security** \n",
    "\n",
    "Trust-based mechanism will adding another layer of protection to the security mechansim leveraging confidential computing's VM-based trust execution environment (TEE), NVIDIA FLARE will enable end-to-end confidential federated AI. We will brief touch on it in this chapter. The details will be added in the future. \n",
    "\n",
    "\n",
    "* **Communication Security**\n",
    "\n",
    "Use of Secure Protocols – TLS for secure transmission. FLARE support both mutual TLS (mTLS) as well normal TLS with signed message \n",
    "\n",
    "\n",
    "\n",
    "\n",
    "\n",
    "\n",
    "\n",
    "\n"
   ]
  },
  {
   "cell_type": "markdown",
   "id": "c7a65a24",
   "metadata": {},
   "source": []
  }
 ],
 "metadata": {
  "kernelspec": {
   "display_name": "nvflare_example",
   "language": "python",
   "name": "nvflare_example"
  },
  "language_info": {
   "codemirror_mode": {
    "name": "ipython",
    "version": 3
   },
   "file_extension": ".py",
   "mimetype": "text/x-python",
   "name": "python",
   "nbconvert_exporter": "python",
   "pygments_lexer": "ipython3",
   "version": "3.10.2"
  }
 },
 "nbformat": 4,
 "nbformat_minor": 5
}
