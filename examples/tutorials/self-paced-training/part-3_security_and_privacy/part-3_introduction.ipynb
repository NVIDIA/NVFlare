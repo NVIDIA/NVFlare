{
 "cells": [
  {
   "cell_type": "markdown",
   "id": "138c1fed",
   "metadata": {},
   "source": [
    "# Part 3: Security and Privacy in Federated Learning with NVIDIA FLARE\n",
    "\n",
    "Federated Learning (FL) enables decentralized model training while preserving data privacy, making it ideal for sensitive domains like healthcare and finance. However, FL introduces security and privacy risks, such as data leakage, adversarial attacks, and model integrity threats.\n",
    "\n",
    "## What You'll Learn\n",
    "\n",
    "- Privacy risks and attack vectors in federated learning\n",
    "- Protections: differential privacy, secure aggregation, homomorphic encryption\n",
    "- Security challenges: adversarial attacks, unauthorized access, communication threats\n",
    "- Security solutions: authentication, RBAC, encrypted communication, trust mechanisms\n",
    "- How NVIDIA FLARE implements robust security and privacy for federated learning\n",
    "\n",
    "## Chapters Overview\n",
    "\n",
    "### Chapter 5: Privacy in Federated Learning [[View on GitHub](https://github.com/NVIDIA/NVFlare/blob/main/examples/tutorials/self-paced-training/part-3_security_and_privacy/chapter-5_Privacy_In_Federated_Learning/05.0_introduction/introduction.ipynb)]\n",
    "- Understand privacy risks and attacks in federated learning\n",
    "- Explore privacy-preserving techniques with NVIDIA FLARE\n",
    "\n",
    "### Chapter 6: Security in Federated Computing System [[View on GitHub](https://github.com/NVIDIA/NVFlare/blob/main/examples/tutorials/self-paced-training/part-3_security_and_privacy/chapter-6_Security_in_federated_compute_system/06.0_introduction/introduction.ipynb)]\n",
    "- Learn about security threats and solutions in federated learning\n",
    "- See how NVIDIA FLARE enforces secure communication, authentication, and access control\n",
    "\n",
    "## Tips\n",
    "\n",
    "- Each notebook is self-contained; start with any topic of interest.\n",
    "- For a thorough understanding, follow the chapters sequentially.\n",
    "- Refer to the official NVIDIA FLARE documentation for more detail and troubleshooting."
   ]
  }
 ],
 "metadata": {
  "language_info": {
   "name": "python"
  }
 },
 "nbformat": 4,
 "nbformat_minor": 2
}
