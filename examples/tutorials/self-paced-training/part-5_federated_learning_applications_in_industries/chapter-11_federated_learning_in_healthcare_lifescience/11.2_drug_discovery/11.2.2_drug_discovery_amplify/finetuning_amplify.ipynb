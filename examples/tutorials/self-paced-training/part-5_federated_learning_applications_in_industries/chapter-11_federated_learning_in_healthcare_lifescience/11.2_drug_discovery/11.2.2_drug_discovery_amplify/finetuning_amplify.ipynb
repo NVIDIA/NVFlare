{
 "cells": [
  {
   "cell_type": "markdown",
   "id": "f1854999-9b80-4277-ae4c-c8d8c979b3b8",
   "metadata": {},
   "source": [
    "# Federated Fine-tuning of an AMPLIFY Model\n",
    "\n",
    "This example demonstrates how to use the AMPLIFY protein language model from [chandar-lab/AMPLIFY](https://github.com/chandar-lab/AMPLIFY) for fine-tuning on multiple downstream tasks. AMPLIFY is a powerful protein language model that can be adapted for various protein-related tasks. In this example, we'll show how to fine-tune AMPLIFY for the prediction of several protein properties using antibody sequence data. For more details, please refer this [paper](https://www.biorxiv.org/content/10.1101/2024.09.23.614603v1).\n",
    "\n",
    "Note, this script assumes a regular Python environment and doesn't rely on running Docker as in the previous example. For running AMPLIFY within the BioNeMo Framework, please see [here](https://docs.nvidia.com/bionemo-framework/latest/models/amplify/)."
   ]
  },
  {
   "cell_type": "markdown",
   "id": "7aeb2778",
   "metadata": {},
   "source": [
    "### Prerequisits\n",
    "First download the data and install the required dependencies.\n",
    "\n",
    "### Dataset\n",
    "\n",
    "Before running the data preparation script, you need to clone the FLAb repository to obtain the required data:"
   ]
  },
  {
   "cell_type": "code",
   "execution_count": null,
   "id": "c1ea023f",
   "metadata": {},
   "outputs": [],
   "source": [
    "!git clone https://github.com/Graylab/FLAb.git"
   ]
  },
  {
   "cell_type": "markdown",
   "id": "316c617a",
   "metadata": {},
   "source": [
    "The FLAb repository contains experimental data for six properties of therapeutic antibodies: Expression, thermostability, immunogenicity, aggregation, polyreactivity, and binding affinity."
   ]
  },
  {
   "cell_type": "markdown",
   "id": "77b79c4f",
   "metadata": {},
   "source": [
    "First, we clone the AMPLIFY code and install it as a local pip package following the instructions [here](https://github.com/chandar-lab/AMPLIFY?tab=readme-ov-file#installation-as-a-local-pip-package). \n",
    "\n",
    "Note, we recommend creating a new virtual enviornment to run this JupyterLab Python kernel before installing the dependencies."
   ]
  },
  {
   "cell_type": "code",
   "execution_count": null,
   "id": "075c610f",
   "metadata": {},
   "outputs": [],
   "source": [
    "!git clone https://github.com/chandar-lab/AMPLIFY\n",
    "!pip install --upgrade pip\n",
    "!pip install --editable AMPLIFY[dev]"
   ]
  },
  {
   "cell_type": "markdown",
   "id": "7b6ed53b",
   "metadata": {},
   "source": [
    "Furthermore, we install the required dependencies for this example:"
   ]
  },
  {
   "cell_type": "code",
   "execution_count": null,
   "id": "fe56bfc2",
   "metadata": {},
   "outputs": [],
   "source": [
    "!pip install -r requirements.txt"
   ]
  },
  {
   "cell_type": "markdown",
   "id": "23c866a6",
   "metadata": {},
   "source": [
    "## Federated Multi-task Fine-tuning\n",
    "\n",
    "In this scenario, each client trains a different downstream task from the [FLAb](https://github.com/Graylab/FLAb.git) antibody fitness datasets using a custom regression head. At the same time, they jointly fine-tune the AMPLIFY pretrained model trunk to benefit from each other using **Federated Learning (FL)**.\n",
    "\n",
    "<div style=\"display: flex; justify-content: center; margin: 20px 0;\">\n",
    "<img src=\"./figs/amplify_multi_task.svg\" alt=\"AMPLIFY model for multi-task fine-tuning\" style=\"width: 400px;\"/>\n",
    "</div>\n",
    "\n",
    "The process involves:\n",
    "1. Obtaining antibody sequence data from [FLAb](https://github.com/Graylab/FLAb.git)\n",
    "2. Preparing the data for fine-tuning combining \"light\" and \"heavy\" antibody sequences with a \"|\" separator and splitting the data into clients.\n",
    "3. Fine-tuning the AMPLIFY model for binding affinity prediction in two scenarios:\n",
    "    - Local training: Each data owner/client trains only on their local data.\n",
    "    - Federated learning: We use the federated averaging algorithm to jointly train a global model on all the clients' data.\n",
    "\n",
    "To allow clients to keep their regressor model local, we simply add a NVFlare [filter](https://nvflare.readthedocs.io/en/main/programming_guide/filters.html#filters) that removes the local regression layers before returning the updated AMPLIFY trunk to the server for aggregation. See the [run_fl_multitask.py](run_fl_multitask.py) where we add the [ExcludeParamsFilter](src/filters.py) filter."
   ]
  },
  {
   "cell_type": "markdown",
   "id": "04961609",
   "metadata": {},
   "source": [
    "### Data Preparation\n",
    "\n",
    "The [combine_data.py](src/combine_data.py) script is used to prepare data for sequence classification. It processes CSV files containing 'heavy' and 'light' feature columns, combines them, and splits the data into training and test sets for each task.\n",
    "\n",
    "**Combine the CSV Datasets**"
   ]
  },
  {
   "cell_type": "code",
   "execution_count": null,
   "id": "7874200b",
   "metadata": {},
   "outputs": [],
   "source": [
    "for task in [\"aggregation\", \"binding\", \"expression\", \"immunogenicity\", \"polyreactivity\", \"tm\"]:\n",
    "    print(\"Combing $task CSV data\")\n",
    "    !python src/combine_data.py --input_dir ./FLAb/data/$task --output_dir ./FLAb/data_fl/$task\n"
   ]
  },
  {
   "cell_type": "markdown",
   "id": "4edbf9c1",
   "metadata": {},
   "source": [
    "This will:\n",
    "1. Read all CSV files from the `data` directory for each of the six antibody properties (aggregation, binding, expression, immunogenicity, polyreactivity, and thermostability)\n",
    "2. Combine the 'heavy' and 'light' columns with a '|' separator into a 'combined' column\n",
    "3. Split the data into training (80%) and test (20%) sets\n",
    "5. Save the processed data to the specified output directory"
   ]
  },
  {
   "cell_type": "markdown",
   "id": "0f8b5f72",
   "metadata": {},
   "source": [
    "### Experiments\n",
    "The following experiments use the [120M AMPLIFY](https://huggingface.co/chandar-lab/AMPLIFY_120M) pretrained model from HuggingFace. It was tested using three NVIDIA A100 GPUs with 80 GB memory each.\n",
    "With the 120M AMPLIFY model, we can run two clients on each GPU as specified by the ``--sim_gpus`` argument to `run_fl_*.py`.\n"
   ]
  },
  {
   "cell_type": "markdown",
   "id": "eb22ce40",
   "metadata": {},
   "source": [
    "#### Local Training\n",
    "First we run the local training. Here, each data owner/client trains only on their local data. As we only run 1 round, the clients will never get the benefit of the updated global model and can only learn from their own data.\n",
    "\n",
    "This command will:\n",
    "1. Run federated learning with 6 clients (one for each task)\n",
    "2. Perform one round of training with NVFlare\n",
    "3. Each client will train for 10 local epochs per round\n",
    "4. Use the 120M parameter AMPLIFY model by default\n",
    "5. Configure the regression MLP with layer sizes [128, 64, 32]\n",
    "\n",
    "Note, you can monitor the training progress with TensorBoard by running `tensorboard --logdir /tmp/nvflare/AMPLIFY` in a separate terminal.\n",
    "\n",
    "\n",
    "<div class=\"alert alert-block alert-info\"> <b>NOTE:</b> To speed up the results, we only run for a few local epochs. However, can see the resulting plots below when running for `local_epochs=600` and `num_rounds=600` in the local and federated, respectively.</div>"
   ]
  },
  {
   "cell_type": "code",
   "execution_count": null,
   "id": "26acdb7c",
   "metadata": {},
   "outputs": [],
   "source": [
    "!python run_fl_multitask.py \\\n",
    "    --num_rounds 1 \\\n",
    "    --local_epochs 10 \\\n",
    "    --pretrained_model \"chandar-lab/AMPLIFY_120M\" \\\n",
    "    --layer_sizes \"128,64,32\" \\\n",
    "    --exp_name \"local_singletask\" \\\n",
    "    --sim_gpus \"0,1,2,0,1,2\""
   ]
  },
  {
   "cell_type": "markdown",
   "id": "029f9cab",
   "metadata": {},
   "source": [
    "### Federated Learning\n",
    "Next, we run the same data setting but using the federated averaging ([FedAvg](https://arxiv.org/abs/1602.05629)) algorithm.\n",
    "\n",
    "This command will:\n",
    "1. Run federated learning with 6 clients (one for each task)\n",
    "2. Perform 10 rounds of federated averaging\n",
    "3. Each client will train for 1 local epoch per round\n",
    "4. Use the 120M parameter AMPLIFY model by default\n",
    "5. Configure the regression MLP with layer sizes [128, 64, 32]"
   ]
  },
  {
   "cell_type": "code",
   "execution_count": null,
   "id": "88c5a2bc",
   "metadata": {},
   "outputs": [],
   "source": [
    "!python run_fl_multitask.py \\\n",
    "    --num_rounds 10 \\\n",
    "    --local_epochs 1 \\\n",
    "    --pretrained_model \"chandar-lab/AMPLIFY_120M\" \\\n",
    "    --layer_sizes \"128,64,32\" \\\n",
    "    --exp_name \"fedavg_multitask\" \\\n",
    "    --sim_gpus \"0,1,2,0,1,2\""
   ]
  },
  {
   "cell_type": "markdown",
   "id": "d78a5159",
   "metadata": {},
   "source": [
    "### 1.3 Visualize the results\n",
    "\n",
    "Apart from monitoring the progress with TensorBoard, you can also use the plotting code in [figs/plot_training_curves.py](./figs/plot_training_curves.py) to load the generated TensorBoard event files and compare the performance \"local\" vs. \"fedavg\" experiments for each task. Here's an example of how to use it:"
   ]
  },
  {
   "cell_type": "code",
   "execution_count": null,
   "id": "57ae1119",
   "metadata": {},
   "outputs": [],
   "source": [
    "# Plot RMSE metrics for all tasks\n",
    "!python figs/plot_training_curves.py \\\n",
    "    --log_dir /tmp/nvflare/AMPLIFY/multitask \\\n",
    "    --output_dir ./figs/tb_figs_rmse \\\n",
    "    --tag \"RMSE/local_test\" \\\n",
    "    --out_metric \"RMSE\""
   ]
  },
  {
   "cell_type": "code",
   "execution_count": null,
   "id": "2aaa13f7",
   "metadata": {},
   "outputs": [],
   "source": [
    "# Plot training Pearson coefficients for all tasks\n",
    "!python figs/plot_training_curves.py \\\n",
    "    --log_dir /tmp/nvflare/AMPLIFY/multitask \\\n",
    "    --output_dir ./figs/tb_figs_pearson \\\n",
    "    --tag \"Pearson/local_test\" \\\n",
    "    --out_metric \"Pearson\""
   ]
  },
  {
   "cell_type": "markdown",
   "id": "e0e0786b",
   "metadata": {},
   "source": [
    "This will generate plots for each task comparing the local and federated training performance, saving them as both PNG and SVG files in the specified output directory. The plots will show the progression of the specified metric (RMSE or Pearson coefficients) over training steps for both local and federated training approaches."
   ]
  },
  {
   "cell_type": "markdown",
   "id": "26016f1b",
   "metadata": {},
   "source": [
    "**120M AMPLIFY Multi-task Fine-tuning Results**\n",
    "\n",
    "We plot the RMSE and Pearson Coefficients for different downstream tasks (lower is better): \"aggregation\", \"binding\", \"expression\", \"immunogenicity\", \"polyreactivity\", and \"Thermostability (tm)\". As can be observed, the models trained using FedAvg can achieve lower RMSE values for several downstream tasks compared to the locally only trained counterparts on the test set. \n",
    "\n",
    "Pearson Coefficients closer to 1.0 would indicate a direct positive correlation between the ground truth and predicted values. It can be observed that several downstream tasks are challenging for the 120M and only achieve low correlation scores. See the [FLAb paper](https://www.biorxiv.org/content/10.1101/2024.01.13.575504v1) for comparison. However, the FedAvg experiment shows benefits for several downstream tasks.\n",
    "\n",
    "> Note, by default, we smooth the training curves with a smoothing window of 30 (controlled by the `smoothing_window` argument).\n",
    "\n",
    "### Root Mean Squared Error\n",
    "<div style=\"display: flex; justify-content: center; gap: 20px; flex-wrap: nowrap;\">\n",
    "<img src=\"./figs/tb_figs_rmse/aggregation.svg\" alt=\"Aggregation\" style=\"width: 300px; flex-shrink: 0;\"/>\n",
    "<img src=\"./figs/tb_figs_rmse/binding.svg\" alt=\"Binding\" style=\"width: 300px; flex-shrink: 0;\"/>\n",
    "<img src=\"./figs/tb_figs_rmse/expression.svg\" alt=\"Expression\" style=\"width: 300px; flex-shrink: 0;\"/>\n",
    "</div>\n",
    "\n",
    "<div style=\"display: flex; justify-content: center; gap: 20px; flex-wrap: nowrap;\">\n",
    "<img src=\"./figs/tb_figs_rmse/immunogenicity.svg\" alt=\"Immunogenicity\"  style=\"width: 300px; flex-shrink: 0;\">\n",
    "<img src=\"./figs/tb_figs_rmse/polyreactivity.svg\" alt=\"Polyreactivity\"  style=\"width: 300px; flex-shrink: 0;\">\n",
    "<img src=\"./figs/tb_figs_rmse/tm.svg\" alt=\"Thermostability\"  style=\"width: 300px; flex-shrink: 0;\">\n",
    "</div>\n",
    "\n",
    "\n",
    "### Pearson Coefficient\n",
    "<div style=\"display: flex; justify-content: center; gap: 20px; flex-wrap: nowrap;\">\n",
    "<img src=\"./figs/tb_figs_pearson/aggregation.svg\" alt=\"Aggregation\" style=\"width: 300px; flex-shrink: 0;\"/>\n",
    "<img src=\"./figs/tb_figs_pearson/binding.svg\" alt=\"Binding\" style=\"width: 300px; flex-shrink: 0;\"/>\n",
    "<img src=\"./figs/tb_figs_pearson/expression.svg\" alt=\"Expression\" style=\"width: 300px; flex-shrink: 0;\"/>\n",
    "</div>\n",
    "\n",
    "<div style=\"display: flex; justify-content: center; gap: 20px; flex-wrap: nowrap;\">\n",
    "<img src=\"./figs/tb_figs_pearson/immunogenicity.svg\" alt=\"Immunogenicity\"  style=\"width: 300px; flex-shrink: 0;\">\n",
    "<img src=\"./figs/tb_figs_pearson/polyreactivity.svg\" alt=\"Polyreactivity\"  style=\"width: 300px; flex-shrink: 0;\">\n",
    "<img src=\"./figs/tb_figs_pearson/tm.svg\" alt=\"Thermostability\"  style=\"width: 300px; flex-shrink: 0;\">\n",
    "</div>"
   ]
  },
  {
   "cell_type": "markdown",
   "id": "47600ab5",
   "metadata": {},
   "source": [
    "## Summary\n",
    "\n",
    "This notebook demonstrates federated fine-tuning of the AMPLIFY protein language model for drug discovery applications. Here are the key components and steps covered:\n",
    "\n",
    "1. **Setup and Dependencies**\n",
    "   - Installation of AMPLIFY and required dependencies\n",
    "   - Setup of the FLAb repository containing experimental data for therapeutic antibodies\n",
    "\n",
    "2. **Data Preparation**\n",
    "   - Processing of six antibody properties: aggregation, binding, expression, immunogenicity, polyreactivity, and thermostability\n",
    "   - Data splitting into training (80%) and test (20%) sets\n",
    "   - Combination of heavy and light chain sequences\n",
    "\n",
    "3. **Model Architecture**\n",
    "   - Based on the 120M AMPLIFY pretrained model\n",
    "   - Transformer-based architecture with 24 encoder blocks\n",
    "   - Custom regression head with layer sizes [128, 64, 32]\n",
    "   - Total parameters: ~118M\n",
    "\n",
    "4. **Training Process**\n",
    "   - Federated learning setup with multiple clients\n",
    "   - Learning rates: Trunk (0.0001) and Regressor (0.01)\n",
    "   - Training metrics tracked: MSE loss, RMSE loss, and Pearson correlation\n",
    "   - Model evaluation on test sets for each property\n",
    "\n",
    "5. **Results**\n",
    "   - Performance metrics tracked across different antibody properties\n",
    "   - Visualization of training progress and model predictions\n",
    "   - Comparison of federated vs. centralized training approaches\n",
    "\n",
    "This example showcases how federated learning can be applied to drug discovery tasks while maintaining data privacy across different research institutions.\n",
    "\n",
    "Let's recap, what we learned in this [chapter](../../11.3_recap/recap.ipynb)."
   ]
  }
 ],
 "metadata": {
  "kernelspec": {
   "display_name": ".venv",
   "language": "python",
   "name": "python3"
  },
  "language_info": {
   "codemirror_mode": {
    "name": "ipython",
    "version": 3
   },
   "file_extension": ".py",
   "mimetype": "text/x-python",
   "name": "python",
   "nbconvert_exporter": "python",
   "pygments_lexer": "ipython3",
   "version": "3.10.12"
  }
 },
 "nbformat": 4,
 "nbformat_minor": 5
}
