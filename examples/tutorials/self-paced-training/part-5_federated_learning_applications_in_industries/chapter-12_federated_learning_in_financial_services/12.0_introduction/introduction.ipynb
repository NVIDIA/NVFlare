{
 "cells": [
  {
   "cell_type": "markdown",
   "id": "84c0c9f9-ed49-4070-81f1-d255dd8a3dce",
   "metadata": {},
   "source": [
    "# Federated Learning in Financial Services\n",
    "## End-to-End Example of a Federated Fraud Detection Model\n",
    "This chapter includes an end-to-end example demonstrating the use of federated learning in a financial application - credit card fraud detection.\n",
    "\n",
    "The experiments are based on the [kaggle credit card fraud dataset](https://www.kaggle.com/datasets/mlg-ulb/creditcardfraud).\n",
    "\n",
    "As compared with other tutorails, in this chapter to illustrate the end-to-end process that is realistic for a specific financial application of fraud detection model based on tabular data, handcrafted and GNN-based feature enrichment, and XGBoost classification model learning. Our primary goal is to showcase the process with a dataset at realistic scale.\n",
    "\n",
    "The overall steps of the end-to-end process include the following:"
   ]
  },
  {
   "cell_type": "markdown",
   "id": "29c44b19-be11-4d05-b0bd-76a623966d51",
   "metadata": {},
   "source": [
    "## Step 1: Data Preparation \n",
    "First, we prepare the data by adding random transactional information to the base creditcard dataset. To extend the dataset to be more realistic, we manually duplicated the records to extend the data time span from 2 days to over 2 years, and added random transactional information. \n",
    "## Step 2: Feature Analysis\n",
    "Second, we analyze the data, understand the features, and derive (and encode) secondary features that can be more useful for building the model. Rule-based and GNN-based feature enrichments can be adapted.\n",
    "## Step 3: Federated XGBoost \n",
    "With the enriched data, we can fit them with federated XGBoost. "
   ]
  },
  {
   "cell_type": "markdown",
   "id": "8f0d090a-fbeb-437c-b6c3-68aea50d3244",
   "metadata": {},
   "source": [
    "Now let's move on to see the details of this [end-to-end illustration](../12.1_end_to_end_federated_fraud_detection/end_to_end_federated_fruad_detection_process.ipynb), after which we will do a [recap](../12.2_recap/recap.ipynb)."
   ]
  },
  {
   "cell_type": "code",
   "execution_count": null,
   "id": "5f3916f6-493d-49d4-96d8-daccf5ded8dd",
   "metadata": {},
   "outputs": [],
   "source": []
  }
 ],
 "metadata": {
  "kernelspec": {
   "display_name": "Python 3 (ipykernel)",
   "language": "python",
   "name": "python3"
  },
  "language_info": {
   "codemirror_mode": {
    "name": "ipython",
    "version": 3
   },
   "file_extension": ".py",
   "mimetype": "text/x-python",
   "name": "python",
   "nbconvert_exporter": "python",
   "pygments_lexer": "ipython3",
   "version": "3.10.0"
  }
 },
 "nbformat": 4,
 "nbformat_minor": 5
}
