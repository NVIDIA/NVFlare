{
 "cells": [
  {
   "cell_type": "markdown",
   "id": "d3459c02-8d0b-4882-8582-a16814b54cb7",
   "metadata": {},
   "source": [
    "# Summary of Chapter 12\n",
    "In this chapter, we visited an end-to-end example for federated fraud detection use case in financial services, utilizing several techniques including GNN, XGBoost, and NVFlare. Raw data will first be enriched via rule-based and GNN-based techniques, then federated XGBoost model can be trained with the processed data, simulating a realistic process that can be adapted in real-world applications. "
   ]
  },
  {
   "cell_type": "code",
   "execution_count": null,
   "id": "c41b89b0-4fcc-45c3-9468-e43c45305b03",
   "metadata": {},
   "outputs": [],
   "source": []
  }
 ],
 "metadata": {
  "kernelspec": {
   "display_name": "Python 3 (ipykernel)",
   "language": "python",
   "name": "python3"
  },
  "language_info": {
   "codemirror_mode": {
    "name": "ipython",
    "version": 3
   },
   "file_extension": ".py",
   "mimetype": "text/x-python",
   "name": "python",
   "nbconvert_exporter": "python",
   "pygments_lexer": "ipython3",
   "version": "3.10.0"
  }
 },
 "nbformat": 4,
 "nbformat_minor": 5
}
