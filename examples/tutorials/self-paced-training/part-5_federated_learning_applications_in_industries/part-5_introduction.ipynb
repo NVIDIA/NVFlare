{
 "cells": [
  {
   "cell_type": "markdown",
   "id": "d0dc8728",
   "metadata": {},
   "source": [
    "# Part 5: Federated Learning Applications in Different Industries with NVIDIA FLARE\n",
    "\n",
    "This section demonstrates how NVIDIA FLARE is applied in real-world industry settings, focusing on healthcare, life sciences, and financial services. Learn how federated learning enables collaboration, privacy, and innovation across organizations.\n",
    "\n",
    "## What You'll Learn\n",
    "\n",
    "- How NVIDIA FLARE powers collaborative machine learning in healthcare and life sciences, including:\n",
    "  - Medical image analysis (e.g., cancer detection, radiology)\n",
    "  - Survival analysis (e.g., Kaplan-Meier)\n",
    "  - Genomics and multi-institutional research\n",
    "  - Drug discovery (if specifically covered)\n",
    "- Financial services applications, such as:\n",
    "  - Fraud detection\n",
    "  - Anomaly detection in transactions\n",
    "\n",
    "## Chapters Overview\n",
    "\n",
    "### Chapter 11: Federated Learning in Healthcare and Life Sciences [[View on GitHub](https://github.com/NVIDIA/NVFlare/blob/main/examples/tutorials/self-paced-training/part-5_federated_learning_applications_in_industries/chapter-11_federated_learning_in_healthcare_lifescience/11.0_introduction/introduction.ipynb)]\n",
    "- Use cases for NVIDIA FLARE in medical research, diagnostics, and drug discovery\n",
    "- How to train robust, privacy-preserving models across hospitals and research centers\n",
    "\n",
    "### Chapter 12: Federated Learning in Financial Services [[View on GitHub](https://github.com/NVIDIA/NVFlare/blob/main/examples/tutorials/self-paced-training/part-5_federated_learning_applications_in_industries/chapter-12_federated_learning_in_financial_services/12.0_introduction/introduction.ipynb)]\n",
    "- Collaborative model training for fraud detection, credit risk, and regulatory compliance\n",
    "\n",
    "## Tips\n",
    "\n",
    "- Each notebook is self-contained; start with any topic of interest.\n",
    "- For a comprehensive understanding, follow the chapters sequentially.\n",
    "- Refer to the official NVIDIA FLARE documentation for more details and troubleshooting."
   ]
  }
 ],
 "metadata": {
  "language_info": {
   "name": "python"
  }
 },
 "nbformat": 4,
 "nbformat_minor": 2
}
