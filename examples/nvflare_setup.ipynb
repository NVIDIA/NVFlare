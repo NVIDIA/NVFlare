{
 "cells": [
  {
   "cell_type": "markdown",
   "id": "4fafdd07-51e1-469c-84d8-c57a61daa28c",
   "metadata": {},
   "source": [
    "# NVFLARE Installation\n",
    "\n",
    "You can find more details in [Getting_Started](https://nvflare.readthedocs.io/en/main/getting_started.html) to setup virtual environment and install NVFLARE. Here mostly just make quick actions\n",
    " "
   ]
  },
  {
   "cell_type": "markdown",
   "id": "64ba2b87-d3be-4058-8156-9ef589bce9cf",
   "metadata": {},
   "source": [
    "### Install NVFLARE from PyPI\n"
   ]
  },
  {
   "cell_type": "code",
   "execution_count": null,
   "id": "c654300a-e1b5-423e-af0c-3e68dd31d533",
   "metadata": {},
   "outputs": [],
   "source": [
    "!python -m pip install nvflare"
   ]
  },
  {
   "cell_type": "markdown",
   "id": "6374c7b0-31d2-48db-8907-a3ca0bdd4a22",
   "metadata": {},
   "source": [
    "if you want to work with previous version, such as 2.2.5, you can do \n"
   ]
  },
  {
   "cell_type": "code",
   "execution_count": null,
   "id": "13f13116-ad7f-455a-9a15-c041b48819da",
   "metadata": {},
   "outputs": [],
   "source": [
    "!python -m pip install nvflare==2.2.5"
   ]
  },
  {
   "cell_type": "markdown",
   "id": "28c37746-2ff2-4007-8cfa-8ca33287b9ce",
   "metadata": {
    "tags": []
   },
   "source": [
    "### Install from Source\n",
    "change directory to the root NVFlare directory"
   ]
  },
  {
   "cell_type": "code",
   "execution_count": null,
   "id": "82c185fe-e0c8-4c82-93ed-13489b9e6a9d",
   "metadata": {
    "tags": []
   },
   "outputs": [],
   "source": [
    "!pwd"
   ]
  },
  {
   "cell_type": "markdown",
   "id": "9847e0a0-5b84-4ed2-a919-2d098dffaca7",
   "metadata": {},
   "source": [
    "if you are at \"examples\" directory, let change to parent directory"
   ]
  },
  {
   "cell_type": "code",
   "execution_count": null,
   "id": "77b092ac-39f7-4613-a3da-1ce1343a102b",
   "metadata": {
    "tags": []
   },
   "outputs": [],
   "source": [
    "!cd ../.\n",
    "!export NVFLARE_HOME=$( cd ../. && pwd )\n",
    "!echo $NVFLARE_HOME\n"
   ]
  },
  {
   "cell_type": "markdown",
   "id": "1704d0d2-76d9-4199-a464-36d82d8377ec",
   "metadata": {},
   "source": [
    "Now we find out the NVFLARE root directory, we can install now"
   ]
  },
  {
   "cell_type": "code",
   "execution_count": null,
   "id": "e96ea42a-6143-4937-8b8d-7e3076c1a348",
   "metadata": {
    "tags": []
   },
   "outputs": [],
   "source": [
    "!pip install -e $NVFLARE_HOME"
   ]
  },
  {
   "cell_type": "markdown",
   "id": "9473bdfa-6265-4a53-b7ab-472955d04abc",
   "metadata": {},
   "source": [
    "### Download Examples\n",
    "\n",
    "If you want to get the latest version, clone NVFLARE repo to get examples, switch **main** branch (latest stable branch)"
   ]
  },
  {
   "cell_type": "code",
   "execution_count": null,
   "id": "17dba78c-4cba-436d-aba0-f676d5f40dd1",
   "metadata": {},
   "outputs": [],
   "source": [
    "\n",
    "!git clone https://github.com/NVIDIA/NVFlare.git\n",
    "!cd NVFlare\n",
    "!git switch main\n"
   ]
  },
  {
   "cell_type": "markdown",
   "id": "057cf13c-c598-4d09-8538-2c96968640b8",
   "metadata": {
    "tags": []
   },
   "source": [
    "If you prefer to work with previous version examples, you can refer to [Examples Applications](https://nvflare.readthedocs.io/en/latest/example_applications_algorithms.html)\n",
    "\n",
    "**example and branch versions must match**"
   ]
  }
 ],
 "metadata": {
  "kernelspec": {
   "display_name": "Python 3 (ipykernel)",
   "language": "python",
   "name": "python3"
  },
  "language_info": {
   "codemirror_mode": {
    "name": "ipython",
    "version": 3
   },
   "file_extension": ".py",
   "mimetype": "text/x-python",
   "name": "python",
   "nbconvert_exporter": "python",
   "pygments_lexer": "ipython3",
   "version": "3.8.16"
  }
 },
 "nbformat": 4,
 "nbformat_minor": 5
}
