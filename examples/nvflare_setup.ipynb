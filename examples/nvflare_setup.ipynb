{
 "cells": [
  {
   "cell_type": "markdown",
   "id": "4fafdd07-51e1-469c-84d8-c57a61daa28c",
   "metadata": {},
   "source": [
    "# NVFLARE Installation\n",
    "\n",
    "You can find more details in [Getting Started](https://nvflare.readthedocs.io/en/main/getting_started.html) to set up a virtual environment and install NVFLARE.\n",
    "\n",
    "**Important**: you need to follow the [README.md](./README.md) installation instructions.\n",
    "\n",
    "**Before you launch JupyterLab**, install requirements (including nvflare) from the **terminal**\n",
    " "
   ]
  },
  {
   "attachments": {},
   "cell_type": "markdown",
   "id": "64ba2b87-d3be-4058-8156-9ef589bce9cf",
   "metadata": {},
   "source": [
    "### Install NVFLARE from PyPI\n",
    "```\n",
    "pip install 'nvflare>=2.3.0'\n",
    "\n",
    "```\n",
    "We do not recommend running NVFlare CLI commands in jupyter notebook cells."
   ]
  },
  {
   "cell_type": "markdown",
   "id": "28c37746-2ff2-4007-8cfa-8ca33287b9ce",
   "metadata": {
    "tags": []
   },
   "source": [
    "### Install from Source\n",
    "Change directory to the root NVFlare directory."
   ]
  },
  {
   "cell_type": "markdown",
   "id": "9847e0a0-5b84-4ed2-a919-2d098dffaca7",
   "metadata": {},
   "source": [
    "If you are at the \"examples\" directory (where this document is), change to the parent directory to save it as ```$NVFLARE_HOME```:"
   ]
  },
  {
   "cell_type": "markdown",
   "id": "9bf75fd1-5f7b-4eb9-88cb-1d86bf9c5db6",
   "metadata": {
    "tags": []
   },
   "source": [
    "```\n",
    "cd ../.\n",
    "export NVFLARE_HOME=$( cd ../. && pwd )\n",
    "echo $NVFLARE_HOME\n",
    "```"
   ]
  },
  {
   "cell_type": "markdown",
   "id": "1704d0d2-76d9-4199-a464-36d82d8377ec",
   "metadata": {},
   "source": [
    "Now that we have the NVFLARE root directory, we can install it:\n",
    "\n",
    "```\n",
    "pip install -e $NVFLARE_HOME\n",
    "\n",
    "```\n",
    "\n",
    "This is recommended to be executed from a **terminal** with the current virtual env."
   ]
  },
  {
   "cell_type": "markdown",
   "id": "9473bdfa-6265-4a53-b7ab-472955d04abc",
   "metadata": {},
   "source": [
    "### Download Examples\n",
    "\n",
    "If you want to get the latest version, clone the NVFLARE repo to get examples, switch to the **main** branch (latest stable branch)."
   ]
  },
  {
   "cell_type": "code",
   "execution_count": null,
   "id": "17dba78c-4cba-436d-aba0-f676d5f40dd1",
   "metadata": {},
   "outputs": [],
   "source": [
    "\n",
    "!git clone https://github.com/NVIDIA/NVFlare.git\n",
    "!cd NVFlare\n",
    "!git switch main\n"
   ]
  },
  {
   "cell_type": "markdown",
   "id": "057cf13c-c598-4d09-8538-2c96968640b8",
   "metadata": {
    "tags": []
   },
   "source": [
    "If you prefer to work with previous versions of examples, you can refer to specific examples from [Examples Applications](https://nvflare.readthedocs.io/en/latest/example_applications_algorithms.html) to find links to the previous versions that exist.\n",
    "\n",
    "Make sure that the example and branch versions match to avoid compatibility issues."
   ]
  }
 ],
 "metadata": {
  "kernelspec": {
   "display_name": "nvflare_example",
   "language": "python",
   "name": "nvflare_example"
  },
  "language_info": {
   "codemirror_mode": {
    "name": "ipython",
    "version": 3
   },
   "file_extension": ".py",
   "mimetype": "text/x-python",
   "name": "python",
   "nbconvert_exporter": "python",
   "pygments_lexer": "ipython3",
   "version": "3.8.17"
  }
 },
 "nbformat": 4,
 "nbformat_minor": 5
}
