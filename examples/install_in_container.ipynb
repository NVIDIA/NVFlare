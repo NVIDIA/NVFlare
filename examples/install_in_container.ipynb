{
 "cells": [
  {
   "cell_type": "markdown",
   "id": "e7b3ff58-6ab9-436a-a457-1bc12d29b7a8",
   "metadata": {},
   "source": [
    "# Deployment with Docker"
   ]
  },
  {
   "cell_type": "markdown",
   "id": "aaf3f32f-8f79-4969-ba96-37c7b9c55241",
   "metadata": {},
   "source": [
    "Follow the [Getting_Started](https://nvflare.readthedocs.io/en/main/getting_started.html) for 'Containerized Deployment with Docker' section\n",
    "\n",
    "We’re building an environment that will support PyTorch-based workflows, The base for this build is the NGC PyTorch container. On this base image, we will install the necessary dependencies and clone the NVIDIA FLARE GitHub source code into the root workspace directory. To create a Dockerfile, create a file named Dockerfile using any text editor and include the following:\n",
    "\n",
    "```\n",
    "mkdir -p /tmp/nvflare/docker_workspace\n",
    "```\n",
    "create DockerFile  /tmp/nvflare/docker_workspace/Dockerfile with following \n",
    "\n",
    "```\n",
    "ARG PYTORCH_IMAGE=nvcr.io/nvidia/pytorch:23.02-py3 \n",
    "FROM ${PYTORCH_IMAGE}\n",
    "\n",
    "RUN python3 -m pip install -U pip\n",
    "RUN python3 -m pip install -U setuptools\n",
    "RUN python3 -m pip install tensorboard nvflare\n",
    "\n",
    "WORKDIR /workspace/\n",
    "RUN git clone https://github.com/NVIDIA/NVFlare.git\n",
    "\n",
    "\n",
    "\n",
    "```\n",
    "cat /tmp/nvflare/docker_workspace/Dockerfile;\n",
    "You can open an terminal and copy above and execute"
   ]
  },
  {
   "cell_type": "code",
   "execution_count": null,
   "id": "f77a06c3-04d2-4ab5-9bf1-c9d929082dd7",
   "metadata": {
    "tags": []
   },
   "outputs": [],
   "source": [
    "def show_create_terminal_link(): \n",
    "    from IPython.display import HTML\n",
    "    return HTML('<a href=\"\", data-commandlinker-command=\"terminal:create-new\">create terminal</a>')"
   ]
  },
  {
   "cell_type": "code",
   "execution_count": null,
   "id": "3bfef949-3df4-4ccc-874c-d15283de197d",
   "metadata": {
    "tags": []
   },
   "outputs": [],
   "source": [
    "show_create_terminal_link()"
   ]
  },
  {
   "cell_type": "code",
   "execution_count": null,
   "id": "00dc4175-54b2-414a-b3b3-dadd9a7cce68",
   "metadata": {
    "tags": []
   },
   "outputs": [],
   "source": [
    "!cat /tmp/nvflare/docker_workspace/Dockerfile"
   ]
  },
  {
   "cell_type": "markdown",
   "id": "20977148-d917-4f16-8220-03bd8e1338cb",
   "metadata": {},
   "source": [
    "We can then build the new container tagging it nvflare-pt:\n"
   ]
  },
  {
   "cell_type": "code",
   "execution_count": null,
   "id": "5925083a-5d6c-4498-99e6-47abbae05ab2",
   "metadata": {},
   "outputs": [],
   "source": [
    "! docker build -t nvflare-pt ."
   ]
  },
  {
   "cell_type": "markdown",
   "id": "3baa13b9-11f1-47bb-a846-8b818bd5234d",
   "metadata": {},
   "source": [
    "Once you built the docker image, you can docker with NVFLARE + torch installed. \n",
    "You can run simulator within the docker. The example directory can be mounted to the docker volume\n",
    "\n",
    "\n",
    "```\n",
    "mkdir my-workspace\n",
    "docker run --rm -it --gpus all \\\n",
    "    --ipc=host --ulimit memlock=-1 --ulimit stack=67108864 \\\n",
    "    -w $(pwd -P)/my-workspace:/workspace/my-workspace \\\n",
    "    nvflare-pt:latest\n",
    "```    \n",
    "Once the container is running, you can also exec into the container, for example if you need another terminal to start additional FLARE clients. First find the CONTAINER ID using docker ps, and then use that ID to exec into the container:\n",
    "```\n",
    "docker ps  # use the CONTAINER ID in the output\n",
    "docker exec -it <CONTAINER ID> /bin/bash\n",
    "```\n",
    "This container can be used to run the FL Simulator or any FL server or client. When using the FL Simulator (described in the next section), you can simply mount in any directories needed for your FLARE application code, and run the Simulator within the Docker container with all dependencies installed."
   ]
  },
  {
   "cell_type": "code",
   "execution_count": null,
   "id": "aac507ac-044e-4f43-b1ce-7dbd2e53bac7",
   "metadata": {},
   "outputs": [],
   "source": []
  }
 ],
 "metadata": {
  "kernelspec": {
   "display_name": "Python 3 (ipykernel)",
   "language": "python",
   "name": "python3"
  },
  "language_info": {
   "codemirror_mode": {
    "name": "ipython",
    "version": 3
   },
   "file_extension": ".py",
   "mimetype": "text/x-python",
   "name": "python",
   "nbconvert_exporter": "python",
   "pygments_lexer": "ipython3",
   "version": "3.8.16"
  },
  "toc-autonumbering": true,
  "toc-showcode": false
 },
 "nbformat": 4,
 "nbformat_minor": 5
}
