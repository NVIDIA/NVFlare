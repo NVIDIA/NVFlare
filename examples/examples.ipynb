{
 "cells": [
  {
   "cell_type": "markdown",
   "id": "dbe62259-8f43-43ee-a35a-b67bee520e54",
   "metadata": {},
   "source": [
    "# Examples Notebook\n",
    "\n",
    "We add few example notebooks to help user better understanding NVFLARE and its capabilities\n",
    "\n",
    "To best use these notebooks, we recommended to use Jupyter-Lab and then nevigate to the example you interested. \n",
    "\n",
    "You can follow the [JupyterLab Documentation](https://jupyterlab.readthedocs.io/en/stable/) install JupyterLab\n",
    "\n",
    "You can start with [hello-numpy-sag](hello-world/hello-numpy-sag/hello_numpy_sag.ipynb)"
   ]
  },
  {
   "cell_type": "code",
   "execution_count": null,
   "id": "4276f15c-91b9-426b-a5ca-4813b67cc3ca",
   "metadata": {},
   "outputs": [],
   "source": []
  }
 ],
 "metadata": {
  "kernelspec": {
   "display_name": "Python 3 (ipykernel)",
   "language": "python",
   "name": "python3"
  },
  "language_info": {
   "codemirror_mode": {
    "name": "ipython",
    "version": 3
   },
   "file_extension": ".py",
   "mimetype": "text/x-python",
   "name": "python",
   "nbconvert_exporter": "python",
   "pygments_lexer": "ipython3",
   "version": "3.8.16"
  }
 },
 "nbformat": 4,
 "nbformat_minor": 5
}
