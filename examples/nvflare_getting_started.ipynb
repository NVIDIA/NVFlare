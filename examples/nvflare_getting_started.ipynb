{
 "cells": [
  {
   "cell_type": "markdown",
   "id": "4fafdd07-51e1-469c-84d8-c57a61daa28c",
   "metadata": {},
   "source": [
    "# Getting Started with NVFLARE in JupyterLab"
   ]
  },
  {
   "cell_type": "markdown",
   "id": "9aa3fb14",
   "metadata": {},
   "source": [
    "## Table of Examples and Tutorials\n",
    "We provide a wide array of examples and tutorials to get users hands-on NVFLARE quickly.\n",
    "\n",
    "### 1. Hello World Examples\n",
    "| Models                                                                                                                               | Framework    | Notes                  | Summary                                                                                                                                                         |\n",
    "|--------------------------------------------------------------------------------------------------------------------------------------|--------------|------------------------|-----------------------------------------------------------------------------------------------------------------------------------------------------------------|\n",
    "| [Hello Scatter and Gather](./hello-world/hello_world.ipynb)                                                                          | Numpy        | Workflow example       | Example using [ScatterAndGather](https://nvflare.readthedocs.io/en/2.3/apidocs/nvflare.app_common.workflows.scatter_and_gather.html) controller workflow.      |\n",
    "| [Hello Cross-Site Validation](./hello-world/hello_world.ipynb)                                                                       | Numpy        | Workflow example       | Example using [CrossSiteModelEval](https://nvflare.readthedocs.io/en/2.3/apidocs/nvflare.app_common.workflows.cross_site_model_eval.html) controller workflow. |\n",
    "| [Hello Cyclic Weight Transfer](./hello-world/hello_world.ipynb)                                                                      | PyTorch      | Workflow example       | Example using [CyclicController](https://nvflare.readthedocs.io/en/2.3/apidocs/nvflare.app_common.workflows.cyclic_ctl.html) controller workflow to implement [Cyclic Weight Transfer](https://pubmed.ncbi.nlm.nih.gov/29617797/). |\n",
    "| [Hello PyTorch](./hello-world/hello_world.ipynb)                                                                                     | PyTorch      | Deep Learning          | Example using an image classifier using [FedAvg](https://arxiv.org/abs/1602.05629) and [PyTorch](https://pytorch.org/) as the deep learning training framework. |\n",
    "| [Hello TensorFlow](./hello-world/hello_world.ipynb)                                                                                  | TensorFlow2  | Deep Learning          | Example of using an image classifier using [FedAvg](https://arxiv.org/abs/1602.05629) and [TensorFlow](https://tensorflow.org/) as the deep learning training framework. |\n",
    "\n",
    "### 2. Tutorial notebooks\n",
    "| Notebook                                                                                                                               | Framework    | Notes                  | Summary                                                                                                                                                         |\n",
    "|----------------------------------------------------------------------------------------------------------------------------------------|--------------|------------------------|-----------------------------------------------------------------------------------------------------------------------------------------------------------------|\n",
    "| [Intro to the FL Simulator](./tutorials/flare_simulator.ipynb)                                                                         | -            | -                      | Shows how to use the FLARE Simulator to run a local simulation.                                                                                                 |\n",
    "| [Hello FLARE API](./tutorials/flare_api.ipynb)                                                                                         | -            | -                      | Goes through the different commnads of the FLARE API.                                                                                                           |\n",
    "| [NVFLARE in POC Mode](./tutorials/setup_poc.ipynb)                                                                                     | -            | -                      | Shows how to use POC mode.                                                                                                                                      |\n",
    "\n",
    "### 3. FL algorithms\n",
    "| Example                                                                         | Subsection                                                                                     | Notebooks                                                                                                            | Summary                                                                                                                                                                                                                                                                        |\n",
    "|---------------------------------------------------------------------------------|------------------------------------------------------------------------------------------------|----------------------------------------------------------------------------------------------------------------------|--------------------------------------------------------------------------------------------------------------------------------------------------------------------------------------------------------------------------------------------------------------------------------|\n",
    "| Federated Learning with CIFAR-10                                                | [Simulated Federated Learning with CIFAR-10](./advanced/cifar10/cifar10-sim/README.md)         | -                                                                                                                    | [This example](./advanced/cifar10/README.md) includes instructions on running [FedAvg](https://arxiv.org/abs/1602.05629), [FedProx](https://arxiv.org/abs/1812.06127), [FedOpt](https://arxiv.org/abs/2003.00295), and [SCAFFOLD](https://arxiv.org/abs/1910.06378) algorithms using NVFlare's FL simulator.   |\n",
    "| Federated Learning with CIFAR-10                                                | [Real-world Federated Learning with CIFAR-10](./advanced/cifar10/cifar10-real-world/README.md) | -                                                                                                                    | Includes instructions on running [FedAvg](https://arxiv.org/abs/1602.05629) with streaming of TensorBoard metrics to the server during training and [homomorphic encryption](https://developer.nvidia.com/blog/federated-learning-with-homomorphic-encryption/).               |\n",
    "| Federated XGBoost                                                               | -                                                                                              | [Federated Learning for XGBoost - Data and Job Configs](./advanced/xgboost/data_job_setup.ipynb)                     | Includes examples of histogram-based and tree-based algorithms for [Federated XGBoost](./advanced/xgboost/README.md), with details below.                                                                                                                                                                                            |\n",
    "| Federated XGBoost                                                               | [Histogram-based FL for XGBoost](./advanced/xgboost/histogram-based/README.md)                 | [Histogram-based FL for XGBoost on HIGGS Dataset](./advanced/xgboost/histogram-based/xgboost_histogram_higgs.ipynb)  | Histogram-based algorithm                                                                                                                                                                                                                                                      |\n",
    "| Federated XGBoost                                                               | [Tree-based Federated Learning for XGBoost ](./advanced/xgboost/tree-based/README.md)          | [Tree-based FL for XGBoost on HIGGS Dataset](./advanced/xgboost/tree-based/README.md)                                | Tree-based algorithms includes [bagging](./advanced/xgboost/tree-based/jobs/bagging_base) and [cyclic](./advanced/xgboost/tree-based/jobs/cyclic_base) approaches.                                                                                               |\n",
    "\n",
    "### 4. Traditional ML examples\n",
    "| Example                                                                                                                                | Framework         | Notes                  | Summary                                                                                                                                                         |\n",
    "|----------------------------------------------------------------------------------------------------------------------------------------|-------------------|------------------------|-----------------------------------------------------------------------------------------------------------------------------------------------------------------|\n",
    "| [Federated Linear Model with Scikit-learn](./advanced/sklearn-linear/sklearn_linear_higgs.ipynb)                                       | scikit-learn      | -                      | Shows how to use the NVIDIA FLARE with [scikit-learn](https://scikit-learn.org/), a widely used open-source machine learning library.                           |\n",
    "| [Federated K-Means Clustering with Scikit-learn](./advanced/sklearn-kmeans/sklearn_kmeans_iris.ipynb)                                  | scikit-learn      | -                      | NVIDIA FLARE with [scikit-learn](https://scikit-learn.org/) and k-Means.                                                                                        |\n",
    "| [Federated SVM with Scikit-learn](./advanced/sklearn-svm/sklearn_svm_cancer.ipynb)                                                     | scikit-learn      | -                      | NVIDIA FLARE with [scikit-learn](https://scikit-learn.org/) and [SVM](https://scikit-learn.org/stable/modules/generated/sklearn.svm.SVC.html).                  |\n",
    "| [Federated Learning for Random Forest based on XGBoost](./advanced/random_forest/random_forest.ipynb                                   | XGBoost           | -                      | Example of using NVIDIA FLARE with [scikit-learn](https://scikit-learn.org/) and Random Forest.                                                                 |\n",
    "\n",
    "### 5. Medical Image Analysis\n",
    "| Example                                                                                                                                | Framework    | Notebooks                                           | Notes                                     | Summary                                                                                                                                                         |\n",
    "|----------------------------------------------------------------------------------------------------------------------------------------|--------------|-----------------------------------------------------|-------------------------------------------|-----------------------------------------------------------------------------------------------------------------------------------------------------------------|\n",
    "| [NVFlare + MONAI integration](../integration/monai/README.md)                                                                          | MONAI        | -                                                   | -                                         | For an example of using NVIDIA FLARE to train a 3D medical image analysis model using federated averaging (FedAvg) and MONAI Bundle, see [here](../integration/monai/examples/README.md). |\n",
    "| [Federated Learning with Differential Privacy for BraTS18 segmentation](./advanced/brats18/README.md)                                  | MONAI        | -                                                   | see requirements.txt                      | Illustrates the use of differential privacy for training brain tumor segmentation models using federated learning.                                              |\n",
    "| [Federated Learning for Prostate Segmentation from Multi-source Data](./advanced/prostate/README.md)                                   | MONAI        | -                                                   | see requirements.txt                      | Example of training a multi-institutional prostate segmentation model using [FedAvg](https://arxiv.org/abs/1602.05629), [FedProx](https://arxiv.org/abs/1812.06127), and [Ditto](https://arxiv.org/abs/2012.04221). |\n",
    "\n",
    "### 6. Federated Statistics\n",
    "| Example                                                                                                                                | Framework    | Notebooks                                                                                                                                                              | Notes                  | Summary                                                                                                                                                         |\n",
    "|----------------------------------------------------------------------------------------------------------------------------------------|--------------|------------------------------------------------------------------------------------------------------------------------------------------------------------------------|------------------------|-----------------------------------------------------------------------------------------------------------------------------------------------------------------|\n",
    "| [Federated Statistics Overview](./advanced/federated-statistics/README.md)                                                             | -            | -                                                                                                                                                                      | -                      | Discuss the overall federated statistics features.                                                                                                              |\n",
    "| [Federated Statistics for Medical Imaging](./advanced/federated-statistics/image_stats/README.md)                                      | -            | [Image Histograms](./advanced/federated-statistics/image_stats.ipynb)                                                                                                  | see requirements.txt   | Example of gathering local image histogram to compute the global dataset histograms.                                                                            |\n",
    "| [Federated Statistics for DataFrame](./advanced/federated-statistics/df_stats/README.md)                                               | -            | [Data Frame Federated Statistics](./advanced/federated-statistics/df_stats.ipynb), [Visualization](./advanced/federated-statistics/df_stats/demo/visualization.ipynb)  | see requirements.txt   | Example of gathering local statistics summary from Pandas DataFrame to compute the global dataset statistics.                                                   |\n",
    "\n",
    "### 7. Federated Policies\n",
    "| Example                                                                                                                                | Framework    | Notebooks                                           | Notes                  | Summary                                                                                                                                                         |\n",
    "|----------------------------------------------------------------------------------------------------------------------------------------|--------------|-----------------------------------------------------|------------------------|-----------------------------------------------------------------------------------------------------------------------------------------------------------------|\n",
    "| [Federated Policies](./advanced/federated-policies/README.rst)                                                                         | -            | -                                                   | -                      | Discuss the federated site policies for authorization, resource and data privacy management.                                                                    |\n",
    "\n",
    "### 8. Experiment tracking\n",
    "| Example                                                                                                                                | Framework    | Notebooks                                           | Notes                     | Summary                                                                                                                                                         |\n",
    "|----------------------------------------------------------------------------------------------------------------------------------------|--------------|-----------------------------------------------------|---------------------------|-----------------------------------------------------------------------------------------------------------------------------------------------------------------|\n",
    "| [Hello PyTorch with TensorBoard Streaming](./advanced/experiment-tracking/tensorboard-streaming/README.md)                             | PyTorch      | -                                                   | Also requires tensorboard | Example building upon [Hello PyTorch](./hello-world/hello-pt/README.md) showcasing the [TensorBoard](https://tensorflow.org/tensorboard) streaming capability from the clients to the server.  |\n"
   ]
  },
  {
   "cell_type": "markdown",
   "id": "4dadb9a7",
   "metadata": {},
   "source": [
    "## How to Navigate\n",
    "We recommend users to get started with [nvflare_setup.ipynb](nvflare_setup.ipynb) to set up a virtual environment and get NVFLARE installed before going through the Hello World examples to get familiar with NVFLARE. The tutorial notebooks introduce concepts in NVFLARE. Finally, the advanced examples cover more advanced workflows with integration of NVFLARE with other frameworks."
   ]
  }
 ],
 "metadata": {
  "kernelspec": {
   "display_name": "nvflare_example",
   "language": "python",
   "name": "nvflare_example"
  },
  "language_info": {
   "codemirror_mode": {
    "name": "ipython",
    "version": 3
   },
   "file_extension": ".py",
   "mimetype": "text/x-python",
   "name": "python",
   "nbconvert_exporter": "python",
   "pygments_lexer": "ipython3",
   "version": "3.8.10"
  }
 },
 "nbformat": 4,
 "nbformat_minor": 5
}
