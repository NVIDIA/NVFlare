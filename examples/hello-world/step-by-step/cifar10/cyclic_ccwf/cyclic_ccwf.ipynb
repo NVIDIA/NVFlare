{
 "cells": [
  {
   "cell_type": "markdown",
   "id": "514c47e2-420d-4af4-9bf0-cac337c51c39",
   "metadata": {},
   "source": [
    "# Cyclic Weight Transfer (CWT) with Client-Controlled Cyclic Workflow\n",
    "\n",
    "In this example, we will demonstrate the Client-Controlled Cyclic Workflow using the Client API with the CIFAR10 dataset. \n",
    "This differs from the [Server-Controlled Cyclic Workflow](../cyclic/cyclic.ipynb), as the server is not involved in communication with sensitive information in the case that is it not trusted.\n",
    "\n",
    "## Client-Controlled Cyclic Workflow\n",
    "\n",
    "<img src=\"figs/cyclic_ccwf.png\" alt=\"cyclic ccwf\" width=35% height=35% />\n",
    "\n",
    "The `CyclicServerController` is responsible for managing the lifecycle of the job, and will assign `cyclic_config` and `cyclic_start` tasks for configuration and to begin the training workflow. The configuration includes picking the starting client, result clients, and defining the cyclic order.\n",
    "\n",
    "The `CyclicClientController` is responsible for the training logic once `cyclic_start` is sent, and the [Cyclic Workflow](../cyclic/cyclic.ipynb#cyclic_workflow) is algorithmically the same as the server-controlled version. The main difference is transferring the model is now encrypted with secure peer-to-peer messaging, and only the result clients receive the model, rather than the server.\n",
    "\n",
    "See the [docs](https://nvflare.readthedocs.io/en/main/programming_guide/controllers/client_controlled_workflows.html#cyclic-learning) for more information about the Client-Controlled Cyclic Workflow.\n",
    "\n",
    "## Converting DL training code to FL training code\n",
    "\n",
    "We will be using the [Client API FL code](../code/fl/train.py) trainer converted from the original [Training a Classifer](https://pytorch.org/tutorials/beginner/blitz/cifar10_tutorial.html) example.\n",
    "\n",
    "See [Converting to FL code using Client API](../sag/sag.ipynb#code) for more details.\n",
    "\n",
    "## Job Configuration\n",
    "\n",
    "The client configuration for the trainer with the Client API is standard with the `PTClientAPILauncherExecutor`, `SubprocessLauncher`, and our defined app script that supports the `train` task. \n",
    "\n",
    "We now add the additional executor `CyclicClientController` that handles all `cyclic_*` tasks and maps the `learn_task_name` to the `train` task implemented by the `PTClientAPILauncherExecutor`. The `PTFileModelPersistor` and `FullModelShareableGenerator` components are now also defined in the client configuration.\n",
    "\n",
    "The server configuration is much simpler, with the `CyclicServerController` being set along with any configuration lifecycle arguments.\n",
    "\n",
    "Let's use the Job CLI to create the job from a Client-Controlled Cyclic template:"
   ]
  },
  {
   "cell_type": "code",
   "execution_count": null,
   "id": "398bbeda",
   "metadata": {},
   "outputs": [],
   "source": [
    "! nvflare config -jt ../../../../../job_templates"
   ]
  },
  {
   "cell_type": "code",
   "execution_count": null,
   "id": "de430380",
   "metadata": {},
   "outputs": [],
   "source": [
    "! nvflare job create -j /tmp/nvflare/jobs/cyclic_cc_pt -w cyclic_cc_pt -sd ../code/fl -force"
   ]
  },
  {
   "cell_type": "markdown",
   "id": "5fd8e88f",
   "metadata": {},
   "source": [
    "We can take a look at the server and client configurations and make any changes as desired:"
   ]
  },
  {
   "cell_type": "code",
   "execution_count": null,
   "id": "369c5501",
   "metadata": {},
   "outputs": [],
   "source": [
    "! cat /tmp/nvflare/jobs/cyclic_cc_pt/app/config/config_fed_server.conf"
   ]
  },
  {
   "cell_type": "code",
   "execution_count": null,
   "id": "d223847b",
   "metadata": {},
   "outputs": [],
   "source": [
    "! cat /tmp/nvflare/jobs/cyclic_cc_pt/app/config/config_fed_client.conf"
   ]
  },
  {
   "cell_type": "markdown",
   "id": "92ed5d4a",
   "metadata": {},
   "source": [
    "Ensure that the `app_script` is set to the Client API FL `train.py` code and the model path for the persistor is set to `net.Net`."
   ]
  },
  {
   "cell_type": "markdown",
   "id": "83cc8869",
   "metadata": {},
   "source": [
    "## Prepare Data"
   ]
  },
  {
   "cell_type": "markdown",
   "id": "8f63bf0f",
   "metadata": {},
   "source": [
    "Make sure the CIFAR10 dataset is downloaded with the following script:"
   ]
  },
  {
   "cell_type": "code",
   "execution_count": null,
   "id": "17323f61",
   "metadata": {},
   "outputs": [],
   "source": [
    "! python ../data/download.py"
   ]
  },
  {
   "cell_type": "markdown",
   "id": "d71f3c9f-8185-47d3-8658-40f7b16699c5",
   "metadata": {},
   "source": [
    "## Run the Job\n",
    "\n",
    "Now we can run the job with the simulator:"
   ]
  },
  {
   "cell_type": "code",
   "execution_count": null,
   "id": "70738539-3df6-4779-831f-0a1375d6aabf",
   "metadata": {
    "tags": []
   },
   "outputs": [],
   "source": [
    "! nvflare simulator /tmp/nvflare/jobs/cyclic_cc_pt -w /tmp/nvflare/cyclic_cc_pt_workspace -t 2 -n 2 "
   ]
  },
  {
   "cell_type": "markdown",
   "id": "9bef3134",
   "metadata": {},
   "source": []
  }
 ],
 "metadata": {
  "kernelspec": {
   "display_name": "Python 3",
   "language": "python",
   "name": "python3"
  },
  "language_info": {
   "codemirror_mode": {
    "name": "ipython",
    "version": 3
   },
   "file_extension": ".py",
   "mimetype": "text/x-python",
   "name": "python",
   "nbconvert_exporter": "python",
   "pygments_lexer": "ipython3",
   "version": "3.8.10"
  }
 },
 "nbformat": 4,
 "nbformat_minor": 5
}
