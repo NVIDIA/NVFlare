{
 "cells": [
  {
   "cell_type": "markdown",
   "id": "514c47e2-420d-4af4-9bf0-cac337c51c39",
   "metadata": {},
   "source": [
    "# FedAvg with SAG workflow with MLflow tracking\n",
    "\n",
    "In this example, we will demonstrate the FegAvg SAG workflow using the CIFAR10 dataset with MLflow tracking. \n",
    "\n",
    "We will show how to add tracking capabilities to the previous example [FedAvg with SAG workflow](../sag/sag.ipynb#title), specifically we will show how to add MLflow in this example.\n",
    "\n",
    "For an overview on Federated Averaging and SAG, see the section from the previous example: [Understanding FedAvg and SAG](../sag/sag.ipynb#sag)\n",
    "\n",
    "## Experiment tracking\n",
    "\n",
    "In any machine learning and deep learning scenario, we are trying to get the best model after training.\n",
    "An important part of that is the convergence and keep tracks of different metrics / losses as training proceeds.\n",
    "There are many tracking tools available, for example TensorBoard, MLflow, and Weights and Biases.\n",
    "NVFlare has the capability to incorporate these tools to send all the client site's metrics and losses back to the server site.\n",
    "And you can monitor and keep tracking of the whole federated learning progress by interacting with the NVFlare server machine.\n",
    "\n",
    "## Training code changes\n",
    "\n",
    "You need to just import the MLflowWriter, create an instance of it and you can use the methods it provides.\n",
    "For example:\n",
    "\n",
    "```\n",
    "\n",
    "import nvflare.client as flare\n",
    "from nvflare.client.tracking import MLflowWriter\n",
    "\n",
    "flare.init()\n",
    "mlflow = MLflowWriter()\n",
    "\n",
    "mlflow.log_metric(\"loss\", 0.2)\n",
    "\n",
    "```\n",
    "\n",
    "\n",
    "## Job Configuration\n",
    "\n",
    "To configure the experiment / metrics tracking, we need to add the following components in the config_fed_client.conf:\n",
    "\n",
    "1. `MetricRelay` component, so the metrics will be sending to the server for gathering\n",
    "2. Another `CellPipe` component for \"metrics_exchange\" is needed by `MetricRelay` component\n",
    "3. `ExternalConfigurator` component, so the client api can be initialized with required information\n",
    "\n",
    "Since client side send metrics/losses to server side, the server side needs to receive these information, we need to add the following components in the config_fed_server.conf:\n",
    "\n",
    "1. `MLflowReceiver`\n",
    "\n",
    "You can configure `tracking_uri` and the following arguments `experiment_name`, `run_name`, `experiment_tags` and `run_tags` of `MLflowReceiver`, we want to save to local so we specify `tracking_uri` as empty \"\" \n",
    "\n",
    "\n",
    "Let's use the Job CLI to create the job from the sag_pt_mlflow template:"
   ]
  },
  {
   "cell_type": "code",
   "execution_count": null,
   "id": "8276090f-4598-4a41-b8b3-4b73e21e0694",
   "metadata": {},
   "outputs": [],
   "source": [
    "! nvflare config -jt ../../../../../job_templates"
   ]
  },
  {
   "cell_type": "code",
   "execution_count": null,
   "id": "de430380",
   "metadata": {},
   "outputs": [],
   "source": [
    "! nvflare job create -j /tmp/nvflare/jobs/cifar10_sag_pt_mlflow -w sag_pt_mlflow \\\n",
    "-f meta.conf min_clients=2 \\\n",
    "-f config_fed_client.conf app_script=train_with_mlflow.py app_config=\"--batch_size 6 --dataset_path /tmp/nvflare/data/cifar10 --num_workers 2\" \\\n",
    "-f config_fed_server.conf num_rounds=5 experiment_name=\"nvflare-sag-pt-experiment\" run_name=\"nvflare-sag-pt-with-mlflow\" tracking_uri=\\\"\\\" \\\n",
    "-sd ../code/fl \\\n",
    "-force"
   ]
  },
  {
   "cell_type": "markdown",
   "id": "5fd8e88f",
   "metadata": {},
   "source": [
    "We can take a look at the server and client configurations and make any changes as desired:"
   ]
  },
  {
   "cell_type": "code",
   "execution_count": null,
   "id": "369c5501",
   "metadata": {},
   "outputs": [],
   "source": [
    "! cat /tmp/nvflare/jobs/cifar10_sag_pt_mlflow/app/config/config_fed_server.conf"
   ]
  },
  {
   "cell_type": "code",
   "execution_count": null,
   "id": "d223847b",
   "metadata": {},
   "outputs": [],
   "source": [
    "! cat /tmp/nvflare/jobs/cifar10_sag_pt_mlflow/app/config/config_fed_client.conf"
   ]
  },
  {
   "cell_type": "markdown",
   "id": "83cc8869",
   "metadata": {},
   "source": [
    "## Prepare Data"
   ]
  },
  {
   "cell_type": "markdown",
   "id": "8f63bf0f",
   "metadata": {},
   "source": [
    "Make sure the CIFAR10 dataset is downloaded with the following script:"
   ]
  },
  {
   "cell_type": "code",
   "execution_count": null,
   "id": "17323f61",
   "metadata": {},
   "outputs": [],
   "source": [
    "! python ../data/download.py --dataset_path /tmp/nvflare/data/cifar10"
   ]
  },
  {
   "cell_type": "markdown",
   "id": "d71f3c9f-8185-47d3-8658-40f7b16699c5",
   "metadata": {},
   "source": [
    "## Run the Job\n",
    "\n",
    "Now we can run the job with the simulator:"
   ]
  },
  {
   "cell_type": "code",
   "execution_count": null,
   "id": "70738539-3df6-4779-831f-0a1375d6aabf",
   "metadata": {
    "tags": []
   },
   "outputs": [],
   "source": [
    "! nvflare simulator /tmp/nvflare/jobs/cifar10_sag_pt_mlflow -w /tmp/nvflare/cifar10_sag_pt_mlflow -t 2 -n 2 "
   ]
  },
  {
   "cell_type": "markdown",
   "id": "9bef3134",
   "metadata": {},
   "source": [
    "## Check the results\n",
    "\n",
    "After the experiment is finished, you can view the results in one of the following ways.\n",
    "\n",
    "Please refer to MLflow documentation for more information.\n",
    "\n",
    "If the tracking_uri is specified, you can directly go to the tracking_uri to view the results\n",
    "\n",
    "If the tracking_uri is not specified, the results will be saved in `/tmp/nvflare/cifar10_sag_pt_mlflow/mlruns/`\n",
    "\n",
    "You can then run the mlflow command: `mlflow ui --port 5000` inside the directory `/tmp/nvflare/cifar10_sag_pt_mlflow/`\n",
    "\n",
    "Then you should be seeing similar thing as the following screenshot:\n",
    "\n",
    "\n",
    "<img src=mlflow.png width=95% height=95% />\n",
    "\n"
   ]
  },
  {
   "cell_type": "code",
   "execution_count": null,
   "id": "e69c9ed2-359a-4f97-820f-25e9323a4e92",
   "metadata": {},
   "outputs": [],
   "source": []
  }
 ],
 "metadata": {
  "kernelspec": {
   "display_name": "nvflare_example",
   "language": "python",
   "name": "nvflare_example"
  },
  "language_info": {
   "codemirror_mode": {
    "name": "ipython",
    "version": 3
   },
   "file_extension": ".py",
   "mimetype": "text/x-python",
   "name": "python",
   "nbconvert_exporter": "python",
   "pygments_lexer": "ipython3",
   "version": "3.10.2"
  }
 },
 "nbformat": 4,
 "nbformat_minor": 5
}
