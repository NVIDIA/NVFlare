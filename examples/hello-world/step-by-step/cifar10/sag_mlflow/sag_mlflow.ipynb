{
 "cells": [
  {
   "cell_type": "markdown",
   "id": "514c47e2-420d-4af4-9bf0-cac337c51c39",
   "metadata": {},
   "source": [
    "# FedAvg with MLflow tracking\n",
    "\n",
    "In this example, we will demonstrate the FegAvg using the CIFAR10 dataset with MLflow tracking. \n",
    "\n",
    "We will show how to add tracking capabilities to the previous example [FedAvg with SAG workflow](../sag/sag.ipynb#title), specifically we will show how to add MLflow in this example.\n",
    "\n",
    "For an overview on Federated Averaging and SAG, see the section from the previous example: [Understanding FedAvg and SAG](../sag/sag.ipynb#sag)\n",
    "\n",
    "## Experiment tracking\n",
    "\n",
    "In any machine learning and deep learning scenario, we are trying to get the best model after training.\n",
    "An important part of that is the convergence and keep tracks of different metrics / losses as training proceeds.\n",
    "There are many tracking tools available, for example TensorBoard, MLflow, and Weights and Biases.\n",
    "NVFlare has the capability to incorporate these tools to send all the client site's metrics and losses back to the server site.\n",
    "And you can monitor and keep tracking of the whole federated learning progress by interacting with the NVFlare server machine.\n",
    "\n",
    "## Training code changes\n",
    "\n",
    "You need to just import the MLflowWriter, create an instance of it and you can use the methods it provides.\n",
    "For example:\n",
    "\n",
    "```\n",
    "\n",
    "import nvflare.client as flare\n",
    "from nvflare.client.tracking import MLflowWriter\n",
    "\n",
    "flare.init()\n",
    "mlflow = MLflowWriter()\n",
    "\n",
    "mlflow.log_metric(\"loss\", 0.2)\n",
    "\n",
    "```"
   ]
  },
  {
   "cell_type": "markdown",
   "id": "64401099",
   "metadata": {},
   "source": [
    "## Prepare Data\n",
    "\n",
    "Make sure the CIFAR10 dataset is downloaded with the following script:"
   ]
  },
  {
   "cell_type": "code",
   "execution_count": null,
   "id": "56471693",
   "metadata": {},
   "outputs": [],
   "source": [
    "! python ../data/download.py --dataset_path /tmp/nvflare/data/cifar10"
   ]
  },
  {
   "cell_type": "markdown",
   "id": "eb576983",
   "metadata": {},
   "source": [
    "## Job Configuration\n",
    "\n",
    "To configure the experiment / metrics tracking, we need to add the following components in the config_fed_client.conf:\n",
    "\n",
    "1. `MetricRelay` component, so the metrics will be sending to the server for gathering\n",
    "2. Another `CellPipe` component for \"metrics_exchange\" is needed by `MetricRelay` component\n",
    "3. `ExternalConfigurator` component, so the client api can be initialized with required information\n",
    "\n",
    "Since client side send metrics/losses to server side, the server side needs to receive these information, we need to add the following components in the config_fed_server.conf:\n",
    "\n",
    "1. `MLflowReceiver`\n",
    "\n",
    "You can configure `tracking_uri` and the following arguments `experiment_name`, `run_name`, `experiment_tags` and `run_tags` of `MLflowReceiver`, we want to save to local so we specify `tracking_uri` as empty \"\" \n",
    "\n",
    "\n",
    "Let's first copy the required files over:"
   ]
  },
  {
   "cell_type": "code",
   "execution_count": null,
   "id": "8adc2006",
   "metadata": {},
   "outputs": [],
   "source": [
    "! cp ../code/fl/train_with_mlflow.py train_with_mlflow.py\n",
    "! cp ../code/fl/net.py net.py"
   ]
  },
  {
   "cell_type": "markdown",
   "id": "4b2cebdb",
   "metadata": {},
   "source": [
    "We can use Job API to easily create a job and run in simulator:"
   ]
  },
  {
   "cell_type": "code",
   "execution_count": null,
   "id": "de430380",
   "metadata": {
    "tags": []
   },
   "outputs": [],
   "source": [
    "from net import Net\n",
    "\n",
    "from nvflare.app_opt.pt.job_config.fed_avg import FedAvgJob\n",
    "from nvflare.app_opt.tracking.mlflow.mlflow_receiver import MLflowReceiver\n",
    "from nvflare.job_config.script_runner import ScriptRunner\n",
    "\n",
    "if __name__ == \"__main__\":\n",
    "    n_clients = 2\n",
    "    num_rounds = 5\n",
    "    train_script = \"train_with_mlflow.py\"\n",
    "\n",
    "    job = FedAvgJob(\n",
    "        name=\"cifar10_fedavg\",\n",
    "        n_clients=n_clients,\n",
    "        num_rounds=num_rounds,\n",
    "        initial_model=Net()\n",
    "    )\n",
    "    \n",
    "    job.to(\n",
    "        MLflowReceiver(\n",
    "            tracking_uri=\"file:///{WORKSPACE}/{JOB_ID}/mlruns\",\n",
    "            kw_args={\n",
    "                \"experiment_name\": \"nvflare-sag-pt-experiment\",\n",
    "                \"run_name\": \"nvflare-sag-pt-with-mlflow\"\n",
    "            }\n",
    "        ),\n",
    "        \"server\"\n",
    "    )\n",
    "\n",
    "    # Add clients\n",
    "    for i in range(n_clients):\n",
    "        runner = ScriptRunner(\n",
    "            script=train_script, script_args=\"--batch_size 6 --num_workers 2\"\n",
    "        )\n",
    "        job.to(runner, f\"site-{i+1}\")\n",
    "\n",
    "    job.export_job(\"/tmp/nvflare/jobs\")\n",
    "    job.simulator_run(\"/tmp/nvflare/jobs/workdir\", gpu=\"0\")\n"
   ]
  },
  {
   "cell_type": "markdown",
   "id": "d71f3c9f-8185-47d3-8658-40f7b16699c5",
   "metadata": {},
   "source": [
    "## Run Job\n",
    "\n",
    "The previous cell exports the job config and executes the job in NVFlare simulator.\n",
    "\n",
    "If you want to run in production system, you will need to submit this exported job folder to nvflare system.\n"
   ]
  },
  {
   "cell_type": "markdown",
   "id": "9bef3134",
   "metadata": {},
   "source": [
    "## Check the results\n",
    "\n",
    "After the experiment is finished, you can view the results in one of the following ways.\n",
    "\n",
    "Please refer to MLflow documentation for more information.\n",
    "\n",
    "If the tracking_uri is specified, you can directly go to the tracking_uri to view the results\n",
    "\n",
    "If the tracking_uri is not specified, the results will be saved in `/tmp/nvflare/jobs/workdir/server/simulate_job/mlruns/`\n",
    "\n",
    "You can then run the mlflow command: `mlflow ui --port 5000` inside the directory `/tmp/nvflare/jobs/workdir/server/simulate_job`\n",
    "\n",
    "Then you should be seeing similar thing as the following screenshot:\n",
    "\n",
    "\n",
    "<img src=mlflow.png width=95% height=95% />\n",
    "\n"
   ]
  },
  {
   "cell_type": "code",
   "execution_count": null,
   "id": "a86a4ab4-00d0-4907-b770-71969ffb15ac",
   "metadata": {
    "tags": []
   },
   "outputs": [],
   "source": [
    "!mlflow ui --port 5000 --backend-store-uri /tmp/nvflare/jobs/workdir/server/simulate_job/mlruns/\n"
   ]
  },
  {
   "cell_type": "markdown",
   "id": "0211edd5-35e3-4af5-bc81-bd906325a4c4",
   "metadata": {},
   "source": [
    "Make sure you \"stop\" the above Cell when you done with review the MLFlow results. "
   ]
  },
  {
   "cell_type": "markdown",
   "id": "58037d1e",
   "metadata": {},
   "source": [
    "Next we will look at the [sag_he](../sag_he/sag_he.ipynb) example, which demonstrates how to enable homomorphic encryption using the POC -he mode."
   ]
  }
 ],
 "metadata": {
  "kernelspec": {
   "display_name": "nvflare_example",
   "language": "python",
   "name": "nvflare_example"
  },
  "language_info": {
   "codemirror_mode": {
    "name": "ipython",
    "version": 3
   },
   "file_extension": ".py",
   "mimetype": "text/x-python",
   "name": "python",
   "nbconvert_exporter": "python",
   "pygments_lexer": "ipython3",
   "version": "3.8.18"
  }
 },
 "nbformat": 4,
 "nbformat_minor": 5
}
