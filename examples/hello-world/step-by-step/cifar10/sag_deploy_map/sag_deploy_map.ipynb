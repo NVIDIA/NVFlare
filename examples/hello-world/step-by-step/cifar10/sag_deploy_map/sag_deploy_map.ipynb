{
 "cells": [
  {
   "cell_type": "markdown",
   "id": "514c47e2-420d-4af4-9bf0-cac337c51c39",
   "metadata": {},
   "source": [
    "# FedAvg with SAG (Scatter & Gather) workflow with Site-Specific Configurations\n",
    "\n",
    "In this example, we will demonstrate the Feg Avg. SAG workflow using CIFAR10 dataset with site-specific configurations and deploy_map. \n",
    "\n",
    "We build on top of the previous example [FedAvg with SAG workflow](../sag/sag.ipynb#title)\n",
    "\n",
    "Different from the previous examples, we like to demonstrate how to deploy different \"app\" to different sites using different configurations. \n",
    "\n",
    "The next section is going to be the same as previous example, please follow the steps \n",
    "  * [Understanding Fed Average and SAG](../sag/sag.ipynb#sag)\n",
    "  * [Convert training code to federated learning training code](../sag/sag.ipynb#code)\n",
    "  * [Prepare Data](../sag/sag.ipynb#data)\n",
    "\n",
    "\n",
    "The next step is to preapre job folder and configurations. We will start from here. \n",
    "\n",
    "## Job Folder and Configurations\n",
    "\n",
    "Before we dive into the details of the job configurations, let's first introduce few terminologies.\n",
    "\n",
    "### Job and App\n",
    "\n",
    "So far, when we referring NVFLARE job, we are referring the job folder which consists \n",
    "\n",
    "  * The job folder structure\n",
    "  * The job configuration and \n",
    "  * The custom codes \n",
    "\n",
    "Actually, the complete picture of the job is the followings:\n",
    "\n",
    "  * The job has special folder structure\n",
    "  * The job is consists of many \"apps\" or \"applications\"\n",
    "  * each application is consists app's custom code and configurations. \n",
    "  \n",
    "  you probably has noticed the folder structure as \n",
    "```\n",
    "  <job folder>\n",
    "  | -- app\n",
    "  | -----config/\n",
    "  | --------config_fed_client.conf\n",
    "  | --------config_fed_server.conf\n",
    "  | -----custom\n",
    "  | --------train.py\n",
    "    \n",
    "```\n",
    "  In such case, we only defined one app. We could define many apps. \n",
    "  \n",
    "  ```\n",
    "  <job folder>\n",
    "  | -- app_server\n",
    "  | -- app_1\n",
    "  | -- app_2\n",
    "    \n",
    "```\n",
    "  in above,we defined three apps, each can be used at different sites. We will discuss how to map the app to different site using deploy_map\n",
    "\n",
    "   \n",
    "### deploy_map\n",
    "\n",
    "What's \"deploy_map\" ? It is the \"application to site deployment mapping\". The deploy_map defines where to deploy these apps. \n",
    "\n",
    "For examaple, in meta.conf (or meta.json), you probably seen something like this: \n",
    "\n",
    "```\n",
    "{\n",
    "    \"name\": \"my_job\",\n",
    "    \"resource_spec\": {},\n",
    "    \"deploy_map\": {\n",
    "        \"app\": [\n",
    "            \"@ALL\"\n",
    "        ]\n",
    "    },\n",
    "    \"min_clients\": 1,\n",
    "    \"mandatory_clients\": [],\n",
    "}\n",
    "\n",
    "\n",
    "```\n",
    "The deploy_map here\n",
    "```\n",
    "    \"deploy_map\": {\n",
    "        \"app\": [\n",
    "            \"@ALL\"\n",
    "        ]\n",
    "```\n",
    "specify that the application \"app\" will be deployed to ALL sites. \"@ALL\" is special symbol, short-hand for all participanting clients and server. \n",
    "\n",
    "\n",
    "Here is another example of deploy_map\n",
    "\n",
    "There are three \"app\"s: \"app_server\", \"app_1\", and \"app_2\". The deploy_map rules states, that \"app_server\" is only deploy to \"server\" site, \"app_1\" and \"app_2\" will be deployed to site-1 and site-2 respectively.\n",
    "\n",
    "```\n",
    "{\n",
    "    \"name\": \"cifar10_splitnn\",\n",
    "    \"deploy_map\": {\n",
    "        \"app_server\": [\"server\"],\n",
    "        \"app_1\": [\"site-1\"],\n",
    "        \"app_2\": [\"site-2\"] \n",
    "    },\n",
    "    \"min_clients\": 2,\n",
    "}\n",
    "```\n",
    "\n",
    "Like in previous example, we are going to use an exisiting job template to create our job folder via Job CLI. You can refer the [Job CLI tutorials](../../../../tutorials/job_cli.ipynb).\n",
    "  \n",
    "The **Advanced Section** discussed the site-specific configuration as well. The tutorial is similar to this example. \n",
    "Now, lets create the job folder\n",
    "\n",
    "## Create Job \n",
    "\n",
    "We are going to use Job CLI to create the job folder, so we can bring in the pre-defined job configuration from job templates. Let will examine what are available job templates\n"
   ]
  },
  {
   "cell_type": "code",
   "execution_count": null,
   "id": "912c4ff4-2630-40bb-b173-f7988800fa11",
   "metadata": {
    "tags": []
   },
   "outputs": [],
   "source": [
    "! nvflare job list_templates"
   ]
  },
  {
   "cell_type": "markdown",
   "id": "efd0b1bd-1e8d-4b34-bb6e-ece76309bb9e",
   "metadata": {},
   "source": [
    "Looks like the sag_pt_deploy_map is the job template we need. Let's take the first look"
   ]
  },
  {
   "cell_type": "code",
   "execution_count": null,
   "id": "b8643ce7-8795-47d3-bb65-c0bae01058c4",
   "metadata": {
    "tags": []
   },
   "outputs": [],
   "source": [
    "! nvflare job create \\\n",
    "-j /tmp/nvflare/sag_site_config -w sag_pt_deploy_map -force"
   ]
  },
  {
   "cell_type": "markdown",
   "id": "6e278c12-7e4a-405a-8aa4-cc1fef557516",
   "metadata": {},
   "source": [
    "Here we have three different apps : \"app_server\", \"app_1\" and \"app_2\". \n",
    "We like to change the followings: \n",
    "\n",
    "* change number of training rounds to 2\n",
    "* change default app_script from \"cifar10.py\" to \"train.py\" for both app_1 and app_2\n",
    "* change the app_1 batch_size to 4, app_2 batch_size to 6"
   ]
  },
  {
   "cell_type": "code",
   "execution_count": null,
   "id": "63d7faee-349a-408f-bafd-e96114a2f98c",
   "metadata": {},
   "outputs": [],
   "source": [
    "! nvflare job create \\\n",
    "-j /tmp/nvflare/sag_site_config -w sag_pt_deploy_map \\\n",
    "-f app_server/config_fed_server.conf num_rounds=2 \\\n",
    "-f app_1/config_fed_client.conf app_script=train.py app_config=\"--batch_size 4\" \\\n",
    "-f app_2/config_fed_client.conf app_script=train.py app_config=\"--batch_size 6\" \\\n",
    "-sd ../code/fl \\\n",
    "-force"
   ]
  },
  {
   "cell_type": "markdown",
   "id": "932c4b05-c370-4513-8bd8-5c05962d5696",
   "metadata": {},
   "source": [
    ">Note:\n",
    "In the upcoming sections, we'll utilize the 'tree' command. To install this command on a Linux system, you can use the sudo apt install tree command. As an alternative to 'tree', you can use the ls -al command."
   ]
  },
  {
   "cell_type": "code",
   "execution_count": null,
   "id": "36b8d90f-b549-4b09-806c-0d1f0cff0966",
   "metadata": {
    "tags": []
   },
   "outputs": [],
   "source": [
    "! tree /tmp/nvflare/sag_site_config"
   ]
  },
  {
   "cell_type": "markdown",
   "id": "799f838c-da16-4b3c-9adc-dbe35a1ef734",
   "metadata": {},
   "source": [
    "We don't need the train.py in server"
   ]
  },
  {
   "cell_type": "code",
   "execution_count": null,
   "id": "31fe8311-f8ae-4e8f-99b4-749678f80054",
   "metadata": {
    "tags": []
   },
   "outputs": [],
   "source": [
    "! rm /tmp/nvflare/sag_site_config/app_server/custom/train.py"
   ]
  },
  {
   "cell_type": "code",
   "execution_count": null,
   "id": "334896a1-48b7-48fd-b1ef-bb1c8928baeb",
   "metadata": {
    "tags": []
   },
   "outputs": [],
   "source": [
    "! tree /tmp/nvflare/sag_site_config"
   ]
  },
  {
   "cell_type": "markdown",
   "id": "d71f3c9f-8185-47d3-8658-40f7b16699c5",
   "metadata": {},
   "source": [
    "## Run Job\n",
    "\n",
    "Now we can run the job with simulator command."
   ]
  },
  {
   "cell_type": "code",
   "execution_count": null,
   "id": "70738539-3df6-4779-831f-0a1375d6aabf",
   "metadata": {
    "tags": []
   },
   "outputs": [],
   "source": [
    "! nvflare simulator /tmp/nvflare/sag_site_config -t 2 -n 2 "
   ]
  },
  {
   "cell_type": "markdown",
   "id": "0af8036f-1f94-426d-8eb7-6e8b9be70a7e",
   "metadata": {},
   "source": [
    "The job should be running in the simulator mode. We are done with the training. "
   ]
  }
 ],
 "metadata": {
  "kernelspec": {
   "display_name": "nvflare_example",
   "language": "python",
   "name": "nvflare_example"
  },
  "language_info": {
   "codemirror_mode": {
    "name": "ipython",
    "version": 3
   },
   "file_extension": ".py",
   "mimetype": "text/x-python",
   "name": "python",
   "nbconvert_exporter": "python",
   "pygments_lexer": "ipython3",
   "version": "3.8.16"
  }
 },
 "nbformat": 4,
 "nbformat_minor": 5
}
