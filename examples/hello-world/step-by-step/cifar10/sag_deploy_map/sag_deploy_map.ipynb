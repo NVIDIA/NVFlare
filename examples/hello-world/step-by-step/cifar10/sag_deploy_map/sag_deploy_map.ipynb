{
 "cells": [
  {
   "cell_type": "markdown",
   "id": "514c47e2-420d-4af4-9bf0-cac337c51c39",
   "metadata": {},
   "source": [
    "# FedAvg algorithm with Site-Specific Configurations\n",
    "\n",
    "In this example, we will demonstrate the FegAvg algorithm using CIFAR10 dataset with site-specific configurations and deploy_map to show how to deploy different \"app\" to different sites using different configurations. \n",
    "\n",
    "We build on top of the previous example [FedAvg algorithm](../sag/sag.ipynb#title)\n",
    "\n",
    "Please follow these steps before proceeding to the next section:\n",
    "  * [Understanding FedAvg and SAG](../sag/sag.ipynb#sag)\n",
    "  * [Convert training code to federated learning training code](../sag/sag.ipynb#code)\n",
    "  * [Prepare Data](../sag/sag.ipynb#data)\n"
   ]
  },
  {
   "cell_type": "markdown",
   "id": "591e1c6a",
   "metadata": {},
   "source": [
    "## Job Folder and Configurations\n",
    "\n",
    "Different sites can have different location for data path, different number of epochs, etc.\n",
    "We can use Job API to generate the job folder.\n",
    "Let's first copy the required files over:"
   ]
  },
  {
   "cell_type": "code",
   "execution_count": null,
   "id": "446c39f2",
   "metadata": {},
   "outputs": [],
   "source": [
    "! cp ../code/fl/train.py train.py\n",
    "! cp ../code/fl/net.py net.py"
   ]
  },
  {
   "cell_type": "markdown",
   "id": "2824dfe3",
   "metadata": {},
   "source": [
    "Then we can run the following cell:"
   ]
  },
  {
   "cell_type": "code",
   "execution_count": null,
   "id": "912c4ff4-2630-40bb-b173-f7988800fa11",
   "metadata": {
    "tags": []
   },
   "outputs": [],
   "source": [
    "from net import Net\n",
    "\n",
    "from nvflare.app_opt.pt.job_config.fed_avg import FedAvgJob\n",
    "from nvflare.job_config.script_runner import ScriptRunner\n",
    "\n",
    "if __name__ == \"__main__\":\n",
    "    n_clients = 2\n",
    "    num_rounds = 5\n",
    "    train_script = \"train.py\"\n",
    "\n",
    "    job = FedAvgJob(\n",
    "        name=\"cifar10_fedavg_site_specific\",\n",
    "        n_clients=n_clients,\n",
    "        num_rounds=num_rounds,\n",
    "        initial_model=Net()\n",
    "    )\n",
    "\n",
    "    # Add client \"site-1\"\n",
    "    runner = ScriptRunner(\n",
    "        script=train_script, script_args=\"--batch_size 4\"\n",
    "    )\n",
    "    job.to(runner, \"site-1\")\n",
    "    \n",
    "    # Add client \"site-2\"\n",
    "    runner = ScriptRunner(\n",
    "        script=train_script, script_args=\"--batch_size 6\"\n",
    "    )\n",
    "    job.to(runner, \"site-2\")\n",
    "\n",
    "    job.export_job(\"/tmp/nvflare/jobs\")\n",
    "    job.simulator_run(\"/tmp/nvflare/jobs/workdir\", gpu=\"0\")\n"
   ]
  },
  {
   "cell_type": "markdown",
   "id": "0af8036f-1f94-426d-8eb7-6e8b9be70a7e",
   "metadata": {},
   "source": [
    "## Run Job\n",
    "\n",
    "The previous cell exports the job config and executes the job in NVFlare simulator.\n",
    "\n",
    "If you want to run in production system, you will need to submit this exported job folder to nvflare system.\n",
    "\n",
    "We can check the content of a job folder using tree command or ls -all\n"
   ]
  },
  {
   "cell_type": "code",
   "execution_count": null,
   "id": "ac12d19c",
   "metadata": {},
   "outputs": [],
   "source": [
    "! tree /tmp/nvflare/jobs/cifar10_fedavg_site_specific"
   ]
  }
 ],
 "metadata": {
  "kernelspec": {
   "display_name": "nvflare_example",
   "language": "python",
   "name": "nvflare_example"
  },
  "language_info": {
   "codemirror_mode": {
    "name": "ipython",
    "version": 3
   },
   "file_extension": ".py",
   "mimetype": "text/x-python",
   "name": "python",
   "nbconvert_exporter": "python",
   "pygments_lexer": "ipython3",
   "version": "3.8.16"
  }
 },
 "nbformat": 4,
 "nbformat_minor": 5
}
