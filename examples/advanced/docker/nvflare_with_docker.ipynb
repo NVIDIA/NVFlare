{
 "cells": [
  {
   "cell_type": "markdown",
   "id": "cada310b-e776-4b9a-aabe-f111c31efcc2",
   "metadata": {
    "tags": []
   },
   "source": [
    "# NVIDIA FLARE with Docker"
   ]
  },
  {
   "cell_type": "markdown",
   "id": "0653cbf2-92f2-4a22-8317-69cfb0266e92",
   "metadata": {},
   "source": [
    "### NVIDIA FLARE with Docker\n",
    "This notebook shows how to use [NVIDIA FLARE](https://nvflare.readthedocs.io/en/main/index.html) with [Docker](https://www.docker.com/).\n",
    "\n",
    "Please make sure you set up a virtual environment and install JupyterLab following the [example root readme](../../README.md).\n",
    "\n",
    "Also, make sure that you have cloned the [NVFlare](https://github.com/NVIDIA/NVFlare) repository so you have the source code for building Docker images with NVFlare."
   ]
  },
  {
   "cell_type": "markdown",
   "id": "6fda7082-767b-48fb-b73e-2b75b320bf53",
   "metadata": {},
   "source": [
    "## Building a Docker Image\n",
    "\n",
    "### Building a Docker Image with a Dockerfile\n",
    "In the folder containing this example, there is a Dockerfile:"
   ]
  },
  {
   "cell_type": "code",
   "execution_count": null,
   "id": "92746594-b27c-4c89-80ef-17256c533b93",
   "metadata": {},
   "outputs": [],
   "source": [
    "cat Dockerfile"
   ]
  },
  {
   "cell_type": "markdown",
   "id": "87aba3a0-e65a-49f7-9f27-7975bc335079",
   "metadata": {},
   "source": [
    "Note that this Dockerfile uses the [NVIDIA PyTorch](https://catalog.ngc.nvidia.com/orgs/nvidia/containers/pytorch) base container and then clones the NVFlare repository while updating and installing the basic dependencies and specified version of NVFlare.\n",
    "\n",
    "To build a Docker image named `nvflare-pt-docker` with this Dockerfile, you can use the following command (note that if you need to download the base image, you may want to run it in a separate terminal instead of inside this notebook because the output in the notebook will keep appending to track the status of the download and may use up too much memory):"
   ]
  },
  {
   "cell_type": "code",
   "execution_count": null,
   "id": "05f41f3a-03f8-42e4-882f-fee4d5e8342f",
   "metadata": {},
   "outputs": [],
   "source": [
    "! docker build -t nvflare-pt-docker . -f Dockerfile"
   ]
  },
  {
   "cell_type": "markdown",
   "id": "486a18f9-650d-4b35-bbdc-52ba07761d51",
   "metadata": {},
   "source": [
    "You can check that the Docker image has been built and exists with:"
   ]
  },
  {
   "cell_type": "code",
   "execution_count": null,
   "id": "740bb26e-87f5-4561-9384-189c0c423822",
   "metadata": {},
   "outputs": [],
   "source": [
    "! docker images"
   ]
  },
  {
   "cell_type": "markdown",
   "id": "9094f2cc-3463-4b8d-a347-50556d413423",
   "metadata": {},
   "source": [
    "In this example Dockerfile, we are using the [NVIDIA PyTorch](https://catalog.ngc.nvidia.com/orgs/nvidia/containers/pytorch) base container. You can use other base containers if you need other dependencies.\n",
    "\n",
    "### Dependencies of Base Images\n",
    "Please note that there may be issues if the dependencies of the base image you are using have versions that conflict with NVIDIA FLARE. For example, the PyTorch base image also has gRPC, so if the version of gRPC in the NVIDIA PyTorch base image is not compatible with the version of gRPC used by the version of NVFlare, you may run into errors and not be able to successfully connect the FL clients and servers. You may need to use a newer or older base image or specify a newer or older version of NVFlare to be compatible."
   ]
  },
  {
   "cell_type": "markdown",
   "id": "d00a56b5-9cfa-4364-a8e8-0976a839b3f2",
   "metadata": {},
   "source": [
    "## Provisioning NVIDIA FLARE Project with Docker Image\n",
    "If you provision a project with the `nvflare provision` command, you can configure a Docker image for the startup kits to automatically contain a `docker.sh` script for starting the specified Docker image.\n",
    "\n",
    "### Setting Docker Image in Project.yml\n",
    "In the `project.yml` configuration for provisioning an NVFlare project, under `nvflare.lighter.impl.static_file.StaticFileBuilder` is an arg for `docker_image` which is commented out in the default `project.yml`. If this line is uncommented and the name of the Docker image is placed here, the provisioning process will create a `docker.sh` script for each server and participant:\n",
    "\n",
    "```\n",
    "builders:\n",
    "  - path: nvflare.lighter.impl.static_file.StaticFileBuilder\n",
    "    args:\n",
    "      # when docker_image is set to a docker image name, docker.sh will be generated on server/client/admin\n",
    "      docker_image: nvflare-pt-docker\n",
    "```"
   ]
  },
  {
   "cell_type": "markdown",
   "id": "573a2f58-a6f5-4d6e-9271-e0d7f2e1c9e9",
   "metadata": {},
   "source": [
    "We are focusing on Docker in this notebook, so for more details on the provisioning process, see [Provisioning in NVIDIA FLARE](https://nvflare.readthedocs.io/en/main/programming_guide/provisioning_system.html). There is a basic project.yml in the folder with this notebook that is almost the same as the default project.yml generated for non-HA mode but with `mylocalhost` configured for the server name. We also update the name of the project to example_docker_project and uncomment the `docker_image` arg for StaticFileBuilder and set the name of the Docker image to `nvflare-pt-docker` to match the image we just created."
   ]
  },
  {
   "cell_type": "markdown",
   "id": "9a566014-be39-4522-b366-c4df16371483",
   "metadata": {},
   "source": [
    "### Provision the Project\n",
    "Take a look at this project.yml file and run the following `nvflare provision` command if there is nothing you need to update. You can update the server name to something other than `mylocalhost`, but whatever this is will need to be accessible from the FL clients (more details in the section below)."
   ]
  },
  {
   "cell_type": "code",
   "execution_count": null,
   "id": "016da892-3e2e-46af-82ce-0731b82e5033",
   "metadata": {},
   "outputs": [],
   "source": [
    "! nvflare provision"
   ]
  },
  {
   "cell_type": "markdown",
   "id": "1d872d8a-9e44-49dd-94b1-7862b3815ffe",
   "metadata": {},
   "source": [
    "## Starting Docker Containers and NVFlare\n",
    "Inside each startup kit is a `docker.sh` script for starting the Docker image specified in the `project.yml` configuration.\n",
    "\n",
    "### Docker Run Command for the Server\n",
    "If you kept the name of the server as the default of `mylocalhost`, the following cell will show the contents of the `docker.sh` script for the FL server."
   ]
  },
  {
   "cell_type": "code",
   "execution_count": null,
   "id": "916eed6e-358d-4b01-858e-520f95f8dd1e",
   "metadata": {},
   "outputs": [],
   "source": [
    "! cat workspace/example_docker_project/prod_00/mylocalhost/startup/docker.sh"
   ]
  },
  {
   "cell_type": "markdown",
   "id": "e38e77c0-6d7a-4548-988f-c5090ac85b7f",
   "metadata": {},
   "source": [
    "Note how the Docker image was set to the image we specified with the `DOCKER_IMAGE=nvflare-pt-docker` line.\n",
    "\n",
    "`/workspace` is mapped to the directory that is the parent of the one containing this `docker.sh` script, i.e., `mylocalhost`. It is then used for the working directory with the `-w` option.\n",
    "\n",
    "By default, `NETARG` is set to add the option `--net=host`, but if you do not want to use the host network, you can comment out the line setting the default value and uncomment the line to set it to map ports manually: `NETARG=\"-p 8003:8003 -p 8002:8002\"`.\n",
    "\n",
    "If you run the `docker.sh` script with the `-d` flag for detached mode, the `docker run` command that is executed will launch the Docker image in detached mode and automatically start the FL server. Otherwise, the container will start in interactive mode so you can manually start the server with the `start.sh` command in the startup directory by typing `./startup/start.sh`.\n",
    "\n",
    "If you want to run the FL server in a terminal, you can start the docker with `docker run --rm -it --name=flserver -v $(pwd)/mylocalhost:/workspace/ -w /workspace/ --ipc=host --net=host nvflare-pt-docker /bin/bash` then `./startup/start.sh`)\n",
    "\n",
    "Otherwise, you can run the server with the next cell. Since in a Jupyter notebook it can be challenging to execute scripts requiring interaction, we can use the `-d` flag to start the FL server automatically when running the Docker command in the next cell:"
   ]
  },
  {
   "cell_type": "code",
   "execution_count": null,
   "id": "c4301ec3-8956-4f7b-983d-24990d283490",
   "metadata": {},
   "outputs": [],
   "source": [
    "! ./workspace/example_docker_project/prod_00/mylocalhost/startup/docker.sh -d"
   ]
  },
  {
   "cell_type": "markdown",
   "id": "e6aa064e-91c6-4b4d-bc09-3b29ae504ca7",
   "metadata": {},
   "source": [
    "To check that the docker image has started, run:"
   ]
  },
  {
   "cell_type": "code",
   "execution_count": null,
   "id": "84d8c51c-966f-4d1b-b3a5-077bfc18a595",
   "metadata": {},
   "outputs": [],
   "source": [
    "! docker ps"
   ]
  },
  {
   "cell_type": "markdown",
   "id": "2a3af85d-4885-462a-90ce-fbf27fc2aa45",
   "metadata": {},
   "source": [
    "### Docker Run Command for Clients\n",
    "The following cell will show the contents of the `docker.sh` script for the FL client site-1, the default name for the first client configured in the `project.yml` for this example. If you have changed the name of the FL clients, please replace site-1 with your FL client name below."
   ]
  },
  {
   "cell_type": "code",
   "execution_count": null,
   "id": "512a256c-55af-4d53-8619-f2eef52c1f63",
   "metadata": {},
   "outputs": [],
   "source": [
    "! cat workspace/example_docker_project/prod_00/site-1/startup/docker.sh"
   ]
  },
  {
   "cell_type": "markdown",
   "id": "58a609cf-c534-4d6d-a4ab-7002f717bbc4",
   "metadata": {},
   "source": [
    "Much of this is the same as the `docker.sh` script for launching the Docker container for FL server. The Docker image is set to the same image we specified in `project.yml`. \n",
    "\n",
    "Again, `/workspace` is mapped to the directory that is the parent of the one containing this `docker.sh` script, and it is used for the working directory with the `-w` option.\n",
    "\n",
    "By default, `NETARG` is set to add the option `--net=host`, but since clients do not need to open any ports this is not needed as long as the FL client is able to connect to the FL server.\n",
    "\n",
    "The Docker script for FL clients has the additional variable `MY_DATA_DIR` set to `/home/flcient/data` by default which is mapped to `/data` in the container. You can set this to a custom value by running `export MY_DATA_DIR=$SOME_DIRECTORY` before `docker.sh`.\n",
    "\n",
    "The `GPU2USE` variable is also added to keep track of the option for what GPUs to use for the container. Uncomment a line setting the value of `GPU2USE` to use GPUs: `--gpus=all` to use all available GPUs, `--gpus=2` to use two GPUs, and `--gpus=\"device=0,2\"` for specifying specific GPUs where the numbers after `device=` are the GPU IDs.\n",
    "\n",
    "> **Note:** In order to use the `--gpus` flag, you may need to ensure that you have the [NVIDIA Container Toolkit](https://docs.nvidia.com/datacenter/cloud-native/container-toolkit/latest/install-guide.html) installed.\n",
    "\n",
    "If you run the `docker.sh` script with the `-d` flag for detached mode, the `docker run` command that is executed will launch the Docker image in detached mode and automatically start the FL client. Otherwise, the container will start in interactive mode so you can manually start the client with the `start.sh` command in the startup directory by typing `./startup/start.sh`.\n",
    "\n",
    "If you want to run an FL client in a terminal, you can start the docker with `docker run --rm -it --name=site-1 $GPU2USE -u $(id -u):$(id -g) -v /etc/passwd:/etc/passwd -v /etc/group:/etc/group -v $(pwd)/site-1:/workspace/ -v /tmp/nvflare/flclient/data:/data/:ro -w /workspace/ --ipc=host nvflare-pt-docker /bin/bash` then `./startup/start.sh`)\n",
    "\n",
    "Otherwise, you can start a client in the next cell. Since in a Jupyter notebook it can be challenging to execute scripts requiring interaction, we the `-d` flag to start the FL client automatically when running the Docker command in the next cell (to start a second client for site-2, you could copy the cell and change the path to use the docker.sh for site-2, or use a terminal to run it):"
   ]
  },
  {
   "cell_type": "code",
   "execution_count": null,
   "id": "7bfe3ea5-7264-4717-9f98-a1068cb95758",
   "metadata": {},
   "outputs": [],
   "source": [
    "! ./workspace/example_docker_project/prod_00/site-1/startup/docker.sh -d"
   ]
  },
  {
   "cell_type": "markdown",
   "id": "dd89372a-c60c-4e57-a1db-719ce539fa4b",
   "metadata": {},
   "source": [
    "To check that the Docker container has started, run:"
   ]
  },
  {
   "cell_type": "code",
   "execution_count": null,
   "id": "df5c5721-8a3f-4c76-84b6-2fb6d614e936",
   "metadata": {},
   "outputs": [],
   "source": [
    "! docker ps"
   ]
  },
  {
   "cell_type": "markdown",
   "id": "b0bdf59f-59c0-427c-a444-78e0f98d1189",
   "metadata": {},
   "source": [
    "If you want to see the logs of the container, you can run:"
   ]
  },
  {
   "cell_type": "code",
   "execution_count": null,
   "id": "a0ebddf0-4b06-418e-8e9e-f5407751ed5d",
   "metadata": {},
   "outputs": [],
   "source": [
    "! docker logs site-1"
   ]
  },
  {
   "cell_type": "markdown",
   "id": "b7342100-4fd3-4453-9de0-972cd5cdac92",
   "metadata": {},
   "source": [
    "If you notice that a while after starting the Docker container and running an NVFlare client, the Docker container stops and exits, it could be possible that the client is unable to connect to the FL server. See the section below on troubleshooting connections."
   ]
  },
  {
   "cell_type": "markdown",
   "id": "ff5ed542-832f-4577-85b1-a644a2e8e61c",
   "metadata": {},
   "source": [
    "### Docker Run Command for FLARE Console\n",
    "There is a `docker.sh` script for the project admins provisioned in `project.yml` but you do not need any dependencies other than having nvflare installed for running the FLARE Console, so usually you would not need to run the FLARE Console in a Docker container.\n",
    "\n",
    "If you would like to, you can run the FLARE Console to connect to the FL server and check the status, submit jobs, or perform any other FL commands.\n",
    "\n",
    "With the PyTorch dependencies in the Docker containers, you can follow the instructions to export and then submit the [Hello PyTorch Example](https://nvflare.readthedocs.io/en/main/examples/hello_pt_job_api.html) with the [FLARE Console](https://nvflare.readthedocs.io/en/main/real_world_fl/operation.rst) or the [FLARE API](../../tutorials/flare_api.ipynb)."
   ]
  },
  {
   "cell_type": "markdown",
   "id": "1f6b6953-59ae-4e3e-9287-cefab801bfa2",
   "metadata": {},
   "source": [
    "### Troubleshooting Connections and Configuring /etc/hosts\n",
    "To make sure that your FL server is reachable, assuming your server is running in the Docker container with the mode for `NETARG=\"--net=host\"`, you may need to add an entry in /etc/hosts (or if you are not runinng your FL server on the local host, you need to make sure the DNS is resolvable):\n",
    "```\n",
    "127.0.0.1\t mylocalhost\n",
    "```\n",
    "\n",
    "If you are trying to run this on Mac, you may have to take additional steps to make the FL server reachable. For example, if you use Colima, you may need to figure out a way to add the following into the /etc/hosts of your container for your FL client even if you are using the script with `NETARG=\"--net=host\"`: \n",
    "```\n",
    "192.168.5.2\t mylocalhost\n",
    "```"
   ]
  },
  {
   "cell_type": "markdown",
   "id": "af257e69-2bb7-49b6-ac6c-f007b0e6618e",
   "metadata": {},
   "source": [
    "## Stopping the Docker Containers\n",
    "After you are done and ready to stop your running Docker containers, you can use the following cells:"
   ]
  },
  {
   "cell_type": "code",
   "execution_count": null,
   "id": "d8807d89-49f5-4fd0-bf8d-b9fe01047796",
   "metadata": {
    "tags": []
   },
   "outputs": [],
   "source": [
    "! docker stop flserver"
   ]
  },
  {
   "cell_type": "code",
   "execution_count": null,
   "id": "f9547e65-c9a9-4509-b119-03c37065ddad",
   "metadata": {},
   "outputs": [],
   "source": [
    "! docker stop site-1"
   ]
  },
  {
   "cell_type": "code",
   "execution_count": null,
   "id": "033c9100-f49f-4129-bc93-3f277ce8695c",
   "metadata": {},
   "outputs": [],
   "source": [
    "! docker stop site-2"
   ]
  },
  {
   "cell_type": "markdown",
   "id": "c5a2e20a-da8f-4961-a8dd-e5b1159386eb",
   "metadata": {},
   "source": [
    "If you started a Docker container for the FLARE Console with the default name and want to stop it:"
   ]
  },
  {
   "cell_type": "code",
   "execution_count": null,
   "id": "23cdd81b-635a-489e-8ac9-81f7646791ef",
   "metadata": {},
   "outputs": [],
   "source": [
    "! docker stop fladmin"
   ]
  },
  {
   "cell_type": "markdown",
   "id": "ee204366-238b-4e50-bd78-1be14934b16d",
   "metadata": {},
   "source": [
    "To check that all your Docker containers have stopped, the following should display no more running containers:"
   ]
  },
  {
   "cell_type": "code",
   "execution_count": null,
   "id": "a82487d6-4dab-48c9-8991-43cbdf68f8af",
   "metadata": {},
   "outputs": [],
   "source": [
    "! docker ps"
   ]
  }
 ],
 "metadata": {
  "kernelspec": {
   "display_name": "nvflareenv",
   "language": "python",
   "name": "nvflareenv"
  },
  "language_info": {
   "codemirror_mode": {
    "name": "ipython",
    "version": 3
   },
   "file_extension": ".py",
   "mimetype": "text/x-python",
   "name": "python",
   "nbconvert_exporter": "python",
   "pygments_lexer": "ipython3",
   "version": "3.10.12"
  }
 },
 "nbformat": 4,
 "nbformat_minor": 5
}
