{
 "cells": [
  {
   "cell_type": "markdown",
   "metadata": {},
   "source": [
    "# Consensus algorithm"
   ]
  },
  {
   "cell_type": "markdown",
   "metadata": {},
   "source": [
    "In this example we'll show how to run a simple consensus algorithm.\n",
    "\n",
    "## Background\n",
    "\n",
    "We consider a network of `num_clients` peer clients. Each client $i$ maintains some local value $x_i^t$ and is connected to a subset of the other clients in the network, defined as the set of its neighbors $\\mathcal{N}_i$.\n",
    "\n",
    "The goal of all the clients is to reach consensus on their local values by communicating with their peers for a certain number of iterations $T$. \n",
    "In other terms, they want to cooperatively compute a weighted average of their initial values $x_i^0$.\n",
    "\n",
    "The consensus algorithm works by having each client updating its local value as\n",
    "\n",
    "$$x_i^{t+1} = \\sum_{j\\in\\mathcal{N}_i}a_{ji}x_j^t$$\n",
    "\n",
    "where $a_{ji}$ is the weight associated by client $i$ to client $j$ and $\\sum_{j=1}^N a_{ji}=1$ for all $i$."
   ]
  },
  {
   "cell_type": "markdown",
   "metadata": {},
   "source": [
    "## Setup\n",
    "Let's assume we have $N=5$ clients and generate a random configuration."
   ]
  },
  {
   "cell_type": "code",
   "execution_count": null,
   "metadata": {},
   "outputs": [],
   "source": [
    "from nvflare.app_opt.p2p.utils.config_generator import generate_random_network\n",
    "from nvflare.app_opt.p2p.types import Config\n",
    "\n",
    "# generate random config\n",
    "num_clients=5\n",
    "network, adjacency_matrix = generate_random_network(num_clients=num_clients)\n",
    "config = Config(network=network, extra={\"iterations\": 50})"
   ]
  },
  {
   "cell_type": "markdown",
   "metadata": {},
   "source": [
    "By inspecting the config we can see the initial values of each client as well as the network topology."
   ]
  },
  {
   "cell_type": "code",
   "execution_count": null,
   "metadata": {},
   "outputs": [],
   "source": [
    "from rich import print\n",
    "\n",
    "print(config)"
   ]
  },
  {
   "cell_type": "markdown",
   "metadata": {},
   "source": [
    "## Instantiating and running the distributed algorithm\n",
    "\n",
    "Now that we have all the configurations, we can instantiate the clients and a controller."
   ]
  },
  {
   "cell_type": "code",
   "execution_count": null,
   "metadata": {},
   "outputs": [],
   "source": [
    "from nvflare.job_config.api import FedJob\n",
    "from nvflare.app_opt.p2p.executors import ConsensusExecutor\n",
    "from nvflare.app_opt.p2p.controllers import DistOptController\n",
    "\n",
    "# Create job\n",
    "job = FedJob(name=\"consensus\")\n",
    "\n",
    "# send controller to server\n",
    "controller = DistOptController(config=config)\n",
    "job.to_server(controller)\n",
    "\n",
    "# Add clients\n",
    "for i in range(num_clients):\n",
    "    executor = ConsensusExecutor() # the executor will be initialized with a random value\n",
    "    job.to(executor, f\"site-{i+1}\")"
   ]
  },
  {
   "cell_type": "markdown",
   "metadata": {},
   "source": [
    "Finally, we can run the algorithm"
   ]
  },
  {
   "cell_type": "code",
   "execution_count": null,
   "metadata": {},
   "outputs": [],
   "source": [
    "# run\n",
    "job.export_job(\"./tmp/job_configs\")\n",
    "job.simulator_run(\"./tmp/runs/consensus\")"
   ]
  },
  {
   "cell_type": "markdown",
   "metadata": {},
   "source": [
    "Now, since in this toy example we have access to both the intial values and the adjacency matrix, we can compute the consensus value at which the clients will converge."
   ]
  },
  {
   "cell_type": "code",
   "execution_count": null,
   "metadata": {},
   "outputs": [],
   "source": [
    "import torch\n",
    "\n",
    "from nvflare.app_opt.p2p.utils.topology import get_matrix_steady_state\n",
    "\n",
    "history = {\n",
    "    f\"site-{i+1}\": torch.load(f\"tmp/runs/consensus/site-{i+1}/value_sequence.pt\") for i in range(num_clients)\n",
    "}\n",
    "x0=torch.tensor([h[0] for name, h in history.items()]).t()\n",
    "consensus_value = x0 @ get_matrix_steady_state(adjacency_matrix)\n",
    "print(f\"Consensus value: {consensus_value}\")"
   ]
  },
  {
   "cell_type": "markdown",
   "metadata": {},
   "source": [
    "By inspecting the history/results, we can easily see that all the clients successfully converged to the expected consensus value. "
   ]
  },
  {
   "cell_type": "code",
   "execution_count": null,
   "metadata": {},
   "outputs": [],
   "source": [
    "import matplotlib.pyplot as plt\n",
    "\n",
    "# plot results\n",
    "plt.figure()\n",
    "for i in range(num_clients):\n",
    "    plt.plot(history[f\"site-{i+1}\"], label=f\"site-{i+1}\")\n",
    "plt.axhline(y=consensus_value, color='k', linestyle=\"--\", label=\"Consensus value\")\n",
    "plt.legend()\n",
    "plt.title(\"Evolution of local values\")\n",
    "plt.show()"
   ]
  }
 ],
 "metadata": {
  "kernelspec": {
   "display_name": "Python 3",
   "language": "python",
   "name": "python3"
  },
  "language_info": {
   "codemirror_mode": {
    "name": "ipython",
    "version": 3
   },
   "file_extension": ".py",
   "mimetype": "text/x-python",
   "name": "python",
   "nbconvert_exporter": "python",
   "pygments_lexer": "ipython3",
   "version": "3.10.12"
  }
 },
 "nbformat": 4,
 "nbformat_minor": 5
}
