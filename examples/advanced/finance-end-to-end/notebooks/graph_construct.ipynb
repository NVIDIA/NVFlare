{
 "cells": [
  {
   "cell_type": "markdown",
   "id": "3d892b5e-2f3b-4182-bedb-d332bfc3a353",
   "metadata": {},
   "source": [
    "# Graph Construction Step\n",
    "\n",
    "* Construct the graph for each site's transaction data\n",
    "\n",
    "Each node represents a transaction, and the edges represent the relationships between transactions. Since each site consists of the same Sender_BIC, to define the graph edge, we use the following rules:\n",
    "\n",
    "1. The two transactions are with the same Receiver_BIC.\n",
    "2. The time difference between the two transactions is smaller than 6000.\n",
    "\n",
    "Note that in real applications, such rules should be designed according to the characteristics of the candidate data."
   ]
  },
  {
   "cell_type": "markdown",
   "id": "b8498bf1-d368-4d15-a5bf-559eb6e3918b",
   "metadata": {},
   "source": [
    "### Load Data"
   ]
  },
  {
   "cell_type": "code",
   "execution_count": null,
   "id": "db9d04f0-a64d-457b-aacf-1a3737e07e12",
   "metadata": {
    "tags": []
   },
   "outputs": [],
   "source": [
    "site_input_dir = \"/tmp/dataset/horizontal_credit_fraud_data/\"\n",
    "site_name = \"ZHSZUS33_Bank_1\""
   ]
  },
  {
   "cell_type": "code",
   "execution_count": null,
   "id": "2d84f89f-fe0a-4387-92a2-49ca9143c141",
   "metadata": {
    "tags": []
   },
   "outputs": [],
   "source": [
    "import os\n",
    "\n",
    "import pandas as pd\n",
    "dataset_names = [\"train\", \"test\"]\n",
    "datasets = {}\n",
    "\n",
    "for ds_name in dataset_names:\n",
    "    file_name = os.path.join(site_input_dir, site_name, f\"{ds_name}.csv\" )\n",
    "    df = pd.read_csv(file_name)\n",
    "    datasets[ds_name] = df\n",
    "    print(df)"
   ]
  },
  {
   "cell_type": "code",
   "execution_count": null,
   "id": "ccdc785e-9597-4083-b74a-2cacb25b20cb",
   "metadata": {
    "tags": []
   },
   "outputs": [],
   "source": [
    "df.columns"
   ]
  },
  {
   "cell_type": "code",
   "execution_count": null,
   "id": "5bd5be54-c5e7-43c7-ad4f-de29a09bc7ec",
   "metadata": {
    "tags": []
   },
   "outputs": [],
   "source": [
    "import pandas as pd\n",
    "\n",
    "edge_maps = {}\n",
    "\n",
    "info_columns = ['Time', 'Receiver_BIC', 'UETR']\n",
    "time_threshold = 6000\n",
    "\n",
    "for ds_name in dataset_names:\n",
    "    df = datasets[ds_name]\n",
    "    \n",
    "    # Find transaction pairs that are within the time threshold\n",
    "    # First sort the table by 'Time'\n",
    "    df = df.sort_values(by=\"Time\")\n",
    "    # Keep only the columns that are needed for the graph edge map\n",
    "    df = df[info_columns]\n",
    "\n",
    "    # Then for each row, find the next rows that is within the time threshold\n",
    "    graph_edge_map = []\n",
    "    for i in range(len(df)):\n",
    "        # Find the next rows that is:\n",
    "        # - within the time threshold\n",
    "        # - has the same Receiver_BIC\n",
    "        j = 1\n",
    "        while (i + j < len(df) and df[\"Time\"].values[i + j] < df[\"Time\"].values[i] + time_threshold):\n",
    "            if (df[\"Receiver_BIC\"].values[i + j] == df[\"Receiver_BIC\"].values[i]):\n",
    "                graph_edge_map.append([df[\"UETR\"].values[i], df[\"UETR\"].values[i + j]])\n",
    "            j += 1\n",
    "\n",
    "    print(f\"Generated edge map for {ds_name}, in total {len(graph_edge_map)} valid edges for {len(df)} transactions\")\n",
    "\n",
    "    edge_maps[ds_name] = pd.DataFrame(graph_edge_map)    \n"
   ]
  },
  {
   "cell_type": "code",
   "execution_count": null,
   "id": "7780ab4d-7d1d-4eda-96e1-eed9243eff11",
   "metadata": {
    "tags": []
   },
   "outputs": [],
   "source": [
    "edge_maps[\"train\"]"
   ]
  },
  {
   "cell_type": "code",
   "execution_count": null,
   "id": "f326a613-e683-4f67-810d-aece3d90349e",
   "metadata": {
    "tags": []
   },
   "outputs": [],
   "source": [
    "for name in edge_maps:\n",
    "    site_dir = os.path.join(site_input_dir, site_name)\n",
    "    os.makedirs(site_dir, exist_ok=True)\n",
    "    edge_map_file_name = os.path.join(site_dir, f\"{name}_edgemap.csv\")\n",
    "    print(\"save to = \", edge_map_file_name)\n",
    "    # save to csv file without header and index\n",
    "    edge_maps[name].to_csv(edge_map_file_name, header=False, index=False)"
   ]
  },
  {
   "cell_type": "code",
   "execution_count": null,
   "id": "c1b8925c-6890-4a45-a9c4-f80399b463cc",
   "metadata": {
    "tags": []
   },
   "outputs": [],
   "source": [
    "! tree /tmp/dataset/horizontal_credit_fraud_data/ZHSZUS33_Bank_1"
   ]
  },
  {
   "cell_type": "markdown",
   "id": "8591e4e1-74b1-465c-8124-eaf9829a6a8e",
   "metadata": {},
   "source": [
    "Let's go back to the [XGBoost Notebook](../xgboost.ipynb)"
   ]
  },
  {
   "cell_type": "code",
   "execution_count": null,
   "id": "d926970e-a4e9-41a7-a166-0d11f8e9e320",
   "metadata": {},
   "outputs": [],
   "source": []
  }
 ],
 "metadata": {
  "kernelspec": {
   "display_name": "nvflare_example",
   "language": "python",
   "name": "nvflare_example"
  },
  "language_info": {
   "codemirror_mode": {
    "name": "ipython",
    "version": 3
   },
   "file_extension": ".py",
   "mimetype": "text/x-python",
   "name": "python",
   "nbconvert_exporter": "python",
   "pygments_lexer": "ipython3",
   "version": "3.8.18"
  }
 },
 "nbformat": 4,
 "nbformat_minor": 5
}
