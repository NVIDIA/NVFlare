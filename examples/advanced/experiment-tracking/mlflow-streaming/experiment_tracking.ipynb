{
 "cells": [
  {
   "cell_type": "markdown",
   "id": "e129ede5",
   "metadata": {},
   "source": [
    "   # Hello PyTorch with MLflow"
   ]
  },
  {
   "cell_type": "markdown",
   "id": "9bf7e391",
   "metadata": {},
   "source": [
    "In this example, we like to demonstrate that the example code used in hello-pt-tb with PyTorch Tensorboard tracking can be simply switch to using MLflow as experimental tracking without changing the code\n"
   ]
  },
  {
   "cell_type": "markdown",
   "id": "18ec76f4",
   "metadata": {},
   "source": [
    "\n",
    "Example of using [NVIDIA FLARE](https://nvflare.readthedocs.io/en/main/index.html) to train an image classifier using federated averaging ([FedAvg]([FedAvg](https://arxiv.org/abs/1602.05629))) and [PyTorch](https://pytorch.org/) as the deep learning training framework. This example also highlights the streaming capability from the clients to the server with Tensorboard SummaryWriter sender syntax, but with a MLFlow receiver\n",
    "\n",
    "> **_NOTE:_** This example uses the [CIFAR-10](https://www.cs.toronto.edu/~kriz/cifar.html) dataset and will load its data within the trainer code.\n"
   ]
  },
  {
   "cell_type": "markdown",
   "id": "bbca0050",
   "metadata": {},
   "source": [
    "### 1. Install NVIDIA FLARE\n",
    "\n",
    "Follow the [Installation](https://nvflare.readthedocs.io/en/main/getting_started.html#installation) instructions.\n",
    "Install additional requirements:\n"
   ]
  },
  {
   "cell_type": "code",
   "execution_count": null,
   "id": "e2b5579b",
   "metadata": {},
   "outputs": [],
   "source": [
    "%%bash\n",
    "pip3 install torch torchvision tensorboard mlflow"
   ]
  },
  {
   "cell_type": "markdown",
   "id": "b8226dd7",
   "metadata": {},
   "source": [
    "### 2. Change Configuration\n",
    "\n",
    "in fed_server_config.json\n",
    "\n",
    "add the following to the components\n",
    "```\n",
    "{\n",
    "      \"id\": \"mlflow_receiver\",\n",
    "      \"path\": \"nvflare.app_opt.tracking.mlflow.mlflow_receiver.MLFlowReceiver\",\n",
    "      \"args\": {\n",
    "        \"kwargs\": {\"experiment_name\": \"hello-pt-experiments\"},\n",
    "        \"artifact_location\": \"artifacts\"\n",
    "      }\n",
    "}\n",
    "```\n",
    "This indicate that we are register the MLFLow Receiver in additional to the Tensorboard Receiver \n",
    "\n"
   ]
  },
  {
   "cell_type": "markdown",
   "id": "6fe3165d",
   "metadata": {},
   "source": [
    "\n",
    "### 3. Run the experiment\n",
    "\n",
    "Use nvflare simulator to run the hello-examples:\n",
    "\n",
    "```\n",
    "nvflare simulator -w /tmp/nvflare/ -n 2 -t 2 examples/hello-pt-tb-mlflow/hello-pt-tb-mlflow-job1\n",
    "```"
   ]
  },
  {
   "cell_type": "code",
   "execution_count": 2,
   "id": "c8f08cef",
   "metadata": {},
   "outputs": [
    {
     "name": "stderr",
     "output_type": "stream",
     "text": [
      "Traceback (most recent call last):\n",
      "  File \"/workspace/venvs/NVFlare/519nvflare-env/bin/nvflare\", line 5, in <module>\n",
      "    from nvflare.cli import main\n",
      "  File \"/workspace/repos/NVFlare_experiment2/nvflare/cli.py\", line 20, in <module>\n",
      "    from nvflare.dashboard.cli import define_dashboard_parser, handle_dashboard\n",
      "  File \"/workspace/repos/NVFlare_experiment2/nvflare/dashboard/cli.py\", line 24, in <module>\n",
      "    from nvflare.dashboard.application.blob import _write\n",
      "  File \"/workspace/repos/NVFlare_experiment2/nvflare/dashboard/application/__init__.py\", line 19, in <module>\n",
      "    from flask_sqlalchemy import SQLAlchemy\n",
      "  File \"/workspace/venvs/NVFlare/519nvflare-env/lib/python3.10/site-packages/flask_sqlalchemy/__init__.py\", line 16, in <module>\n",
      "    from sqlalchemy import event, inspect, orm\n",
      "  File \"/workspace/venvs/NVFlare/519nvflare-env/lib/python3.10/site-packages/sqlalchemy/orm/__init__.py\", line 309, in <module>\n",
      "    from .events import AttributeEvents\n",
      "  File \"/workspace/venvs/NVFlare/519nvflare-env/lib/python3.10/site-packages/sqlalchemy/orm/events.py\", line 137, in <module>\n",
      "    class InstanceEvents(event.Events):\n",
      "  File \"/workspace/venvs/NVFlare/519nvflare-env/lib/python3.10/site-packages/sqlalchemy/event/base.py\", line 169, in __init__\n",
      "    _create_dispatcher_class(cls, classname, bases, dict_)\n",
      "  File \"/workspace/venvs/NVFlare/519nvflare-env/lib/python3.10/site-packages/sqlalchemy/event/base.py\", line 194, in _create_dispatcher_class\n",
      "    setattr(dispatch_inst, k, _ClsLevelDispatch(cls, dict_[k]))\n",
      "  File \"/workspace/venvs/NVFlare/519nvflare-env/lib/python3.10/site-packages/sqlalchemy/event/attr.py\", line 97, in __init__\n",
      "    fn.__doc__ = legacy._augment_fn_docs(self, parent_dispatch_cls, fn)\n",
      "  File \"/workspace/venvs/NVFlare/519nvflare-env/lib/python3.10/site-packages/sqlalchemy/event/legacy.py\", line 185, in _augment_fn_docs\n",
      "    return util.inject_docstring_text(fn.__doc__, text, 1)\n",
      "  File \"/workspace/venvs/NVFlare/519nvflare-env/lib/python3.10/site-packages/sqlalchemy/util/langhelpers.py\", line 1856, in inject_docstring_text\n",
      "    doctext = _dedent_docstring(doctext or \"\")\n",
      "  File \"/workspace/venvs/NVFlare/519nvflare-env/lib/python3.10/site-packages/sqlalchemy/util/langhelpers.py\", line 1850, in _dedent_docstring\n",
      "    return firstline + \"\\n\" + textwrap.dedent(remaining)\n",
      "  File \"/usr/lib/python3.10/textwrap.py\", line 469, in dedent\n",
      "    text = re.sub(r'(?m)^' + margin, '', text)\n",
      "  File \"/usr/lib/python3.10/re.py\", line 209, in sub\n",
      "    return _compile(pattern, flags).sub(repl, string, count)\n",
      "KeyboardInterrupt\n"
     ]
    },
    {
     "name": "stdout",
     "output_type": "stream",
     "text": [
      "Process is interrupted.\n"
     ]
    }
   ],
   "source": [
    "%%bash\n",
    "cd $NVFLARE_HOME\n",
    "\n",
    "nvflare simulator -w /tmp/nvflare/ -n 2 -t 2 examples/hello-pt-tb-mlflow/hello-pt-tb-mlflow-job1"
   ]
  },
  {
   "cell_type": "markdown",
   "id": "7b1fe44d",
   "metadata": {},
   "source": [
    "### 4. Tensorboard Tracking\n",
    "\n",
    "On the client side, we are still using the TensorBoard SummaryWriter as the `AnalyticsSender`. \n",
    "\n",
    "Instead of writing to TB files, it actually generates NVFLARE events of type `analytix_log_stats`.\n",
    "The `ConvertToFedEvent` widget will turn the event `analytix_log_stats` into a fed event `fed.analytix_log_stats`,\n",
    "which will be delivered to the server side.\n",
    "\n",
    "On the server side, the `TBAnalyticsReceiver` is configured to process `fed.analytix_log_stats` events,\n",
    "which writes received TB data into appropriate TB files on the server.\n",
    "\n",
    "To view training metrics that are being streamed to the server, run:\n",
    "\n",
    "```\n",
    "tensorboard --logdir=/tmp/nvflare/simulate_job/tb_events\n",
    "```"
   ]
  },
  {
   "cell_type": "code",
   "execution_count": null,
   "id": "e0329685",
   "metadata": {},
   "outputs": [],
   "source": [
    "%%bash\n",
    "tensorboard --logdir=/tmp/nvflare/simulate_job/tb_events"
   ]
  },
  {
   "cell_type": "markdown",
   "id": "534d7879",
   "metadata": {},
   "source": [
    "### 5. MLFlow tracking\n",
    "\n",
    "On the server side, we also configured `MLFlowReceiver` to process `fed.analytix_log_stats` events,\n",
    "which writes received and write to the MLFlow backendstore\n",
    "\n",
    "To view training metrics that are being streamed to the server, run:\n",
    "\n",
    "```\n",
    "mlflow ui --backend-store-uri=/tmp/nvflare/mlruns\n",
    "```\n",
    "\n",
    "Then \n",
    "\n",
    "Look at the URL in browser http://localhost:5000/"
   ]
  }
 ],
 "metadata": {
  "kernelspec": {
   "display_name": "519nvflare-env",
   "language": "python",
   "name": "519nvflare-env"
  },
  "language_info": {
   "codemirror_mode": {
    "name": "ipython",
    "version": 3
   },
   "file_extension": ".py",
   "mimetype": "text/x-python",
   "name": "python",
   "nbconvert_exporter": "python",
   "pygments_lexer": "ipython3",
   "version": "3.10.6"
  }
 },
 "nbformat": 4,
 "nbformat_minor": 5
}
