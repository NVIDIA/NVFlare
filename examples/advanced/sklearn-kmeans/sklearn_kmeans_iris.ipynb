{
 "cells": [
  {
   "cell_type": "markdown",
   "id": "cada310b-e776-4b9a-aabe-f111c31efcc2",
   "metadata": {
    "tags": []
   },
   "source": [
    "# Federated K-Means Clustering with Scikit-learn on Iris Dataset"
   ]
  },
  {
   "cell_type": "markdown",
   "id": "0653cbf2-92f2-4a22-8317-69cfb0266e92",
   "metadata": {},
   "source": [
    "## Introduction to Scikit-learn, tabular data, and federated k-Means\n",
    "### Scikit-learn\n",
    "This example shows how to use [NVIDIA FLARE](https://nvflare.readthedocs.io/en/main/index.html) on tabular data.\n",
    "It uses [Scikit-learn](https://scikit-learn.org/),\n",
    "a widely used open-source machine learning library that supports supervised \n",
    "and unsupervised learning.\n",
    "### Tabular data\n",
    "The data used in this example is tabular in a format that can be handled by [pandas](https://pandas.pydata.org/), such that:\n",
    "- rows correspond to data samples\n",
    "- the first column represents the label \n",
    "- the other columns cover the features.    \n",
    "\n",
    "Each client is expected to have one local data file containing both training \n",
    "and validation samples. To load the data for each client, the following \n",
    "parameters are expected by the local learner:\n",
    "- data_file_path: string, the full path to the client's data file \n",
    "- train_start: int, start row index for the training set\n",
    "- train_end: int, end row index for the training set\n",
    "- valid_start: int, start row index for the validation set\n",
    "- valid_end: int, end row index for the validation set\n",
    "\n",
    "### Federated k-Means clustering\n",
    "The machine learning algorithm in this example is [k-Means clustering](https://scikit-learn.org/stable/modules/generated/sklearn.cluster.KMeans.html).\n",
    "The aggregation follows the scheme defined in [Mini-batch k-Means](https://scikit-learn.org/stable/modules/generated/sklearn.cluster.MiniBatchKMeans.html). \n",
    "Under this setting, each round of federated learning can be formulated as follows:\n",
    "- local training: starting from global centers, each client trains a local MiniBatchKMeans model with their own data\n",
    "- global aggregation: server collects the cluster center, \n",
    "  counts information from all clients, aggregates them by considering \n",
    "  each client's results as a mini-batch, and updates the global center and per-center counts.\n",
    "\n",
    "For center initialization, at the first round, each client generates its initial centers with the k-means++ method. Then, the server collects all initial centers and performs one round of k-means to generate the initial global center.\n",
    "\n",
    "Below we listed steps to run this example."
   ]
  },
  {
   "cell_type": "markdown",
   "id": "a5a0292c-78b6-4bde-96d6-699dae996173",
   "metadata": {},
   "source": [
    "## 1. Setup NVFLARE\n",
    "\n",
    "Follow the [Getting_Started](https://nvflare.readthedocs.io/en/main/getting_started.html) to setup virtual environment and install NVFLARE\n",
    "\n",
    "We also provide a [Notebook](../../nvflare_setup.ipynb) for this setup process. \n",
    "\n",
    "Assume you have already setup the venv, lets first install required packages."
   ]
  },
  {
   "cell_type": "code",
   "execution_count": null,
   "id": "f4130b15-09e6-456f-a3c7-87c8ee9e07f0",
   "metadata": {
    "tags": []
   },
   "outputs": [],
   "source": [
    "%pip install -r requirements.txt"
   ]
  },
  {
   "cell_type": "markdown",
   "id": "1d872d8a-9e44-49dd-94b1-7862b3815ffe",
   "metadata": {},
   "source": [
    "## 2. Data preparation \n",
    "This example uses the Iris dataset available from Scikit-learn's dataset API.  "
   ]
  },
  {
   "cell_type": "code",
   "execution_count": 6,
   "id": "f906a1c9-dce0-476c-be65-79ebd8ad5da9",
   "metadata": {
    "tags": []
   },
   "outputs": [
    {
     "name": "stdout",
     "output_type": "stream",
     "text": [
      "env: DATASET_PATH=/tmp/nvflare/dataset/sklearn_iris.csv\n"
     ]
    }
   ],
   "source": [
    "%env DATASET_PATH=/tmp/nvflare/dataset/sklearn_iris.csv\n",
    "!python3 ./utils/prepare_data.py --dataset_name iris --out_path ${DATASET_PATH}"
   ]
  },
  {
   "cell_type": "markdown",
   "id": "bd0713e2-e393-41c0-9da0-392535cf8a54",
   "metadata": {},
   "source": [
    "## 4. Run simulated kmeans experiment\n",
    "We run the federated training using NVFlare Simulator via [JobAPI](https://nvflare.readthedocs.io/en/main/programming_guide/fed_job_api.html):"
   ]
  },
  {
   "cell_type": "code",
   "execution_count": null,
   "id": "9bb6cab4-9c24-400a-bc3c-f1e4a6d5a346",
   "metadata": {
    "tags": []
   },
   "outputs": [
    {
     "name": "stdout",
     "output_type": "stream",
     "text": [
      "job_dir= /tmp/nvflare/workspace/jobs/kmeans\n",
      "workspace_dir= /tmp/nvflare/workspace/works/kmeans/sklearn_kmeans_uniform_3_clients\n",
      "2025-02-10 17:57:48,387 - SimulatorRunner - INFO - Create the Simulator Server.\n",
      "2025-02-10 17:57:48,388 - CoreCell - INFO - server: creating listener on tcp://0:56259\n",
      "2025-02-10 17:57:48,406 - CoreCell - INFO - server: created backbone external listener for tcp://0:56259\n",
      "2025-02-10 17:57:48,406 - ConnectorManager - INFO - 13968: Try start_listener Listener resources: {'secure': False, 'host': 'localhost'}\n",
      "2025-02-10 17:57:48,407 - nvflare.fuel.f3.sfm.conn_manager - INFO - Connector [CH00002 PASSIVE tcp://0:28310] is starting\n",
      "2025-02-10 17:57:48,908 - CoreCell - INFO - server: created backbone internal listener for tcp://localhost:28310\n",
      "2025-02-10 17:57:48,909 - nvflare.fuel.f3.sfm.conn_manager - INFO - Connector [CH00001 PASSIVE tcp://0:56259] is starting\n",
      "2025-02-10 17:57:48,911 - SimulatorServer - INFO - max_reg_duration=60.0\n",
      "2025-02-10 17:57:49,003 - nvflare.fuel.hci.server.hci - INFO - Starting Admin Server localhost on Port 41777\n",
      "2025-02-10 17:57:49,003 - SimulatorRunner - INFO - Deploy the Apps.\n",
      "2025-02-10 17:57:49,010 - SimulatorRunner - INFO - Create the simulate clients.\n",
      "2025-02-10 17:57:49,014 - Communicator - INFO - Trying to register with server ...\n",
      "2025-02-10 17:57:49,016 - ClientManager - INFO - authenticated client site-1\n",
      "2025-02-10 17:57:49,016 - ClientManager - INFO - Client: New client site-1@192.168.1.100 joined. Sent token: 4c487443-a94c-40b7-8b00-44e2b694cdd0.  Total clients: 1\n",
      "2025-02-10 17:57:49,016 - Communicator - INFO - register RC: ok\n",
      "2025-02-10 17:57:49,016 - FederatedClient - INFO - Successfully registered client:site-1 for project simulator_server. Token:4c487443-a94c-40b7-8b00-44e2b694cdd0 SSID:\n",
      "2025-02-10 17:57:49,017 - Communicator - INFO - Trying to register with server ...\n",
      "2025-02-10 17:57:49,018 - ClientManager - INFO - authenticated client site-2\n",
      "2025-02-10 17:57:49,018 - ClientManager - INFO - Client: New client site-2@192.168.1.100 joined. Sent token: c1395e47-1886-4dbd-b208-1056e92c07bf.  Total clients: 2\n",
      "2025-02-10 17:57:49,018 - Communicator - INFO - register RC: ok\n",
      "2025-02-10 17:57:49,018 - FederatedClient - INFO - Successfully registered client:site-2 for project simulator_server. Token:c1395e47-1886-4dbd-b208-1056e92c07bf SSID:\n",
      "2025-02-10 17:57:49,019 - Communicator - INFO - Trying to register with server ...\n",
      "2025-02-10 17:57:49,020 - ClientManager - INFO - authenticated client site-3\n",
      "2025-02-10 17:57:49,020 - ClientManager - INFO - Client: New client site-3@192.168.1.100 joined. Sent token: b2933c17-4d6c-4f19-9edb-71d4613bb213.  Total clients: 3\n",
      "2025-02-10 17:57:49,020 - Communicator - INFO - register RC: ok\n",
      "2025-02-10 17:57:49,020 - FederatedClient - INFO - Successfully registered client:site-3 for project simulator_server. Token:b2933c17-4d6c-4f19-9edb-71d4613bb213 SSID:\n",
      "2025-02-10 17:57:49,020 - SimulatorRunner - INFO - Set the client status ready.\n",
      "2025-02-10 17:57:49,020 - SimulatorRunner - INFO - Deploy and start the Server App.\n",
      "2025-02-10 17:57:49,022 - Cell - INFO - Register blob CB for channel='server_command', topic='*'\n",
      "2025-02-10 17:57:49,022 - Cell - INFO - Register blob CB for channel='aux_communication', topic='*'\n",
      "2025-02-10 17:57:49,022 - ServerCommandAgent - INFO - ServerCommandAgent cell register_request_cb: server.simulate_job\n"
     ]
    }
   ],
   "source": [
    "! python kmeans_job.py --num_clients 3 --split_mode uniform"
   ]
  },
  {
   "cell_type": "markdown",
   "id": "913e9ee2-e993-442d-a525-d2baf92af539",
   "metadata": {},
   "source": [
    "## 5. Result visualization\n",
    "Model accuracy is computed as the homogeneity score between the cluster formed and the ground truth label, which can be visualized in tensorboard."
   ]
  },
  {
   "cell_type": "code",
   "execution_count": null,
   "id": "a6814434-4e6d-4460-b480-709cb3e77cc8",
   "metadata": {
    "tags": []
   },
   "outputs": [],
   "source": [
    "%load_ext tensorboard\n",
    "%tensorboard --logdir /tmp/nvflare/workspace/works/kmeans/sklearn_kmeans_uniform_3_clients"
   ]
  },
  {
   "cell_type": "code",
   "execution_count": null,
   "id": "bea9ebcd-96f5-45c8-a490-0559fab9991f",
   "metadata": {},
   "outputs": [],
   "source": []
  }
 ],
 "metadata": {
  "kernelspec": {
   "display_name": "Python 3 (ipykernel)",
   "language": "python",
   "name": "python3"
  },
  "language_info": {
   "codemirror_mode": {
    "name": "ipython",
    "version": 3
   },
   "file_extension": ".py",
   "mimetype": "text/x-python",
   "name": "python",
   "nbconvert_exporter": "python",
   "pygments_lexer": "ipython3",
   "version": "3.10.0"
  }
 },
 "nbformat": 4,
 "nbformat_minor": 5
}
