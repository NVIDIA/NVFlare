{
 "cells": [
  {
   "cell_type": "markdown",
   "id": "999a408a-8a71-47dd-980a-f1aff43c321c",
   "metadata": {},
   "source": [
    "# Data Scientist Walkthrough of NVFlare System Integration:\n",
    "\n",
    "As a data scientist, we often need to test different model architectures and tune hyperparameters to ensure our algorithm is performing well. With the NVFlare system in place, we can seamlessly submit jobs and evaluate how our model is performing.\n",
    "\n",
    "Once the NVFlare system is up and running, we can interact with it via the FlareAPI. This allows us to check the system's current status, manage jobs, and much more."
   ]
  },
  {
   "cell_type": "code",
   "execution_count": 1,
   "id": "ed407f48-0813-4ce7-b4b6-42e962d12af9",
   "metadata": {},
   "outputs": [],
   "source": [
    "from nvflare.fuel.flare_api.flare_api import new_secure_session\n",
    "\n",
    "\n",
    "sess = new_secure_session(\n",
    "    username=\"admin@nvidia.com\",\n",
    "    startup_kit_location=\"/tmp/nvflare/workspaces/edge_example/prod_00/admin@nvidia.com\"\n",
    ")"
   ]
  },
  {
   "cell_type": "markdown",
   "id": "f99ab755-b6f8-4c2f-b324-350c8e1cd3c1",
   "metadata": {},
   "source": [
    "To start, we can double-check the system’s current status. Using the get_system_info and list_jobs commands, we can see the details of the system and verify that no jobs are running at the moment since we haven’t submitted any yet."
   ]
  },
  {
   "cell_type": "code",
   "execution_count": 2,
   "id": "8bc06bdc-6388-4453-97c6-51f10ee19d36",
   "metadata": {},
   "outputs": [
    {
     "name": "stdout",
     "output_type": "stream",
     "text": [
      "SystemInfo\n",
      "server_info:\n",
      "status: stopped, start_time: Sun Mar 16 15:04:57 2025\n",
      "client_info:\n",
      "C2(last_connect_time: Sun Mar 16 15:20:03 2025)\n",
      "C21(last_connect_time: Sun Mar 16 15:20:03 2025)\n",
      "C12(last_connect_time: Sun Mar 16 15:20:03 2025)\n",
      "C22(last_connect_time: Sun Mar 16 15:20:03 2025)\n",
      "C11(last_connect_time: Sun Mar 16 15:20:03 2025)\n",
      "C1(last_connect_time: Sun Mar 16 15:20:04 2025)\n",
      "job_info:\n",
      "\n"
     ]
    }
   ],
   "source": [
    "sys_info = sess.get_system_info()\n",
    "print(sys_info)"
   ]
  },
  {
   "cell_type": "code",
   "execution_count": 3,
   "id": "55a9badc-6cc6-4ecb-af2e-199dd8564da9",
   "metadata": {},
   "outputs": [
    {
     "name": "stdout",
     "output_type": "stream",
     "text": [
      "All the jobs in system: []\n"
     ]
    }
   ],
   "source": [
    "print(f\"All the jobs in system: {sess.list_jobs()}\")"
   ]
  },
  {
   "cell_type": "markdown",
   "id": "fac37f30-84e5-4814-b5ee-92311e6abb75",
   "metadata": {},
   "source": [
    "We’ve prepared a set of jobs for you to experiment with. "
   ]
  },
  {
   "cell_type": "code",
   "execution_count": 4,
   "id": "430887fe-18ff-4c6a-b84f-0a5f5bef4a46",
   "metadata": {},
   "outputs": [
    {
     "name": "stdout",
     "output_type": "stream",
     "text": [
      "\u001b[34mcifar10_mobile_et\u001b[m\u001b[m \u001b[34mhello_mobile\u001b[m\u001b[m      \u001b[34mxor_mobile_pt\u001b[m\u001b[m\n",
      "\u001b[34mcifar10_mobile_pt\u001b[m\u001b[m \u001b[34mxor_mobile_et\u001b[m\u001b[m\n"
     ]
    }
   ],
   "source": [
    "!ls ./jobs"
   ]
  },
  {
   "cell_type": "markdown",
   "id": "23f36c98-53c5-4c11-9676-d3648e2ae85f",
   "metadata": {},
   "source": [
    "The beauty of working with NVFlare is that you can quickly adjust the model architecture or job parameters. All you need to do is edit the contents inside the pre-configured job files.\n",
    "\n",
    "For example, you can open a new tab in Jupyter Notebook to edit the model file or the config file. This allows you to change things like the architecture of your model, learning rate, batch size, and more, directly within the notebook."
   ]
  },
  {
   "cell_type": "markdown",
   "id": "2df6c61e-bf9b-4acb-8d42-4ca7cecf9a10",
   "metadata": {},
   "source": [
    "Once the job is configured, we just need to copy the provided job files to the admin's transfer folder, so they can be submitted to the NVFlare system."
   ]
  },
  {
   "cell_type": "code",
   "execution_count": 5,
   "id": "8f9434b8-0b77-43b2-a04c-483f2fd930fd",
   "metadata": {},
   "outputs": [],
   "source": [
    "!cp -r ./jobs/* /tmp/nvflare/workspaces/edge_example/prod_00/admin@nvidia.com/transfer"
   ]
  },
  {
   "cell_type": "markdown",
   "id": "4540c6a8-1da7-41ca-8089-6f64d90f4422",
   "metadata": {},
   "source": [
    "Now, let’s go ahead and submit a job for execution."
   ]
  },
  {
   "cell_type": "code",
   "execution_count": 6,
   "id": "582b5c6c-534b-422a-a46a-329f3530d09a",
   "metadata": {},
   "outputs": [
    {
     "data": {
      "text/plain": [
       "'9fc52723-047e-4aae-96ed-34d3eda4744c'"
      ]
     },
     "execution_count": 6,
     "metadata": {},
     "output_type": "execute_result"
    }
   ],
   "source": [
    "sess.submit_job(\"cifar10_mobile_et\")"
   ]
  },
  {
   "cell_type": "markdown",
   "id": "28be19d5-19cf-4ac6-93d3-06f2d119ff0b",
   "metadata": {},
   "source": [
    "You can see the job is up and runnning:"
   ]
  },
  {
   "cell_type": "code",
   "execution_count": 7,
   "id": "d3083f69-a888-4e2d-9bf5-08a91371bcbc",
   "metadata": {},
   "outputs": [
    {
     "name": "stdout",
     "output_type": "stream",
     "text": [
      "All the jobs in system: [{'job_id': '9fc52723-047e-4aae-96ed-34d3eda4744c', 'job_name': 'cifar10_mobile_executorch', 'status': 'RUNNING', 'submit_time': '2025-03-16T15:23:01.321969-07:00', 'duration': '0:00:03.829882'}]\n"
     ]
    }
   ],
   "source": [
    "print(f\"All the jobs in system: {sess.list_jobs()}\")"
   ]
  },
  {
   "cell_type": "markdown",
   "id": "1da44b96-e8d0-4f54-b33a-fd45ba574c20",
   "metadata": {},
   "source": [
    "After each training round, we evaluate the model using the CIFAR10 test data to measure its performance. We also record the accuracy and visualize it using TensorBoard.\n",
    "\n",
    "You can check the results by opening the TensorBoard (tensorboard --logdir /tmp/nvflare/workspaces/edge_example/prod_00/server/runs) to see the progression of our model’s training performance. This allows us to track how the model improves over time."
   ]
  },
  {
   "cell_type": "markdown",
   "id": "18fd28cb-0b39-4af8-a594-34d00294a2e7",
   "metadata": {},
   "source": [
    "All the code and examples we’ve used today are available in our repository. Feel free to dive in, explore, and start experimenting with your own ideas!"
   ]
  },
  {
   "cell_type": "code",
   "execution_count": null,
   "id": "e7ca17db-68f8-43e8-9cc7-4c9b465f9ea3",
   "metadata": {},
   "outputs": [],
   "source": []
  }
 ],
 "metadata": {
  "kernelspec": {
   "display_name": "venv_nvflare",
   "language": "python",
   "name": "venv_nvflare"
  },
  "language_info": {
   "codemirror_mode": {
    "name": "ipython",
    "version": 3
   },
   "file_extension": ".py",
   "mimetype": "text/x-python",
   "name": "python",
   "nbconvert_exporter": "python",
   "pygments_lexer": "ipython3",
   "version": "3.10.2"
  }
 },
 "nbformat": 4,
 "nbformat_minor": 5
}
