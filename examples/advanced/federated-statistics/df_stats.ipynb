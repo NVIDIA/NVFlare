{
 "cells": [
  {
   "cell_type": "markdown",
   "id": "26cb3afa",
   "metadata": {
    "tags": []
   },
   "source": [
    "# Data Frame Federated Statistics \n",
    "\n",
    "In this example, we will show how to generate federated statistics for data that can be represented as Pandas Data Frame. \n",
    "\n",
    "## Setup NVFLARE\n",
    "\n",
    "follow the [Getting_Started](https://nvflare.readthedocs.io/en/main/getting_started.html) to setup virtual environment and install NVFLARE\n",
    "\n",
    "You can also follow this [notebook](../../../nvflare_setup.ipynb) Notebook to setup.\n",
    "\n",
    "Just to quick recap the nvflare install and POC installation steps in the followings\n",
    "\n",
    "**NVFLARE Installation**"
   ]
  },
  {
   "cell_type": "code",
   "execution_count": null,
   "id": "d5b156b4-a1af-4381-a508-ad0fad3aecf7",
   "metadata": {
    "tags": []
   },
   "outputs": [],
   "source": [
    "!python -m pip install nvflare"
   ]
  },
  {
   "cell_type": "code",
   "execution_count": null,
   "id": "8d1c2c1c-6b31-413a-9472-1c167176c7d3",
   "metadata": {},
   "outputs": [],
   "source": [
    "! nvflare -V"
   ]
  },
  {
   "cell_type": "markdown",
   "id": "64a17f22-5667-4f99-b4f6-d49116db74b0",
   "metadata": {
    "tags": []
   },
   "source": [
    "## Install requirements\n",
    "lets first install required packages.\n"
   ]
  },
  {
   "cell_type": "code",
   "execution_count": null,
   "id": "7c8969bf-d010-42b5-a807-0808922402d6",
   "metadata": {
    "tags": []
   },
   "outputs": [],
   "source": [
    "!pip install -r df_stats/requirements.txt"
   ]
  },
  {
   "cell_type": "markdown",
   "id": "94faaa6b-08fd-485c-87d5-53b4520177fe",
   "metadata": {
    "tags": []
   },
   "source": [
    "\n",
    "## Prepare data\n",
    "\n",
    "In this example, we are using UCI (University of California, Irwin) [adult dataset](https://archive.ics.uci.edu/ml/datasets/adult)\n",
    "The original dataset has already contains \"training\" and \"test\" datasets. Here we simply assume that \"training\" and test data sets are belong to different clients.\n",
    "so we assigned the training data and test data into two clients.\n",
    " \n",
    "Now we use data utility to download UCI datasets to separate client package directory to /tmp/nvflare/data/ directory\n",
    "\n"
   ]
  },
  {
   "cell_type": "code",
   "execution_count": null,
   "id": "e1ea959f-7282-4e55-bb26-11524ec47e99",
   "metadata": {
    "tags": []
   },
   "outputs": [],
   "source": [
    "!df_stats/prepare_data.sh\n"
   ]
  },
  {
   "cell_type": "markdown",
   "id": "f00de5e4-4360-4fc5-a819-4eb156e56341",
   "metadata": {},
   "source": [
    "## Run job in FL Simulator\n",
    "\n",
    "With FL simulator, we can just run the example with CLI command \n",
    "\n"
   ]
  },
  {
   "cell_type": "code",
   "execution_count": null,
   "id": "4863969e-cc30-4440-ad62-4393114b6e9d",
   "metadata": {
    "tags": []
   },
   "outputs": [],
   "source": [
    "! nvflare simulator df_stats/jobs/df_stats -w /tmp/nvflare/df_stats -n 2 -t 2\n"
   ]
  },
  {
   "cell_type": "markdown",
   "id": "45bf6e9a-3265-4e45-8b06-c8e543605f21",
   "metadata": {},
   "source": [
    "\n",
    "The results are stored in workspace \"/tmp/nvflare\"\n",
    "```\n",
    "/tmp/nvflare/df_stats/simulate_job/statistics/adults_stats.json\n",
    "```"
   ]
  },
  {
   "cell_type": "code",
   "execution_count": null,
   "id": "112a7dd0-45d9-42ea-98b2-f72a3bbccf48",
   "metadata": {
    "tags": []
   },
   "outputs": [],
   "source": [
    "cat /tmp/nvflare/df_stats/simulate_job/statistics/adults_stats.json"
   ]
  },
  {
   "cell_type": "markdown",
   "id": "3cd042db-6ce0-4e37-bcbe-d96051e4d164",
   "metadata": {
    "tags": []
   },
   "source": [
    "## Visualization\n",
    "We can visualize the results easly via the visualizaiton notebook. Before we do that, we need to copy the data to the notebook directory \n"
   ]
  },
  {
   "cell_type": "code",
   "execution_count": null,
   "id": "a3c89693-37b9-450c-85dd-8a2d78fee3fa",
   "metadata": {
    "tags": []
   },
   "outputs": [],
   "source": [
    "! cp /tmp/nvflare/df_stats/simulate_job/statistics/adults_stats.json df_stats/demo/."
   ]
  },
  {
   "cell_type": "markdown",
   "id": "d5c6f632-3326-4236-902e-8c0965688d85",
   "metadata": {},
   "source": [
    "now we can visualize via the [visualization notebook](df_stats/demo/visualization.ipynb)"
   ]
  },
  {
   "cell_type": "markdown",
   "id": "52d2a52f-8a8d-45ef-8a50-ddbb4ed2f2c6",
   "metadata": {
    "tags": []
   },
   "source": [
    "We are not quite done yet. What if you prefer to use python API instead CLI to run jobs. Lets do that in this section"
   ]
  },
  {
   "cell_type": "markdown",
   "id": "662f22df-51e7-41fa-b62d-8b9ba0093c65",
   "metadata": {},
   "source": [
    "## Run Job using Simulator API\n",
    "This should be the same as running in command CLI via nvflare simulator"
   ]
  },
  {
   "cell_type": "code",
   "execution_count": null,
   "id": "cf8813f9-4fca-4cf5-bb78-acc9acf3fbc7",
   "metadata": {
    "tags": []
   },
   "outputs": [],
   "source": [
    "from nvflare.private.fed.app.simulator.simulator_runner import SimulatorRunner\n",
    "runner = SimulatorRunner(job_folder=\"df_stats/jobs/df_stats\", workspace=\"/tmp/nvflare/df_stats\", n_clients = 2, threads=2)\n",
    "runner.run()"
   ]
  },
  {
   "cell_type": "markdown",
   "id": "4d109fe2-7440-4e19-931b-98ba74fe6229",
   "metadata": {
    "tags": []
   },
   "source": [
    "## Run Job using FLARE API in POC mode\n",
    "\n",
    "So far, we having using Simulator to simulate the federated job run. With [FLARE API](../../../tutorials/flare_api.ipynb) , you can directly interact with NVFLARE system in production or POC mode\n",
    "In such cases, we have to first setup and deploy the federated system. Since we are running on local machine, we will minic this deploy via Proof of Conccept mode.\n",
    "Please refer this section to see how to [setup POC mode](../../../tutorials/setup_poc.ipynb) and [detailed POC commands](https://nvflare.readthedocs.io/en/latest/user_guide/poc_command.html#poc-command)\n",
    "\n",
    "For now, we assume the NVFLARE system is already running in POC mode started with the following commands\n",
    "\n",
    "```\n",
    "nvflare poc --prepare -n 2 \n",
    "\n",
    "nvflare poc --start -ex admin\n",
    "```\n",
    "\n",
    "You double check if the flare is running with the following command from **terminal**\n",
    "\n"
   ]
  },
  {
   "cell_type": "code",
   "execution_count": null,
   "id": "1debb3da-1c8a-41a2-ba80-76859900040d",
   "metadata": {
    "tags": []
   },
   "outputs": [],
   "source": [
    "! echo y | nvflare poc --prepare -n 2 "
   ]
  },
  {
   "cell_type": "code",
   "execution_count": null,
   "id": "af09768b-b7d7-4f12-a3df-3d2c2cc56f32",
   "metadata": {
    "tags": []
   },
   "outputs": [],
   "source": [
    "ls -al  /tmp/nvflare/poc/admin/transfer"
   ]
  },
  {
   "cell_type": "code",
   "execution_count": null,
   "id": "5bf46ed1-21d2-4794-a4ca-f9da8d8ddb4b",
   "metadata": {
    "tags": []
   },
   "outputs": [],
   "source": [
    "%%bash --bg  \n",
    "\n",
    "nvflare poc --start -ex admin\n",
    "echo \"sleep for few seconds to let system start\"\n",
    "sleep 3"
   ]
  },
  {
   "cell_type": "code",
   "execution_count": null,
   "id": "48b580d2-17ae-4471-ad6c-73189481ee72",
   "metadata": {
    "tags": []
   },
   "outputs": [],
   "source": [
    "import os\n",
    "from nvflare.fuel.flare_api.flare_api import new_insecure_session\n",
    "\n",
    "workspace = \"/tmp/nvflare/poc\"\n",
    "admin_dir = os.path.join(workspace, \"admin\")\n",
    "sess = new_insecure_session(admin_dir)\n",
    "sys_info = sess.get_system_info()\n",
    "\n",
    "print(f\"Server info:\\n{sys_info.server_info}\")\n",
    "print(\"\\nclient_info\")\n",
    "for client in sys_info.client_info:\n",
    "    print(client)"
   ]
  },
  {
   "cell_type": "markdown",
   "id": "a6d64c82-44d9-4168-ba1d-12eceb2b21a6",
   "metadata": {
    "tags": []
   },
   "source": [
    "repeat above step until you see Clients (site-1, site-2) are connected. \n",
    "Once they are connected, then we are ready to go"
   ]
  },
  {
   "cell_type": "markdown",
   "id": "dba9bbd8-454d-4712-b1d0-98f95a196108",
   "metadata": {
    "tags": []
   },
   "source": [
    "## Utilities\n",
    "\n",
    "**Monitoring Job**\n",
    "\n",
    "You can choose your monitoring output, here is one function to display the job information "
   ]
  },
  {
   "cell_type": "code",
   "execution_count": null,
   "id": "f30e3ec9-e7f0-4f49-969b-10d12df09ce7",
   "metadata": {
    "tags": []
   },
   "outputs": [],
   "source": [
    "import json\n",
    "from nvflare.fuel.flare_api.flare_api import Session\n",
    "\n",
    "def status_monitor_cb(\n",
    "        session: Session, job_id: str, job_meta, *cb_args, **cb_kwargs\n",
    "    ) -> bool:\n",
    "    if job_meta[\"status\"] == \"RUNNING\":\n",
    "        if cb_kwargs[\"cb_run_counter\"][\"count\"] < 3 or cb_kwargs[\"cb_run_counter\"][\"count\"]%15 == 0:\n",
    "            print(job_meta)            \n",
    "        else: \n",
    "            print(\".\", end=\"\")\n",
    "    else:\n",
    "        print(\"\\n\" + str(job_meta))\n",
    "    \n",
    "    cb_kwargs[\"cb_run_counter\"][\"count\"] += 1\n",
    "    return True\n",
    "\n",
    "\n",
    "\n",
    "def format_json( data: dict): \n",
    "    print(json.dumps(data, sort_keys=True, indent=4,separators=(',', ': ')))\n"
   ]
  },
  {
   "cell_type": "markdown",
   "id": "848634d9-326f-47d4-85d2-851e4072d82c",
   "metadata": {},
   "source": [
    "### submit Job"
   ]
  },
  {
   "cell_type": "code",
   "execution_count": null,
   "id": "49e836fd-3a18-430a-978d-4bfe5f102bb2",
   "metadata": {
    "tags": []
   },
   "outputs": [],
   "source": [
    "examples_dir = os.path.join(admin_dir, \"transfer\")\n",
    "job_folder = os.path.join(examples_dir, \"advanced/federated-statistics/df_stats/jobs/df_stats\")\n",
    "job_id = sess.submit_job(job_folder)\n",
    "print(job_id + \" was submitted\")"
   ]
  },
  {
   "cell_type": "markdown",
   "id": "231cc6e9-41de-46d8-86d1-9d80ffe9b81a",
   "metadata": {},
   "source": [
    "### Monitoring Job\n",
    "\n",
    "You can choose your monitoring output, here is one function to display the job information "
   ]
  },
  {
   "cell_type": "code",
   "execution_count": null,
   "id": "c2a16dfc-6426-4f13-afe7-bd4adf21bb85",
   "metadata": {
    "tags": []
   },
   "outputs": [],
   "source": [
    "from nvflare.fuel.flare_api.flare_api import Session\n",
    "def status_monitor_cb(\n",
    "        session: Session, job_id: str, job_meta, *cb_args, **cb_kwargs\n",
    "    ) -> bool:\n",
    "    if job_meta[\"status\"] == \"RUNNING\":\n",
    "        if cb_kwargs[\"cb_run_counter\"][\"count\"] < 3 or cb_kwargs[\"cb_run_counter\"][\"count\"]%10 == 0:\n",
    "            print(job_meta)            \n",
    "        else: \n",
    "            print(\".\", end=\"\")\n",
    "    else:\n",
    "        print(\"\\n\" + str(job_meta))\n",
    "    \n",
    "    cb_kwargs[\"cb_run_counter\"][\"count\"] += 1\n",
    "    return True\n"
   ]
  },
  {
   "cell_type": "code",
   "execution_count": null,
   "id": "7d08e732",
   "metadata": {
    "tags": []
   },
   "outputs": [],
   "source": [
    "sess.get_job_meta(job_id)"
   ]
  },
  {
   "cell_type": "code",
   "execution_count": null,
   "id": "e71ef51e-82d1-4ccd-8c6a-999477047fe7",
   "metadata": {
    "tags": []
   },
   "outputs": [],
   "source": [
    "sess.monitor_job(job_id, cb=status_monitor_cb, cb_run_counter={\"count\":0})"
   ]
  },
  {
   "cell_type": "code",
   "execution_count": null,
   "id": "4c786b22-8155-41a1-ba8f-4fa6ff669e6f",
   "metadata": {
    "tags": []
   },
   "outputs": [],
   "source": [
    "import json\n",
    "\n",
    "def format_json( data: dict): \n",
    "    print(json.dumps(data, sort_keys=True, indent=4,separators=(',', ': ')))\n",
    "\n",
    "\n",
    "list_jobs_output = sess.list_jobs()\n",
    "print( format_json(list_jobs_output))"
   ]
  },
  {
   "cell_type": "code",
   "execution_count": null,
   "id": "daa8b989-880f-4ec9-9deb-d1a104f0d4bf",
   "metadata": {
    "tags": []
   },
   "outputs": [],
   "source": [
    "list_jobs_output_detailed = sess.list_jobs(detailed=True)\n",
    "print(format_json(list_jobs_output_detailed))"
   ]
  },
  {
   "cell_type": "markdown",
   "id": "bcc87d7c-f39d-4478-ba89-875247edfc34",
   "metadata": {},
   "source": [
    "### Download the result from FL Server"
   ]
  },
  {
   "cell_type": "code",
   "execution_count": null,
   "id": "0c46ce2b-69e7-463b-955e-4e77f1d85cc3",
   "metadata": {
    "tags": []
   },
   "outputs": [],
   "source": [
    "result_dir = sess.download_job_result(job_id)\n"
   ]
  },
  {
   "cell_type": "code",
   "execution_count": null,
   "id": "6b2a59da-274f-4af7-8412-79fbc6268c3b",
   "metadata": {
    "tags": []
   },
   "outputs": [],
   "source": [
    "! tree {result_dir}"
   ]
  },
  {
   "cell_type": "markdown",
   "id": "8614a281-63c1-415f-9b6c-642d13c04b6e",
   "metadata": {
    "tags": []
   },
   "source": [
    "Now we can copy the adults_stats.json to the demo folder for visualization"
   ]
  },
  {
   "cell_type": "code",
   "execution_count": null,
   "id": "e6be62d8-f89b-42eb-b562-c468180e4c40",
   "metadata": {},
   "outputs": [],
   "source": [
    "! cp  {result_dir}/workspace/statistics/adults_stats.json df_stats/demo/."
   ]
  },
  {
   "cell_type": "markdown",
   "id": "1c79a657-3315-4362-b2eb-1a8a0e18e332",
   "metadata": {
    "tags": []
   },
   "source": [
    "Now we can visualize via the [visualization notebook](df_stats/demo/visualization.ipynb) as before\n"
   ]
  },
  {
   "cell_type": "markdown",
   "id": "05826bd7-d6a6-4d01-bb56-ed4949490a29",
   "metadata": {
    "tags": []
   },
   "source": [
    "### Stop NVFLARE and Cleanup\n",
    "If you like to stop the NVFLARE system, clean up the temp folders and workspace, we need some clean up\n",
    "* stop nvflare\n",
    "* remove downloaded result folder \n",
    "* clean up POC workspace"
   ]
  },
  {
   "cell_type": "code",
   "execution_count": null,
   "id": "54c9aacc-2b62-49d7-a6ba-21bbb0410f81",
   "metadata": {
    "tags": []
   },
   "outputs": [],
   "source": [
    "! nvflare poc --stop"
   ]
  },
  {
   "cell_type": "code",
   "execution_count": null,
   "id": "eef25b4a-cf37-4b35-b647-fbc26a0b60be",
   "metadata": {
    "tags": []
   },
   "outputs": [],
   "source": [
    "! rm -r {result_dir}"
   ]
  },
  {
   "cell_type": "code",
   "execution_count": null,
   "id": "b39f78e8-4bb0-45a9-8e18-eae1391254e6",
   "metadata": {
    "tags": []
   },
   "outputs": [],
   "source": [
    "!nvflare poc --clean"
   ]
  },
  {
   "cell_type": "markdown",
   "id": "fda06c0b-798d-480d-9b4c-a62fab95bcf0",
   "metadata": {
    "tags": []
   },
   "source": [
    "## We are done !\n",
    "Congratulations, you just completed the federated stats calulation with data represented by data frame\n"
   ]
  }
 ],
 "metadata": {
  "kernelspec": {
   "display_name": "Python 3 (ipykernel)",
   "language": "python",
   "name": "python3"
  },
  "language_info": {
   "codemirror_mode": {
    "name": "ipython",
    "version": 3
   },
   "file_extension": ".py",
   "mimetype": "text/x-python",
   "name": "python",
   "nbconvert_exporter": "python",
   "pygments_lexer": "ipython3",
   "version": "3.8.16"
  }
 },
 "nbformat": 4,
 "nbformat_minor": 5
}
