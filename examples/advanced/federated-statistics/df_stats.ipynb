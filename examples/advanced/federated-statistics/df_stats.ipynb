{
 "cells": [
  {
   "cell_type": "markdown",
   "id": "d47a7f16-5d9e-4283-aa75-798b0bdce0e5",
   "metadata": {},
   "source": [
    "**Utilities**\n"
   ]
  },
  {
   "cell_type": "markdown",
   "id": "26cb3afa",
   "metadata": {},
   "source": [
    "# Data Frame Federated Statistics \n",
    "\n",
    "In this example, we will show how to generate federated statistics for data that can be represented as Pandas Data Frame\n",
    "\n",
    "## Setup NVFLARE\n",
    "\n",
    "follow the [Getting_Started](https://nvflare.readthedocs.io/en/main/getting_started.html) to setup virtual environment and install NVFLARE\n",
    "\n",
    "You can also follow this [Getting Started](../../../../getting_started.ipynb) Notebook to setup. \n",
    "\n"
   ]
  },
  {
   "cell_type": "markdown",
   "id": "293119eb-ac57-4463-95a2-f2468a99e30a",
   "metadata": {
    "tags": []
   },
   "source": [
    "## Install NVFLARE (from Pypi) "
   ]
  },
  {
   "cell_type": "code",
   "execution_count": null,
   "id": "d5b156b4-a1af-4381-a508-ad0fad3aecf7",
   "metadata": {},
   "outputs": [],
   "source": [
    "!python -m pip install nvflare\n"
   ]
  },
  {
   "cell_type": "markdown",
   "id": "0c04bbe9-0486-4db6-a24d-c872e3f46a5f",
   "metadata": {},
   "source": [
    "## Install from Source\n",
    "\n"
   ]
  },
  {
   "cell_type": "code",
   "execution_count": null,
   "id": "5f19d6da-8013-45d8-8abd-fb1d4afd360b",
   "metadata": {
    "tags": []
   },
   "outputs": [],
   "source": [
    " !pwd"
   ]
  },
  {
   "cell_type": "code",
   "execution_count": null,
   "id": "a0605130-4c6a-4d5f-b42b-396d5476031f",
   "metadata": {
    "tags": []
   },
   "outputs": [],
   "source": [
    "!cd ../../../\n",
    "!export NVFLARE_HOME=$( cd ../. && pwd )\n",
    "!echo $NVFLARE_HOME"
   ]
  },
  {
   "cell_type": "code",
   "execution_count": null,
   "id": "4ddacd19-c9ab-4f36-8a0b-7060174a661e",
   "metadata": {
    "tags": []
   },
   "outputs": [],
   "source": [
    "!echo $NVFLARE_HOME\n"
   ]
  },
  {
   "cell_type": "code",
   "execution_count": null,
   "id": "58c73019-10d0-46ca-ae0e-be2125352f84",
   "metadata": {},
   "outputs": [],
   "source": [
    "!pip install -e $NVFLARE_HOME"
   ]
  },
  {
   "cell_type": "code",
   "execution_count": null,
   "id": "dec12b49-8228-49be-9c13-63a5f1d2a571",
   "metadata": {},
   "outputs": [],
   "source": []
  },
  {
   "cell_type": "markdown",
   "id": "64a17f22-5667-4f99-b4f6-d49116db74b0",
   "metadata": {
    "tags": []
   },
   "source": [
    "## Install requirements\n",
    "lets first install required packages.\n"
   ]
  },
  {
   "cell_type": "code",
   "execution_count": null,
   "id": "7c8969bf-d010-42b5-a807-0808922402d6",
   "metadata": {
    "tags": []
   },
   "outputs": [],
   "source": [
    "!pip install -r df_stats/requirements.txt"
   ]
  },
  {
   "cell_type": "markdown",
   "id": "94faaa6b-08fd-485c-87d5-53b4520177fe",
   "metadata": {
    "tags": []
   },
   "source": [
    "\n",
    "## Prepare data\n",
    "\n",
    "In this example, we are using UCI (University of California, Irwin) [adult dataset](https://archive.ics.uci.edu/ml/datasets/adult)\n",
    "The original dataset has already contains \"training\" and \"test\" datasets. Here we simply assume that \"training\" and test data sets are belong to different clients.\n",
    "so we assigned the training data and test data into two clients.\n",
    " \n",
    "Now we use data utility to download UCI datasets to separate client package directory to /tmp/nvflare/data/ directory\n",
    "\n"
   ]
  },
  {
   "cell_type": "code",
   "execution_count": 9,
   "id": "e1ea959f-7282-4e55-bb26-11524ec47e99",
   "metadata": {
    "tags": []
   },
   "outputs": [
    {
     "name": "stdout",
     "output_type": "stream",
     "text": [
      "prepare data for data directory /tmp/nvflare/df_stats/data\n",
      "\n",
      "wget download to /tmp/nvflare/df_stats/data/site-1/data.csv\n",
      "100% [......................................................] 3974305 / 3974305\n",
      "wget download to /tmp/nvflare/df_stats/data/site-2/data.csv\n",
      "100% [......................................................] 2003153 / 2003153\n",
      "done with prepare data\n"
     ]
    }
   ],
   "source": [
    "!df_stats/prepare_data.sh\n"
   ]
  },
  {
   "cell_type": "markdown",
   "id": "f00de5e4-4360-4fc5-a819-4eb156e56341",
   "metadata": {},
   "source": [
    "## Run job in FL Simulator\n",
    "\n",
    "With FL simulator, we can just run the example with CLI command \n",
    "\n"
   ]
  },
  {
   "cell_type": "code",
   "execution_count": null,
   "id": "4863969e-cc30-4440-ad62-4393114b6e9d",
   "metadata": {
    "tags": []
   },
   "outputs": [],
   "source": [
    "! nvflare simulator df_stats/jobs/df_stats -w /tmp/nvflare/df_stats -n 2 -t 2\n"
   ]
  },
  {
   "cell_type": "markdown",
   "id": "45bf6e9a-3265-4e45-8b06-c8e543605f21",
   "metadata": {},
   "source": [
    "\n",
    "The results are stored in workspace \"/tmp/nvflare\"\n",
    "```\n",
    "/tmp/nvflare/df_stats/simulate_job/statistics/adults_stats.json\n",
    "```"
   ]
  },
  {
   "cell_type": "code",
   "execution_count": null,
   "id": "112a7dd0-45d9-42ea-98b2-f72a3bbccf48",
   "metadata": {
    "tags": []
   },
   "outputs": [],
   "source": [
    "cat /tmp/nvflare/df_stats/simulate_job/statistics/adults_stats.json"
   ]
  },
  {
   "cell_type": "markdown",
   "id": "3cd042db-6ce0-4e37-bcbe-d96051e4d164",
   "metadata": {
    "tags": []
   },
   "source": [
    "## Visualization\n",
    "We can visualize the results easly via the visualizaiton notebook. Before we do that, we need to copy the data to the notebook directory \n"
   ]
  },
  {
   "cell_type": "code",
   "execution_count": null,
   "id": "a3c89693-37b9-450c-85dd-8a2d78fee3fa",
   "metadata": {
    "tags": []
   },
   "outputs": [],
   "source": [
    "! cp /tmp/nvflare/df_stats/simulate_job/statistics/adults_stats.json df_stats/demo/."
   ]
  },
  {
   "cell_type": "markdown",
   "id": "d5c6f632-3326-4236-902e-8c0965688d85",
   "metadata": {},
   "source": [
    "now we can visualize via the [visualization notebook](df_stats/demo/visualization.ipynb)"
   ]
  },
  {
   "cell_type": "markdown",
   "id": "52d2a52f-8a8d-45ef-8a50-ddbb4ed2f2c6",
   "metadata": {
    "tags": []
   },
   "source": [
    "We are not quite done yet. What if you prefer to use python API instead CLI to run jobs. Lets do that in this section"
   ]
  },
  {
   "cell_type": "markdown",
   "id": "662f22df-51e7-41fa-b62d-8b9ba0093c65",
   "metadata": {},
   "source": [
    "## Run Job using Simulator API\n",
    "This should be the same as running in command CLI via nvflare simulator"
   ]
  },
  {
   "cell_type": "code",
   "execution_count": null,
   "id": "cf8813f9-4fca-4cf5-bb78-acc9acf3fbc7",
   "metadata": {
    "tags": []
   },
   "outputs": [],
   "source": [
    "from nvflare.private.fed.app.simulator.simulator_runner import SimulatorRunner\n",
    "runner = SimulatorRunner(job_folder=\"df_stats/jobs/df_stats\", workspace=\"/tmp/nvflare/df_stats\", n_clients = 2, threads=2)\n",
    "runner.run()"
   ]
  },
  {
   "cell_type": "markdown",
   "id": "4d109fe2-7440-4e19-931b-98ba74fe6229",
   "metadata": {},
   "source": [
    "## Run Job using FLARE API in POC mode\n",
    "\n",
    "So far, we having using Simulator to simulate the federated job run. With [FLARE API](../../../tutorial/flare_api.ipynb) , you can directly interact with NVFLARE system in production or POC mode\n",
    "In such cases, we have to first setup and deploy the federated system. Since we are running on local machine, we will minic this deploy via Proof of Conccept mode.\n",
    "Please refer this section to see how to [setup POC mode](../../../tutorial/setup_poc.ipynb) and [detailed POC commands](https://nvflare.readthedocs.io/en/latest/user_guide/poc_command.html#poc-command)\n",
    "\n",
    "For now, we assume the NVFLARE system is already running in POC mode started with the following commands\n",
    "\n",
    "```\n",
    "nvflare poc --prepare -n 2 \n",
    "\n",
    "nvflare poc --start -ex admin\n",
    "```\n",
    "\n",
    "You double check if the flare is running with the following command from **terminal**\n",
    "\n"
   ]
  },
  {
   "cell_type": "code",
   "execution_count": null,
   "id": "f524ea94-dc8f-46d3-939d-d1dbe7410a2e",
   "metadata": {
    "tags": []
   },
   "outputs": [],
   "source": [
    "! ps -eaf | grep nvflare"
   ]
  },
  {
   "cell_type": "markdown",
   "id": "8cf89dae-4c24-4486-8a2f-a2a2fa33b8eb",
   "metadata": {},
   "source": [
    "If you determine that the flare poc system is not running, you can open a terminal to start the FLARE system in POC mode. \n",
    "At this point, assume you have already setup the poc and started the NVFLARE. And we are going to use the default **workspace=/tmp/nvflare/poc**. We will first check the system status"
   ]
  },
  {
   "cell_type": "code",
   "execution_count": 11,
   "id": "45e33412-574d-4af0-b093-2ece5761741f",
   "metadata": {},
   "outputs": [
    {
     "name": "stdout",
     "output_type": "stream",
     "text": [
      "SystemInfo\n",
      "server_info:\n",
      "status: started, start_time: Mon Mar 13 20:17:35 2023\n",
      "client_info:\n",
      "site-1(last_connect_time: Mon Mar 13 20:17:50 2023)\n",
      "site-2(last_connect_time: Mon Mar 13 20:17:43 2023)\n",
      "job_info:\n",
      "JobInfo:\n",
      "  job_id: 20ba29c5-253e-4d33-a085-a24b72e71885\n",
      "  app_name: df_stats\n"
     ]
    }
   ],
   "source": [
    "import os\n",
    "from nvflare.fuel.flare_api.flare_api import new_insecure_session\n",
    "\n",
    "workspace = \"/tmp/nvflare/poc\"\n",
    "admin_dir = os.path.join(workspace, \"admin\")\n",
    "sess = new_insecure_session(admin_dir)\n",
    "print(sess.get_system_info())\n"
   ]
  },
  {
   "cell_type": "markdown",
   "id": "848634d9-326f-47d4-85d2-851e4072d82c",
   "metadata": {},
   "source": [
    "###\n",
    "\n",
    "**submit Job**"
   ]
  },
  {
   "cell_type": "code",
   "execution_count": 12,
   "id": "49e836fd-3a18-430a-978d-4bfe5f102bb2",
   "metadata": {
    "tags": []
   },
   "outputs": [
    {
     "name": "stdout",
     "output_type": "stream",
     "text": [
      "d438e85b-2937-4c3a-a6f2-2a4958b7914b was submitted\n"
     ]
    }
   ],
   "source": [
    "examples_dir = os.path.join(admin_dir, \"transfer\")\n",
    "job_folder = os.path.join(examples_dir, \"advanced/federated-statistics/df_stats/jobs/df_stats\")\n",
    "job_id = sess.submit_job(job_folder)\n",
    "print(job_id + \" was submitted\")"
   ]
  },
  {
   "cell_type": "markdown",
   "id": "231cc6e9-41de-46d8-86d1-9d80ffe9b81a",
   "metadata": {},
   "source": [
    "**Monitoring Job**\n",
    "\n",
    "You can choose your monitoring output, here is one function to display the job information "
   ]
  },
  {
   "cell_type": "code",
   "execution_count": 13,
   "id": "c2a16dfc-6426-4f13-afe7-bd4adf21bb85",
   "metadata": {
    "tags": []
   },
   "outputs": [],
   "source": [
    "from nvflare.fuel.flare_api.flare_api import Session\n",
    "def status_monitor_cb(\n",
    "        session: Session, job_id: str, job_meta, *cb_args, **cb_kwargs\n",
    "    ) -> bool:\n",
    "    if job_meta[\"status\"] == \"RUNNING\":\n",
    "        if cb_kwargs[\"cb_run_counter\"][\"count\"] < 3 or cb_kwargs[\"cb_run_counter\"][\"count\"]%10 == 0:\n",
    "            print(job_meta)            \n",
    "        else: \n",
    "            print(\".\", end=\"\")\n",
    "    else:\n",
    "        print(\"\\n\" + str(job_meta))\n",
    "    \n",
    "    cb_kwargs[\"cb_run_counter\"][\"count\"] += 1\n",
    "    return True\n"
   ]
  },
  {
   "cell_type": "code",
   "execution_count": 14,
   "id": "7d08e732",
   "metadata": {},
   "outputs": [
    {
     "data": {
      "text/plain": [
       "{'name': 'df_stats',\n",
       " 'job_folder_name': 'df_stats',\n",
       " 'resource_spec': {},\n",
       " 'deploy_map': {'df_stats': ['@ALL']},\n",
       " 'min_clients': 1,\n",
       " 'submitter_name': 'admin',\n",
       " 'submitter_org': 'global',\n",
       " 'submitter_role': 'super',\n",
       " 'job_id': 'd438e85b-2937-4c3a-a6f2-2a4958b7914b',\n",
       " 'submit_time': 1678763877.7957163,\n",
       " 'submit_time_iso': '2023-03-13T20:17:57.795716-07:00',\n",
       " 'start_time': '2023-03-13 20:17:58.573500',\n",
       " 'duration': 'N/A',\n",
       " 'status': 'RUNNING',\n",
       " 'job_deploy_detail': ['server: OK', 'site-1: OK', 'site-2: OK'],\n",
       " 'schedule_count': 1,\n",
       " 'last_schedule_time': 1678763878.5102963,\n",
       " 'schedule_history': ['2023-03-13 20:17:58: scheduled']}"
      ]
     },
     "execution_count": 14,
     "metadata": {},
     "output_type": "execute_result"
    }
   ],
   "source": [
    "sess.get_job_meta(job_id)"
   ]
  },
  {
   "cell_type": "code",
   "execution_count": 15,
   "id": "e71ef51e-82d1-4ccd-8c6a-999477047fe7",
   "metadata": {
    "tags": []
   },
   "outputs": [
    {
     "name": "stdout",
     "output_type": "stream",
     "text": [
      "{'name': 'df_stats', 'job_folder_name': 'df_stats', 'resource_spec': {}, 'deploy_map': {'df_stats': ['@ALL']}, 'min_clients': 1, 'submitter_name': 'admin', 'submitter_org': 'global', 'submitter_role': 'super', 'job_id': 'd438e85b-2937-4c3a-a6f2-2a4958b7914b', 'submit_time': 1678763877.7957163, 'submit_time_iso': '2023-03-13T20:17:57.795716-07:00', 'start_time': '2023-03-13 20:17:58.573500', 'duration': 'N/A', 'status': 'RUNNING', 'job_deploy_detail': ['server: OK', 'site-1: OK', 'site-2: OK'], 'schedule_count': 1, 'last_schedule_time': 1678763878.5102963, 'schedule_history': ['2023-03-13 20:17:58: scheduled']}\n",
      "{'name': 'df_stats', 'job_folder_name': 'df_stats', 'resource_spec': {}, 'deploy_map': {'df_stats': ['@ALL']}, 'min_clients': 1, 'submitter_name': 'admin', 'submitter_org': 'global', 'submitter_role': 'super', 'job_id': 'd438e85b-2937-4c3a-a6f2-2a4958b7914b', 'submit_time': 1678763877.7957163, 'submit_time_iso': '2023-03-13T20:17:57.795716-07:00', 'start_time': '2023-03-13 20:17:58.573500', 'duration': 'N/A', 'status': 'RUNNING', 'job_deploy_detail': ['server: OK', 'site-1: OK', 'site-2: OK'], 'schedule_count': 1, 'last_schedule_time': 1678763878.5102963, 'schedule_history': ['2023-03-13 20:17:58: scheduled']}\n",
      "{'name': 'df_stats', 'job_folder_name': 'df_stats', 'resource_spec': {}, 'deploy_map': {'df_stats': ['@ALL']}, 'min_clients': 1, 'submitter_name': 'admin', 'submitter_org': 'global', 'submitter_role': 'super', 'job_id': 'd438e85b-2937-4c3a-a6f2-2a4958b7914b', 'submit_time': 1678763877.7957163, 'submit_time_iso': '2023-03-13T20:17:57.795716-07:00', 'start_time': '2023-03-13 20:17:58.573500', 'duration': 'N/A', 'status': 'RUNNING', 'job_deploy_detail': ['server: OK', 'site-1: OK', 'site-2: OK'], 'schedule_count': 1, 'last_schedule_time': 1678763878.5102963, 'schedule_history': ['2023-03-13 20:17:58: scheduled']}\n",
      ".\n",
      "{'name': 'df_stats', 'job_folder_name': 'df_stats', 'resource_spec': {}, 'deploy_map': {'df_stats': ['@ALL']}, 'min_clients': 1, 'submitter_name': 'admin', 'submitter_org': 'global', 'submitter_role': 'super', 'job_id': 'd438e85b-2937-4c3a-a6f2-2a4958b7914b', 'submit_time': 1678763877.7957163, 'submit_time_iso': '2023-03-13T20:17:57.795716-07:00', 'start_time': '2023-03-13 20:17:58.573500', 'duration': '0:00:17.934815', 'status': 'FINISHED:COMPLETED', 'job_deploy_detail': ['server: OK', 'site-1: OK', 'site-2: OK'], 'schedule_count': 1, 'last_schedule_time': 1678763878.5102963, 'schedule_history': ['2023-03-13 20:17:58: scheduled']}\n"
     ]
    },
    {
     "data": {
      "text/plain": [
       "<MonitorReturnCode.JOB_FINISHED: 0>"
      ]
     },
     "execution_count": 15,
     "metadata": {},
     "output_type": "execute_result"
    }
   ],
   "source": [
    "sess.monitor_job(job_id, cb=status_monitor_cb, cb_run_counter={\"count\":0})"
   ]
  },
  {
   "cell_type": "code",
   "execution_count": 16,
   "id": "4c786b22-8155-41a1-ba8f-4fa6ff669e6f",
   "metadata": {
    "tags": []
   },
   "outputs": [
    {
     "name": "stdout",
     "output_type": "stream",
     "text": [
      "[\n",
      "    {\n",
      "        \"duration\": \"0:00:17.934815\",\n",
      "        \"job_id\": \"d438e85b-2937-4c3a-a6f2-2a4958b7914b\",\n",
      "        \"job_name\": \"df_stats\",\n",
      "        \"status\": \"FINISHED:COMPLETED\",\n",
      "        \"submit_time\": \"2023-03-13T20:17:57.795716-07:00\"\n",
      "    },\n",
      "    {\n",
      "        \"duration\": \"0:07:38.695158\",\n",
      "        \"job_id\": \"20ba29c5-253e-4d33-a085-a24b72e71885\",\n",
      "        \"job_name\": \"df_stats\",\n",
      "        \"status\": \"RUNNING\",\n",
      "        \"submit_time\": \"2023-03-13T20:10:43.635269-07:00\"\n",
      "    },\n",
      "    {\n",
      "        \"duration\": \"0:00:41.948711\",\n",
      "        \"job_id\": \"5c8bb1cc-1332-4775-bf41-787772952fea\",\n",
      "        \"job_name\": \"image_stats\",\n",
      "        \"status\": \"FINISHED:COMPLETED\",\n",
      "        \"submit_time\": \"2023-03-13T19:58:25.565562-07:00\"\n",
      "    }\n",
      "]\n",
      "None\n"
     ]
    }
   ],
   "source": [
    "import json\n",
    "\n",
    "def format_json( data: dict): \n",
    "    print(json.dumps(data, sort_keys=True, indent=4,separators=(',', ': ')))\n",
    "\n",
    "\n",
    "list_jobs_output = sess.list_jobs()\n",
    "print( format_json(list_jobs_output))"
   ]
  },
  {
   "cell_type": "code",
   "execution_count": 17,
   "id": "daa8b989-880f-4ec9-9deb-d1a104f0d4bf",
   "metadata": {
    "tags": []
   },
   "outputs": [
    {
     "name": "stdout",
     "output_type": "stream",
     "text": [
      "[\n",
      "    {\n",
      "        \"deploy_map\": {\n",
      "            \"df_stats\": [\n",
      "                \"@ALL\"\n",
      "            ]\n",
      "        },\n",
      "        \"duration\": \"0:00:17.934815\",\n",
      "        \"job_deploy_detail\": [\n",
      "            \"server: OK\",\n",
      "            \"site-1: OK\",\n",
      "            \"site-2: OK\"\n",
      "        ],\n",
      "        \"job_folder_name\": \"df_stats\",\n",
      "        \"job_id\": \"d438e85b-2937-4c3a-a6f2-2a4958b7914b\",\n",
      "        \"last_schedule_time\": 1678763878.5102963,\n",
      "        \"min_clients\": 1,\n",
      "        \"name\": \"df_stats\",\n",
      "        \"resource_spec\": {},\n",
      "        \"schedule_count\": 1,\n",
      "        \"schedule_history\": [\n",
      "            \"2023-03-13 20:17:58: scheduled\"\n",
      "        ],\n",
      "        \"start_time\": \"2023-03-13 20:17:58.573500\",\n",
      "        \"status\": \"FINISHED:COMPLETED\",\n",
      "        \"submit_time\": 1678763877.7957163,\n",
      "        \"submit_time_iso\": \"2023-03-13T20:17:57.795716-07:00\",\n",
      "        \"submitter_name\": \"admin\",\n",
      "        \"submitter_org\": \"global\",\n",
      "        \"submitter_role\": \"super\"\n",
      "    },\n",
      "    {\n",
      "        \"deploy_map\": {\n",
      "            \"df_stats\": [\n",
      "                \"@ALL\"\n",
      "            ]\n",
      "        },\n",
      "        \"duration\": \"0:07:52.160059\",\n",
      "        \"job_deploy_detail\": [\n",
      "            \"server: OK\",\n",
      "            \"site-1: OK\",\n",
      "            \"site-3: OK\",\n",
      "            \"site-2: OK\",\n",
      "            \"site-4: OK\"\n",
      "        ],\n",
      "        \"job_folder_name\": \"df_stats\",\n",
      "        \"job_id\": \"20ba29c5-253e-4d33-a085-a24b72e71885\",\n",
      "        \"last_schedule_time\": 1678763444.5103667,\n",
      "        \"min_clients\": 1,\n",
      "        \"name\": \"df_stats\",\n",
      "        \"resource_spec\": {},\n",
      "        \"schedule_count\": 1,\n",
      "        \"schedule_history\": [\n",
      "            \"2023-03-13 20:10:44: scheduled\"\n",
      "        ],\n",
      "        \"start_time\": \"2023-03-13 20:10:44.564071\",\n",
      "        \"status\": \"RUNNING\",\n",
      "        \"submit_time\": 1678763443.6352694,\n",
      "        \"submit_time_iso\": \"2023-03-13T20:10:43.635269-07:00\",\n",
      "        \"submitter_name\": \"admin\",\n",
      "        \"submitter_org\": \"global\",\n",
      "        \"submitter_role\": \"super\"\n",
      "    },\n",
      "    {\n",
      "        \"deploy_map\": {\n",
      "            \"image_stats\": [\n",
      "                \"@ALL\"\n",
      "            ]\n",
      "        },\n",
      "        \"duration\": \"0:00:41.948711\",\n",
      "        \"job_deploy_detail\": [\n",
      "            \"server: OK\",\n",
      "            \"site-1: OK\",\n",
      "            \"site-3: OK\",\n",
      "            \"site-2: OK\",\n",
      "            \"site-4: OK\"\n",
      "        ],\n",
      "        \"job_folder_name\": \"image_stats\",\n",
      "        \"job_id\": \"5c8bb1cc-1332-4775-bf41-787772952fea\",\n",
      "        \"last_schedule_time\": 1678762706.384337,\n",
      "        \"min_clients\": 1,\n",
      "        \"name\": \"image_stats\",\n",
      "        \"resource_spec\": {},\n",
      "        \"schedule_count\": 1,\n",
      "        \"schedule_history\": [\n",
      "            \"2023-03-13 19:58:26: scheduled\"\n",
      "        ],\n",
      "        \"start_time\": \"2023-03-13 19:58:26.445560\",\n",
      "        \"status\": \"FINISHED:COMPLETED\",\n",
      "        \"submit_time\": 1678762705.5655625,\n",
      "        \"submit_time_iso\": \"2023-03-13T19:58:25.565562-07:00\",\n",
      "        \"submitter_name\": \"admin\",\n",
      "        \"submitter_org\": \"global\",\n",
      "        \"submitter_role\": \"super\"\n",
      "    }\n",
      "]\n",
      "None\n"
     ]
    }
   ],
   "source": [
    "list_jobs_output_detailed = sess.list_jobs(detailed=True)\n",
    "print(format_json(list_jobs_output_detailed))"
   ]
  },
  {
   "cell_type": "markdown",
   "id": "bcc87d7c-f39d-4478-ba89-875247edfc34",
   "metadata": {},
   "source": [
    "###\n",
    "**Download the result from FL Server**"
   ]
  },
  {
   "cell_type": "code",
   "execution_count": 18,
   "id": "0c46ce2b-69e7-463b-955e-4e77f1d85cc3",
   "metadata": {
    "tags": []
   },
   "outputs": [],
   "source": [
    "result_dir = sess.download_job_result(job_id)\n"
   ]
  },
  {
   "cell_type": "code",
   "execution_count": 19,
   "id": "6b2a59da-274f-4af7-8412-79fbc6268c3b",
   "metadata": {
    "tags": []
   },
   "outputs": [
    {
     "name": "stdout",
     "output_type": "stream",
     "text": [
      "\u001b[01;34m/tmp/nvflare/poc/admin/transfer/d438e85b-2937-4c3a-a6f2-2a4958b7914b\u001b[0m\n",
      "├── \u001b[01;34mjob\u001b[0m\n",
      "│   └── \u001b[01;34mdf_stats\u001b[0m\n",
      "│       ├── \u001b[01;34mdf_stats\u001b[0m\n",
      "│       │   ├── \u001b[01;34mconfig\u001b[0m\n",
      "│       │   │   ├── config_fed_client.json\n",
      "│       │   │   └── config_fed_server.json\n",
      "│       │   └── \u001b[01;34mcustom\u001b[0m\n",
      "│       │       ├── df_statistics.py\n",
      "│       │       ├── \u001b[01;34m__pycache__\u001b[0m\n",
      "│       │       │   └── df_statistics.cpython-38.pyc\n",
      "│       │       └── \u001b[01;34mtests\u001b[0m\n",
      "│       │           ├── df_statistics_test.py\n",
      "│       │           └── \u001b[01;34m__pycache__\u001b[0m\n",
      "│       │               ├── df_statistics_test.cpython-38-pytest-7.2.0.pyc\n",
      "│       │               ├── df_statistics_test.cpython-38-pytest-7.2.1.pyc\n",
      "│       │               └── simulate_stats_job_test.cpython-38-pytest-7.2.0.pyc\n",
      "│       └── meta.json\n",
      "└── \u001b[01;34mworkspace\u001b[0m\n",
      "    ├── \u001b[01;34mapp_server\u001b[0m\n",
      "    │   ├── \u001b[01;34mconfig\u001b[0m\n",
      "    │   │   ├── config_fed_client.json\n",
      "    │   │   └── config_fed_server.json\n",
      "    │   └── \u001b[01;34mcustom\u001b[0m\n",
      "    │       ├── df_statistics.py\n",
      "    │       ├── \u001b[01;34m__pycache__\u001b[0m\n",
      "    │       │   └── df_statistics.cpython-38.pyc\n",
      "    │       └── \u001b[01;34mtests\u001b[0m\n",
      "    │           ├── df_statistics_test.py\n",
      "    │           └── \u001b[01;34m__pycache__\u001b[0m\n",
      "    │               ├── df_statistics_test.cpython-38-pytest-7.2.0.pyc\n",
      "    │               ├── df_statistics_test.cpython-38-pytest-7.2.1.pyc\n",
      "    │               └── simulate_stats_job_test.cpython-38-pytest-7.2.0.pyc\n",
      "    ├── fl_app.txt\n",
      "    ├── log.txt\n",
      "    ├── meta.json\n",
      "    └── \u001b[01;34mstatistics\u001b[0m\n",
      "        └── adults_stats.json\n",
      "\n",
      "16 directories, 21 files\n"
     ]
    }
   ],
   "source": [
    "! tree {result_dir}"
   ]
  },
  {
   "cell_type": "markdown",
   "id": "8614a281-63c1-415f-9b6c-642d13c04b6e",
   "metadata": {
    "tags": []
   },
   "source": [
    "Now we can copy the adults_stats.json to the demo folder for visualization"
   ]
  },
  {
   "cell_type": "code",
   "execution_count": 20,
   "id": "e6be62d8-f89b-42eb-b562-c468180e4c40",
   "metadata": {},
   "outputs": [],
   "source": [
    "! cp  {result_dir}/workspace/statistics/adults_stats.json df_stats/demo/."
   ]
  },
  {
   "cell_type": "markdown",
   "id": "1c79a657-3315-4362-b2eb-1a8a0e18e332",
   "metadata": {
    "tags": []
   },
   "source": [
    "Now we can visualize via the [visualization notebook](df_stats/demo/visualization.ipynb) as before\n"
   ]
  },
  {
   "cell_type": "markdown",
   "id": "cecfa8b0-cd00-45e7-a2b5-c6b3866e1a41",
   "metadata": {},
   "source": [
    "## Stop POC \n",
    "You can use a terminal to stop POC using\n",
    "```\n",
    "nvflare poc --stop \n",
    "```\n"
   ]
  },
  {
   "cell_type": "markdown",
   "id": "05826bd7-d6a6-4d01-bb56-ed4949490a29",
   "metadata": {
    "tags": []
   },
   "source": [
    "## Cleanup\n",
    "If you like to clean up the temp folders and POC, we need some clean up\n",
    "* remove downloaded result folder \n",
    "* clean up POC workspace"
   ]
  },
  {
   "cell_type": "code",
   "execution_count": 21,
   "id": "eef25b4a-cf37-4b35-b647-fbc26a0b60be",
   "metadata": {
    "tags": []
   },
   "outputs": [],
   "source": [
    "! rm -r {result_dir}"
   ]
  },
  {
   "cell_type": "code",
   "execution_count": 22,
   "id": "b39f78e8-4bb0-45a9-8e18-eae1391254e6",
   "metadata": {
    "tags": []
   },
   "outputs": [
    {
     "name": "stdout",
     "output_type": "stream",
     "text": [
      "/tmp/nvflare/poc is removed\n"
     ]
    }
   ],
   "source": [
    "!nvflare poc --clean"
   ]
  },
  {
   "cell_type": "markdown",
   "id": "fda06c0b-798d-480d-9b4c-a62fab95bcf0",
   "metadata": {
    "tags": []
   },
   "source": [
    "## We are done !\n",
    "Congratulations, you just completed the federated stats calulation with data represented by data frame\n"
   ]
  },
  {
   "cell_type": "code",
   "execution_count": null,
   "id": "54fa3055-1cc5-4e6a-a62b-f0765c357261",
   "metadata": {},
   "outputs": [],
   "source": []
  }
 ],
 "metadata": {
  "kernelspec": {
   "display_name": "Python 3 (ipykernel)",
   "language": "python",
   "name": "python3"
  },
  "language_info": {
   "codemirror_mode": {
    "name": "ipython",
    "version": 3
   },
   "file_extension": ".py",
   "mimetype": "text/x-python",
   "name": "python",
   "nbconvert_exporter": "python",
   "pygments_lexer": "ipython3",
   "version": "3.8.16"
  }
 },
 "nbformat": 4,
 "nbformat_minor": 5
}
