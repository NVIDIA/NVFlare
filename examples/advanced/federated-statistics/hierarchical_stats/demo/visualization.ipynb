{
 "cells": [
  {
   "cell_type": "markdown",
   "id": "7c4be7b0",
   "metadata": {},
   "source": [
    "# NVFLARE Hierarchical Statistics Visualization"
   ]
  },
  {
   "cell_type": "markdown",
   "id": "987e6028",
   "metadata": {},
   "source": [
    "#### dependencies\n",
    "\n",
    "To run examples, you might need to install the dependencies\n",
    "* ipywidgets\n",
    "* numpy\n",
    "* pandas\n",
    "* matplotlib\n",
    "* jupyter\n",
    "\n",
    "These are captured in the requirements.txt"
   ]
  },
  {
   "cell_type": "code",
   "execution_count": null,
   "id": "5849dd04",
   "metadata": {},
   "outputs": [],
   "source": [
    "%pip install -r ../requirements.txt"
   ]
  },
  {
   "cell_type": "markdown",
   "id": "665dc17e",
   "metadata": {},
   "source": [
    "## Hierarchical Statistics Visualization of Tabular Data\n",
    "In this example, we demonstrate how to visualize the hierarchical results from the statistics of tabular data. The visualization requires json, pandas, matplotlib and ipywidgets modules. "
   ]
  },
  {
   "cell_type": "code",
   "execution_count": 71,
   "id": "c44a0217",
   "metadata": {
    "tags": []
   },
   "outputs": [],
   "source": [
    "import ipywidgets as widgets\n",
    "import json\n",
    "import matplotlib.pyplot as plt\n",
    "import pandas as pd"
   ]
  },
  {
   "cell_type": "markdown",
   "id": "30c79d1a",
   "metadata": {},
   "source": [
    "First, copy the resulting json file to the demo directory. In this example, resulting file is called hierarchical_stats.json. Then load the json file"
   ]
  },
  {
   "cell_type": "code",
   "execution_count": 72,
   "id": "44f6bed2",
   "metadata": {
    "tags": []
   },
   "outputs": [],
   "source": [
    "with open('hierarchical_stats.json', 'r') as f:\n",
    "    data = json.load(f)"
   ]
  },
  {
   "cell_type": "markdown",
   "id": "1b0f21fd",
   "metadata": {},
   "source": [
    "### Overall Statistics\n",
    "\n",
    "In this section, we demonstrate how to visualize hierarchical stats from the tabular data using Jupyter Widgets."
   ]
  },
  {
   "cell_type": "code",
   "execution_count": null,
   "id": "ab771712",
   "metadata": {
    "tags": []
   },
   "outputs": [],
   "source": [
    "\n",
    "def create_widgets_hierarchy(data, parent_key='', sep='_'):\n",
    "    \"\"\"Convert hierarchical JSON into nested widgets for display.\"\"\"\n",
    "    if isinstance(data, dict):\n",
    "        items = []\n",
    "        for k, v in data.items():\n",
    "            if k == \"Global\" or k == \"Local\":\n",
    "                flattened_data = []\n",
    "                for metric, values in v.items():\n",
    "                    for key, value in values[\"default_set\"].items():\n",
    "                        flattened_data.append({\n",
    "                            \"Metric\": metric,\n",
    "                            \"Type\": key,\n",
    "                            \"Value\": value\n",
    "                        })\n",
    "                df = pd.DataFrame(flattened_data)\n",
    "                df_pivot = df.pivot(index=\"Metric\", columns=\"Type\", values=\"Value\").T\n",
    "                output = widgets.Output()\n",
    "                with output:\n",
    "                    display(df_pivot)\n",
    "                items.append((k, output))\n",
    "            elif k == \"Name\":\n",
    "                continue\n",
    "            else:\n",
    "                new_key = f\"{parent_key}{sep}{k}\" if parent_key else k\n",
    "                items.append((k, create_widgets_hierarchy(v, new_key, sep=sep)))\n",
    "        return widgets.Accordion(children=[v for k, v in items], titles=[k for k, v in items])\n",
    "    elif isinstance(data, list):\n",
    "        items = []\n",
    "        for i, item in enumerate(data):\n",
    "            new_key = f\"{parent_key}{sep}{i}\" if parent_key else str(i)\n",
    "            items.append((item.get(\"Name\"), create_widgets_hierarchy(item, new_key, sep=sep)))\n",
    "        return widgets.Accordion(children=[v for k, v in items], titles=[k for k, v in items])\n",
    "    else:\n",
    "        return widgets.Text(value=str(data), disabled=True)\n",
    "\n",
    "\n",
    "widget_hierarchy = create_widgets_hierarchy(data)\n",
    "display(widget_hierarchy)"
   ]
  },
  {
   "cell_type": "markdown",
   "id": "95e42829",
   "metadata": {},
   "source": [
    "### Histogram Visualization\n"
   ]
  },
  {
   "cell_type": "markdown",
   "id": "3e86860e",
   "metadata": {},
   "source": [
    "The following code demonstrates how the hierarchical histograms can be displayed using Jupyter Widgets for features like `percentage`."
   ]
  },
  {
   "cell_type": "code",
   "execution_count": null,
   "id": "f3dd3821",
   "metadata": {
    "tags": []
   },
   "outputs": [],
   "source": [
    "skip_stats = [\"count\", \"sum\", \"min\", \"max\", \"mean\", \"var\", \"stddev\", \"failure_count\", \"Name\"]\n",
    "def create_widgets_hierarchy(data, parent_key='', sep='_'):\n",
    "    \"\"\"Filter and convert hierarchical JSON into nested widgets of histograms for display.\"\"\"\n",
    "    if isinstance(data, dict):\n",
    "        items = []\n",
    "        for k, v in data.items():\n",
    "            if k == \"histogram\":\n",
    "                # Convert the data to a DataFrame\n",
    "                percentage_data = v[\"default_set\"][\"Percentage\"]\n",
    "                df_percentage = pd.DataFrame(percentage_data, columns=[\"Range_Start\", \"Range_End\", \"Count\"])\n",
    "                # Plot the histogram for Percentage data\n",
    "                plt.figure(figsize=(6, 6))\n",
    "                bar_width = 0.5\n",
    "                plt.bar(df_percentage.index, df_percentage[\"Count\"], width=bar_width, tick_label=[f\"{row[0]}-{row[1]}\" for row in percentage_data])\n",
    "                plt.title(\"Percentage\")\n",
    "                plt.xlabel(\"Range\")\n",
    "                plt.ylabel(\"Count\")\n",
    "                output = widgets.Output()\n",
    "                with output:\n",
    "                    plt.tight_layout()\n",
    "                    plt.show()\n",
    "                items.append((k, output))\n",
    "            elif k in skip_stats:\n",
    "                continue\n",
    "            else:\n",
    "                new_key = f\"{parent_key}{sep}{k}\" if parent_key else k\n",
    "                items.append((k, create_widgets_hierarchy(v, new_key, sep=sep)))\n",
    "        return widgets.Accordion(children=[v for k, v in items], titles=[k for k, v in items])\n",
    "    elif isinstance(data, list):\n",
    "        items = []\n",
    "        for i, item in enumerate(data):\n",
    "            new_key = f\"{parent_key}{sep}{i}\" if parent_key else str(i)\n",
    "            items.append((item.get(\"Name\"), create_widgets_hierarchy(item, new_key, sep=sep)))\n",
    "        return widgets.Accordion(children=[v for k, v in items], titles=[k for k, v in items])\n",
    "    else:\n",
    "        return widgets.Text(value=str(data), disabled=True)\n",
    "\n",
    "\n",
    "widget_tree = create_widgets_hierarchy(data)\n",
    "display(widget_tree)"
   ]
  }
 ],
 "metadata": {
  "kernelspec": {
   "display_name": "Python 3 (ipykernel)",
   "language": "python",
   "name": "python3"
  },
  "language_info": {
   "codemirror_mode": {
    "name": "ipython",
    "version": 3
   },
   "file_extension": ".py",
   "mimetype": "text/x-python",
   "name": "python",
   "nbconvert_exporter": "python",
   "pygments_lexer": "ipython3",
   "version": "3.10.12"
  }
 },
 "nbformat": 4,
 "nbformat_minor": 5
}
