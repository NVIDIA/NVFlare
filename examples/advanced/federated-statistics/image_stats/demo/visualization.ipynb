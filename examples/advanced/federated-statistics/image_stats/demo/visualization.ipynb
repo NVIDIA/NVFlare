{
 "cells": [
  {
   "cell_type": "markdown",
   "id": "3f851980",
   "metadata": {},
   "source": [
    "# NVFLARE Federated Statistics Visualization"
   ]
  },
  {
   "cell_type": "markdown",
   "id": "1aea2083",
   "metadata": {},
   "source": [
    "#### dependencies\n",
    "\n",
    "To run this example, you need to install the dependencies\n",
    "* monai[itk]\n",
    "* numpy\n",
    "* pandas\n",
    "* kaleido\n",
    "* matplotlib\n",
    "* jupyter\n",
    "* notebook\n",
    "\n",
    "These are captured in the requirements.txt\n"
   ]
  },
  {
   "cell_type": "markdown",
   "id": "0b71dd55",
   "metadata": {},
   "source": [
    "## Image Statistics Visualization\n",
    "In this example, we demonstate how to visualize the results from the statistics of image data. The visualization requires json, pandas, matplotlib modules as well as nvflare visualization utlities. "
   ]
  },
  {
   "cell_type": "code",
   "execution_count": null,
   "id": "85f23acf",
   "metadata": {
    "tags": []
   },
   "outputs": [],
   "source": [
    "\n",
    "import json\n",
    "import pandas as pd\n",
    "from nvflare.app_opt.statistics.visualization.statistics_visualization import Visualization"
   ]
  },
  {
   "cell_type": "markdown",
   "id": "151e23a8",
   "metadata": {},
   "source": [
    "First, copy the resulting json file to demo directory. In this example, resulting file is called image_statistics.json. Then load json file\n"
   ]
  },
  {
   "cell_type": "code",
   "execution_count": null,
   "id": "44f6bed2",
   "metadata": {
    "tags": []
   },
   "outputs": [],
   "source": [
    "with open('image_statistics.json', 'r') as f:\n",
    "    data = json.load(f)"
   ]
  },
  {
   "cell_type": "markdown",
   "id": "c4b83ddb",
   "metadata": {},
   "source": [
    "Initialize the Visualization utilities\n"
   ]
  },
  {
   "cell_type": "code",
   "execution_count": null,
   "id": "ab771712",
   "metadata": {
    "tags": []
   },
   "outputs": [],
   "source": [
    "vis = Visualization()\n"
   ]
  },
  {
   "cell_type": "markdown",
   "id": "49f976aa",
   "metadata": {},
   "source": [
    "### Overall Statistics\n",
    "vis.show_stats() will show the statistics for each features, at each site for each dataset\n",
    "\n",
    "vis.show_stats(data = data)\n"
   ]
  },
  {
   "cell_type": "code",
   "execution_count": null,
   "id": "20ea4dff",
   "metadata": {
    "tags": []
   },
   "outputs": [],
   "source": [
    "vis.show_stats(data = data)"
   ]
  },
  {
   "cell_type": "markdown",
   "id": "521cbf6f",
   "metadata": {},
   "source": [
    "### select features statistics using white_list_features \n",
    "user can optionally select only show specified features via white_list_features arguments. In these image files, we only have one feature"
   ]
  },
  {
   "cell_type": "markdown",
   "id": "9ab23bcc",
   "metadata": {},
   "source": [
    "### Histogram Visualization\n",
    "We can use vis.show_histograms() to visualize the histogram. Before we do that, we need set some iPython display setting to make sure the graph displayed in full cell. "
   ]
  },
  {
   "cell_type": "code",
   "execution_count": null,
   "id": "4bada64b",
   "metadata": {
    "tags": []
   },
   "outputs": [],
   "source": [
    "from IPython.display import display, HTML\n",
    "display(HTML(\"<style>.container { width:100%  depth:100% !important; }</style>\"))"
   ]
  },
  {
   "cell_type": "markdown",
   "id": "e415b49e",
   "metadata": {},
   "source": [
    "The following command display histograms for numberic features. The result shows both main plot"
   ]
  },
  {
   "cell_type": "code",
   "execution_count": null,
   "id": "53542cf9",
   "metadata": {
    "tags": []
   },
   "outputs": [],
   "source": [
    "vis.show_histograms(data = data, plot_type=\"main\")"
   ]
  },
  {
   "cell_type": "markdown",
   "id": "d8d537cc",
   "metadata": {},
   "source": [
    "## Display Options\n",
    "Similar to other statistics, we can use white_list_features to select only few features to display histograms. We can also use display_format=\"percent\" to allow all dataset and sites to be displayed in the same scale. User can set \n",
    "\n",
    "* display_format: \"percent\" or \"sample_count\"\n",
    "* white_list_features: feature names\n",
    "* plot_type : \"both\" or \"main\" or \"subplot\"\n",
    "\n",
    "\n"
   ]
  },
  {
   "cell_type": "markdown",
   "id": "353db4d9",
   "metadata": {},
   "source": [
    "#### show default display format with subplot\n",
    "In the following, we display only feature \"Intensity\" in default display_format, with \"subplot\" plot_type"
   ]
  },
  {
   "cell_type": "code",
   "execution_count": null,
   "id": "8f619729",
   "metadata": {},
   "outputs": [],
   "source": [
    "vis.show_histograms(data = data, plot_type=\"subplot\")"
   ]
  },
  {
   "cell_type": "markdown",
   "id": "fbf7fc73",
   "metadata": {},
   "source": [
    "\n",
    "#### show percent display format with default plot_type (main)\n",
    "In the following, we display only feature \"Intensity\" in \"percent\" display_format, with default plot_type"
   ]
  },
  {
   "cell_type": "code",
   "execution_count": null,
   "id": "8655ad63",
   "metadata": {
    "scrolled": true
   },
   "outputs": [],
   "source": [
    "vis.show_histograms(data = data, display_format=\"percent\")"
   ]
  },
  {
   "cell_type": "markdown",
   "id": "fe527f64",
   "metadata": {},
   "source": [
    "### Tip: Avoid repeated calculation\n"
   ]
  },
  {
   "cell_type": "markdown",
   "id": "4640b9aa",
   "metadata": {},
   "source": [
    "If you intend to plot histogram main plot and subplot separately, repeated calling show_histogram with different plot_types is not efficicent, as it repeatewd calculate the same set of Dataframes. To do it efficiently, you can use the following functions instead show_histogram methods. This avoid the duplicated calculation in show_histograms. But if you intend to show both plots, the show_histogram() should be used"
   ]
  },
  {
   "cell_type": "code",
   "execution_count": null,
   "id": "a8e6722f",
   "metadata": {},
   "outputs": [],
   "source": [
    " feature_dfs = vis.get_histogram_dataframes(data, display_format=\"percent\" )\n",
    "   \n",
    " vis.show_dataframe_plots(feature_dfs, plot_type=\"main\")   "
   ]
  },
  {
   "cell_type": "code",
   "execution_count": null,
   "id": "17fbd7fd",
   "metadata": {},
   "outputs": [],
   "source": [
    " vis.show_dataframe_plots(feature_dfs, plot_type=\"subplot\")   "
   ]
  }
 ],
 "metadata": {
  "kernelspec": {
   "display_name": "Python 3 (ipykernel)",
   "language": "python",
   "name": "python3"
  },
  "language_info": {
   "codemirror_mode": {
    "name": "ipython",
    "version": 3
   },
   "file_extension": ".py",
   "mimetype": "text/x-python",
   "name": "python",
   "nbconvert_exporter": "python",
   "pygments_lexer": "ipython3",
   "version": "3.8.13"
  }
 },
 "nbformat": 4,
 "nbformat_minor": 5
}
