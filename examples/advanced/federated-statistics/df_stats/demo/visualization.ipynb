{
 "cells": [
  {
   "cell_type": "markdown",
   "id": "7c4be7b0",
   "metadata": {},
   "source": [
    "# NVFLARE Federated Statistics Visualization"
   ]
  },
  {
   "cell_type": "markdown",
   "id": "987e6028",
   "metadata": {},
   "source": [
    "#### dependencies\n",
    "\n",
    "To run examples, you might need to install the dependencies\n",
    "* numpy\n",
    "* pandas\n",
    "* wget\n",
    "* matplotlib\n",
    "* jupyter\n",
    "* notebook\n",
    "\n",
    "These are captured in the requirements.txt"
   ]
  },
  {
   "cell_type": "markdown",
   "id": "665dc17e",
   "metadata": {},
   "source": [
    "## Tabular Data Statistics Visualization\n",
    "In this example, we demonstate how to visualize the results from the statistics of tabular data. The visualization requires json, pandas, matplotlib modules as well as nvflare visualization utlities. "
   ]
  },
  {
   "cell_type": "code",
   "execution_count": null,
   "id": "c44a0217",
   "metadata": {
    "tags": []
   },
   "outputs": [],
   "source": [
    "import json\n",
    "import pandas as pd\n",
    "\n",
    "from nvflare.app_opt.statistics.visualization.statistics_visualization import Visualization"
   ]
  },
  {
   "cell_type": "markdown",
   "id": "30c79d1a",
   "metadata": {},
   "source": [
    "First, copy the resulting json file to demo directory. In this example, resulting file is called adults_stats.json. Then load json file"
   ]
  },
  {
   "cell_type": "code",
   "execution_count": null,
   "id": "44f6bed2",
   "metadata": {
    "tags": []
   },
   "outputs": [],
   "source": [
    "with open('adults_stats.json', 'r') as f:\n",
    "    data = json.load(f)"
   ]
  },
  {
   "cell_type": "markdown",
   "id": "c5cdbcc0",
   "metadata": {},
   "source": [
    "Initialize the Visualization utilities"
   ]
  },
  {
   "cell_type": "code",
   "execution_count": null,
   "id": "93c62d5e",
   "metadata": {
    "tags": []
   },
   "outputs": [],
   "source": [
    "vis = Visualization()"
   ]
  },
  {
   "cell_type": "markdown",
   "id": "1b0f21fd",
   "metadata": {},
   "source": [
    "### Overall Statistics"
   ]
  },
  {
   "cell_type": "markdown",
   "id": "b49588c2",
   "metadata": {},
   "source": [
    "vis.show_statis() will show the statistics for each features, at each site for each dataset"
   ]
  },
  {
   "cell_type": "code",
   "execution_count": null,
   "id": "ab771712",
   "metadata": {
    "tags": []
   },
   "outputs": [],
   "source": [
    "\n",
    "vis.show_stats(data = data)"
   ]
  },
  {
   "cell_type": "markdown",
   "id": "4986dd14",
   "metadata": {},
   "source": [
    "### select features statistics using white_list_features \n",
    "user can optionally select only show specified features via white_list_features arguments. In the following, we only selected three features instead of all the features"
   ]
  },
  {
   "cell_type": "code",
   "execution_count": null,
   "id": "563a8bb7",
   "metadata": {
    "tags": []
   },
   "outputs": [],
   "source": [
    "vis.show_stats(data = data, white_list_features= ['Age', 'fnlwgt', 'Hours per week'])"
   ]
  },
  {
   "cell_type": "markdown",
   "id": "95e42829",
   "metadata": {},
   "source": [
    "### Histogram Visualization\n",
    "We can use vis.show_histograms() to visualize the histogram. Before we do that, we need set some iPython display setting to make sure the graph displayed in full cell. "
   ]
  },
  {
   "cell_type": "code",
   "execution_count": null,
   "id": "fcdfb197",
   "metadata": {
    "tags": []
   },
   "outputs": [],
   "source": [
    "from IPython.display import display, HTML\n",
    "display(HTML(\"<style>.container { width:100%  depth:100% !important; }</style>\"))"
   ]
  },
  {
   "cell_type": "markdown",
   "id": "3e86860e",
   "metadata": {},
   "source": [
    "The following command display histograms for numberic features. The result shows both main plot and show sub-plots"
   ]
  },
  {
   "cell_type": "code",
   "execution_count": null,
   "id": "f3dd3821",
   "metadata": {
    "tags": []
   },
   "outputs": [],
   "source": [
    "vis.show_histograms(data = data)"
   ]
  },
  {
   "cell_type": "markdown",
   "id": "49b74579",
   "metadata": {},
   "source": [
    "# Display Options\n",
    "Similar to other statistics, we can use white_list_features to select only few features to display histograms. We can also use display_format=\"percent\" to allow all dataset and sites to be displayed in the same scale. User can set \n",
    "\n",
    "* display_format: \"percent\" or \"sample_count\"\n",
    "* white_list_features: feature names\n",
    "* plot_type : \"both\" or \"main\" or \"subplot\"\n",
    "\n",
    "#### show percent display format with selected features\n",
    "In the following, we display only feature \"Age\" in \"percent\" display_format, with \"both\" plot_type"
   ]
  },
  {
   "cell_type": "code",
   "execution_count": null,
   "id": "e07b9266",
   "metadata": {},
   "outputs": [],
   "source": [
    "vis.show_histograms(data = data, display_format = \"percent\", white_list_features= ['Age'])"
   ]
  },
  {
   "cell_type": "markdown",
   "id": "cddf21af",
   "metadata": {},
   "source": [
    "#### display main plot_type with selected features\n",
    "In this example, we display two features in \"sample_counts\" display_format, with \"main\" plot_type"
   ]
  },
  {
   "cell_type": "code",
   "execution_count": null,
   "id": "038e238e",
   "metadata": {},
   "outputs": [],
   "source": [
    "vis.show_histograms(data, \"sample_counts\", ['Age', 'Hours per week' ], plot_type=\"main\")"
   ]
  },
  {
   "cell_type": "markdown",
   "id": "b06195ac",
   "metadata": {},
   "source": [
    "#### selected features with subplot plot_type\n",
    "In next example, we display one feature in \"sample_counts\" display_format, with \"subplot\" plot_type"
   ]
  },
  {
   "cell_type": "code",
   "execution_count": null,
   "id": "8958e124",
   "metadata": {},
   "outputs": [],
   "source": [
    "vis.show_histograms(data, \"sample_counts\", ['Age', 'Hours per week' ], plot_type=\"subplot\")"
   ]
  },
  {
   "cell_type": "markdown",
   "id": "2f330eb6",
   "metadata": {},
   "source": [
    "### Tip: Avoid repeated calculation\n",
    "If you intend to plot histogram main plot and subplot separately, repeated calling show_histogram with different plot_types is not efficicent, as it repeatewd calculate the same set of Dataframes. To do it efficiently, you can use the following functions instead show_histogram methods. This avoid the duplicated calculation in show_histograms. But if you intend to show both plots, the show_histogram() should be used"
   ]
  },
  {
   "cell_type": "code",
   "execution_count": null,
   "id": "395315a4",
   "metadata": {},
   "outputs": [],
   "source": [
    " feature_dfs = vis.get_histogram_dataframes(data, display_format=\"percent\" )\n",
    "   \n",
    " vis.show_dataframe_plots(feature_dfs, plot_type=\"main\")  "
   ]
  }
 ],
 "metadata": {
  "kernelspec": {
   "display_name": "nvflare_example",
   "language": "python",
   "name": "nvflare_example"
  },
  "language_info": {
   "codemirror_mode": {
    "name": "ipython",
    "version": 3
   },
   "file_extension": ".py",
   "mimetype": "text/x-python",
   "name": "python",
   "nbconvert_exporter": "python",
   "pygments_lexer": "ipython3",
   "version": "3.8.16"
  }
 },
 "nbformat": 4,
 "nbformat_minor": 5
}
