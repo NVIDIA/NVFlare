{
 "cells": [
  {
   "attachments": {},
   "cell_type": "markdown",
   "id": "26cb3afa",
   "metadata": {},
   "source": [
    "# Calculate Image Histogram\n",
    "\n",
    "In this example, we will compute the local and global image statistics\n",
    "\n",
    "## Setup NVFLARE\n",
    "\n",
    "Follow [Getting Started](https://nvflare.readthedocs.io/en/main/getting_started.html) to set up a virtual environment and install NVFLARE.\n",
    "\n",
    "You can also follow this [notebook](../../nvflare_setup.ipynb) to get set up.\n",
    "\n",
    "Just to quickly recap the NVFLARE installation:\n",
    "\n",
    "**NVFLARE Installation**\n"
   ]
  },
  {
   "cell_type": "code",
   "execution_count": null,
   "id": "12677ed3-0f4a-4f2f-bd6a-61c7e51f683e",
   "metadata": {
    "tags": []
   },
   "outputs": [],
   "source": [
    "!python -m pip install nvflare\n"
   ]
  },
  {
   "cell_type": "code",
   "execution_count": null,
   "id": "58cd8b31-c34d-4e66-8ba7-dcfa61bed703",
   "metadata": {
    "tags": []
   },
   "outputs": [],
   "source": [
    "! nvflare -V"
   ]
  },
  {
   "cell_type": "markdown",
   "id": "64a17f22-5667-4f99-b4f6-d49116db74b0",
   "metadata": {
    "tags": []
   },
   "source": [
    "## Install requirements"
   ]
  },
  {
   "cell_type": "code",
   "execution_count": null,
   "id": "7c8969bf-d010-42b5-a807-0808922402d6",
   "metadata": {
    "tags": []
   },
   "outputs": [],
   "source": [
    "!pip install -r image_stats/requirements.txt"
   ]
  },
  {
   "cell_type": "markdown",
   "id": "0065b351-baac-4f84-aa15-3d875f86cb93",
   "metadata": {
    "tags": []
   },
   "source": [
    "## Download data\n",
    "\n",
    "As an example, we use the dataset from the [\"COVID-19 Radiography Database\"](https://www.kaggle.com/tawsifurrahman/covid19-radiography-database).\n",
    "it contains png image files in four different classes: `COVID`, `Lung_Opacity`, `Normal`, and `Viral Pneumonia`.\n",
    "First create a temp directory, then we download and extract to `/tmp/nvflare/image_stats/data/.`."
   ]
  },
  {
   "cell_type": "code",
   "execution_count": null,
   "id": "b4e64769-17f1-4805-9399-1c141e050065",
   "metadata": {
    "tags": []
   },
   "outputs": [],
   "source": [
    "mkdir -p /tmp/nvflare/image_stats/data"
   ]
  },
  {
   "cell_type": "markdown",
   "id": "0562f713-5892-43c7-a3d6-d277c337b5ea",
   "metadata": {},
   "source": [
    "Once you have extract the data from zip file, you can check the directory"
   ]
  },
  {
   "cell_type": "code",
   "execution_count": null,
   "id": "bdc68ebf-6071-479d-8cc1-15439bedea02",
   "metadata": {
    "tags": []
   },
   "outputs": [],
   "source": [
    "ls -l /tmp/nvflare/image_stats/data/."
   ]
  },
  {
   "cell_type": "markdown",
   "id": "94faaa6b-08fd-485c-87d5-53b4520177fe",
   "metadata": {
    "tags": []
   },
   "source": [
    "\n",
    "## Prepare data\n",
    "\n",
    "Next, create the data lists simulating different clients with varying amounts and types of images. \n",
    "The downloaded archive contains subfolders for four different classes: `COVID`, `Lung_Opacity`, `Normal`, and `Viral Pneumonia`.\n",
    "Here we assume each class of image corresponds to a different sites.\n",
    "\n",
    "\n"
   ]
  },
  {
   "cell_type": "code",
   "execution_count": null,
   "id": "e1ea959f-7282-4e55-bb26-11524ec47e99",
   "metadata": {
    "tags": []
   },
   "outputs": [],
   "source": [
    "! image_stats/prepare_data.sh\n"
   ]
  },
  {
   "cell_type": "markdown",
   "id": "f00de5e4-4360-4fc5-a819-4eb156e56341",
   "metadata": {},
   "source": [
    "## Run job in FL Simulator\n",
    "\n",
    "With FL simulator, we can just run the example with CLI command \n",
    "\n"
   ]
  },
  {
   "cell_type": "code",
   "execution_count": null,
   "id": "4863969e-cc30-4440-ad62-4393114b6e9d",
   "metadata": {
    "tags": []
   },
   "outputs": [],
   "source": [
    "! nvflare simulator image_stats/jobs/image_stats -w /tmp/nvflare/image_stats -n 4 -t 4\n"
   ]
  },
  {
   "cell_type": "markdown",
   "id": "45bf6e9a-3265-4e45-8b06-c8e543605f21",
   "metadata": {},
   "source": [
    "\n",
    "The results are stored in workspace \"/tmp/nvflare/image_stats\""
   ]
  },
  {
   "cell_type": "code",
   "execution_count": null,
   "id": "112a7dd0-45d9-42ea-98b2-f72a3bbccf48",
   "metadata": {
    "tags": []
   },
   "outputs": [],
   "source": [
    "! ls -al /tmp/nvflare/image_stats/simulate_job/statistics/image_statistics.json"
   ]
  },
  {
   "cell_type": "markdown",
   "id": "3cd042db-6ce0-4e37-bcbe-d96051e4d164",
   "metadata": {
    "tags": []
   },
   "source": [
    "## Visualization\n",
    "We can visualize the results easly via the visualizaiton notebook. Before we do that, we need to copy the data to the notebook directory \n"
   ]
  },
  {
   "cell_type": "code",
   "execution_count": null,
   "id": "a3c89693-37b9-450c-85dd-8a2d78fee3fa",
   "metadata": {
    "tags": []
   },
   "outputs": [],
   "source": [
    "! cp /tmp/nvflare/image_stats/simulate_job/statistics/image_statistics.json image_stats/demo/."
   ]
  },
  {
   "cell_type": "markdown",
   "id": "d5c6f632-3326-4236-902e-8c0965688d85",
   "metadata": {},
   "source": [
    "now we can visualize via the [visualization notebook](image_stats/demo/visualization.ipynb)"
   ]
  },
  {
   "cell_type": "markdown",
   "id": "52d2a52f-8a8d-45ef-8a50-ddbb4ed2f2c6",
   "metadata": {
    "tags": []
   },
   "source": [
    "We are not quite done yet. What if you prefer to use python API instead CLI to run jobs. Lets do that in this section"
   ]
  },
  {
   "cell_type": "markdown",
   "id": "662f22df-51e7-41fa-b62d-8b9ba0093c65",
   "metadata": {},
   "source": [
    "## Run Job using Simulator API\n",
    "This should be the same as running in command CLI via nvflare simulator"
   ]
  },
  {
   "cell_type": "code",
   "execution_count": null,
   "id": "cf8813f9-4fca-4cf5-bb78-acc9acf3fbc7",
   "metadata": {
    "tags": []
   },
   "outputs": [],
   "source": [
    "from nvflare.private.fed.app.simulator.simulator_runner import SimulatorRunner\n",
    "runner = SimulatorRunner(job_folder=\"image_stats/jobs/image_stats\", workspace=\"/tmp/nvflare/image_stats\", n_clients = 4, threads=4)\n",
    "runner.run()"
   ]
  },
  {
   "attachments": {},
   "cell_type": "markdown",
   "id": "0b96b5ba-3322-43f9-8240-99c293e91d5d",
   "metadata": {
    "tags": []
   },
   "source": [
    "## Run Job using FLARE API in POC mode\n",
    "\n",
    "So far, we having using Simulator to simulate the federated job run. With [FLARE API](../../tutorials/flare_api.ipynb) , you can directly interact with NVFLARE system in production or POC mode\n",
    "In such cases, we have to first setup and deploy the federated system. Since we are running on local machine, we will minic this deploy via Proof of Conccept mode.\n",
    "Please refer this section to see how to [setup POC mode](../../tutorials/setup_poc.ipynb) and [detailed POC commands](https://nvflare.readthedocs.io/en/latest/user_guide/poc_command.html#poc-command)\n",
    "\n",
    "For now, we assume the NVFLARE system is already running in POC mode started with the following commands\n",
    "\n",
    "```\n",
    "nvflare poc --prepare -n 2 \n",
    "\n",
    "nvflare poc --start -ex admin\n",
    "```\n",
    "\n",
    "You double check if the flare is running with the following command from **terminal**\n",
    "\n"
   ]
  },
  {
   "cell_type": "code",
   "execution_count": null,
   "id": "e42aa789-2e46-4689-83a0-f67c4aa4e281",
   "metadata": {
    "tags": []
   },
   "outputs": [],
   "source": [
    "! echo y | nvflare poc --prepare -n 2 "
   ]
  },
  {
   "cell_type": "code",
   "execution_count": null,
   "id": "490ef8aa-97cc-44c8-aaca-79df6af1b6a3",
   "metadata": {
    "tags": []
   },
   "outputs": [],
   "source": [
    "ls -al  /tmp/nvflare/poc/admin/transfer"
   ]
  },
  {
   "cell_type": "code",
   "execution_count": null,
   "id": "19f98ff0-4ab1-4631-81a9-8e2ff2f0bcf8",
   "metadata": {
    "tags": []
   },
   "outputs": [],
   "source": [
    "%%bash --bg  \n",
    "\n",
    "nvflare poc --start -ex admin\n",
    "echo \"sleep for few seconds to let system start\"\n",
    "sleep 3"
   ]
  },
  {
   "cell_type": "code",
   "execution_count": null,
   "id": "0d263e8c-2b17-4d6e-ab25-4b6f3ed001a7",
   "metadata": {
    "tags": []
   },
   "outputs": [],
   "source": [
    "import os\n",
    "from nvflare.fuel.flare_api.flare_api import new_insecure_session\n",
    "\n",
    "workspace = \"/tmp/nvflare/poc\"\n",
    "admin_dir = os.path.join(workspace, \"admin\")\n",
    "sess = new_insecure_session(admin_dir)\n",
    "sys_info = sess.get_system_info()\n",
    "\n",
    "print(f\"Server info:\\n{sys_info.server_info}\")\n",
    "print(\"\\nclient_info\")\n",
    "for client in sys_info.client_info:\n",
    "    print(client)"
   ]
  },
  {
   "cell_type": "markdown",
   "id": "6219c4a4-a9df-44e9-9500-47b020d756a1",
   "metadata": {
    "tags": []
   },
   "source": [
    "repeat above step until you see Clients (site-1, site-2) are connected. \n",
    "Once they are connected, then we are ready to go"
   ]
  },
  {
   "cell_type": "markdown",
   "id": "33d04d5e-9e20-485b-982a-e883f1187936",
   "metadata": {
    "tags": []
   },
   "source": [
    "## Utilities\n",
    "\n",
    "**Monitoring Job**\n",
    "\n",
    "You can choose your monitoring output, here is one function to display the job information "
   ]
  },
  {
   "cell_type": "code",
   "execution_count": null,
   "id": "2c3bc779-a1d5-4bf1-b0a8-551c0cdefe32",
   "metadata": {
    "jupyter": {
     "source_hidden": true
    },
    "tags": []
   },
   "outputs": [],
   "source": [
    "import json\n",
    "from nvflare.fuel.flare_api.flare_api import Session\n",
    "\n",
    "def status_monitor_cb(\n",
    "        session: Session, job_id: str, job_meta, *cb_args, **cb_kwargs\n",
    "    ) -> bool:\n",
    "    if job_meta[\"status\"] == \"RUNNING\":\n",
    "        if cb_kwargs[\"cb_run_counter\"][\"count\"] < 3 or cb_kwargs[\"cb_run_counter\"][\"count\"]%15 == 0:\n",
    "            print(job_meta)            \n",
    "        else: \n",
    "            print(\".\", end=\"\")\n",
    "    else:\n",
    "        print(\"\\n\" + str(job_meta))\n",
    "    \n",
    "    cb_kwargs[\"cb_run_counter\"][\"count\"] += 1\n",
    "    return True\n",
    "\n",
    "\n",
    "\n",
    "def format_json( data: dict): \n",
    "    print(json.dumps(data, sort_keys=True, indent=4,separators=(',', ': ')))\n"
   ]
  },
  {
   "cell_type": "markdown",
   "id": "8cf89dae-4c24-4486-8a2f-a2a2fa33b8eb",
   "metadata": {},
   "source": [
    "If you determine that the flare poc system is not running, you can open a terminal to start the FLARE system in POC mode. \n",
    "At this point, assume you have already setup the poc and started the NVFLARE. And we are going to use the default **workspace=/tmp/nvflare/poc**. We will first check the system status"
   ]
  },
  {
   "cell_type": "code",
   "execution_count": null,
   "id": "45e33412-574d-4af0-b093-2ece5761741f",
   "metadata": {},
   "outputs": [],
   "source": [
    "import os\n",
    "from nvflare.fuel.flare_api.flare_api import new_insecure_session\n",
    "\n",
    "workspace = \"/tmp/nvflare/poc\"\n",
    "admin_dir = os.path.join(workspace, \"admin\")\n",
    "sess = new_insecure_session(admin_dir)\n",
    "print(sess.get_system_info())\n"
   ]
  },
  {
   "cell_type": "markdown",
   "id": "848634d9-326f-47d4-85d2-851e4072d82c",
   "metadata": {},
   "source": [
    "###\n",
    "**submit Job**"
   ]
  },
  {
   "cell_type": "code",
   "execution_count": null,
   "id": "49e836fd-3a18-430a-978d-4bfe5f102bb2",
   "metadata": {
    "tags": []
   },
   "outputs": [],
   "source": [
    "examples_dir = os.path.join(admin_dir, \"transfer\")\n",
    "job_folder = os.path.join(examples_dir, \"advanced/federated-statistics/image_stats/jobs/image_stats\")\n",
    "job_id = sess.submit_job(job_folder)\n",
    "print(job_id + \" was submitted\")"
   ]
  },
  {
   "cell_type": "markdown",
   "id": "231cc6e9-41de-46d8-86d1-9d80ffe9b81a",
   "metadata": {},
   "source": [
    "###\n",
    "\n",
    "**Monitoring Job**\n",
    "\n",
    "You can choose your monitoring output, here is one function to display the job information "
   ]
  },
  {
   "cell_type": "code",
   "execution_count": null,
   "id": "c2a16dfc-6426-4f13-afe7-bd4adf21bb85",
   "metadata": {
    "tags": []
   },
   "outputs": [],
   "source": [
    "from nvflare.fuel.flare_api.flare_api import Session\n",
    "def status_monitor_cb(\n",
    "        session: Session, job_id: str, job_meta, *cb_args, **cb_kwargs\n",
    "    ) -> bool:\n",
    "    if job_meta[\"status\"] == \"RUNNING\":\n",
    "        if cb_kwargs[\"cb_run_counter\"][\"count\"] < 3 or cb_kwargs[\"cb_run_counter\"][\"count\"]%15 == 0:\n",
    "            print(job_meta)            \n",
    "        else: \n",
    "            print(\".\", end=\"\")\n",
    "    else:\n",
    "        print(\"\\n\" + str(job_meta))\n",
    "    \n",
    "    cb_kwargs[\"cb_run_counter\"][\"count\"] += 1\n",
    "    return True\n"
   ]
  },
  {
   "cell_type": "code",
   "execution_count": null,
   "id": "9923e5d5",
   "metadata": {},
   "outputs": [],
   "source": [
    "sess.get_job_meta(job_id)"
   ]
  },
  {
   "cell_type": "code",
   "execution_count": null,
   "id": "e71ef51e-82d1-4ccd-8c6a-999477047fe7",
   "metadata": {
    "jupyter": {
     "source_hidden": true
    },
    "tags": []
   },
   "outputs": [],
   "source": [
    "sess.monitor_job(job_id, cb=status_monitor_cb, cb_run_counter={\"count\":0})"
   ]
  },
  {
   "cell_type": "code",
   "execution_count": null,
   "id": "4c786b22-8155-41a1-ba8f-4fa6ff669e6f",
   "metadata": {
    "tags": []
   },
   "outputs": [],
   "source": [
    "import json\n",
    "\n",
    "def format_json( data: dict): \n",
    "    print(json.dumps(data, sort_keys=True, indent=4,separators=(',', ': ')))\n",
    "\n",
    "\n",
    "list_jobs_output = sess.list_jobs(limit = 2)\n",
    "print( format_json(list_jobs_output))"
   ]
  },
  {
   "cell_type": "code",
   "execution_count": null,
   "id": "daa8b989-880f-4ec9-9deb-d1a104f0d4bf",
   "metadata": {
    "tags": []
   },
   "outputs": [],
   "source": [
    "list_jobs_output_detailed = sess.list_jobs(detailed=True)\n",
    "print(format_json(list_jobs_output_detailed))"
   ]
  },
  {
   "cell_type": "markdown",
   "id": "bcc87d7c-f39d-4478-ba89-875247edfc34",
   "metadata": {},
   "source": [
    "###\n",
    "\n",
    "**Download the result from FL Server**"
   ]
  },
  {
   "cell_type": "code",
   "execution_count": null,
   "id": "0c46ce2b-69e7-463b-955e-4e77f1d85cc3",
   "metadata": {
    "tags": []
   },
   "outputs": [],
   "source": [
    "result_dir = sess.download_job_result(job_id)\n",
    "print(result_dir)"
   ]
  },
  {
   "cell_type": "code",
   "execution_count": null,
   "id": "6b2a59da-274f-4af7-8412-79fbc6268c3b",
   "metadata": {
    "tags": []
   },
   "outputs": [],
   "source": [
    "! tree {result_dir}"
   ]
  },
  {
   "cell_type": "markdown",
   "id": "73f526c3-e00e-4b38-b69b-9433fd0f46a7",
   "metadata": {
    "tags": []
   },
   "source": [
    "## logs"
   ]
  },
  {
   "cell_type": "code",
   "execution_count": null,
   "id": "a5fe8c33-c5f3-4558-aab1-788312683345",
   "metadata": {
    "tags": []
   },
   "outputs": [],
   "source": [
    "!head -n 100 {result_dir}/workspace/log.txt"
   ]
  },
  {
   "cell_type": "markdown",
   "id": "268c383a-d1a4-458e-806f-d415847cbc27",
   "metadata": {
    "tags": []
   },
   "source": [
    "## Visualization"
   ]
  },
  {
   "cell_type": "markdown",
   "id": "8614a281-63c1-415f-9b6c-642d13c04b6e",
   "metadata": {
    "tags": []
   },
   "source": [
    "Now we can copy the adults_stats.json to the demo folder for visualization"
   ]
  },
  {
   "cell_type": "code",
   "execution_count": null,
   "id": "e6be62d8-f89b-42eb-b562-c468180e4c40",
   "metadata": {},
   "outputs": [],
   "source": [
    "! cp {result_dir}/workspace/statistics/image_statistics.json image_stats/demo/."
   ]
  },
  {
   "cell_type": "markdown",
   "id": "1c79a657-3315-4362-b2eb-1a8a0e18e332",
   "metadata": {
    "tags": []
   },
   "source": [
    "Now we can visualize via the [visualization notebook](image_stats/demo/visualization.ipynb) as before\n"
   ]
  },
  {
   "cell_type": "markdown",
   "id": "8e69adba-9d45-4f9b-b425-e3063a0da6eb",
   "metadata": {
    "tags": []
   },
   "source": [
    "### Stop NVFLARE and Cleanup\n",
    "If you like to stop the NVFLARE system, clean up the temp folders and workspace, we need some clean up\n",
    "* stop nvflare\n",
    "* remove downloaded result folder \n",
    "* clean up POC workspace"
   ]
  },
  {
   "cell_type": "code",
   "execution_count": null,
   "id": "61f7c2b2-2d76-4b21-ac06-af85310f5af8",
   "metadata": {
    "tags": []
   },
   "outputs": [],
   "source": [
    "! nvflare poc --stop"
   ]
  },
  {
   "cell_type": "code",
   "execution_count": null,
   "id": "0e165a14-0877-46e9-86e1-8be802b98037",
   "metadata": {
    "tags": []
   },
   "outputs": [],
   "source": [
    "! rm -r {result_dir}"
   ]
  },
  {
   "cell_type": "code",
   "execution_count": null,
   "id": "8230c8bd-26fb-4e64-8bf3-4eaa8fdb7c4a",
   "metadata": {
    "tags": []
   },
   "outputs": [],
   "source": [
    "!nvflare poc --clean"
   ]
  },
  {
   "cell_type": "markdown",
   "id": "fda06c0b-798d-480d-9b4c-a62fab95bcf0",
   "metadata": {
    "tags": []
   },
   "source": [
    "## We are done !\n",
    "Congratulations, you just completed the federated stats image histogram calulation\n"
   ]
  }
 ],
 "metadata": {
  "kernelspec": {
   "display_name": "Python 3 (ipykernel)",
   "language": "python",
   "name": "python3"
  },
  "language_info": {
   "codemirror_mode": {
    "name": "ipython",
    "version": 3
   },
   "file_extension": ".py",
   "mimetype": "text/x-python",
   "name": "python",
   "nbconvert_exporter": "python",
   "pygments_lexer": "ipython3",
   "version": "3.8.16"
  }
 },
 "nbformat": 4,
 "nbformat_minor": 5
}
