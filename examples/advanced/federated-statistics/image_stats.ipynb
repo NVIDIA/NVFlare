{
 "cells": [
  {
   "cell_type": "markdown",
   "id": "26cb3afa",
   "metadata": {},
   "source": [
    "# Calculate Image Histogram\n",
    "\n",
    "In this example, we will compute the local and global image statistics\n",
    "\n",
    "## Setup NVFLARE\n",
    "\n",
    "follow the [Getting_Started](https://nvflare.readthedocs.io/en/main/getting_started.html) to setup virtual environment and install NVFLARE\n",
    "\n",
    "You can also follow this [Getting Started](../../../../getting_started.ipynb) Notebook to setup. \n",
    "\n",
    "Assume you have already setup the venv, lets first install required packages.\n",
    "First find out which directory we are \n"
   ]
  },
  {
   "cell_type": "code",
   "execution_count": null,
   "id": "5f19d6da-8013-45d8-8abd-fb1d4afd360b",
   "metadata": {
    "tags": []
   },
   "outputs": [],
   "source": [
    " !pwd"
   ]
  },
  {
   "cell_type": "markdown",
   "id": "64a17f22-5667-4f99-b4f6-d49116db74b0",
   "metadata": {
    "tags": []
   },
   "source": [
    "## Install requirements"
   ]
  },
  {
   "cell_type": "code",
   "execution_count": null,
   "id": "7c8969bf-d010-42b5-a807-0808922402d6",
   "metadata": {
    "tags": []
   },
   "outputs": [],
   "source": [
    "!pip install -r image_stats/requirements.txt"
   ]
  },
  {
   "cell_type": "markdown",
   "id": "0065b351-baac-4f84-aa15-3d875f86cb93",
   "metadata": {
    "tags": []
   },
   "source": [
    "## Download data\n",
    "\n",
    "As an example, we use the dataset from the [\"COVID-19 Radiography Database\"](https://www.kaggle.com/tawsifurrahman/covid19-radiography-database).\n",
    "it contains png image files in four different classes: `COVID`, `Lung_Opacity`, `Normal`, and `Viral Pneumonia`.\n",
    "First, download and extract to `/tmp/nvflare/image_stats/data/.`.\n"
   ]
  },
  {
   "cell_type": "code",
   "execution_count": null,
   "id": "bdc68ebf-6071-479d-8cc1-15439bedea02",
   "metadata": {
    "tags": []
   },
   "outputs": [],
   "source": [
    "ls -l /tmp/nvflare/image_stats/data/."
   ]
  },
  {
   "cell_type": "markdown",
   "id": "94faaa6b-08fd-485c-87d5-53b4520177fe",
   "metadata": {
    "tags": []
   },
   "source": [
    "\n",
    "## Prepare data\n",
    "\n",
    "Next, create the data lists simulating different clients with varying amounts and types of images. \n",
    "The downloaded archive contains subfolders for four different classes: `COVID`, `Lung_Opacity`, `Normal`, and `Viral Pneumonia`.\n",
    "Here we assume each class of image corresponds to a different sites.\n",
    "\n",
    "\n"
   ]
  },
  {
   "cell_type": "code",
   "execution_count": null,
   "id": "e1ea959f-7282-4e55-bb26-11524ec47e99",
   "metadata": {
    "tags": []
   },
   "outputs": [],
   "source": [
    "! image_stats/prepare_data.sh\n"
   ]
  },
  {
   "cell_type": "markdown",
   "id": "f00de5e4-4360-4fc5-a819-4eb156e56341",
   "metadata": {},
   "source": [
    "## Run job in FL Simulator\n",
    "\n",
    "With FL simulator, we can just run the example with CLI command \n",
    "\n"
   ]
  },
  {
   "cell_type": "code",
   "execution_count": null,
   "id": "4863969e-cc30-4440-ad62-4393114b6e9d",
   "metadata": {
    "tags": []
   },
   "outputs": [],
   "source": [
    "! nvflare simulator image_stats/jobs/image_stats -w /tmp/nvflare/image_stats -n 4 -t 4\n"
   ]
  },
  {
   "cell_type": "markdown",
   "id": "45bf6e9a-3265-4e45-8b06-c8e543605f21",
   "metadata": {},
   "source": [
    "\n",
    "The results are stored in workspace \"/tmp/nvflare/image_stats\""
   ]
  },
  {
   "cell_type": "code",
   "execution_count": null,
   "id": "112a7dd0-45d9-42ea-98b2-f72a3bbccf48",
   "metadata": {
    "tags": []
   },
   "outputs": [],
   "source": [
    "! ls -al /tmp/nvflare/image_stats/simulate_job/statistics/image_statistics.json"
   ]
  },
  {
   "cell_type": "markdown",
   "id": "3cd042db-6ce0-4e37-bcbe-d96051e4d164",
   "metadata": {
    "tags": []
   },
   "source": [
    "## Visualization\n",
    "We can visualize the results easly via the visualizaiton notebook. Before we do that, we need to copy the data to the notebook directory \n"
   ]
  },
  {
   "cell_type": "code",
   "execution_count": null,
   "id": "a3c89693-37b9-450c-85dd-8a2d78fee3fa",
   "metadata": {
    "tags": []
   },
   "outputs": [],
   "source": [
    "! cp /tmp/nvflare/image_stats/simulate_job/statistics/image_statistics.json image_stats/demo/."
   ]
  },
  {
   "cell_type": "markdown",
   "id": "d5c6f632-3326-4236-902e-8c0965688d85",
   "metadata": {},
   "source": [
    "now we can visualize via the [visualization notebook](image_stats/demo/visualization.ipynb)"
   ]
  },
  {
   "cell_type": "markdown",
   "id": "52d2a52f-8a8d-45ef-8a50-ddbb4ed2f2c6",
   "metadata": {
    "tags": []
   },
   "source": [
    "We are not quite done yet. What if you prefer to use python API instead CLI to run jobs. Lets do that in this section"
   ]
  },
  {
   "cell_type": "markdown",
   "id": "662f22df-51e7-41fa-b62d-8b9ba0093c65",
   "metadata": {},
   "source": [
    "## Run Job using Simulator API\n",
    "This should be the same as running in command CLI via nvflare simulator"
   ]
  },
  {
   "cell_type": "code",
   "execution_count": null,
   "id": "cf8813f9-4fca-4cf5-bb78-acc9acf3fbc7",
   "metadata": {
    "tags": []
   },
   "outputs": [],
   "source": [
    "from nvflare.private.fed.app.simulator.simulator_runner import SimulatorRunner\n",
    "runner = SimulatorRunner(job_folder=\"image_stats/jobs/image_stats\", workspace=\"/tmp/nvflare/image_stats\", n_clients = 4, threads=4)\n",
    "runner.run()"
   ]
  },
  {
   "cell_type": "markdown",
   "id": "4d109fe2-7440-4e19-931b-98ba74fe6229",
   "metadata": {},
   "source": [
    "## Run Job using FLARE API\n",
    "\n",
    "So far, we having using Simulator to simulate the federated job run. With [FLARE API](../../../tutorial/flare_api.ipynb) , you can directly interact with NVFLARE system in production or POC mode\n",
    "In such cases, we have to first setup and deploy the federated system. Since we are running on local machine, we will minic this deploy via Proof of Conccept mode.\n",
    "Please refer this section to see how to [setup POC mode](../../../tutorial/setup_poc.ipynb)\n",
    "You double check if the flare is running with the following command from **terminal**\n"
   ]
  },
  {
   "cell_type": "code",
   "execution_count": null,
   "id": "f524ea94-dc8f-46d3-939d-d1dbe7410a2e",
   "metadata": {
    "tags": []
   },
   "outputs": [],
   "source": [
    "! ps -eaf | grep nvflare"
   ]
  },
  {
   "cell_type": "markdown",
   "id": "8cf89dae-4c24-4486-8a2f-a2a2fa33b8eb",
   "metadata": {},
   "source": [
    "###\n",
    "If you determine that the flare poc system is not running, you can open a terminal to start the FLARE system in POC mode. \n",
    "You need to read more about POC, check [setup POC mode](../../../tutorial/setup_poc.ipynb)\n",
    "\n",
    "At this point, assume you have already setup the poc and started the NVFLARE. And we are going to use the default **workspace=/tmp/nvflare/poc**. We will first check the system status"
   ]
  },
  {
   "cell_type": "code",
   "execution_count": null,
   "id": "45e33412-574d-4af0-b093-2ece5761741f",
   "metadata": {},
   "outputs": [],
   "source": [
    "import os\n",
    "from nvflare.fuel.flare_api.flare_api import new_insecure_session\n",
    "\n",
    "workspace = \"/tmp/nvflare/poc\"\n",
    "admin_dir = os.path.join(workspace, \"admin\")\n",
    "sess = new_insecure_session(admin_dir)\n",
    "print(sess.get_system_info())\n"
   ]
  },
  {
   "cell_type": "markdown",
   "id": "848634d9-326f-47d4-85d2-851e4072d82c",
   "metadata": {},
   "source": [
    "###\n",
    "**submit Job**"
   ]
  },
  {
   "cell_type": "code",
   "execution_count": null,
   "id": "49e836fd-3a18-430a-978d-4bfe5f102bb2",
   "metadata": {
    "tags": []
   },
   "outputs": [],
   "source": [
    "examples_dir = os.path.join(admin_dir, \"transfer\")\n",
    "job_folder = os.path.join(examples_dir, \"advanced/federated-statistics/image_stats/jobs/image_stats\")\n",
    "job_id = sess.submit_job(job_folder)\n",
    "print(job_id + \" was submitted\")"
   ]
  },
  {
   "cell_type": "markdown",
   "id": "231cc6e9-41de-46d8-86d1-9d80ffe9b81a",
   "metadata": {},
   "source": [
    "###\n",
    "\n",
    "**Monitoring Job**\n",
    "\n",
    "You can choose your monitoring output, here is one function to display the job information "
   ]
  },
  {
   "cell_type": "code",
   "execution_count": null,
   "id": "c2a16dfc-6426-4f13-afe7-bd4adf21bb85",
   "metadata": {
    "tags": []
   },
   "outputs": [],
   "source": [
    "from nvflare.fuel.flare_api.flare_api import Session\n",
    "def status_monitor_cb(\n",
    "        session: Session, job_id: str, job_meta, *cb_args, **cb_kwargs\n",
    "    ) -> bool:\n",
    "    if job_meta[\"status\"] == \"RUNNING\":\n",
    "        if cb_kwargs[\"cb_run_counter\"][\"count\"] < 3 or cb_kwargs[\"cb_run_counter\"][\"count\"]%20 == 0:\n",
    "            print(job_meta)            \n",
    "        else: \n",
    "            print(\".\", end=\"\")\n",
    "    else:\n",
    "        print(\"\\n\" + str(job_meta))\n",
    "    \n",
    "    cb_kwargs[\"cb_run_counter\"][\"count\"] += 1\n",
    "    return True\n"
   ]
  },
  {
   "cell_type": "code",
   "execution_count": null,
   "id": "9923e5d5",
   "metadata": {},
   "outputs": [],
   "source": [
    "sess.get_job_meta(job_id)"
   ]
  },
  {
   "cell_type": "code",
   "execution_count": null,
   "id": "e71ef51e-82d1-4ccd-8c6a-999477047fe7",
   "metadata": {
    "tags": []
   },
   "outputs": [],
   "source": [
    "sess.monitor_job(job_id, cb=status_monitor_cb, cb_run_counter={\"count\":0})"
   ]
  },
  {
   "cell_type": "code",
   "execution_count": null,
   "id": "4c786b22-8155-41a1-ba8f-4fa6ff669e6f",
   "metadata": {
    "tags": []
   },
   "outputs": [],
   "source": [
    "import json\n",
    "\n",
    "def format_json( data: dict): \n",
    "    print(json.dumps(data, sort_keys=True, indent=4,separators=(',', ': ')))\n",
    "\n",
    "\n",
    "list_jobs_output = sess.list_jobs(limit = 2)\n",
    "print( format_json(list_jobs_output))"
   ]
  },
  {
   "cell_type": "code",
   "execution_count": null,
   "id": "daa8b989-880f-4ec9-9deb-d1a104f0d4bf",
   "metadata": {
    "tags": []
   },
   "outputs": [],
   "source": [
    "list_jobs_output_detailed = sess.list_jobs(detailed=True)\n",
    "print(format_json(list_jobs_output_detailed))"
   ]
  },
  {
   "cell_type": "markdown",
   "id": "bcc87d7c-f39d-4478-ba89-875247edfc34",
   "metadata": {},
   "source": [
    "###\n",
    "\n",
    "**Download the result from FL Server**"
   ]
  },
  {
   "cell_type": "code",
   "execution_count": null,
   "id": "0c46ce2b-69e7-463b-955e-4e77f1d85cc3",
   "metadata": {
    "tags": []
   },
   "outputs": [],
   "source": [
    "result_dir = sess.download_job_result(job_id)\n",
    "print(result_dir)"
   ]
  },
  {
   "cell_type": "code",
   "execution_count": null,
   "id": "6b2a59da-274f-4af7-8412-79fbc6268c3b",
   "metadata": {
    "tags": []
   },
   "outputs": [],
   "source": [
    "! tree /tmp/nvflare/poc/admin/transfer/953e0a62-c00a-4a69-bd81-aa00309373f2"
   ]
  },
  {
   "cell_type": "markdown",
   "id": "73f526c3-e00e-4b38-b69b-9433fd0f46a7",
   "metadata": {
    "tags": []
   },
   "source": [
    "## logs"
   ]
  },
  {
   "cell_type": "code",
   "execution_count": null,
   "id": "a5fe8c33-c5f3-4558-aab1-788312683345",
   "metadata": {
    "tags": []
   },
   "outputs": [],
   "source": [
    "!head -n 100 /tmp/nvflare/poc/admin/transfer/14a836f6-ae77-4971-91c0-d14f837df5fb/workspace/log.txt"
   ]
  },
  {
   "cell_type": "markdown",
   "id": "268c383a-d1a4-458e-806f-d415847cbc27",
   "metadata": {
    "tags": []
   },
   "source": [
    "## Visualization"
   ]
  },
  {
   "cell_type": "markdown",
   "id": "8614a281-63c1-415f-9b6c-642d13c04b6e",
   "metadata": {
    "tags": []
   },
   "source": [
    "Now we can copy the adults_stats.json to the demo folder for visualization"
   ]
  },
  {
   "cell_type": "code",
   "execution_count": null,
   "id": "e6be62d8-f89b-42eb-b562-c468180e4c40",
   "metadata": {},
   "outputs": [],
   "source": [
    "import shutil\n",
    "import os\n",
    "src= os.path.join(result_dir, workspace/statistics\n",
    "\n",
    "# 2nd option\n",
    "shutil.copy(src, dst)\n",
    "\n",
    "\n",
    "! cp  /tmp/nvflare/poc/admin/transfer/093d5524-761f-433d-8823-9977dbdd0f90/workspace/statistics/adults_stats.json df_stats/demo/."
   ]
  },
  {
   "cell_type": "markdown",
   "id": "1c79a657-3315-4362-b2eb-1a8a0e18e332",
   "metadata": {
    "tags": []
   },
   "source": [
    "Now we can visualize via the [visualization notebook](df_stats/demo/visualization.ipynb) as before\n"
   ]
  },
  {
   "cell_type": "markdown",
   "id": "05826bd7-d6a6-4d01-bb56-ed4949490a29",
   "metadata": {
    "tags": []
   },
   "source": [
    "## Cleanup\n",
    "If you like to clean up the temp folders and POC, we need some clean up\n",
    "* remove downloaded result folder \n",
    "* shutdown POC \n",
    "* clean up POC workspace"
   ]
  },
  {
   "cell_type": "code",
   "execution_count": null,
   "id": "eef25b4a-cf37-4b35-b647-fbc26a0b60be",
   "metadata": {
    "tags": []
   },
   "outputs": [],
   "source": [
    "! rm -r /tmp/nvflare/poc/admin/transfer/093d5524-761f-433d-8823-9977dbdd0f90"
   ]
  },
  {
   "cell_type": "code",
   "execution_count": null,
   "id": "95532200-5035-4e34-89c9-7d837fdc34b5",
   "metadata": {
    "tags": []
   },
   "outputs": [],
   "source": [
    "! nvflare poc --stop"
   ]
  },
  {
   "cell_type": "code",
   "execution_count": null,
   "id": "b39f78e8-4bb0-45a9-8e18-eae1391254e6",
   "metadata": {
    "tags": []
   },
   "outputs": [],
   "source": [
    "!nvflare poc --clean"
   ]
  },
  {
   "cell_type": "markdown",
   "id": "fda06c0b-798d-480d-9b4c-a62fab95bcf0",
   "metadata": {
    "tags": []
   },
   "source": [
    "## We are done !\n",
    "Congratulations, you just completed the federated stats image histogram calulation\n"
   ]
  }
 ],
 "metadata": {
  "kernelspec": {
   "display_name": "Python 3 (ipykernel)",
   "language": "python",
   "name": "python3"
  },
  "language_info": {
   "codemirror_mode": {
    "name": "ipython",
    "version": 3
   },
   "file_extension": ".py",
   "mimetype": "text/x-python",
   "name": "python",
   "nbconvert_exporter": "python",
   "pygments_lexer": "ipython3",
   "version": "3.8.16"
  }
 },
 "nbformat": 4,
 "nbformat_minor": 5
}
