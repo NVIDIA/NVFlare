{
 "cells": [
  {
   "cell_type": "markdown",
   "metadata": {},
   "source": [
    "# Federated Protein Downstream Fine-tuning\n",
    "\n",
    "<div class=\"alert alert-block alert-info\"> <b>NOTE</b> This notebook was tested on a single A1000 GPU and is compatible with BioNeMo Framework v1.8. To leverage additional or higher-performance GPUs, you can modify the configuration files and simulation script to accommodate multiple devices and increase thread utilization respectively.</div>\n",
    "\n",
    "The example datasets used here are made available by [Therapeutics Data Commons](https://tdcommons.ai/) through PyTDC.\n",
    "\n",
    "This example shows three different downstream tasks for fine-tuning a BioNeMo ESM-style model on different datasets.\n",
    "We separate the scripts and job configurations into three folders based on the dataset names:\n",
    "\n",
    "\n",
    "1. `tap`: therapeutic antibody profiling\"\n",
    "2. `sabdab`: SAbDab: the structural antibody database\"\n",
    "3. `scl`: \"subcellular location prediction\"\n",
    "\n",
    "## Setup\n",
    "\n",
    "Ensure that you have read through the Getting Started section, can run the BioNeMo Framework docker container, and have configured the NGC Command Line Interface (CLI) within the container. It is assumed that this notebook is being executed from within the container.\n",
    "\n",
    "<div class=\"alert alert-block alert-info\"> <b>NOTE</b> Some of the cells below generate long text output.  We're using <pre>%%capture --no-display --no-stderr cell_output</pre> to suppress this output.  Comment or delete this line in the cells below to restore full output.</div>\n",
    "\n",
    "### Import and install all required packages"
   ]
  },
  {
   "cell_type": "code",
   "execution_count": null,
   "metadata": {
    "tags": []
   },
   "outputs": [],
   "source": [
    "%%capture --no-display --no-stderr cell_output\n",
    "! pip install PyTDC\n",
    "! pip install nvflare~=2.5.1\n",
    "! pip install biopython\n",
    "! pip install scikit-learn\n",
    "! pip install matplotlib\n",
    "! pip install protobuf==3.20\n",
    "! pip install huggingface-hub==0.22.0\n",
    "\n",
    "import os\n",
    "import warnings\n",
    "\n",
    "\n",
    "warnings.filterwarnings('ignore')\n",
    "warnings.simplefilter('ignore')"
   ]
  },
  {
   "cell_type": "markdown",
   "metadata": {},
   "source": [
    "#### Home Directory"
   ]
  },
  {
   "cell_type": "code",
   "execution_count": null,
   "metadata": {},
   "outputs": [],
   "source": [
    "bionemo_home = \"/workspace/bionemo\"\n",
    "os.environ['BIONEMO_HOME'] = bionemo_home"
   ]
  },
  {
   "cell_type": "markdown",
   "metadata": {},
   "source": [
    "### Download Model Checkpoints\n",
    "\n",
    "In order to download pretrained models from the NGC registry, **please ensure that you have installed and configured the NGC CLI**, check the [Quickstart Guide](https://docs.nvidia.com/bionemo-framework/latest/quickstart-fw.html) for more info. The following code will download the pretrained model `esm2nv_650M_converted.nemo` from the NGC registry."
   ]
  },
  {
   "cell_type": "code",
   "execution_count": null,
   "metadata": {},
   "outputs": [],
   "source": [
    "# Define the NGC CLI API KEY and ORG for the model download\n",
    "# If these variables are not already set in the container, uncomment below\n",
    "# to define and set with your API KEY and ORG\n",
    "# api_key = <YOUR_API_KEY>\n",
    "# ngc_cli_org = <YOUR_ORG>\n",
    "# # Update the environment variable\n",
    "# os.environ['NGC_CLI_API_KEY'] = api_key\n",
    "# os.environ['NGC_CLI_ORG'] = ngc_cli_org\n",
    "\n",
    "# Set variables and paths for model and checkpoint\n",
    "model_name = \"esm2nv_650m\" # \"esm1nv\"  \n",
    "actual_checkpoint_name = \"esm2nv_650M_converted.nemo\" # \"esm1nv.nemo\"\n",
    "model_path = os.path.join(bionemo_home, 'models')\n",
    "checkpoint_path = os.path.join(model_path, actual_checkpoint_name)\n",
    "os.environ['MODEL_PATH'] = model_path"
   ]
  },
  {
   "cell_type": "code",
   "execution_count": null,
   "metadata": {},
   "outputs": [],
   "source": [
    "%%capture --no-display --no-stderr cell_output\n",
    "if not os.path.exists(checkpoint_path):\n",
    "    !cd /workspace/bionemo && \\\n",
    "    python download_artifacts.py --model_dir models --models {model_name}\n",
    "else:\n",
    "    print(f\"Model {model_name} already exists at {model_path}.\")"
   ]
  },
  {
   "cell_type": "markdown",
   "metadata": {},
   "source": [
    "Again for esm1nv: "
   ]
  },
  {
   "cell_type": "code",
   "execution_count": null,
   "metadata": {},
   "outputs": [],
   "source": [
    "model_name = \"esm1nv\"\n",
    "actual_checkpoint_name = \"esm1nv.nemo\"\n",
    "model_path = os.path.join(bionemo_home, 'models')\n",
    "checkpoint_path = os.path.join(model_path, actual_checkpoint_name)\n",
    "os.environ['MODEL_PATH'] = model_path"
   ]
  },
  {
   "cell_type": "code",
   "execution_count": null,
   "metadata": {},
   "outputs": [],
   "source": [
    "%%capture --no-display --no-stderr cell_output\n",
    "if not os.path.exists(checkpoint_path):\n",
    "    !cd /workspace/bionemo && \\\n",
    "    python download_artifacts.py --model_dir models --models {model_name}\n",
    "else:\n",
    "    print(f\"Model {model_name} already exists at {model_path}.\")"
   ]
  },
  {
   "cell_type": "markdown",
   "metadata": {},
   "source": [
    "### Task 1: Cross-endpoint multi-task fitting\n",
    "\n",
    "#### Data: Five computational developability guidelines for therapeutic antibody profiling\n",
    "See https://tdcommons.ai/single_pred_tasks/develop/#tap\n",
    "- 241 Antibodies (both chains)\n",
    "\n",
    "#### Task Description: *Regression*. \n",
    "Given the antibody's heavy chain and light chain sequence, predict its developability. The input X is a list of two sequences where the first is the heavy chain and the second light chain.\n",
    "\n",
    "Includes five metrics measuring developability of an antibody: \n",
    " - Complementarity-determining regions (CDR) length - Trivial (excluded)\n",
    " - patches of surface hydrophobicity (PSH)\n",
    " - patches of positive charge (PPC)\n",
    " - patches of negative charge (PNC)\n",
    " - structural Fv charge symmetry parameter (SFvCSP)\n",
    "\n",
    "In the data preparation script, one can choose between uniform sampling of the data among clients and\n",
    "heterogeneous data splits using a Dirichlet sampling strategy. \n",
    "Here, different values of alpha control the level of heterogeneity. Below, we show a Dirichlet sampling of `alpha=1`."
   ]
  },
  {
   "cell_type": "code",
   "execution_count": null,
   "metadata": {},
   "outputs": [],
   "source": [
    "! cd /bionemo_nvflare_examples/downstream/tap && python prepare_tap_data.py"
   ]
  },
  {
   "cell_type": "markdown",
   "metadata": {},
   "source": [
    "|                                Uniform sampling                                 |                                    Dirichlet sampling                                     |\n",
    "|:-------------------------------------------------------------------------------:|:-----------------------------------------------------------------------------------------:|\n",
    "| <img src=\"./tap/figs/tap_uniform.svg\" alt=\"Uniform data sampling\" width=\"150\"/> | <img src=\"./tap/figs/tap_alpha1.0.svg\" alt=\"Dirichlet sampling (alpha=1.0)\" width=\"150\"/> |\n"
   ]
  },
  {
   "cell_type": "markdown",
   "metadata": {},
   "source": [
    "**Run training (central, local, & FL)**\n",
    "\n",
    "You can change the FL job that's going to be simulated inside the `run_sim_tap.py` script."
   ]
  },
  {
   "cell_type": "code",
   "execution_count": null,
   "metadata": {},
   "outputs": [],
   "source": [
    "! cd /bionemo_nvflare_examples/downstream/tap && python run_sim_tap.py"
   ]
  },
  {
   "cell_type": "markdown",
   "metadata": {},
   "source": [
    "### Task 2: Cross-compound task fitting\n",
    "\n",
    "#### Data: Predicting Antibody Developability from Sequence using Machine Learning\n",
    "See https://tdcommons.ai/single_pred_tasks/develop/#sabdab-chen-et-al\n",
    "- 2,409 Antibodies (both chains)\n",
    "\n",
    "#### Task Description: *Binary classification*. \n",
    "Given the antibody's heavy chain and light chain sequence, predict its developability. The input X is a list of two sequences where the first is the heavy chain and the second light chain."
   ]
  },
  {
   "cell_type": "code",
   "execution_count": null,
   "metadata": {},
   "outputs": [],
   "source": [
    " # you may need to fix these paths to your own scripts\n",
    "! cd /bionemo_nvflare_examples/downstream/sabdab && python prepare_sabdab_data.py"
   ]
  },
  {
   "cell_type": "markdown",
   "metadata": {},
   "source": [
    "Again, we are using the Dirichlet sampling strategy to generate heterogeneous data distributions among clients.\n",
    "Lower values of `alpha` generate higher levels of heterogeneity.\n",
    "\n",
    "|                                            Alpha 10.0                                             |                                            Alpha 1.0                                            |\n",
    "|:-------------------------------------------------------------------------------------------------:|:-----------------------------------------------------------------------------------------------:|\n",
    "| <img src=\"./sabdab/figs/sabdab_alpha10.0.svg\" alt=\"Dirichlet sampling (alpha=10.0)\" width=\"150\"/> | <img src=\"./sabdab/figs/sabdab_alpha1.0.svg\" alt=\"Dirichlet sampling (alpha=1.0)\" width=\"150\"/> |\n"
   ]
  },
  {
   "cell_type": "markdown",
   "metadata": {
    "tags": []
   },
   "source": [
    "**Run training (central, local, & FL)**\n",
    "\n",
    "You can change the FL job that's going to be simulated inside the `run_sim_sabdab.py` script."
   ]
  },
  {
   "cell_type": "code",
   "execution_count": null,
   "metadata": {},
   "outputs": [],
   "source": [
    "! cd /bionemo_nvflare_examples/downstream/sabdab && python run_sim_sabdab.py"
   ]
  },
  {
   "cell_type": "markdown",
   "metadata": {},
   "source": [
    "#### Results with heterogeneous data sampling (alpha=10.0)\n",
    "| Setting | Accuracy  |\n",
    "|:-------:|:---------:|\n",
    "|  Local  |   0.821   |\n",
    "|   FL    | **0.833** |\n",
    "\n",
    "#### Results with heterogeneous data sampling (alpha=1.0)\n",
    "| Setting | Accuracy  |\n",
    "|:-------:|:---------:|\n",
    "|  Local  |   0.813   |\n",
    "|   FL    | **0.835** |\n",
    "\n",
    "### Task 3. Subcellular location prediction with ESM2nv 650M\n",
    "Follow the data download and preparation in [task_fitting.ipynb](../task_fitting/task_fitting.ipynb).\n",
    "\n",
    "Here, we use a heterogeneous sampling with `alpha=1.0`.\n",
    "\n",
    "<img src=\"./scl/figs/scl_alpha1.0.svg\" alt=\"Dirichlet sampling (alpha=10.0)\" width=\"300\"/>\n"
   ]
  },
  {
   "cell_type": "code",
   "execution_count": null,
   "metadata": {},
   "outputs": [],
   "source": [
    "# for this to work run the task_fitting notebook first in ../nvflare_with_bionemo/task_fitting/task_fitting.ipynb\n",
    "! cd /bionemo_nvflare_examples/downstream/scl && python run_sim_scl.py"
   ]
  },
  {
   "cell_type": "markdown",
   "metadata": {},
   "source": [
    "Note, you can switch between local and FL jobs by modifying the `run_sim_scl.py` script.\n",
    "\n",
    "#### Results with heterogeneous data sampling (alpha=10.0)\n",
    "| Setting | Accuracy  |\n",
    "|:-------:|:---------:|\n",
    "|  Local  |   0.773   |\n",
    "|   FL    | **0.776** |\n",
    "\n",
    "\n",
    "<img src=\"./scl/figs/scl_results.svg\" alt=\"Dirichlet sampling (alpha=1.0)\" width=\"300\"/>"
   ]
  },
  {
   "cell_type": "code",
   "execution_count": null,
   "metadata": {},
   "outputs": [],
   "source": []
  }
 ],
 "metadata": {
  "kernelspec": {
   "display_name": "Python 3 (ipykernel)",
   "language": "python",
   "name": "python3"
  },
  "language_info": {
   "codemirror_mode": {
    "name": "ipython",
    "version": 3
   },
   "file_extension": ".py",
   "mimetype": "text/x-python",
   "name": "python",
   "nbconvert_exporter": "python",
   "pygments_lexer": "ipython3",
   "version": "3.10.12"
  }
 },
 "nbformat": 4,
 "nbformat_minor": 4
}
