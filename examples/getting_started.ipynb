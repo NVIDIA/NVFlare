{
 "cells": [
  {
   "cell_type": "markdown",
   "id": "4fafdd07-51e1-469c-84d8-c57a61daa28c",
   "metadata": {},
   "source": [
    "# Getting Started\n",
    "\n",
    "You can find more details in [Getting_Started](https://nvflare.readthedocs.io/en/main/getting_started.html) to setup virtual environment and install NVFLARE. Here mostly just make quick actions\n",
    "\n",
    "## Installation\n",
    "\n",
    "### setup Virtual Environments\n",
    " \n",
    "```\n",
    "$ sudo apt update\n",
    "$ sudo apt-get install python3-venv\n",
    "```\n",
    "Once venv is installed, you can use it to create a virtual environment with:\n"
   ]
  },
  {
   "cell_type": "code",
   "execution_count": null,
   "id": "3761e828-1ca3-4457-8615-5d4327f77e1b",
   "metadata": {
    "tags": []
   },
   "outputs": [],
   "source": [
    "!python -m venv nvflare-env   "
   ]
  },
  {
   "cell_type": "markdown",
   "id": "4020c083-b504-40e7-b292-9f9db51ee690",
   "metadata": {},
   "source": [
    "This will create the nvflare-env directory in current working directory if it doesn’t exist, and also create directories inside it containing a copy of the Python interpreter, the standard library, and various supporting files.\n",
    "\n",
    "We can use the following function to test we are already in the virual env. \n",
    "\n"
   ]
  },
  {
   "cell_type": "code",
   "execution_count": null,
   "id": "f9e91ee7-56b8-415d-b46c-593cd4300d03",
   "metadata": {},
   "outputs": [],
   "source": [
    "import sys\n",
    "def is_venv():\n",
    "    return (hasattr(sys, 'real_prefix') or\n",
    "            (hasattr(sys, 'base_prefix') and sys.base_prefix != sys.prefix))\n"
   ]
  },
  {
   "cell_type": "code",
   "execution_count": null,
   "id": "7f13a062-f5e9-46bc-aa07-655ed26517e6",
   "metadata": {},
   "outputs": [],
   "source": [
    "is_venv()"
   ]
  },
  {
   "cell_type": "markdown",
   "id": "758f6b97-03aa-44a0-bbd6-18a06998c388",
   "metadata": {},
   "source": [
    "if we are not in virtual environment, we need to setup one. \n"
   ]
  },
  {
   "cell_type": "code",
   "execution_count": null,
   "id": "8d01e70f-7169-4025-9785-3992adc447ed",
   "metadata": {
    "tags": []
   },
   "outputs": [],
   "source": [
    "!python3 -m venv nvflare-env\n"
   ]
  },
  {
   "cell_type": "markdown",
   "id": "473951dc-f1fd-4d9a-995b-396db376a15e",
   "metadata": {},
   "source": [
    "This will create the nvflare-env directory in current working directory if it doesn’t exist, and also create directories inside it containing a copy of the Python interpreter, the standard library, and various supporting files.\n",
    "\n",
    "Activate the virtualenv by running the following command:"
   ]
  },
  {
   "cell_type": "code",
   "execution_count": null,
   "id": "81cd373d-038e-45e7-9b9b-34f865478a11",
   "metadata": {
    "tags": []
   },
   "outputs": [],
   "source": [
    "!source nvflare-env/bin/activate"
   ]
  },
  {
   "cell_type": "markdown",
   "id": "414acf28-7103-427c-85bf-f88f251d2dc0",
   "metadata": {},
   "source": [
    "Check again"
   ]
  },
  {
   "cell_type": "code",
   "execution_count": null,
   "id": "7427ec25-d4fc-48e4-830d-5ae0267fdef2",
   "metadata": {
    "tags": []
   },
   "outputs": [],
   "source": [
    "is_venv()"
   ]
  },
  {
   "cell_type": "markdown",
   "id": "fcae7de2-3979-40e6-bc94-435dbd494c6f",
   "metadata": {},
   "source": [
    "You may find that the pip and setuptools versions in the venv need updating:"
   ]
  },
  {
   "cell_type": "code",
   "execution_count": null,
   "id": "941db6ec-6513-49e3-bf22-6e79560a8747",
   "metadata": {
    "tags": []
   },
   "outputs": [],
   "source": [
    "!python -m pip install -U setuptools"
   ]
  },
  {
   "cell_type": "code",
   "execution_count": null,
   "id": "9ce6e79b-96f4-4143-bdec-9c013d4c811c",
   "metadata": {
    "tags": []
   },
   "outputs": [],
   "source": [
    " !python -m pip install -U pip"
   ]
  },
  {
   "cell_type": "markdown",
   "id": "64ba2b87-d3be-4058-8156-9ef589bce9cf",
   "metadata": {},
   "source": [
    "There are many way to install NVFLAREs\n",
    "\n",
    "### Install Stable Release\n",
    "Stable releases are available on NVIDIA FLARE PyPI:"
   ]
  },
  {
   "cell_type": "code",
   "execution_count": null,
   "id": "c654300a-e1b5-423e-af0c-3e68dd31d533",
   "metadata": {},
   "outputs": [],
   "source": [
    "!python -m pip install nvflare"
   ]
  },
  {
   "cell_type": "markdown",
   "id": "6374c7b0-31d2-48db-8907-a3ca0bdd4a22",
   "metadata": {},
   "source": [
    "if you want to work with previous version, such as 2.2.5, you can do \n"
   ]
  },
  {
   "cell_type": "code",
   "execution_count": null,
   "id": "13f13116-ad7f-455a-9a15-c041b48819da",
   "metadata": {},
   "outputs": [],
   "source": [
    "!python -m pip install nvflare==2.2.5"
   ]
  },
  {
   "cell_type": "markdown",
   "id": "28c37746-2ff2-4007-8cfa-8ca33287b9ce",
   "metadata": {
    "tags": []
   },
   "source": [
    "### Install from Source\n",
    "change directory to the root NVFlare directory"
   ]
  },
  {
   "cell_type": "code",
   "execution_count": null,
   "id": "82c185fe-e0c8-4c82-93ed-13489b9e6a9d",
   "metadata": {
    "tags": []
   },
   "outputs": [],
   "source": [
    "!pwd"
   ]
  },
  {
   "cell_type": "markdown",
   "id": "9847e0a0-5b84-4ed2-a919-2d098dffaca7",
   "metadata": {},
   "source": [
    "if you are at \"examples\" directory, let change to parent directory"
   ]
  },
  {
   "cell_type": "code",
   "execution_count": null,
   "id": "77b092ac-39f7-4613-a3da-1ce1343a102b",
   "metadata": {
    "tags": []
   },
   "outputs": [],
   "source": [
    "!cd ../.\n",
    "!export NVFLARE_HOME=$( cd ../. && pwd )\n",
    "!echo $NVFLARE_HOME\n"
   ]
  },
  {
   "cell_type": "markdown",
   "id": "1704d0d2-76d9-4199-a464-36d82d8377ec",
   "metadata": {},
   "source": [
    "Now we find out the NVFLARE root directory, we can install now"
   ]
  },
  {
   "cell_type": "code",
   "execution_count": null,
   "id": "e96ea42a-6143-4937-8b8d-7e3076c1a348",
   "metadata": {
    "tags": []
   },
   "outputs": [],
   "source": [
    "!pip install -e $NVFLARE_HOME"
   ]
  },
  {
   "cell_type": "markdown",
   "id": "4ea8e65a-6093-4b4e-98d4-4002737d2006",
   "metadata": {},
   "source": [
    "### Containerized Deployment with Docker\n",
    "Please refer to [install in container](./install_in_container.ipynb) for details"
   ]
  },
  {
   "cell_type": "markdown",
   "id": "9473bdfa-6265-4a53-b7ab-472955d04abc",
   "metadata": {},
   "source": [
    "### Download Examples\n",
    "\n",
    "If you want to get the latest version, clone NVFLARE repo to get examples, switch main branch (latest stable branch)"
   ]
  },
  {
   "cell_type": "code",
   "execution_count": null,
   "id": "17dba78c-4cba-436d-aba0-f676d5f40dd1",
   "metadata": {},
   "outputs": [],
   "source": [
    "\n",
    "!git clone https://github.com/NVIDIA/NVFlare.git\n",
    "!cd NVFlare\n",
    "!git switch main\n"
   ]
  },
  {
   "cell_type": "markdown",
   "id": "57648b40-490e-4e18-9225-ca90c405b6ba",
   "metadata": {},
   "source": [
    "**Note on branches**:\n",
    "The dev branch is the default (unstable) development branch\n",
    "\n",
    "The main branch is the stable branch, reflecting the latest release\n",
    "\n",
    "The 2.0, 2.1, 2.2, and 2.3 etc. branches are the branches for each major release and minor patches"
   ]
  },
  {
   "cell_type": "markdown",
   "id": "057cf13c-c598-4d09-8538-2c96968640b8",
   "metadata": {
    "tags": []
   },
   "source": [
    "If you prefer to work with previous version examples, you can refer to [Examples Applications](https://nvflare.readthedocs.io/en/latest/example_applications_algorithms.html), where each examples will have the corresponding exampeles for the pervious versions. Such as [Hello-SAG](https://nvflare.readthedocs.io/en/latest/examples/hello_scatter_and_gather.html#hello-scatter-and-gather). You can see \"Previous Versions of Hello Scatter and Gather¶\" at bottom of the page. The link will point to the examples of given release branch. Such as [2.0](https://github.com/NVIDIA/NVFlare/tree/2.0/examples/hello-numpy-sag) version. \n",
    "\n",
    "**You will need to switch to the proper branch to get the match examples for that release**"
   ]
  },
  {
   "cell_type": "markdown",
   "id": "211576fa-84be-4b19-b3be-5de3e75ee2fe",
   "metadata": {
    "tags": []
   },
   "source": [
    "## Running Applications"
   ]
  },
  {
   "cell_type": "markdown",
   "id": "ae0aac86-fc08-4e61-bbc7-6765f1c30647",
   "metadata": {
    "tags": []
   },
   "source": [
    "### Runninig Application in FL Simulator\n",
    "\n",
    "After installing the nvflare pip package, you have access to the NVFlare CLI including the FL Simulator. The Simulator allows you to start a FLARE server and any number of connected clients on your local workstation or laptop, and to quickly deploy an application for testing and debugging.\n",
    "\n",
    "\n",
    "Basic usage for the FL Simulator is available with nvflare simulator -h:"
   ]
  },
  {
   "cell_type": "code",
   "execution_count": null,
   "id": "859cfc41-6d11-4fb8-ba0c-c0bb939ab9c8",
   "metadata": {
    "tags": []
   },
   "outputs": [],
   "source": [
    "!nvflare simulator -h\n"
   ]
  },
  {
   "cell_type": "markdown",
   "id": "b87a2dcc-9680-407f-87b7-5695035a0cc4",
   "metadata": {},
   "source": [
    "Before we get into the Simulator, we’ll walk through a few additional setup steps in the next section required to run an example application."
   ]
  },
  {
   "cell_type": "markdown",
   "id": "f510facf-7bb3-4e2a-a98d-c0c8f5842188",
   "metadata": {
    "tags": []
   },
   "source": [
    "### Other ways of running application \n",
    "   There few other ways to running application such as\n",
    "   * production mode, which requires provision and deployments. \n",
    "   * Proof of Concept (POC) mode, allows one to simulate non-secure, no-HA, multi-client in the same hosts\n",
    "   But we won't discuss here in getting started. Please refer user guide for details\n",
    "   "
   ]
  },
  {
   "cell_type": "code",
   "execution_count": null,
   "id": "743624f4-3ec1-4b78-bfc2-732936b0242e",
   "metadata": {},
   "outputs": [],
   "source": []
  }
 ],
 "metadata": {
  "kernelspec": {
   "display_name": "Python 3 (ipykernel)",
   "language": "python",
   "name": "python3"
  },
  "language_info": {
   "codemirror_mode": {
    "name": "ipython",
    "version": 3
   },
   "file_extension": ".py",
   "mimetype": "text/x-python",
   "name": "python",
   "nbconvert_exporter": "python",
   "pygments_lexer": "ipython3",
   "version": "3.8.16"
  }
 },
 "nbformat": 4,
 "nbformat_minor": 5
}
