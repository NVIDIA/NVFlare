{
 "cells": [
  {
   "cell_type": "code",
   "execution_count": 2,
   "id": "63c63334-1046-4e32-9e72-94997fc9db27",
   "metadata": {
    "tags": []
   },
   "outputs": [
    {
     "data": {
      "text/markdown": [
       "# Getting Started with NVFlare\n",
       "NVFlare is an open-source framework that allows researchers and data scientists to seamlessly move their \n",
       "machine learning and deep learning workflows into a federated paradigm.\n",
       "\n",
       "### Basic Concepts\n",
       "At the heart of NVFlare lies the concept of collaboration through \"tasks.\" An FL controller assigns tasks \n",
       "(e.g., training on local data) to one or more FL clients, processes returned results (e.g., model weight updates), \n",
       "and may assign additional tasks based on these results and other factors (e.g., a pre-configured number of training rounds). \n",
       "The clients run executors which can listen for tasks and perform the necessary computations locally, such as model training. \n",
       "This task-based interaction repeats until the experiment’s objectives are met.\n",
       "\n",
       "We can also add data filters (for example, for [homomorphic encryption](https://www.usenix.org/conference/atc20/presentation/zhang-chengliang)\n",
       "or [differential privacy filters](https://arxiv.org/abs/1910.00962)) to the task data\n",
       "or results received or produced by the server or clients.\n",
       "\n",
       "![NVIDIA FLARE Overview](../../docs/resources/controller_executor_no_filter.png)\n",
       "\n",
       "\n",
       "### Examples\n",
       "We provide several examples to quickly get you started using NVFlare's Job API. \n",
       "Each example folder includes basic job configurations for running different FL algorithms. \n",
       "Starting from [FedAvg](https://arxiv.org/abs/1602.05629), to more advanced ones, \n",
       "such as [FedOpt](https://arxiv.org/abs/2003.00295), or [SCAFFOLD](https://arxiv.org/abs/1910.06378).\n",
       "\n",
       "### 1. [PyTorch Examples](./pt/README.md)\n",
       "### 2. [Tensorflow Examples](./tf/README.md)\n",
       "### 3. [Scikit-Learn Examples](./sklearn/README.md)\n",
       "\n",
       "Once you finished above examples, you also read about [getting started documentation](https://nvflare.readthedocs.io/en/main/getting_started.html), \n",
       "look at the [\"hello-world\"](../hello-world) examples or checkout more examples at tutorial catelog https://nvidia.github.io/NVFlare/.\n",
       "\n",
       "\n"
      ],
      "text/plain": [
       "<IPython.core.display.Markdown object>"
      ]
     },
     "metadata": {},
     "output_type": "display_data"
    }
   ],
   "source": [
    "from IPython.display import Markdown, display\n",
    "\n",
    "display(Markdown(\"README.md\"))"
   ]
  },
  {
   "cell_type": "code",
   "execution_count": null,
   "id": "d55b76f4-6374-45f7-80fd-72e735851c45",
   "metadata": {},
   "outputs": [],
   "source": []
  }
 ],
 "metadata": {
  "kernelspec": {
   "display_name": "nvflare_example",
   "language": "python",
   "name": "nvflare_example"
  },
  "language_info": {
   "codemirror_mode": {
    "name": "ipython",
    "version": 3
   },
   "file_extension": ".py",
   "mimetype": "text/x-python",
   "name": "python",
   "nbconvert_exporter": "python",
   "pygments_lexer": "ipython3",
   "version": "3.8.19"
  }
 },
 "nbformat": 4,
 "nbformat_minor": 5
}
