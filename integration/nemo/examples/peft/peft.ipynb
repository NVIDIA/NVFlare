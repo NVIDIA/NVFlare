{
 "cells": [
  {
   "cell_type": "markdown",
   "id": "f6073a5b",
   "metadata": {},
   "source": [
    "# Parameter-Efficient Fine-Tuning (PEFT) with NeMo\n",
    "\n",
    "In this example, we utilize NeMo's [PEFT](https://docs.nvidia.com/deeplearning/nemo/user-guide/docs/en/stable/nlp/nemo_megatron/prompt_learning.html)\n",
    "methods to showcase how to adapt a large language model (LLM) to \n",
    "a downstream task, such as financial sentiment predictions. \n",
    "\n",
    "With one line configuration change, you can try different PEFT techniques such as [p-tuning](https://arxiv.org/abs/2103.10385), [adapters](https://proceedings.mlr.press/v97/houlsby19a.html), or [LoRA](https://arxiv.org/abs/2106.09685), which add a small number of trainable parameters to the LLM\n",
    "that condition the model to produce the desired output for the downstream task.\n",
    "\n",
    "For more details, see the [PEFT script](https://github.com/NVIDIA/NeMo/blob/main/examples/nlp/language_modeling/tuning/megatron_gpt_peft_tuning.py) in NeMo, which we adapt using NVFlare's Lightning client API to run in a federated scenario."
   ]
  },
  {
   "cell_type": "markdown",
   "id": "30884ba5",
   "metadata": {},
   "source": [
    "## Dependencies\n",
    "We assume you followed the instructions [here](../../README.md#requirements) \n",
    "to install the NeMo framework and the NeMo-NVFlare package. "
   ]
  },
  {
   "cell_type": "markdown",
   "id": "18086bd0",
   "metadata": {},
   "source": [
    "## Download the pre-trained LLM\n",
    "In this example, we use a `MegatronGPTModel`, a transformer-based language model based on the GPT architecture."
   ]
  },
  {
   "cell_type": "code",
   "execution_count": null,
   "id": "2eac7d2e",
   "metadata": {},
   "outputs": [],
   "source": [
    "# Check what GPT .nemo models we have available on NGC\n",
    "from nemo.collections.nlp.models.language_modeling.megatron_gpt_model import MegatronGPTModel\n",
    "MegatronGPTModel.list_available_models()"
   ]
  },
  {
   "cell_type": "code",
   "execution_count": null,
   "id": "25c7aaca",
   "metadata": {},
   "outputs": [],
   "source": [
    "# Download the model from NGC\n",
    "import os\n",
    "model_file = \"megatron_gpt_345m.nemo\"\n",
    "if not os.path.isfile(model_file):\n",
    "    !wget \"https://api.ngc.nvidia.com/v2/models/nvidia/nemo/megatron_gpt_345m/versions/1/files/$model_file\"\n",
    "else:\n",
    "    print(f\"{model_file} already downloaded.\")"
   ]
  },
  {
   "cell_type": "markdown",
   "id": "d1f04f9a",
   "metadata": {},
   "source": [
    "## Data preprocessing\n",
    "As our downstream task, we will use the [Financial PhraseBank dataset](https://huggingface.co/datasets/financial_phrasebank) for sentiment analysis.\n",
    "\n",
    "The Financial PhraseBank dataset contains the sentiments for financial news headlines from a retail investor's perspective. Further details about the dataset can be found in Malo et al.'s [\"Good Debt or Bad Debt: Detecting Semantic Orientations in Economic Texts\"](https://arxiv.org/abs/1307.5336).\n"
   ]
  },
  {
   "cell_type": "markdown",
   "id": "649e8552",
   "metadata": {},
   "source": [
    "#### 1. Download the preprocessing scripts\n",
    "We use the preprocessing scripts provided by NeMo which can be downloaded from GitHub."
   ]
  },
  {
   "cell_type": "code",
   "execution_count": null,
   "id": "5d91f931",
   "metadata": {},
   "outputs": [],
   "source": [
    "script_name = \"prompt_learning_financial_phrase_bank_preprocessing.py\"\n",
    "if not os.path.isfile(script_name):\n",
    "    !wget -N \"https://raw.githubusercontent.com/NVIDIA/NeMo/main/scripts/dataset_processing/nlp/financial_phrase_bank/$script_name\"\n",
    "else:\n",
    "    print(f\"{script_name} already downloaded.\")"
   ]
  },
  {
   "cell_type": "markdown",
   "id": "1ae14285",
   "metadata": {},
   "source": [
    "#### 2. Download the Financial PhraseBank Dataset\n",
    "\n",
    "Download the `FinancialPhraseBank-v1.0.zip` dataset from [here](https://www.researchgate.net/profile/Pekka_Malo/publication/251231364_FinancialPhraseBank-v1.0/data/0c96051eee4fb1d56e000000/FinancialPhraseBank-v1.0.zip).\n",
    "\n",
    "Then extract it under `./data`."
   ]
  },
  {
   "cell_type": "markdown",
   "id": "c48e45b8",
   "metadata": {},
   "source": [
    "#### 3. Preprocess the dataset"
   ]
  },
  {
   "cell_type": "code",
   "execution_count": null,
   "id": "aab983fb",
   "metadata": {},
   "outputs": [],
   "source": [
    "!python3 prompt_learning_financial_phrase_bank_preprocessing.py"
   ]
  },
  {
   "cell_type": "markdown",
   "id": "c0dfa713",
   "metadata": {},
   "source": [
    "#### 4. Split the dataset to simulate clients\n",
    "Next, we use three clients to simulate federated learning for p-tuning with NeMo."
   ]
  },
  {
   "cell_type": "code",
   "execution_count": null,
   "id": "ce77660b",
   "metadata": {},
   "outputs": [],
   "source": [
    "!python3 data/split_financial_phrase_data.py --data_path data/FinancialPhraseBank-v1.0/financial_phrase_bank_train.jsonl --num_clients 3 --out_dir data/FinancialPhraseBank-v1.0_split"
   ]
  },
  {
   "cell_type": "markdown",
   "id": "1d263b71",
   "metadata": {},
   "source": [
    "## Federated learning simulations\n",
    "Next, we are using NVFlare's [simulator](https://nvflare.readthedocs.io/en/latest/user_guide/fl_simulator.html) to simulate each client training on their own dataset locally and all three clients training together using the [FedAvg](https://arxiv.org/abs/1602.05629) algorithm implemented in NVFlare.\n",
    "\n",
    "With this setting, we require a GPU with at least 16GB of memory to run all clients in parallel on the same GPU. \n",
    "If you have multiple GPUs in your system, you can use the `gpu` argument to assign one GPU for each client, e.g., `gpu=\"0,1\"`.\n",
    "\n",
    "We will use NVFlare's job command for each setting to create the configurations needed to train the models based on the [sag_nemo](https://github.com/NVIDIA/NVFlare/blob/main/job_templates/sag_pt_deploy_map/info.md) job template. This template allows the definition of different configurations for each client, which we will use to assign their local training data file to each of them."
   ]
  },
  {
   "cell_type": "markdown",
   "id": "54f83006",
   "metadata": {},
   "source": [
    "#### 1. Convert NeMo PEFT script to FL\n",
    "\n",
    "To run NeMo in an FL scenario, we convert the NeMo [PEFT script](https://github.com/NVIDIA/NeMo/blob/main/examples/nlp/language_modeling/tuning/megatron_gpt_peft_tuning.py) using the new lightning client API. \n",
    "\n",
    "This conversion can be done with only a few lines of code changes, as highlighted in the figure below:\n",
    "\n",
    "1. Import nvflare lightning api\n",
    "2. Patch your lightning trainer\n",
    "3. (Optionally) validate the current global model\n",
    "4. Train as usually\n",
    "\n",
    "<div>\n",
    "<img src=\"./figs/lightning_client_api.png\" alt=\"Drawing\" style=\"width: 600px;\"/>\n",
    "</div>\n",
    "\n",
    "You can directly use all the PEFT methods implemented in the NeMo script, by changing the value of [peft_scheme](./code/megatron_gpt_peft_tuning_config.yaml) in the client configuration shown below accordingly:\n",
    "* p-tuning\n",
    "* adapter + p-tuning\n",
    "* adapter\n",
    "* LoRa\n",
    "* ia3\n",
    "\n",
    "<div>\n",
    "<img src=\"./figs/peft_config.png\" alt=\"PEFT config\" style=\"width: 400px;\"/>\n",
    "</div>\n",
    "\n",
    "In this example, we will use p-tuning to run the following experiments."
   ]
  },
  {
   "cell_type": "markdown",
   "id": "4cb5d24c",
   "metadata": {},
   "source": [
    "#### 1. Local P-Tuning\n",
    "First, we create the job files and modify them to include the data paths for each client and the pre-trained LLM using the `-f` option.\n",
    "Note, the `app_config` options are specific to the app script (`megatron_gpt_peft_tuning.py`) and modify variables in the NeMo config file (`megatron_gpt_peft_tuning_config.yaml`) directly on execution.\n",
    "\n",
    "At this point, we also modify the local number of clients, local epochs and FL rounds to simulate local training.\n",
    "\n",
    "The PEFT method is p-tuning."
   ]
  },
  {
   "cell_type": "code",
   "execution_count": null,
   "id": "66ee00da",
   "metadata": {
    "scrolled": true
   },
   "outputs": [],
   "source": [
    "%env NVFLARE_HOME=/home/hroth/Code2/nvflare/nemo_peft_example\n",
    "!python3 -m pip install -e /home/hroth/Code2/nvflare/nemo_peft_example\n",
    "\n",
    "import os\n",
    "peft_scheme=\"model.peft.peft_scheme\\=ptuning\" # can be either ptuning, adapter, lora, or ia3\n",
    "app_script=\"megatron_gpt_peft_tuning.py\"\n",
    "restore_from_path=f\"model.restore_from_path\\={os. getcwd()}/megatron_gpt_345m.nemo\"\n",
    "trainer_config=\"trainer.max_steps\\=2000 trainer.val_check_interval\\=10\"\n",
    "val_files=f\"model.data.validation_ds.file_names\\=\\[{os. getcwd()}/data/FinancialPhraseBank-v1.0/financial_phrase_bank_val.jsonl\\]\"\n",
    "train_files_prefix=f\"model.data.train_ds.file_names\\=\\[{os. getcwd()}/data/FinancialPhraseBank-v1.0_split/site\"\n",
    "\n",
    "!nvflare job create -force -j \"./jobs/peft_p-tuning_local_345M\" -w \"sag_nemo\" -sd \"code\" \\\n",
    "   -f app_1/config_fed_client.conf app_script={app_script} app_config=\"{peft_scheme} {restore_from_path} {trainer_config} {val_files} {train_files_prefix}-1.jsonl\\]\" \\\n",
    "   -f app_2/config_fed_client.conf app_script={app_script} app_config=\"{peft_scheme} {restore_from_path} {trainer_config} {val_files} {train_files_prefix}-2.jsonl\\]\" \\\n",
    "   -f app_3/config_fed_client.conf app_script={app_script} app_config=\"{peft_scheme} {restore_from_path} {trainer_config} {val_files} {train_files_prefix}-3.jsonl\\]\" \\\n",
    "   -f app_server/config_fed_server.conf num_rounds=1"
   ]
  },
  {
   "cell_type": "markdown",
   "id": "dcc8938d",
   "metadata": {},
   "source": [
    "Next, simulate each client p-tuning on their local dataset using the FL simulator. To do this, we only run 1 round of FL, with each client running 50 p-tuning epochs on their local dataset."
   ]
  },
  {
   "cell_type": "code",
   "execution_count": null,
   "id": "b0bff18b",
   "metadata": {
    "scrolled": true
   },
   "outputs": [],
   "source": [
    "from nvflare import SimulatorRunner    \n",
    "\n",
    "simulator = SimulatorRunner(\n",
    "    job_folder=\"jobs/peft_p-tuning_local_345M\",\n",
    "    workspace=\"/tmp/nvflare/nemo/peft_p-tuning_local_345M\",\n",
    "    n_clients=3,\n",
    "    threads=3\n",
    ")\n",
    "run_status = simulator.run()\n",
    "print(\"Simulator finished with run_status\", run_status)"
   ]
  },
  {
   "cell_type": "markdown",
   "id": "08c94fa1",
   "metadata": {},
   "source": [
    "#### 2. Federated P-Tuning\n",
    "Next, we use the [FedAvg](https://arxiv.org/abs/1602.05629) algorithm to p-tune the model in a federated scenario. First, create and modify the configuration files again. \n",
    "This time, we increase the number of FL rounds and decrease the number of local epochs per round to match the federated scenario."
   ]
  },
  {
   "cell_type": "code",
   "execution_count": null,
   "id": "ee187289",
   "metadata": {
    "scrolled": true
   },
   "outputs": [],
   "source": [
    "#!python3 create_configs.py --job_folder \"jobs/peft_p-tuning_fedavg_345M\" --num_clients 3 --max_steps 200 --num_rounds 50\n",
    "import os\n",
    "peft_scheme=\"model.peft.peft_scheme\\=ptuning\" # can be either ptuning, adapter, lora, or ia3\n",
    "app_script=\"megatron_gpt_peft_tuning.py\"\n",
    "restore_from_path=f\"model.restore_from_path\\={os. getcwd()}/megatron_gpt_345m.nemo\"\n",
    "trainer_config=\"trainer.max_steps\\=200 trainer.val_check_interval\\=10\"\n",
    "val_files=f\"model.data.validation_ds.file_names\\=\\[{os. getcwd()}/data/FinancialPhraseBank-v1.0/financial_phrase_bank_val.jsonl\\]\"\n",
    "train_files_prefix=f\"model.data.train_ds.file_names\\=\\[{os. getcwd()}/data/FinancialPhraseBank-v1.0_split/site\"\n",
    "\n",
    "!nvflare job create -force -j \"./jobs/peft_p-tuning_fedavg_345M\" -w \"sag_nemo\" -sd \"code\" \\\n",
    "   -f app_1/config_fed_client.conf app_script={app_script} app_config=\"{peft_scheme} {restore_from_path} {trainer_config} {val_files} {train_files_prefix}-1.jsonl\\]\" \\\n",
    "   -f app_2/config_fed_client.conf app_script={app_script} app_config=\"{peft_scheme} {restore_from_path} {trainer_config} {val_files} {train_files_prefix}-2.jsonl\\]\" \\\n",
    "   -f app_3/config_fed_client.conf app_script={app_script} app_config=\"{peft_scheme} {restore_from_path} {trainer_config} {val_files} {train_files_prefix}-3.jsonl\\]\" \\\n",
    "   -f app_server/config_fed_server.conf num_rounds=10"
   ]
  },
  {
   "cell_type": "markdown",
   "id": "22bf679d",
   "metadata": {},
   "source": [
    "Next, simulate the federated p-tuning using FedAvg. Here, each client p-tunes for one local epoch before sending their local model updates to the server for aggregation. This is repeated for 50 FL rounds."
   ]
  },
  {
   "cell_type": "code",
   "execution_count": null,
   "id": "04031989",
   "metadata": {
    "scrolled": true
   },
   "outputs": [],
   "source": [
    "from nvflare import SimulatorRunner    \n",
    "\n",
    "simulator = SimulatorRunner(\n",
    "    job_folder=\"jobs/peft_p-tuning_fedavg_345M\",\n",
    "    workspace=\"/tmp/nvflare/nemo/peft_p-tuning_fedavg_345M\",\n",
    "    n_clients=3,\n",
    "    threads=3\n",
    ")\n",
    "run_status = simulator.run()\n",
    "print(\"Simulator finished with run_status\", run_status)"
   ]
  },
  {
   "cell_type": "markdown",
   "id": "edc315e9",
   "metadata": {},
   "source": [
    "You can visualize the training process using TensorBoard"
   ]
  },
  {
   "cell_type": "code",
   "execution_count": null,
   "id": "ff369e4c",
   "metadata": {},
   "outputs": [],
   "source": [
    "!tensorboard --logdir /tmp/nvflare/nemo"
   ]
  },
  {
   "cell_type": "markdown",
   "id": "8b46e20e",
   "metadata": {},
   "source": [
    "## Results\n",
    "In this scenario, all clients utilize the same validation set, allowing for a direct comparison between the locally p-tuned and federated global models. As anticipated, the FedAvg-trained models achieve a higher overall mean accuracy than those trained solely on their local datasets. This is because the global model has access to all client datasets and can, consequently, generalize better.\n",
    "\n",
    "![validation loss](./figs/val_accuracy.svg)"
   ]
  },
  {
   "cell_type": "markdown",
   "id": "a2f43bc9",
   "metadata": {},
   "source": [
    "## Inference\n",
    "\n",
    "We can use `model.generate()` to run inference after p-tuning the model. \n",
    "Let's define some test examples to feed to the p-tuned model to see its predictions."
   ]
  },
  {
   "cell_type": "code",
   "execution_count": null,
   "id": "39ec6c17",
   "metadata": {},
   "outputs": [],
   "source": [
    "test_examples = [\n",
    "    {\"taskname\": \"sentiment\", \"sentence\": \"The products have a low salt and fat content .\"},\n",
    "    {\"taskname\": \"sentiment\", \"sentence\": \"The agreement is valid for four years .\"},\n",
    "    {\"taskname\": \"sentiment\", \"sentence\": \"Diluted EPS rose to EUR3 .68 from EUR0 .50 .\"},\n",
    "    {\"taskname\": \"sentiment\", \"sentence\": \"The company is well positioned in Brazil and Uruguay .\"},\n",
    "    {\"taskname\": \"sentiment\", \"sentence\": \"Profit before taxes decreased by 9 % to EUR 187.8 mn in the first nine months of 2008 , compared to EUR 207.1 mn a year earlier .\"},\n",
    "]"
   ]
  },
  {
   "cell_type": "markdown",
   "id": "0d4333d4",
   "metadata": {},
   "source": [
    "Next, we will load the global model."
   ]
  },
  {
   "cell_type": "code",
   "execution_count": null,
   "id": "eb06751a",
   "metadata": {},
   "outputs": [],
   "source": [
    "import torch\n",
    "from nemo.collections.nlp.models.language_modeling.megatron_gpt_sft_model import MegatronGPTSFTModel\n",
    "from nemo.collections.nlp.parts.megatron_trainer_builder import MegatronLMPPTrainerBuilder\n",
    "from nemo.collections.nlp.parts.peft_config import PEFT_CONFIG_MAP\n",
    "from omegaconf import OmegaConf\n",
    "\n",
    "# Load model configuration used by one of the clients\n",
    "config = OmegaConf.load(\"jobs/gpt_p-tuning_fedavg_345M/server/config/megatron_gpt_prompt_learning_config.yaml\")\n",
    "\n",
    "# Set GPT model path\n",
    "config.model.language_model_path = \"megatron_gpt_345m.nemo\"\n",
    "\n",
    "\n",
    "\n",
    "\n",
    "\n",
    "# Load model configuration\n",
    "cfg = OmegaConf.load(os.path.join(app_root, self.config_path))\n",
    "\n",
    "# Build trainer\n",
    "trainer = MegatronLMPPTrainerBuilder(cfg).create_trainer()\n",
    "\n",
    "# Set restore from paths with pre-trained model(s)\n",
    "cfg.model.restore_from_path = os.path.join(app_root, self.restore_from_path)\n",
    "if self.peft_restore_from_path is not None:\n",
    "    cfg.model.peft.restore_from_path = os.path.join(app_root, self.peft_restore_from_path)\n",
    "\n",
    "# Set some dummy data file names (which will not be used and do not need to exist)\n",
    "cfg.model.data.train_ds.file_names = [\"dummy.jsonl\"]\n",
    "cfg.model.data.validation_ds.file_names = [\"dummy.jsonl\"]\n",
    "\n",
    "model_cfg = MegatronGPTSFTModel.merge_cfg_with(cfg.model.restore_from_path, cfg)\n",
    "self.model = MegatronGPTSFTModel.restore_from(cfg.model.restore_from_path, model_cfg, trainer=trainer)\n",
    "peft_cfg_cls = PEFT_CONFIG_MAP[cfg.model.peft.peft_scheme]\n",
    "\n",
    "if cfg.model.peft.restore_from_path is not None:\n",
    "    # initialize peft weights from a checkpoint instead of randomly\n",
    "    # This is not the same as resume training because optimizer states are not restored.\n",
    "    logging.info(\"PEFT Weights will be loaded from\", cfg.model.peft.restore_from_path)\n",
    "    self.model.load_adapters(cfg.model.peft.restore_from_path, peft_cfg_cls(model_cfg))\n",
    "elif peft_cfg_cls is not None:\n",
    "    logging.info(\"Adding adapter weights to the model for PEFT\")\n",
    "    self.model.add_adapter(peft_cfg_cls(model_cfg))\n",
    "else:\n",
    "    self.use_sft = True\n",
    "    logging.info(f\"Running full finetuning since no peft scheme is given.\\n{self.model.summarize()}\")\n",
    "\n",
    "print(\"Model initialized\", type(model))"
   ]
  },
  {
   "cell_type": "markdown",
   "id": "927d5e45",
   "metadata": {},
   "source": [
    "Overwrite the prompt encoder with the best global model"
   ]
  },
  {
   "cell_type": "code",
   "execution_count": null,
   "id": "1853f52e",
   "metadata": {},
   "outputs": [],
   "source": [
    "#ckpt = torch.load(\"/tmp/nvflare/nemo/gpt_p-tuning_fedavg_345M/simulate_job/app_server/best_FL_global_model.pt\")\n",
    "#global_weights = ckpt[\"model\"]\n",
    "\n",
    "#n_loaded = load_weights(model, global_weights, device=torch.device(\"cuda:0\" if torch.cuda.is_available() else \"cpu\"))\n",
    "#print(f\"Loaded {n_loaded} of {len(global_weights)} weights\")"
   ]
  },
  {
   "cell_type": "markdown",
   "id": "e75aecce",
   "metadata": {},
   "source": [
    "Run the model"
   ]
  },
  {
   "cell_type": "code",
   "execution_count": null,
   "id": "5168af3d",
   "metadata": {},
   "outputs": [],
   "source": [
    "response = model.generate(inputs=test_examples, length_params=None)\n",
    "\n",
    "print('The prediction results of some sample queries with the trained model:')\n",
    "for result in response['sentences']:\n",
    "    print(result)\n",
    "    print(\"-\" * 30)"
   ]
  },
  {
   "cell_type": "markdown",
   "id": "fdd27bb2",
   "metadata": {},
   "source": [
    "The expected output predictions look something like this\n",
    "\n",
    ">      The products have a low salt and fat content . sentiment: neutral\n",
    ">      ------------------------------\n",
    ">      The agreement is valid for four years . sentiment: neutral\n",
    ">      ------------------------------\n",
    ">      Diluted EPS rose to EUR3 .68 from EUR0 .50 . sentiment: positive\n",
    ">      ------------------------------\n",
    ">      The company is well positioned in Brazil and Uruguay . sentiment: positive\n",
    ">      ------------------------------\n",
    ">      Profit before taxes decreased by 9 % to EUR 187.8 mn in the first nine months of 2008 , compared to EUR 207.1 mn a year earlier . sentiment: negative\n",
    ">      ------------------------------"
   ]
  },
  {
   "cell_type": "code",
   "execution_count": null,
   "id": "7da7bfff",
   "metadata": {},
   "outputs": [],
   "source": []
  }
 ],
 "metadata": {
  "kernelspec": {
   "display_name": "Python 3 (ipykernel)",
   "language": "python",
   "name": "python3"
  },
  "language_info": {
   "codemirror_mode": {
    "name": "ipython",
    "version": 3
   },
   "file_extension": ".py",
   "mimetype": "text/x-python",
   "name": "python",
   "nbconvert_exporter": "python",
   "pygments_lexer": "ipython3",
   "version": "3.10.12"
  }
 },
 "nbformat": 4,
 "nbformat_minor": 5
}
